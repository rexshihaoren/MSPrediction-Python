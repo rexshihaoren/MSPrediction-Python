{
 "metadata": {
  "name": "",
  "signature": "sha256:73716b22b6009092e5b786bd3a3a38ac0d854da7780a3b39edc477f0409bbd91"
 },
 "nbformat": 3,
 "nbformat_minor": 0,
 "worksheets": [
  {
   "cells": [
    {
     "cell_type": "code",
     "collapsed": false,
     "input": [
      "from MSPred import *"
     ],
     "language": "python",
     "metadata": {},
     "outputs": [],
     "prompt_number": 1
    },
    {
     "cell_type": "code",
     "collapsed": false,
     "input": [
      "classifiers1\n",
      "data_path = './data/predData.h5'\n",
      "param_dist_dict"
     ],
     "language": "python",
     "metadata": {},
     "outputs": [
      {
       "metadata": {},
       "output_type": "pyout",
       "prompt_number": 2,
       "text": [
        "{'BayesBernoulli': {'alpha': array([ 0.1,  0.2,  0.3,  0.4,  0.5,  0.6,  0.7,  0.8,  0.9,  1. ]),\n",
        "  'binarize': array([ 0.1,  0.2,  0.3,  0.4,  0.5,  0.6,  0.7,  0.8,  0.9,  1. ])},\n",
        " 'BayesGaussian': None,\n",
        " 'BayesGaussian2': None,\n",
        " 'BayesMixed': None,\n",
        " 'BayesMixed2': None,\n",
        " 'BayesMultinomial': {'alpha': array([ 0.1,  0.2,  0.3,  0.4,  0.5,  0.6,  0.7,  0.8,  0.9,  1. ])},\n",
        " 'BayesPoisson': None,\n",
        " 'KNN': {'algorithm': ['auto', 'ball_tree', 'kd_tree'],\n",
        "  'leaf_size': [25, 26, 27, 28, 29],\n",
        "  'n_neighbors': [1, 2, 3, 4, 5],\n",
        "  'p': [1, 2]},\n",
        " 'LinearRegression': {'fit_intercept': [True, False],\n",
        "  'normalize': [True, False]},\n",
        " 'LogisticRegression': {'C': array([ 0.1,  0.2,  0.3,  0.4,  0.5,  0.6,  0.7,  0.8,  0.9,  1. ]),\n",
        "  'fit_intercept': [True, False],\n",
        "  'intercept_scaling': array([ 0.1,  0.2,  0.3,  0.4,  0.5,  0.6,  0.7,  0.8,  0.9,  1. ]),\n",
        "  'penalty': ['l1', 'l2'],\n",
        "  'tol': [0.0001, 1e-05, 1e-06]},\n",
        " 'RandomForest': {'bootstrap': [True, False],\n",
        "  'criterion': ['gini', 'entropy'],\n",
        "  'max_features': [2, 3, 4, 5, 6],\n",
        "  'min_samples_leaf': [2, 3, 4, 5, 6, 7, 8, 9],\n",
        "  'min_samples_split': [2, 3, 4, 5, 6, 7, 8, 9],\n",
        "  'n_estimators': [50, 100, 150, 200, 250]},\n",
        " 'SVM': {'C': array([ 0.1,  0.2,  0.3,  0.4,  0.5,  0.6,  0.7,  0.8,  0.9,  1. ]),\n",
        "  'kernel': ['linear', 'poly', 'rbf'],\n",
        "  'shrinking': [True, False],\n",
        "  'tol': [0.001, 0.0001]}}"
       ]
      }
     ],
     "prompt_number": 2
    },
    {
     "cell_type": "code",
     "collapsed": false,
     "input": [
      "obj = 'Core'\n",
      "target = 'ModEDSS'\n",
      "clfName = 'RandomForest'\n",
      "clf = classifiers1[clfName]\n",
      "param_dict = param_dist_dict[clfName]\n",
      "X, y, featureNames = pred_prep(data_path, obj, target)\n",
      "try:\n",
      "    num_features = X.shape[1]\n",
      "except IndexError:\n",
      "    X = X.reshape(X.shape[0], 1)\n",
      "    num_features = 1\n",
      "random_forest_params[\"max_features\"] = range(1, num_features + 1)"
     ],
     "language": "python",
     "metadata": {},
     "outputs": [],
     "prompt_number": 3
    },
    {
     "cell_type": "code",
     "collapsed": false,
     "input": [
      "a,b,c,d = testAlgo(clf, X, y, clfName, featureNames, True, param_dict, n_iter = 3, folds = 10, times = 2)"
     ],
     "language": "python",
     "metadata": {},
     "outputs": [
      {
       "output_type": "stream",
       "stream": "stdout",
       "text": [
        "0 iteration of testAlgo\n",
        "Fitting 3 folds for each of 3 candidates, totalling 9 fits\n"
       ]
      },
      {
       "output_type": "stream",
       "stream": "stderr",
       "text": [
        "[Parallel(n_jobs=-1)]: Done   1 out of   9 | elapsed:    0.7s remaining:    5.8s\n",
        "[Parallel(n_jobs=-1)]: Done   7 out of   9 | elapsed:    1.0s remaining:    0.3s\n",
        "[Parallel(n_jobs=-1)]: Done   9 out of   9 | elapsed:    1.3s finished\n"
       ]
      },
      {
       "output_type": "stream",
       "stream": "stdout",
       "text": [
        "\n",
        "\n",
        "####### Optimal parameters: #########\n",
        "{'bootstrap': True,\n",
        " 'criterion': 'gini',\n",
        " 'max_features': 4,\n",
        " 'min_samples_leaf': 9,\n",
        " 'min_samples_split': 9,\n",
        " 'n_estimators': 200}\n",
        "############################## \n",
        "\n",
        "Fitting 3 folds for each of 3 candidates, totalling 9 fits\n",
        "[CV] bootstrap=True, min_samples_leaf=4, n_estimators=200, max_features=2, criterion=entropy, min_samples_split=7 \n",
        "[CV] bootstrap=True, min_samples_leaf=4, n_estimators=200, max_features=2, criterion=entropy, min_samples_split=7 \n",
        "[CV] bootstrap=True, min_samples_leaf=4, n_estimators=200, max_features=2, criterion=entropy, min_samples_split=7 \n",
        "[CV] bootstrap=True, min_samples_leaf=9, n_estimators=200, max_features=4, criterion=gini, min_samples_split=9 \n",
        "[CV]  bootstrap=True, min_samples_leaf=4, n_estimators=200, max_features=2, criterion=entropy, min_samples_split=7, score=0.734852 -   0.7s[CV]  bootstrap=True, min_samples_leaf=4, n_estimators=200, max_features=2, criterion=entropy, min_samples_split=7, score=0.741580 -   0.6s[CV]  bootstrap=True, min_samples_leaf=4, n_estimators=200, max_features=2, criterion=entropy, min_samples_split=7, score=0.718547 -   0.6s[CV]  bootstrap=True, min_samples_leaf=9, n_estimators=200, max_features=4, criterion=gini, min_samples_split=9, score=0.741331 -   0.8s\n",
        "\n",
        "\n",
        "\n",
        "[CV] bootstrap=False, min_samples_leaf=5, n_estimators=100, max_features=1, criterion=gini, min_samples_split=6 \n",
        "[CV] bootstrap=True, min_samples_leaf=9, n_estimators=200, max_features=4, criterion=gini, min_samples_split=9 \n",
        "[CV] bootstrap=True, min_samples_leaf=9, n_estimators=200, max_features=4, criterion=gini, min_samples_split=9 \n",
        "[CV] bootstrap=False, min_samples_leaf=5, n_estimators=100, max_features=1, criterion=gini, min_samples_split=6 \n",
        "[CV]  bootstrap=False, min_samples_leaf=5, n_estimators=100, max_features=1, criterion=gini, min_samples_split=6, score=0.734847 -   0.3s[CV]  bootstrap=True, min_samples_leaf=9, n_estimators=200, max_features=4, criterion=gini, min_samples_split=9, score=0.729983 -   0.6s[CV]  bootstrap=True, min_samples_leaf=9, n_estimators=200, max_features=4, criterion=gini, min_samples_split=9, score=0.752068 -   0.6s[CV]  bootstrap=False, min_samples_leaf=5, n_estimators=100, max_features=1, criterion=gini, min_samples_split=6, score=0.737630 -   0.2s\n",
        "\n",
        "\n",
        "\n",
        "[CV] bootstrap=False, min_samples_leaf=5, n_estimators=100, max_features=1, criterion=gini, min_samples_split=6 \n",
        "[CV]  bootstrap=False, min_samples_leaf=5, n_estimators=100, max_features=1, criterion=gini, min_samples_split=6, score=0.721899 -   0.2s\n"
       ]
      },
      {
       "output_type": "stream",
       "stream": "stderr",
       "text": [
        "[Parallel(n_jobs=-1)]: Done   1 out of   9 | elapsed:    0.5s remaining:    4.1s\n",
        "[Parallel(n_jobs=-1)]: Done   7 out of   9 | elapsed:    1.5s remaining:    0.4s\n",
        "[Parallel(n_jobs=-1)]: Done   9 out of   9 | elapsed:    1.9s finished\n"
       ]
      },
      {
       "output_type": "stream",
       "stream": "stdout",
       "text": [
        "\n",
        "\n",
        "####### Optimal parameters: #########\n",
        "{'bootstrap': True,\n",
        " 'criterion': 'gini',\n",
        " 'max_features': 1,\n",
        " 'min_samples_leaf': 5,\n",
        " 'min_samples_split': 6,\n",
        " 'n_estimators': 250}\n",
        "############################## \n",
        "\n",
        "Fitting 3 folds for each of 3 candidates, totalling 9 fits\n",
        "[CV] bootstrap=True, min_samples_leaf=5, n_estimators=250, max_features=1, criterion=gini, min_samples_split=6 \n",
        "[CV] bootstrap=True, min_samples_leaf=5, n_estimators=250, max_features=1, criterion=gini, min_samples_split=6 \n",
        "[CV] bootstrap=True, min_samples_leaf=5, n_estimators=250, max_features=1, criterion=gini, min_samples_split=6 \n",
        "[CV] bootstrap=True, min_samples_leaf=8, n_estimators=250, max_features=3, criterion=entropy, min_samples_split=6 \n",
        "[CV]  bootstrap=True, min_samples_leaf=5, n_estimators=250, max_features=1, criterion=gini, min_samples_split=6, score=0.753149 -   0.5s[CV]  bootstrap=True, min_samples_leaf=5, n_estimators=250, max_features=1, criterion=gini, min_samples_split=6, score=0.770204 -   0.5s[CV]  bootstrap=True, min_samples_leaf=5, n_estimators=250, max_features=1, criterion=gini, min_samples_split=6, score=0.741792 -   0.4s[CV]  bootstrap=True, min_samples_leaf=8, n_estimators=250, max_features=3, criterion=entropy, min_samples_split=6, score=0.749471 -   1.0s\n",
        "\n",
        "\n",
        "\n",
        "[CV] bootstrap=True, min_samples_leaf=2, n_estimators=250, max_features=2, criterion=entropy, min_samples_split=8 \n",
        "[CV] bootstrap=True, min_samples_leaf=8, n_estimators=250, max_features=3, criterion=entropy, min_samples_split=6 \n",
        "[CV] bootstrap=True, min_samples_leaf=8, n_estimators=250, max_features=3, criterion=entropy, min_samples_split=6 \n",
        "[CV] bootstrap=True, min_samples_leaf=2, n_estimators=250, max_features=2, criterion=entropy, min_samples_split=8 \n",
        "[CV]  bootstrap=True, min_samples_leaf=2, n_estimators=250, max_features=2, criterion=entropy, min_samples_split=8, score=0.739799 -   1.0s[CV]  bootstrap=True, min_samples_leaf=8, n_estimators=250, max_features=3, criterion=entropy, min_samples_split=6, score=0.737277 -   0.9s[CV]  bootstrap=True, min_samples_leaf=8, n_estimators=250, max_features=3, criterion=entropy, min_samples_split=6, score=0.764954 -   0.9s[CV]  bootstrap=True, min_samples_leaf=2, n_estimators=250, max_features=2, criterion=entropy, min_samples_split=8, score=0.755657 -   0.7s\n",
        "\n",
        "\n",
        "\n",
        "[CV] bootstrap=True, min_samples_leaf=2, n_estimators=250, max_features=2, criterion=entropy, min_samples_split=8 \n",
        "[CV]  bootstrap=True, min_samples_leaf=2, n_estimators=250, max_features=2, criterion=entropy, min_samples_split=8, score=0.731878 -   0.5s\n"
       ]
      },
      {
       "output_type": "stream",
       "stream": "stderr",
       "text": [
        "[Parallel(n_jobs=-1)]: Done   1 out of   9 | elapsed:    0.5s remaining:    4.0s\n",
        "[Parallel(n_jobs=-1)]: Done   7 out of   9 | elapsed:    1.1s remaining:    0.3s\n",
        "[Parallel(n_jobs=-1)]: Done   9 out of   9 | elapsed:    1.2s finished\n"
       ]
      },
      {
       "output_type": "stream",
       "stream": "stdout",
       "text": [
        "\n",
        "\n",
        "####### Optimal parameters: #########\n",
        "{'bootstrap': True,\n",
        " 'criterion': 'gini',\n",
        " 'max_features': 1,\n",
        " 'min_samples_leaf': 9,\n",
        " 'min_samples_split': 5,\n",
        " 'n_estimators': 250}\n",
        "############################## \n",
        "\n",
        "Fitting 3 folds for each of 3 candidates, totalling 9 fits\n",
        "[CV] bootstrap=True, min_samples_leaf=3, n_estimators=100, max_features=3, criterion=entropy, min_samples_split=2 \n",
        "[CV] bootstrap=True, min_samples_leaf=3, n_estimators=100, max_features=3, criterion=entropy, min_samples_split=2 \n",
        "[CV] bootstrap=True, min_samples_leaf=3, n_estimators=100, max_features=3, criterion=entropy, min_samples_split=2 \n",
        "[CV] bootstrap=True, min_samples_leaf=9, n_estimators=250, max_features=1, criterion=gini, min_samples_split=5 \n",
        "[CV]  bootstrap=True, min_samples_leaf=3, n_estimators=100, max_features=3, criterion=entropy, min_samples_split=2, score=0.742212 -   0.5s[CV]  bootstrap=True, min_samples_leaf=3, n_estimators=100, max_features=3, criterion=entropy, min_samples_split=2, score=0.747059 -   0.4s[CV]  bootstrap=True, min_samples_leaf=3, n_estimators=100, max_features=3, criterion=entropy, min_samples_split=2, score=0.718113 -   0.4s[CV]  bootstrap=True, min_samples_leaf=9, n_estimators=250, max_features=1, criterion=gini, min_samples_split=5, score=0.777185 -   0.5s\n",
        "\n",
        "\n",
        "\n",
        "[CV] bootstrap=True, min_samples_leaf=3, n_estimators=200, max_features=2, criterion=gini, min_samples_split=4 \n",
        "[CV] bootstrap=True, min_samples_leaf=9, n_estimators=250, max_features=1, criterion=gini, min_samples_split=5 \n",
        "[CV] bootstrap=True, min_samples_leaf=9, n_estimators=250, max_features=1, criterion=gini, min_samples_split=5 \n",
        "[CV] bootstrap=True, min_samples_leaf=3, n_estimators=200, max_features=2, criterion=gini, min_samples_split=4 \n",
        "[CV]  bootstrap=True, min_samples_leaf=3, n_estimators=200, max_features=2, criterion=gini, min_samples_split=4, score=0.752774 -   0.5s[CV]  bootstrap=True, min_samples_leaf=9, n_estimators=250, max_features=1, criterion=gini, min_samples_split=5, score=0.741087 -   0.5s[CV]  bootstrap=True, min_samples_leaf=9, n_estimators=250, max_features=1, criterion=gini, min_samples_split=5, score=0.770921 -   0.5s[CV]  bootstrap=True, min_samples_leaf=3, n_estimators=200, max_features=2, criterion=gini, min_samples_split=4, score=0.750455 -   0.5s\n",
        "\n",
        "\n",
        "\n",
        "[CV] bootstrap=True, min_samples_leaf=3, n_estimators=200, max_features=2, criterion=gini, min_samples_split=4 \n",
        "[CV]  bootstrap=True, min_samples_leaf=3, n_estimators=200, max_features=2, criterion=gini, min_samples_split=4, score=0.729205 -   0.4s\n"
       ]
      },
      {
       "output_type": "stream",
       "stream": "stderr",
       "text": [
        "[Parallel(n_jobs=-1)]: Done   1 out of   9 | elapsed:    0.5s remaining:    4.3s\n",
        "[Parallel(n_jobs=-1)]: Done   7 out of   9 | elapsed:    1.2s remaining:    0.3s\n",
        "[Parallel(n_jobs=-1)]: Done   9 out of   9 | elapsed:    1.2s finished\n"
       ]
      },
      {
       "output_type": "stream",
       "stream": "stdout",
       "text": [
        "\n",
        "\n",
        "####### Optimal parameters: #########\n",
        "{'bootstrap': True,\n",
        " 'criterion': 'gini',\n",
        " 'max_features': 1,\n",
        " 'min_samples_leaf': 6,\n",
        " 'min_samples_split': 9,\n",
        " 'n_estimators': 100}\n",
        "############################## \n",
        "\n",
        "Fitting 3 folds for each of 3 candidates, totalling 9 fits\n",
        "[CV] bootstrap=False, min_samples_leaf=6, n_estimators=50, max_features=4, criterion=gini, min_samples_split=7 \n",
        "[CV] bootstrap=False, min_samples_leaf=6, n_estimators=50, max_features=4, criterion=gini, min_samples_split=7 \n",
        "[CV] bootstrap=False, min_samples_leaf=6, n_estimators=50, max_features=4, criterion=gini, min_samples_split=7 \n",
        "[CV] bootstrap=True, min_samples_leaf=6, n_estimators=100, max_features=1, criterion=gini, min_samples_split=9 \n",
        "[CV]  bootstrap=False, min_samples_leaf=6, n_estimators=50, max_features=4, criterion=gini, min_samples_split=7, score=0.718336 -   0.5s[CV]  bootstrap=False, min_samples_leaf=6, n_estimators=50, max_features=4, criterion=gini, min_samples_split=7, score=0.700690 -   0.4s[CV]  bootstrap=False, min_samples_leaf=6, n_estimators=50, max_features=4, criterion=gini, min_samples_split=7, score=0.689344 -   0.4s[CV]  bootstrap=True, min_samples_leaf=6, n_estimators=100, max_features=1, criterion=gini, min_samples_split=9, score=0.775742 -   0.3s\n",
        "\n",
        "\n",
        "\n",
        "[CV] bootstrap=True, min_samples_leaf=4, n_estimators=150, max_features=4, criterion=gini, min_samples_split=5 \n",
        "[CV] bootstrap=True, min_samples_leaf=4, n_estimators=150, max_features=4, criterion=gini, min_samples_split=5 \n",
        "[CV] bootstrap=True, min_samples_leaf=6, n_estimators=100, max_features=1, criterion=gini, min_samples_split=9 \n",
        "[CV] bootstrap=True, min_samples_leaf=6, n_estimators=100, max_features=1, criterion=gini, min_samples_split=9 \n",
        "[CV]  bootstrap=True, min_samples_leaf=4, n_estimators=150, max_features=4, criterion=gini, min_samples_split=5, score=0.742800 -   0.7s[CV]  bootstrap=True, min_samples_leaf=4, n_estimators=150, max_features=4, criterion=gini, min_samples_split=5, score=0.752789 -   0.8s[CV]  bootstrap=True, min_samples_leaf=6, n_estimators=100, max_features=1, criterion=gini, min_samples_split=9, score=0.736724 -   0.3s[CV]  bootstrap=True, min_samples_leaf=6, n_estimators=100, max_features=1, criterion=gini, min_samples_split=9, score=0.773669 -   0.3s\n",
        "\n",
        "\n",
        "\n",
        "[CV] bootstrap=True, min_samples_leaf=4, n_estimators=150, max_features=4, criterion=gini, min_samples_split=5 \n",
        "[CV]  bootstrap=True, min_samples_leaf=4, n_estimators=150, max_features=4, criterion=gini, min_samples_split=5, score=0.720791 -   0.5s\n"
       ]
      },
      {
       "output_type": "stream",
       "stream": "stderr",
       "text": [
        "[Parallel(n_jobs=-1)]: Done   1 out of   9 | elapsed:    0.8s remaining:    6.6s\n",
        "[Parallel(n_jobs=-1)]: Done   7 out of   9 | elapsed:    1.5s remaining:    0.4s\n",
        "[Parallel(n_jobs=-1)]: Done   9 out of   9 | elapsed:    1.5s finished\n"
       ]
      },
      {
       "output_type": "stream",
       "stream": "stdout",
       "text": [
        "\n",
        "\n",
        "####### Optimal parameters: #########\n",
        "{'bootstrap': True,\n",
        " 'criterion': 'gini',\n",
        " 'max_features': 3,\n",
        " 'min_samples_leaf': 9,\n",
        " 'min_samples_split': 4,\n",
        " 'n_estimators': 250}\n",
        "############################## \n",
        "\n",
        "Fitting 3 folds for each of 3 candidates, totalling 9 fits\n",
        "[CV] bootstrap=True, min_samples_leaf=9, n_estimators=250, max_features=3, criterion=gini, min_samples_split=4 \n",
        "[CV] bootstrap=True, min_samples_leaf=9, n_estimators=250, max_features=3, criterion=gini, min_samples_split=4 \n",
        "[CV] bootstrap=True, min_samples_leaf=9, n_estimators=250, max_features=3, criterion=gini, min_samples_split=4 \n",
        "[CV] bootstrap=False, min_samples_leaf=3, n_estimators=150, max_features=1, criterion=entropy, min_samples_split=5 \n",
        "[CV]  bootstrap=True, min_samples_leaf=9, n_estimators=250, max_features=3, criterion=gini, min_samples_split=4, score=0.745451 -   0.8s[CV]  bootstrap=True, min_samples_leaf=9, n_estimators=250, max_features=3, criterion=gini, min_samples_split=4, score=0.758988 -   0.7s[CV]  bootstrap=True, min_samples_leaf=9, n_estimators=250, max_features=3, criterion=gini, min_samples_split=4, score=0.731467 -   0.7s[CV]  bootstrap=False, min_samples_leaf=3, n_estimators=150, max_features=1, criterion=entropy, min_samples_split=5, score=0.739146 -   0.5s\n",
        "\n",
        "\n",
        "\n",
        "[CV] bootstrap=False, min_samples_leaf=3, n_estimators=200, max_features=2, criterion=gini, min_samples_split=6 \n",
        "[CV] bootstrap=False, min_samples_leaf=3, n_estimators=200, max_features=2, criterion=gini, min_samples_split=6 \n",
        "[CV] bootstrap=False, min_samples_leaf=3, n_estimators=150, max_features=1, criterion=entropy, min_samples_split=5 \n",
        "[CV] bootstrap=False, min_samples_leaf=3, n_estimators=150, max_features=1, criterion=entropy, min_samples_split=5 \n",
        "[CV]  bootstrap=False, min_samples_leaf=3, n_estimators=200, max_features=2, criterion=gini, min_samples_split=6, score=0.714344 -   0.6s[CV]  bootstrap=False, min_samples_leaf=3, n_estimators=200, max_features=2, criterion=gini, min_samples_split=6, score=0.726724 -   0.7s[CV]  bootstrap=False, min_samples_leaf=3, n_estimators=150, max_features=1, criterion=entropy, min_samples_split=5, score=0.713981 -   0.4s[CV]  bootstrap=False, min_samples_leaf=3, n_estimators=150, max_features=1, criterion=entropy, min_samples_split=5, score=0.726719 -   0.4s\n",
        "\n",
        "\n",
        "\n",
        "[CV] bootstrap=False, min_samples_leaf=3, n_estimators=200, max_features=2, criterion=gini, min_samples_split=6 \n",
        "[CV]  bootstrap=False, min_samples_leaf=3, n_estimators=200, max_features=2, criterion=gini, min_samples_split=6, score=0.707029 -   0.5s\n"
       ]
      },
      {
       "output_type": "stream",
       "stream": "stderr",
       "text": [
        "[Parallel(n_jobs=-1)]: Done   1 out of   9 | elapsed:    0.2s remaining:    1.3s\n",
        "[Parallel(n_jobs=-1)]: Done   7 out of   9 | elapsed:    0.5s remaining:    0.1s\n",
        "[Parallel(n_jobs=-1)]: Done   9 out of   9 | elapsed:    0.7s finished\n"
       ]
      },
      {
       "output_type": "stream",
       "stream": "stdout",
       "text": [
        "\n",
        "\n",
        "####### Optimal parameters: #########\n",
        "{'bootstrap': True,\n",
        " 'criterion': 'gini',\n",
        " 'max_features': 2,\n",
        " 'min_samples_leaf': 6,\n",
        " 'min_samples_split': 6,\n",
        " 'n_estimators': 50}\n",
        "############################## \n",
        "\n",
        "Fitting 3 folds for each of 3 candidates, totalling 9 fits\n",
        "[CV] bootstrap=True, min_samples_leaf=6, n_estimators=50, max_features=2, criterion=gini, min_samples_split=6 \n",
        "[CV] bootstrap=True, min_samples_leaf=6, n_estimators=50, max_features=2, criterion=gini, min_samples_split=6 \n",
        "[CV] bootstrap=True, min_samples_leaf=6, n_estimators=50, max_features=2, criterion=gini, min_samples_split=6 \n",
        "[CV] bootstrap=False, min_samples_leaf=5, n_estimators=100, max_features=2, criterion=entropy, min_samples_split=7 \n",
        "[CV]  bootstrap=True, min_samples_leaf=6, n_estimators=50, max_features=2, criterion=gini, min_samples_split=6, score=0.756995 -   0.1s[CV]  bootstrap=True, min_samples_leaf=6, n_estimators=50, max_features=2, criterion=gini, min_samples_split=6, score=0.761638 -   0.1s[CV]  bootstrap=True, min_samples_leaf=6, n_estimators=50, max_features=2, criterion=gini, min_samples_split=6, score=0.712699 -   0.1s[CV]  bootstrap=False, min_samples_leaf=5, n_estimators=100, max_features=2, criterion=entropy, min_samples_split=7, score=0.739743 -   0.5s\n",
        "\n",
        "\n",
        "\n",
        "[CV] bootstrap=False, min_samples_leaf=4, n_estimators=100, max_features=1, criterion=gini, min_samples_split=6 \n",
        "[CV] bootstrap=False, min_samples_leaf=5, n_estimators=100, max_features=2, criterion=entropy, min_samples_split=7 \n",
        "[CV] bootstrap=False, min_samples_leaf=5, n_estimators=100, max_features=2, criterion=entropy, min_samples_split=7 \n",
        "[CV] bootstrap=False, min_samples_leaf=4, n_estimators=100, max_features=1, criterion=gini, min_samples_split=6 \n",
        "[CV]  bootstrap=False, min_samples_leaf=4, n_estimators=100, max_features=1, criterion=gini, min_samples_split=6, score=0.742837 -   0.3s[CV]  bootstrap=False, min_samples_leaf=5, n_estimators=100, max_features=2, criterion=entropy, min_samples_split=7, score=0.706936 -   0.4s[CV]  bootstrap=False, min_samples_leaf=5, n_estimators=100, max_features=2, criterion=entropy, min_samples_split=7, score=0.736118 -   0.4s[CV]  bootstrap=False, min_samples_leaf=4, n_estimators=100, max_features=1, criterion=gini, min_samples_split=6, score=0.718696 -   0.2s\n",
        "\n",
        "\n",
        "\n",
        "[CV] bootstrap=False, min_samples_leaf=4, n_estimators=100, max_features=1, criterion=gini, min_samples_split=6 \n",
        "[CV]  bootstrap=False, min_samples_leaf=4, n_estimators=100, max_features=1, criterion=gini, min_samples_split=6, score=0.743246 -   0.2s\n"
       ]
      },
      {
       "output_type": "stream",
       "stream": "stderr",
       "text": [
        "[Parallel(n_jobs=-1)]: Done   3 out of   9 | elapsed:    1.8s remaining:    3.5s\n",
        "[Parallel(n_jobs=-1)]: Done   1 out of   9 | elapsed:    2.4s remaining:   18.8s\n",
        "[Parallel(n_jobs=-1)]: Done   7 out of   9 | elapsed:    2.4s remaining:    0.7s\n",
        "[Parallel(n_jobs=-1)]: Done   9 out of   9 | elapsed:    2.5s finished\n"
       ]
      },
      {
       "output_type": "stream",
       "stream": "stdout",
       "text": [
        "\n",
        "\n",
        "####### Optimal parameters: #########\n",
        "{'bootstrap': True,\n",
        " 'criterion': 'gini',\n",
        " 'max_features': 2,\n",
        " 'min_samples_leaf': 4,\n",
        " 'min_samples_split': 9,\n",
        " 'n_estimators': 250}\n",
        "############################## \n",
        "\n",
        "Fitting 3 folds for each of 3 candidates, totalling 9 fits\n",
        "[CV] bootstrap=False, min_samples_leaf=2, n_estimators=250, max_features=4, criterion=entropy, min_samples_split=5 \n",
        "[CV] bootstrap=False, min_samples_leaf=2, n_estimators=250, max_features=4, criterion=entropy, min_samples_split=5 \n",
        "[CV] bootstrap=False, min_samples_leaf=2, n_estimators=250, max_features=4, criterion=entropy, min_samples_split=5 \n",
        "[CV] bootstrap=False, min_samples_leaf=4, n_estimators=150, max_features=3, criterion=gini, min_samples_split=4 \n",
        "[CV]  bootstrap=False, min_samples_leaf=2, n_estimators=250, max_features=4, criterion=entropy, min_samples_split=5, score=0.690533 -   2.3s[CV]  bootstrap=False, min_samples_leaf=2, n_estimators=250, max_features=4, criterion=entropy, min_samples_split=5, score=0.659423 -   1.8s[CV]  bootstrap=False, min_samples_leaf=2, n_estimators=250, max_features=4, criterion=entropy, min_samples_split=5, score=0.623499 -   1.7s[CV]  bootstrap=False, min_samples_leaf=4, n_estimators=150, max_features=3, criterion=gini, min_samples_split=4, score=0.741832 -   0.7s\n",
        "\n",
        "\n",
        "\n",
        "[CV] bootstrap=False, min_samples_leaf=4, n_estimators=150, max_features=3, criterion=gini, min_samples_split=4 \n",
        "[CV] bootstrap=True, min_samples_leaf=4, n_estimators=250, max_features=2, criterion=gini, min_samples_split=9 \n",
        "[CV] bootstrap=True, min_samples_leaf=4, n_estimators=250, max_features=2, criterion=gini, min_samples_split=9 \n",
        "[CV]  bootstrap=False, min_samples_leaf=4, n_estimators=150, max_features=3, criterion=gini, min_samples_split=4, score=0.726639 -   0.6s[CV]  bootstrap=True, min_samples_leaf=4, n_estimators=250, max_features=2, criterion=gini, min_samples_split=9, score=0.751948 -   0.6s[CV]  bootstrap=True, min_samples_leaf=4, n_estimators=250, max_features=2, criterion=gini, min_samples_split=9, score=0.758798 -   0.6s\n",
        "\n",
        "\n",
        "[CV] bootstrap=False, min_samples_leaf=4, n_estimators=150, max_features=3, criterion=gini, min_samples_split=4 \n",
        "[CV]  bootstrap=False, min_samples_leaf=4, n_estimators=150, max_features=3, criterion=gini, min_samples_split=4, score=0.696693 -   0.6s\n",
        "[CV] bootstrap=True, min_samples_leaf=4, n_estimators=250, max_features=2, criterion=gini, min_samples_split=9 \n",
        "[CV]  bootstrap=True, min_samples_leaf=4, n_estimators=250, max_features=2, criterion=gini, min_samples_split=9, score=0.716764 -   0.5s\n"
       ]
      },
      {
       "output_type": "stream",
       "stream": "stderr",
       "text": [
        "[Parallel(n_jobs=-1)]: Done   1 out of   9 | elapsed:    0.5s remaining:    3.9s\n",
        "[Parallel(n_jobs=-1)]: Done   7 out of   9 | elapsed:    0.8s remaining:    0.2s\n",
        "[Parallel(n_jobs=-1)]: Done   9 out of   9 | elapsed:    0.9s finished\n"
       ]
      },
      {
       "output_type": "stream",
       "stream": "stdout",
       "text": [
        "\n",
        "\n",
        "####### Optimal parameters: #########\n",
        "{'bootstrap': True,\n",
        " 'criterion': 'gini',\n",
        " 'max_features': 2,\n",
        " 'min_samples_leaf': 8,\n",
        " 'min_samples_split': 2,\n",
        " 'n_estimators': 150}\n",
        "############################## \n",
        "\n",
        "Fitting 3 folds for each of 3 candidates, totalling 9 fits\n",
        "[CV] bootstrap=True, min_samples_leaf=2, n_estimators=100, max_features=3, criterion=entropy, min_samples_split=2 \n",
        "[CV] bootstrap=True, min_samples_leaf=2, n_estimators=100, max_features=3, criterion=entropy, min_samples_split=2 \n",
        "[CV] bootstrap=True, min_samples_leaf=2, n_estimators=100, max_features=3, criterion=entropy, min_samples_split=2 \n",
        "[CV] bootstrap=True, min_samples_leaf=8, n_estimators=150, max_features=2, criterion=gini, min_samples_split=2 \n",
        "[CV]  bootstrap=True, min_samples_leaf=2, n_estimators=100, max_features=3, criterion=entropy, min_samples_split=2, score=0.732275 -   0.5s[CV]  bootstrap=True, min_samples_leaf=2, n_estimators=100, max_features=3, criterion=entropy, min_samples_split=2, score=0.744289 -   0.4s[CV]  bootstrap=True, min_samples_leaf=2, n_estimators=100, max_features=3, criterion=entropy, min_samples_split=2, score=0.708506 -   0.4s[CV]  bootstrap=True, min_samples_leaf=8, n_estimators=150, max_features=2, criterion=gini, min_samples_split=2, score=0.757919 -   0.4s\n",
        "\n",
        "\n",
        "\n",
        "[CV] bootstrap=False, min_samples_leaf=2, n_estimators=50, max_features=3, criterion=entropy, min_samples_split=9 \n",
        "[CV] bootstrap=False, min_samples_leaf=2, n_estimators=50, max_features=3, criterion=entropy, min_samples_split=9 \n",
        "[CV] bootstrap=True, min_samples_leaf=8, n_estimators=150, max_features=2, criterion=gini, min_samples_split=2 \n",
        "[CV] bootstrap=True, min_samples_leaf=8, n_estimators=150, max_features=2, criterion=gini, min_samples_split=2 \n",
        "[CV]  bootstrap=False, min_samples_leaf=2, n_estimators=50, max_features=3, criterion=entropy, min_samples_split=9, score=0.727103 -   0.3s[CV]  bootstrap=False, min_samples_leaf=2, n_estimators=50, max_features=3, criterion=entropy, min_samples_split=9, score=0.714064 -   0.3s[CV]  bootstrap=True, min_samples_leaf=8, n_estimators=150, max_features=2, criterion=gini, min_samples_split=2, score=0.725947 -   0.3s[CV]  bootstrap=True, min_samples_leaf=8, n_estimators=150, max_features=2, criterion=gini, min_samples_split=2, score=0.773050 -   0.3s\n",
        "\n",
        "\n",
        "\n",
        "[CV] bootstrap=False, min_samples_leaf=2, n_estimators=50, max_features=3, criterion=entropy, min_samples_split=9 \n",
        "[CV]  bootstrap=False, min_samples_leaf=2, n_estimators=50, max_features=3, criterion=entropy, min_samples_split=9, score=0.670112 -   0.2s\n"
       ]
      },
      {
       "output_type": "stream",
       "stream": "stderr",
       "text": [
        "[Parallel(n_jobs=-1)]: Done   3 out of   9 | elapsed:    1.0s remaining:    2.0s\n",
        "[Parallel(n_jobs=-1)]: Done   7 out of   9 | elapsed:    1.2s remaining:    0.3s\n",
        "[Parallel(n_jobs=-1)]: Done   1 out of   9 | elapsed:    1.2s remaining:    9.8s\n",
        "[Parallel(n_jobs=-1)]: Done   9 out of   9 | elapsed:    1.3s finished\n"
       ]
      },
      {
       "output_type": "stream",
       "stream": "stdout",
       "text": [
        "\n",
        "\n",
        "####### Optimal parameters: #########\n",
        "{'bootstrap': True,\n",
        " 'criterion': 'gini',\n",
        " 'max_features': 1,\n",
        " 'min_samples_leaf': 8,\n",
        " 'min_samples_split': 7,\n",
        " 'n_estimators': 250}\n",
        "############################## \n",
        "\n",
        "Fitting 3 folds for each of 3 candidates, totalling 9 fits\n",
        "[CV] bootstrap=False, min_samples_leaf=4, n_estimators=250, max_features=3, criterion=gini, min_samples_split=7 \n",
        "[CV] bootstrap=False, min_samples_leaf=4, n_estimators=250, max_features=3, criterion=gini, min_samples_split=7 \n",
        "[CV] bootstrap=False, min_samples_leaf=4, n_estimators=250, max_features=3, criterion=gini, min_samples_split=7 \n",
        "[CV] bootstrap=True, min_samples_leaf=8, n_estimators=250, max_features=1, criterion=gini, min_samples_split=7 \n",
        "[CV]  bootstrap=False, min_samples_leaf=4, n_estimators=250, max_features=3, criterion=gini, min_samples_split=7, score=0.722903 -   1.2s[CV]  bootstrap=False, min_samples_leaf=4, n_estimators=250, max_features=3, criterion=gini, min_samples_split=7, score=0.725407 -   1.0s[CV]  bootstrap=False, min_samples_leaf=4, n_estimators=250, max_features=3, criterion=gini, min_samples_split=7, score=0.689431 -   1.0s[CV]  bootstrap=True, min_samples_leaf=8, n_estimators=250, max_features=1, criterion=gini, min_samples_split=7, score=0.767036 -   0.5s\n",
        "\n",
        "\n",
        "\n",
        "[CV] bootstrap=True, min_samples_leaf=8, n_estimators=250, max_features=1, criterion=gini, min_samples_split=7 \n",
        "[CV] bootstrap=False, min_samples_leaf=6, n_estimators=50, max_features=2, criterion=gini, min_samples_split=9 \n",
        "[CV] bootstrap=False, min_samples_leaf=6, n_estimators=50, max_features=2, criterion=gini, min_samples_split=9 \n",
        "[CV]  bootstrap=True, min_samples_leaf=8, n_estimators=250, max_features=1, criterion=gini, min_samples_split=7, score=0.775073 -   0.4s[CV]  bootstrap=False, min_samples_leaf=6, n_estimators=50, max_features=2, criterion=gini, min_samples_split=9, score=0.747632 -   0.2s[CV]  bootstrap=False, min_samples_leaf=6, n_estimators=50, max_features=2, criterion=gini, min_samples_split=9, score=0.745691 -   0.2s\n",
        "\n",
        "\n",
        "[CV] bootstrap=True, min_samples_leaf=8, n_estimators=250, max_features=1, criterion=gini, min_samples_split=7 \n",
        "[CV] bootstrap=False, min_samples_leaf=6, n_estimators=50, max_features=2, criterion=gini, min_samples_split=9 \n",
        "[CV]  bootstrap=True, min_samples_leaf=8, n_estimators=250, max_features=1, criterion=gini, min_samples_split=7, score=0.731498 -   0.4s[CV]  bootstrap=False, min_samples_leaf=6, n_estimators=50, max_features=2, criterion=gini, min_samples_split=9, score=0.706191 -   0.1s\n",
        "\n"
       ]
      },
      {
       "output_type": "stream",
       "stream": "stderr",
       "text": [
        "[Parallel(n_jobs=-1)]: Done   1 out of   9 | elapsed:    0.5s remaining:    4.4s\n",
        "[Parallel(n_jobs=-1)]: Done   7 out of   9 | elapsed:    1.3s remaining:    0.4s\n",
        "[Parallel(n_jobs=-1)]: Done   9 out of   9 | elapsed:    1.9s finished\n"
       ]
      },
      {
       "output_type": "stream",
       "stream": "stdout",
       "text": [
        "\n",
        "\n",
        "####### Optimal parameters: #########\n",
        "{'bootstrap': True,\n",
        " 'criterion': 'gini',\n",
        " 'max_features': 2,\n",
        " 'min_samples_leaf': 5,\n",
        " 'min_samples_split': 6,\n",
        " 'n_estimators': 200}\n",
        "############################## \n",
        "\n",
        "1 iteration of testAlgo\n",
        "Fitting 3 folds for each of 3 candidates, totalling 9 fits\n",
        "[CV] bootstrap=True, min_samples_leaf=5, n_estimators=200, max_features=2, criterion=gini, min_samples_split=6 \n",
        "[CV] bootstrap=True, min_samples_leaf=5, n_estimators=200, max_features=2, criterion=gini, min_samples_split=6 \n",
        "[CV] bootstrap=True, min_samples_leaf=5, n_estimators=200, max_features=2, criterion=gini, min_samples_split=6 \n",
        "[CV] bootstrap=False, min_samples_leaf=9, n_estimators=200, max_features=4, criterion=entropy, min_samples_split=8 \n",
        "[CV]  bootstrap=True, min_samples_leaf=5, n_estimators=200, max_features=2, criterion=gini, min_samples_split=6, score=0.734611 -   0.5s[CV]  bootstrap=True, min_samples_leaf=5, n_estimators=200, max_features=2, criterion=gini, min_samples_split=6, score=0.753936 -   0.5s[CV]  bootstrap=True, min_samples_leaf=5, n_estimators=200, max_features=2, criterion=gini, min_samples_split=6, score=0.718933 -   0.4s[CV]  bootstrap=False, min_samples_leaf=9, n_estimators=200, max_features=4, criterion=entropy, min_samples_split=8, score=0.695353 -   1.3s\n",
        "\n",
        "\n",
        "\n",
        "[CV] bootstrap=False, min_samples_leaf=3, n_estimators=200, max_features=2, criterion=gini, min_samples_split=8 \n",
        "[CV] bootstrap=False, min_samples_leaf=9, n_estimators=200, max_features=4, criterion=entropy, min_samples_split=8 \n",
        "[CV] bootstrap=False, min_samples_leaf=9, n_estimators=200, max_features=4, criterion=entropy, min_samples_split=8 \n",
        "[CV] bootstrap=False, min_samples_leaf=3, n_estimators=200, max_features=2, criterion=gini, min_samples_split=8 \n",
        "[CV]  bootstrap=False, min_samples_leaf=3, n_estimators=200, max_features=2, criterion=gini, min_samples_split=8, score=0.714101 -   0.8s[CV]  bootstrap=False, min_samples_leaf=9, n_estimators=200, max_features=4, criterion=entropy, min_samples_split=8, score=0.685268 -   1.1s[CV]  bootstrap=False, min_samples_leaf=9, n_estimators=200, max_features=4, criterion=entropy, min_samples_split=8, score=0.704277 -   1.1s[CV]  bootstrap=False, min_samples_leaf=3, n_estimators=200, max_features=2, criterion=gini, min_samples_split=8, score=0.695245 -   0.5s\n",
        "\n",
        "\n",
        "\n",
        "[CV] bootstrap=False, min_samples_leaf=3, n_estimators=200, max_features=2, criterion=gini, min_samples_split=8 \n",
        "[CV]  bootstrap=False, min_samples_leaf=3, n_estimators=200, max_features=2, criterion=gini, min_samples_split=8, score=0.723305 -   0.6s\n"
       ]
      },
      {
       "output_type": "stream",
       "stream": "stderr",
       "text": [
        "[Parallel(n_jobs=-1)]: Done   1 out of   9 | elapsed:    0.6s remaining:    4.7s\n",
        "[Parallel(n_jobs=-1)]: Done   7 out of   9 | elapsed:    0.8s remaining:    0.2s\n",
        "[Parallel(n_jobs=-1)]: Done   9 out of   9 | elapsed:    1.0s finished\n"
       ]
      },
      {
       "output_type": "stream",
       "stream": "stdout",
       "text": [
        "\n",
        "\n",
        "####### Optimal parameters: #########\n",
        "{'bootstrap': True,\n",
        " 'criterion': 'entropy',\n",
        " 'max_features': 1,\n",
        " 'min_samples_leaf': 5,\n",
        " 'min_samples_split': 3,\n",
        " 'n_estimators': 250}\n",
        "############################## \n",
        "\n",
        "Fitting 3 folds for each of 3 candidates, totalling 9 fits\n",
        "[CV] bootstrap=True, min_samples_leaf=5, n_estimators=250, max_features=1, criterion=entropy, min_samples_split=3 \n",
        "[CV] bootstrap=True, min_samples_leaf=5, n_estimators=250, max_features=1, criterion=entropy, min_samples_split=3 \n",
        "[CV] bootstrap=True, min_samples_leaf=5, n_estimators=250, max_features=1, criterion=entropy, min_samples_split=3 \n",
        "[CV] bootstrap=True, min_samples_leaf=6, n_estimators=100, max_features=4, criterion=gini, min_samples_split=9 \n",
        "[CV]  bootstrap=True, min_samples_leaf=5, n_estimators=250, max_features=1, criterion=entropy, min_samples_split=3, score=0.752234 -   0.6s[CV]  bootstrap=True, min_samples_leaf=5, n_estimators=250, max_features=1, criterion=entropy, min_samples_split=3, score=0.781250 -   0.5s[CV]  bootstrap=True, min_samples_leaf=5, n_estimators=250, max_features=1, criterion=entropy, min_samples_split=3, score=0.743616 -   0.5s[CV]  bootstrap=True, min_samples_leaf=6, n_estimators=100, max_features=4, criterion=gini, min_samples_split=9, score=0.735513 -   0.4s\n",
        "\n",
        "\n",
        "\n",
        "[CV] bootstrap=True, min_samples_leaf=6, n_estimators=150, max_features=1, criterion=gini, min_samples_split=9 \n",
        "[CV] bootstrap=True, min_samples_leaf=6, n_estimators=150, max_features=1, criterion=gini, min_samples_split=9 \n",
        "[CV] bootstrap=True, min_samples_leaf=6, n_estimators=100, max_features=4, criterion=gini, min_samples_split=9 \n",
        "[CV] bootstrap=True, min_samples_leaf=6, n_estimators=100, max_features=4, criterion=gini, min_samples_split=9 \n",
        "[CV]  bootstrap=True, min_samples_leaf=6, n_estimators=150, max_features=1, criterion=gini, min_samples_split=9, score=0.782605 -   0.3s[CV]  bootstrap=True, min_samples_leaf=6, n_estimators=150, max_features=1, criterion=gini, min_samples_split=9, score=0.748866 -   0.3s[CV]  bootstrap=True, min_samples_leaf=6, n_estimators=100, max_features=4, criterion=gini, min_samples_split=9, score=0.732132 -   0.3s[CV]  bootstrap=True, min_samples_leaf=6, n_estimators=100, max_features=4, criterion=gini, min_samples_split=9, score=0.753103 -   0.3s\n",
        "\n",
        "\n",
        "\n",
        "[CV] bootstrap=True, min_samples_leaf=6, n_estimators=150, max_features=1, criterion=gini, min_samples_split=9 \n",
        "[CV]  bootstrap=True, min_samples_leaf=6, n_estimators=150, max_features=1, criterion=gini, min_samples_split=9, score=0.738791 -   0.2s\n"
       ]
      },
      {
       "output_type": "stream",
       "stream": "stderr",
       "text": [
        "[Parallel(n_jobs=-1)]: Done   3 out of   9 | elapsed:    0.4s remaining:    0.9s\n",
        "[Parallel(n_jobs=-1)]: Done   1 out of   9 | elapsed:    0.6s remaining:    4.6s\n",
        "[Parallel(n_jobs=-1)]: Done   7 out of   9 | elapsed:    0.7s remaining:    0.2s\n",
        "[Parallel(n_jobs=-1)]: Done   9 out of   9 | elapsed:    0.7s finished\n"
       ]
      },
      {
       "output_type": "stream",
       "stream": "stdout",
       "text": [
        "\n",
        "\n",
        "####### Optimal parameters: #########\n",
        "{'bootstrap': True,\n",
        " 'criterion': 'entropy',\n",
        " 'max_features': 1,\n",
        " 'min_samples_leaf': 5,\n",
        " 'min_samples_split': 8,\n",
        " 'n_estimators': 50}\n",
        "############################## \n",
        "\n",
        "Fitting 3 folds for each of 3 candidates, totalling 9 fits\n",
        "[CV] bootstrap=False, min_samples_leaf=9, n_estimators=100, max_features=4, criterion=gini, min_samples_split=5 \n",
        "[CV] bootstrap=False, min_samples_leaf=9, n_estimators=100, max_features=4, criterion=gini, min_samples_split=5 \n",
        "[CV] bootstrap=False, min_samples_leaf=9, n_estimators=100, max_features=4, criterion=gini, min_samples_split=5 \n",
        "[CV] bootstrap=True, min_samples_leaf=5, n_estimators=50, max_features=1, criterion=entropy, min_samples_split=8 \n",
        "[CV]  bootstrap=False, min_samples_leaf=9, n_estimators=100, max_features=4, criterion=gini, min_samples_split=5, score=0.721808 -   0.6s[CV]  bootstrap=False, min_samples_leaf=9, n_estimators=100, max_features=4, criterion=gini, min_samples_split=5, score=0.710035 -   0.5s[CV]  bootstrap=False, min_samples_leaf=9, n_estimators=100, max_features=4, criterion=gini, min_samples_split=5, score=0.682853 -   0.4s[CV]  bootstrap=True, min_samples_leaf=5, n_estimators=50, max_features=1, criterion=entropy, min_samples_split=8, score=0.758442 -   0.1s\n",
        "\n",
        "\n",
        "\n",
        "[CV] bootstrap=False, min_samples_leaf=2, n_estimators=100, max_features=1, criterion=entropy, min_samples_split=5 \n",
        "[CV] bootstrap=False, min_samples_leaf=2, n_estimators=100, max_features=1, criterion=entropy, min_samples_split=5 \n",
        "[CV] bootstrap=True, min_samples_leaf=5, n_estimators=50, max_features=1, criterion=entropy, min_samples_split=8 \n",
        "[CV]  bootstrap=True, min_samples_leaf=5, n_estimators=50, max_features=1, criterion=entropy, min_samples_split=8, score=0.761687 -   0.1s[CV]  bootstrap=False, min_samples_leaf=2, n_estimators=100, max_features=1, criterion=entropy, min_samples_split=5, score=0.717335 -   0.2s[CV]  bootstrap=False, min_samples_leaf=2, n_estimators=100, max_features=1, criterion=entropy, min_samples_split=5, score=0.710180 -   0.3s\n",
        "\n",
        "\n",
        "[CV] bootstrap=True, min_samples_leaf=5, n_estimators=50, max_features=1, criterion=entropy, min_samples_split=8 \n",
        "[CV]  bootstrap=True, min_samples_leaf=5, n_estimators=50, max_features=1, criterion=entropy, min_samples_split=8, score=0.732815 -   0.1s\n",
        "[CV] bootstrap=False, min_samples_leaf=2, n_estimators=100, max_features=1, criterion=entropy, min_samples_split=5 \n",
        "[CV]  bootstrap=False, min_samples_leaf=2, n_estimators=100, max_features=1, criterion=entropy, min_samples_split=5, score=0.733795 -   0.3s\n"
       ]
      },
      {
       "output_type": "stream",
       "stream": "stderr",
       "text": [
        "[Parallel(n_jobs=-1)]: Done   3 out of   9 | elapsed:    0.6s remaining:    1.2s\n",
        "[Parallel(n_jobs=-1)]: Done   1 out of   9 | elapsed:    0.7s remaining:    5.7s\n",
        "[Parallel(n_jobs=-1)]: Done   7 out of   9 | elapsed:    1.6s remaining:    0.5s\n",
        "[Parallel(n_jobs=-1)]: Done   9 out of   9 | elapsed:    1.6s finished\n"
       ]
      },
      {
       "output_type": "stream",
       "stream": "stdout",
       "text": [
        "\n",
        "\n",
        "####### Optimal parameters: #########\n",
        "{'bootstrap': True,\n",
        " 'criterion': 'gini',\n",
        " 'max_features': 1,\n",
        " 'min_samples_leaf': 9,\n",
        " 'min_samples_split': 5,\n",
        " 'n_estimators': 100}\n",
        "############################## \n",
        "\n",
        "Fitting 3 folds for each of 3 candidates, totalling 9 fits\n",
        "[CV] bootstrap=False, min_samples_leaf=8, n_estimators=250, max_features=1, criterion=entropy, min_samples_split=8 \n",
        "[CV] bootstrap=False, min_samples_leaf=8, n_estimators=250, max_features=1, criterion=entropy, min_samples_split=8 \n",
        "[CV] bootstrap=False, min_samples_leaf=8, n_estimators=250, max_features=1, criterion=entropy, min_samples_split=8 \n",
        "[CV] bootstrap=True, min_samples_leaf=9, n_estimators=100, max_features=1, criterion=gini, min_samples_split=5 \n",
        "[CV]  bootstrap=False, min_samples_leaf=8, n_estimators=250, max_features=1, criterion=entropy, min_samples_split=8, score=0.768649 -   0.7s[CV]  bootstrap=False, min_samples_leaf=8, n_estimators=250, max_features=1, criterion=entropy, min_samples_split=8, score=0.766705 -   0.6s[CV]  bootstrap=False, min_samples_leaf=8, n_estimators=250, max_features=1, criterion=entropy, min_samples_split=8, score=0.726333 -   0.6s[CV]  bootstrap=True, min_samples_leaf=9, n_estimators=100, max_features=1, criterion=gini, min_samples_split=5, score=0.772346 -   0.2s\n",
        "\n",
        "\n",
        "\n",
        "[CV] bootstrap=True, min_samples_leaf=9, n_estimators=100, max_features=1, criterion=gini, min_samples_split=5 \n",
        "[CV] bootstrap=True, min_samples_leaf=7, n_estimators=250, max_features=4, criterion=entropy, min_samples_split=6 \n",
        "[CV] bootstrap=True, min_samples_leaf=7, n_estimators=250, max_features=4, criterion=entropy, min_samples_split=6 \n",
        "[CV]  bootstrap=True, min_samples_leaf=9, n_estimators=100, max_features=1, criterion=gini, min_samples_split=5, score=0.775805 -   0.2s[CV]  bootstrap=True, min_samples_leaf=7, n_estimators=250, max_features=4, criterion=entropy, min_samples_split=6, score=0.721152 -   0.8s[CV]  bootstrap=True, min_samples_leaf=7, n_estimators=250, max_features=4, criterion=entropy, min_samples_split=6, score=0.759812 -   0.9s\n",
        "\n",
        "\n",
        "[CV] bootstrap=True, min_samples_leaf=9, n_estimators=100, max_features=1, criterion=gini, min_samples_split=5 \n",
        "[CV]  bootstrap=True, min_samples_leaf=9, n_estimators=100, max_features=1, criterion=gini, min_samples_split=5, score=0.732562 -   0.2s\n",
        "[CV] bootstrap=True, min_samples_leaf=7, n_estimators=250, max_features=4, criterion=entropy, min_samples_split=6 \n",
        "[CV]  bootstrap=True, min_samples_leaf=7, n_estimators=250, max_features=4, criterion=entropy, min_samples_split=6, score=0.760606 -   1.0s\n"
       ]
      },
      {
       "output_type": "stream",
       "stream": "stderr",
       "text": [
        "[Parallel(n_jobs=-1)]: Done   3 out of   9 | elapsed:    0.8s remaining:    1.5s\n",
        "[Parallel(n_jobs=-1)]: Done   1 out of   9 | elapsed:    0.9s remaining:    7.4s\n",
        "[Parallel(n_jobs=-1)]: Done   7 out of   9 | elapsed:    1.3s remaining:    0.4s\n",
        "[Parallel(n_jobs=-1)]: Done   9 out of   9 | elapsed:    1.4s finished\n"
       ]
      },
      {
       "output_type": "stream",
       "stream": "stdout",
       "text": [
        "\n",
        "\n",
        "####### Optimal parameters: #########\n",
        "{'bootstrap': True,\n",
        " 'criterion': 'gini',\n",
        " 'max_features': 4,\n",
        " 'min_samples_leaf': 9,\n",
        " 'min_samples_split': 8,\n",
        " 'n_estimators': 50}\n",
        "############################## \n",
        "\n",
        "Fitting 3 folds for each of 3 candidates, totalling 9 fits\n",
        "[CV] bootstrap=False, min_samples_leaf=5, n_estimators=200, max_features=3, criterion=gini, min_samples_split=3 \n",
        "[CV] bootstrap=False, min_samples_leaf=5, n_estimators=200, max_features=3, criterion=gini, min_samples_split=3 \n",
        "[CV] bootstrap=False, min_samples_leaf=5, n_estimators=200, max_features=3, criterion=gini, min_samples_split=3 \n",
        "[CV] bootstrap=True, min_samples_leaf=9, n_estimators=50, max_features=4, criterion=gini, min_samples_split=8 \n",
        "[CV]  bootstrap=False, min_samples_leaf=5, n_estimators=200, max_features=3, criterion=gini, min_samples_split=3, score=0.728810 -   0.9s[CV]  bootstrap=False, min_samples_leaf=5, n_estimators=200, max_features=3, criterion=gini, min_samples_split=3, score=0.722769 -   0.8s[CV]  bootstrap=False, min_samples_leaf=5, n_estimators=200, max_features=3, criterion=gini, min_samples_split=3, score=0.711569 -   0.7s[CV]  bootstrap=True, min_samples_leaf=9, n_estimators=50, max_features=4, criterion=gini, min_samples_split=8, score=0.755074 -   0.2s\n",
        "\n",
        "\n",
        "\n",
        "[CV] bootstrap=True, min_samples_leaf=9, n_estimators=50, max_features=4, criterion=gini, min_samples_split=8 \n",
        "[CV] bootstrap=False, min_samples_leaf=8, n_estimators=150, max_features=3, criterion=entropy, min_samples_split=9 \n",
        "[CV] bootstrap=False, min_samples_leaf=8, n_estimators=150, max_features=3, criterion=entropy, min_samples_split=9 \n",
        "[CV]  bootstrap=True, min_samples_leaf=9, n_estimators=50, max_features=4, criterion=gini, min_samples_split=8, score=0.757889 -   0.2s[CV]  bootstrap=False, min_samples_leaf=8, n_estimators=150, max_features=3, criterion=entropy, min_samples_split=9, score=0.715545 -   0.6s[CV]  bootstrap=False, min_samples_leaf=8, n_estimators=150, max_features=3, criterion=entropy, min_samples_split=9, score=0.737966 -   0.6s\n",
        "\n",
        "\n",
        "[CV] bootstrap=True, min_samples_leaf=9, n_estimators=50, max_features=4, criterion=gini, min_samples_split=8 \n",
        "[CV]  bootstrap=True, min_samples_leaf=9, n_estimators=50, max_features=4, criterion=gini, min_samples_split=8, score=0.730906 -   0.1s\n",
        "[CV] bootstrap=False, min_samples_leaf=8, n_estimators=150, max_features=3, criterion=entropy, min_samples_split=9 \n",
        "[CV]  bootstrap=False, min_samples_leaf=8, n_estimators=150, max_features=3, criterion=entropy, min_samples_split=9, score=0.743125 -   0.7s\n"
       ]
      },
      {
       "output_type": "stream",
       "stream": "stderr",
       "text": [
        "[Parallel(n_jobs=-1)]: Done   3 out of   9 | elapsed:    0.8s remaining:    1.6s\n",
        "[Parallel(n_jobs=-1)]: Done   1 out of   9 | elapsed:    1.0s remaining:    7.8s\n",
        "[Parallel(n_jobs=-1)]: Done   7 out of   9 | elapsed:    1.6s remaining:    0.5s\n",
        "[Parallel(n_jobs=-1)]: Done   9 out of   9 | elapsed:    1.6s finished\n"
       ]
      },
      {
       "output_type": "stream",
       "stream": "stdout",
       "text": [
        "\n",
        "\n",
        "####### Optimal parameters: #########\n",
        "{'bootstrap': True,\n",
        " 'criterion': 'entropy',\n",
        " 'max_features': 3,\n",
        " 'min_samples_leaf': 4,\n",
        " 'min_samples_split': 6,\n",
        " 'n_estimators': 250}\n",
        "############################## \n",
        "\n",
        "Fitting 3 folds for each of 3 candidates, totalling 9 fits\n",
        "[CV] bootstrap=False, min_samples_leaf=4, n_estimators=200, max_features=2, criterion=entropy, min_samples_split=8 \n",
        "[CV] bootstrap=False, min_samples_leaf=4, n_estimators=200, max_features=2, criterion=entropy, min_samples_split=8 \n",
        "[CV] bootstrap=False, min_samples_leaf=4, n_estimators=200, max_features=2, criterion=entropy, min_samples_split=8 \n",
        "[CV] bootstrap=False, min_samples_leaf=6, n_estimators=50, max_features=2, criterion=entropy, min_samples_split=4 \n",
        "[CV]  bootstrap=False, min_samples_leaf=4, n_estimators=200, max_features=2, criterion=entropy, min_samples_split=8, score=0.735729 -   0.9s[CV]  bootstrap=False, min_samples_leaf=4, n_estimators=200, max_features=2, criterion=entropy, min_samples_split=8, score=0.733993 -   0.8s[CV]  bootstrap=False, min_samples_leaf=4, n_estimators=200, max_features=2, criterion=entropy, min_samples_split=8, score=0.707450 -   0.8s[CV]  bootstrap=False, min_samples_leaf=6, n_estimators=50, max_features=2, criterion=entropy, min_samples_split=4, score=0.743889 -   0.2s\n",
        "\n",
        "\n",
        "\n",
        "[CV] bootstrap=False, min_samples_leaf=6, n_estimators=50, max_features=2, criterion=entropy, min_samples_split=4 \n",
        "[CV] bootstrap=True, min_samples_leaf=4, n_estimators=250, max_features=3, criterion=entropy, min_samples_split=6 \n",
        "[CV] bootstrap=True, min_samples_leaf=4, n_estimators=250, max_features=3, criterion=entropy, min_samples_split=6 \n",
        "[CV]  bootstrap=False, min_samples_leaf=6, n_estimators=50, max_features=2, criterion=entropy, min_samples_split=4, score=0.740703 -   0.2s[CV]  bootstrap=True, min_samples_leaf=4, n_estimators=250, max_features=3, criterion=entropy, min_samples_split=6, score=0.712141 -   0.7s[CV]  bootstrap=True, min_samples_leaf=4, n_estimators=250, max_features=3, criterion=entropy, min_samples_split=6, score=0.750560 -   0.8s\n",
        "\n",
        "\n",
        "[CV] bootstrap=False, min_samples_leaf=6, n_estimators=50, max_features=2, criterion=entropy, min_samples_split=4 \n",
        "[CV]  bootstrap=False, min_samples_leaf=6, n_estimators=50, max_features=2, criterion=entropy, min_samples_split=4, score=0.715368 -   0.2s\n",
        "[CV] bootstrap=True, min_samples_leaf=4, n_estimators=250, max_features=3, criterion=entropy, min_samples_split=6 \n",
        "[CV]  bootstrap=True, min_samples_leaf=4, n_estimators=250, max_features=3, criterion=entropy, min_samples_split=6, score=0.748727 -   1.0s\n"
       ]
      },
      {
       "output_type": "stream",
       "stream": "stderr",
       "text": [
        "[Parallel(n_jobs=-1)]: Done   1 out of   9 | elapsed:    0.1s remaining:    1.1s\n",
        "[Parallel(n_jobs=-1)]: Done   7 out of   9 | elapsed:    0.6s remaining:    0.2s\n",
        "[Parallel(n_jobs=-1)]: Done   9 out of   9 | elapsed:    0.7s finished\n"
       ]
      },
      {
       "output_type": "stream",
       "stream": "stdout",
       "text": [
        "\n",
        "\n",
        "####### Optimal parameters: #########\n",
        "{'bootstrap': False,\n",
        " 'criterion': 'gini',\n",
        " 'max_features': 1,\n",
        " 'min_samples_leaf': 7,\n",
        " 'min_samples_split': 7,\n",
        " 'n_estimators': 50}\n",
        "############################## \n",
        "\n",
        "Fitting 3 folds for each of 3 candidates, totalling 9 fits\n",
        "[CV] bootstrap=False, min_samples_leaf=7, n_estimators=50, max_features=1, criterion=gini, min_samples_split=7 \n",
        "[CV] bootstrap=False, min_samples_leaf=7, n_estimators=50, max_features=1, criterion=gini, min_samples_split=7 \n",
        "[CV] bootstrap=False, min_samples_leaf=7, n_estimators=50, max_features=1, criterion=gini, min_samples_split=7 \n",
        "[CV] bootstrap=False, min_samples_leaf=5, n_estimators=100, max_features=1, criterion=entropy, min_samples_split=8 \n",
        "[CV]  bootstrap=False, min_samples_leaf=7, n_estimators=50, max_features=1, criterion=gini, min_samples_split=7, score=0.738045 -   0.1s[CV]  bootstrap=False, min_samples_leaf=7, n_estimators=50, max_features=1, criterion=gini, min_samples_split=7, score=0.750898 -   0.1s[CV]  bootstrap=False, min_samples_leaf=7, n_estimators=50, max_features=1, criterion=gini, min_samples_split=7, score=0.718381 -   0.1s[CV]  bootstrap=False, min_samples_leaf=5, n_estimators=100, max_features=1, criterion=entropy, min_samples_split=8, score=0.728361 -   0.3s\n",
        "\n",
        "\n",
        "\n",
        "[CV] bootstrap=False, min_samples_leaf=7, n_estimators=150, max_features=2, criterion=gini, min_samples_split=4 \n",
        "[CV] bootstrap=False, min_samples_leaf=5, n_estimators=100, max_features=1, criterion=entropy, min_samples_split=8 \n",
        "[CV] bootstrap=False, min_samples_leaf=5, n_estimators=100, max_features=1, criterion=entropy, min_samples_split=8 \n",
        "[CV] bootstrap=False, min_samples_leaf=7, n_estimators=150, max_features=2, criterion=gini, min_samples_split=4 \n",
        "[CV]  bootstrap=False, min_samples_leaf=7, n_estimators=150, max_features=2, criterion=gini, min_samples_split=4, score=0.727833 -   0.5s[CV]  bootstrap=False, min_samples_leaf=5, n_estimators=100, max_features=1, criterion=entropy, min_samples_split=8, score=0.718777 -   0.2s[CV]  bootstrap=False, min_samples_leaf=5, n_estimators=100, max_features=1, criterion=entropy, min_samples_split=8, score=0.737353 -   0.3s[CV]  bootstrap=False, min_samples_leaf=7, n_estimators=150, max_features=2, criterion=gini, min_samples_split=4, score=0.732179 -   0.4s\n",
        "\n",
        "\n",
        "\n",
        "[CV] bootstrap=False, min_samples_leaf=7, n_estimators=150, max_features=2, criterion=gini, min_samples_split=4 \n",
        "[CV]  bootstrap=False, min_samples_leaf=7, n_estimators=150, max_features=2, criterion=gini, min_samples_split=4, score=0.714157 -   0.3s\n"
       ]
      },
      {
       "output_type": "stream",
       "stream": "stderr",
       "text": [
        "[Parallel(n_jobs=-1)]: Done   3 out of   9 | elapsed:    0.5s remaining:    1.1s\n",
        "[Parallel(n_jobs=-1)]: Done   1 out of   9 | elapsed:    0.6s remaining:    5.1s\n",
        "[Parallel(n_jobs=-1)]: Done   7 out of   9 | elapsed:    0.8s remaining:    0.2s\n",
        "[Parallel(n_jobs=-1)]: Done   9 out of   9 | elapsed:    0.8s finished\n"
       ]
      },
      {
       "output_type": "stream",
       "stream": "stdout",
       "text": [
        "\n",
        "\n",
        "####### Optimal parameters: #########\n",
        "{'bootstrap': True,\n",
        " 'criterion': 'gini',\n",
        " 'max_features': 3,\n",
        " 'min_samples_leaf': 9,\n",
        " 'min_samples_split': 3,\n",
        " 'n_estimators': 200}\n",
        "############################## \n",
        "\n",
        "Fitting 3 folds for each of 3 candidates, totalling 9 fits\n",
        "[CV] bootstrap=True, min_samples_leaf=9, n_estimators=200, max_features=3, criterion=gini, min_samples_split=3 \n",
        "[CV] bootstrap=True, min_samples_leaf=9, n_estimators=200, max_features=3, criterion=gini, min_samples_split=3 \n",
        "[CV] bootstrap=True, min_samples_leaf=9, n_estimators=200, max_features=3, criterion=gini, min_samples_split=3 \n",
        "[CV] bootstrap=False, min_samples_leaf=2, n_estimators=50, max_features=2, criterion=entropy, min_samples_split=9 \n",
        "[CV]  bootstrap=True, min_samples_leaf=9, n_estimators=200, max_features=3, criterion=gini, min_samples_split=3, score=0.746832 -   0.6s[CV]  bootstrap=True, min_samples_leaf=9, n_estimators=200, max_features=3, criterion=gini, min_samples_split=3, score=0.756006 -   0.6s[CV]  bootstrap=True, min_samples_leaf=9, n_estimators=200, max_features=3, criterion=gini, min_samples_split=3, score=0.716526 -   0.5s[CV]  bootstrap=False, min_samples_leaf=2, n_estimators=50, max_features=2, criterion=entropy, min_samples_split=9, score=0.717654 -   0.3s\n",
        "\n",
        "\n",
        "\n",
        "[CV] bootstrap=True, min_samples_leaf=7, n_estimators=50, max_features=4, criterion=entropy, min_samples_split=2 \n",
        "[CV] bootstrap=True, min_samples_leaf=7, n_estimators=50, max_features=4, criterion=entropy, min_samples_split=2 \n",
        "[CV] bootstrap=True, min_samples_leaf=7, n_estimators=50, max_features=4, criterion=entropy, min_samples_split=2 \n",
        "[CV] bootstrap=False, min_samples_leaf=2, n_estimators=50, max_features=2, criterion=entropy, min_samples_split=9 \n",
        "[CV]  bootstrap=True, min_samples_leaf=7, n_estimators=50, max_features=4, criterion=entropy, min_samples_split=2, score=0.706547 -   0.2s[CV]  bootstrap=True, min_samples_leaf=7, n_estimators=50, max_features=4, criterion=entropy, min_samples_split=2, score=0.744947 -   0.2s[CV]  bootstrap=True, min_samples_leaf=7, n_estimators=50, max_features=4, criterion=entropy, min_samples_split=2, score=0.743265 -   0.3s[CV]  bootstrap=False, min_samples_leaf=2, n_estimators=50, max_features=2, criterion=entropy, min_samples_split=9, score=0.698478 -   0.2s\n",
        "\n",
        "\n",
        "\n",
        "[CV] bootstrap=False, min_samples_leaf=2, n_estimators=50, max_features=2, criterion=entropy, min_samples_split=9 \n",
        "[CV]  bootstrap=False, min_samples_leaf=2, n_estimators=50, max_features=2, criterion=entropy, min_samples_split=9, score=0.681756 -   0.2s\n"
       ]
      },
      {
       "output_type": "stream",
       "stream": "stderr",
       "text": [
        "[Parallel(n_jobs=-1)]: Done   1 out of   9 | elapsed:    0.3s remaining:    2.1s\n",
        "[Parallel(n_jobs=-1)]: Done   7 out of   9 | elapsed:    1.1s remaining:    0.3s\n",
        "[Parallel(n_jobs=-1)]: Done   9 out of   9 | elapsed:    1.2s finished\n"
       ]
      },
      {
       "output_type": "stream",
       "stream": "stdout",
       "text": [
        "\n",
        "\n",
        "####### Optimal parameters: #########\n",
        "{'bootstrap': False,\n",
        " 'criterion': 'gini',\n",
        " 'max_features': 1,\n",
        " 'min_samples_leaf': 8,\n",
        " 'min_samples_split': 7,\n",
        " 'n_estimators': 200}\n",
        "############################## \n",
        "\n",
        "Fitting 3 folds for each of 3 candidates, totalling 9 fits\n",
        "[CV] bootstrap=False, min_samples_leaf=5, n_estimators=50, max_features=2, criterion=entropy, min_samples_split=8 \n",
        "[CV] bootstrap=False, min_samples_leaf=5, n_estimators=50, max_features=2, criterion=entropy, min_samples_split=8 \n",
        "[CV] bootstrap=False, min_samples_leaf=5, n_estimators=50, max_features=2, criterion=entropy, min_samples_split=8 \n",
        "[CV] bootstrap=False, min_samples_leaf=8, n_estimators=200, max_features=1, criterion=gini, min_samples_split=7 \n",
        "[CV]  bootstrap=False, min_samples_leaf=5, n_estimators=50, max_features=2, criterion=entropy, min_samples_split=8, score=0.733498 -   0.2s[CV]  bootstrap=False, min_samples_leaf=5, n_estimators=50, max_features=2, criterion=entropy, min_samples_split=8, score=0.738067 -   0.2s[CV]  bootstrap=False, min_samples_leaf=5, n_estimators=50, max_features=2, criterion=entropy, min_samples_split=8, score=0.713415 -   0.2s[CV]  bootstrap=False, min_samples_leaf=8, n_estimators=200, max_features=1, criterion=gini, min_samples_split=7, score=0.759641 -   0.5s\n",
        "\n",
        "\n",
        "\n",
        "[CV] bootstrap=True, min_samples_leaf=3, n_estimators=200, max_features=3, criterion=entropy, min_samples_split=3 \n",
        "[CV] bootstrap=False, min_samples_leaf=8, n_estimators=200, max_features=1, criterion=gini, min_samples_split=7 \n",
        "[CV] bootstrap=False, min_samples_leaf=8, n_estimators=200, max_features=1, criterion=gini, min_samples_split=7 \n",
        "[CV] bootstrap=True, min_samples_leaf=3, n_estimators=200, max_features=3, criterion=entropy, min_samples_split=3 \n",
        "[CV]  bootstrap=True, min_samples_leaf=3, n_estimators=200, max_features=3, criterion=entropy, min_samples_split=3, score=0.725813 -   0.8s[CV]  bootstrap=False, min_samples_leaf=8, n_estimators=200, max_features=1, criterion=gini, min_samples_split=7, score=0.736908 -   0.4s[CV]  bootstrap=False, min_samples_leaf=8, n_estimators=200, max_features=1, criterion=gini, min_samples_split=7, score=0.762932 -   0.4s[CV]  bootstrap=True, min_samples_leaf=3, n_estimators=200, max_features=3, criterion=entropy, min_samples_split=3, score=0.746171 -   0.7s\n",
        "\n",
        "\n",
        "\n",
        "[CV] bootstrap=True, min_samples_leaf=3, n_estimators=200, max_features=3, criterion=entropy, min_samples_split=3 \n",
        "[CV]  bootstrap=True, min_samples_leaf=3, n_estimators=200, max_features=3, criterion=entropy, min_samples_split=3, score=0.719171 -   0.6s\n"
       ]
      },
      {
       "output_type": "stream",
       "stream": "stderr",
       "text": [
        "[Parallel(n_jobs=-1)]: Done   3 out of   9 | elapsed:    0.9s remaining:    1.8s\n",
        "[Parallel(n_jobs=-1)]: Done   7 out of   9 | elapsed:    1.1s remaining:    0.3s\n",
        "[Parallel(n_jobs=-1)]: Done   1 out of   9 | elapsed:    1.2s remaining:    9.7s\n",
        "[Parallel(n_jobs=-1)]: Done   9 out of   9 | elapsed:    1.4s finished\n"
       ]
      },
      {
       "output_type": "stream",
       "stream": "stdout",
       "text": [
        "\n",
        "\n",
        "####### Optimal parameters: #########\n",
        "{'bootstrap': False,\n",
        " 'criterion': 'gini',\n",
        " 'max_features': 1,\n",
        " 'min_samples_leaf': 7,\n",
        " 'min_samples_split': 7,\n",
        " 'n_estimators': 250}\n",
        "############################## \n",
        "\n",
        "Fitting 3 folds for each of 3 candidates, totalling 9 fits\n",
        "[CV] bootstrap=False, min_samples_leaf=8, n_estimators=200, max_features=4, criterion=gini, min_samples_split=8 \n",
        "[CV] bootstrap=False, min_samples_leaf=8, n_estimators=200, max_features=4, criterion=gini, min_samples_split=8 \n",
        "[CV] bootstrap=False, min_samples_leaf=8, n_estimators=200, max_features=4, criterion=gini, min_samples_split=8 \n",
        "[CV] bootstrap=True, min_samples_leaf=7, n_estimators=50, max_features=3, criterion=gini, min_samples_split=9 \n",
        "[CV]  bootstrap=False, min_samples_leaf=8, n_estimators=200, max_features=4, criterion=gini, min_samples_split=8, score=0.725167 -   1.2s[CV]  bootstrap=False, min_samples_leaf=8, n_estimators=200, max_features=4, criterion=gini, min_samples_split=8, score=0.718033 -   0.9s[CV]  bootstrap=False, min_samples_leaf=8, n_estimators=200, max_features=4, criterion=gini, min_samples_split=8, score=0.685209 -   0.9s[CV]  bootstrap=True, min_samples_leaf=7, n_estimators=50, max_features=3, criterion=gini, min_samples_split=9, score=0.757567 -   0.2s\n",
        "\n",
        "\n",
        "\n",
        "[CV] bootstrap=True, min_samples_leaf=7, n_estimators=50, max_features=3, criterion=gini, min_samples_split=9 \n",
        "[CV] bootstrap=False, min_samples_leaf=7, n_estimators=250, max_features=1, criterion=gini, min_samples_split=7 \n",
        "[CV] bootstrap=False, min_samples_leaf=7, n_estimators=250, max_features=1, criterion=gini, min_samples_split=7 \n",
        "[CV]  bootstrap=True, min_samples_leaf=7, n_estimators=50, max_features=3, criterion=gini, min_samples_split=9, score=0.752593 -   0.2s[CV]  bootstrap=False, min_samples_leaf=7, n_estimators=250, max_features=1, criterion=gini, min_samples_split=7, score=0.759568 -   0.5s[CV]  bootstrap=False, min_samples_leaf=7, n_estimators=250, max_features=1, criterion=gini, min_samples_split=7, score=0.728597 -   0.4s\n",
        "\n",
        "\n",
        "[CV] bootstrap=True, min_samples_leaf=7, n_estimators=50, max_features=3, criterion=gini, min_samples_split=9 \n",
        "[CV]  bootstrap=True, min_samples_leaf=7, n_estimators=50, max_features=3, criterion=gini, min_samples_split=9, score=0.721895 -   0.1s\n",
        "[CV] bootstrap=False, min_samples_leaf=7, n_estimators=250, max_features=1, criterion=gini, min_samples_split=7 \n",
        "[CV]  bootstrap=False, min_samples_leaf=7, n_estimators=250, max_features=1, criterion=gini, min_samples_split=7, score=0.761137 -   0.6s\n"
       ]
      },
      {
       "output_type": "stream",
       "stream": "stderr",
       "text": [
        "[Parallel(n_jobs=-1)]: Done   1 out of   9 | elapsed:    0.2s remaining:    1.2s\n",
        "[Parallel(n_jobs=-1)]: Done   7 out of   9 | elapsed:    0.8s remaining:    0.2s\n",
        "[Parallel(n_jobs=-1)]: Done   9 out of   9 | elapsed:    0.8s finished\n"
       ]
      },
      {
       "output_type": "stream",
       "stream": "stdout",
       "text": [
        "\n",
        "\n",
        "####### Optimal parameters: #########\n",
        "{'bootstrap': True,\n",
        " 'criterion': 'gini',\n",
        " 'max_features': 1,\n",
        " 'min_samples_leaf': 7,\n",
        " 'min_samples_split': 2,\n",
        " 'n_estimators': 100}\n",
        "############################## \n",
        "\n",
        "[CV] bootstrap=False, min_samples_leaf=5, n_estimators=50, max_features=1, criterion=gini, min_samples_split=6 \n",
        "[CV] bootstrap=False, min_samples_leaf=5, n_estimators=50, max_features=1, criterion=gini, min_samples_split=6 \n",
        "[CV] bootstrap=False, min_samples_leaf=5, n_estimators=50, max_features=1, criterion=gini, min_samples_split=6 \n",
        "[CV] bootstrap=True, min_samples_leaf=7, n_estimators=100, max_features=1, criterion=gini, min_samples_split=2 \n",
        "[CV]  bootstrap=False, min_samples_leaf=5, n_estimators=50, max_features=1, criterion=gini, min_samples_split=6, score=0.750080 -   0.1s[CV]  bootstrap=False, min_samples_leaf=5, n_estimators=50, max_features=1, criterion=gini, min_samples_split=6, score=0.750984 -   0.1s[CV]  bootstrap=False, min_samples_leaf=5, n_estimators=50, max_features=1, criterion=gini, min_samples_split=6, score=0.735456 -   0.1s[CV]  bootstrap=True, min_samples_leaf=7, n_estimators=100, max_features=1, criterion=gini, min_samples_split=2, score=0.771742 -   0.2s\n",
        "\n",
        "\n",
        "\n",
        "[CV] bootstrap=False, min_samples_leaf=8, n_estimators=150, max_features=3, criterion=gini, min_samples_split=3 \n",
        "[CV] bootstrap=True, min_samples_leaf=7, n_estimators=100, max_features=1, criterion=gini, min_samples_split=2 \n",
        "[CV] bootstrap=True, min_samples_leaf=7, n_estimators=100, max_features=1, criterion=gini, min_samples_split=2 \n",
        "[CV] bootstrap=False, min_samples_leaf=8, n_estimators=150, max_features=3, criterion=gini, min_samples_split=3 \n",
        "[CV]  bootstrap=False, min_samples_leaf=8, n_estimators=150, max_features=3, criterion=gini, min_samples_split=3, score=0.750691 -   0.6s[CV]  bootstrap=True, min_samples_leaf=7, n_estimators=100, max_features=1, criterion=gini, min_samples_split=2, score=0.734251 -   0.2s[CV]  bootstrap=True, min_samples_leaf=7, n_estimators=100, max_features=1, criterion=gini, min_samples_split=2, score=0.778550 -   0.2s[CV]  bootstrap=False, min_samples_leaf=8, n_estimators=150, max_features=3, criterion=gini, min_samples_split=3, score=0.753005 -   0.5s\n",
        "\n",
        "\n",
        "\n",
        "[CV] bootstrap=False, min_samples_leaf=8, n_estimators=150, max_features=3, criterion=gini, min_samples_split=3 \n",
        "[CV]  bootstrap=False, min_samples_leaf=8, n_estimators=150, max_features=3, criterion=gini, min_samples_split=3, score=0.719457 -   0.4s\n"
       ]
      }
     ],
     "prompt_number": 4
    },
    {
     "cell_type": "code",
     "collapsed": false,
     "input": [
      "fields = [(i, float) for i in featureNames]"
     ],
     "language": "python",
     "metadata": {},
     "outputs": [],
     "prompt_number": 17
    },
    {
     "cell_type": "code",
     "collapsed": false,
     "input": [
      "d"
     ],
     "language": "python",
     "metadata": {},
     "outputs": [
      {
       "metadata": {},
       "output_type": "pyout",
       "prompt_number": 20,
       "text": [
        "array([[ 0.22394459,  0.12480592,  0.31656909,  0.33468041],\n",
        "       [ 0.23794852,  0.18045862,  0.24068999,  0.34090286],\n",
        "       [ 0.21347646,  0.17174   ,  0.28573487,  0.32904866],\n",
        "       [ 0.22212527,  0.17352904,  0.29485824,  0.30948745],\n",
        "       [ 0.21277741,  0.12166114,  0.34870394,  0.31685751],\n",
        "       [ 0.23293474,  0.14889766,  0.27536526,  0.34280235],\n",
        "       [ 0.24313925,  0.15390876,  0.26080595,  0.34214604],\n",
        "       [ 0.20724596,  0.1627073 ,  0.29864481,  0.33140193],\n",
        "       [ 0.22478934,  0.17403494,  0.29094414,  0.31023158],\n",
        "       [ 0.24664358,  0.14968065,  0.28040885,  0.32326692],\n",
        "       [ 0.25934169,  0.19975325,  0.21259734,  0.32830772],\n",
        "       [ 0.25231251,  0.17759986,  0.26228775,  0.30779989],\n",
        "       [ 0.2027008 ,  0.16165976,  0.27148645,  0.364153  ],\n",
        "       [ 0.2138066 ,  0.11433556,  0.45038643,  0.22147141],\n",
        "       [ 0.28139647,  0.17104018,  0.2215514 ,  0.32601194],\n",
        "       [ 0.20747475,  0.17088071,  0.27660987,  0.34503467],\n",
        "       [ 0.22214452,  0.12706523,  0.36946646,  0.28132379],\n",
        "       [ 0.20420228,  0.17537303,  0.28230625,  0.33811845],\n",
        "       [ 0.22706907,  0.18820568,  0.27608067,  0.30864457],\n",
        "       [ 0.21266556,  0.18237461,  0.27636565,  0.32859418]])"
       ]
      }
     ],
     "prompt_number": 20
    },
    {
     "cell_type": "code",
     "collapsed": false,
     "input": [
      "d1 = []"
     ],
     "language": "python",
     "metadata": {},
     "outputs": [],
     "prompt_number": 21
    },
    {
     "cell_type": "code",
     "collapsed": false,
     "input": [
      "d1 = d1.view(dtype=[(i, 'float64') for i in featureNames])"
     ],
     "language": "python",
     "metadata": {},
     "outputs": [],
     "prompt_number": 25
    },
    {
     "cell_type": "code",
     "collapsed": false,
     "input": [
      "d1"
     ],
     "language": "python",
     "metadata": {},
     "outputs": [
      {
       "metadata": {},
       "output_type": "pyout",
       "prompt_number": 26,
       "text": [
        "array([[ (0.22394458710748466, 0.1248059155121845, 0.3165690894206585, 0.33468040795967263)],\n",
        "       [ (0.2379485245438181, 0.18045861984602649, 0.24068999389769524, 0.34090286171246015)],\n",
        "       [ (0.21347646482256652, 0.17174000022949387, 0.28573487473933, 0.32904866020860946)],\n",
        "       [ (0.2221252671064, 0.17352903744633463, 0.2948582404677196, 0.3094874549795461)],\n",
        "       [ (0.2127774100124481, 0.12166114324317615, 0.3487039382130878, 0.316857508531288)],\n",
        "       [ (0.232934740178821, 0.1488976553431986, 0.2753652562051335, 0.3428023482728469)],\n",
        "       [ (0.24313925091281735, 0.15390876251484403, 0.2608059504583768, 0.34214603611396216)],\n",
        "       [ (0.20724595911328714, 0.1627073026273886, 0.2986448105925998, 0.3314019276667245)],\n",
        "       [ (0.22478934213603624, 0.17403494102219821, 0.2909441358573179, 0.31023158098444736)],\n",
        "       [ (0.24664357998890069, 0.1496806490729295, 0.2804088536321371, 0.323266917306033)],\n",
        "       [ (0.25934168854812717, 0.19975325330715032, 0.21259733788561136, 0.32830772025911115)],\n",
        "       [ (0.2523125082214978, 0.17759985593051703, 0.2622877506975582, 0.30779988515042705)],\n",
        "       [ (0.20270079768029275, 0.16165975608494823, 0.27148644888132895, 0.36415299735342993)],\n",
        "       [ (0.21380660105881094, 0.11433556221245128, 0.4503864264321962, 0.22147141029654172)],\n",
        "       [ (0.28139647090976017, 0.17104018281681502, 0.2215514025504419, 0.3260119437229827)],\n",
        "       [ (0.20747474899620566, 0.17088070847628054, 0.2766098716610876, 0.3450346708664263)],\n",
        "       [ (0.222144519003655, 0.12706522993033287, 0.3694664635851229, 0.28132378748088926)],\n",
        "       [ (0.2042022759463203, 0.17537302817545808, 0.28230624616602956, 0.338118449712192)],\n",
        "       [ (0.22706907250009398, 0.18820567773187694, 0.2760806749360627, 0.3086445748319666)],\n",
        "       [ (0.21266556282003346, 0.18237460694795055, 0.2763656549484927, 0.32859417528352325)]], \n",
        "      dtype=[('PrevMSSSRate', '<f8'), ('PrevEDSSRate', '<f8'), ('PrevEDSS', '<f8'), ('PrevMSSS', '<f8')])"
       ]
      }
     ],
     "prompt_number": 26
    },
    {
     "cell_type": "code",
     "collapsed": false,
     "input": [],
     "language": "python",
     "metadata": {},
     "outputs": []
    }
   ],
   "metadata": {}
  }
 ]
}