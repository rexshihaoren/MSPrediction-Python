{
 "metadata": {
  "name": "",
  "signature": "sha256:0a231ee16815e76da2aad4f2deeceba91c621670391883d821d6982595ed781a"
 },
 "nbformat": 3,
 "nbformat_minor": 0,
 "worksheets": [
  {
   "cells": [
    {
     "cell_type": "code",
     "collapsed": false,
     "input": [
      "import MSPred as MSP\n",
      "MSP.main()"
     ],
     "language": "python",
     "metadata": {},
     "outputs": [
      {
       "name": "stdout",
       "output_type": "stream",
       "stream": "stdout",
       "text": [
        "Which h5 file? do you want to use (PredData or PredData_Impr0-4)PredData\n"
       ]
      },
      {
       "name": "stdout",
       "output_type": "stream",
       "stream": "stdout",
       "text": [
        "Launch Computation (a) or display result (b)? (a/b) a\n"
       ]
      },
      {
       "output_type": "stream",
       "stream": "stdout",
       "text": [
        "Choose datasets from the following in a list format. e.g. ['Core', 'Core_Imp']\n",
        "Core(related output has already been generated)\n",
        "Core_Imp(related output has already been generated)\n",
        "CorewFam_Cut(related output has already been generated)\n",
        "CorewStatic_Cut(related output has already been generated)\n",
        "CorewStatic_Imp(related output has already been generated)\n",
        "CorewStaticwExam_Cut(related output has already been generated)\n",
        "CorewStaticwExam_Imp(related output has already been generated)\n",
        "CorewStaticwExamwMRI_Imp(related output has already been generated)\n",
        "CorewStaticwExamwMRIwoT2L_CutVDL_Imp\n",
        "CorewStaticwExamwMRIwoT2L_Imp\n",
        "CorewStaticwExamwMRIwoT2LwoVDL_Imp\n",
        "CorewStaticwExamwMRIwoVDL_CutT2L_Imp\n",
        "CorewStaticwExamwMRIwoVDL_Imp\n",
        "CorewStaticwExamwoVDL\n",
        "CorewStaticwExamwoVDL_Cut\n",
        "CorewStaticwFam_Cut\n",
        "CorewStaticwGenetics_Cut\n",
        "CorewStaticwGenetics_Imp\n",
        "CorewStaticwMRI_Imp\n",
        "CorewStaticwTreatment\n",
        "CorewStaticwoOW\n",
        "CorewmodFam_Cut\n",
        "CorewoRate\n",
        "EDSS\n",
        "EDSSwEDSSRate\n"
       ]
      },
      {
       "name": "stdout",
       "output_type": "stream",
       "stream": "stdout",
       "text": [
        "--->['Core', 'Core_Imp']\n"
       ]
      },
      {
       "name": "stdout",
       "output_type": "stream",
       "stream": "stdout",
       "text": [
        "Do you want to answer a lot of - useless ? - different questions for each dataset that forces you to stare at your terminal the whole time or would you prefer just to go on with the fitting of all the models for the sected datasets? \n",
        " (Answer 'Complicated' for the first option or just press return for the simple option)\n",
        " -->\n"
       ]
      },
      {
       "output_type": "stream",
       "stream": "stdout",
       "text": [
        "Last couple of questions:\n"
       ]
      },
      {
       "name": "stdout",
       "output_type": "stream",
       "stream": "stdout",
       "text": [
        "Do you want optimisation on all of the model fittings? (return or 'Y' for Yes) \n",
        " -->Y\n"
       ]
      },
      {
       "name": "stdout",
       "output_type": "stream",
       "stream": "stdout",
       "text": [
        "How many Cross-Validations should be done for the validation of the algorithms? (return for default = 10) \n",
        " -->2\n"
       ]
      },
      {
       "name": "stdout",
       "output_type": "stream",
       "stream": "stdout",
       "text": [
        "Do you want to scale the imput data? (return or 'Y' for Yes) \n",
        " -->N\n"
       ]
      },
      {
       "output_type": "stream",
       "stream": "stdout",
       "text": [
        "Saving output for Core\n",
        "\n",
        "###### \\CV of testAlgo number 1 for RandomForest\n",
        "###\n",
        "Using N_iter = 5\n",
        "Simulation with num_features= 6\n",
        "max_features= {'n_estimators': [50, 100, 200, 300], 'max_features': [2, 3, 4], 'bootstrap': [True, False], 'criterion': ['gini', 'entropy']}\n",
        "Fitting 3 folds for each of 5 candidates, totalling 15 fits\n"
       ]
      },
      {
       "output_type": "stream",
       "stream": "stderr",
       "text": [
        "[Parallel(n_jobs=-1)]: Done   1 jobs       | elapsed:    0.9s\n",
        "[Parallel(n_jobs=-1)]: Done  15 out of  15 | elapsed:    2.5s finished\n"
       ]
      },
      {
       "output_type": "stream",
       "stream": "stdout",
       "text": [
        "\n",
        "### Optimal parameters: ###\n",
        "{'bootstrap': True, 'criterion': 'gini', 'max_features': 2, 'n_estimators': 50}\n",
        "####################### \n",
        "\n",
        "Using N_iter = 5\n",
        "Simulation with num_features= 6\n",
        "max_features= {'n_estimators': [50, 100, 200, 300], 'max_features': [2, 3, 4], 'bootstrap': [True, False], 'criterion': ['gini', 'entropy']}\n",
        "Fitting 3 folds for each of 5 candidates, totalling 15 fits\n"
       ]
      },
      {
       "output_type": "stream",
       "stream": "stderr",
       "text": [
        "[Parallel(n_jobs=-1)]: Done   1 jobs       | elapsed:    0.4s\n",
        "[Parallel(n_jobs=-1)]: Done  15 out of  15 | elapsed:    6.5s finished\n"
       ]
      },
      {
       "output_type": "stream",
       "stream": "stdout",
       "text": [
        "\n",
        "### Optimal parameters: ###\n",
        "{'bootstrap': True,\n",
        " 'criterion': 'gini',\n",
        " 'max_features': 3,\n",
        " 'n_estimators': 100}\n",
        "####################### \n",
        "\n",
        "Using N_iter = 5\n",
        "Simulation with num_features= 6\n",
        "max_features= {'n_estimators': [50, 100, 200, 300], 'max_features': [2, 3, 4], 'bootstrap': [True, False], 'criterion': ['gini', 'entropy']}\n",
        "Fitting 3 folds for each of 5 candidates, totalling 15 fits\n"
       ]
      },
      {
       "output_type": "stream",
       "stream": "stderr",
       "text": [
        "[Parallel(n_jobs=-1)]: Done   1 jobs       | elapsed:    2.6s\n",
        "[Parallel(n_jobs=-1)]: Done   9 out of  15 | elapsed:    5.1s remaining:    3.4s\n",
        "[Parallel(n_jobs=-1)]: Done  15 out of  15 | elapsed:    6.4s finished\n"
       ]
      },
      {
       "output_type": "stream",
       "stream": "stdout",
       "text": [
        "\n",
        "### Optimal parameters: ###\n",
        "{'bootstrap': True,\n",
        " 'criterion': 'entropy',\n",
        " 'max_features': 3,\n",
        " 'n_estimators': 200}\n",
        "####################### \n",
        "\n",
        "Using N_iter = 5\n",
        "Simulation with num_features= 6\n",
        "max_features= {'n_estimators': [50, 100, 200, 300], 'max_features': [2, 3, 4], 'bootstrap': [True, False], 'criterion': ['gini', 'entropy']}\n",
        "Fitting 3 folds for each of 5 candidates, totalling 15 fits\n"
       ]
      },
      {
       "output_type": "stream",
       "stream": "stderr",
       "text": [
        "[Parallel(n_jobs=-1)]: Done   1 jobs       | elapsed:    0.4s\n",
        "[Parallel(n_jobs=-1)]: Done   9 out of  15 | elapsed:    3.1s remaining:    2.0s\n",
        "[Parallel(n_jobs=-1)]: Done  15 out of  15 | elapsed:    3.6s finished\n"
       ]
      },
      {
       "output_type": "stream",
       "stream": "stdout",
       "text": [
        "\n",
        "### Optimal parameters: ###\n",
        "{'bootstrap': True,\n",
        " 'criterion': 'entropy',\n",
        " 'max_features': 3,\n",
        " 'n_estimators': 300}\n",
        "####################### \n",
        "\n",
        "Using N_iter = 5\n",
        "Simulation with num_features= 6\n",
        "max_features= {'n_estimators': [50, 100, 200, 300], 'max_features': [2, 3, 4], 'bootstrap': [True, False], 'criterion': ['gini', 'entropy']}\n",
        "Fitting 3 folds for each of 5 candidates, totalling 15 fits\n"
       ]
      },
      {
       "output_type": "stream",
       "stream": "stderr",
       "text": [
        "[Parallel(n_jobs=-1)]: Done   1 jobs       | elapsed:    3.1s\n",
        "[Parallel(n_jobs=-1)]: Done   9 out of  15 | elapsed:    4.8s remaining:    3.2s\n",
        "[Parallel(n_jobs=-1)]: Done  15 out of  15 | elapsed:    5.1s finished\n"
       ]
      },
      {
       "output_type": "stream",
       "stream": "stdout",
       "text": [
        "\n",
        "### Optimal parameters: ###\n",
        "{'bootstrap': True, 'criterion': 'gini', 'max_features': 2, 'n_estimators': 50}\n",
        "####################### \n",
        "\n",
        "Using N_iter = 5\n",
        "Simulation with num_features= 6\n",
        "max_features= {'n_estimators': [50, 100, 200, 300], 'max_features': [2, 3, 4], 'bootstrap': [True, False], 'criterion': ['gini', 'entropy']}\n",
        "Fitting 3 folds for each of 5 candidates, totalling 15 fits\n"
       ]
      },
      {
       "output_type": "stream",
       "stream": "stderr",
       "text": [
        "[Parallel(n_jobs=-1)]: Done   1 jobs       | elapsed:    0.6s\n",
        "[Parallel(n_jobs=-1)]: Done  15 out of  15 | elapsed:    5.7s finished\n"
       ]
      },
      {
       "output_type": "stream",
       "stream": "stdout",
       "text": [
        "\n",
        "### Optimal parameters: ###\n",
        "{'bootstrap': True,\n",
        " 'criterion': 'entropy',\n",
        " 'max_features': 2,\n",
        " 'n_estimators': 100}\n",
        "####################### \n",
        "\n",
        "Using N_iter = 5\n",
        "Simulation with num_features= 6\n",
        "max_features= {'n_estimators': [50, 100, 200, 300], 'max_features': [2, 3, 4], 'bootstrap': [True, False], 'criterion': ['gini', 'entropy']}\n",
        "Fitting 3 folds for each of 5 candidates, totalling 15 fits\n"
       ]
      },
      {
       "output_type": "stream",
       "stream": "stderr",
       "text": [
        "[Parallel(n_jobs=-1)]: Done   1 jobs       | elapsed:    0.6s\n",
        "[Parallel(n_jobs=-1)]: Done   9 out of  15 | elapsed:    1.8s remaining:    1.2s\n",
        "[Parallel(n_jobs=-1)]: Done  15 out of  15 | elapsed:    1.9s finished\n"
       ]
      },
      {
       "output_type": "stream",
       "stream": "stdout",
       "text": [
        "\n",
        "### Optimal parameters: ###\n",
        "{'bootstrap': True,\n",
        " 'criterion': 'entropy',\n",
        " 'max_features': 4,\n",
        " 'n_estimators': 50}\n",
        "####################### \n",
        "\n",
        "Using N_iter = 5\n",
        "Simulation with num_features= 6\n",
        "max_features= {'n_estimators': [50, 100, 200, 300], 'max_features': [2, 3, 4], 'bootstrap': [True, False], 'criterion': ['gini', 'entropy']}\n",
        "Fitting 3 folds for each of 5 candidates, totalling 15 fits\n"
       ]
      },
      {
       "output_type": "stream",
       "stream": "stderr",
       "text": [
        "[Parallel(n_jobs=-1)]: Done   1 jobs       | elapsed:    2.7s\n",
        "[Parallel(n_jobs=-1)]: Done   9 out of  15 | elapsed:    7.6s remaining:    5.1s\n",
        "[Parallel(n_jobs=-1)]: Done  15 out of  15 | elapsed:    7.6s finished\n"
       ]
      },
      {
       "output_type": "stream",
       "stream": "stdout",
       "text": [
        "\n",
        "### Optimal parameters: ###\n",
        "{'bootstrap': True,\n",
        " 'criterion': 'entropy',\n",
        " 'max_features': 3,\n",
        " 'n_estimators': 50}\n",
        "####################### \n",
        "\n",
        "Using N_iter = 5\n",
        "Simulation with num_features= 6\n",
        "max_features= {'n_estimators': [50, 100, 200, 300], 'max_features': [2, 3, 4], 'bootstrap': [True, False], 'criterion': ['gini', 'entropy']}\n",
        "Fitting 3 folds for each of 5 candidates, totalling 15 fits\n"
       ]
      },
      {
       "output_type": "stream",
       "stream": "stderr",
       "text": [
        "[Parallel(n_jobs=-1)]: Done   1 jobs       | elapsed:    0.4s\n",
        "[Parallel(n_jobs=-1)]: Done   9 out of  15 | elapsed:    1.9s remaining:    1.2s\n",
        "[Parallel(n_jobs=-1)]: Done  15 out of  15 | elapsed:    3.3s finished\n"
       ]
      },
      {
       "output_type": "stream",
       "stream": "stdout",
       "text": [
        "\n",
        "### Optimal parameters: ###\n",
        "{'bootstrap': True,\n",
        " 'criterion': 'entropy',\n",
        " 'max_features': 2,\n",
        " 'n_estimators': 100}\n",
        "####################### \n",
        "\n",
        "Using N_iter = 5\n",
        "Simulation with num_features= 6\n",
        "max_features= {'n_estimators': [50, 100, 200, 300], 'max_features': [2, 3, 4], 'bootstrap': [True, False], 'criterion': ['gini', 'entropy']}\n",
        "Fitting 3 folds for each of 5 candidates, totalling 15 fits\n"
       ]
      },
      {
       "output_type": "stream",
       "stream": "stderr",
       "text": [
        "[Parallel(n_jobs=-1)]: Done   1 jobs       | elapsed:    2.2s\n",
        "[Parallel(n_jobs=-1)]: Done  15 out of  15 | elapsed:    3.1s finished\n"
       ]
      },
      {
       "output_type": "stream",
       "stream": "stdout",
       "text": [
        "\n",
        "### Optimal parameters: ###\n",
        "{'bootstrap': True,\n",
        " 'criterion': 'entropy',\n",
        " 'max_features': 2,\n",
        " 'n_estimators': 100}\n",
        "####################### \n",
        "\n",
        "\n",
        "###### \\CV of testAlgo number 2 for RandomForest\n",
        "###\n",
        "Using N_iter = 5\n",
        "Simulation with num_features= 6\n",
        "max_features= {'n_estimators': [50, 100, 200, 300], 'max_features': [2, 3, 4], 'bootstrap': [True, False], 'criterion': ['gini', 'entropy']}\n",
        "Fitting 3 folds for each of 5 candidates, totalling 15 fits\n"
       ]
      },
      {
       "output_type": "stream",
       "stream": "stderr",
       "text": [
        "[Parallel(n_jobs=-1)]: Done   1 jobs       | elapsed:    0.4s\n",
        "[Parallel(n_jobs=-1)]: Done   9 out of  15 | elapsed:    5.8s remaining:    3.8s\n",
        "[Parallel(n_jobs=-1)]: Done  15 out of  15 | elapsed:    7.4s finished\n"
       ]
      },
      {
       "output_type": "stream",
       "stream": "stdout",
       "text": [
        "\n",
        "### Optimal parameters: ###\n",
        "{'bootstrap': True,\n",
        " 'criterion': 'entropy',\n",
        " 'max_features': 4,\n",
        " 'n_estimators': 100}\n",
        "####################### \n",
        "\n",
        "Using N_iter = 5\n",
        "Simulation with num_features= 6\n",
        "max_features= {'n_estimators': [50, 100, 200, 300], 'max_features': [2, 3, 4], 'bootstrap': [True, False], 'criterion': ['gini', 'entropy']}\n",
        "Fitting 3 folds for each of 5 candidates, totalling 15 fits\n"
       ]
      },
      {
       "output_type": "stream",
       "stream": "stderr",
       "text": [
        "[Parallel(n_jobs=-1)]: Done   1 jobs       | elapsed:    1.0s\n",
        "[Parallel(n_jobs=-1)]: Done   9 out of  15 | elapsed:    2.8s remaining:    1.8s\n",
        "[Parallel(n_jobs=-1)]: Done  15 out of  15 | elapsed:    3.5s finished\n"
       ]
      },
      {
       "output_type": "stream",
       "stream": "stdout",
       "text": [
        "\n",
        "### Optimal parameters: ###\n",
        "{'bootstrap': True,\n",
        " 'criterion': 'entropy',\n",
        " 'max_features': 4,\n",
        " 'n_estimators': 100}\n",
        "####################### \n",
        "\n",
        "Using N_iter = 5\n",
        "Simulation with num_features= 6\n",
        "max_features= {'n_estimators': [50, 100, 200, 300], 'max_features': [2, 3, 4], 'bootstrap': [True, False], 'criterion': ['gini', 'entropy']}\n",
        "Fitting 3 folds for each of 5 candidates, totalling 15 fits\n"
       ]
      },
      {
       "output_type": "stream",
       "stream": "stderr",
       "text": [
        "[Parallel(n_jobs=-1)]: Done   1 jobs       | elapsed:    1.2s\n",
        "[Parallel(n_jobs=-1)]: Done   9 out of  15 | elapsed:    1.3s remaining:    0.9s\n",
        "[Parallel(n_jobs=-1)]: Done  15 out of  15 | elapsed:    3.3s finished\n"
       ]
      },
      {
       "output_type": "stream",
       "stream": "stdout",
       "text": [
        "\n",
        "### Optimal parameters: ###\n",
        "{'bootstrap': True,\n",
        " 'criterion': 'entropy',\n",
        " 'max_features': 2,\n",
        " 'n_estimators': 50}\n",
        "####################### \n",
        "\n",
        "Using N_iter = 5\n",
        "Simulation with num_features= 6\n",
        "max_features= {'n_estimators': [50, 100, 200, 300], 'max_features': [2, 3, 4], 'bootstrap': [True, False], 'criterion': ['gini', 'entropy']}\n",
        "Fitting 3 folds for each of 5 candidates, totalling 15 fits\n"
       ]
      },
      {
       "output_type": "stream",
       "stream": "stderr",
       "text": [
        "[Parallel(n_jobs=-1)]: Done   1 jobs       | elapsed:    1.0s\n",
        "[Parallel(n_jobs=-1)]: Done   9 out of  15 | elapsed:    2.8s remaining:    1.9s\n",
        "[Parallel(n_jobs=-1)]: Done  15 out of  15 | elapsed:    3.9s finished\n"
       ]
      },
      {
       "output_type": "stream",
       "stream": "stdout",
       "text": [
        "\n",
        "### Optimal parameters: ###\n",
        "{'bootstrap': True,\n",
        " 'criterion': 'entropy',\n",
        " 'max_features': 2,\n",
        " 'n_estimators': 300}\n",
        "####################### \n",
        "\n",
        "Using N_iter = 5\n",
        "Simulation with num_features= 6\n",
        "max_features= {'n_estimators': [50, 100, 200, 300], 'max_features': [2, 3, 4], 'bootstrap': [True, False], 'criterion': ['gini', 'entropy']}\n",
        "Fitting 3 folds for each of 5 candidates, totalling 15 fits\n"
       ]
      },
      {
       "output_type": "stream",
       "stream": "stderr",
       "text": [
        "[Parallel(n_jobs=-1)]: Done   1 jobs       | elapsed:    0.3s\n",
        "[Parallel(n_jobs=-1)]: Done   9 out of  15 | elapsed:    5.1s remaining:    3.4s\n",
        "[Parallel(n_jobs=-1)]: Done  15 out of  15 | elapsed:    5.9s finished\n"
       ]
      },
      {
       "output_type": "stream",
       "stream": "stdout",
       "text": [
        "\n",
        "### Optimal parameters: ###\n",
        "{'bootstrap': True,\n",
        " 'criterion': 'gini',\n",
        " 'max_features': 2,\n",
        " 'n_estimators': 300}\n",
        "####################### \n",
        "\n",
        "Using N_iter = 5\n",
        "Simulation with num_features= 6\n",
        "max_features= {'n_estimators': [50, 100, 200, 300], 'max_features': [2, 3, 4], 'bootstrap': [True, False], 'criterion': ['gini', 'entropy']}\n",
        "Fitting 3 folds for each of 5 candidates, totalling 15 fits\n"
       ]
      },
      {
       "output_type": "stream",
       "stream": "stderr",
       "text": [
        "[Parallel(n_jobs=-1)]: Done   1 jobs       | elapsed:    1.9s\n",
        "[Parallel(n_jobs=-1)]: Done  15 out of  15 | elapsed:    6.6s finished\n"
       ]
      },
      {
       "output_type": "stream",
       "stream": "stdout",
       "text": [
        "\n",
        "### Optimal parameters: ###\n",
        "{'bootstrap': True,\n",
        " 'criterion': 'gini',\n",
        " 'max_features': 2,\n",
        " 'n_estimators': 100}\n",
        "####################### \n",
        "\n",
        "Using N_iter = 5\n",
        "Simulation with num_features= 6\n",
        "max_features= {'n_estimators': [50, 100, 200, 300], 'max_features': [2, 3, 4], 'bootstrap': [True, False], 'criterion': ['gini', 'entropy']}\n",
        "Fitting 3 folds for each of 5 candidates, totalling 15 fits\n"
       ]
      },
      {
       "output_type": "stream",
       "stream": "stderr",
       "text": [
        "[Parallel(n_jobs=-1)]: Done   1 jobs       | elapsed:    4.4s\n",
        "[Parallel(n_jobs=-1)]: Done  15 out of  15 | elapsed:    7.9s finished\n"
       ]
      },
      {
       "output_type": "stream",
       "stream": "stdout",
       "text": [
        "\n",
        "### Optimal parameters: ###\n",
        "{'bootstrap': True,\n",
        " 'criterion': 'entropy',\n",
        " 'max_features': 3,\n",
        " 'n_estimators': 300}\n",
        "####################### \n",
        "\n",
        "Using N_iter = 5\n",
        "Simulation with num_features= 6\n",
        "max_features= {'n_estimators': [50, 100, 200, 300], 'max_features': [2, 3, 4], 'bootstrap': [True, False], 'criterion': ['gini', 'entropy']}\n",
        "Fitting 3 folds for each of 5 candidates, totalling 15 fits"
       ]
      },
      {
       "output_type": "stream",
       "stream": "stdout",
       "text": [
        "\n"
       ]
      },
      {
       "output_type": "stream",
       "stream": "stderr",
       "text": [
        "[Parallel(n_jobs=-1)]: Done   1 jobs       | elapsed:    2.0s\n",
        "[Parallel(n_jobs=-1)]: Done   9 out of  15 | elapsed:    3.1s remaining:    2.1s\n",
        "[Parallel(n_jobs=-1)]: Done  15 out of  15 | elapsed:    6.7s finished\n"
       ]
      },
      {
       "output_type": "stream",
       "stream": "stdout",
       "text": [
        "\n",
        "### Optimal parameters: ###\n",
        "{'bootstrap': True,\n",
        " 'criterion': 'entropy',\n",
        " 'max_features': 2,\n",
        " 'n_estimators': 300}\n",
        "####################### \n",
        "\n",
        "Using N_iter = 5\n",
        "Simulation with num_features= 6\n",
        "max_features= {'n_estimators': [50, 100, 200, 300], 'max_features': [2, 3, 4], 'bootstrap': [True, False], 'criterion': ['gini', 'entropy']}\n",
        "Fitting 3 folds for each of 5 candidates, totalling 15 fits\n"
       ]
      },
      {
       "output_type": "stream",
       "stream": "stderr",
       "text": [
        "[Parallel(n_jobs=-1)]: Done   1 jobs       | elapsed:    0.7s\n",
        "[Parallel(n_jobs=-1)]: Done   9 out of  15 | elapsed:    2.6s remaining:    1.7s\n",
        "[Parallel(n_jobs=-1)]: Done  15 out of  15 | elapsed:    4.3s finished\n"
       ]
      },
      {
       "output_type": "stream",
       "stream": "stdout",
       "text": [
        "\n",
        "### Optimal parameters: ###\n",
        "{'bootstrap': True,\n",
        " 'criterion': 'entropy',\n",
        " 'max_features': 4,\n",
        " 'n_estimators': 200}\n",
        "####################### \n",
        "\n",
        "Using N_iter = 5\n",
        "Simulation with num_features= 6\n",
        "max_features= {'n_estimators': [50, 100, 200, 300], 'max_features': [2, 3, 4], 'bootstrap': [True, False], 'criterion': ['gini', 'entropy']}\n",
        "Fitting 3 folds for each of 5 candidates, totalling 15 fits\n"
       ]
      },
      {
       "output_type": "stream",
       "stream": "stderr",
       "text": [
        "[Parallel(n_jobs=-1)]: Done   1 jobs       | elapsed:    0.3s\n",
        "[Parallel(n_jobs=-1)]: Done   9 out of  15 | elapsed:    1.8s remaining:    1.2s\n",
        "[Parallel(n_jobs=-1)]: Done  15 out of  15 | elapsed:    3.6s finished\n"
       ]
      },
      {
       "output_type": "stream",
       "stream": "stdout",
       "text": [
        "\n",
        "### Optimal parameters: ###\n",
        "{'bootstrap': True,\n",
        " 'criterion': 'entropy',\n",
        " 'max_features': 3,\n",
        " 'n_estimators': 200}\n",
        "####################### \n",
        "\n",
        "Saving output to file for RandomForest\n",
        "\n",
        "###### \\CV of testAlgo number 1 for LogisticRegression\n",
        "###\n",
        "Using N_iter = 14\n",
        "Simulation with num_features= 6\n",
        "max_features= {'penalty': ['l1', 'l2'], 'C': array([ 0.1 ,  0.19,  0.28,  0.37,  0.46,  0.55,  0.64,  0.73,  0.82,\n",
        "        0.91,  1.  ]), 'intercept_scaling': array([ 0.1 ,  0.19,  0.28,  0.37,  0.46,  0.55,  0.64,  0.73,  0.82,\n",
        "        0.91,  1.  ]), 'tol': [0.0001, 1e-05], 'fit_intercept': [True]}\n",
        "Fitting 3 folds for each of 14 candidates, totalling 42 fits\n"
       ]
      },
      {
       "output_type": "stream",
       "stream": "stderr",
       "text": [
        "[Parallel(n_jobs=-1)]: Done   1 jobs       | elapsed:    0.0s\n",
        "[Parallel(n_jobs=-1)]: Done  36 out of  42 | elapsed:    0.1s remaining:    0.0s\n",
        "[Parallel(n_jobs=-1)]: Done  42 out of  42 | elapsed:    0.1s finished\n"
       ]
      },
      {
       "output_type": "stream",
       "stream": "stdout",
       "text": [
        "\n",
        "### Optimal parameters: ###\n",
        "{'C': 0.19,\n",
        " 'fit_intercept': True,\n",
        " 'intercept_scaling': 0.19,\n",
        " 'penalty': 'l1',\n",
        " 'tol': 0.0001}\n",
        "####################### \n",
        "\n",
        "Using N_iter = 14\n",
        "Simulation with num_features= 6\n",
        "max_features= {'penalty': ['l1', 'l2'], 'C': array([ 0.1 ,  0.19,  0.28,  0.37,  0.46,  0.55,  0.64,  0.73,  0.82,\n",
        "        0.91,  1.  ]), 'intercept_scaling': array([ 0.1 ,  0.19,  0.28,  0.37,  0.46,  0.55,  0.64,  0.73,  0.82,\n",
        "        0.91,  1.  ]), 'tol': [0.0001, 1e-05], 'fit_intercept': [True]}\n",
        "Fitting 3 folds for each of 14 candidates, totalling 42 fits\n"
       ]
      },
      {
       "output_type": "stream",
       "stream": "stderr",
       "text": [
        "[Parallel(n_jobs=-1)]: Done   1 jobs       | elapsed:    0.0s\n",
        "[Parallel(n_jobs=-1)]: Done  36 out of  42 | elapsed:    0.1s remaining:    0.0s\n",
        "[Parallel(n_jobs=-1)]: Done  42 out of  42 | elapsed:    0.1s finished\n"
       ]
      },
      {
       "output_type": "stream",
       "stream": "stdout",
       "text": [
        "\n",
        "### Optimal parameters: ###\n",
        "{'C': 0.28000000000000003,\n",
        " 'fit_intercept': True,\n",
        " 'intercept_scaling': 0.10000000000000001,\n",
        " 'penalty': 'l1',\n",
        " 'tol': 0.0001}\n",
        "####################### \n",
        "\n",
        "Using N_iter = 14\n",
        "Simulation with num_features= 6\n",
        "max_features= {'penalty': ['l1', 'l2'], 'C': array([ 0.1 ,  0.19,  0.28,  0.37,  0.46,  0.55,  0.64,  0.73,  0.82,\n",
        "        0.91,  1.  ]), 'intercept_scaling': array([ 0.1 ,  0.19,  0.28,  0.37,  0.46,  0.55,  0.64,  0.73,  0.82,\n",
        "        0.91,  1.  ]), 'tol': [0.0001, 1e-05], 'fit_intercept': [True]}\n",
        "Fitting 3 folds for each of 14 candidates, totalling 42 fits\n"
       ]
      },
      {
       "output_type": "stream",
       "stream": "stderr",
       "text": [
        "[Parallel(n_jobs=-1)]: Done   1 jobs       | elapsed:    0.0s\n",
        "[Parallel(n_jobs=-1)]: Done  36 out of  42 | elapsed:    0.1s remaining:    0.0s\n",
        "[Parallel(n_jobs=-1)]: Done  42 out of  42 | elapsed:    0.1s finished\n"
       ]
      },
      {
       "output_type": "stream",
       "stream": "stdout",
       "text": [
        "\n",
        "### Optimal parameters: ###\n",
        "{'C': 0.81999999999999995,\n",
        " 'fit_intercept': True,\n",
        " 'intercept_scaling': 0.81999999999999995,\n",
        " 'penalty': 'l1',\n",
        " 'tol': 1e-05}\n",
        "####################### \n",
        "\n",
        "Using N_iter = 14\n",
        "Simulation with num_features= 6\n",
        "max_features= {'penalty': ['l1', 'l2'], 'C': array([ 0.1 ,  0.19,  0.28,  0.37,  0.46,  0.55,  0.64,  0.73,  0.82,\n",
        "        0.91,  1.  ]), 'intercept_scaling': array([ 0.1 ,  0.19,  0.28,  0.37,  0.46,  0.55,  0.64,  0.73,  0.82,\n",
        "        0.91,  1.  ]), 'tol': [0.0001, 1e-05], 'fit_intercept': [True]}\n",
        "Fitting 3 folds for each of 14 candidates, totalling 42 fits\n"
       ]
      },
      {
       "output_type": "stream",
       "stream": "stderr",
       "text": [
        "[Parallel(n_jobs=-1)]: Done   1 jobs       | elapsed:    0.0s\n",
        "[Parallel(n_jobs=-1)]: Done  36 out of  42 | elapsed:    0.1s remaining:    0.0s\n",
        "[Parallel(n_jobs=-1)]: Done  42 out of  42 | elapsed:    0.1s finished\n"
       ]
      },
      {
       "output_type": "stream",
       "stream": "stdout",
       "text": [
        "\n",
        "### Optimal parameters: ###\n",
        "{'C': 1.0,\n",
        " 'fit_intercept': True,\n",
        " 'intercept_scaling': 0.10000000000000001,\n",
        " 'penalty': 'l2',\n",
        " 'tol': 0.0001}\n",
        "####################### \n",
        "\n",
        "Using N_iter = 14\n",
        "Simulation with num_features= 6\n",
        "max_features= {'penalty': ['l1', 'l2'], 'C': array([ 0.1 ,  0.19,  0.28,  0.37,  0.46,  0.55,  0.64,  0.73,  0.82,\n",
        "        0.91,  1.  ]), 'intercept_scaling': array([ 0.1 ,  0.19,  0.28,  0.37,  0.46,  0.55,  0.64,  0.73,  0.82,\n",
        "        0.91,  1.  ]), 'tol': [0.0001, 1e-05], 'fit_intercept': [True]}\n",
        "Fitting 3 folds for each of 14 candidates, totalling 42 fits\n"
       ]
      },
      {
       "output_type": "stream",
       "stream": "stderr",
       "text": [
        "[Parallel(n_jobs=-1)]: Done   1 jobs       | elapsed:    0.0s\n",
        "[Parallel(n_jobs=-1)]: Done  36 out of  42 | elapsed:    0.1s remaining:    0.0s\n",
        "[Parallel(n_jobs=-1)]: Done  42 out of  42 | elapsed:    0.1s finished\n"
       ]
      },
      {
       "output_type": "stream",
       "stream": "stdout",
       "text": [
        "\n",
        "### Optimal parameters: ###\n",
        "{'C': 0.64000000000000001,\n",
        " 'fit_intercept': True,\n",
        " 'intercept_scaling': 0.28000000000000003,\n",
        " 'penalty': 'l1',\n",
        " 'tol': 1e-05}\n",
        "####################### \n",
        "\n",
        "Using N_iter = 14\n",
        "Simulation with num_features= 6\n",
        "max_features= {'penalty': ['l1', 'l2'], 'C': array([ 0.1 ,  0.19,  0.28,  0.37,  0.46,  0.55,  0.64,  0.73,  0.82,\n",
        "        0.91,  1.  ]), 'intercept_scaling': array([ 0.1 ,  0.19,  0.28,  0.37,  0.46,  0.55,  0.64,  0.73,  0.82,\n",
        "        0.91,  1.  ]), 'tol': [0.0001, 1e-05], 'fit_intercept': [True]}\n",
        "Fitting 3 folds for each of 14 candidates, totalling 42 fits\n"
       ]
      },
      {
       "output_type": "stream",
       "stream": "stderr",
       "text": [
        "[Parallel(n_jobs=-1)]: Done   1 jobs       | elapsed:    0.0s\n",
        "[Parallel(n_jobs=-1)]: Done  36 out of  42 | elapsed:    0.1s remaining:    0.0s\n",
        "[Parallel(n_jobs=-1)]: Done  42 out of  42 | elapsed:    0.1s finished\n"
       ]
      },
      {
       "output_type": "stream",
       "stream": "stdout",
       "text": [
        "\n",
        "### Optimal parameters: ###\n",
        "{'C': 0.81999999999999995,\n",
        " 'fit_intercept': True,\n",
        " 'intercept_scaling': 0.90999999999999992,\n",
        " 'penalty': 'l2',\n",
        " 'tol': 0.0001}\n",
        "####################### \n",
        "\n",
        "Using N_iter = 14\n",
        "Simulation with num_features= 6\n",
        "max_features= {'penalty': ['l1', 'l2'], 'C': array([ 0.1 ,  0.19,  0.28,  0.37,  0.46,  0.55,  0.64,  0.73,  0.82,\n",
        "        0.91,  1.  ]), 'intercept_scaling': array([ 0.1 ,  0.19,  0.28,  0.37,  0.46,  0.55,  0.64,  0.73,  0.82,\n",
        "        0.91,  1.  ]), 'tol': [0.0001, 1e-05], 'fit_intercept': [True]}\n",
        "Fitting 3 folds for each of 14 candidates, totalling 42 fits\n"
       ]
      },
      {
       "output_type": "stream",
       "stream": "stderr",
       "text": [
        "[Parallel(n_jobs=-1)]: Done   1 jobs       | elapsed:    0.0s\n",
        "[Parallel(n_jobs=-1)]: Done  36 out of  42 | elapsed:    0.1s remaining:    0.0s\n",
        "[Parallel(n_jobs=-1)]: Done  42 out of  42 | elapsed:    0.1s finished\n"
       ]
      },
      {
       "output_type": "stream",
       "stream": "stdout",
       "text": [
        "\n",
        "### Optimal parameters: ###\n",
        "{'C': 0.45999999999999996,\n",
        " 'fit_intercept': True,\n",
        " 'intercept_scaling': 1.0,\n",
        " 'penalty': 'l1',\n",
        " 'tol': 0.0001}\n",
        "####################### \n",
        "\n",
        "Using N_iter = 14\n",
        "Simulation with num_features= 6\n",
        "max_features= {'penalty': ['l1', 'l2'], 'C': array([ 0.1 ,  0.19,  0.28,  0.37,  0.46,  0.55,  0.64,  0.73,  0.82,\n",
        "        0.91,  1.  ]), 'intercept_scaling': array([ 0.1 ,  0.19,  0.28,  0.37,  0.46,  0.55,  0.64,  0.73,  0.82,\n",
        "        0.91,  1.  ]), 'tol': [0.0001, 1e-05], 'fit_intercept': [True]}\n",
        "Fitting 3 folds for each of 14 candidates, totalling 42 fits\n"
       ]
      },
      {
       "output_type": "stream",
       "stream": "stderr",
       "text": [
        "[Parallel(n_jobs=-1)]: Done   1 jobs       | elapsed:    0.0s\n",
        "[Parallel(n_jobs=-1)]: Done  36 out of  42 | elapsed:    0.1s remaining:    0.0s\n",
        "[Parallel(n_jobs=-1)]: Done  42 out of  42 | elapsed:    0.1s finished\n"
       ]
      },
      {
       "output_type": "stream",
       "stream": "stdout",
       "text": [
        "\n",
        "### Optimal parameters: ###\n",
        "{'C': 0.72999999999999998,\n",
        " 'fit_intercept': True,\n",
        " 'intercept_scaling': 0.10000000000000001,\n",
        " 'penalty': 'l1',\n",
        " 'tol': 1e-05}\n",
        "####################### \n",
        "\n",
        "Using N_iter = 14\n",
        "Simulation with num_features= 6\n",
        "max_features= {'penalty': ['l1', 'l2'], 'C': array([ 0.1 ,  0.19,  0.28,  0.37,  0.46,  0.55,  0.64,  0.73,  0.82,\n",
        "        0.91,  1.  ]), 'intercept_scaling': array([ 0.1 ,  0.19,  0.28,  0.37,  0.46,  0.55,  0.64,  0.73,  0.82,\n",
        "        0.91,  1.  ]), 'tol': [0.0001, 1e-05], 'fit_intercept': [True]}\n",
        "Fitting 3 folds for each of 14 candidates, totalling 42 fits\n"
       ]
      },
      {
       "output_type": "stream",
       "stream": "stderr",
       "text": [
        "[Parallel(n_jobs=-1)]: Done   1 jobs       | elapsed:    0.0s\n",
        "[Parallel(n_jobs=-1)]: Done  36 out of  42 | elapsed:    0.1s remaining:    0.0s\n",
        "[Parallel(n_jobs=-1)]: Done  42 out of  42 | elapsed:    0.1s finished\n"
       ]
      },
      {
       "output_type": "stream",
       "stream": "stdout",
       "text": [
        "\n",
        "### Optimal parameters: ###\n",
        "{'C': 0.54999999999999993,\n",
        " 'fit_intercept': True,\n",
        " 'intercept_scaling': 0.10000000000000001,\n",
        " 'penalty': 'l1',\n",
        " 'tol': 1e-05}\n",
        "####################### \n",
        "\n",
        "Using N_iter = 14\n",
        "Simulation with num_features= 6\n",
        "max_features= {'penalty': ['l1', 'l2'], 'C': array([ 0.1 ,  0.19,  0.28,  0.37,  0.46,  0.55,  0.64,  0.73,  0.82,\n",
        "        0.91,  1.  ]), 'intercept_scaling': array([ 0.1 ,  0.19,  0.28,  0.37,  0.46,  0.55,  0.64,  0.73,  0.82,\n",
        "        0.91,  1.  ]), 'tol': [0.0001, 1e-05], 'fit_intercept': [True]}\n",
        "Fitting 3 folds for each of 14 candidates, totalling 42 fits\n"
       ]
      },
      {
       "output_type": "stream",
       "stream": "stderr",
       "text": [
        "[Parallel(n_jobs=-1)]: Done   1 jobs       | elapsed:    0.0s\n",
        "[Parallel(n_jobs=-1)]: Done  36 out of  42 | elapsed:    0.1s remaining:    0.0s\n",
        "[Parallel(n_jobs=-1)]: Done  42 out of  42 | elapsed:    0.1s finished\n"
       ]
      },
      {
       "output_type": "stream",
       "stream": "stdout",
       "text": [
        "\n",
        "### Optimal parameters: ###\n",
        "{'C': 1.0,\n",
        " 'fit_intercept': True,\n",
        " 'intercept_scaling': 0.72999999999999998,\n",
        " 'penalty': 'l1',\n",
        " 'tol': 0.0001}\n",
        "####################### \n",
        "\n",
        "\n",
        "###### \\CV of testAlgo number 2 for LogisticRegression\n",
        "###\n",
        "Using N_iter = 14\n",
        "Simulation with num_features= 6\n",
        "max_features= {'penalty': ['l1', 'l2'], 'C': array([ 0.1 ,  0.19,  0.28,  0.37,  0.46,  0.55,  0.64,  0.73,  0.82,\n",
        "        0.91,  1.  ]), 'intercept_scaling': array([ 0.1 ,  0.19,  0.28,  0.37,  0.46,  0.55,  0.64,  0.73,  0.82,\n",
        "        0.91,  1.  ]), 'tol': [0.0001, 1e-05], 'fit_intercept': [True]}\n",
        "Fitting 3 folds for each of 14 candidates, totalling 42 fits\n"
       ]
      },
      {
       "output_type": "stream",
       "stream": "stderr",
       "text": [
        "[Parallel(n_jobs=-1)]: Done   1 jobs       | elapsed:    0.0s\n",
        "[Parallel(n_jobs=-1)]: Done  42 out of  42 | elapsed:    0.1s finished\n"
       ]
      },
      {
       "output_type": "stream",
       "stream": "stdout",
       "text": [
        "\n",
        "### Optimal parameters: ###\n",
        "{'C': 0.37,\n",
        " 'fit_intercept': True,\n",
        " 'intercept_scaling': 0.28000000000000003,\n",
        " 'penalty': 'l1',\n",
        " 'tol': 0.0001}\n",
        "####################### \n",
        "\n",
        "Using N_iter = 14\n",
        "Simulation with num_features= 6\n",
        "max_features= {'penalty': ['l1', 'l2'], 'C': array([ 0.1 ,  0.19,  0.28,  0.37,  0.46,  0.55,  0.64,  0.73,  0.82,\n",
        "        0.91,  1.  ]), 'intercept_scaling': array([ 0.1 ,  0.19,  0.28,  0.37,  0.46,  0.55,  0.64,  0.73,  0.82,\n",
        "        0.91,  1.  ]), 'tol': [0.0001, 1e-05], 'fit_intercept': [True]}\n",
        "Fitting 3 folds for each of 14 candidates, totalling 42 fits\n"
       ]
      },
      {
       "output_type": "stream",
       "stream": "stderr",
       "text": [
        "[Parallel(n_jobs=-1)]: Done   1 jobs       | elapsed:    0.0s\n",
        "[Parallel(n_jobs=-1)]: Done  36 out of  42 | elapsed:    0.1s remaining:    0.0s\n",
        "[Parallel(n_jobs=-1)]: Done  42 out of  42 | elapsed:    0.1s finished\n"
       ]
      },
      {
       "output_type": "stream",
       "stream": "stdout",
       "text": [
        "\n",
        "### Optimal parameters: ###\n",
        "{'C': 0.72999999999999998,\n",
        " 'fit_intercept': True,\n",
        " 'intercept_scaling': 0.10000000000000001,\n",
        " 'penalty': 'l1',\n",
        " 'tol': 0.0001}\n",
        "####################### \n",
        "\n",
        "Using N_iter = 14\n",
        "Simulation with num_features= 6\n",
        "max_features= {'penalty': ['l1', 'l2'], 'C': array([ 0.1 ,  0.19,  0.28,  0.37,  0.46,  0.55,  0.64,  0.73,  0.82,\n",
        "        0.91,  1.  ]), 'intercept_scaling': array([ 0.1 ,  0.19,  0.28,  0.37,  0.46,  0.55,  0.64,  0.73,  0.82,\n",
        "        0.91,  1.  ]), 'tol': [0.0001, 1e-05], 'fit_intercept': [True]}\n",
        "Fitting 3 folds for each of 14 candidates, totalling 42 fits\n"
       ]
      },
      {
       "output_type": "stream",
       "stream": "stderr",
       "text": [
        "[Parallel(n_jobs=-1)]: Done   1 jobs       | elapsed:    0.0s\n",
        "[Parallel(n_jobs=-1)]: Done  36 out of  42 | elapsed:    0.1s remaining:    0.0s\n",
        "[Parallel(n_jobs=-1)]: Done  42 out of  42 | elapsed:    0.1s finished\n"
       ]
      },
      {
       "output_type": "stream",
       "stream": "stdout",
       "text": [
        "\n",
        "### Optimal parameters: ###\n",
        "{'C': 0.37,\n",
        " 'fit_intercept': True,\n",
        " 'intercept_scaling': 0.10000000000000001,\n",
        " 'penalty': 'l1',\n",
        " 'tol': 1e-05}\n",
        "####################### \n",
        "\n",
        "Using N_iter = 14\n",
        "Simulation with num_features= 6\n",
        "max_features= {'penalty': ['l1', 'l2'], 'C': array([ 0.1 ,  0.19,  0.28,  0.37,  0.46,  0.55,  0.64,  0.73,  0.82,\n",
        "        0.91,  1.  ]), 'intercept_scaling': array([ 0.1 ,  0.19,  0.28,  0.37,  0.46,  0.55,  0.64,  0.73,  0.82,\n",
        "        0.91,  1.  ]), 'tol': [0.0001, 1e-05], 'fit_intercept': [True]}\n",
        "Fitting 3 folds for each of 14 candidates, totalling 42 fits\n"
       ]
      },
      {
       "output_type": "stream",
       "stream": "stderr",
       "text": [
        "[Parallel(n_jobs=-1)]: Done   1 jobs       | elapsed:    0.0s\n",
        "[Parallel(n_jobs=-1)]: Done  42 out of  42 | elapsed:    0.1s finished\n"
       ]
      },
      {
       "output_type": "stream",
       "stream": "stdout",
       "text": [
        "\n",
        "### Optimal parameters: ###\n",
        "{'C': 0.10000000000000001,\n",
        " 'fit_intercept': True,\n",
        " 'intercept_scaling': 0.19,\n",
        " 'penalty': 'l2',\n",
        " 'tol': 1e-05}\n",
        "####################### \n",
        "\n",
        "Using N_iter = 14\n",
        "Simulation with num_features= 6\n",
        "max_features= {'penalty': ['l1', 'l2'], 'C': array([ 0.1 ,  0.19,  0.28,  0.37,  0.46,  0.55,  0.64,  0.73,  0.82,\n",
        "        0.91,  1.  ]), 'intercept_scaling': array([ 0.1 ,  0.19,  0.28,  0.37,  0.46,  0.55,  0.64,  0.73,  0.82,\n",
        "        0.91,  1.  ]), 'tol': [0.0001, 1e-05], 'fit_intercept': [True]}\n",
        "Fitting 3 folds for each of 14 candidates, totalling 42 fits\n"
       ]
      },
      {
       "output_type": "stream",
       "stream": "stderr",
       "text": [
        "[Parallel(n_jobs=-1)]: Done   1 jobs       | elapsed:    0.0s\n",
        "[Parallel(n_jobs=-1)]: Done  36 out of  42 | elapsed:    0.1s remaining:    0.0s\n",
        "[Parallel(n_jobs=-1)]: Done  42 out of  42 | elapsed:    0.1s finished\n"
       ]
      },
      {
       "output_type": "stream",
       "stream": "stdout",
       "text": [
        "\n",
        "### Optimal parameters: ###\n",
        "{'C': 0.10000000000000001,\n",
        " 'fit_intercept': True,\n",
        " 'intercept_scaling': 0.19,\n",
        " 'penalty': 'l2',\n",
        " 'tol': 0.0001}\n",
        "####################### \n",
        "\n",
        "Using N_iter = 14\n",
        "Simulation with num_features= 6\n",
        "max_features= {'penalty': ['l1', 'l2'], 'C': array([ 0.1 ,  0.19,  0.28,  0.37,  0.46,  0.55,  0.64,  0.73,  0.82,\n",
        "        0.91,  1.  ]), 'intercept_scaling': array([ 0.1 ,  0.19,  0.28,  0.37,  0.46,  0.55,  0.64,  0.73,  0.82,\n",
        "        0.91,  1.  ]), 'tol': [0.0001, 1e-05], 'fit_intercept': [True]}\n",
        "Fitting 3 folds for each of 14 candidates, totalling 42 fits\n"
       ]
      },
      {
       "output_type": "stream",
       "stream": "stderr",
       "text": [
        "[Parallel(n_jobs=-1)]: Done   1 jobs       | elapsed:    0.0s\n",
        "[Parallel(n_jobs=-1)]: Done  36 out of  42 | elapsed:    0.1s remaining:    0.0s\n",
        "[Parallel(n_jobs=-1)]: Done  42 out of  42 | elapsed:    0.1s finished\n"
       ]
      },
      {
       "output_type": "stream",
       "stream": "stdout",
       "text": [
        "\n",
        "### Optimal parameters: ###\n",
        "{'C': 0.28000000000000003,\n",
        " 'fit_intercept': True,\n",
        " 'intercept_scaling': 0.37,\n",
        " 'penalty': 'l1',\n",
        " 'tol': 0.0001}\n",
        "####################### \n",
        "\n",
        "Using N_iter = 14\n",
        "Simulation with num_features= 6\n",
        "max_features= {'penalty': ['l1', 'l2'], 'C': array([ 0.1 ,  0.19,  0.28,  0.37,  0.46,  0.55,  0.64,  0.73,  0.82,\n",
        "        0.91,  1.  ]), 'intercept_scaling': array([ 0.1 ,  0.19,  0.28,  0.37,  0.46,  0.55,  0.64,  0.73,  0.82,\n",
        "        0.91,  1.  ]), 'tol': [0.0001, 1e-05], 'fit_intercept': [True]}\n",
        "Fitting 3 folds for each of 14 candidates, totalling 42 fits\n"
       ]
      },
      {
       "output_type": "stream",
       "stream": "stderr",
       "text": [
        "[Parallel(n_jobs=-1)]: Done   1 jobs       | elapsed:    0.0s\n",
        "[Parallel(n_jobs=-1)]: Done  36 out of  42 | elapsed:    0.1s remaining:    0.0s\n",
        "[Parallel(n_jobs=-1)]: Done  42 out of  42 | elapsed:    0.1s finished\n"
       ]
      },
      {
       "output_type": "stream",
       "stream": "stdout",
       "text": [
        "\n",
        "### Optimal parameters: ###\n",
        "{'C': 0.19,\n",
        " 'fit_intercept': True,\n",
        " 'intercept_scaling': 0.10000000000000001,\n",
        " 'penalty': 'l2',\n",
        " 'tol': 0.0001}\n",
        "####################### \n",
        "\n",
        "Using N_iter = 14\n",
        "Simulation with num_features= 6\n",
        "max_features= {'penalty': ['l1', 'l2'], 'C': array([ 0.1 ,  0.19,  0.28,  0.37,  0.46,  0.55,  0.64,  0.73,  0.82,\n",
        "        0.91,  1.  ]), 'intercept_scaling': array([ 0.1 ,  0.19,  0.28,  0.37,  0.46,  0.55,  0.64,  0.73,  0.82,\n",
        "        0.91,  1.  ]), 'tol': [0.0001, 1e-05], 'fit_intercept': [True]}\n",
        "Fitting 3 folds for each of 14 candidates, totalling 42 fits\n"
       ]
      },
      {
       "output_type": "stream",
       "stream": "stderr",
       "text": [
        "[Parallel(n_jobs=-1)]: Done   1 jobs       | elapsed:    0.0s\n",
        "[Parallel(n_jobs=-1)]: Done  42 out of  42 | elapsed:    0.1s finished\n"
       ]
      },
      {
       "output_type": "stream",
       "stream": "stdout",
       "text": [
        "\n",
        "### Optimal parameters: ###\n",
        "{'C': 0.90999999999999992,\n",
        " 'fit_intercept': True,\n",
        " 'intercept_scaling': 0.37,\n",
        " 'penalty': 'l1',\n",
        " 'tol': 1e-05}\n",
        "####################### \n",
        "\n",
        "Using N_iter = 14\n",
        "Simulation with num_features= 6\n",
        "max_features= {'penalty': ['l1', 'l2'], 'C': array([ 0.1 ,  0.19,  0.28,  0.37,  0.46,  0.55,  0.64,  0.73,  0.82,\n",
        "        0.91,  1.  ]), 'intercept_scaling': array([ 0.1 ,  0.19,  0.28,  0.37,  0.46,  0.55,  0.64,  0.73,  0.82,\n",
        "        0.91,  1.  ]), 'tol': [0.0001, 1e-05], 'fit_intercept': [True]}\n",
        "Fitting 3 folds for each of 14 candidates, totalling 42 fits\n"
       ]
      },
      {
       "output_type": "stream",
       "stream": "stderr",
       "text": [
        "[Parallel(n_jobs=-1)]: Done   1 jobs       | elapsed:    0.0s\n",
        "[Parallel(n_jobs=-1)]: Done  36 out of  42 | elapsed:    0.1s remaining:    0.0s\n",
        "[Parallel(n_jobs=-1)]: Done  42 out of  42 | elapsed:    0.1s finished\n"
       ]
      },
      {
       "output_type": "stream",
       "stream": "stdout",
       "text": [
        "\n",
        "### Optimal parameters: ###\n",
        "{'C': 0.81999999999999995,\n",
        " 'fit_intercept': True,\n",
        " 'intercept_scaling': 0.10000000000000001,\n",
        " 'penalty': 'l2',\n",
        " 'tol': 0.0001}\n",
        "####################### \n",
        "\n",
        "Using N_iter = 14\n",
        "Simulation with num_features= 6\n",
        "max_features= {'penalty': ['l1', 'l2'], 'C': array([ 0.1 ,  0.19,  0.28,  0.37,  0.46,  0.55,  0.64,  0.73,  0.82,\n",
        "        0.91,  1.  ]), 'intercept_scaling': array([ 0.1 ,  0.19,  0.28,  0.37,  0.46,  0.55,  0.64,  0.73,  0.82,\n",
        "        0.91,  1.  ]), 'tol': [0.0001, 1e-05], 'fit_intercept': [True]}\n",
        "Fitting 3 folds for each of 14 candidates, totalling 42 fits\n"
       ]
      },
      {
       "output_type": "stream",
       "stream": "stderr",
       "text": [
        "[Parallel(n_jobs=-1)]: Done   1 jobs       | elapsed:    0.0s\n",
        "[Parallel(n_jobs=-1)]: Done  36 out of  42 | elapsed:    0.1s remaining:    0.0s\n",
        "[Parallel(n_jobs=-1)]: Done  42 out of  42 | elapsed:    0.1s finished\n"
       ]
      },
      {
       "output_type": "stream",
       "stream": "stdout",
       "text": [
        "\n",
        "### Optimal parameters: ###\n",
        "{'C': 0.54999999999999993,\n",
        " 'fit_intercept': True,\n",
        " 'intercept_scaling': 0.10000000000000001,\n",
        " 'penalty': 'l2',\n",
        " 'tol': 0.0001}\n",
        "####################### \n",
        "\n",
        "Saving output to file for LogisticRegression\n",
        "\n",
        "###### \\CV of testAlgo number 1 for BayesMixed2\n",
        "###\n",
        "\n",
        "###### \\CV of testAlgo number 2 for BayesMixed2\n",
        "###"
       ]
      },
      {
       "output_type": "stream",
       "stream": "stdout",
       "text": [
        "\n",
        "Saving output to file for BayesMixed2"
       ]
      },
      {
       "output_type": "stream",
       "stream": "stdout",
       "text": [
        "\n",
        "Saving output for Core_Imp\n",
        "\n",
        "###### \\CV of testAlgo number 1 for RandomForest\n",
        "###\n",
        "Using N_iter = 5\n",
        "Simulation with num_features= 6\n",
        "max_features= {'n_estimators': [50, 100, 200, 300], 'max_features': [2, 3, 4], 'bootstrap': [True, False], 'criterion': ['gini', 'entropy']}\n",
        "Fitting 3 folds for each of 5 candidates, totalling 15 fits\n"
       ]
      },
      {
       "output_type": "stream",
       "stream": "stderr",
       "text": [
        "[Parallel(n_jobs=-1)]: Done   1 jobs       | elapsed:    0.6s\n",
        "[Parallel(n_jobs=-1)]: Done   9 out of  15 | elapsed:    3.0s remaining:    2.0s\n",
        "[Parallel(n_jobs=-1)]: Done  15 out of  15 | elapsed:    5.4s finished\n"
       ]
      },
      {
       "output_type": "stream",
       "stream": "stdout",
       "text": [
        "\n",
        "### Optimal parameters: ###\n",
        "{'bootstrap': True,\n",
        " 'criterion': 'gini',\n",
        " 'max_features': 2,\n",
        " 'n_estimators': 200}\n",
        "####################### \n",
        "\n",
        "Using N_iter = 5\n",
        "Simulation with num_features= 6\n",
        "max_features= {'n_estimators': [50, 100, 200, 300], 'max_features': [2, 3, 4], 'bootstrap': [True, False], 'criterion': ['gini', 'entropy']}\n",
        "Fitting 3 folds for each of 5 candidates, totalling 15 fits\n"
       ]
      },
      {
       "output_type": "stream",
       "stream": "stderr",
       "text": [
        "[Parallel(n_jobs=-1)]: Done   1 jobs       | elapsed:    1.8s\n",
        "[Parallel(n_jobs=-1)]: Done   9 out of  15 | elapsed:    3.8s remaining:    2.6s\n",
        "[Parallel(n_jobs=-1)]: Done  15 out of  15 | elapsed:    6.4s finished\n"
       ]
      },
      {
       "output_type": "stream",
       "stream": "stdout",
       "text": [
        "\n",
        "### Optimal parameters: ###\n",
        "{'bootstrap': True,\n",
        " 'criterion': 'gini',\n",
        " 'max_features': 3,\n",
        " 'n_estimators': 300}\n",
        "####################### \n",
        "\n",
        "Using N_iter = 5\n",
        "Simulation with num_features= 6\n",
        "max_features= {'n_estimators': [50, 100, 200, 300], 'max_features': [2, 3, 4], 'bootstrap': [True, False], 'criterion': ['gini', 'entropy']}\n",
        "Fitting 3 folds for each of 5 candidates, totalling 15 fits\n"
       ]
      },
      {
       "output_type": "stream",
       "stream": "stderr",
       "text": [
        "[Parallel(n_jobs=-1)]: Done   1 jobs       | elapsed:    0.6s\n",
        "[Parallel(n_jobs=-1)]: Done   9 out of  15 | elapsed:    4.8s remaining:    3.2s\n",
        "[Parallel(n_jobs=-1)]: Done  15 out of  15 | elapsed:    5.3s finished\n"
       ]
      },
      {
       "output_type": "stream",
       "stream": "stdout",
       "text": [
        "\n",
        "### Optimal parameters: ###\n",
        "{'bootstrap': True, 'criterion': 'gini', 'max_features': 2, 'n_estimators': 50}\n",
        "####################### \n",
        "\n",
        "Using N_iter = 5\n",
        "Simulation with num_features= 6\n",
        "max_features= {'n_estimators': [50, 100, 200, 300], 'max_features': [2, 3, 4], 'bootstrap': [True, False], 'criterion': ['gini', 'entropy']}\n",
        "Fitting 3 folds for each of 5 candidates, totalling 15 fits\n"
       ]
      },
      {
       "output_type": "stream",
       "stream": "stderr",
       "text": [
        "[Parallel(n_jobs=-1)]: Done   1 jobs       | elapsed:    0.7s\n",
        "[Parallel(n_jobs=-1)]: Done   9 out of  15 | elapsed:    3.9s remaining:    2.6s\n",
        "[Parallel(n_jobs=-1)]: Done  15 out of  15 | elapsed:    4.5s finished\n"
       ]
      },
      {
       "output_type": "stream",
       "stream": "stdout",
       "text": [
        "\n",
        "### Optimal parameters: ###\n",
        "{'bootstrap': True,\n",
        " 'criterion': 'entropy',\n",
        " 'max_features': 4,\n",
        " 'n_estimators': 100}\n",
        "####################### \n",
        "\n",
        "Using N_iter = 5\n",
        "Simulation with num_features= 6\n",
        "max_features= {'n_estimators': [50, 100, 200, 300], 'max_features': [2, 3, 4], 'bootstrap': [True, False], 'criterion': ['gini', 'entropy']}\n",
        "Fitting 3 folds for each of 5 candidates, totalling 15 fits\n"
       ]
      },
      {
       "output_type": "stream",
       "stream": "stderr",
       "text": [
        "[Parallel(n_jobs=-1)]: Done   1 jobs       | elapsed:    0.7s\n",
        "[Parallel(n_jobs=-1)]: Done  15 out of  15 | elapsed:    4.1s finished\n"
       ]
      },
      {
       "output_type": "stream",
       "stream": "stdout",
       "text": [
        "\n",
        "### Optimal parameters: ###\n",
        "{'bootstrap': True,\n",
        " 'criterion': 'entropy',\n",
        " 'max_features': 3,\n",
        " 'n_estimators': 50}\n",
        "####################### \n",
        "\n",
        "Using N_iter = 5\n",
        "Simulation with num_features= 6\n",
        "max_features= {'n_estimators': [50, 100, 200, 300], 'max_features': [2, 3, 4], 'bootstrap': [True, False], 'criterion': ['gini', 'entropy']}\n",
        "Fitting 3 folds for each of 5 candidates, totalling 15 fits\n"
       ]
      },
      {
       "output_type": "stream",
       "stream": "stderr",
       "text": [
        "[Parallel(n_jobs=-1)]: Done   1 jobs       | elapsed:    1.6s\n",
        "[Parallel(n_jobs=-1)]: Done   9 out of  15 | elapsed:    4.3s remaining:    2.9s\n",
        "[Parallel(n_jobs=-1)]: Done  15 out of  15 | elapsed:    5.5s finished\n"
       ]
      },
      {
       "output_type": "stream",
       "stream": "stdout",
       "text": [
        "\n",
        "### Optimal parameters: ###\n",
        "{'bootstrap': True,\n",
        " 'criterion': 'entropy',\n",
        " 'max_features': 3,\n",
        " 'n_estimators': 200}\n",
        "####################### \n",
        "\n",
        "Using N_iter = 5\n",
        "Simulation with num_features= 6\n",
        "max_features= {'n_estimators': [50, 100, 200, 300], 'max_features': [2, 3, 4], 'bootstrap': [True, False], 'criterion': ['gini', 'entropy']}\n",
        "Fitting 3 folds for each of 5 candidates, totalling 15 fits\n"
       ]
      },
      {
       "output_type": "stream",
       "stream": "stderr",
       "text": [
        "[Parallel(n_jobs=-1)]: Done   1 jobs       | elapsed:    1.4s\n",
        "[Parallel(n_jobs=-1)]: Done   9 out of  15 | elapsed:    5.3s remaining:    3.5s\n",
        "[Parallel(n_jobs=-1)]: Done  15 out of  15 | elapsed:    5.9s finished\n"
       ]
      },
      {
       "output_type": "stream",
       "stream": "stdout",
       "text": [
        "\n",
        "### Optimal parameters: ###\n",
        "{'bootstrap': True,\n",
        " 'criterion': 'entropy',\n",
        " 'max_features': 3,\n",
        " 'n_estimators': 50}\n",
        "####################### \n",
        "\n",
        "Using N_iter = 5\n",
        "Simulation with num_features= 6\n",
        "max_features= {'n_estimators': [50, 100, 200, 300], 'max_features': [2, 3, 4], 'bootstrap': [True, False], 'criterion': ['gini', 'entropy']}\n",
        "Fitting 3 folds for each of 5 candidates, totalling 15 fits\n"
       ]
      },
      {
       "output_type": "stream",
       "stream": "stderr",
       "text": [
        "[Parallel(n_jobs=-1)]: Done   1 jobs       | elapsed:    2.2s\n",
        "[Parallel(n_jobs=-1)]: Done   9 out of  15 | elapsed:    4.8s remaining:    3.2s\n",
        "[Parallel(n_jobs=-1)]: Done  15 out of  15 | elapsed:    6.7s finished\n"
       ]
      },
      {
       "output_type": "stream",
       "stream": "stdout",
       "text": [
        "\n",
        "### Optimal parameters: ###\n",
        "{'bootstrap': True,\n",
        " 'criterion': 'gini',\n",
        " 'max_features': 4,\n",
        " 'n_estimators': 300}\n",
        "####################### \n",
        "\n",
        "Using N_iter = 5\n",
        "Simulation with num_features= 6\n",
        "max_features= {'n_estimators': [50, 100, 200, 300], 'max_features': [2, 3, 4], 'bootstrap': [True, False], 'criterion': ['gini', 'entropy']}\n",
        "Fitting 3 folds for each of 5 candidates, totalling 15 fits\n"
       ]
      },
      {
       "output_type": "stream",
       "stream": "stderr",
       "text": [
        "[Parallel(n_jobs=-1)]: Done   1 jobs       | elapsed:    0.5s\n",
        "[Parallel(n_jobs=-1)]: Done   9 out of  15 | elapsed:    4.7s remaining:    3.1s\n",
        "[Parallel(n_jobs=-1)]: Done  15 out of  15 | elapsed:    5.2s finished\n"
       ]
      },
      {
       "output_type": "stream",
       "stream": "stdout",
       "text": [
        "\n",
        "### Optimal parameters: ###\n",
        "{'bootstrap': False,\n",
        " 'criterion': 'entropy',\n",
        " 'max_features': 2,\n",
        " 'n_estimators': 50}\n",
        "####################### \n",
        "\n",
        "Using N_iter = 5\n",
        "Simulation with num_features= 6\n",
        "max_features= {'n_estimators': [50, 100, 200, 300], 'max_features': [2, 3, 4], 'bootstrap': [True, False], 'criterion': ['gini', 'entropy']}\n",
        "Fitting 3 folds for each of 5 candidates, totalling 15 fits\n"
       ]
      },
      {
       "output_type": "stream",
       "stream": "stderr",
       "text": [
        "[Parallel(n_jobs=-1)]: Done   1 jobs       | elapsed:    0.6s\n",
        "[Parallel(n_jobs=-1)]: Done   9 out of  15 | elapsed:    3.5s remaining:    2.4s\n",
        "[Parallel(n_jobs=-1)]: Done  15 out of  15 | elapsed:    4.1s finished\n"
       ]
      },
      {
       "output_type": "stream",
       "stream": "stdout",
       "text": [
        "\n",
        "### Optimal parameters: ###\n",
        "{'bootstrap': True,\n",
        " 'criterion': 'gini',\n",
        " 'max_features': 2,\n",
        " 'n_estimators': 300}\n",
        "####################### \n",
        "\n",
        "\n",
        "###### \\CV of testAlgo number 2 for RandomForest\n",
        "###\n",
        "Using N_iter = 5\n",
        "Simulation with num_features= 6\n",
        "max_features= {'n_estimators': [50, 100, 200, 300], 'max_features': [2, 3, 4], 'bootstrap': [True, False], 'criterion': ['gini', 'entropy']}\n",
        "Fitting 3 folds for each of 5 candidates, totalling 15 fits\n"
       ]
      },
      {
       "output_type": "stream",
       "stream": "stderr",
       "text": [
        "[Parallel(n_jobs=-1)]: Done   1 jobs       | elapsed:    2.5s\n",
        "[Parallel(n_jobs=-1)]: Done  15 out of  15 | elapsed:    4.1s finished\n"
       ]
      },
      {
       "output_type": "stream",
       "stream": "stdout",
       "text": [
        "\n",
        "### Optimal parameters: ###\n",
        "{'bootstrap': True, 'criterion': 'gini', 'max_features': 4, 'n_estimators': 50}\n",
        "####################### \n",
        "\n",
        "Using N_iter = 5\n",
        "Simulation with num_features= 6\n",
        "max_features= {'n_estimators': [50, 100, 200, 300], 'max_features': [2, 3, 4], 'bootstrap': [True, False], 'criterion': ['gini', 'entropy']}\n",
        "Fitting 3 folds for each of 5 candidates, totalling 15 fits\n"
       ]
      },
      {
       "output_type": "stream",
       "stream": "stderr",
       "text": [
        "[Parallel(n_jobs=-1)]: Done   1 jobs       | elapsed:    1.4s\n",
        "[Parallel(n_jobs=-1)]: Done   9 out of  15 | elapsed:    2.1s remaining:    1.4s\n",
        "[Parallel(n_jobs=-1)]: Done  15 out of  15 | elapsed:    5.8s finished\n"
       ]
      },
      {
       "output_type": "stream",
       "stream": "stdout",
       "text": [
        "\n",
        "### Optimal parameters: ###\n",
        "{'bootstrap': True,\n",
        " 'criterion': 'gini',\n",
        " 'max_features': 3,\n",
        " 'n_estimators': 100}\n",
        "####################### \n",
        "\n",
        "Using N_iter = 5\n",
        "Simulation with num_features= 6\n",
        "max_features= {'n_estimators': [50, 100, 200, 300], 'max_features': [2, 3, 4], 'bootstrap': [True, False], 'criterion': ['gini', 'entropy']}\n",
        "Fitting 3 folds for each of 5 candidates, totalling 15 fits\n"
       ]
      },
      {
       "output_type": "stream",
       "stream": "stderr",
       "text": [
        "[Parallel(n_jobs=-1)]: Done   1 jobs       | elapsed:    1.2s\n",
        "[Parallel(n_jobs=-1)]: Done   9 out of  15 | elapsed:   10.6s remaining:    7.1s\n",
        "[Parallel(n_jobs=-1)]: Done  15 out of  15 | elapsed:   11.5s finished\n"
       ]
      },
      {
       "output_type": "stream",
       "stream": "stdout",
       "text": [
        "\n",
        "### Optimal parameters: ###\n",
        "{'bootstrap': True,\n",
        " 'criterion': 'gini',\n",
        " 'max_features': 3,\n",
        " 'n_estimators': 200}\n",
        "####################### \n",
        "\n",
        "Using N_iter = 5\n",
        "Simulation with num_features= 6\n",
        "max_features= {'n_estimators': [50, 100, 200, 300], 'max_features': [2, 3, 4], 'bootstrap': [True, False], 'criterion': ['gini', 'entropy']}\n",
        "Fitting 3 folds for each of 5 candidates, totalling 15 fits\n"
       ]
      },
      {
       "output_type": "stream",
       "stream": "stderr",
       "text": [
        "[Parallel(n_jobs=-1)]: Done   1 jobs       | elapsed:    3.1s\n",
        "[Parallel(n_jobs=-1)]: Done  15 out of  15 | elapsed:    6.8s finished\n"
       ]
      },
      {
       "output_type": "stream",
       "stream": "stdout",
       "text": [
        "\n",
        "### Optimal parameters: ###\n",
        "{'bootstrap': True,\n",
        " 'criterion': 'entropy',\n",
        " 'max_features': 2,\n",
        " 'n_estimators': 300}\n",
        "####################### \n",
        "\n",
        "Using N_iter = 5\n",
        "Simulation with num_features= 6\n",
        "max_features= {'n_estimators': [50, 100, 200, 300], 'max_features': [2, 3, 4], 'bootstrap': [True, False], 'criterion': ['gini', 'entropy']}\n",
        "Fitting 3 folds for each of 5 candidates, totalling 15 fits\n"
       ]
      },
      {
       "output_type": "stream",
       "stream": "stderr",
       "text": [
        "[Parallel(n_jobs=-1)]: Done   1 jobs       | elapsed:    0.7s\n",
        "[Parallel(n_jobs=-1)]: Done   9 out of  15 | elapsed:    1.8s remaining:    1.2s\n",
        "[Parallel(n_jobs=-1)]: Done  15 out of  15 | elapsed:    4.4s finished\n"
       ]
      },
      {
       "output_type": "stream",
       "stream": "stdout",
       "text": [
        "\n",
        "### Optimal parameters: ###\n",
        "{'bootstrap': True,\n",
        " 'criterion': 'entropy',\n",
        " 'max_features': 2,\n",
        " 'n_estimators': 100}\n",
        "####################### \n",
        "\n",
        "Using N_iter = 5\n",
        "Simulation with num_features= 6\n",
        "max_features= {'n_estimators': [50, 100, 200, 300], 'max_features': [2, 3, 4], 'bootstrap': [True, False], 'criterion': ['gini', 'entropy']}\n",
        "Fitting 3 folds for each of 5 candidates, totalling 15 fits\n"
       ]
      },
      {
       "output_type": "stream",
       "stream": "stderr",
       "text": [
        "[Parallel(n_jobs=-1)]: Done   1 jobs       | elapsed:    0.3s\n",
        "[Parallel(n_jobs=-1)]: Done   9 out of  15 | elapsed:    2.6s remaining:    1.8s\n",
        "[Parallel(n_jobs=-1)]: Done  15 out of  15 | elapsed:    4.0s finished\n"
       ]
      },
      {
       "output_type": "stream",
       "stream": "stdout",
       "text": [
        "\n",
        "### Optimal parameters: ###\n",
        "{'bootstrap': True,\n",
        " 'criterion': 'entropy',\n",
        " 'max_features': 2,\n",
        " 'n_estimators': 100}\n",
        "####################### \n",
        "\n",
        "Using N_iter = 5\n",
        "Simulation with num_features= 6\n",
        "max_features= {'n_estimators': [50, 100, 200, 300], 'max_features': [2, 3, 4], 'bootstrap': [True, False], 'criterion': ['gini', 'entropy']}\n",
        "Fitting 3 folds for each of 5 candidates, totalling 15 fits\n"
       ]
      },
      {
       "output_type": "stream",
       "stream": "stderr",
       "text": [
        "[Parallel(n_jobs=-1)]: Done   1 jobs       | elapsed:    0.9s\n",
        "[Parallel(n_jobs=-1)]: Done  15 out of  15 | elapsed:    2.5s finished\n"
       ]
      },
      {
       "output_type": "stream",
       "stream": "stdout",
       "text": [
        "\n",
        "### Optimal parameters: ###\n",
        "{'bootstrap': True,\n",
        " 'criterion': 'gini',\n",
        " 'max_features': 2,\n",
        " 'n_estimators': 100}\n",
        "####################### \n",
        "\n",
        "Using N_iter = 5\n",
        "Simulation with num_features= 6\n",
        "max_features= {'n_estimators': [50, 100, 200, 300], 'max_features': [2, 3, 4], 'bootstrap': [True, False], 'criterion': ['gini', 'entropy']}\n",
        "Fitting 3 folds for each of 5 candidates, totalling 15 fits\n"
       ]
      },
      {
       "output_type": "stream",
       "stream": "stderr",
       "text": [
        "[Parallel(n_jobs=-1)]: Done   1 jobs       | elapsed:    3.3s\n",
        "[Parallel(n_jobs=-1)]: Done  15 out of  15 | elapsed:    6.5s finished\n"
       ]
      },
      {
       "output_type": "stream",
       "stream": "stdout",
       "text": [
        "\n",
        "### Optimal parameters: ###\n",
        "{'bootstrap': True,\n",
        " 'criterion': 'gini',\n",
        " 'max_features': 2,\n",
        " 'n_estimators': 300}\n",
        "####################### \n",
        "\n",
        "Using N_iter = 5\n",
        "Simulation with num_features= 6\n",
        "max_features= {'n_estimators': [50, 100, 200, 300], 'max_features': [2, 3, 4], 'bootstrap': [True, False], 'criterion': ['gini', 'entropy']}\n",
        "Fitting 3 folds for each of 5 candidates, totalling 15 fits\n"
       ]
      },
      {
       "output_type": "stream",
       "stream": "stderr",
       "text": [
        "[Parallel(n_jobs=-1)]: Done   1 jobs       | elapsed:    0.4s\n",
        "[Parallel(n_jobs=-1)]: Done   9 out of  15 | elapsed:    1.6s remaining:    1.1s\n",
        "[Parallel(n_jobs=-1)]: Done  15 out of  15 | elapsed:    3.2s finished\n"
       ]
      },
      {
       "output_type": "stream",
       "stream": "stdout",
       "text": [
        "\n",
        "### Optimal parameters: ###\n",
        "{'bootstrap': True,\n",
        " 'criterion': 'entropy',\n",
        " 'max_features': 2,\n",
        " 'n_estimators': 300}\n",
        "####################### \n",
        "\n",
        "Using N_iter = 5\n",
        "Simulation with num_features= 6\n",
        "max_features= {'n_estimators': [50, 100, 200, 300], 'max_features': [2, 3, 4], 'bootstrap': [True, False], 'criterion': ['gini', 'entropy']}\n",
        "Fitting 3 folds for each of 5 candidates, totalling 15 fits\n"
       ]
      },
      {
       "output_type": "stream",
       "stream": "stderr",
       "text": [
        "[Parallel(n_jobs=-1)]: Done   1 jobs       | elapsed:    4.5s\n",
        "[Parallel(n_jobs=-1)]: Done   9 out of  15 | elapsed:    5.4s remaining:    3.6s\n",
        "[Parallel(n_jobs=-1)]: Done  15 out of  15 | elapsed:    8.7s finished\n"
       ]
      },
      {
       "output_type": "stream",
       "stream": "stdout",
       "text": [
        "\n",
        "### Optimal parameters: ###\n",
        "{'bootstrap': True,\n",
        " 'criterion': 'gini',\n",
        " 'max_features': 2,\n",
        " 'n_estimators': 100}\n",
        "####################### \n",
        "\n",
        "Saving output to file for RandomForest\n",
        "\n",
        "###### \\CV of testAlgo number 1 for LogisticRegression\n",
        "###\n",
        "Using N_iter = 14\n",
        "Simulation with num_features= 6\n",
        "max_features= {'penalty': ['l1', 'l2'], 'C': array([ 0.1 ,  0.19,  0.28,  0.37,  0.46,  0.55,  0.64,  0.73,  0.82,\n",
        "        0.91,  1.  ]), 'intercept_scaling': array([ 0.1 ,  0.19,  0.28,  0.37,  0.46,  0.55,  0.64,  0.73,  0.82,\n",
        "        0.91,  1.  ]), 'tol': [0.0001, 1e-05], 'fit_intercept': [True]}\n",
        "Fitting 3 folds for each of 14 candidates, totalling 42 fits\n"
       ]
      },
      {
       "output_type": "stream",
       "stream": "stderr",
       "text": [
        "[Parallel(n_jobs=-1)]: Done   1 jobs       | elapsed:    0.0s\n",
        "[Parallel(n_jobs=-1)]: Done  42 out of  42 | elapsed:    0.2s finished\n"
       ]
      },
      {
       "output_type": "stream",
       "stream": "stdout",
       "text": [
        "\n",
        "### Optimal parameters: ###\n",
        "{'C': 0.19,\n",
        " 'fit_intercept': True,\n",
        " 'intercept_scaling': 0.10000000000000001,\n",
        " 'penalty': 'l1',\n",
        " 'tol': 1e-05}\n",
        "####################### \n",
        "\n",
        "Using N_iter = 14\n",
        "Simulation with num_features= 6\n",
        "max_features= {'penalty': ['l1', 'l2'], 'C': array([ 0.1 ,  0.19,  0.28,  0.37,  0.46,  0.55,  0.64,  0.73,  0.82,\n",
        "        0.91,  1.  ]), 'intercept_scaling': array([ 0.1 ,  0.19,  0.28,  0.37,  0.46,  0.55,  0.64,  0.73,  0.82,\n",
        "        0.91,  1.  ]), 'tol': [0.0001, 1e-05], 'fit_intercept': [True]}\n",
        "Fitting 3 folds for each of 14 candidates, totalling 42 fits\n"
       ]
      },
      {
       "output_type": "stream",
       "stream": "stderr",
       "text": [
        "[Parallel(n_jobs=-1)]: Done   1 jobs       | elapsed:    0.0s\n",
        "[Parallel(n_jobs=-1)]: Done  36 out of  42 | elapsed:    0.1s remaining:    0.0s\n",
        "[Parallel(n_jobs=-1)]: Done  42 out of  42 | elapsed:    0.1s finished\n"
       ]
      },
      {
       "output_type": "stream",
       "stream": "stdout",
       "text": [
        "\n",
        "### Optimal parameters: ###\n",
        "{'C': 0.72999999999999998,\n",
        " 'fit_intercept': True,\n",
        " 'intercept_scaling': 0.19,\n",
        " 'penalty': 'l1',\n",
        " 'tol': 1e-05}\n",
        "####################### \n",
        "\n",
        "Using N_iter = 14\n",
        "Simulation with num_features= 6\n",
        "max_features= {'penalty': ['l1', 'l2'], 'C': array([ 0.1 ,  0.19,  0.28,  0.37,  0.46,  0.55,  0.64,  0.73,  0.82,\n",
        "        0.91,  1.  ]), 'intercept_scaling': array([ 0.1 ,  0.19,  0.28,  0.37,  0.46,  0.55,  0.64,  0.73,  0.82,\n",
        "        0.91,  1.  ]), 'tol': [0.0001, 1e-05], 'fit_intercept': [True]}\n",
        "Fitting 3 folds for each of 14 candidates, totalling 42 fits\n"
       ]
      },
      {
       "output_type": "stream",
       "stream": "stderr",
       "text": [
        "[Parallel(n_jobs=-1)]: Done   1 jobs       | elapsed:    0.0s\n",
        "[Parallel(n_jobs=-1)]: Done  42 out of  42 | elapsed:    0.2s finished\n"
       ]
      },
      {
       "output_type": "stream",
       "stream": "stdout",
       "text": [
        "\n",
        "### Optimal parameters: ###\n",
        "{'C': 0.54999999999999993,\n",
        " 'fit_intercept': True,\n",
        " 'intercept_scaling': 0.45999999999999996,\n",
        " 'penalty': 'l2',\n",
        " 'tol': 1e-05}\n",
        "####################### \n",
        "\n",
        "Using N_iter = 14\n",
        "Simulation with num_features= 6\n",
        "max_features= {'penalty': ['l1', 'l2'], 'C': array([ 0.1 ,  0.19,  0.28,  0.37,  0.46,  0.55,  0.64,  0.73,  0.82,\n",
        "        0.91,  1.  ]), 'intercept_scaling': array([ 0.1 ,  0.19,  0.28,  0.37,  0.46,  0.55,  0.64,  0.73,  0.82,\n",
        "        0.91,  1.  ]), 'tol': [0.0001, 1e-05], 'fit_intercept': [True]}\n",
        "Fitting 3 folds for each of 14 candidates, totalling 42 fits\n"
       ]
      },
      {
       "output_type": "stream",
       "stream": "stderr",
       "text": [
        "[Parallel(n_jobs=-1)]: Done   1 jobs       | elapsed:    0.0s\n",
        "[Parallel(n_jobs=-1)]: Done  36 out of  42 | elapsed:    0.1s remaining:    0.0s\n",
        "[Parallel(n_jobs=-1)]: Done  42 out of  42 | elapsed:    0.1s finished\n"
       ]
      },
      {
       "output_type": "stream",
       "stream": "stdout",
       "text": [
        "\n",
        "### Optimal parameters: ###\n",
        "{'C': 0.10000000000000001,\n",
        " 'fit_intercept': True,\n",
        " 'intercept_scaling': 0.45999999999999996,\n",
        " 'penalty': 'l2',\n",
        " 'tol': 1e-05}\n",
        "####################### \n",
        "\n",
        "Using N_iter = 14\n",
        "Simulation with num_features= 6\n",
        "max_features= {'penalty': ['l1', 'l2'], 'C': array([ 0.1 ,  0.19,  0.28,  0.37,  0.46,  0.55,  0.64,  0.73,  0.82,\n",
        "        0.91,  1.  ]), 'intercept_scaling': array([ 0.1 ,  0.19,  0.28,  0.37,  0.46,  0.55,  0.64,  0.73,  0.82,\n",
        "        0.91,  1.  ]), 'tol': [0.0001, 1e-05], 'fit_intercept': [True]}\n",
        "Fitting 3 folds for each of 14 candidates, totalling 42 fits\n"
       ]
      },
      {
       "output_type": "stream",
       "stream": "stderr",
       "text": [
        "[Parallel(n_jobs=-1)]: Done   1 jobs       | elapsed:    0.1s\n",
        "[Parallel(n_jobs=-1)]: Done  42 out of  42 | elapsed:    0.2s finished\n"
       ]
      },
      {
       "output_type": "stream",
       "stream": "stdout",
       "text": [
        "\n",
        "### Optimal parameters: ###\n",
        "{'C': 0.28000000000000003,\n",
        " 'fit_intercept': True,\n",
        " 'intercept_scaling': 0.10000000000000001,\n",
        " 'penalty': 'l1',\n",
        " 'tol': 1e-05}\n",
        "####################### \n",
        "\n",
        "Using N_iter = 14\n",
        "Simulation with num_features= 6\n",
        "max_features= {'penalty': ['l1', 'l2'], 'C': array([ 0.1 ,  0.19,  0.28,  0.37,  0.46,  0.55,  0.64,  0.73,  0.82,\n",
        "        0.91,  1.  ]), 'intercept_scaling': array([ 0.1 ,  0.19,  0.28,  0.37,  0.46,  0.55,  0.64,  0.73,  0.82,\n",
        "        0.91,  1.  ]), 'tol': [0.0001, 1e-05], 'fit_intercept': [True]}\n",
        "Fitting 3 folds for each of 14 candidates, totalling 42 fits\n"
       ]
      },
      {
       "output_type": "stream",
       "stream": "stderr",
       "text": [
        "[Parallel(n_jobs=-1)]: Done   1 jobs       | elapsed:    0.0s\n",
        "[Parallel(n_jobs=-1)]: Done  36 out of  42 | elapsed:    0.2s remaining:    0.0s\n",
        "[Parallel(n_jobs=-1)]: Done  42 out of  42 | elapsed:    0.2s finished\n"
       ]
      },
      {
       "output_type": "stream",
       "stream": "stdout",
       "text": [
        "\n",
        "### Optimal parameters: ###\n",
        "{'C': 0.19,\n",
        " 'fit_intercept': True,\n",
        " 'intercept_scaling': 0.10000000000000001,\n",
        " 'penalty': 'l2',\n",
        " 'tol': 1e-05}\n",
        "####################### \n",
        "\n",
        "Using N_iter = 14\n",
        "Simulation with num_features= 6\n",
        "max_features= {'penalty': ['l1', 'l2'], 'C': array([ 0.1 ,  0.19,  0.28,  0.37,  0.46,  0.55,  0.64,  0.73,  0.82,\n",
        "        0.91,  1.  ]), 'intercept_scaling': array([ 0.1 ,  0.19,  0.28,  0.37,  0.46,  0.55,  0.64,  0.73,  0.82,\n",
        "        0.91,  1.  ]), 'tol': [0.0001, 1e-05], 'fit_intercept': [True]}\n",
        "Fitting 3 folds for each of 14 candidates, totalling 42 fits\n"
       ]
      },
      {
       "output_type": "stream",
       "stream": "stderr",
       "text": [
        "[Parallel(n_jobs=-1)]: Done   1 jobs       | elapsed:    0.0s\n",
        "[Parallel(n_jobs=-1)]: Done  42 out of  42 | elapsed:    0.1s finished\n"
       ]
      },
      {
       "output_type": "stream",
       "stream": "stdout",
       "text": [
        "\n",
        "### Optimal parameters: ###\n",
        "{'C': 0.28000000000000003,\n",
        " 'fit_intercept': True,\n",
        " 'intercept_scaling': 0.10000000000000001,\n",
        " 'penalty': 'l1',\n",
        " 'tol': 0.0001}\n",
        "####################### \n",
        "\n",
        "Using N_iter = 14\n",
        "Simulation with num_features= 6\n",
        "max_features= {'penalty': ['l1', 'l2'], 'C': array([ 0.1 ,  0.19,  0.28,  0.37,  0.46,  0.55,  0.64,  0.73,  0.82,\n",
        "        0.91,  1.  ]), 'intercept_scaling': array([ 0.1 ,  0.19,  0.28,  0.37,  0.46,  0.55,  0.64,  0.73,  0.82,\n",
        "        0.91,  1.  ]), 'tol': [0.0001, 1e-05], 'fit_intercept': [True]}\n",
        "Fitting 3 folds for each of 14 candidates, totalling 42 fits\n"
       ]
      },
      {
       "output_type": "stream",
       "stream": "stderr",
       "text": [
        "[Parallel(n_jobs=-1)]: Done   1 jobs       | elapsed:    0.0s\n",
        "[Parallel(n_jobs=-1)]: Done  36 out of  42 | elapsed:    0.1s remaining:    0.0s\n",
        "[Parallel(n_jobs=-1)]: Done  42 out of  42 | elapsed:    0.1s finished\n"
       ]
      },
      {
       "output_type": "stream",
       "stream": "stdout",
       "text": [
        "\n",
        "### Optimal parameters: ###\n",
        "{'C': 0.28000000000000003,\n",
        " 'fit_intercept': True,\n",
        " 'intercept_scaling': 0.19,\n",
        " 'penalty': 'l1',\n",
        " 'tol': 0.0001}\n",
        "####################### \n",
        "\n",
        "Using N_iter = 14\n",
        "Simulation with num_features= 6\n",
        "max_features= {'penalty': ['l1', 'l2'], 'C': array([ 0.1 ,  0.19,  0.28,  0.37,  0.46,  0.55,  0.64,  0.73,  0.82,\n",
        "        0.91,  1.  ]), 'intercept_scaling': array([ 0.1 ,  0.19,  0.28,  0.37,  0.46,  0.55,  0.64,  0.73,  0.82,\n",
        "        0.91,  1.  ]), 'tol': [0.0001, 1e-05], 'fit_intercept': [True]}\n",
        "Fitting 3 folds for each of 14 candidates, totalling 42 fits\n"
       ]
      },
      {
       "output_type": "stream",
       "stream": "stderr",
       "text": [
        "[Parallel(n_jobs=-1)]: Done   1 jobs       | elapsed:    0.0s\n",
        "[Parallel(n_jobs=-1)]: Done  42 out of  42 | elapsed:    0.2s finished\n"
       ]
      },
      {
       "output_type": "stream",
       "stream": "stdout",
       "text": [
        "\n",
        "### Optimal parameters: ###\n",
        "{'C': 0.45999999999999996,\n",
        " 'fit_intercept': True,\n",
        " 'intercept_scaling': 0.19,\n",
        " 'penalty': 'l2',\n",
        " 'tol': 1e-05}\n",
        "####################### \n",
        "\n",
        "Using N_iter = 14\n",
        "Simulation with num_features= 6\n",
        "max_features= {'penalty': ['l1', 'l2'], 'C': array([ 0.1 ,  0.19,  0.28,  0.37,  0.46,  0.55,  0.64,  0.73,  0.82,\n",
        "        0.91,  1.  ]), 'intercept_scaling': array([ 0.1 ,  0.19,  0.28,  0.37,  0.46,  0.55,  0.64,  0.73,  0.82,\n",
        "        0.91,  1.  ]), 'tol': [0.0001, 1e-05], 'fit_intercept': [True]}\n",
        "Fitting 3 folds for each of 14 candidates, totalling 42 fits\n"
       ]
      },
      {
       "output_type": "stream",
       "stream": "stderr",
       "text": [
        "[Parallel(n_jobs=-1)]: Done   1 jobs       | elapsed:    0.0s\n",
        "[Parallel(n_jobs=-1)]: Done  42 out of  42 | elapsed:    0.2s finished\n"
       ]
      },
      {
       "output_type": "stream",
       "stream": "stdout",
       "text": [
        "\n",
        "### Optimal parameters: ###\n",
        "{'C': 0.19,\n",
        " 'fit_intercept': True,\n",
        " 'intercept_scaling': 0.10000000000000001,\n",
        " 'penalty': 'l1',\n",
        " 'tol': 1e-05}\n",
        "####################### \n",
        "\n",
        "\n",
        "###### \\CV of testAlgo number 2 for LogisticRegression\n",
        "###\n",
        "Using N_iter = 14\n",
        "Simulation with num_features= 6\n",
        "max_features= {'penalty': ['l1', 'l2'], 'C': array([ 0.1 ,  0.19,  0.28,  0.37,  0.46,  0.55,  0.64,  0.73,  0.82,\n",
        "        0.91,  1.  ]), 'intercept_scaling': array([ 0.1 ,  0.19,  0.28,  0.37,  0.46,  0.55,  0.64,  0.73,  0.82,\n",
        "        0.91,  1.  ]), 'tol': [0.0001, 1e-05], 'fit_intercept': [True]}\n",
        "Fitting 3 folds for each of 14 candidates, totalling 42 fits\n"
       ]
      },
      {
       "output_type": "stream",
       "stream": "stderr",
       "text": [
        "[Parallel(n_jobs=-1)]: Done   1 jobs       | elapsed:    0.0s\n",
        "[Parallel(n_jobs=-1)]: Done  42 out of  42 | elapsed:    0.2s finished\n"
       ]
      },
      {
       "output_type": "stream",
       "stream": "stdout",
       "text": [
        "\n",
        "### Optimal parameters: ###\n",
        "{'C': 0.64000000000000001,\n",
        " 'fit_intercept': True,\n",
        " 'intercept_scaling': 0.19,\n",
        " 'penalty': 'l1',\n",
        " 'tol': 0.0001}\n",
        "####################### \n",
        "\n",
        "Using N_iter = 14\n",
        "Simulation with num_features= 6\n",
        "max_features= {'penalty': ['l1', 'l2'], 'C': array([ 0.1 ,  0.19,  0.28,  0.37,  0.46,  0.55,  0.64,  0.73,  0.82,\n",
        "        0.91,  1.  ]), 'intercept_scaling': array([ 0.1 ,  0.19,  0.28,  0.37,  0.46,  0.55,  0.64,  0.73,  0.82,\n",
        "        0.91,  1.  ]), 'tol': [0.0001, 1e-05], 'fit_intercept': [True]}\n",
        "Fitting 3 folds for each of 14 candidates, totalling 42 fits\n"
       ]
      },
      {
       "output_type": "stream",
       "stream": "stderr",
       "text": [
        "[Parallel(n_jobs=-1)]: Done   1 jobs       | elapsed:    0.0s\n",
        "[Parallel(n_jobs=-1)]: Done  36 out of  42 | elapsed:    0.2s remaining:    0.0s\n",
        "[Parallel(n_jobs=-1)]: Done  42 out of  42 | elapsed:    0.2s finished\n"
       ]
      },
      {
       "output_type": "stream",
       "stream": "stdout",
       "text": [
        "\n",
        "### Optimal parameters: ###\n",
        "{'C': 0.90999999999999992,\n",
        " 'fit_intercept': True,\n",
        " 'intercept_scaling': 0.37,\n",
        " 'penalty': 'l1',\n",
        " 'tol': 1e-05}\n",
        "####################### \n",
        "\n",
        "Using N_iter = 14\n",
        "Simulation with num_features= 6\n",
        "max_features= {'penalty': ['l1', 'l2'], 'C': array([ 0.1 ,  0.19,  0.28,  0.37,  0.46,  0.55,  0.64,  0.73,  0.82,\n",
        "        0.91,  1.  ]), 'intercept_scaling': array([ 0.1 ,  0.19,  0.28,  0.37,  0.46,  0.55,  0.64,  0.73,  0.82,\n",
        "        0.91,  1.  ]), 'tol': [0.0001, 1e-05], 'fit_intercept': [True]}\n",
        "Fitting 3 folds for each of 14 candidates, totalling 42 fits\n"
       ]
      },
      {
       "output_type": "stream",
       "stream": "stderr",
       "text": [
        "[Parallel(n_jobs=-1)]: Done   1 jobs       | elapsed:    0.0s\n",
        "[Parallel(n_jobs=-1)]: Done  36 out of  42 | elapsed:    0.1s remaining:    0.0s\n",
        "[Parallel(n_jobs=-1)]: Done  42 out of  42 | elapsed:    0.1s finished\n"
       ]
      },
      {
       "output_type": "stream",
       "stream": "stdout",
       "text": [
        "\n",
        "### Optimal parameters: ###\n",
        "{'C': 0.72999999999999998,\n",
        " 'fit_intercept': True,\n",
        " 'intercept_scaling': 0.54999999999999993,\n",
        " 'penalty': 'l2',\n",
        " 'tol': 1e-05}\n",
        "####################### \n",
        "\n",
        "Using N_iter = 14\n",
        "Simulation with num_features= 6\n",
        "max_features= {'penalty': ['l1', 'l2'], 'C': array([ 0.1 ,  0.19,  0.28,  0.37,  0.46,  0.55,  0.64,  0.73,  0.82,\n",
        "        0.91,  1.  ]), 'intercept_scaling': array([ 0.1 ,  0.19,  0.28,  0.37,  0.46,  0.55,  0.64,  0.73,  0.82,\n",
        "        0.91,  1.  ]), 'tol': [0.0001, 1e-05], 'fit_intercept': [True]}\n",
        "Fitting 3 folds for each of 14 candidates, totalling 42 fits\n"
       ]
      },
      {
       "output_type": "stream",
       "stream": "stderr",
       "text": [
        "[Parallel(n_jobs=-1)]: Done   1 jobs       | elapsed:    0.0s\n",
        "[Parallel(n_jobs=-1)]: Done  42 out of  42 | elapsed:    0.1s finished\n"
       ]
      },
      {
       "output_type": "stream",
       "stream": "stdout",
       "text": [
        "\n",
        "### Optimal parameters: ###\n",
        "{'C': 0.54999999999999993,\n",
        " 'fit_intercept': True,\n",
        " 'intercept_scaling': 0.19,\n",
        " 'penalty': 'l1',\n",
        " 'tol': 1e-05}\n",
        "####################### \n",
        "\n",
        "Using N_iter = 14\n",
        "Simulation with num_features= 6\n",
        "max_features= {'penalty': ['l1', 'l2'], 'C': array([ 0.1 ,  0.19,  0.28,  0.37,  0.46,  0.55,  0.64,  0.73,  0.82,\n",
        "        0.91,  1.  ]), 'intercept_scaling': array([ 0.1 ,  0.19,  0.28,  0.37,  0.46,  0.55,  0.64,  0.73,  0.82,\n",
        "        0.91,  1.  ]), 'tol': [0.0001, 1e-05], 'fit_intercept': [True]}\n",
        "Fitting 3 folds for each of 14 candidates, totalling 42 fits\n"
       ]
      },
      {
       "output_type": "stream",
       "stream": "stderr",
       "text": [
        "[Parallel(n_jobs=-1)]: Done   1 jobs       | elapsed:    0.0s\n",
        "[Parallel(n_jobs=-1)]: Done  36 out of  42 | elapsed:    0.1s remaining:    0.0s\n",
        "[Parallel(n_jobs=-1)]: Done  42 out of  42 | elapsed:    0.1s finished\n"
       ]
      },
      {
       "output_type": "stream",
       "stream": "stdout",
       "text": [
        "\n",
        "### Optimal parameters: ###\n",
        "{'C': 0.19,\n",
        " 'fit_intercept': True,\n",
        " 'intercept_scaling': 1.0,\n",
        " 'penalty': 'l1',\n",
        " 'tol': 0.0001}\n",
        "####################### \n",
        "\n",
        "Using N_iter = 14\n",
        "Simulation with num_features= 6\n",
        "max_features= {'penalty': ['l1', 'l2'], 'C': array([ 0.1 ,  0.19,  0.28,  0.37,  0.46,  0.55,  0.64,  0.73,  0.82,\n",
        "        0.91,  1.  ]), 'intercept_scaling': array([ 0.1 ,  0.19,  0.28,  0.37,  0.46,  0.55,  0.64,  0.73,  0.82,\n",
        "        0.91,  1.  ]), 'tol': [0.0001, 1e-05], 'fit_intercept': [True]}\n",
        "Fitting 3 folds for each of 14 candidates, totalling 42 fits\n"
       ]
      },
      {
       "output_type": "stream",
       "stream": "stderr",
       "text": [
        "[Parallel(n_jobs=-1)]: Done   1 jobs       | elapsed:    0.0s\n",
        "[Parallel(n_jobs=-1)]: Done  42 out of  42 | elapsed:    0.2s finished\n"
       ]
      },
      {
       "output_type": "stream",
       "stream": "stdout",
       "text": [
        "\n",
        "### Optimal parameters: ###\n",
        "{'C': 0.37,\n",
        " 'fit_intercept': True,\n",
        " 'intercept_scaling': 0.10000000000000001,\n",
        " 'penalty': 'l1',\n",
        " 'tol': 1e-05}\n",
        "####################### \n",
        "\n",
        "Using N_iter = 14\n",
        "Simulation with num_features= 6\n",
        "max_features= {'penalty': ['l1', 'l2'], 'C': array([ 0.1 ,  0.19,  0.28,  0.37,  0.46,  0.55,  0.64,  0.73,  0.82,\n",
        "        0.91,  1.  ]), 'intercept_scaling': array([ 0.1 ,  0.19,  0.28,  0.37,  0.46,  0.55,  0.64,  0.73,  0.82,\n",
        "        0.91,  1.  ]), 'tol': [0.0001, 1e-05], 'fit_intercept': [True]}\n",
        "Fitting 3 folds for each of 14 candidates, totalling 42 fits\n"
       ]
      },
      {
       "output_type": "stream",
       "stream": "stderr",
       "text": [
        "[Parallel(n_jobs=-1)]: Done   1 jobs       | elapsed:    0.0s\n",
        "[Parallel(n_jobs=-1)]: Done  36 out of  42 | elapsed:    0.1s remaining:    0.0s\n",
        "[Parallel(n_jobs=-1)]: Done  42 out of  42 | elapsed:    0.1s finished\n"
       ]
      },
      {
       "output_type": "stream",
       "stream": "stdout",
       "text": [
        "\n",
        "### Optimal parameters: ###\n",
        "{'C': 0.72999999999999998,\n",
        " 'fit_intercept': True,\n",
        " 'intercept_scaling': 0.10000000000000001,\n",
        " 'penalty': 'l1',\n",
        " 'tol': 1e-05}\n",
        "####################### \n",
        "\n",
        "Using N_iter = 14\n",
        "Simulation with num_features= 6\n",
        "max_features= {'penalty': ['l1', 'l2'], 'C': array([ 0.1 ,  0.19,  0.28,  0.37,  0.46,  0.55,  0.64,  0.73,  0.82,\n",
        "        0.91,  1.  ]), 'intercept_scaling': array([ 0.1 ,  0.19,  0.28,  0.37,  0.46,  0.55,  0.64,  0.73,  0.82,\n",
        "        0.91,  1.  ]), 'tol': [0.0001, 1e-05], 'fit_intercept': [True]}\n",
        "Fitting 3 folds for each of 14 candidates, totalling 42 fits\n"
       ]
      },
      {
       "output_type": "stream",
       "stream": "stderr",
       "text": [
        "[Parallel(n_jobs=-1)]: Done   1 jobs       | elapsed:    0.0s\n",
        "[Parallel(n_jobs=-1)]: Done  42 out of  42 | elapsed:    0.1s finished\n"
       ]
      },
      {
       "output_type": "stream",
       "stream": "stdout",
       "text": [
        "\n",
        "### Optimal parameters: ###\n",
        "{'C': 0.28000000000000003,\n",
        " 'fit_intercept': True,\n",
        " 'intercept_scaling': 0.19,\n",
        " 'penalty': 'l1',\n",
        " 'tol': 1e-05}\n",
        "####################### \n",
        "\n",
        "Using N_iter = 14\n",
        "Simulation with num_features= 6\n",
        "max_features= {'penalty': ['l1', 'l2'], 'C': array([ 0.1 ,  0.19,  0.28,  0.37,  0.46,  0.55,  0.64,  0.73,  0.82,\n",
        "        0.91,  1.  ]), 'intercept_scaling': array([ 0.1 ,  0.19,  0.28,  0.37,  0.46,  0.55,  0.64,  0.73,  0.82,\n",
        "        0.91,  1.  ]), 'tol': [0.0001, 1e-05], 'fit_intercept': [True]}\n",
        "Fitting 3 folds for each of 14 candidates, totalling 42 fits\n"
       ]
      },
      {
       "output_type": "stream",
       "stream": "stderr",
       "text": [
        "[Parallel(n_jobs=-1)]: Done   1 jobs       | elapsed:    0.0s\n",
        "[Parallel(n_jobs=-1)]: Done  42 out of  42 | elapsed:    0.1s finished\n"
       ]
      },
      {
       "output_type": "stream",
       "stream": "stdout",
       "text": [
        "\n",
        "### Optimal parameters: ###\n",
        "{'C': 0.37,\n",
        " 'fit_intercept': True,\n",
        " 'intercept_scaling': 0.10000000000000001,\n",
        " 'penalty': 'l1',\n",
        " 'tol': 1e-05}\n",
        "####################### \n",
        "\n",
        "Using N_iter = 14\n",
        "Simulation with num_features= 6\n",
        "max_features= {'penalty': ['l1', 'l2'], 'C': array([ 0.1 ,  0.19,  0.28,  0.37,  0.46,  0.55,  0.64,  0.73,  0.82,\n",
        "        0.91,  1.  ]), 'intercept_scaling': array([ 0.1 ,  0.19,  0.28,  0.37,  0.46,  0.55,  0.64,  0.73,  0.82,\n",
        "        0.91,  1.  ]), 'tol': [0.0001, 1e-05], 'fit_intercept': [True]}\n",
        "Fitting 3 folds for each of 14 candidates, totalling 42 fits\n"
       ]
      },
      {
       "output_type": "stream",
       "stream": "stderr",
       "text": [
        "[Parallel(n_jobs=-1)]: Done   1 jobs       | elapsed:    0.0s\n",
        "[Parallel(n_jobs=-1)]: Done  36 out of  42 | elapsed:    0.1s remaining:    0.0s\n",
        "[Parallel(n_jobs=-1)]: Done  42 out of  42 | elapsed:    0.2s finished\n"
       ]
      },
      {
       "output_type": "stream",
       "stream": "stdout",
       "text": [
        "\n",
        "### Optimal parameters: ###\n",
        "{'C': 0.19,\n",
        " 'fit_intercept': True,\n",
        " 'intercept_scaling': 0.37,\n",
        " 'penalty': 'l1',\n",
        " 'tol': 1e-05}\n",
        "####################### \n",
        "\n",
        "Saving output to file for LogisticRegression\n",
        "\n",
        "###### \\CV of testAlgo number 1 for BayesMixed2\n",
        "###\n",
        "\n",
        "###### \\CV of testAlgo number 2 for BayesMixed2\n",
        "###"
       ]
      },
      {
       "output_type": "stream",
       "stream": "stdout",
       "text": [
        "\n",
        "Saving output to file for BayesMixed2"
       ]
      },
      {
       "output_type": "stream",
       "stream": "stdout",
       "text": [
        "\n"
       ]
      }
     ],
     "prompt_number": 2
    },
    {
     "cell_type": "code",
     "collapsed": false,
     "input": [
      "import MSPred as MSP"
     ],
     "language": "python",
     "metadata": {},
     "outputs": [],
     "prompt_number": 1
    },
    {
     "cell_type": "code",
     "collapsed": false,
     "input": [
      "MSP.main()"
     ],
     "language": "python",
     "metadata": {},
     "outputs": [
      {
       "name": "stdout",
       "output_type": "stream",
       "stream": "stdout",
       "text": [
        "Which h5 file? do you want to use (PredData or PredData_Impr0-4)PredData\n"
       ]
      },
      {
       "name": "stdout",
       "output_type": "stream",
       "stream": "stdout",
       "text": [
        "Launch Computation (a) or display result (b)? (a/b) b\n"
       ]
      },
      {
       "name": "stdout",
       "output_type": "stream",
       "stream": "stdout",
       "text": [
        "Do you want to compare different datasets? (Y/N)N\n"
       ]
      },
      {
       "name": "stdout",
       "output_type": "stream",
       "stream": "stdout",
       "text": [
        "Compare classifiers? (Y/N) Y\n"
       ]
      },
      {
       "output_type": "stream",
       "stream": "stdout",
       "text": [
        "Here are the existing datasets with output saved: \n",
        "\n",
        "Core\n",
        "Core_Imp\n",
        "CorewFam_Cut\n",
        "CorewStatic_Cut\n",
        "CorewStatic_Imp\n",
        "CorewStaticwExamwMRI_Imp\n"
       ]
      },
      {
       "name": "stdout",
       "output_type": "stream",
       "stream": "stdout",
       "text": [
        "Which dataset would you choose from above list?Core\n"
       ]
      },
      {
       "name": "stdout",
       "output_type": "stream",
       "stream": "stdout",
       "text": [
        "With optimization? (Y/N)Y\n"
       ]
      },
      {
       "output_type": "stream",
       "stream": "stdout",
       "text": [
        "RandomForest\n",
        "Open output for RandomForest\n",
        "[0 3 1 2]\n",
        "['PrevMSSSRate', 'PrevEDSSRate', 'PrevEDSS', 'PrevMSSS']\n",
        "Feature ranking:\n",
        "0. feature PrevMSSSRate (0.34)\n",
        "1. feature PrevMSSS (0.30)\n",
        "2. feature PrevEDSSRate (0.19)\n",
        "3. feature PrevEDSS (0.18)\n",
        "ROC AUC: 0.73"
       ]
      },
      {
       "output_type": "stream",
       "stream": "stdout",
       "text": [
        "\n",
        "RandomForest\n",
        "Precision Recall AUC: 0.47"
       ]
      },
      {
       "output_type": "stream",
       "stream": "stdout",
       "text": [
        "\n",
        "LogisticRegression"
       ]
      },
      {
       "output_type": "stream",
       "stream": "stdout",
       "text": [
        "\n",
        "Open output for LogisticRegression\n",
        "ROC AUC: 0.76"
       ]
      },
      {
       "output_type": "stream",
       "stream": "stdout",
       "text": [
        "\n",
        "LogisticRegression\n",
        "Precision Recall AUC: 0.52"
       ]
      },
      {
       "output_type": "stream",
       "stream": "stdout",
       "text": [
        "\n",
        "BayesMixed2"
       ]
      },
      {
       "output_type": "stream",
       "stream": "stdout",
       "text": [
        "\n",
        "Open output for BayesMixed2\n",
        "ROC AUC: 0.75"
       ]
      },
      {
       "output_type": "stream",
       "stream": "stdout",
       "text": [
        "\n",
        "BayesMixed2\n",
        "Precision Recall AUC: 0.49"
       ]
      },
      {
       "output_type": "stream",
       "stream": "stdout",
       "text": [
        "\n"
       ]
      },
      {
       "output_type": "stream",
       "stream": "stderr",
       "text": [
        "/opt/local/Library/Frameworks/Python.framework/Versions/2.7/lib/python2.7/site-packages/matplotlib/tight_layout.py:225: UserWarning: tight_layout : falling back to Agg renderer\n",
        "  warnings.warn(\"tight_layout : falling back to Agg renderer\")\n"
       ]
      }
     ],
     "prompt_number": 2
    },
    {
     "cell_type": "code",
     "collapsed": false,
     "input": [
      "\n",
      "clfName = 'RandomForest'\n",
      "obj = 'Core'\n",
      "opt = True\n"
     ],
     "language": "python",
     "metadata": {},
     "outputs": [],
     "prompt_number": 4
    },
    {
     "cell_type": "code",
     "collapsed": false,
     "input": [
      "y_pred, y_true, grids_score, imp = MSP.open_output(clfName, obj, opt)"
     ],
     "language": "python",
     "metadata": {},
     "outputs": [
      {
       "output_type": "stream",
       "stream": "stdout",
       "text": [
        "Open output for RandomForest\n"
       ]
      }
     ],
     "prompt_number": 5
    },
    {
     "cell_type": "code",
     "collapsed": false,
     "input": [
      "gridscore = grids_score\n",
      "paramNames = gridscore.dtype.fields.keys()\n",
      "paramNames"
     ],
     "language": "python",
     "metadata": {},
     "outputs": [
      {
       "metadata": {},
       "output_type": "pyout",
       "prompt_number": 9,
       "text": [
        "['std',\n",
        " 'bootstrap',\n",
        " 'n_estimators',\n",
        " 'criterion',\n",
        " 'max_features',\n",
        " 'i_CV',\n",
        " 'mean_validation_score',\n",
        " 'i_fold']"
       ]
      }
     ],
     "prompt_number": 9
    },
    {
     "cell_type": "code",
     "collapsed": false,
     "input": [
      "''' Plot Grid Performance\n",
      "'''\n",
      "# data_path = data_path+obj+'/'+clfName+'_opt.h5'\n",
      "# f=hp.File(data_path, 'r')\n",
      "# gridscore = f['grids_score'].value\n",
      "# Get numblocks\n",
      "import pylab as pl\n",
      "import numpy as np\n",
      "from scipy.interpolate import griddata\n",
      "metric = 'roc_auc'\n",
      "CV = np.unique(gridscore[\"i_CV\"])\n",
      "folds = np.unique(gridscore[\"i_fold\"])\n",
      "numblocks = len(CV) * len(folds)\n",
      "paramNames = gridscore.dtype.fields.keys()\n",
      "paramNames.remove(\"mean_validation_score\")\n",
      "paramNames.remove(\"std\")\n",
      "paramNames.remove(\"i_CV\")\n",
      "paramNames.remove(\"i_fold\")\n",
      "score = gridscore[\"mean_validation_score\"]\n",
      "std = gridscore[\"std\"]\n",
      "newgridscore = gridscore[paramNames]\n",
      "num_params = len(paramNames)\n",
      "### get index of hit ###\n",
      "hitindex = []\n",
      "n_iter = len(score)/numblocks\n",
      "for k in range(numblocks):\n",
      "    hit0index = np.argmax(score[k*n_iter: (k+1)*n_iter])\n",
      "    hitindex.append(k*n_iter+hit0index )\n",
      "\n",
      "for m in range(num_params-1):\n",
      "    i = paramNames[m]\n",
      "    x = newgridscore[i]\n",
      "    for n in range(m+1, num_params):\n",
      "    # for j in list(set(paramNames)- set([i])):\n",
      "        j = paramNames[n]\n",
      "        y = newgridscore[j]\n",
      "        compound = [x,y]\n",
      "        # Only plot heat map if dtype of all elements of x, y are int or float\n",
      "        if [True]* len(compound)== map(lambda t: np.issubdtype(t.dtype,  np.float) or np.issubdtype(t.dtype, np.int), compound):\n",
      "            gridsize = 50\n",
      "            fig = pl.figure()\n",
      "            points = np.vstack([x,y]).T\n",
      "            #####Construct MeshGrids##########\n",
      "            xnew = np.linspace(max(x), min(x), gridsize)\n",
      "            ynew = np.linspace(max(y), min(y), gridsize)\n",
      "            X, Y = np.meshgrid(xnew, ynew)\n",
      "            #####Interpolate Z on top of MeshGrids#######\n",
      "            Z = griddata(points, score, (X, Y), method = \"cubic\")\n",
      "            z_min = min(score)\n",
      "            z_max = max(score)\n",
      "            pl.pcolormesh(X,Y,Z, cmap='RdBu', vmin=z_min, vmax=z_max)\n",
      "            pl.axis([x.min(), x.max(), y.min(), y.max()])\n",
      "            pl.xlabel(i, fontsize = 30)\n",
      "            pl.ylabel(j, fontsize = 30)\n",
      "            cb = pl.colorbar()\n",
      "            cb.set_label(metric, fontsize = 30)\n",
      "            ##### Mark the \"hit\" points #######\n",
      "            hitx = x[hitindex]\n",
      "            hity = y[hitindex]\n",
      "            pl.plot(hitx, hity, 'rx')"
     ],
     "language": "python",
     "metadata": {},
     "outputs": [],
     "prompt_number": 17
    },
    {
     "cell_type": "code",
     "collapsed": false,
     "input": [
      "score"
     ],
     "language": "python",
     "metadata": {},
     "outputs": [
      {
       "metadata": {},
       "output_type": "pyout",
       "prompt_number": 19,
       "text": [
        "array([ 0.70986299,  0.71155075,  0.70933003,  0.71235297,  0.70012326,\n",
        "        0.65090457,  0.63582363,  0.66126559,  0.70053003,  0.65944959,\n",
        "        0.65763677,  0.63366671,  0.64325778,  0.70808616,  0.70567509,\n",
        "        0.67186986,  0.70423352,  0.71791222,  0.66416133,  0.71640817,\n",
        "        0.71425915,  0.72049635,  0.64014069,  0.72245286,  0.68027479,\n",
        "        0.70681297,  0.6514885 ,  0.65419977,  0.618733  ,  0.70214822,\n",
        "        0.72091034,  0.71579364,  0.71628472,  0.7174376 ,  0.71670363,\n",
        "        0.63561222,  0.6353835 ,  0.63547326,  0.71147729,  0.71406809,\n",
        "        0.70466581,  0.7028353 ,  0.63543102,  0.70555737,  0.70365027,\n",
        "        0.71292952,  0.71140927,  0.64467091,  0.71513377,  0.67444841,\n",
        "        0.70962013,  0.63035275,  0.66829154,  0.71277842,  0.66282522,\n",
        "        0.72632305,  0.67259187,  0.6805551 ,  0.66613819,  0.72381387,\n",
        "        0.71051104,  0.65618546,  0.71294638,  0.6455595 ,  0.65504082,\n",
        "        0.6936348 ,  0.6926623 ,  0.62620199,  0.70072768,  0.64664761,\n",
        "        0.70528254,  0.70735412,  0.70034794,  0.70292047,  0.65374531,\n",
        "        0.62125623,  0.65399792,  0.70723449,  0.71321314,  0.71084931,\n",
        "        0.63769845,  0.63773894,  0.66958848,  0.6745186 ,  0.71433978,\n",
        "        0.66994089,  0.72029559,  0.71645059,  0.71905765,  0.7217087 ,\n",
        "        0.70634348,  0.66060144,  0.70598666,  0.65754006,  0.70683433,\n",
        "        0.64756499,  0.69521145,  0.6152691 ,  0.6951482 ,  0.69807867])"
       ]
      }
     ],
     "prompt_number": 19
    },
    {
     "cell_type": "code",
     "collapsed": false,
     "input": [
      "import numpy as np\n",
      "CV = np.unique(gridscore[\"i_CV\"])\n",
      "folds = np.unique(gridscore[\"i_CV\"])\n",
      "numblocks = len(CV) * len(folds)\n"
     ],
     "language": "python",
     "metadata": {},
     "outputs": [],
     "prompt_number": 8
    },
    {
     "cell_type": "code",
     "collapsed": false,
     "input": [
      "import pylab as pl\n",
      "pl.plot([1,2,4], [5,6,7], 'rx')\n",
      "pl.axis([0, 10, 0, 10])\n",
      "pl.show()"
     ],
     "language": "python",
     "metadata": {},
     "outputs": [],
     "prompt_number": 17
    },
    {
     "cell_type": "code",
     "collapsed": false,
     "input": [
      "gridscore[(\"i_CV\", \"i_folds\")]\n"
     ],
     "language": "python",
     "metadata": {},
     "outputs": [
      {
       "ename": "IndexError",
       "evalue": "only integers, slices (`:`), ellipsis (`...`), numpy.newaxis (`None`) and integer or boolean arrays are valid indices",
       "output_type": "pyerr",
       "traceback": [
        "\u001b[0;31m---------------------------------------------------------------------------\u001b[0m\n\u001b[0;31mIndexError\u001b[0m                                Traceback (most recent call last)",
        "\u001b[0;32m<ipython-input-26-43f0f2258917>\u001b[0m in \u001b[0;36m<module>\u001b[0;34m()\u001b[0m\n\u001b[0;32m----> 1\u001b[0;31m \u001b[0mgridscore\u001b[0m\u001b[0;34m[\u001b[0m\u001b[0;34m(\u001b[0m\u001b[0;34m\"i_CV\"\u001b[0m\u001b[0;34m,\u001b[0m \u001b[0;34m\"i_folds\"\u001b[0m\u001b[0;34m)\u001b[0m\u001b[0;34m]\u001b[0m\u001b[0;34m\u001b[0m\u001b[0m\n\u001b[0m",
        "\u001b[0;31mIndexError\u001b[0m: only integers, slices (`:`), ellipsis (`...`), numpy.newaxis (`None`) and integer or boolean arrays are valid indices"
       ]
      }
     ],
     "prompt_number": 26
    },
    {
     "cell_type": "code",
     "collapsed": false,
     "input": [],
     "language": "python",
     "metadata": {},
     "outputs": []
    }
   ],
   "metadata": {}
  }
 ]
}