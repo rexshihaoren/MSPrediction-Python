{
 "metadata": {
  "name": "",
  "signature": "sha256:1d034612995f962af832e4b55b244a4899d09dca843d58e4689581bf11c7ab4d"
 },
 "nbformat": 3,
 "nbformat_minor": 0,
 "worksheets": [
  {
   "cells": [
    {
     "cell_type": "code",
     "collapsed": false,
     "input": [
      "import MSPred as MSP\n",
      "MSP.main()"
     ],
     "language": "python",
     "metadata": {},
     "outputs": [
      {
       "ename": "IndentationError",
       "evalue": "unexpected indent (MSPred.py, line 181)",
       "output_type": "pyerr",
       "traceback": [
        "\u001b[0;36m  File \u001b[0;32m\"MSPred.py\"\u001b[0;36m, line \u001b[0;32m181\u001b[0m\n\u001b[0;31m    f = hp.File('./data/'+ obj + '/' + clfName + optString + scalingString + '.h5', 'w')\u001b[0m\n\u001b[0m    ^\u001b[0m\n\u001b[0;31mIndentationError\u001b[0m\u001b[0;31m:\u001b[0m unexpected indent\n"
       ]
      }
     ],
     "prompt_number": 3
    },
    {
     "cell_type": "code",
     "collapsed": false,
     "input": [],
     "language": "python",
     "metadata": {},
     "outputs": []
    }
   ],
   "metadata": {}
  }
 ]
}