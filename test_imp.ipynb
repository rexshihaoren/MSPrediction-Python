{
 "metadata": {
  "name": "",
  "signature": "sha256:6795cd602ef6fcb528279ec2c90d5a57e9aa4194215126cdc62d18c283dea259"
 },
 "nbformat": 3,
 "nbformat_minor": 0,
 "worksheets": [
  {
   "cells": [
    {
     "cell_type": "code",
     "collapsed": false,
     "input": [
      "from MSPred import *"
     ],
     "language": "python",
     "metadata": {},
     "outputs": [],
     "prompt_number": 1
    },
    {
     "cell_type": "code",
     "collapsed": false,
     "input": [
      "classifiers1\n",
      "data_path = './data/predData.h5'\n",
      "param_dist_dict"
     ],
     "language": "python",
     "metadata": {},
     "outputs": [
      {
       "metadata": {},
       "output_type": "pyout",
       "prompt_number": 2,
       "text": [
        "{'BayesBernoulli': {'alpha': array([ 0.1,  0.2,  0.3,  0.4,  0.5,  0.6,  0.7,  0.8,  0.9,  1. ]),\n",
        "  'binarize': array([ 0.1,  0.2,  0.3,  0.4,  0.5,  0.6,  0.7,  0.8,  0.9,  1. ])},\n",
        " 'BayesGaussian': None,\n",
        " 'BayesGaussian2': None,\n",
        " 'BayesMixed': None,\n",
        " 'BayesMixed2': None,\n",
        " 'BayesMultinomial': {'alpha': array([ 0.1,  0.2,  0.3,  0.4,  0.5,  0.6,  0.7,  0.8,  0.9,  1. ])},\n",
        " 'BayesPoisson': None,\n",
        " 'KNN': {'algorithm': ['auto', 'ball_tree', 'kd_tree'],\n",
        "  'leaf_size': [25, 26, 27, 28, 29],\n",
        "  'n_neighbors': [1, 2, 3, 4, 5],\n",
        "  'p': [1, 2]},\n",
        " 'LinearRegression': {'fit_intercept': [True, False],\n",
        "  'normalize': [True, False]},\n",
        " 'LogisticRegression': {'C': array([ 0.1,  0.2,  0.3,  0.4,  0.5,  0.6,  0.7,  0.8,  0.9,  1. ]),\n",
        "  'fit_intercept': [True, False],\n",
        "  'intercept_scaling': array([ 0.1,  0.2,  0.3,  0.4,  0.5,  0.6,  0.7,  0.8,  0.9,  1. ]),\n",
        "  'penalty': ['l1', 'l2'],\n",
        "  'tol': [0.0001, 1e-05, 1e-06]},\n",
        " 'RandomForest': {'bootstrap': [True, False],\n",
        "  'criterion': ['gini', 'entropy'],\n",
        "  'max_features': [2, 3, 4, 5, 6],\n",
        "  'min_samples_leaf': [2, 3, 4, 5, 6, 7, 8, 9],\n",
        "  'min_samples_split': [2, 3, 4, 5, 6, 7, 8, 9],\n",
        "  'n_estimators': [50, 100, 150, 200, 250]},\n",
        " 'SVM': {'C': array([ 0.1,  0.2,  0.3,  0.4,  0.5,  0.6,  0.7,  0.8,  0.9,  1. ]),\n",
        "  'kernel': ['linear', 'poly', 'rbf'],\n",
        "  'shrinking': [True, False],\n",
        "  'tol': [0.001, 0.0001]}}"
       ]
      }
     ],
     "prompt_number": 2
    },
    {
     "cell_type": "code",
     "collapsed": false,
     "input": [
      "obj = 'Core'\n",
      "target = 'ModEDSS'\n",
      "clfName = 'RandomForest'\n",
      "clf = classifiers1[clfName]\n",
      "param_dict = param_dist_dict[clfName]\n",
      "X, y, featureNames = pred_prep(data_path, obj, target)\n",
      "try:\n",
      "    num_features = X.shape[1]\n",
      "except IndexError:\n",
      "    X = X.reshape(X.shape[0], 1)\n",
      "    num_features = 1\n",
      "random_forest_params[\"max_features\"] = range(1, num_features + 1)"
     ],
     "language": "python",
     "metadata": {},
     "outputs": [],
     "prompt_number": 3
    },
    {
     "cell_type": "code",
     "collapsed": false,
     "input": [
      "a,b,c,d = testAlgo(clf, X, y, clfName, featureNames, True, param_dict, n_iter = 3, folds = 10, times = 1)"
     ],
     "language": "python",
     "metadata": {},
     "outputs": [
      {
       "output_type": "stream",
       "stream": "stdout",
       "text": [
        "0 iteration of testAlgo\n",
        "Fitting 3 folds for each of 3 candidates, totalling 9 fits\n"
       ]
      },
      {
       "output_type": "stream",
       "stream": "stderr",
       "text": [
        "[Parallel(n_jobs=-1)]: Done   3 out of   9 | elapsed:    0.8s remaining:    1.7s\n",
        "[Parallel(n_jobs=-1)]: Done   1 out of   9 | elapsed:    1.1s remaining:    8.5s\n",
        "[Parallel(n_jobs=-1)]: Done   7 out of   9 | elapsed:    1.3s remaining:    0.4s\n",
        "[Parallel(n_jobs=-1)]: Done   9 out of   9 | elapsed:    1.3s finished\n"
       ]
      },
      {
       "output_type": "stream",
       "stream": "stdout",
       "text": [
        "\n",
        "\n",
        "####### Optimal parameters: #########\n",
        "{'bootstrap': True,\n",
        " 'criterion': 'entropy',\n",
        " 'max_features': 2,\n",
        " 'min_samples_leaf': 2,\n",
        " 'min_samples_split': 5,\n",
        " 'n_estimators': 150}\n",
        "############################## \n",
        "\n",
        "Fitting 3 folds for each of 3 candidates, totalling 9 fits\n",
        "[CV] bootstrap=False, min_samples_leaf=4, n_estimators=200, max_features=3, criterion=gini, min_samples_split=8 \n",
        "[CV] bootstrap=False, min_samples_leaf=4, n_estimators=200, max_features=3, criterion=gini, min_samples_split=8 \n",
        "[CV] bootstrap=False, min_samples_leaf=4, n_estimators=200, max_features=3, criterion=gini, min_samples_split=8 \n",
        "[CV] bootstrap=False, min_samples_leaf=6, n_estimators=50, max_features=3, criterion=gini, min_samples_split=3 \n",
        "[CV]  bootstrap=False, min_samples_leaf=4, n_estimators=200, max_features=3, criterion=gini, min_samples_split=8, score=0.733976 -   1.0s[CV]  bootstrap=False, min_samples_leaf=4, n_estimators=200, max_features=3, criterion=gini, min_samples_split=8, score=0.697699 -   0.9s[CV]  bootstrap=False, min_samples_leaf=4, n_estimators=200, max_features=3, criterion=gini, min_samples_split=8, score=0.703451 -   0.8s[CV]  bootstrap=False, min_samples_leaf=6, n_estimators=50, max_features=3, criterion=gini, min_samples_split=3, score=0.734857 -   0.2s\n",
        "\n",
        "\n",
        "\n",
        "[CV] bootstrap=False, min_samples_leaf=6, n_estimators=50, max_features=3, criterion=gini, min_samples_split=3 \n",
        "[CV] bootstrap=True, min_samples_leaf=2, n_estimators=150, max_features=2, criterion=entropy, min_samples_split=5 \n",
        "[CV] bootstrap=True, min_samples_leaf=2, n_estimators=150, max_features=2, criterion=entropy, min_samples_split=5 \n",
        "[CV]  bootstrap=False, min_samples_leaf=6, n_estimators=50, max_features=3, criterion=gini, min_samples_split=3, score=0.711456 -   0.2s[CV]  bootstrap=True, min_samples_leaf=2, n_estimators=150, max_features=2, criterion=entropy, min_samples_split=5, score=0.715419 -   0.4s[CV]  bootstrap=True, min_samples_leaf=2, n_estimators=150, max_features=2, criterion=entropy, min_samples_split=5, score=0.739284 -   0.5s\n",
        "\n",
        "\n",
        "[CV] bootstrap=False, min_samples_leaf=6, n_estimators=50, max_features=3, criterion=gini, min_samples_split=3 \n",
        "[CV]  bootstrap=False, min_samples_leaf=6, n_estimators=50, max_features=3, criterion=gini, min_samples_split=3, score=0.703287 -   0.2s\n",
        "[CV] bootstrap=True, min_samples_leaf=2, n_estimators=150, max_features=2, criterion=entropy, min_samples_split=5 \n",
        "[CV]  bootstrap=True, min_samples_leaf=2, n_estimators=150, max_features=2, criterion=entropy, min_samples_split=5, score=0.737387 -   0.6s\n"
       ]
      },
      {
       "output_type": "stream",
       "stream": "stderr",
       "text": [
        "[Parallel(n_jobs=-1)]: Done   1 out of   9 | elapsed:    0.4s remaining:    3.3s\n",
        "[Parallel(n_jobs=-1)]: Done   7 out of   9 | elapsed:    0.5s remaining:    0.1s\n",
        "[Parallel(n_jobs=-1)]: Done   9 out of   9 | elapsed:    0.6s finished\n"
       ]
      },
      {
       "output_type": "stream",
       "stream": "stdout",
       "text": [
        "\n",
        "\n",
        "####### Optimal parameters: #########\n",
        "{'bootstrap': True,\n",
        " 'criterion': 'gini',\n",
        " 'max_features': 1,\n",
        " 'min_samples_leaf': 7,\n",
        " 'min_samples_split': 2,\n",
        " 'n_estimators': 200}\n",
        "############################## \n",
        "\n",
        "Fitting 3 folds for each of 3 candidates, totalling 9 fits\n",
        "[CV] bootstrap=True, min_samples_leaf=7, n_estimators=200, max_features=1, criterion=gini, min_samples_split=2 \n",
        "[CV] bootstrap=True, min_samples_leaf=7, n_estimators=200, max_features=1, criterion=gini, min_samples_split=2 \n",
        "[CV] bootstrap=True, min_samples_leaf=7, n_estimators=200, max_features=1, criterion=gini, min_samples_split=2 \n",
        "[CV] bootstrap=True, min_samples_leaf=6, n_estimators=100, max_features=1, criterion=entropy, min_samples_split=2 \n",
        "[CV]  bootstrap=True, min_samples_leaf=7, n_estimators=200, max_features=1, criterion=gini, min_samples_split=2, score=0.764804 -   0.4s[CV]  bootstrap=True, min_samples_leaf=7, n_estimators=200, max_features=1, criterion=gini, min_samples_split=2, score=0.768438 -   0.4s[CV]  bootstrap=True, min_samples_leaf=7, n_estimators=200, max_features=1, criterion=gini, min_samples_split=2, score=0.748556 -   0.4s[CV]  bootstrap=True, min_samples_leaf=6, n_estimators=100, max_features=1, criterion=entropy, min_samples_split=2, score=0.756726 -   0.2s\n",
        "\n",
        "\n",
        "\n",
        "[CV] bootstrap=True, min_samples_leaf=4, n_estimators=50, max_features=1, criterion=gini, min_samples_split=7 \n",
        "[CV] bootstrap=True, min_samples_leaf=4, n_estimators=50, max_features=1, criterion=gini, min_samples_split=7 \n",
        "[CV] bootstrap=True, min_samples_leaf=6, n_estimators=100, max_features=1, criterion=entropy, min_samples_split=2 \n",
        "[CV] bootstrap=True, min_samples_leaf=6, n_estimators=100, max_features=1, criterion=entropy, min_samples_split=2 \n",
        "[CV]  bootstrap=True, min_samples_leaf=4, n_estimators=50, max_features=1, criterion=gini, min_samples_split=7, score=0.752698 -   0.1s[CV]  bootstrap=True, min_samples_leaf=4, n_estimators=50, max_features=1, criterion=gini, min_samples_split=7, score=0.760255 -   0.1s[CV]  bootstrap=True, min_samples_leaf=6, n_estimators=100, max_features=1, criterion=entropy, min_samples_split=2, score=0.749894 -   0.2s[CV]  bootstrap=True, min_samples_leaf=6, n_estimators=100, max_features=1, criterion=entropy, min_samples_split=2, score=0.765766 -   0.2s\n",
        "\n",
        "\n",
        "\n",
        "[CV] bootstrap=True, min_samples_leaf=4, n_estimators=50, max_features=1, criterion=gini, min_samples_split=7 \n",
        "[CV]  bootstrap=True, min_samples_leaf=4, n_estimators=50, max_features=1, criterion=gini, min_samples_split=7, score=0.747969 -   0.1s\n"
       ]
      },
      {
       "output_type": "stream",
       "stream": "stderr",
       "text": [
        "[Parallel(n_jobs=-1)]: Done   1 out of   9 | elapsed:    0.7s remaining:    6.0s\n",
        "[Parallel(n_jobs=-1)]: Done   7 out of   9 | elapsed:    1.8s remaining:    0.5s\n",
        "[Parallel(n_jobs=-1)]: Done   9 out of   9 | elapsed:    2.3s finished\n"
       ]
      },
      {
       "output_type": "stream",
       "stream": "stdout",
       "text": [
        "\n",
        "\n",
        "####### Optimal parameters: #########\n",
        "{'bootstrap': True,\n",
        " 'criterion': 'gini',\n",
        " 'max_features': 4,\n",
        " 'min_samples_leaf': 3,\n",
        " 'min_samples_split': 3,\n",
        " 'n_estimators': 150}\n",
        "############################## \n",
        "\n",
        "Fitting 3 folds for each of 3 candidates, totalling 9 fits\n",
        "[CV] bootstrap=True, min_samples_leaf=3, n_estimators=150, max_features=4, criterion=gini, min_samples_split=3 \n",
        "[CV] bootstrap=True, min_samples_leaf=3, n_estimators=150, max_features=4, criterion=gini, min_samples_split=3 \n",
        "[CV] bootstrap=True, min_samples_leaf=3, n_estimators=150, max_features=4, criterion=gini, min_samples_split=3 \n",
        "[CV] bootstrap=False, min_samples_leaf=3, n_estimators=200, max_features=2, criterion=entropy, min_samples_split=7 \n",
        "[CV]  bootstrap=True, min_samples_leaf=3, n_estimators=150, max_features=4, criterion=gini, min_samples_split=3, score=0.736546 -   0.7s[CV]  bootstrap=True, min_samples_leaf=3, n_estimators=150, max_features=4, criterion=gini, min_samples_split=3, score=0.738850 -   0.7s[CV]  bootstrap=True, min_samples_leaf=3, n_estimators=150, max_features=4, criterion=gini, min_samples_split=3, score=0.723612 -   0.6s[CV]  bootstrap=False, min_samples_leaf=3, n_estimators=200, max_features=2, criterion=entropy, min_samples_split=7, score=0.735880 -   1.1s\n",
        "\n",
        "\n",
        "\n",
        "[CV] bootstrap=False, min_samples_leaf=6, n_estimators=150, max_features=4, criterion=entropy, min_samples_split=7 \n",
        "[CV] bootstrap=False, min_samples_leaf=3, n_estimators=200, max_features=2, criterion=entropy, min_samples_split=7 \n",
        "[CV] bootstrap=False, min_samples_leaf=3, n_estimators=200, max_features=2, criterion=entropy, min_samples_split=7 \n",
        "[CV] bootstrap=False, min_samples_leaf=6, n_estimators=150, max_features=4, criterion=entropy, min_samples_split=7 \n",
        "[CV]  bootstrap=False, min_samples_leaf=6, n_estimators=150, max_features=4, criterion=entropy, min_samples_split=7, score=0.719200 -   1.0s[CV]  bootstrap=False, min_samples_leaf=3, n_estimators=200, max_features=2, criterion=entropy, min_samples_split=7, score=0.705021 -   0.8s[CV]  bootstrap=False, min_samples_leaf=3, n_estimators=200, max_features=2, criterion=entropy, min_samples_split=7, score=0.724147 -   0.9s[CV]  bootstrap=False, min_samples_leaf=6, n_estimators=150, max_features=4, criterion=entropy, min_samples_split=7, score=0.692794 -   0.9s\n",
        "\n",
        "\n",
        "\n",
        "[CV] bootstrap=False, min_samples_leaf=6, n_estimators=150, max_features=4, criterion=entropy, min_samples_split=7 \n",
        "[CV]  bootstrap=False, min_samples_leaf=6, n_estimators=150, max_features=4, criterion=entropy, min_samples_split=7, score=0.670467 -   0.7s\n"
       ]
      },
      {
       "output_type": "stream",
       "stream": "stderr",
       "text": [
        "[Parallel(n_jobs=-1)]: Done   1 out of   9 | elapsed:    0.6s remaining:    4.4s\n",
        "[Parallel(n_jobs=-1)]: Done   7 out of   9 | elapsed:    1.4s remaining:    0.4s\n",
        "[Parallel(n_jobs=-1)]: Done   9 out of   9 | elapsed:    1.4s finished\n"
       ]
      },
      {
       "output_type": "stream",
       "stream": "stdout",
       "text": [
        "\n",
        "\n",
        "####### Optimal parameters: #########\n",
        "{'bootstrap': True,\n",
        " 'criterion': 'gini',\n",
        " 'max_features': 1,\n",
        " 'min_samples_leaf': 7,\n",
        " 'min_samples_split': 8,\n",
        " 'n_estimators': 250}\n",
        "############################## \n",
        "\n",
        "Fitting 3 folds for each of 3 candidates, totalling 9 fits\n",
        "[CV] bootstrap=True, min_samples_leaf=7, n_estimators=250, max_features=1, criterion=gini, min_samples_split=8 \n",
        "[CV] bootstrap=True, min_samples_leaf=7, n_estimators=250, max_features=1, criterion=gini, min_samples_split=8 \n",
        "[CV] bootstrap=True, min_samples_leaf=7, n_estimators=250, max_features=1, criterion=gini, min_samples_split=8 \n",
        "[CV] bootstrap=True, min_samples_leaf=2, n_estimators=100, max_features=1, criterion=entropy, min_samples_split=4 \n",
        "[CV]  bootstrap=True, min_samples_leaf=7, n_estimators=250, max_features=1, criterion=gini, min_samples_split=8, score=0.746235 -   0.5s[CV]  bootstrap=True, min_samples_leaf=7, n_estimators=250, max_features=1, criterion=gini, min_samples_split=8, score=0.765259 -   0.5s[CV]  bootstrap=True, min_samples_leaf=7, n_estimators=250, max_features=1, criterion=gini, min_samples_split=8, score=0.738689 -   0.5s[CV]  bootstrap=True, min_samples_leaf=2, n_estimators=100, max_features=1, criterion=entropy, min_samples_split=4, score=0.739190 -   0.3s\n",
        "\n",
        "\n",
        "\n",
        "[CV] bootstrap=True, min_samples_leaf=5, n_estimators=250, max_features=3, criterion=gini, min_samples_split=5 \n",
        "[CV] bootstrap=True, min_samples_leaf=5, n_estimators=250, max_features=3, criterion=gini, min_samples_split=5 \n",
        "[CV] bootstrap=True, min_samples_leaf=2, n_estimators=100, max_features=1, criterion=entropy, min_samples_split=4 \n",
        "[CV] bootstrap=True, min_samples_leaf=2, n_estimators=100, max_features=1, criterion=entropy, min_samples_split=4 \n",
        "[CV]  bootstrap=True, min_samples_leaf=5, n_estimators=250, max_features=3, criterion=gini, min_samples_split=5, score=0.750128 -   0.8s[CV]  bootstrap=True, min_samples_leaf=5, n_estimators=250, max_features=3, criterion=gini, min_samples_split=5, score=0.741026 -   0.9s[CV]  bootstrap=True, min_samples_leaf=2, n_estimators=100, max_features=1, criterion=entropy, min_samples_split=4, score=0.725199 -   0.3s[CV]  bootstrap=True, min_samples_leaf=2, n_estimators=100, max_features=1, criterion=entropy, min_samples_split=4, score=0.743445 -   0.3s\n",
        "\n",
        "\n",
        "\n",
        "[CV] bootstrap=True, min_samples_leaf=5, n_estimators=250, max_features=3, criterion=gini, min_samples_split=5 \n",
        "[CV]  bootstrap=True, min_samples_leaf=5, n_estimators=250, max_features=3, criterion=gini, min_samples_split=5, score=0.732137 -   0.8s\n"
       ]
      },
      {
       "output_type": "stream",
       "stream": "stderr",
       "text": [
        "[Parallel(n_jobs=-1)]: Done   1 out of   9 | elapsed:    1.5s remaining:   12.1s\n",
        "[Parallel(n_jobs=-1)]: Done   7 out of   9 | elapsed:    2.1s remaining:    0.6s\n",
        "[Parallel(n_jobs=-1)]: Done   9 out of   9 | elapsed:    2.5s finished\n"
       ]
      },
      {
       "output_type": "stream",
       "stream": "stdout",
       "text": [
        "\n",
        "\n",
        "####### Optimal parameters: #########\n",
        "{'bootstrap': False,\n",
        " 'criterion': 'entropy',\n",
        " 'max_features': 2,\n",
        " 'min_samples_leaf': 7,\n",
        " 'min_samples_split': 3,\n",
        " 'n_estimators': 100}\n",
        "############################## \n",
        "\n",
        "Fitting 3 folds for each of 3 candidates, totalling 9 fits\n",
        "[CV] bootstrap=False, min_samples_leaf=9, n_estimators=200, max_features=3, criterion=entropy, min_samples_split=2 \n",
        "[CV] bootstrap=False, min_samples_leaf=9, n_estimators=200, max_features=3, criterion=entropy, min_samples_split=2 \n",
        "[CV] bootstrap=False, min_samples_leaf=9, n_estimators=200, max_features=3, criterion=entropy, min_samples_split=2 \n",
        "[CV] bootstrap=False, min_samples_leaf=2, n_estimators=150, max_features=4, criterion=entropy, min_samples_split=5 \n",
        "[CV]  bootstrap=False, min_samples_leaf=9, n_estimators=200, max_features=3, criterion=entropy, min_samples_split=2, score=0.744323 -   1.5s[CV]  bootstrap=False, min_samples_leaf=9, n_estimators=200, max_features=3, criterion=entropy, min_samples_split=2, score=0.752906 -   1.2s[CV]  bootstrap=False, min_samples_leaf=9, n_estimators=200, max_features=3, criterion=entropy, min_samples_split=2, score=0.706936 -   1.1s[CV]  bootstrap=False, min_samples_leaf=2, n_estimators=150, max_features=4, criterion=entropy, min_samples_split=5, score=0.673925 -   1.7s\n",
        "\n",
        "\n",
        "\n",
        "[CV] bootstrap=False, min_samples_leaf=7, n_estimators=100, max_features=2, criterion=entropy, min_samples_split=3 \n",
        "[CV] bootstrap=False, min_samples_leaf=2, n_estimators=150, max_features=4, criterion=entropy, min_samples_split=5 \n",
        "[CV] bootstrap=False, min_samples_leaf=2, n_estimators=150, max_features=4, criterion=entropy, min_samples_split=5 \n",
        "[CV] bootstrap=False, min_samples_leaf=7, n_estimators=100, max_features=2, criterion=entropy, min_samples_split=3 \n",
        "[CV]  bootstrap=False, min_samples_leaf=7, n_estimators=100, max_features=2, criterion=entropy, min_samples_split=3, score=0.751223 -   0.6s[CV]  bootstrap=False, min_samples_leaf=2, n_estimators=150, max_features=4, criterion=entropy, min_samples_split=5, score=0.642660 -   1.1s[CV]  bootstrap=False, min_samples_leaf=2, n_estimators=150, max_features=4, criterion=entropy, min_samples_split=5, score=0.666407 -   1.4s[CV]  bootstrap=False, min_samples_leaf=7, n_estimators=100, max_features=2, criterion=entropy, min_samples_split=3, score=0.757290 -   0.4s\n",
        "\n",
        "\n",
        "\n",
        "[CV] bootstrap=False, min_samples_leaf=7, n_estimators=100, max_features=2, criterion=entropy, min_samples_split=3 \n",
        "[CV]  bootstrap=False, min_samples_leaf=7, n_estimators=100, max_features=2, criterion=entropy, min_samples_split=3, score=0.707132 -   0.3s\n"
       ]
      },
      {
       "output_type": "stream",
       "stream": "stderr",
       "text": [
        "[Parallel(n_jobs=-1)]: Done   3 out of   9 | elapsed:    0.5s remaining:    0.9s\n",
        "[Parallel(n_jobs=-1)]: Done   1 out of   9 | elapsed:    0.6s remaining:    4.5s\n",
        "[Parallel(n_jobs=-1)]: Done   7 out of   9 | elapsed:    1.6s remaining:    0.5s\n",
        "[Parallel(n_jobs=-1)]: Done   9 out of   9 | elapsed:    1.6s finished\n"
       ]
      },
      {
       "output_type": "stream",
       "stream": "stdout",
       "text": [
        "\n",
        "\n",
        "####### Optimal parameters: #########\n",
        "{'bootstrap': False,\n",
        " 'criterion': 'entropy',\n",
        " 'max_features': 1,\n",
        " 'min_samples_leaf': 6,\n",
        " 'min_samples_split': 7,\n",
        " 'n_estimators': 150}\n",
        "############################## \n",
        "\n",
        "Fitting 3 folds for each of 3 candidates, totalling 9 fits\n",
        "[CV] bootstrap=False, min_samples_leaf=6, n_estimators=150, max_features=1, criterion=entropy, min_samples_split=7 \n",
        "[CV] bootstrap=False, min_samples_leaf=6, n_estimators=150, max_features=1, criterion=entropy, min_samples_split=7 \n",
        "[CV] bootstrap=False, min_samples_leaf=6, n_estimators=150, max_features=1, criterion=entropy, min_samples_split=7 \n",
        "[CV] bootstrap=True, min_samples_leaf=3, n_estimators=50, max_features=2, criterion=entropy, min_samples_split=6 \n",
        "[CV]  bootstrap=False, min_samples_leaf=6, n_estimators=150, max_features=1, criterion=entropy, min_samples_split=7, score=0.788089 -   0.5s[CV]  bootstrap=False, min_samples_leaf=6, n_estimators=150, max_features=1, criterion=entropy, min_samples_split=7, score=0.767523 -   0.4s[CV]  bootstrap=False, min_samples_leaf=6, n_estimators=150, max_features=1, criterion=entropy, min_samples_split=7, score=0.722054 -   0.4s[CV]  bootstrap=True, min_samples_leaf=3, n_estimators=50, max_features=2, criterion=entropy, min_samples_split=6, score=0.774699 -   0.2s\n",
        "\n",
        "\n",
        "\n",
        "[CV] bootstrap=False, min_samples_leaf=7, n_estimators=200, max_features=4, criterion=gini, min_samples_split=7 \n",
        "[CV] bootstrap=False, min_samples_leaf=7, n_estimators=200, max_features=4, criterion=gini, min_samples_split=7 \n",
        "[CV] bootstrap=False, min_samples_leaf=7, n_estimators=200, max_features=4, criterion=gini, min_samples_split=7 \n",
        "[CV] bootstrap=True, min_samples_leaf=3, n_estimators=50, max_features=2, criterion=entropy, min_samples_split=6 \n",
        "[CV]  bootstrap=False, min_samples_leaf=7, n_estimators=200, max_features=4, criterion=gini, min_samples_split=7, score=0.691133 -   0.9s[CV]  bootstrap=False, min_samples_leaf=7, n_estimators=200, max_features=4, criterion=gini, min_samples_split=7, score=0.711147 -   1.0s[CV]  bootstrap=False, min_samples_leaf=7, n_estimators=200, max_features=4, criterion=gini, min_samples_split=7, score=0.757456 -   1.1s[CV]  bootstrap=True, min_samples_leaf=3, n_estimators=50, max_features=2, criterion=entropy, min_samples_split=6, score=0.755753 -   0.2s\n",
        "\n",
        "\n",
        "\n",
        "[CV] bootstrap=True, min_samples_leaf=3, n_estimators=50, max_features=2, criterion=entropy, min_samples_split=6 \n",
        "[CV]  bootstrap=True, min_samples_leaf=3, n_estimators=50, max_features=2, criterion=entropy, min_samples_split=6, score=0.716996 -   0.2s\n"
       ]
      },
      {
       "output_type": "stream",
       "stream": "stderr",
       "text": [
        "[Parallel(n_jobs=-1)]: Done   1 out of   9 | elapsed:    0.7s remaining:    5.9s\n",
        "[Parallel(n_jobs=-1)]: Done   7 out of   9 | elapsed:    0.9s remaining:    0.3s\n",
        "[Parallel(n_jobs=-1)]: Done   9 out of   9 | elapsed:    0.9s finished\n"
       ]
      },
      {
       "output_type": "stream",
       "stream": "stdout",
       "text": [
        "\n",
        "\n",
        "####### Optimal parameters: #########\n",
        "{'bootstrap': True,\n",
        " 'criterion': 'entropy',\n",
        " 'max_features': 1,\n",
        " 'min_samples_leaf': 8,\n",
        " 'min_samples_split': 4,\n",
        " 'n_estimators': 100}\n",
        "############################## \n",
        "\n",
        "Fitting 3 folds for each of 3 candidates, totalling 9 fits\n",
        "[CV] bootstrap=True, min_samples_leaf=8, n_estimators=150, max_features=3, criterion=entropy, min_samples_split=8 \n",
        "[CV] bootstrap=True, min_samples_leaf=8, n_estimators=150, max_features=3, criterion=entropy, min_samples_split=8 \n",
        "[CV] bootstrap=True, min_samples_leaf=8, n_estimators=150, max_features=3, criterion=entropy, min_samples_split=8 \n",
        "[CV] bootstrap=True, min_samples_leaf=8, n_estimators=150, max_features=1, criterion=gini, min_samples_split=7 \n",
        "[CV]  bootstrap=True, min_samples_leaf=8, n_estimators=150, max_features=3, criterion=entropy, min_samples_split=8, score=0.736417 -   0.7s[CV]  bootstrap=True, min_samples_leaf=8, n_estimators=150, max_features=3, criterion=entropy, min_samples_split=8, score=0.770212 -   0.7s[CV]  bootstrap=True, min_samples_leaf=8, n_estimators=150, max_features=3, criterion=entropy, min_samples_split=8, score=0.738402 -   0.6s[CV]  bootstrap=True, min_samples_leaf=8, n_estimators=150, max_features=1, criterion=gini, min_samples_split=7, score=0.748682 -   0.3s\n",
        "\n",
        "\n",
        "\n",
        "[CV] bootstrap=True, min_samples_leaf=8, n_estimators=100, max_features=1, criterion=entropy, min_samples_split=4 \n",
        "[CV] bootstrap=True, min_samples_leaf=8, n_estimators=100, max_features=1, criterion=entropy, min_samples_split=4 \n",
        "[CV] bootstrap=True, min_samples_leaf=8, n_estimators=150, max_features=1, criterion=gini, min_samples_split=7 \n",
        "[CV] bootstrap=True, min_samples_leaf=8, n_estimators=150, max_features=1, criterion=gini, min_samples_split=7 \n",
        "[CV]  bootstrap=True, min_samples_leaf=8, n_estimators=100, max_features=1, criterion=entropy, min_samples_split=4, score=0.744579 -   0.2s[CV]  bootstrap=True, min_samples_leaf=8, n_estimators=100, max_features=1, criterion=entropy, min_samples_split=4, score=0.748977 -   0.2s[CV]  bootstrap=True, min_samples_leaf=8, n_estimators=150, max_features=1, criterion=gini, min_samples_split=7, score=0.745541 -   0.3s[CV]  bootstrap=True, min_samples_leaf=8, n_estimators=150, max_features=1, criterion=gini, min_samples_split=7, score=0.776219 -   0.3s\n",
        "\n",
        "\n",
        "\n",
        "[CV] bootstrap=True, min_samples_leaf=8, n_estimators=100, max_features=1, criterion=entropy, min_samples_split=4 \n",
        "[CV]  bootstrap=True, min_samples_leaf=8, n_estimators=100, max_features=1, criterion=entropy, min_samples_split=4, score=0.777009 -   0.2s\n"
       ]
      },
      {
       "output_type": "stream",
       "stream": "stderr",
       "text": [
        "[Parallel(n_jobs=-1)]: Done   1 jobs       | elapsed:    0.5s\n",
        "[Parallel(n_jobs=-1)]: Done   7 out of   9 | elapsed:    1.2s remaining:    0.3s\n",
        "[Parallel(n_jobs=-1)]: Done   9 out of   9 | elapsed:    1.4s finished\n"
       ]
      },
      {
       "output_type": "stream",
       "stream": "stdout",
       "text": [
        "\n",
        "\n",
        "####### Optimal parameters: #########\n",
        "{'bootstrap': True,\n",
        " 'criterion': 'gini',\n",
        " 'max_features': 1,\n",
        " 'min_samples_leaf': 5,\n",
        " 'min_samples_split': 5,\n",
        " 'n_estimators': 200}\n",
        "############################## \n",
        "\n",
        "Fitting 3 folds for each of 3 candidates, totalling 9 fits\n",
        "[CV] bootstrap=True, min_samples_leaf=5, n_estimators=200, max_features=1, criterion=gini, min_samples_split=5 \n",
        "[CV] bootstrap=True, min_samples_leaf=5, n_estimators=200, max_features=1, criterion=gini, min_samples_split=5 \n",
        "[CV] bootstrap=True, min_samples_leaf=5, n_estimators=200, max_features=1, criterion=gini, min_samples_split=5 \n",
        "[CV] bootstrap=False, min_samples_leaf=6, n_estimators=150, max_features=2, criterion=gini, min_samples_split=3 \n",
        "[CV]  bootstrap=True, min_samples_leaf=5, n_estimators=200, max_features=1, criterion=gini, min_samples_split=5, score=0.759178 -   0.5s[CV]  bootstrap=True, min_samples_leaf=5, n_estimators=200, max_features=1, criterion=gini, min_samples_split=5, score=0.757335 -   0.5s[CV]  bootstrap=True, min_samples_leaf=5, n_estimators=200, max_features=1, criterion=gini, min_samples_split=5, score=0.716351 -   0.4s[CV]  bootstrap=False, min_samples_leaf=6, n_estimators=150, max_features=2, criterion=gini, min_samples_split=3, score=0.742097 -   0.7s\n",
        "\n",
        "\n",
        "\n",
        "[CV] bootstrap=False, min_samples_leaf=6, n_estimators=150, max_features=2, criterion=gini, min_samples_split=3 \n",
        "[CV] bootstrap=False, min_samples_leaf=5, n_estimators=150, max_features=2, criterion=gini, min_samples_split=9 \n",
        "[CV] bootstrap=False, min_samples_leaf=6, n_estimators=150, max_features=2, criterion=gini, min_samples_split=3 \n",
        "[CV] bootstrap=False, min_samples_leaf=5, n_estimators=150, max_features=2, criterion=gini, min_samples_split=9 \n",
        "[CV]  bootstrap=False, min_samples_leaf=6, n_estimators=150, max_features=2, criterion=gini, min_samples_split=3, score=0.702677 -   0.5s[CV]  bootstrap=False, min_samples_leaf=5, n_estimators=150, max_features=2, criterion=gini, min_samples_split=9, score=0.730320 -   0.6s[CV]  bootstrap=False, min_samples_leaf=6, n_estimators=150, max_features=2, criterion=gini, min_samples_split=3, score=0.728432 -   0.6s[CV]  bootstrap=False, min_samples_leaf=5, n_estimators=150, max_features=2, criterion=gini, min_samples_split=9, score=0.719306 -   0.5s\n",
        "\n",
        "\n",
        "\n",
        "[CV] bootstrap=False, min_samples_leaf=5, n_estimators=150, max_features=2, criterion=gini, min_samples_split=9 \n",
        "[CV]  bootstrap=False, min_samples_leaf=5, n_estimators=150, max_features=2, criterion=gini, min_samples_split=9, score=0.702602 -   0.4s\n"
       ]
      },
      {
       "output_type": "stream",
       "stream": "stderr",
       "text": [
        "[Parallel(n_jobs=-1)]: Done   1 out of   9 | elapsed:    0.9s remaining:    7.1s\n",
        "[Parallel(n_jobs=-1)]: Done   7 out of   9 | elapsed:    1.4s remaining:    0.4s\n",
        "[Parallel(n_jobs=-1)]: Done   9 out of   9 | elapsed:    1.5s finished\n"
       ]
      },
      {
       "output_type": "stream",
       "stream": "stdout",
       "text": [
        "\n",
        "\n",
        "####### Optimal parameters: #########\n",
        "{'bootstrap': True,\n",
        " 'criterion': 'entropy',\n",
        " 'max_features': 1,\n",
        " 'min_samples_leaf': 6,\n",
        " 'min_samples_split': 4,\n",
        " 'n_estimators': 250}\n",
        "############################## \n",
        "\n",
        "Fitting 3 folds for each of 3 candidates, totalling 9 fits\n",
        "[CV] bootstrap=False, min_samples_leaf=7, n_estimators=100, max_features=4, criterion=entropy, min_samples_split=3 \n",
        "[CV] bootstrap=False, min_samples_leaf=7, n_estimators=100, max_features=4, criterion=entropy, min_samples_split=3 \n",
        "[CV] bootstrap=False, min_samples_leaf=7, n_estimators=100, max_features=4, criterion=entropy, min_samples_split=3 \n",
        "[CV] bootstrap=False, min_samples_leaf=6, n_estimators=100, max_features=3, criterion=gini, min_samples_split=4 \n",
        "[CV]  bootstrap=False, min_samples_leaf=7, n_estimators=100, max_features=4, criterion=entropy, min_samples_split=3, score=0.729267 -   0.9s[CV]  bootstrap=False, min_samples_leaf=7, n_estimators=100, max_features=4, criterion=entropy, min_samples_split=3, score=0.703416 -   0.8s[CV]  bootstrap=False, min_samples_leaf=7, n_estimators=100, max_features=4, criterion=entropy, min_samples_split=3, score=0.687320 -   0.7s[CV]  bootstrap=False, min_samples_leaf=6, n_estimators=100, max_features=3, criterion=gini, min_samples_split=4, score=0.740307 -   0.6s\n",
        "\n",
        "\n",
        "\n",
        "[CV] bootstrap=True, min_samples_leaf=6, n_estimators=250, max_features=1, criterion=entropy, min_samples_split=4 \n",
        "[CV] bootstrap=True, min_samples_leaf=6, n_estimators=250, max_features=1, criterion=entropy, min_samples_split=4 \n",
        "[CV] bootstrap=False, min_samples_leaf=6, n_estimators=100, max_features=3, criterion=gini, min_samples_split=4 \n",
        "[CV] bootstrap=False, min_samples_leaf=6, n_estimators=100, max_features=3, criterion=gini, min_samples_split=4 \n",
        "[CV]  bootstrap=True, min_samples_leaf=6, n_estimators=250, max_features=1, criterion=entropy, min_samples_split=4, score=0.762637 -   0.5s[CV]  bootstrap=True, min_samples_leaf=6, n_estimators=250, max_features=1, criterion=entropy, min_samples_split=4, score=0.777011 -   0.6s[CV]  bootstrap=False, min_samples_leaf=6, n_estimators=100, max_features=3, criterion=gini, min_samples_split=4, score=0.710998 -   0.4s[CV]  bootstrap=False, min_samples_leaf=6, n_estimators=100, max_features=3, criterion=gini, min_samples_split=4, score=0.724136 -   0.4s\n",
        "\n",
        "\n",
        "\n",
        "[CV] bootstrap=True, min_samples_leaf=6, n_estimators=250, max_features=1, criterion=entropy, min_samples_split=4 \n",
        "[CV]  bootstrap=True, min_samples_leaf=6, n_estimators=250, max_features=1, criterion=entropy, min_samples_split=4, score=0.738167 -   0.5s\n"
       ]
      },
      {
       "output_type": "stream",
       "stream": "stderr",
       "text": [
        "[Parallel(n_jobs=-1)]: Done   1 out of   9 | elapsed:    0.6s remaining:    5.0s\n",
        "[Parallel(n_jobs=-1)]: Done   7 out of   9 | elapsed:    1.1s remaining:    0.3s\n",
        "[Parallel(n_jobs=-1)]: Done   9 out of   9 | elapsed:    1.5s finished\n"
       ]
      },
      {
       "output_type": "stream",
       "stream": "stdout",
       "text": [
        "\n",
        "\n",
        "####### Optimal parameters: #########\n",
        "{'bootstrap': True,\n",
        " 'criterion': 'entropy',\n",
        " 'max_features': 4,\n",
        " 'min_samples_leaf': 7,\n",
        " 'min_samples_split': 3,\n",
        " 'n_estimators': 100}\n",
        "############################## \n",
        "\n",
        "[CV] bootstrap=True, min_samples_leaf=7, n_estimators=100, max_features=4, criterion=entropy, min_samples_split=3 \n",
        "[CV] bootstrap=True, min_samples_leaf=7, n_estimators=100, max_features=4, criterion=entropy, min_samples_split=3 \n",
        "[CV] bootstrap=True, min_samples_leaf=7, n_estimators=100, max_features=4, criterion=entropy, min_samples_split=3 \n",
        "[CV] bootstrap=True, min_samples_leaf=4, n_estimators=150, max_features=4, criterion=entropy, min_samples_split=9 \n",
        "[CV]  bootstrap=True, min_samples_leaf=7, n_estimators=100, max_features=4, criterion=entropy, min_samples_split=3, score=0.751451 -   0.6s[CV]  bootstrap=True, min_samples_leaf=7, n_estimators=100, max_features=4, criterion=entropy, min_samples_split=3, score=0.764352 -   0.5s[CV]  bootstrap=True, min_samples_leaf=7, n_estimators=100, max_features=4, criterion=entropy, min_samples_split=3, score=0.704000 -   0.5s[CV]  bootstrap=True, min_samples_leaf=4, n_estimators=150, max_features=4, criterion=entropy, min_samples_split=9, score=0.739240 -   0.9s\n",
        "\n",
        "\n",
        "\n",
        "[CV] bootstrap=False, min_samples_leaf=2, n_estimators=150, max_features=1, criterion=gini, min_samples_split=5 \n",
        "[CV] bootstrap=True, min_samples_leaf=4, n_estimators=150, max_features=4, criterion=entropy, min_samples_split=9 \n",
        "[CV] bootstrap=True, min_samples_leaf=4, n_estimators=150, max_features=4, criterion=entropy, min_samples_split=9 \n",
        "[CV] bootstrap=False, min_samples_leaf=2, n_estimators=150, max_features=1, criterion=gini, min_samples_split=5 \n",
        "[CV]  bootstrap=False, min_samples_leaf=2, n_estimators=150, max_features=1, criterion=gini, min_samples_split=5, score=0.722180 -   0.5s[CV]  bootstrap=True, min_samples_leaf=4, n_estimators=150, max_features=4, criterion=entropy, min_samples_split=9, score=0.704394 -   0.8s[CV]  bootstrap=True, min_samples_leaf=4, n_estimators=150, max_features=4, criterion=entropy, min_samples_split=9, score=0.754775 -   0.8s[CV]  bootstrap=False, min_samples_leaf=2, n_estimators=150, max_features=1, criterion=gini, min_samples_split=5, score=0.716863 -   0.5s\n",
        "\n",
        "\n",
        "\n",
        "[CV] bootstrap=False, min_samples_leaf=2, n_estimators=150, max_features=1, criterion=gini, min_samples_split=5 \n",
        "[CV]  bootstrap=False, min_samples_leaf=2, n_estimators=150, max_features=1, criterion=gini, min_samples_split=5, score=0.689070 -   0.4s\n"
       ]
      }
     ],
     "prompt_number": 4
    },
    {
     "cell_type": "code",
     "collapsed": false,
     "input": [
      "list(d.dtype.names)"
     ],
     "language": "python",
     "metadata": {},
     "outputs": [
      {
       "metadata": {},
       "output_type": "pyout",
       "prompt_number": 5,
       "text": [
        "['PrevMSSSRate', 'PrevEDSSRate', 'PrevEDSS', 'PrevMSSS']"
       ]
      }
     ],
     "prompt_number": 5
    },
    {
     "cell_type": "code",
     "collapsed": false,
     "input": [
      "d"
     ],
     "language": "python",
     "metadata": {},
     "outputs": [
      {
       "metadata": {},
       "output_type": "pyout",
       "prompt_number": 6,
       "text": [
        "array([ (0.2995519097810887, 0.19035628576349095, 0.19589300961495507, 0.3141987948404652),\n",
        "       (0.22950231521219544, 0.17493741721353334, 0.2825729221408205, 0.31298734543345025),\n",
        "       (0.282411911868168, 0.16006905038553343, 0.25118684384058354, 0.3063321939057145),\n",
        "       (0.21928805068320686, 0.1747008691942674, 0.2709676634508757, 0.33504341667165005),\n",
        "       (0.27634050623293954, 0.14867665814866846, 0.29774562321469594, 0.2772372124036959),\n",
        "       (0.262545277443706, 0.19739156434039865, 0.2353052652229463, 0.30475789299294903),\n",
        "       (0.23619333056863653, 0.18409152781156574, 0.24949481046120248, 0.33022033115859534),\n",
        "       (0.23381904420436894, 0.1938089341778562, 0.2478501738421789, 0.3245218477755958),\n",
        "       (0.23723354343788053, 0.19947467030185803, 0.24555792499800896, 0.3177338612622521),\n",
        "       (0.2716436310264651, 0.1419941303692876, 0.30386831427855754, 0.28249392432568976)], \n",
        "      dtype=[('PrevMSSSRate', '<f8'), ('PrevEDSSRate', '<f8'), ('PrevEDSS', '<f8'), ('PrevMSSS', '<f8')])"
       ]
      }
     ],
     "prompt_number": 6
    },
    {
     "cell_type": "code",
     "collapsed": false,
     "input": [
      "d"
     ],
     "language": "python",
     "metadata": {},
     "outputs": [
      {
       "metadata": {},
       "output_type": "pyout",
       "prompt_number": 10,
       "text": [
        "array([ (0.21316505523934212, 0.17245492268964885, 0.2631287080112632, 0.3512513140597457),\n",
        "       (0.24741160816184177, 0.21649859324814133, 0.2554338421881955, 0.2806559564018214),\n",
        "       (0.18394886452097092, 0.1472718286168802, 0.36436830967872263, 0.3044109971834262),\n",
        "       (0.26998934981944633, 0.1952623753502597, 0.22282648681736147, 0.31192178801293263),\n",
        "       (0.28889958693170215, 0.20597860786714423, 0.18164071672818424, 0.3234810884729693),\n",
        "       (0.20752013091001292, 0.17117491095559736, 0.29403770672294127, 0.32726725141144847),\n",
        "       (0.23178510684330417, 0.18007894310069983, 0.2789698289091546, 0.30916612114684183),\n",
        "       (0.22630178658125935, 0.15347027581423464, 0.31207873417213267, 0.30814920343237345),\n",
        "       (0.2553234946542113, 0.15684495834476817, 0.32433565840500733, 0.26349588859601325),\n",
        "       (0.22449345280886074, 0.18241680269240185, 0.24840682089117155, 0.34468292360756597)], \n",
        "      dtype=[('PrevMSSSRate', '<f8'), ('PrevEDSSRate', '<f8'), ('PrevEDSS', '<f8'), ('PrevMSSS', '<f8')])"
       ]
      }
     ],
     "prompt_number": 10
    },
    {
     "cell_type": "code",
     "collapsed": false,
     "input": [
      "d1 = d1.view(dtype=[(i, 'float64') for i in featureNames])"
     ],
     "language": "python",
     "metadata": {},
     "outputs": [
      {
       "ename": "AttributeError",
       "evalue": "'list' object has no attribute 'view'",
       "output_type": "pyerr",
       "traceback": [
        "\u001b[0;31m---------------------------------------------------------------------------\u001b[0m\n\u001b[0;31mAttributeError\u001b[0m                            Traceback (most recent call last)",
        "\u001b[0;32m<ipython-input-28-715fa414dc1a>\u001b[0m in \u001b[0;36m<module>\u001b[0;34m()\u001b[0m\n\u001b[0;32m----> 1\u001b[0;31m \u001b[0md1\u001b[0m \u001b[0;34m=\u001b[0m \u001b[0md1\u001b[0m\u001b[0;34m.\u001b[0m\u001b[0mview\u001b[0m\u001b[0;34m(\u001b[0m\u001b[0mdtype\u001b[0m\u001b[0;34m=\u001b[0m\u001b[0;34m[\u001b[0m\u001b[0;34m(\u001b[0m\u001b[0mi\u001b[0m\u001b[0;34m,\u001b[0m \u001b[0;34m'float64'\u001b[0m\u001b[0;34m)\u001b[0m \u001b[0;32mfor\u001b[0m \u001b[0mi\u001b[0m \u001b[0;32min\u001b[0m \u001b[0mfeatureNames\u001b[0m\u001b[0;34m]\u001b[0m\u001b[0;34m)\u001b[0m\u001b[0;34m\u001b[0m\u001b[0m\n\u001b[0m",
        "\u001b[0;31mAttributeError\u001b[0m: 'list' object has no attribute 'view'"
       ]
      }
     ],
     "prompt_number": 28
    },
    {
     "cell_type": "code",
     "collapsed": false,
     "input": [
      "d1"
     ],
     "language": "python",
     "metadata": {},
     "outputs": [
      {
       "metadata": {},
       "output_type": "pyout",
       "prompt_number": 26,
       "text": [
        "array([[ (0.22394458710748466, 0.1248059155121845, 0.3165690894206585, 0.33468040795967263)],\n",
        "       [ (0.2379485245438181, 0.18045861984602649, 0.24068999389769524, 0.34090286171246015)],\n",
        "       [ (0.21347646482256652, 0.17174000022949387, 0.28573487473933, 0.32904866020860946)],\n",
        "       [ (0.2221252671064, 0.17352903744633463, 0.2948582404677196, 0.3094874549795461)],\n",
        "       [ (0.2127774100124481, 0.12166114324317615, 0.3487039382130878, 0.316857508531288)],\n",
        "       [ (0.232934740178821, 0.1488976553431986, 0.2753652562051335, 0.3428023482728469)],\n",
        "       [ (0.24313925091281735, 0.15390876251484403, 0.2608059504583768, 0.34214603611396216)],\n",
        "       [ (0.20724595911328714, 0.1627073026273886, 0.2986448105925998, 0.3314019276667245)],\n",
        "       [ (0.22478934213603624, 0.17403494102219821, 0.2909441358573179, 0.31023158098444736)],\n",
        "       [ (0.24664357998890069, 0.1496806490729295, 0.2804088536321371, 0.323266917306033)],\n",
        "       [ (0.25934168854812717, 0.19975325330715032, 0.21259733788561136, 0.32830772025911115)],\n",
        "       [ (0.2523125082214978, 0.17759985593051703, 0.2622877506975582, 0.30779988515042705)],\n",
        "       [ (0.20270079768029275, 0.16165975608494823, 0.27148644888132895, 0.36415299735342993)],\n",
        "       [ (0.21380660105881094, 0.11433556221245128, 0.4503864264321962, 0.22147141029654172)],\n",
        "       [ (0.28139647090976017, 0.17104018281681502, 0.2215514025504419, 0.3260119437229827)],\n",
        "       [ (0.20747474899620566, 0.17088070847628054, 0.2766098716610876, 0.3450346708664263)],\n",
        "       [ (0.222144519003655, 0.12706522993033287, 0.3694664635851229, 0.28132378748088926)],\n",
        "       [ (0.2042022759463203, 0.17537302817545808, 0.28230624616602956, 0.338118449712192)],\n",
        "       [ (0.22706907250009398, 0.18820567773187694, 0.2760806749360627, 0.3086445748319666)],\n",
        "       [ (0.21266556282003346, 0.18237460694795055, 0.2763656549484927, 0.32859417528352325)]], \n",
        "      dtype=[('PrevMSSSRate', '<f8'), ('PrevEDSSRate', '<f8'), ('PrevEDSS', '<f8'), ('PrevMSSS', '<f8')])"
       ]
      }
     ],
     "prompt_number": 26
    },
    {
     "cell_type": "code",
     "collapsed": false,
     "input": [],
     "language": "python",
     "metadata": {},
     "outputs": []
    }
   ],
   "metadata": {}
  }
 ]
}