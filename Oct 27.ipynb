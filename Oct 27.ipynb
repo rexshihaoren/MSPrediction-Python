{
 "metadata": {
  "name": "",
  "signature": "sha256:c694d85164848187b543c3141a199b46e4aaf18c0ae80ecec55aac2a37cb8823"
 },
 "nbformat": 3,
 "nbformat_minor": 0,
 "worksheets": [
  {
   "cells": [
    {
     "cell_type": "code",
     "collapsed": false,
     "input": [
      "import MSPred as MSP\n",
      "MSP.main()"
     ],
     "language": "python",
     "metadata": {},
     "outputs": [
      {
       "name": "stdout",
       "output_type": "stream",
       "stream": "stdout",
       "text": [
        "Which h5 file? do you want to use (PredData or PredData_Impr0-4)PredData\n"
       ]
      },
      {
       "name": "stdout",
       "output_type": "stream",
       "stream": "stdout",
       "text": [
        "Launch Computation (a) or display result (b)? (a/b) a\n"
       ]
      },
      {
       "output_type": "stream",
       "stream": "stdout",
       "text": [
        "Choose datasets from the following in a list format. e.g. ['Core', 'Core_Imp']\n",
        "Core(related output has already been generated)\n",
        "Core_Imp(related output has already been generated)\n",
        "CorewFam_Cut(related output has already been generated)\n",
        "CorewStatic_Cut(related output has already been generated)\n",
        "CorewStatic_Imp(related output has already been generated)\n",
        "CorewStaticwExam_Cut(related output has already been generated)\n",
        "CorewStaticwExam_Imp(related output has already been generated)\n",
        "CorewStaticwExamwMRI_Imp(related output has already been generated)\n",
        "CorewStaticwExamwMRIwoT2L_CutVDL_Imp\n",
        "CorewStaticwExamwMRIwoT2L_Imp\n",
        "CorewStaticwExamwMRIwoT2LwoVDL_Imp\n",
        "CorewStaticwExamwMRIwoVDL_CutT2L_Imp\n",
        "CorewStaticwExamwMRIwoVDL_Imp\n",
        "CorewStaticwExamwoVDL\n",
        "CorewStaticwExamwoVDL_Cut\n",
        "CorewStaticwFam_Cut\n",
        "CorewStaticwGenetics_Cut\n",
        "CorewStaticwGenetics_Imp\n",
        "CorewStaticwMRI_Imp\n",
        "CorewStaticwTreatment\n",
        "CorewStaticwoOW\n",
        "CorewmodFam_Cut\n",
        "CorewoRate\n",
        "EDSS\n",
        "EDSSwEDSSRate\n"
       ]
      },
      {
       "name": "stdout",
       "output_type": "stream",
       "stream": "stdout",
       "text": [
        "--->['Core', 'Core_Imp']\n"
       ]
      },
      {
       "name": "stdout",
       "output_type": "stream",
       "stream": "stdout",
       "text": [
        "Do you want to answer a lot of - useless ? - different questions for each dataset that forces you to stare at your terminal the whole time or would you prefer just to go on with the fitting of all the models for the sected datasets? \n",
        " (Answer 'Complicated' for the first option or just press return for the simple option)\n",
        " -->\n"
       ]
      },
      {
       "output_type": "stream",
       "stream": "stdout",
       "text": [
        "Last couple of questions:\n"
       ]
      },
      {
       "name": "stdout",
       "output_type": "stream",
       "stream": "stdout",
       "text": [
        "Do you want optimisation on all of the model fittings? (return or 'Y' for Yes) \n",
        " -->Y\n"
       ]
      },
      {
       "name": "stdout",
       "output_type": "stream",
       "stream": "stdout",
       "text": [
        "How many Cross-Validations should be done for the validation of the algorithms? (return for default = 10) \n",
        " -->2\n"
       ]
      },
      {
       "name": "stdout",
       "output_type": "stream",
       "stream": "stdout",
       "text": [
        "Do you want to scale the imput data? (return or 'Y' for Yes) \n",
        " -->N\n"
       ]
      },
      {
       "output_type": "stream",
       "stream": "stdout",
       "text": [
        "Saving output for Core\n",
        "\n",
        "###### \\CV of testAlgo number 1 for RandomForest\n",
        "###\n",
        "Using N_iter = 5\n",
        "Simulation with num_features= 6\n",
        "max_features= {'n_estimators': [50, 100, 200, 300], 'max_features': [2, 3, 4], 'bootstrap': [True, False], 'criterion': ['gini', 'entropy']}\n",
        "Fitting 3 folds for each of 5 candidates, totalling 15 fits\n"
       ]
      },
      {
       "output_type": "stream",
       "stream": "stderr",
       "text": [
        "[Parallel(n_jobs=-1)]: Done   1 jobs       | elapsed:    0.9s\n",
        "[Parallel(n_jobs=-1)]: Done  15 out of  15 | elapsed:    2.5s finished\n"
       ]
      },
      {
       "output_type": "stream",
       "stream": "stdout",
       "text": [
        "\n",
        "### Optimal parameters: ###\n",
        "{'bootstrap': True, 'criterion': 'gini', 'max_features': 2, 'n_estimators': 50}\n",
        "####################### \n",
        "\n",
        "Using N_iter = 5\n",
        "Simulation with num_features= 6\n",
        "max_features= {'n_estimators': [50, 100, 200, 300], 'max_features': [2, 3, 4], 'bootstrap': [True, False], 'criterion': ['gini', 'entropy']}\n",
        "Fitting 3 folds for each of 5 candidates, totalling 15 fits\n"
       ]
      },
      {
       "output_type": "stream",
       "stream": "stderr",
       "text": [
        "[Parallel(n_jobs=-1)]: Done   1 jobs       | elapsed:    0.4s\n",
        "[Parallel(n_jobs=-1)]: Done  15 out of  15 | elapsed:    6.5s finished\n"
       ]
      },
      {
       "output_type": "stream",
       "stream": "stdout",
       "text": [
        "\n",
        "### Optimal parameters: ###\n",
        "{'bootstrap': True,\n",
        " 'criterion': 'gini',\n",
        " 'max_features': 3,\n",
        " 'n_estimators': 100}\n",
        "####################### \n",
        "\n",
        "Using N_iter = 5\n",
        "Simulation with num_features= 6\n",
        "max_features= {'n_estimators': [50, 100, 200, 300], 'max_features': [2, 3, 4], 'bootstrap': [True, False], 'criterion': ['gini', 'entropy']}\n",
        "Fitting 3 folds for each of 5 candidates, totalling 15 fits\n"
       ]
      },
      {
       "output_type": "stream",
       "stream": "stderr",
       "text": [
        "[Parallel(n_jobs=-1)]: Done   1 jobs       | elapsed:    2.6s\n",
        "[Parallel(n_jobs=-1)]: Done   9 out of  15 | elapsed:    5.1s remaining:    3.4s\n",
        "[Parallel(n_jobs=-1)]: Done  15 out of  15 | elapsed:    6.4s finished\n"
       ]
      },
      {
       "output_type": "stream",
       "stream": "stdout",
       "text": [
        "\n",
        "### Optimal parameters: ###\n",
        "{'bootstrap': True,\n",
        " 'criterion': 'entropy',\n",
        " 'max_features': 3,\n",
        " 'n_estimators': 200}\n",
        "####################### \n",
        "\n",
        "Using N_iter = 5\n",
        "Simulation with num_features= 6\n",
        "max_features= {'n_estimators': [50, 100, 200, 300], 'max_features': [2, 3, 4], 'bootstrap': [True, False], 'criterion': ['gini', 'entropy']}\n",
        "Fitting 3 folds for each of 5 candidates, totalling 15 fits\n"
       ]
      },
      {
       "output_type": "stream",
       "stream": "stderr",
       "text": [
        "[Parallel(n_jobs=-1)]: Done   1 jobs       | elapsed:    0.4s\n",
        "[Parallel(n_jobs=-1)]: Done   9 out of  15 | elapsed:    3.1s remaining:    2.0s\n",
        "[Parallel(n_jobs=-1)]: Done  15 out of  15 | elapsed:    3.6s finished\n"
       ]
      },
      {
       "output_type": "stream",
       "stream": "stdout",
       "text": [
        "\n",
        "### Optimal parameters: ###\n",
        "{'bootstrap': True,\n",
        " 'criterion': 'entropy',\n",
        " 'max_features': 3,\n",
        " 'n_estimators': 300}\n",
        "####################### \n",
        "\n",
        "Using N_iter = 5\n",
        "Simulation with num_features= 6\n",
        "max_features= {'n_estimators': [50, 100, 200, 300], 'max_features': [2, 3, 4], 'bootstrap': [True, False], 'criterion': ['gini', 'entropy']}\n",
        "Fitting 3 folds for each of 5 candidates, totalling 15 fits\n"
       ]
      },
      {
       "output_type": "stream",
       "stream": "stderr",
       "text": [
        "[Parallel(n_jobs=-1)]: Done   1 jobs       | elapsed:    3.1s\n",
        "[Parallel(n_jobs=-1)]: Done   9 out of  15 | elapsed:    4.8s remaining:    3.2s\n",
        "[Parallel(n_jobs=-1)]: Done  15 out of  15 | elapsed:    5.1s finished\n"
       ]
      },
      {
       "output_type": "stream",
       "stream": "stdout",
       "text": [
        "\n",
        "### Optimal parameters: ###\n",
        "{'bootstrap': True, 'criterion': 'gini', 'max_features': 2, 'n_estimators': 50}\n",
        "####################### \n",
        "\n",
        "Using N_iter = 5\n",
        "Simulation with num_features= 6\n",
        "max_features= {'n_estimators': [50, 100, 200, 300], 'max_features': [2, 3, 4], 'bootstrap': [True, False], 'criterion': ['gini', 'entropy']}\n",
        "Fitting 3 folds for each of 5 candidates, totalling 15 fits\n"
       ]
      },
      {
       "output_type": "stream",
       "stream": "stderr",
       "text": [
        "[Parallel(n_jobs=-1)]: Done   1 jobs       | elapsed:    0.6s\n",
        "[Parallel(n_jobs=-1)]: Done  15 out of  15 | elapsed:    5.7s finished\n"
       ]
      },
      {
       "output_type": "stream",
       "stream": "stdout",
       "text": [
        "\n",
        "### Optimal parameters: ###\n",
        "{'bootstrap': True,\n",
        " 'criterion': 'entropy',\n",
        " 'max_features': 2,\n",
        " 'n_estimators': 100}\n",
        "####################### \n",
        "\n",
        "Using N_iter = 5\n",
        "Simulation with num_features= 6\n",
        "max_features= {'n_estimators': [50, 100, 200, 300], 'max_features': [2, 3, 4], 'bootstrap': [True, False], 'criterion': ['gini', 'entropy']}\n",
        "Fitting 3 folds for each of 5 candidates, totalling 15 fits\n"
       ]
      },
      {
       "output_type": "stream",
       "stream": "stderr",
       "text": [
        "[Parallel(n_jobs=-1)]: Done   1 jobs       | elapsed:    0.6s\n",
        "[Parallel(n_jobs=-1)]: Done   9 out of  15 | elapsed:    1.8s remaining:    1.2s\n",
        "[Parallel(n_jobs=-1)]: Done  15 out of  15 | elapsed:    1.9s finished\n"
       ]
      },
      {
       "output_type": "stream",
       "stream": "stdout",
       "text": [
        "\n",
        "### Optimal parameters: ###\n",
        "{'bootstrap': True,\n",
        " 'criterion': 'entropy',\n",
        " 'max_features': 4,\n",
        " 'n_estimators': 50}\n",
        "####################### \n",
        "\n",
        "Using N_iter = 5\n",
        "Simulation with num_features= 6\n",
        "max_features= {'n_estimators': [50, 100, 200, 300], 'max_features': [2, 3, 4], 'bootstrap': [True, False], 'criterion': ['gini', 'entropy']}\n",
        "Fitting 3 folds for each of 5 candidates, totalling 15 fits\n"
       ]
      },
      {
       "output_type": "stream",
       "stream": "stderr",
       "text": [
        "[Parallel(n_jobs=-1)]: Done   1 jobs       | elapsed:    2.7s\n",
        "[Parallel(n_jobs=-1)]: Done   9 out of  15 | elapsed:    7.6s remaining:    5.1s\n",
        "[Parallel(n_jobs=-1)]: Done  15 out of  15 | elapsed:    7.6s finished\n"
       ]
      },
      {
       "output_type": "stream",
       "stream": "stdout",
       "text": [
        "\n",
        "### Optimal parameters: ###\n",
        "{'bootstrap': True,\n",
        " 'criterion': 'entropy',\n",
        " 'max_features': 3,\n",
        " 'n_estimators': 50}\n",
        "####################### \n",
        "\n",
        "Using N_iter = 5\n",
        "Simulation with num_features= 6\n",
        "max_features= {'n_estimators': [50, 100, 200, 300], 'max_features': [2, 3, 4], 'bootstrap': [True, False], 'criterion': ['gini', 'entropy']}\n",
        "Fitting 3 folds for each of 5 candidates, totalling 15 fits\n"
       ]
      },
      {
       "output_type": "stream",
       "stream": "stderr",
       "text": [
        "[Parallel(n_jobs=-1)]: Done   1 jobs       | elapsed:    0.4s\n",
        "[Parallel(n_jobs=-1)]: Done   9 out of  15 | elapsed:    1.9s remaining:    1.2s\n",
        "[Parallel(n_jobs=-1)]: Done  15 out of  15 | elapsed:    3.3s finished\n"
       ]
      },
      {
       "output_type": "stream",
       "stream": "stdout",
       "text": [
        "\n",
        "### Optimal parameters: ###\n",
        "{'bootstrap': True,\n",
        " 'criterion': 'entropy',\n",
        " 'max_features': 2,\n",
        " 'n_estimators': 100}\n",
        "####################### \n",
        "\n",
        "Using N_iter = 5\n",
        "Simulation with num_features= 6\n",
        "max_features= {'n_estimators': [50, 100, 200, 300], 'max_features': [2, 3, 4], 'bootstrap': [True, False], 'criterion': ['gini', 'entropy']}\n",
        "Fitting 3 folds for each of 5 candidates, totalling 15 fits\n"
       ]
      },
      {
       "output_type": "stream",
       "stream": "stderr",
       "text": [
        "[Parallel(n_jobs=-1)]: Done   1 jobs       | elapsed:    2.2s\n",
        "[Parallel(n_jobs=-1)]: Done  15 out of  15 | elapsed:    3.1s finished\n"
       ]
      },
      {
       "output_type": "stream",
       "stream": "stdout",
       "text": [
        "\n",
        "### Optimal parameters: ###\n",
        "{'bootstrap': True,\n",
        " 'criterion': 'entropy',\n",
        " 'max_features': 2,\n",
        " 'n_estimators': 100}\n",
        "####################### \n",
        "\n",
        "\n",
        "###### \\CV of testAlgo number 2 for RandomForest\n",
        "###\n",
        "Using N_iter = 5\n",
        "Simulation with num_features= 6\n",
        "max_features= {'n_estimators': [50, 100, 200, 300], 'max_features': [2, 3, 4], 'bootstrap': [True, False], 'criterion': ['gini', 'entropy']}\n",
        "Fitting 3 folds for each of 5 candidates, totalling 15 fits\n"
       ]
      },
      {
       "output_type": "stream",
       "stream": "stderr",
       "text": [
        "[Parallel(n_jobs=-1)]: Done   1 jobs       | elapsed:    0.4s\n",
        "[Parallel(n_jobs=-1)]: Done   9 out of  15 | elapsed:    5.8s remaining:    3.8s\n",
        "[Parallel(n_jobs=-1)]: Done  15 out of  15 | elapsed:    7.4s finished\n"
       ]
      },
      {
       "output_type": "stream",
       "stream": "stdout",
       "text": [
        "\n",
        "### Optimal parameters: ###\n",
        "{'bootstrap': True,\n",
        " 'criterion': 'entropy',\n",
        " 'max_features': 4,\n",
        " 'n_estimators': 100}\n",
        "####################### \n",
        "\n",
        "Using N_iter = 5\n",
        "Simulation with num_features= 6\n",
        "max_features= {'n_estimators': [50, 100, 200, 300], 'max_features': [2, 3, 4], 'bootstrap': [True, False], 'criterion': ['gini', 'entropy']}\n",
        "Fitting 3 folds for each of 5 candidates, totalling 15 fits\n"
       ]
      },
      {
       "output_type": "stream",
       "stream": "stderr",
       "text": [
        "[Parallel(n_jobs=-1)]: Done   1 jobs       | elapsed:    1.0s\n",
        "[Parallel(n_jobs=-1)]: Done   9 out of  15 | elapsed:    2.8s remaining:    1.8s\n",
        "[Parallel(n_jobs=-1)]: Done  15 out of  15 | elapsed:    3.5s finished\n"
       ]
      },
      {
       "output_type": "stream",
       "stream": "stdout",
       "text": [
        "\n",
        "### Optimal parameters: ###\n",
        "{'bootstrap': True,\n",
        " 'criterion': 'entropy',\n",
        " 'max_features': 4,\n",
        " 'n_estimators': 100}\n",
        "####################### \n",
        "\n",
        "Using N_iter = 5\n",
        "Simulation with num_features= 6\n",
        "max_features= {'n_estimators': [50, 100, 200, 300], 'max_features': [2, 3, 4], 'bootstrap': [True, False], 'criterion': ['gini', 'entropy']}\n",
        "Fitting 3 folds for each of 5 candidates, totalling 15 fits\n"
       ]
      },
      {
       "output_type": "stream",
       "stream": "stderr",
       "text": [
        "[Parallel(n_jobs=-1)]: Done   1 jobs       | elapsed:    1.2s\n",
        "[Parallel(n_jobs=-1)]: Done   9 out of  15 | elapsed:    1.3s remaining:    0.9s\n",
        "[Parallel(n_jobs=-1)]: Done  15 out of  15 | elapsed:    3.3s finished\n"
       ]
      },
      {
       "output_type": "stream",
       "stream": "stdout",
       "text": [
        "\n",
        "### Optimal parameters: ###\n",
        "{'bootstrap': True,\n",
        " 'criterion': 'entropy',\n",
        " 'max_features': 2,\n",
        " 'n_estimators': 50}\n",
        "####################### \n",
        "\n",
        "Using N_iter = 5\n",
        "Simulation with num_features= 6\n",
        "max_features= {'n_estimators': [50, 100, 200, 300], 'max_features': [2, 3, 4], 'bootstrap': [True, False], 'criterion': ['gini', 'entropy']}\n",
        "Fitting 3 folds for each of 5 candidates, totalling 15 fits\n"
       ]
      },
      {
       "output_type": "stream",
       "stream": "stderr",
       "text": [
        "[Parallel(n_jobs=-1)]: Done   1 jobs       | elapsed:    1.0s\n",
        "[Parallel(n_jobs=-1)]: Done   9 out of  15 | elapsed:    2.8s remaining:    1.9s\n",
        "[Parallel(n_jobs=-1)]: Done  15 out of  15 | elapsed:    3.9s finished\n"
       ]
      },
      {
       "output_type": "stream",
       "stream": "stdout",
       "text": [
        "\n",
        "### Optimal parameters: ###\n",
        "{'bootstrap': True,\n",
        " 'criterion': 'entropy',\n",
        " 'max_features': 2,\n",
        " 'n_estimators': 300}\n",
        "####################### \n",
        "\n",
        "Using N_iter = 5\n",
        "Simulation with num_features= 6\n",
        "max_features= {'n_estimators': [50, 100, 200, 300], 'max_features': [2, 3, 4], 'bootstrap': [True, False], 'criterion': ['gini', 'entropy']}\n",
        "Fitting 3 folds for each of 5 candidates, totalling 15 fits\n"
       ]
      },
      {
       "output_type": "stream",
       "stream": "stderr",
       "text": [
        "[Parallel(n_jobs=-1)]: Done   1 jobs       | elapsed:    0.3s\n",
        "[Parallel(n_jobs=-1)]: Done   9 out of  15 | elapsed:    5.1s remaining:    3.4s\n",
        "[Parallel(n_jobs=-1)]: Done  15 out of  15 | elapsed:    5.9s finished\n"
       ]
      },
      {
       "output_type": "stream",
       "stream": "stdout",
       "text": [
        "\n",
        "### Optimal parameters: ###\n",
        "{'bootstrap': True,\n",
        " 'criterion': 'gini',\n",
        " 'max_features': 2,\n",
        " 'n_estimators': 300}\n",
        "####################### \n",
        "\n",
        "Using N_iter = 5\n",
        "Simulation with num_features= 6\n",
        "max_features= {'n_estimators': [50, 100, 200, 300], 'max_features': [2, 3, 4], 'bootstrap': [True, False], 'criterion': ['gini', 'entropy']}\n",
        "Fitting 3 folds for each of 5 candidates, totalling 15 fits\n"
       ]
      },
      {
       "output_type": "stream",
       "stream": "stderr",
       "text": [
        "[Parallel(n_jobs=-1)]: Done   1 jobs       | elapsed:    1.9s\n",
        "[Parallel(n_jobs=-1)]: Done  15 out of  15 | elapsed:    6.6s finished\n"
       ]
      },
      {
       "output_type": "stream",
       "stream": "stdout",
       "text": [
        "\n",
        "### Optimal parameters: ###\n",
        "{'bootstrap': True,\n",
        " 'criterion': 'gini',\n",
        " 'max_features': 2,\n",
        " 'n_estimators': 100}\n",
        "####################### \n",
        "\n",
        "Using N_iter = 5\n",
        "Simulation with num_features= 6\n",
        "max_features= {'n_estimators': [50, 100, 200, 300], 'max_features': [2, 3, 4], 'bootstrap': [True, False], 'criterion': ['gini', 'entropy']}\n",
        "Fitting 3 folds for each of 5 candidates, totalling 15 fits\n"
       ]
      },
      {
       "output_type": "stream",
       "stream": "stderr",
       "text": [
        "[Parallel(n_jobs=-1)]: Done   1 jobs       | elapsed:    4.4s\n",
        "[Parallel(n_jobs=-1)]: Done  15 out of  15 | elapsed:    7.9s finished\n"
       ]
      },
      {
       "output_type": "stream",
       "stream": "stdout",
       "text": [
        "\n",
        "### Optimal parameters: ###\n",
        "{'bootstrap': True,\n",
        " 'criterion': 'entropy',\n",
        " 'max_features': 3,\n",
        " 'n_estimators': 300}\n",
        "####################### \n",
        "\n",
        "Using N_iter = 5\n",
        "Simulation with num_features= 6\n",
        "max_features= {'n_estimators': [50, 100, 200, 300], 'max_features': [2, 3, 4], 'bootstrap': [True, False], 'criterion': ['gini', 'entropy']}\n",
        "Fitting 3 folds for each of 5 candidates, totalling 15 fits"
       ]
      },
      {
       "output_type": "stream",
       "stream": "stdout",
       "text": [
        "\n"
       ]
      },
      {
       "output_type": "stream",
       "stream": "stderr",
       "text": [
        "[Parallel(n_jobs=-1)]: Done   1 jobs       | elapsed:    2.0s\n",
        "[Parallel(n_jobs=-1)]: Done   9 out of  15 | elapsed:    3.1s remaining:    2.1s\n",
        "[Parallel(n_jobs=-1)]: Done  15 out of  15 | elapsed:    6.7s finished\n"
       ]
      },
      {
       "output_type": "stream",
       "stream": "stdout",
       "text": [
        "\n",
        "### Optimal parameters: ###\n",
        "{'bootstrap': True,\n",
        " 'criterion': 'entropy',\n",
        " 'max_features': 2,\n",
        " 'n_estimators': 300}\n",
        "####################### \n",
        "\n",
        "Using N_iter = 5\n",
        "Simulation with num_features= 6\n",
        "max_features= {'n_estimators': [50, 100, 200, 300], 'max_features': [2, 3, 4], 'bootstrap': [True, False], 'criterion': ['gini', 'entropy']}\n",
        "Fitting 3 folds for each of 5 candidates, totalling 15 fits\n"
       ]
      },
      {
       "output_type": "stream",
       "stream": "stderr",
       "text": [
        "[Parallel(n_jobs=-1)]: Done   1 jobs       | elapsed:    0.7s\n",
        "[Parallel(n_jobs=-1)]: Done   9 out of  15 | elapsed:    2.6s remaining:    1.7s\n",
        "[Parallel(n_jobs=-1)]: Done  15 out of  15 | elapsed:    4.3s finished\n"
       ]
      },
      {
       "output_type": "stream",
       "stream": "stdout",
       "text": [
        "\n",
        "### Optimal parameters: ###\n",
        "{'bootstrap': True,\n",
        " 'criterion': 'entropy',\n",
        " 'max_features': 4,\n",
        " 'n_estimators': 200}\n",
        "####################### \n",
        "\n",
        "Using N_iter = 5\n",
        "Simulation with num_features= 6\n",
        "max_features= {'n_estimators': [50, 100, 200, 300], 'max_features': [2, 3, 4], 'bootstrap': [True, False], 'criterion': ['gini', 'entropy']}\n",
        "Fitting 3 folds for each of 5 candidates, totalling 15 fits\n"
       ]
      },
      {
       "output_type": "stream",
       "stream": "stderr",
       "text": [
        "[Parallel(n_jobs=-1)]: Done   1 jobs       | elapsed:    0.3s\n",
        "[Parallel(n_jobs=-1)]: Done   9 out of  15 | elapsed:    1.8s remaining:    1.2s\n",
        "[Parallel(n_jobs=-1)]: Done  15 out of  15 | elapsed:    3.6s finished\n"
       ]
      },
      {
       "output_type": "stream",
       "stream": "stdout",
       "text": [
        "\n",
        "### Optimal parameters: ###\n",
        "{'bootstrap': True,\n",
        " 'criterion': 'entropy',\n",
        " 'max_features': 3,\n",
        " 'n_estimators': 200}\n",
        "####################### \n",
        "\n",
        "Saving output to file for RandomForest\n",
        "\n",
        "###### \\CV of testAlgo number 1 for LogisticRegression\n",
        "###\n",
        "Using N_iter = 14\n",
        "Simulation with num_features= 6\n",
        "max_features= {'penalty': ['l1', 'l2'], 'C': array([ 0.1 ,  0.19,  0.28,  0.37,  0.46,  0.55,  0.64,  0.73,  0.82,\n",
        "        0.91,  1.  ]), 'intercept_scaling': array([ 0.1 ,  0.19,  0.28,  0.37,  0.46,  0.55,  0.64,  0.73,  0.82,\n",
        "        0.91,  1.  ]), 'tol': [0.0001, 1e-05], 'fit_intercept': [True]}\n",
        "Fitting 3 folds for each of 14 candidates, totalling 42 fits\n"
       ]
      },
      {
       "output_type": "stream",
       "stream": "stderr",
       "text": [
        "[Parallel(n_jobs=-1)]: Done   1 jobs       | elapsed:    0.0s\n",
        "[Parallel(n_jobs=-1)]: Done  36 out of  42 | elapsed:    0.1s remaining:    0.0s\n",
        "[Parallel(n_jobs=-1)]: Done  42 out of  42 | elapsed:    0.1s finished\n"
       ]
      },
      {
       "output_type": "stream",
       "stream": "stdout",
       "text": [
        "\n",
        "### Optimal parameters: ###\n",
        "{'C': 0.19,\n",
        " 'fit_intercept': True,\n",
        " 'intercept_scaling': 0.19,\n",
        " 'penalty': 'l1',\n",
        " 'tol': 0.0001}\n",
        "####################### \n",
        "\n",
        "Using N_iter = 14\n",
        "Simulation with num_features= 6\n",
        "max_features= {'penalty': ['l1', 'l2'], 'C': array([ 0.1 ,  0.19,  0.28,  0.37,  0.46,  0.55,  0.64,  0.73,  0.82,\n",
        "        0.91,  1.  ]), 'intercept_scaling': array([ 0.1 ,  0.19,  0.28,  0.37,  0.46,  0.55,  0.64,  0.73,  0.82,\n",
        "        0.91,  1.  ]), 'tol': [0.0001, 1e-05], 'fit_intercept': [True]}\n",
        "Fitting 3 folds for each of 14 candidates, totalling 42 fits\n"
       ]
      },
      {
       "output_type": "stream",
       "stream": "stderr",
       "text": [
        "[Parallel(n_jobs=-1)]: Done   1 jobs       | elapsed:    0.0s\n",
        "[Parallel(n_jobs=-1)]: Done  36 out of  42 | elapsed:    0.1s remaining:    0.0s\n",
        "[Parallel(n_jobs=-1)]: Done  42 out of  42 | elapsed:    0.1s finished\n"
       ]
      },
      {
       "output_type": "stream",
       "stream": "stdout",
       "text": [
        "\n",
        "### Optimal parameters: ###\n",
        "{'C': 0.28000000000000003,\n",
        " 'fit_intercept': True,\n",
        " 'intercept_scaling': 0.10000000000000001,\n",
        " 'penalty': 'l1',\n",
        " 'tol': 0.0001}\n",
        "####################### \n",
        "\n",
        "Using N_iter = 14\n",
        "Simulation with num_features= 6\n",
        "max_features= {'penalty': ['l1', 'l2'], 'C': array([ 0.1 ,  0.19,  0.28,  0.37,  0.46,  0.55,  0.64,  0.73,  0.82,\n",
        "        0.91,  1.  ]), 'intercept_scaling': array([ 0.1 ,  0.19,  0.28,  0.37,  0.46,  0.55,  0.64,  0.73,  0.82,\n",
        "        0.91,  1.  ]), 'tol': [0.0001, 1e-05], 'fit_intercept': [True]}\n",
        "Fitting 3 folds for each of 14 candidates, totalling 42 fits\n"
       ]
      },
      {
       "output_type": "stream",
       "stream": "stderr",
       "text": [
        "[Parallel(n_jobs=-1)]: Done   1 jobs       | elapsed:    0.0s\n",
        "[Parallel(n_jobs=-1)]: Done  36 out of  42 | elapsed:    0.1s remaining:    0.0s\n",
        "[Parallel(n_jobs=-1)]: Done  42 out of  42 | elapsed:    0.1s finished\n"
       ]
      },
      {
       "output_type": "stream",
       "stream": "stdout",
       "text": [
        "\n",
        "### Optimal parameters: ###\n",
        "{'C': 0.81999999999999995,\n",
        " 'fit_intercept': True,\n",
        " 'intercept_scaling': 0.81999999999999995,\n",
        " 'penalty': 'l1',\n",
        " 'tol': 1e-05}\n",
        "####################### \n",
        "\n",
        "Using N_iter = 14\n",
        "Simulation with num_features= 6\n",
        "max_features= {'penalty': ['l1', 'l2'], 'C': array([ 0.1 ,  0.19,  0.28,  0.37,  0.46,  0.55,  0.64,  0.73,  0.82,\n",
        "        0.91,  1.  ]), 'intercept_scaling': array([ 0.1 ,  0.19,  0.28,  0.37,  0.46,  0.55,  0.64,  0.73,  0.82,\n",
        "        0.91,  1.  ]), 'tol': [0.0001, 1e-05], 'fit_intercept': [True]}\n",
        "Fitting 3 folds for each of 14 candidates, totalling 42 fits\n"
       ]
      },
      {
       "output_type": "stream",
       "stream": "stderr",
       "text": [
        "[Parallel(n_jobs=-1)]: Done   1 jobs       | elapsed:    0.0s\n",
        "[Parallel(n_jobs=-1)]: Done  36 out of  42 | elapsed:    0.1s remaining:    0.0s\n",
        "[Parallel(n_jobs=-1)]: Done  42 out of  42 | elapsed:    0.1s finished\n"
       ]
      },
      {
       "output_type": "stream",
       "stream": "stdout",
       "text": [
        "\n",
        "### Optimal parameters: ###\n",
        "{'C': 1.0,\n",
        " 'fit_intercept': True,\n",
        " 'intercept_scaling': 0.10000000000000001,\n",
        " 'penalty': 'l2',\n",
        " 'tol': 0.0001}\n",
        "####################### \n",
        "\n",
        "Using N_iter = 14\n",
        "Simulation with num_features= 6\n",
        "max_features= {'penalty': ['l1', 'l2'], 'C': array([ 0.1 ,  0.19,  0.28,  0.37,  0.46,  0.55,  0.64,  0.73,  0.82,\n",
        "        0.91,  1.  ]), 'intercept_scaling': array([ 0.1 ,  0.19,  0.28,  0.37,  0.46,  0.55,  0.64,  0.73,  0.82,\n",
        "        0.91,  1.  ]), 'tol': [0.0001, 1e-05], 'fit_intercept': [True]}\n",
        "Fitting 3 folds for each of 14 candidates, totalling 42 fits\n"
       ]
      },
      {
       "output_type": "stream",
       "stream": "stderr",
       "text": [
        "[Parallel(n_jobs=-1)]: Done   1 jobs       | elapsed:    0.0s\n",
        "[Parallel(n_jobs=-1)]: Done  36 out of  42 | elapsed:    0.1s remaining:    0.0s\n",
        "[Parallel(n_jobs=-1)]: Done  42 out of  42 | elapsed:    0.1s finished\n"
       ]
      },
      {
       "output_type": "stream",
       "stream": "stdout",
       "text": [
        "\n",
        "### Optimal parameters: ###\n",
        "{'C': 0.64000000000000001,\n",
        " 'fit_intercept': True,\n",
        " 'intercept_scaling': 0.28000000000000003,\n",
        " 'penalty': 'l1',\n",
        " 'tol': 1e-05}\n",
        "####################### \n",
        "\n",
        "Using N_iter = 14\n",
        "Simulation with num_features= 6\n",
        "max_features= {'penalty': ['l1', 'l2'], 'C': array([ 0.1 ,  0.19,  0.28,  0.37,  0.46,  0.55,  0.64,  0.73,  0.82,\n",
        "        0.91,  1.  ]), 'intercept_scaling': array([ 0.1 ,  0.19,  0.28,  0.37,  0.46,  0.55,  0.64,  0.73,  0.82,\n",
        "        0.91,  1.  ]), 'tol': [0.0001, 1e-05], 'fit_intercept': [True]}\n",
        "Fitting 3 folds for each of 14 candidates, totalling 42 fits\n"
       ]
      },
      {
       "output_type": "stream",
       "stream": "stderr",
       "text": [
        "[Parallel(n_jobs=-1)]: Done   1 jobs       | elapsed:    0.0s\n",
        "[Parallel(n_jobs=-1)]: Done  36 out of  42 | elapsed:    0.1s remaining:    0.0s\n",
        "[Parallel(n_jobs=-1)]: Done  42 out of  42 | elapsed:    0.1s finished\n"
       ]
      },
      {
       "output_type": "stream",
       "stream": "stdout",
       "text": [
        "\n",
        "### Optimal parameters: ###\n",
        "{'C': 0.81999999999999995,\n",
        " 'fit_intercept': True,\n",
        " 'intercept_scaling': 0.90999999999999992,\n",
        " 'penalty': 'l2',\n",
        " 'tol': 0.0001}\n",
        "####################### \n",
        "\n",
        "Using N_iter = 14\n",
        "Simulation with num_features= 6\n",
        "max_features= {'penalty': ['l1', 'l2'], 'C': array([ 0.1 ,  0.19,  0.28,  0.37,  0.46,  0.55,  0.64,  0.73,  0.82,\n",
        "        0.91,  1.  ]), 'intercept_scaling': array([ 0.1 ,  0.19,  0.28,  0.37,  0.46,  0.55,  0.64,  0.73,  0.82,\n",
        "        0.91,  1.  ]), 'tol': [0.0001, 1e-05], 'fit_intercept': [True]}\n",
        "Fitting 3 folds for each of 14 candidates, totalling 42 fits\n"
       ]
      },
      {
       "output_type": "stream",
       "stream": "stderr",
       "text": [
        "[Parallel(n_jobs=-1)]: Done   1 jobs       | elapsed:    0.0s\n",
        "[Parallel(n_jobs=-1)]: Done  36 out of  42 | elapsed:    0.1s remaining:    0.0s\n",
        "[Parallel(n_jobs=-1)]: Done  42 out of  42 | elapsed:    0.1s finished\n"
       ]
      },
      {
       "output_type": "stream",
       "stream": "stdout",
       "text": [
        "\n",
        "### Optimal parameters: ###\n",
        "{'C': 0.45999999999999996,\n",
        " 'fit_intercept': True,\n",
        " 'intercept_scaling': 1.0,\n",
        " 'penalty': 'l1',\n",
        " 'tol': 0.0001}\n",
        "####################### \n",
        "\n",
        "Using N_iter = 14\n",
        "Simulation with num_features= 6\n",
        "max_features= {'penalty': ['l1', 'l2'], 'C': array([ 0.1 ,  0.19,  0.28,  0.37,  0.46,  0.55,  0.64,  0.73,  0.82,\n",
        "        0.91,  1.  ]), 'intercept_scaling': array([ 0.1 ,  0.19,  0.28,  0.37,  0.46,  0.55,  0.64,  0.73,  0.82,\n",
        "        0.91,  1.  ]), 'tol': [0.0001, 1e-05], 'fit_intercept': [True]}\n",
        "Fitting 3 folds for each of 14 candidates, totalling 42 fits\n"
       ]
      },
      {
       "output_type": "stream",
       "stream": "stderr",
       "text": [
        "[Parallel(n_jobs=-1)]: Done   1 jobs       | elapsed:    0.0s\n",
        "[Parallel(n_jobs=-1)]: Done  36 out of  42 | elapsed:    0.1s remaining:    0.0s\n",
        "[Parallel(n_jobs=-1)]: Done  42 out of  42 | elapsed:    0.1s finished\n"
       ]
      },
      {
       "output_type": "stream",
       "stream": "stdout",
       "text": [
        "\n",
        "### Optimal parameters: ###\n",
        "{'C': 0.72999999999999998,\n",
        " 'fit_intercept': True,\n",
        " 'intercept_scaling': 0.10000000000000001,\n",
        " 'penalty': 'l1',\n",
        " 'tol': 1e-05}\n",
        "####################### \n",
        "\n",
        "Using N_iter = 14\n",
        "Simulation with num_features= 6\n",
        "max_features= {'penalty': ['l1', 'l2'], 'C': array([ 0.1 ,  0.19,  0.28,  0.37,  0.46,  0.55,  0.64,  0.73,  0.82,\n",
        "        0.91,  1.  ]), 'intercept_scaling': array([ 0.1 ,  0.19,  0.28,  0.37,  0.46,  0.55,  0.64,  0.73,  0.82,\n",
        "        0.91,  1.  ]), 'tol': [0.0001, 1e-05], 'fit_intercept': [True]}\n",
        "Fitting 3 folds for each of 14 candidates, totalling 42 fits\n"
       ]
      },
      {
       "output_type": "stream",
       "stream": "stderr",
       "text": [
        "[Parallel(n_jobs=-1)]: Done   1 jobs       | elapsed:    0.0s\n",
        "[Parallel(n_jobs=-1)]: Done  36 out of  42 | elapsed:    0.1s remaining:    0.0s\n",
        "[Parallel(n_jobs=-1)]: Done  42 out of  42 | elapsed:    0.1s finished\n"
       ]
      },
      {
       "output_type": "stream",
       "stream": "stdout",
       "text": [
        "\n",
        "### Optimal parameters: ###\n",
        "{'C': 0.54999999999999993,\n",
        " 'fit_intercept': True,\n",
        " 'intercept_scaling': 0.10000000000000001,\n",
        " 'penalty': 'l1',\n",
        " 'tol': 1e-05}\n",
        "####################### \n",
        "\n",
        "Using N_iter = 14\n",
        "Simulation with num_features= 6\n",
        "max_features= {'penalty': ['l1', 'l2'], 'C': array([ 0.1 ,  0.19,  0.28,  0.37,  0.46,  0.55,  0.64,  0.73,  0.82,\n",
        "        0.91,  1.  ]), 'intercept_scaling': array([ 0.1 ,  0.19,  0.28,  0.37,  0.46,  0.55,  0.64,  0.73,  0.82,\n",
        "        0.91,  1.  ]), 'tol': [0.0001, 1e-05], 'fit_intercept': [True]}\n",
        "Fitting 3 folds for each of 14 candidates, totalling 42 fits\n"
       ]
      },
      {
       "output_type": "stream",
       "stream": "stderr",
       "text": [
        "[Parallel(n_jobs=-1)]: Done   1 jobs       | elapsed:    0.0s\n",
        "[Parallel(n_jobs=-1)]: Done  36 out of  42 | elapsed:    0.1s remaining:    0.0s\n",
        "[Parallel(n_jobs=-1)]: Done  42 out of  42 | elapsed:    0.1s finished\n"
       ]
      },
      {
       "output_type": "stream",
       "stream": "stdout",
       "text": [
        "\n",
        "### Optimal parameters: ###\n",
        "{'C': 1.0,\n",
        " 'fit_intercept': True,\n",
        " 'intercept_scaling': 0.72999999999999998,\n",
        " 'penalty': 'l1',\n",
        " 'tol': 0.0001}\n",
        "####################### \n",
        "\n",
        "\n",
        "###### \\CV of testAlgo number 2 for LogisticRegression\n",
        "###\n",
        "Using N_iter = 14\n",
        "Simulation with num_features= 6\n",
        "max_features= {'penalty': ['l1', 'l2'], 'C': array([ 0.1 ,  0.19,  0.28,  0.37,  0.46,  0.55,  0.64,  0.73,  0.82,\n",
        "        0.91,  1.  ]), 'intercept_scaling': array([ 0.1 ,  0.19,  0.28,  0.37,  0.46,  0.55,  0.64,  0.73,  0.82,\n",
        "        0.91,  1.  ]), 'tol': [0.0001, 1e-05], 'fit_intercept': [True]}\n",
        "Fitting 3 folds for each of 14 candidates, totalling 42 fits\n"
       ]
      },
      {
       "output_type": "stream",
       "stream": "stderr",
       "text": [
        "[Parallel(n_jobs=-1)]: Done   1 jobs       | elapsed:    0.0s\n",
        "[Parallel(n_jobs=-1)]: Done  42 out of  42 | elapsed:    0.1s finished\n"
       ]
      },
      {
       "output_type": "stream",
       "stream": "stdout",
       "text": [
        "\n",
        "### Optimal parameters: ###\n",
        "{'C': 0.37,\n",
        " 'fit_intercept': True,\n",
        " 'intercept_scaling': 0.28000000000000003,\n",
        " 'penalty': 'l1',\n",
        " 'tol': 0.0001}\n",
        "####################### \n",
        "\n",
        "Using N_iter = 14\n",
        "Simulation with num_features= 6\n",
        "max_features= {'penalty': ['l1', 'l2'], 'C': array([ 0.1 ,  0.19,  0.28,  0.37,  0.46,  0.55,  0.64,  0.73,  0.82,\n",
        "        0.91,  1.  ]), 'intercept_scaling': array([ 0.1 ,  0.19,  0.28,  0.37,  0.46,  0.55,  0.64,  0.73,  0.82,\n",
        "        0.91,  1.  ]), 'tol': [0.0001, 1e-05], 'fit_intercept': [True]}\n",
        "Fitting 3 folds for each of 14 candidates, totalling 42 fits\n"
       ]
      },
      {
       "output_type": "stream",
       "stream": "stderr",
       "text": [
        "[Parallel(n_jobs=-1)]: Done   1 jobs       | elapsed:    0.0s\n",
        "[Parallel(n_jobs=-1)]: Done  36 out of  42 | elapsed:    0.1s remaining:    0.0s\n",
        "[Parallel(n_jobs=-1)]: Done  42 out of  42 | elapsed:    0.1s finished\n"
       ]
      },
      {
       "output_type": "stream",
       "stream": "stdout",
       "text": [
        "\n",
        "### Optimal parameters: ###\n",
        "{'C': 0.72999999999999998,\n",
        " 'fit_intercept': True,\n",
        " 'intercept_scaling': 0.10000000000000001,\n",
        " 'penalty': 'l1',\n",
        " 'tol': 0.0001}\n",
        "####################### \n",
        "\n",
        "Using N_iter = 14\n",
        "Simulation with num_features= 6\n",
        "max_features= {'penalty': ['l1', 'l2'], 'C': array([ 0.1 ,  0.19,  0.28,  0.37,  0.46,  0.55,  0.64,  0.73,  0.82,\n",
        "        0.91,  1.  ]), 'intercept_scaling': array([ 0.1 ,  0.19,  0.28,  0.37,  0.46,  0.55,  0.64,  0.73,  0.82,\n",
        "        0.91,  1.  ]), 'tol': [0.0001, 1e-05], 'fit_intercept': [True]}\n",
        "Fitting 3 folds for each of 14 candidates, totalling 42 fits\n"
       ]
      },
      {
       "output_type": "stream",
       "stream": "stderr",
       "text": [
        "[Parallel(n_jobs=-1)]: Done   1 jobs       | elapsed:    0.0s\n",
        "[Parallel(n_jobs=-1)]: Done  36 out of  42 | elapsed:    0.1s remaining:    0.0s\n",
        "[Parallel(n_jobs=-1)]: Done  42 out of  42 | elapsed:    0.1s finished\n"
       ]
      },
      {
       "output_type": "stream",
       "stream": "stdout",
       "text": [
        "\n",
        "### Optimal parameters: ###\n",
        "{'C': 0.37,\n",
        " 'fit_intercept': True,\n",
        " 'intercept_scaling': 0.10000000000000001,\n",
        " 'penalty': 'l1',\n",
        " 'tol': 1e-05}\n",
        "####################### \n",
        "\n",
        "Using N_iter = 14\n",
        "Simulation with num_features= 6\n",
        "max_features= {'penalty': ['l1', 'l2'], 'C': array([ 0.1 ,  0.19,  0.28,  0.37,  0.46,  0.55,  0.64,  0.73,  0.82,\n",
        "        0.91,  1.  ]), 'intercept_scaling': array([ 0.1 ,  0.19,  0.28,  0.37,  0.46,  0.55,  0.64,  0.73,  0.82,\n",
        "        0.91,  1.  ]), 'tol': [0.0001, 1e-05], 'fit_intercept': [True]}\n",
        "Fitting 3 folds for each of 14 candidates, totalling 42 fits\n"
       ]
      },
      {
       "output_type": "stream",
       "stream": "stderr",
       "text": [
        "[Parallel(n_jobs=-1)]: Done   1 jobs       | elapsed:    0.0s\n",
        "[Parallel(n_jobs=-1)]: Done  42 out of  42 | elapsed:    0.1s finished\n"
       ]
      },
      {
       "output_type": "stream",
       "stream": "stdout",
       "text": [
        "\n",
        "### Optimal parameters: ###\n",
        "{'C': 0.10000000000000001,\n",
        " 'fit_intercept': True,\n",
        " 'intercept_scaling': 0.19,\n",
        " 'penalty': 'l2',\n",
        " 'tol': 1e-05}\n",
        "####################### \n",
        "\n",
        "Using N_iter = 14\n",
        "Simulation with num_features= 6\n",
        "max_features= {'penalty': ['l1', 'l2'], 'C': array([ 0.1 ,  0.19,  0.28,  0.37,  0.46,  0.55,  0.64,  0.73,  0.82,\n",
        "        0.91,  1.  ]), 'intercept_scaling': array([ 0.1 ,  0.19,  0.28,  0.37,  0.46,  0.55,  0.64,  0.73,  0.82,\n",
        "        0.91,  1.  ]), 'tol': [0.0001, 1e-05], 'fit_intercept': [True]}\n",
        "Fitting 3 folds for each of 14 candidates, totalling 42 fits\n"
       ]
      },
      {
       "output_type": "stream",
       "stream": "stderr",
       "text": [
        "[Parallel(n_jobs=-1)]: Done   1 jobs       | elapsed:    0.0s\n",
        "[Parallel(n_jobs=-1)]: Done  36 out of  42 | elapsed:    0.1s remaining:    0.0s\n",
        "[Parallel(n_jobs=-1)]: Done  42 out of  42 | elapsed:    0.1s finished\n"
       ]
      },
      {
       "output_type": "stream",
       "stream": "stdout",
       "text": [
        "\n",
        "### Optimal parameters: ###\n",
        "{'C': 0.10000000000000001,\n",
        " 'fit_intercept': True,\n",
        " 'intercept_scaling': 0.19,\n",
        " 'penalty': 'l2',\n",
        " 'tol': 0.0001}\n",
        "####################### \n",
        "\n",
        "Using N_iter = 14\n",
        "Simulation with num_features= 6\n",
        "max_features= {'penalty': ['l1', 'l2'], 'C': array([ 0.1 ,  0.19,  0.28,  0.37,  0.46,  0.55,  0.64,  0.73,  0.82,\n",
        "        0.91,  1.  ]), 'intercept_scaling': array([ 0.1 ,  0.19,  0.28,  0.37,  0.46,  0.55,  0.64,  0.73,  0.82,\n",
        "        0.91,  1.  ]), 'tol': [0.0001, 1e-05], 'fit_intercept': [True]}\n",
        "Fitting 3 folds for each of 14 candidates, totalling 42 fits\n"
       ]
      },
      {
       "output_type": "stream",
       "stream": "stderr",
       "text": [
        "[Parallel(n_jobs=-1)]: Done   1 jobs       | elapsed:    0.0s\n",
        "[Parallel(n_jobs=-1)]: Done  36 out of  42 | elapsed:    0.1s remaining:    0.0s\n",
        "[Parallel(n_jobs=-1)]: Done  42 out of  42 | elapsed:    0.1s finished\n"
       ]
      },
      {
       "output_type": "stream",
       "stream": "stdout",
       "text": [
        "\n",
        "### Optimal parameters: ###\n",
        "{'C': 0.28000000000000003,\n",
        " 'fit_intercept': True,\n",
        " 'intercept_scaling': 0.37,\n",
        " 'penalty': 'l1',\n",
        " 'tol': 0.0001}\n",
        "####################### \n",
        "\n",
        "Using N_iter = 14\n",
        "Simulation with num_features= 6\n",
        "max_features= {'penalty': ['l1', 'l2'], 'C': array([ 0.1 ,  0.19,  0.28,  0.37,  0.46,  0.55,  0.64,  0.73,  0.82,\n",
        "        0.91,  1.  ]), 'intercept_scaling': array([ 0.1 ,  0.19,  0.28,  0.37,  0.46,  0.55,  0.64,  0.73,  0.82,\n",
        "        0.91,  1.  ]), 'tol': [0.0001, 1e-05], 'fit_intercept': [True]}\n",
        "Fitting 3 folds for each of 14 candidates, totalling 42 fits\n"
       ]
      },
      {
       "output_type": "stream",
       "stream": "stderr",
       "text": [
        "[Parallel(n_jobs=-1)]: Done   1 jobs       | elapsed:    0.0s\n",
        "[Parallel(n_jobs=-1)]: Done  36 out of  42 | elapsed:    0.1s remaining:    0.0s\n",
        "[Parallel(n_jobs=-1)]: Done  42 out of  42 | elapsed:    0.1s finished\n"
       ]
      },
      {
       "output_type": "stream",
       "stream": "stdout",
       "text": [
        "\n",
        "### Optimal parameters: ###\n",
        "{'C': 0.19,\n",
        " 'fit_intercept': True,\n",
        " 'intercept_scaling': 0.10000000000000001,\n",
        " 'penalty': 'l2',\n",
        " 'tol': 0.0001}\n",
        "####################### \n",
        "\n",
        "Using N_iter = 14\n",
        "Simulation with num_features= 6\n",
        "max_features= {'penalty': ['l1', 'l2'], 'C': array([ 0.1 ,  0.19,  0.28,  0.37,  0.46,  0.55,  0.64,  0.73,  0.82,\n",
        "        0.91,  1.  ]), 'intercept_scaling': array([ 0.1 ,  0.19,  0.28,  0.37,  0.46,  0.55,  0.64,  0.73,  0.82,\n",
        "        0.91,  1.  ]), 'tol': [0.0001, 1e-05], 'fit_intercept': [True]}\n",
        "Fitting 3 folds for each of 14 candidates, totalling 42 fits\n"
       ]
      },
      {
       "output_type": "stream",
       "stream": "stderr",
       "text": [
        "[Parallel(n_jobs=-1)]: Done   1 jobs       | elapsed:    0.0s\n",
        "[Parallel(n_jobs=-1)]: Done  42 out of  42 | elapsed:    0.1s finished\n"
       ]
      },
      {
       "output_type": "stream",
       "stream": "stdout",
       "text": [
        "\n",
        "### Optimal parameters: ###\n",
        "{'C': 0.90999999999999992,\n",
        " 'fit_intercept': True,\n",
        " 'intercept_scaling': 0.37,\n",
        " 'penalty': 'l1',\n",
        " 'tol': 1e-05}\n",
        "####################### \n",
        "\n",
        "Using N_iter = 14\n",
        "Simulation with num_features= 6\n",
        "max_features= {'penalty': ['l1', 'l2'], 'C': array([ 0.1 ,  0.19,  0.28,  0.37,  0.46,  0.55,  0.64,  0.73,  0.82,\n",
        "        0.91,  1.  ]), 'intercept_scaling': array([ 0.1 ,  0.19,  0.28,  0.37,  0.46,  0.55,  0.64,  0.73,  0.82,\n",
        "        0.91,  1.  ]), 'tol': [0.0001, 1e-05], 'fit_intercept': [True]}\n",
        "Fitting 3 folds for each of 14 candidates, totalling 42 fits\n"
       ]
      },
      {
       "output_type": "stream",
       "stream": "stderr",
       "text": [
        "[Parallel(n_jobs=-1)]: Done   1 jobs       | elapsed:    0.0s\n",
        "[Parallel(n_jobs=-1)]: Done  36 out of  42 | elapsed:    0.1s remaining:    0.0s\n",
        "[Parallel(n_jobs=-1)]: Done  42 out of  42 | elapsed:    0.1s finished\n"
       ]
      },
      {
       "output_type": "stream",
       "stream": "stdout",
       "text": [
        "\n",
        "### Optimal parameters: ###\n",
        "{'C': 0.81999999999999995,\n",
        " 'fit_intercept': True,\n",
        " 'intercept_scaling': 0.10000000000000001,\n",
        " 'penalty': 'l2',\n",
        " 'tol': 0.0001}\n",
        "####################### \n",
        "\n",
        "Using N_iter = 14\n",
        "Simulation with num_features= 6\n",
        "max_features= {'penalty': ['l1', 'l2'], 'C': array([ 0.1 ,  0.19,  0.28,  0.37,  0.46,  0.55,  0.64,  0.73,  0.82,\n",
        "        0.91,  1.  ]), 'intercept_scaling': array([ 0.1 ,  0.19,  0.28,  0.37,  0.46,  0.55,  0.64,  0.73,  0.82,\n",
        "        0.91,  1.  ]), 'tol': [0.0001, 1e-05], 'fit_intercept': [True]}\n",
        "Fitting 3 folds for each of 14 candidates, totalling 42 fits\n"
       ]
      },
      {
       "output_type": "stream",
       "stream": "stderr",
       "text": [
        "[Parallel(n_jobs=-1)]: Done   1 jobs       | elapsed:    0.0s\n",
        "[Parallel(n_jobs=-1)]: Done  36 out of  42 | elapsed:    0.1s remaining:    0.0s\n",
        "[Parallel(n_jobs=-1)]: Done  42 out of  42 | elapsed:    0.1s finished\n"
       ]
      },
      {
       "output_type": "stream",
       "stream": "stdout",
       "text": [
        "\n",
        "### Optimal parameters: ###\n",
        "{'C': 0.54999999999999993,\n",
        " 'fit_intercept': True,\n",
        " 'intercept_scaling': 0.10000000000000001,\n",
        " 'penalty': 'l2',\n",
        " 'tol': 0.0001}\n",
        "####################### \n",
        "\n",
        "Saving output to file for LogisticRegression\n",
        "\n",
        "###### \\CV of testAlgo number 1 for BayesMixed2\n",
        "###\n",
        "\n",
        "###### \\CV of testAlgo number 2 for BayesMixed2\n",
        "###"
       ]
      },
      {
       "output_type": "stream",
       "stream": "stdout",
       "text": [
        "\n",
        "Saving output to file for BayesMixed2"
       ]
      },
      {
       "output_type": "stream",
       "stream": "stdout",
       "text": [
        "\n",
        "Saving output for Core_Imp\n",
        "\n",
        "###### \\CV of testAlgo number 1 for RandomForest\n",
        "###\n",
        "Using N_iter = 5\n",
        "Simulation with num_features= 6\n",
        "max_features= {'n_estimators': [50, 100, 200, 300], 'max_features': [2, 3, 4], 'bootstrap': [True, False], 'criterion': ['gini', 'entropy']}\n",
        "Fitting 3 folds for each of 5 candidates, totalling 15 fits\n"
       ]
      },
      {
       "output_type": "stream",
       "stream": "stderr",
       "text": [
        "[Parallel(n_jobs=-1)]: Done   1 jobs       | elapsed:    0.6s\n",
        "[Parallel(n_jobs=-1)]: Done   9 out of  15 | elapsed:    3.0s remaining:    2.0s\n",
        "[Parallel(n_jobs=-1)]: Done  15 out of  15 | elapsed:    5.4s finished\n"
       ]
      },
      {
       "output_type": "stream",
       "stream": "stdout",
       "text": [
        "\n",
        "### Optimal parameters: ###\n",
        "{'bootstrap': True,\n",
        " 'criterion': 'gini',\n",
        " 'max_features': 2,\n",
        " 'n_estimators': 200}\n",
        "####################### \n",
        "\n",
        "Using N_iter = 5\n",
        "Simulation with num_features= 6\n",
        "max_features= {'n_estimators': [50, 100, 200, 300], 'max_features': [2, 3, 4], 'bootstrap': [True, False], 'criterion': ['gini', 'entropy']}\n",
        "Fitting 3 folds for each of 5 candidates, totalling 15 fits\n"
       ]
      },
      {
       "output_type": "stream",
       "stream": "stderr",
       "text": [
        "[Parallel(n_jobs=-1)]: Done   1 jobs       | elapsed:    1.8s\n",
        "[Parallel(n_jobs=-1)]: Done   9 out of  15 | elapsed:    3.8s remaining:    2.6s\n",
        "[Parallel(n_jobs=-1)]: Done  15 out of  15 | elapsed:    6.4s finished\n"
       ]
      },
      {
       "output_type": "stream",
       "stream": "stdout",
       "text": [
        "\n",
        "### Optimal parameters: ###\n",
        "{'bootstrap': True,\n",
        " 'criterion': 'gini',\n",
        " 'max_features': 3,\n",
        " 'n_estimators': 300}\n",
        "####################### \n",
        "\n",
        "Using N_iter = 5\n",
        "Simulation with num_features= 6\n",
        "max_features= {'n_estimators': [50, 100, 200, 300], 'max_features': [2, 3, 4], 'bootstrap': [True, False], 'criterion': ['gini', 'entropy']}\n",
        "Fitting 3 folds for each of 5 candidates, totalling 15 fits\n"
       ]
      },
      {
       "output_type": "stream",
       "stream": "stderr",
       "text": [
        "[Parallel(n_jobs=-1)]: Done   1 jobs       | elapsed:    0.6s\n",
        "[Parallel(n_jobs=-1)]: Done   9 out of  15 | elapsed:    4.8s remaining:    3.2s\n",
        "[Parallel(n_jobs=-1)]: Done  15 out of  15 | elapsed:    5.3s finished\n"
       ]
      },
      {
       "output_type": "stream",
       "stream": "stdout",
       "text": [
        "\n",
        "### Optimal parameters: ###\n",
        "{'bootstrap': True, 'criterion': 'gini', 'max_features': 2, 'n_estimators': 50}\n",
        "####################### \n",
        "\n",
        "Using N_iter = 5\n",
        "Simulation with num_features= 6\n",
        "max_features= {'n_estimators': [50, 100, 200, 300], 'max_features': [2, 3, 4], 'bootstrap': [True, False], 'criterion': ['gini', 'entropy']}\n",
        "Fitting 3 folds for each of 5 candidates, totalling 15 fits\n"
       ]
      },
      {
       "output_type": "stream",
       "stream": "stderr",
       "text": [
        "[Parallel(n_jobs=-1)]: Done   1 jobs       | elapsed:    0.7s\n",
        "[Parallel(n_jobs=-1)]: Done   9 out of  15 | elapsed:    3.9s remaining:    2.6s\n",
        "[Parallel(n_jobs=-1)]: Done  15 out of  15 | elapsed:    4.5s finished\n"
       ]
      },
      {
       "output_type": "stream",
       "stream": "stdout",
       "text": [
        "\n",
        "### Optimal parameters: ###\n",
        "{'bootstrap': True,\n",
        " 'criterion': 'entropy',\n",
        " 'max_features': 4,\n",
        " 'n_estimators': 100}\n",
        "####################### \n",
        "\n",
        "Using N_iter = 5\n",
        "Simulation with num_features= 6\n",
        "max_features= {'n_estimators': [50, 100, 200, 300], 'max_features': [2, 3, 4], 'bootstrap': [True, False], 'criterion': ['gini', 'entropy']}\n",
        "Fitting 3 folds for each of 5 candidates, totalling 15 fits\n"
       ]
      },
      {
       "output_type": "stream",
       "stream": "stderr",
       "text": [
        "[Parallel(n_jobs=-1)]: Done   1 jobs       | elapsed:    0.7s\n",
        "[Parallel(n_jobs=-1)]: Done  15 out of  15 | elapsed:    4.1s finished\n"
       ]
      },
      {
       "output_type": "stream",
       "stream": "stdout",
       "text": [
        "\n",
        "### Optimal parameters: ###\n",
        "{'bootstrap': True,\n",
        " 'criterion': 'entropy',\n",
        " 'max_features': 3,\n",
        " 'n_estimators': 50}\n",
        "####################### \n",
        "\n",
        "Using N_iter = 5\n",
        "Simulation with num_features= 6\n",
        "max_features= {'n_estimators': [50, 100, 200, 300], 'max_features': [2, 3, 4], 'bootstrap': [True, False], 'criterion': ['gini', 'entropy']}\n",
        "Fitting 3 folds for each of 5 candidates, totalling 15 fits\n"
       ]
      },
      {
       "output_type": "stream",
       "stream": "stderr",
       "text": [
        "[Parallel(n_jobs=-1)]: Done   1 jobs       | elapsed:    1.6s\n",
        "[Parallel(n_jobs=-1)]: Done   9 out of  15 | elapsed:    4.3s remaining:    2.9s\n",
        "[Parallel(n_jobs=-1)]: Done  15 out of  15 | elapsed:    5.5s finished\n"
       ]
      },
      {
       "output_type": "stream",
       "stream": "stdout",
       "text": [
        "\n",
        "### Optimal parameters: ###\n",
        "{'bootstrap': True,\n",
        " 'criterion': 'entropy',\n",
        " 'max_features': 3,\n",
        " 'n_estimators': 200}\n",
        "####################### \n",
        "\n",
        "Using N_iter = 5\n",
        "Simulation with num_features= 6\n",
        "max_features= {'n_estimators': [50, 100, 200, 300], 'max_features': [2, 3, 4], 'bootstrap': [True, False], 'criterion': ['gini', 'entropy']}\n",
        "Fitting 3 folds for each of 5 candidates, totalling 15 fits\n"
       ]
      },
      {
       "output_type": "stream",
       "stream": "stderr",
       "text": [
        "[Parallel(n_jobs=-1)]: Done   1 jobs       | elapsed:    1.4s\n",
        "[Parallel(n_jobs=-1)]: Done   9 out of  15 | elapsed:    5.3s remaining:    3.5s\n",
        "[Parallel(n_jobs=-1)]: Done  15 out of  15 | elapsed:    5.9s finished\n"
       ]
      },
      {
       "output_type": "stream",
       "stream": "stdout",
       "text": [
        "\n",
        "### Optimal parameters: ###\n",
        "{'bootstrap': True,\n",
        " 'criterion': 'entropy',\n",
        " 'max_features': 3,\n",
        " 'n_estimators': 50}\n",
        "####################### \n",
        "\n",
        "Using N_iter = 5\n",
        "Simulation with num_features= 6\n",
        "max_features= {'n_estimators': [50, 100, 200, 300], 'max_features': [2, 3, 4], 'bootstrap': [True, False], 'criterion': ['gini', 'entropy']}\n",
        "Fitting 3 folds for each of 5 candidates, totalling 15 fits\n"
       ]
      },
      {
       "output_type": "stream",
       "stream": "stderr",
       "text": [
        "[Parallel(n_jobs=-1)]: Done   1 jobs       | elapsed:    2.2s\n",
        "[Parallel(n_jobs=-1)]: Done   9 out of  15 | elapsed:    4.8s remaining:    3.2s\n",
        "[Parallel(n_jobs=-1)]: Done  15 out of  15 | elapsed:    6.7s finished\n"
       ]
      },
      {
       "output_type": "stream",
       "stream": "stdout",
       "text": [
        "\n",
        "### Optimal parameters: ###\n",
        "{'bootstrap': True,\n",
        " 'criterion': 'gini',\n",
        " 'max_features': 4,\n",
        " 'n_estimators': 300}\n",
        "####################### \n",
        "\n",
        "Using N_iter = 5\n",
        "Simulation with num_features= 6\n",
        "max_features= {'n_estimators': [50, 100, 200, 300], 'max_features': [2, 3, 4], 'bootstrap': [True, False], 'criterion': ['gini', 'entropy']}\n",
        "Fitting 3 folds for each of 5 candidates, totalling 15 fits\n"
       ]
      },
      {
       "output_type": "stream",
       "stream": "stderr",
       "text": [
        "[Parallel(n_jobs=-1)]: Done   1 jobs       | elapsed:    0.5s\n",
        "[Parallel(n_jobs=-1)]: Done   9 out of  15 | elapsed:    4.7s remaining:    3.1s\n",
        "[Parallel(n_jobs=-1)]: Done  15 out of  15 | elapsed:    5.2s finished\n"
       ]
      },
      {
       "output_type": "stream",
       "stream": "stdout",
       "text": [
        "\n",
        "### Optimal parameters: ###\n",
        "{'bootstrap': False,\n",
        " 'criterion': 'entropy',\n",
        " 'max_features': 2,\n",
        " 'n_estimators': 50}\n",
        "####################### \n",
        "\n",
        "Using N_iter = 5\n",
        "Simulation with num_features= 6\n",
        "max_features= {'n_estimators': [50, 100, 200, 300], 'max_features': [2, 3, 4], 'bootstrap': [True, False], 'criterion': ['gini', 'entropy']}\n",
        "Fitting 3 folds for each of 5 candidates, totalling 15 fits\n"
       ]
      },
      {
       "output_type": "stream",
       "stream": "stderr",
       "text": [
        "[Parallel(n_jobs=-1)]: Done   1 jobs       | elapsed:    0.6s\n",
        "[Parallel(n_jobs=-1)]: Done   9 out of  15 | elapsed:    3.5s remaining:    2.4s\n",
        "[Parallel(n_jobs=-1)]: Done  15 out of  15 | elapsed:    4.1s finished\n"
       ]
      },
      {
       "output_type": "stream",
       "stream": "stdout",
       "text": [
        "\n",
        "### Optimal parameters: ###\n",
        "{'bootstrap': True,\n",
        " 'criterion': 'gini',\n",
        " 'max_features': 2,\n",
        " 'n_estimators': 300}\n",
        "####################### \n",
        "\n",
        "\n",
        "###### \\CV of testAlgo number 2 for RandomForest\n",
        "###\n",
        "Using N_iter = 5\n",
        "Simulation with num_features= 6\n",
        "max_features= {'n_estimators': [50, 100, 200, 300], 'max_features': [2, 3, 4], 'bootstrap': [True, False], 'criterion': ['gini', 'entropy']}\n",
        "Fitting 3 folds for each of 5 candidates, totalling 15 fits\n"
       ]
      },
      {
       "output_type": "stream",
       "stream": "stderr",
       "text": [
        "[Parallel(n_jobs=-1)]: Done   1 jobs       | elapsed:    2.5s\n",
        "[Parallel(n_jobs=-1)]: Done  15 out of  15 | elapsed:    4.1s finished\n"
       ]
      },
      {
       "output_type": "stream",
       "stream": "stdout",
       "text": [
        "\n",
        "### Optimal parameters: ###\n",
        "{'bootstrap': True, 'criterion': 'gini', 'max_features': 4, 'n_estimators': 50}\n",
        "####################### \n",
        "\n",
        "Using N_iter = 5\n",
        "Simulation with num_features= 6\n",
        "max_features= {'n_estimators': [50, 100, 200, 300], 'max_features': [2, 3, 4], 'bootstrap': [True, False], 'criterion': ['gini', 'entropy']}\n",
        "Fitting 3 folds for each of 5 candidates, totalling 15 fits\n"
       ]
      },
      {
       "output_type": "stream",
       "stream": "stderr",
       "text": [
        "[Parallel(n_jobs=-1)]: Done   1 jobs       | elapsed:    1.4s\n",
        "[Parallel(n_jobs=-1)]: Done   9 out of  15 | elapsed:    2.1s remaining:    1.4s\n",
        "[Parallel(n_jobs=-1)]: Done  15 out of  15 | elapsed:    5.8s finished\n"
       ]
      },
      {
       "output_type": "stream",
       "stream": "stdout",
       "text": [
        "\n",
        "### Optimal parameters: ###\n",
        "{'bootstrap': True,\n",
        " 'criterion': 'gini',\n",
        " 'max_features': 3,\n",
        " 'n_estimators': 100}\n",
        "####################### \n",
        "\n",
        "Using N_iter = 5\n",
        "Simulation with num_features= 6\n",
        "max_features= {'n_estimators': [50, 100, 200, 300], 'max_features': [2, 3, 4], 'bootstrap': [True, False], 'criterion': ['gini', 'entropy']}\n",
        "Fitting 3 folds for each of 5 candidates, totalling 15 fits\n"
       ]
      },
      {
       "output_type": "stream",
       "stream": "stderr",
       "text": [
        "[Parallel(n_jobs=-1)]: Done   1 jobs       | elapsed:    1.2s\n",
        "[Parallel(n_jobs=-1)]: Done   9 out of  15 | elapsed:   10.6s remaining:    7.1s\n",
        "[Parallel(n_jobs=-1)]: Done  15 out of  15 | elapsed:   11.5s finished\n"
       ]
      },
      {
       "output_type": "stream",
       "stream": "stdout",
       "text": [
        "\n",
        "### Optimal parameters: ###\n",
        "{'bootstrap': True,\n",
        " 'criterion': 'gini',\n",
        " 'max_features': 3,\n",
        " 'n_estimators': 200}\n",
        "####################### \n",
        "\n",
        "Using N_iter = 5\n",
        "Simulation with num_features= 6\n",
        "max_features= {'n_estimators': [50, 100, 200, 300], 'max_features': [2, 3, 4], 'bootstrap': [True, False], 'criterion': ['gini', 'entropy']}\n",
        "Fitting 3 folds for each of 5 candidates, totalling 15 fits\n"
       ]
      },
      {
       "output_type": "stream",
       "stream": "stderr",
       "text": [
        "[Parallel(n_jobs=-1)]: Done   1 jobs       | elapsed:    3.1s\n",
        "[Parallel(n_jobs=-1)]: Done  15 out of  15 | elapsed:    6.8s finished\n"
       ]
      },
      {
       "output_type": "stream",
       "stream": "stdout",
       "text": [
        "\n",
        "### Optimal parameters: ###\n",
        "{'bootstrap': True,\n",
        " 'criterion': 'entropy',\n",
        " 'max_features': 2,\n",
        " 'n_estimators': 300}\n",
        "####################### \n",
        "\n",
        "Using N_iter = 5\n",
        "Simulation with num_features= 6\n",
        "max_features= {'n_estimators': [50, 100, 200, 300], 'max_features': [2, 3, 4], 'bootstrap': [True, False], 'criterion': ['gini', 'entropy']}\n",
        "Fitting 3 folds for each of 5 candidates, totalling 15 fits\n"
       ]
      },
      {
       "output_type": "stream",
       "stream": "stderr",
       "text": [
        "[Parallel(n_jobs=-1)]: Done   1 jobs       | elapsed:    0.7s\n",
        "[Parallel(n_jobs=-1)]: Done   9 out of  15 | elapsed:    1.8s remaining:    1.2s\n",
        "[Parallel(n_jobs=-1)]: Done  15 out of  15 | elapsed:    4.4s finished\n"
       ]
      },
      {
       "output_type": "stream",
       "stream": "stdout",
       "text": [
        "\n",
        "### Optimal parameters: ###\n",
        "{'bootstrap': True,\n",
        " 'criterion': 'entropy',\n",
        " 'max_features': 2,\n",
        " 'n_estimators': 100}\n",
        "####################### \n",
        "\n",
        "Using N_iter = 5\n",
        "Simulation with num_features= 6\n",
        "max_features= {'n_estimators': [50, 100, 200, 300], 'max_features': [2, 3, 4], 'bootstrap': [True, False], 'criterion': ['gini', 'entropy']}\n",
        "Fitting 3 folds for each of 5 candidates, totalling 15 fits\n"
       ]
      },
      {
       "output_type": "stream",
       "stream": "stderr",
       "text": [
        "[Parallel(n_jobs=-1)]: Done   1 jobs       | elapsed:    0.3s\n",
        "[Parallel(n_jobs=-1)]: Done   9 out of  15 | elapsed:    2.6s remaining:    1.8s\n",
        "[Parallel(n_jobs=-1)]: Done  15 out of  15 | elapsed:    4.0s finished\n"
       ]
      },
      {
       "output_type": "stream",
       "stream": "stdout",
       "text": [
        "\n",
        "### Optimal parameters: ###\n",
        "{'bootstrap': True,\n",
        " 'criterion': 'entropy',\n",
        " 'max_features': 2,\n",
        " 'n_estimators': 100}\n",
        "####################### \n",
        "\n",
        "Using N_iter = 5\n",
        "Simulation with num_features= 6\n",
        "max_features= {'n_estimators': [50, 100, 200, 300], 'max_features': [2, 3, 4], 'bootstrap': [True, False], 'criterion': ['gini', 'entropy']}\n",
        "Fitting 3 folds for each of 5 candidates, totalling 15 fits\n"
       ]
      },
      {
       "output_type": "stream",
       "stream": "stderr",
       "text": [
        "[Parallel(n_jobs=-1)]: Done   1 jobs       | elapsed:    0.9s\n",
        "[Parallel(n_jobs=-1)]: Done  15 out of  15 | elapsed:    2.5s finished\n"
       ]
      },
      {
       "output_type": "stream",
       "stream": "stdout",
       "text": [
        "\n",
        "### Optimal parameters: ###\n",
        "{'bootstrap': True,\n",
        " 'criterion': 'gini',\n",
        " 'max_features': 2,\n",
        " 'n_estimators': 100}\n",
        "####################### \n",
        "\n",
        "Using N_iter = 5\n",
        "Simulation with num_features= 6\n",
        "max_features= {'n_estimators': [50, 100, 200, 300], 'max_features': [2, 3, 4], 'bootstrap': [True, False], 'criterion': ['gini', 'entropy']}\n",
        "Fitting 3 folds for each of 5 candidates, totalling 15 fits\n"
       ]
      },
      {
       "output_type": "stream",
       "stream": "stderr",
       "text": [
        "[Parallel(n_jobs=-1)]: Done   1 jobs       | elapsed:    3.3s\n",
        "[Parallel(n_jobs=-1)]: Done  15 out of  15 | elapsed:    6.5s finished\n"
       ]
      },
      {
       "output_type": "stream",
       "stream": "stdout",
       "text": [
        "\n",
        "### Optimal parameters: ###\n",
        "{'bootstrap': True,\n",
        " 'criterion': 'gini',\n",
        " 'max_features': 2,\n",
        " 'n_estimators': 300}\n",
        "####################### \n",
        "\n",
        "Using N_iter = 5\n",
        "Simulation with num_features= 6\n",
        "max_features= {'n_estimators': [50, 100, 200, 300], 'max_features': [2, 3, 4], 'bootstrap': [True, False], 'criterion': ['gini', 'entropy']}\n",
        "Fitting 3 folds for each of 5 candidates, totalling 15 fits\n"
       ]
      },
      {
       "output_type": "stream",
       "stream": "stderr",
       "text": [
        "[Parallel(n_jobs=-1)]: Done   1 jobs       | elapsed:    0.4s\n",
        "[Parallel(n_jobs=-1)]: Done   9 out of  15 | elapsed:    1.6s remaining:    1.1s\n",
        "[Parallel(n_jobs=-1)]: Done  15 out of  15 | elapsed:    3.2s finished\n"
       ]
      },
      {
       "output_type": "stream",
       "stream": "stdout",
       "text": [
        "\n",
        "### Optimal parameters: ###\n",
        "{'bootstrap': True,\n",
        " 'criterion': 'entropy',\n",
        " 'max_features': 2,\n",
        " 'n_estimators': 300}\n",
        "####################### \n",
        "\n",
        "Using N_iter = 5\n",
        "Simulation with num_features= 6\n",
        "max_features= {'n_estimators': [50, 100, 200, 300], 'max_features': [2, 3, 4], 'bootstrap': [True, False], 'criterion': ['gini', 'entropy']}\n",
        "Fitting 3 folds for each of 5 candidates, totalling 15 fits\n"
       ]
      },
      {
       "output_type": "stream",
       "stream": "stderr",
       "text": [
        "[Parallel(n_jobs=-1)]: Done   1 jobs       | elapsed:    4.5s\n",
        "[Parallel(n_jobs=-1)]: Done   9 out of  15 | elapsed:    5.4s remaining:    3.6s\n",
        "[Parallel(n_jobs=-1)]: Done  15 out of  15 | elapsed:    8.7s finished\n"
       ]
      },
      {
       "output_type": "stream",
       "stream": "stdout",
       "text": [
        "\n",
        "### Optimal parameters: ###\n",
        "{'bootstrap': True,\n",
        " 'criterion': 'gini',\n",
        " 'max_features': 2,\n",
        " 'n_estimators': 100}\n",
        "####################### \n",
        "\n",
        "Saving output to file for RandomForest\n",
        "\n",
        "###### \\CV of testAlgo number 1 for LogisticRegression\n",
        "###\n",
        "Using N_iter = 14\n",
        "Simulation with num_features= 6\n",
        "max_features= {'penalty': ['l1', 'l2'], 'C': array([ 0.1 ,  0.19,  0.28,  0.37,  0.46,  0.55,  0.64,  0.73,  0.82,\n",
        "        0.91,  1.  ]), 'intercept_scaling': array([ 0.1 ,  0.19,  0.28,  0.37,  0.46,  0.55,  0.64,  0.73,  0.82,\n",
        "        0.91,  1.  ]), 'tol': [0.0001, 1e-05], 'fit_intercept': [True]}\n",
        "Fitting 3 folds for each of 14 candidates, totalling 42 fits\n"
       ]
      },
      {
       "output_type": "stream",
       "stream": "stderr",
       "text": [
        "[Parallel(n_jobs=-1)]: Done   1 jobs       | elapsed:    0.0s\n",
        "[Parallel(n_jobs=-1)]: Done  42 out of  42 | elapsed:    0.2s finished\n"
       ]
      },
      {
       "output_type": "stream",
       "stream": "stdout",
       "text": [
        "\n",
        "### Optimal parameters: ###\n",
        "{'C': 0.19,\n",
        " 'fit_intercept': True,\n",
        " 'intercept_scaling': 0.10000000000000001,\n",
        " 'penalty': 'l1',\n",
        " 'tol': 1e-05}\n",
        "####################### \n",
        "\n",
        "Using N_iter = 14\n",
        "Simulation with num_features= 6\n",
        "max_features= {'penalty': ['l1', 'l2'], 'C': array([ 0.1 ,  0.19,  0.28,  0.37,  0.46,  0.55,  0.64,  0.73,  0.82,\n",
        "        0.91,  1.  ]), 'intercept_scaling': array([ 0.1 ,  0.19,  0.28,  0.37,  0.46,  0.55,  0.64,  0.73,  0.82,\n",
        "        0.91,  1.  ]), 'tol': [0.0001, 1e-05], 'fit_intercept': [True]}\n",
        "Fitting 3 folds for each of 14 candidates, totalling 42 fits\n"
       ]
      },
      {
       "output_type": "stream",
       "stream": "stderr",
       "text": [
        "[Parallel(n_jobs=-1)]: Done   1 jobs       | elapsed:    0.0s\n",
        "[Parallel(n_jobs=-1)]: Done  36 out of  42 | elapsed:    0.1s remaining:    0.0s\n",
        "[Parallel(n_jobs=-1)]: Done  42 out of  42 | elapsed:    0.1s finished\n"
       ]
      },
      {
       "output_type": "stream",
       "stream": "stdout",
       "text": [
        "\n",
        "### Optimal parameters: ###\n",
        "{'C': 0.72999999999999998,\n",
        " 'fit_intercept': True,\n",
        " 'intercept_scaling': 0.19,\n",
        " 'penalty': 'l1',\n",
        " 'tol': 1e-05}\n",
        "####################### \n",
        "\n",
        "Using N_iter = 14\n",
        "Simulation with num_features= 6\n",
        "max_features= {'penalty': ['l1', 'l2'], 'C': array([ 0.1 ,  0.19,  0.28,  0.37,  0.46,  0.55,  0.64,  0.73,  0.82,\n",
        "        0.91,  1.  ]), 'intercept_scaling': array([ 0.1 ,  0.19,  0.28,  0.37,  0.46,  0.55,  0.64,  0.73,  0.82,\n",
        "        0.91,  1.  ]), 'tol': [0.0001, 1e-05], 'fit_intercept': [True]}\n",
        "Fitting 3 folds for each of 14 candidates, totalling 42 fits\n"
       ]
      },
      {
       "output_type": "stream",
       "stream": "stderr",
       "text": [
        "[Parallel(n_jobs=-1)]: Done   1 jobs       | elapsed:    0.0s\n",
        "[Parallel(n_jobs=-1)]: Done  42 out of  42 | elapsed:    0.2s finished\n"
       ]
      },
      {
       "output_type": "stream",
       "stream": "stdout",
       "text": [
        "\n",
        "### Optimal parameters: ###\n",
        "{'C': 0.54999999999999993,\n",
        " 'fit_intercept': True,\n",
        " 'intercept_scaling': 0.45999999999999996,\n",
        " 'penalty': 'l2',\n",
        " 'tol': 1e-05}\n",
        "####################### \n",
        "\n",
        "Using N_iter = 14\n",
        "Simulation with num_features= 6\n",
        "max_features= {'penalty': ['l1', 'l2'], 'C': array([ 0.1 ,  0.19,  0.28,  0.37,  0.46,  0.55,  0.64,  0.73,  0.82,\n",
        "        0.91,  1.  ]), 'intercept_scaling': array([ 0.1 ,  0.19,  0.28,  0.37,  0.46,  0.55,  0.64,  0.73,  0.82,\n",
        "        0.91,  1.  ]), 'tol': [0.0001, 1e-05], 'fit_intercept': [True]}\n",
        "Fitting 3 folds for each of 14 candidates, totalling 42 fits\n"
       ]
      },
      {
       "output_type": "stream",
       "stream": "stderr",
       "text": [
        "[Parallel(n_jobs=-1)]: Done   1 jobs       | elapsed:    0.0s\n",
        "[Parallel(n_jobs=-1)]: Done  36 out of  42 | elapsed:    0.1s remaining:    0.0s\n",
        "[Parallel(n_jobs=-1)]: Done  42 out of  42 | elapsed:    0.1s finished\n"
       ]
      },
      {
       "output_type": "stream",
       "stream": "stdout",
       "text": [
        "\n",
        "### Optimal parameters: ###\n",
        "{'C': 0.10000000000000001,\n",
        " 'fit_intercept': True,\n",
        " 'intercept_scaling': 0.45999999999999996,\n",
        " 'penalty': 'l2',\n",
        " 'tol': 1e-05}\n",
        "####################### \n",
        "\n",
        "Using N_iter = 14\n",
        "Simulation with num_features= 6\n",
        "max_features= {'penalty': ['l1', 'l2'], 'C': array([ 0.1 ,  0.19,  0.28,  0.37,  0.46,  0.55,  0.64,  0.73,  0.82,\n",
        "        0.91,  1.  ]), 'intercept_scaling': array([ 0.1 ,  0.19,  0.28,  0.37,  0.46,  0.55,  0.64,  0.73,  0.82,\n",
        "        0.91,  1.  ]), 'tol': [0.0001, 1e-05], 'fit_intercept': [True]}\n",
        "Fitting 3 folds for each of 14 candidates, totalling 42 fits\n"
       ]
      },
      {
       "output_type": "stream",
       "stream": "stderr",
       "text": [
        "[Parallel(n_jobs=-1)]: Done   1 jobs       | elapsed:    0.1s\n",
        "[Parallel(n_jobs=-1)]: Done  42 out of  42 | elapsed:    0.2s finished\n"
       ]
      },
      {
       "output_type": "stream",
       "stream": "stdout",
       "text": [
        "\n",
        "### Optimal parameters: ###\n",
        "{'C': 0.28000000000000003,\n",
        " 'fit_intercept': True,\n",
        " 'intercept_scaling': 0.10000000000000001,\n",
        " 'penalty': 'l1',\n",
        " 'tol': 1e-05}\n",
        "####################### \n",
        "\n",
        "Using N_iter = 14\n",
        "Simulation with num_features= 6\n",
        "max_features= {'penalty': ['l1', 'l2'], 'C': array([ 0.1 ,  0.19,  0.28,  0.37,  0.46,  0.55,  0.64,  0.73,  0.82,\n",
        "        0.91,  1.  ]), 'intercept_scaling': array([ 0.1 ,  0.19,  0.28,  0.37,  0.46,  0.55,  0.64,  0.73,  0.82,\n",
        "        0.91,  1.  ]), 'tol': [0.0001, 1e-05], 'fit_intercept': [True]}\n",
        "Fitting 3 folds for each of 14 candidates, totalling 42 fits\n"
       ]
      },
      {
       "output_type": "stream",
       "stream": "stderr",
       "text": [
        "[Parallel(n_jobs=-1)]: Done   1 jobs       | elapsed:    0.0s\n",
        "[Parallel(n_jobs=-1)]: Done  36 out of  42 | elapsed:    0.2s remaining:    0.0s\n",
        "[Parallel(n_jobs=-1)]: Done  42 out of  42 | elapsed:    0.2s finished\n"
       ]
      },
      {
       "output_type": "stream",
       "stream": "stdout",
       "text": [
        "\n",
        "### Optimal parameters: ###\n",
        "{'C': 0.19,\n",
        " 'fit_intercept': True,\n",
        " 'intercept_scaling': 0.10000000000000001,\n",
        " 'penalty': 'l2',\n",
        " 'tol': 1e-05}\n",
        "####################### \n",
        "\n",
        "Using N_iter = 14\n",
        "Simulation with num_features= 6\n",
        "max_features= {'penalty': ['l1', 'l2'], 'C': array([ 0.1 ,  0.19,  0.28,  0.37,  0.46,  0.55,  0.64,  0.73,  0.82,\n",
        "        0.91,  1.  ]), 'intercept_scaling': array([ 0.1 ,  0.19,  0.28,  0.37,  0.46,  0.55,  0.64,  0.73,  0.82,\n",
        "        0.91,  1.  ]), 'tol': [0.0001, 1e-05], 'fit_intercept': [True]}\n",
        "Fitting 3 folds for each of 14 candidates, totalling 42 fits\n"
       ]
      },
      {
       "output_type": "stream",
       "stream": "stderr",
       "text": [
        "[Parallel(n_jobs=-1)]: Done   1 jobs       | elapsed:    0.0s\n",
        "[Parallel(n_jobs=-1)]: Done  42 out of  42 | elapsed:    0.1s finished\n"
       ]
      },
      {
       "output_type": "stream",
       "stream": "stdout",
       "text": [
        "\n",
        "### Optimal parameters: ###\n",
        "{'C': 0.28000000000000003,\n",
        " 'fit_intercept': True,\n",
        " 'intercept_scaling': 0.10000000000000001,\n",
        " 'penalty': 'l1',\n",
        " 'tol': 0.0001}\n",
        "####################### \n",
        "\n",
        "Using N_iter = 14\n",
        "Simulation with num_features= 6\n",
        "max_features= {'penalty': ['l1', 'l2'], 'C': array([ 0.1 ,  0.19,  0.28,  0.37,  0.46,  0.55,  0.64,  0.73,  0.82,\n",
        "        0.91,  1.  ]), 'intercept_scaling': array([ 0.1 ,  0.19,  0.28,  0.37,  0.46,  0.55,  0.64,  0.73,  0.82,\n",
        "        0.91,  1.  ]), 'tol': [0.0001, 1e-05], 'fit_intercept': [True]}\n",
        "Fitting 3 folds for each of 14 candidates, totalling 42 fits\n"
       ]
      },
      {
       "output_type": "stream",
       "stream": "stderr",
       "text": [
        "[Parallel(n_jobs=-1)]: Done   1 jobs       | elapsed:    0.0s\n",
        "[Parallel(n_jobs=-1)]: Done  36 out of  42 | elapsed:    0.1s remaining:    0.0s\n",
        "[Parallel(n_jobs=-1)]: Done  42 out of  42 | elapsed:    0.1s finished\n"
       ]
      },
      {
       "output_type": "stream",
       "stream": "stdout",
       "text": [
        "\n",
        "### Optimal parameters: ###\n",
        "{'C': 0.28000000000000003,\n",
        " 'fit_intercept': True,\n",
        " 'intercept_scaling': 0.19,\n",
        " 'penalty': 'l1',\n",
        " 'tol': 0.0001}\n",
        "####################### \n",
        "\n",
        "Using N_iter = 14\n",
        "Simulation with num_features= 6\n",
        "max_features= {'penalty': ['l1', 'l2'], 'C': array([ 0.1 ,  0.19,  0.28,  0.37,  0.46,  0.55,  0.64,  0.73,  0.82,\n",
        "        0.91,  1.  ]), 'intercept_scaling': array([ 0.1 ,  0.19,  0.28,  0.37,  0.46,  0.55,  0.64,  0.73,  0.82,\n",
        "        0.91,  1.  ]), 'tol': [0.0001, 1e-05], 'fit_intercept': [True]}\n",
        "Fitting 3 folds for each of 14 candidates, totalling 42 fits\n"
       ]
      },
      {
       "output_type": "stream",
       "stream": "stderr",
       "text": [
        "[Parallel(n_jobs=-1)]: Done   1 jobs       | elapsed:    0.0s\n",
        "[Parallel(n_jobs=-1)]: Done  42 out of  42 | elapsed:    0.2s finished\n"
       ]
      },
      {
       "output_type": "stream",
       "stream": "stdout",
       "text": [
        "\n",
        "### Optimal parameters: ###\n",
        "{'C': 0.45999999999999996,\n",
        " 'fit_intercept': True,\n",
        " 'intercept_scaling': 0.19,\n",
        " 'penalty': 'l2',\n",
        " 'tol': 1e-05}\n",
        "####################### \n",
        "\n",
        "Using N_iter = 14\n",
        "Simulation with num_features= 6\n",
        "max_features= {'penalty': ['l1', 'l2'], 'C': array([ 0.1 ,  0.19,  0.28,  0.37,  0.46,  0.55,  0.64,  0.73,  0.82,\n",
        "        0.91,  1.  ]), 'intercept_scaling': array([ 0.1 ,  0.19,  0.28,  0.37,  0.46,  0.55,  0.64,  0.73,  0.82,\n",
        "        0.91,  1.  ]), 'tol': [0.0001, 1e-05], 'fit_intercept': [True]}\n",
        "Fitting 3 folds for each of 14 candidates, totalling 42 fits\n"
       ]
      },
      {
       "output_type": "stream",
       "stream": "stderr",
       "text": [
        "[Parallel(n_jobs=-1)]: Done   1 jobs       | elapsed:    0.0s\n",
        "[Parallel(n_jobs=-1)]: Done  42 out of  42 | elapsed:    0.2s finished\n"
       ]
      },
      {
       "output_type": "stream",
       "stream": "stdout",
       "text": [
        "\n",
        "### Optimal parameters: ###\n",
        "{'C': 0.19,\n",
        " 'fit_intercept': True,\n",
        " 'intercept_scaling': 0.10000000000000001,\n",
        " 'penalty': 'l1',\n",
        " 'tol': 1e-05}\n",
        "####################### \n",
        "\n",
        "\n",
        "###### \\CV of testAlgo number 2 for LogisticRegression\n",
        "###\n",
        "Using N_iter = 14\n",
        "Simulation with num_features= 6\n",
        "max_features= {'penalty': ['l1', 'l2'], 'C': array([ 0.1 ,  0.19,  0.28,  0.37,  0.46,  0.55,  0.64,  0.73,  0.82,\n",
        "        0.91,  1.  ]), 'intercept_scaling': array([ 0.1 ,  0.19,  0.28,  0.37,  0.46,  0.55,  0.64,  0.73,  0.82,\n",
        "        0.91,  1.  ]), 'tol': [0.0001, 1e-05], 'fit_intercept': [True]}\n",
        "Fitting 3 folds for each of 14 candidates, totalling 42 fits\n"
       ]
      },
      {
       "output_type": "stream",
       "stream": "stderr",
       "text": [
        "[Parallel(n_jobs=-1)]: Done   1 jobs       | elapsed:    0.0s\n",
        "[Parallel(n_jobs=-1)]: Done  42 out of  42 | elapsed:    0.2s finished\n"
       ]
      },
      {
       "output_type": "stream",
       "stream": "stdout",
       "text": [
        "\n",
        "### Optimal parameters: ###\n",
        "{'C': 0.64000000000000001,\n",
        " 'fit_intercept': True,\n",
        " 'intercept_scaling': 0.19,\n",
        " 'penalty': 'l1',\n",
        " 'tol': 0.0001}\n",
        "####################### \n",
        "\n",
        "Using N_iter = 14\n",
        "Simulation with num_features= 6\n",
        "max_features= {'penalty': ['l1', 'l2'], 'C': array([ 0.1 ,  0.19,  0.28,  0.37,  0.46,  0.55,  0.64,  0.73,  0.82,\n",
        "        0.91,  1.  ]), 'intercept_scaling': array([ 0.1 ,  0.19,  0.28,  0.37,  0.46,  0.55,  0.64,  0.73,  0.82,\n",
        "        0.91,  1.  ]), 'tol': [0.0001, 1e-05], 'fit_intercept': [True]}\n",
        "Fitting 3 folds for each of 14 candidates, totalling 42 fits\n"
       ]
      },
      {
       "output_type": "stream",
       "stream": "stderr",
       "text": [
        "[Parallel(n_jobs=-1)]: Done   1 jobs       | elapsed:    0.0s\n",
        "[Parallel(n_jobs=-1)]: Done  36 out of  42 | elapsed:    0.2s remaining:    0.0s\n",
        "[Parallel(n_jobs=-1)]: Done  42 out of  42 | elapsed:    0.2s finished\n"
       ]
      },
      {
       "output_type": "stream",
       "stream": "stdout",
       "text": [
        "\n",
        "### Optimal parameters: ###\n",
        "{'C': 0.90999999999999992,\n",
        " 'fit_intercept': True,\n",
        " 'intercept_scaling': 0.37,\n",
        " 'penalty': 'l1',\n",
        " 'tol': 1e-05}\n",
        "####################### \n",
        "\n",
        "Using N_iter = 14\n",
        "Simulation with num_features= 6\n",
        "max_features= {'penalty': ['l1', 'l2'], 'C': array([ 0.1 ,  0.19,  0.28,  0.37,  0.46,  0.55,  0.64,  0.73,  0.82,\n",
        "        0.91,  1.  ]), 'intercept_scaling': array([ 0.1 ,  0.19,  0.28,  0.37,  0.46,  0.55,  0.64,  0.73,  0.82,\n",
        "        0.91,  1.  ]), 'tol': [0.0001, 1e-05], 'fit_intercept': [True]}\n",
        "Fitting 3 folds for each of 14 candidates, totalling 42 fits\n"
       ]
      },
      {
       "output_type": "stream",
       "stream": "stderr",
       "text": [
        "[Parallel(n_jobs=-1)]: Done   1 jobs       | elapsed:    0.0s\n",
        "[Parallel(n_jobs=-1)]: Done  36 out of  42 | elapsed:    0.1s remaining:    0.0s\n",
        "[Parallel(n_jobs=-1)]: Done  42 out of  42 | elapsed:    0.1s finished\n"
       ]
      },
      {
       "output_type": "stream",
       "stream": "stdout",
       "text": [
        "\n",
        "### Optimal parameters: ###\n",
        "{'C': 0.72999999999999998,\n",
        " 'fit_intercept': True,\n",
        " 'intercept_scaling': 0.54999999999999993,\n",
        " 'penalty': 'l2',\n",
        " 'tol': 1e-05}\n",
        "####################### \n",
        "\n",
        "Using N_iter = 14\n",
        "Simulation with num_features= 6\n",
        "max_features= {'penalty': ['l1', 'l2'], 'C': array([ 0.1 ,  0.19,  0.28,  0.37,  0.46,  0.55,  0.64,  0.73,  0.82,\n",
        "        0.91,  1.  ]), 'intercept_scaling': array([ 0.1 ,  0.19,  0.28,  0.37,  0.46,  0.55,  0.64,  0.73,  0.82,\n",
        "        0.91,  1.  ]), 'tol': [0.0001, 1e-05], 'fit_intercept': [True]}\n",
        "Fitting 3 folds for each of 14 candidates, totalling 42 fits\n"
       ]
      },
      {
       "output_type": "stream",
       "stream": "stderr",
       "text": [
        "[Parallel(n_jobs=-1)]: Done   1 jobs       | elapsed:    0.0s\n",
        "[Parallel(n_jobs=-1)]: Done  42 out of  42 | elapsed:    0.1s finished\n"
       ]
      },
      {
       "output_type": "stream",
       "stream": "stdout",
       "text": [
        "\n",
        "### Optimal parameters: ###\n",
        "{'C': 0.54999999999999993,\n",
        " 'fit_intercept': True,\n",
        " 'intercept_scaling': 0.19,\n",
        " 'penalty': 'l1',\n",
        " 'tol': 1e-05}\n",
        "####################### \n",
        "\n",
        "Using N_iter = 14\n",
        "Simulation with num_features= 6\n",
        "max_features= {'penalty': ['l1', 'l2'], 'C': array([ 0.1 ,  0.19,  0.28,  0.37,  0.46,  0.55,  0.64,  0.73,  0.82,\n",
        "        0.91,  1.  ]), 'intercept_scaling': array([ 0.1 ,  0.19,  0.28,  0.37,  0.46,  0.55,  0.64,  0.73,  0.82,\n",
        "        0.91,  1.  ]), 'tol': [0.0001, 1e-05], 'fit_intercept': [True]}\n",
        "Fitting 3 folds for each of 14 candidates, totalling 42 fits\n"
       ]
      },
      {
       "output_type": "stream",
       "stream": "stderr",
       "text": [
        "[Parallel(n_jobs=-1)]: Done   1 jobs       | elapsed:    0.0s\n",
        "[Parallel(n_jobs=-1)]: Done  36 out of  42 | elapsed:    0.1s remaining:    0.0s\n",
        "[Parallel(n_jobs=-1)]: Done  42 out of  42 | elapsed:    0.1s finished\n"
       ]
      },
      {
       "output_type": "stream",
       "stream": "stdout",
       "text": [
        "\n",
        "### Optimal parameters: ###\n",
        "{'C': 0.19,\n",
        " 'fit_intercept': True,\n",
        " 'intercept_scaling': 1.0,\n",
        " 'penalty': 'l1',\n",
        " 'tol': 0.0001}\n",
        "####################### \n",
        "\n",
        "Using N_iter = 14\n",
        "Simulation with num_features= 6\n",
        "max_features= {'penalty': ['l1', 'l2'], 'C': array([ 0.1 ,  0.19,  0.28,  0.37,  0.46,  0.55,  0.64,  0.73,  0.82,\n",
        "        0.91,  1.  ]), 'intercept_scaling': array([ 0.1 ,  0.19,  0.28,  0.37,  0.46,  0.55,  0.64,  0.73,  0.82,\n",
        "        0.91,  1.  ]), 'tol': [0.0001, 1e-05], 'fit_intercept': [True]}\n",
        "Fitting 3 folds for each of 14 candidates, totalling 42 fits\n"
       ]
      },
      {
       "output_type": "stream",
       "stream": "stderr",
       "text": [
        "[Parallel(n_jobs=-1)]: Done   1 jobs       | elapsed:    0.0s\n",
        "[Parallel(n_jobs=-1)]: Done  42 out of  42 | elapsed:    0.2s finished\n"
       ]
      },
      {
       "output_type": "stream",
       "stream": "stdout",
       "text": [
        "\n",
        "### Optimal parameters: ###\n",
        "{'C': 0.37,\n",
        " 'fit_intercept': True,\n",
        " 'intercept_scaling': 0.10000000000000001,\n",
        " 'penalty': 'l1',\n",
        " 'tol': 1e-05}\n",
        "####################### \n",
        "\n",
        "Using N_iter = 14\n",
        "Simulation with num_features= 6\n",
        "max_features= {'penalty': ['l1', 'l2'], 'C': array([ 0.1 ,  0.19,  0.28,  0.37,  0.46,  0.55,  0.64,  0.73,  0.82,\n",
        "        0.91,  1.  ]), 'intercept_scaling': array([ 0.1 ,  0.19,  0.28,  0.37,  0.46,  0.55,  0.64,  0.73,  0.82,\n",
        "        0.91,  1.  ]), 'tol': [0.0001, 1e-05], 'fit_intercept': [True]}\n",
        "Fitting 3 folds for each of 14 candidates, totalling 42 fits\n"
       ]
      },
      {
       "output_type": "stream",
       "stream": "stderr",
       "text": [
        "[Parallel(n_jobs=-1)]: Done   1 jobs       | elapsed:    0.0s\n",
        "[Parallel(n_jobs=-1)]: Done  36 out of  42 | elapsed:    0.1s remaining:    0.0s\n",
        "[Parallel(n_jobs=-1)]: Done  42 out of  42 | elapsed:    0.1s finished\n"
       ]
      },
      {
       "output_type": "stream",
       "stream": "stdout",
       "text": [
        "\n",
        "### Optimal parameters: ###\n",
        "{'C': 0.72999999999999998,\n",
        " 'fit_intercept': True,\n",
        " 'intercept_scaling': 0.10000000000000001,\n",
        " 'penalty': 'l1',\n",
        " 'tol': 1e-05}\n",
        "####################### \n",
        "\n",
        "Using N_iter = 14\n",
        "Simulation with num_features= 6\n",
        "max_features= {'penalty': ['l1', 'l2'], 'C': array([ 0.1 ,  0.19,  0.28,  0.37,  0.46,  0.55,  0.64,  0.73,  0.82,\n",
        "        0.91,  1.  ]), 'intercept_scaling': array([ 0.1 ,  0.19,  0.28,  0.37,  0.46,  0.55,  0.64,  0.73,  0.82,\n",
        "        0.91,  1.  ]), 'tol': [0.0001, 1e-05], 'fit_intercept': [True]}\n",
        "Fitting 3 folds for each of 14 candidates, totalling 42 fits\n"
       ]
      },
      {
       "output_type": "stream",
       "stream": "stderr",
       "text": [
        "[Parallel(n_jobs=-1)]: Done   1 jobs       | elapsed:    0.0s\n",
        "[Parallel(n_jobs=-1)]: Done  42 out of  42 | elapsed:    0.1s finished\n"
       ]
      },
      {
       "output_type": "stream",
       "stream": "stdout",
       "text": [
        "\n",
        "### Optimal parameters: ###\n",
        "{'C': 0.28000000000000003,\n",
        " 'fit_intercept': True,\n",
        " 'intercept_scaling': 0.19,\n",
        " 'penalty': 'l1',\n",
        " 'tol': 1e-05}\n",
        "####################### \n",
        "\n",
        "Using N_iter = 14\n",
        "Simulation with num_features= 6\n",
        "max_features= {'penalty': ['l1', 'l2'], 'C': array([ 0.1 ,  0.19,  0.28,  0.37,  0.46,  0.55,  0.64,  0.73,  0.82,\n",
        "        0.91,  1.  ]), 'intercept_scaling': array([ 0.1 ,  0.19,  0.28,  0.37,  0.46,  0.55,  0.64,  0.73,  0.82,\n",
        "        0.91,  1.  ]), 'tol': [0.0001, 1e-05], 'fit_intercept': [True]}\n",
        "Fitting 3 folds for each of 14 candidates, totalling 42 fits\n"
       ]
      },
      {
       "output_type": "stream",
       "stream": "stderr",
       "text": [
        "[Parallel(n_jobs=-1)]: Done   1 jobs       | elapsed:    0.0s\n",
        "[Parallel(n_jobs=-1)]: Done  42 out of  42 | elapsed:    0.1s finished\n"
       ]
      },
      {
       "output_type": "stream",
       "stream": "stdout",
       "text": [
        "\n",
        "### Optimal parameters: ###\n",
        "{'C': 0.37,\n",
        " 'fit_intercept': True,\n",
        " 'intercept_scaling': 0.10000000000000001,\n",
        " 'penalty': 'l1',\n",
        " 'tol': 1e-05}\n",
        "####################### \n",
        "\n",
        "Using N_iter = 14\n",
        "Simulation with num_features= 6\n",
        "max_features= {'penalty': ['l1', 'l2'], 'C': array([ 0.1 ,  0.19,  0.28,  0.37,  0.46,  0.55,  0.64,  0.73,  0.82,\n",
        "        0.91,  1.  ]), 'intercept_scaling': array([ 0.1 ,  0.19,  0.28,  0.37,  0.46,  0.55,  0.64,  0.73,  0.82,\n",
        "        0.91,  1.  ]), 'tol': [0.0001, 1e-05], 'fit_intercept': [True]}\n",
        "Fitting 3 folds for each of 14 candidates, totalling 42 fits\n"
       ]
      },
      {
       "output_type": "stream",
       "stream": "stderr",
       "text": [
        "[Parallel(n_jobs=-1)]: Done   1 jobs       | elapsed:    0.0s\n",
        "[Parallel(n_jobs=-1)]: Done  36 out of  42 | elapsed:    0.1s remaining:    0.0s\n",
        "[Parallel(n_jobs=-1)]: Done  42 out of  42 | elapsed:    0.2s finished\n"
       ]
      },
      {
       "output_type": "stream",
       "stream": "stdout",
       "text": [
        "\n",
        "### Optimal parameters: ###\n",
        "{'C': 0.19,\n",
        " 'fit_intercept': True,\n",
        " 'intercept_scaling': 0.37,\n",
        " 'penalty': 'l1',\n",
        " 'tol': 1e-05}\n",
        "####################### \n",
        "\n",
        "Saving output to file for LogisticRegression\n",
        "\n",
        "###### \\CV of testAlgo number 1 for BayesMixed2\n",
        "###\n",
        "\n",
        "###### \\CV of testAlgo number 2 for BayesMixed2\n",
        "###"
       ]
      },
      {
       "output_type": "stream",
       "stream": "stdout",
       "text": [
        "\n",
        "Saving output to file for BayesMixed2"
       ]
      },
      {
       "output_type": "stream",
       "stream": "stdout",
       "text": [
        "\n"
       ]
      }
     ],
     "prompt_number": 2
    },
    {
     "cell_type": "code",
     "collapsed": false,
     "input": [
      "import MSPred as MSP"
     ],
     "language": "python",
     "metadata": {},
     "outputs": [],
     "prompt_number": 1
    },
    {
     "cell_type": "code",
     "collapsed": false,
     "input": [
      "MSP.main()"
     ],
     "language": "python",
     "metadata": {},
     "outputs": [
      {
       "name": "stdout",
       "output_type": "stream",
       "stream": "stdout",
       "text": [
        "Which h5 file? do you want to use (PredData or PredData_Impr0-4)PredData\n"
       ]
      },
      {
       "name": "stdout",
       "output_type": "stream",
       "stream": "stdout",
       "text": [
        "Launch Computation (a) or display result (b)? (a/b) b\n"
       ]
      },
      {
       "name": "stdout",
       "output_type": "stream",
       "stream": "stdout",
       "text": [
        "Do you want to compare different datasets? (Y/N)N\n"
       ]
      },
      {
       "name": "stdout",
       "output_type": "stream",
       "stream": "stdout",
       "text": [
        "Compare classifiers? (Y/N) Y\n"
       ]
      },
      {
       "output_type": "stream",
       "stream": "stdout",
       "text": [
        "Here are the existing datasets with output saved: \n",
        "\n",
        "Core\n",
        "Core_Imp\n",
        "CorewFam_Cut\n",
        "CorewStatic_Cut\n",
        "CorewStatic_Imp\n",
        "CorewStaticwExamwMRI_Imp\n"
       ]
      },
      {
       "name": "stdout",
       "output_type": "stream",
       "stream": "stdout",
       "text": [
        "Which dataset would you choose from above list?Core\n"
       ]
      },
      {
       "name": "stdout",
       "output_type": "stream",
       "stream": "stdout",
       "text": [
        "With optimization? (Y/N)Y\n"
       ]
      },
      {
       "output_type": "stream",
       "stream": "stdout",
       "text": [
        "RandomForest\n",
        "Open output for RandomForest\n",
        "[0 3 1 2]\n",
        "['PrevMSSSRate', 'PrevEDSSRate', 'PrevEDSS', 'PrevMSSS']\n",
        "Feature ranking:\n",
        "0. feature PrevMSSSRate (0.34)\n",
        "1. feature PrevMSSS (0.30)\n",
        "2. feature PrevEDSSRate (0.19)\n",
        "3. feature PrevEDSS (0.18)\n",
        "ROC AUC: 0.73"
       ]
      },
      {
       "output_type": "stream",
       "stream": "stdout",
       "text": [
        "\n",
        "RandomForest\n",
        "Precision Recall AUC: 0.47"
       ]
      },
      {
       "output_type": "stream",
       "stream": "stdout",
       "text": [
        "\n",
        "LogisticRegression"
       ]
      },
      {
       "output_type": "stream",
       "stream": "stdout",
       "text": [
        "\n",
        "Open output for LogisticRegression\n",
        "ROC AUC: 0.76"
       ]
      },
      {
       "output_type": "stream",
       "stream": "stdout",
       "text": [
        "\n",
        "LogisticRegression\n",
        "Precision Recall AUC: 0.52"
       ]
      },
      {
       "output_type": "stream",
       "stream": "stdout",
       "text": [
        "\n",
        "BayesMixed2"
       ]
      },
      {
       "output_type": "stream",
       "stream": "stdout",
       "text": [
        "\n",
        "Open output for BayesMixed2\n",
        "ROC AUC: 0.75"
       ]
      },
      {
       "output_type": "stream",
       "stream": "stdout",
       "text": [
        "\n",
        "BayesMixed2\n",
        "Precision Recall AUC: 0.49"
       ]
      },
      {
       "output_type": "stream",
       "stream": "stdout",
       "text": [
        "\n"
       ]
      },
      {
       "output_type": "stream",
       "stream": "stderr",
       "text": [
        "/opt/local/Library/Frameworks/Python.framework/Versions/2.7/lib/python2.7/site-packages/matplotlib/tight_layout.py:225: UserWarning: tight_layout : falling back to Agg renderer\n",
        "  warnings.warn(\"tight_layout : falling back to Agg renderer\")\n"
       ]
      }
     ],
     "prompt_number": 2
    },
    {
     "cell_type": "code",
     "collapsed": false,
     "input": [
      "\n",
      "clfName = 'RandomForest'\n",
      "obj = 'Core'\n",
      "opt = True\n"
     ],
     "language": "python",
     "metadata": {},
     "outputs": [],
     "prompt_number": 5
    },
    {
     "cell_type": "code",
     "collapsed": false,
     "input": [
      "y_pred, y_true, grids_score, imp = MSP.open_output(clfName, obj, opt)"
     ],
     "language": "python",
     "metadata": {},
     "outputs": [
      {
       "output_type": "stream",
       "stream": "stdout",
       "text": [
        "Open output for RandomForest\n"
       ]
      }
     ],
     "prompt_number": 7
    },
    {
     "cell_type": "code",
     "collapsed": false,
     "input": [
      "gridscore = grids_score\n",
      "paramNames = gridscore.dtype.fields.keys()\n",
      "paramNames"
     ],
     "language": "python",
     "metadata": {},
     "outputs": [
      {
       "metadata": {},
       "output_type": "pyout",
       "prompt_number": 8,
       "text": [
        "['std',\n",
        " 'bootstrap',\n",
        " 'n_estimators',\n",
        " 'criterion',\n",
        " 'max_features',\n",
        " 'i_CV',\n",
        " 'mean_validation_score',\n",
        " 'i_fold']"
       ]
      }
     ],
     "prompt_number": 8
    },
    {
     "cell_type": "code",
     "collapsed": false,
     "input": [
      "from __future__ import division, print_function, absolute_import\n",
      "import numpy as np\n",
      "from scipy import interpolate\n",
      "from scipy.interpolate.interpnd import LinearNDInterpolator, NDInterpolatorBase, \\\n",
      "     CloughTocher2DInterpolator, _ndim_coords_from_arrays\n",
      "from scipy.spatial import cKDTree\n",
      "from scipy.misc import factorial\n",
      "from scipy.stats import chisquare, itemfreq\n",
      "from scipy.optimize import fmin, fmin_bfgs, fminbound\n",
      "def griddata(points, values, xi, method='linear', fill_value=np.nan, tol = 1e-6):\n",
      "    \"\"\"modified griddata plus tol arg\"\"\"\n",
      "    points = _ndim_coords_from_arrays(points)\n",
      "\n",
      "    if points.ndim < 2:\n",
      "        ndim = points.ndim\n",
      "    else:\n",
      "        ndim = points.shape[-1]\n",
      "\n",
      "    if ndim == 1 and method in ('nearest', 'linear', 'cubic'):\n",
      "        from interpolate import interp1d\n",
      "        points = points.ravel()\n",
      "        if isinstance(xi, tuple):\n",
      "            if len(xi) != 1:\n",
      "                raise ValueError(\"invalid number of dimensions in xi\")\n",
      "            xi, = xi\n",
      "        # Sort points/values together, necessary as input for interp1d\n",
      "        idx = np.argsort(points)\n",
      "        points = points[idx]\n",
      "        values = values[idx]\n",
      "        ip = interp1d(points, values, kind=method, axis=0, bounds_error=False,\n",
      "                      fill_value=fill_value)\n",
      "        return ip(xi)\n",
      "    elif method == 'nearest':\n",
      "        ip = NearestNDInterpolator(points, values)\n",
      "        return ip(xi)\n",
      "    elif method == 'linear':\n",
      "        ip = LinearNDInterpolator(points, values, fill_value=fill_value)\n",
      "        return ip(xi)\n",
      "    elif method == 'cubic' and ndim == 2:\n",
      "        ip = CloughTocher2DInterpolator(points, values, fill_value=fill_value, tol = tol)\n",
      "        return ip(xi)\n",
      "    else:\n",
      "        raise ValueError(\"Unknown interpolation method %r for \"\n",
      "                         \"%d dimensional data\" % (method, ndim))"
     ],
     "language": "python",
     "metadata": {},
     "outputs": [],
     "prompt_number": 13
    },
    {
     "cell_type": "code",
     "collapsed": false,
     "input": [
      "import h5py as hp\n",
      "import pylab as pl\n",
      "import numpy as np\n",
      "# from scipy.interpolate import griddata\n",
      "h5name = 'PredData'\n",
      "general_path = './' + h5name + '/'\n",
      "h5_path = './' + h5name + '/' + h5name + '.h5'\n",
      "data_path = general_path + 'data/'\n",
      "plot_path = general_path + 'plots/'\n",
      "clfName = 'RandomForest'\n",
      "obj = 'Core'\n",
      "opt = True\n",
      "\n",
      "datapath = data_path+obj+'/'+clfName+'_opt.h5'\n",
      "f=hp.File(datapath, 'r')\n",
      "gridscore = f['grids_score'].value\n",
      "metric = 'roc_auc'\n",
      "''' Plot Grid Performance\n",
      "'''\n",
      "# Get numblocks\n",
      "CV = np.unique(gridscore[\"i_CV\"])\n",
      "folds = np.unique(gridscore[\"i_fold\"])\n",
      "numblocks = len(CV) * len(folds)\n",
      "paramNames = gridscore.dtype.fields.keys()\n",
      "paramNames.remove(\"mean_validation_score\")\n",
      "paramNames.remove(\"std\")\n",
      "paramNames.remove(\"i_CV\")\n",
      "paramNames.remove(\"i_fold\")\n",
      "score = gridscore[\"mean_validation_score\"]\n",
      "std = gridscore[\"std\"]\n",
      "newgridscore = gridscore[paramNames]\n",
      "num_params = len(paramNames)\n",
      "### get index of hit ###\n",
      "hitindex = []\n",
      "n_iter = len(score)/numblocks\n",
      "for k in range(numblocks):\n",
      "    hit0index = np.argmax(score[k*n_iter: (k+1)*n_iter])\n",
      "    hitindex.append(k*n_iter+hit0index )\n",
      "\n",
      "for m in range(num_params-1):\n",
      "    i = paramNames[m]\n",
      "    x = newgridscore[i]\n",
      "    for n in range(m+1, num_params):\n",
      "    # for j in list(set(paramNames)- set([i])):\n",
      "        j = paramNames[n]\n",
      "        y = newgridscore[j]\n",
      "        compound = [x,y]\n",
      "        # Only plot heat map if dtype of all elements of x, y are int or float\n",
      "        if [True]* len(compound)== map(lambda t: np.issubdtype(t.dtype,  np.float) or np.issubdtype(t.dtype, np.int), compound):\n",
      "            gridsize = 50\n",
      "            fig = pl.figure()\n",
      "            points = np.vstack([x,y]).T\n",
      "            #####Construct MeshGrids##########\n",
      "            xnew = np.linspace(max(x), min(x), gridsize)\n",
      "            ynew = np.linspace(max(y), min(y), gridsize)\n",
      "            X, Y = np.meshgrid(xnew, ynew)\n",
      "            #####Interpolate Z on top of MeshGrids#######\n",
      "            Z = griddata(points, score, (X, Y), method = \"cubic\", tol = 1)\n",
      "            z_min = min(score)\n",
      "            z_max = max(score)\n",
      "            pl.pcolormesh(X,Y,Z, cmap='RdBu', vmin=z_min, vmax=z_max)\n",
      "            pl.axis([x.min(), x.max(), y.min(), y.max()])\n",
      "            pl.xlabel(i, fontsize = 30)\n",
      "            pl.ylabel(j, fontsize = 30)\n",
      "            cb = pl.colorbar()\n",
      "            cb.set_label(metric, fontsize = 30)\n",
      "            ##### Mark the \"hit\" points #######\n",
      "            hitx = x[hitindex]\n",
      "            hity = y[hitindex]\n",
      "            pl.plot(hitx, hity, 'rx')\n",
      "            pl.show()"
     ],
     "language": "python",
     "metadata": {},
     "outputs": [],
     "prompt_number": 14
    },
    {
     "cell_type": "code",
     "collapsed": false,
     "input": [
      "pl.show()"
     ],
     "language": "python",
     "metadata": {},
     "outputs": [],
     "prompt_number": 22
    },
    {
     "cell_type": "code",
     "collapsed": false,
     "input": [
      "score"
     ],
     "language": "python",
     "metadata": {},
     "outputs": [
      {
       "metadata": {},
       "output_type": "pyout",
       "prompt_number": 15,
       "text": [
        "array([ 0.70986299,  0.71155075,  0.70933003,  0.71235297,  0.70012326,\n",
        "        0.65090457,  0.63582363,  0.66126559,  0.70053003,  0.65944959,\n",
        "        0.65763677,  0.63366671,  0.64325778,  0.70808616,  0.70567509,\n",
        "        0.67186986,  0.70423352,  0.71791222,  0.66416133,  0.71640817,\n",
        "        0.71425915,  0.72049635,  0.64014069,  0.72245286,  0.68027479,\n",
        "        0.70681297,  0.6514885 ,  0.65419977,  0.618733  ,  0.70214822,\n",
        "        0.72091034,  0.71579364,  0.71628472,  0.7174376 ,  0.71670363,\n",
        "        0.63561222,  0.6353835 ,  0.63547326,  0.71147729,  0.71406809,\n",
        "        0.70466581,  0.7028353 ,  0.63543102,  0.70555737,  0.70365027,\n",
        "        0.71292952,  0.71140927,  0.64467091,  0.71513377,  0.67444841,\n",
        "        0.70962013,  0.63035275,  0.66829154,  0.71277842,  0.66282522,\n",
        "        0.72632305,  0.67259187,  0.6805551 ,  0.66613819,  0.72381387,\n",
        "        0.71051104,  0.65618546,  0.71294638,  0.6455595 ,  0.65504082,\n",
        "        0.6936348 ,  0.6926623 ,  0.62620199,  0.70072768,  0.64664761,\n",
        "        0.70528254,  0.70735412,  0.70034794,  0.70292047,  0.65374531,\n",
        "        0.62125623,  0.65399792,  0.70723449,  0.71321314,  0.71084931,\n",
        "        0.63769845,  0.63773894,  0.66958848,  0.6745186 ,  0.71433978,\n",
        "        0.66994089,  0.72029559,  0.71645059,  0.71905765,  0.7217087 ,\n",
        "        0.70634348,  0.66060144,  0.70598666,  0.65754006,  0.70683433,\n",
        "        0.64756499,  0.69521145,  0.6152691 ,  0.6951482 ,  0.69807867])"
       ]
      }
     ],
     "prompt_number": 15
    },
    {
     "cell_type": "code",
     "collapsed": false,
     "input": [
      "len(score)"
     ],
     "language": "python",
     "metadata": {},
     "outputs": [
      {
       "metadata": {},
       "output_type": "pyout",
       "prompt_number": 26,
       "text": [
        "100"
       ]
      }
     ],
     "prompt_number": 26
    },
    {
     "cell_type": "code",
     "collapsed": false,
     "input": [
      "n_iter\n"
     ],
     "language": "python",
     "metadata": {},
     "outputs": [
      {
       "metadata": {},
       "output_type": "pyout",
       "prompt_number": 31,
       "text": [
        "5"
       ]
      }
     ],
     "prompt_number": 31
    },
    {
     "cell_type": "code",
     "collapsed": false,
     "input": [
      "import pylab as pl\n",
      "pl.plot([1,2,4], [5,6,7], 'rx')\n",
      "pl.axis([0, 10, 0, 10])\n",
      "pl.show()"
     ],
     "language": "python",
     "metadata": {},
     "outputs": [],
     "prompt_number": 17
    },
    {
     "cell_type": "code",
     "collapsed": false,
     "input": [
      "gridscore\n"
     ],
     "language": "python",
     "metadata": {},
     "outputs": [
      {
       "metadata": {},
       "output_type": "pyout",
       "prompt_number": 16,
       "text": [
        "array([(0, 0, 2, 200, True, 'gini', 0.7098629883907298, 0.01027399474440745),\n",
        "       (0, 0, 2, 300, True, 'entropy', 0.7115507529680551, 0.010245872561997556),\n",
        "       (0, 0, 4, 50, True, 'entropy', 0.7093300324965913, 0.009206333271736526),\n",
        "       (0, 0, 2, 50, True, 'gini', 0.7123529712747718, 0.010321212507924305),\n",
        "       (0, 0, 4, 50, True, 'gini', 0.7001232584341789, 0.015842211160853367),\n",
        "       (0, 1, 3, 50, False, 'gini', 0.6509045672360476, 0.018492759345906017),\n",
        "       (0, 1, 4, 300, False, 'entropy', 0.6358236338500033, 0.013402845732757358),\n",
        "       (0, 1, 2, 50, False, 'gini', 0.6612655861974672, 0.008509913143815757),\n",
        "       (0, 1, 3, 100, True, 'gini', 0.7005300302389318, 0.003633153150886509),\n",
        "       (0, 1, 2, 300, False, 'gini', 0.6594495946300594, 0.011692344137924894),\n",
        "       (0, 2, 2, 300, False, 'gini', 0.6576367725427633, 0.011400336207853022),\n",
        "       (0, 2, 4, 100, False, 'gini', 0.6336667086772066, 0.0219985890708515),\n",
        "       (0, 2, 4, 200, False, 'entropy', 0.6432577763590617, 0.013219681319713102),\n",
        "       (0, 2, 3, 200, True, 'entropy', 0.7080861619654715, 0.010441598917977881),\n",
        "       (0, 2, 2, 200, True, 'gini', 0.705675091380879, 0.011046166992062612),\n",
        "       (0, 3, 2, 50, False, 'entropy', 0.6718698573075085, 0.01569541543261283),\n",
        "       (0, 3, 3, 50, True, 'entropy', 0.7042335177216419, 0.028441263900670203),\n",
        "       (0, 3, 3, 300, True, 'entropy', 0.7179122215751629, 0.02069249306685094),\n",
        "       (0, 3, 3, 50, False, 'entropy', 0.6641613254125764, 0.005817783554384955),\n",
        "       (0, 3, 3, 100, True, 'gini', 0.7164081692316141, 0.019328088069540936),\n",
        "       (0, 4, 4, 300, True, 'gini', 0.7142591517425004, 0.003095672171007718),\n",
        "       (0, 4, 2, 200, True, 'entropy', 0.7204963533643528, 0.00235592173186632),\n",
        "       (0, 4, 4, 100, False, 'entropy', 0.6401406885324079, 0.013634881213663802),\n",
        "       (0, 4, 2, 50, True, 'gini', 0.7224528619181839, 0.005399011287578916),\n",
        "       (0, 4, 2, 50, False, 'gini', 0.6802747932334134, 0.007888009142802127),\n",
        "       (0, 5, 2, 100, True, 'entropy', 0.7068129687950158, 0.016309711052059552),\n",
        "       (0, 5, 3, 300, False, 'gini', 0.6514885037617918, 0.030843615692961082),\n",
        "       (0, 5, 3, 50, False, 'entropy', 0.654199766432596, 0.025730167429678878),\n",
        "       (0, 5, 4, 200, False, 'entropy', 0.6187329986950695, 0.025089386327655085),\n",
        "       (0, 5, 3, 50, True, 'gini', 0.7021482153693863, 0.01830994958792838),\n",
        "       (0, 6, 4, 50, True, 'entropy', 0.7209103390009505, 0.02078640306554227),\n",
        "       (0, 6, 4, 100, True, 'entropy', 0.7157936424120815, 0.023535157159415006),\n",
        "       (0, 6, 4, 100, True, 'gini', 0.7162847185552855, 0.0190207500051814),\n",
        "       (0, 6, 2, 50, True, 'gini', 0.7174376034076108, 0.01644364814629542),\n",
        "       (0, 6, 2, 50, True, 'gini', 0.7167036293871228, 0.026628808221190903),\n",
        "       (0, 7, 4, 200, False, 'entropy', 0.63561221983174, 0.012126333419320305),\n",
        "       (0, 7, 4, 300, False, 'entropy', 0.635383496797435, 0.01241660752716213),\n",
        "       (0, 7, 4, 200, False, 'entropy', 0.6354732591280982, 0.01206087845980956),\n",
        "       (0, 7, 2, 200, True, 'gini', 0.7114772867179933, 0.013242466140407045),\n",
        "       (0, 7, 3, 50, True, 'entropy', 0.7140680917800835, 0.017446207452704223),\n",
        "       (0, 8, 3, 50, True, 'entropy', 0.704665810556018, 0.01024891842913045),\n",
        "       (0, 8, 4, 100, True, 'entropy', 0.7028353000717955, 0.002821277680279191),\n",
        "       (0, 8, 4, 100, False, 'gini', 0.635431019158903, 0.015950871441323584),\n",
        "       (0, 8, 2, 100, True, 'entropy', 0.7055573699654333, 0.005613067576210351),\n",
        "       (0, 8, 4, 200, True, 'entropy', 0.7036502742779982, 0.0033731410972932512),\n",
        "       (0, 9, 4, 300, True, 'gini', 0.7129295153031299, 0.012141125110239973),\n",
        "       (0, 9, 4, 50, True, 'gini', 0.711409268639117, 0.00866491105239681),\n",
        "       (0, 9, 4, 50, False, 'entropy', 0.6446709123816172, 0.01734809960764568),\n",
        "       (0, 9, 2, 100, True, 'entropy', 0.7151337706729365, 0.01585204362632083),\n",
        "       (0, 9, 2, 100, False, 'gini', 0.6744484121632547, 0.013700187671435613),\n",
        "       (1, 0, 3, 50, True, 'entropy', 0.7096201267604001, 0.017905039756445598),\n",
        "       (1, 0, 4, 300, False, 'entropy', 0.6303527492525031, 0.020050689485930136),\n",
        "       (1, 0, 2, 300, False, 'entropy', 0.6682915363622823, 0.006061316952373007),\n",
        "       (1, 0, 4, 100, True, 'entropy', 0.7127784223432497, 0.009201394808890654),\n",
        "       (1, 0, 3, 300, False, 'gini', 0.6628252234100872, 0.007989349788001466),\n",
        "       (1, 1, 4, 100, True, 'entropy', 0.7263230534142973, 0.009926932952069827),\n",
        "       (1, 1, 2, 300, False, 'gini', 0.6725918729146071, 0.012131421828487766),\n",
        "       (1, 1, 2, 100, False, 'entropy', 0.6805550961041912, 0.01267150481174323),\n",
        "       (1, 1, 3, 50, False, 'gini', 0.6661381882865908, 0.0067388565885782995),\n",
        "       (1, 1, 2, 200, True, 'gini', 0.7238138678714042, 0.008553621271909789),\n",
        "       (1, 2, 2, 200, True, 'entropy', 0.7105110380818671, 0.008978518729934383),\n",
        "       (1, 2, 2, 50, False, 'gini', 0.6561854601625221, 0.009241919544751273),\n",
        "       (1, 2, 2, 50, True, 'entropy', 0.7129463827457412, 0.010079010264030127),\n",
        "       (1, 2, 3, 100, False, 'gini', 0.6455595007325898, 0.007278040973191372),\n",
        "       (1, 2, 2, 300, False, 'gini', 0.6550408241748454, 0.010683167191020073),\n",
        "       (1, 3, 4, 100, True, 'entropy', 0.6936348008517808, 0.009226140757341005),\n",
        "       (1, 3, 4, 100, True, 'entropy', 0.6926622972781235, 0.00894970802568725),\n",
        "       (1, 3, 4, 100, False, 'entropy', 0.626201986623753, 0.01429255415700909),\n",
        "       (1, 3, 2, 300, True, 'entropy', 0.7007276846651317, 0.011060747513139594),\n",
        "       (1, 3, 3, 50, False, 'gini', 0.6466476076101555, 0.003278597327215697),\n",
        "       (1, 4, 2, 50, True, 'entropy', 0.7052825381569494, 0.022846106985548894),\n",
        "       (1, 4, 2, 300, True, 'gini', 0.7073541159418324, 0.020477792985018325),\n",
        "       (1, 4, 4, 300, True, 'entropy', 0.7003479357171835, 0.022809507941672323),\n",
        "       (1, 4, 2, 50, True, 'entropy', 0.7029204658151836, 0.016965238772800477),\n",
        "       (1, 4, 2, 200, False, 'gini', 0.6537453086566172, 0.026241522234863493),\n",
        "       (1, 5, 4, 100, False, 'entropy', 0.6212562286069516, 0.01622080236781433),\n",
        "       (1, 5, 3, 300, False, 'gini', 0.6539979209612762, 0.0059752263458682205),\n",
        "       (1, 5, 2, 50, True, 'gini', 0.7072344924508273, 0.008824986437235756),\n",
        "       (1, 5, 2, 100, True, 'gini', 0.7132131430578736, 0.005759650592702623),\n",
        "       (1, 5, 4, 200, True, 'entropy', 0.7108493123303528, 0.006065323119118337),\n",
        "       (1, 6, 4, 300, False, 'gini', 0.637698454606259, 0.012216880524016475),\n",
        "       (1, 6, 4, 200, False, 'gini', 0.6377389375858062, 0.012595884255960439),\n",
        "       (1, 6, 2, 100, False, 'gini', 0.6695884817122542, 0.0022121628556924563),\n",
        "       (1, 6, 2, 100, False, 'gini', 0.6745186045692962, 0.0005556938324695775),\n",
        "       (1, 6, 3, 300, True, 'entropy', 0.7143397754074701, 0.005137940850536067),\n",
        "       (1, 7, 3, 200, False, 'gini', 0.6699408907322579, 0.0032357927907077696),\n",
        "       (1, 7, 2, 100, True, 'entropy', 0.7202955912444525, 0.010807058874460485),\n",
        "       (1, 7, 3, 200, True, 'gini', 0.7164505895012524, 0.005877782350346876),\n",
        "       (1, 7, 4, 300, True, 'entropy', 0.7190576472380094, 0.009463538176823121),\n",
        "       (1, 7, 2, 300, True, 'entropy', 0.7217086998432353, 0.007128465325862351),\n",
        "       (1, 8, 2, 100, True, 'entropy', 0.706343483341547, 0.010223495074544113),\n",
        "       (1, 8, 2, 100, False, 'gini', 0.6606014391662114, 0.015801077860156425),\n",
        "       (1, 8, 2, 300, True, 'gini', 0.7059866607702093, 0.01239215329672303),\n",
        "       (1, 8, 3, 100, False, 'entropy', 0.6575400588305333, 0.012241756938099955),\n",
        "       (1, 8, 4, 200, True, 'entropy', 0.7068343336896715, 0.012054192822789765),\n",
        "       (1, 9, 2, 50, False, 'gini', 0.647564988347279, 0.017051418878066105),\n",
        "       (1, 9, 4, 200, True, 'gini', 0.6952114495129517, 0.0108643778676387),\n",
        "       (1, 9, 4, 50, False, 'gini', 0.615269104014013, 0.023227888829374713),\n",
        "       (1, 9, 3, 200, True, 'gini', 0.6951482001494813, 0.014480157845672291),\n",
        "       (1, 9, 3, 200, True, 'entropy', 0.6980786680681047, 0.015257401795038778)], \n",
        "      dtype=[('i_CV', '<i8'), ('i_fold', '<i8'), ('max_features', '<i8'), ('n_estimators', '<i8'), ('bootstrap', '?'), ('criterion', 'S14'), ('mean_validation_score', '<f8'), ('std', '<f8')])"
       ]
      }
     ],
     "prompt_number": 16
    },
    {
     "cell_type": "code",
     "collapsed": false,
     "input": [
      "hitindex"
     ],
     "language": "python",
     "metadata": {},
     "outputs": [
      {
       "metadata": {},
       "output_type": "pyout",
       "prompt_number": 17,
       "text": [
        "[3, 8, 13, 17, 23, 25, 30, 39, 43, 48, 53, 55, 62, 68, 71, 78, 84, 89, 94, 99]"
       ]
      }
     ],
     "prompt_number": 17
    },
    {
     "cell_type": "code",
     "collapsed": false,
     "input": [
      "hitx"
     ],
     "language": "python",
     "metadata": {},
     "outputs": [
      {
       "metadata": {},
       "output_type": "pyout",
       "prompt_number": 18,
       "text": [
        "array([ 50, 100, 200, 300,  50, 100,  50,  50, 100, 100, 100, 100,  50,\n",
        "       300, 300, 100, 300, 300, 200, 200])"
       ]
      }
     ],
     "prompt_number": 18
    },
    {
     "cell_type": "code",
     "collapsed": false,
     "input": [
      "hity"
     ],
     "language": "python",
     "metadata": {},
     "outputs": [
      {
       "metadata": {},
       "output_type": "pyout",
       "prompt_number": 19,
       "text": [
        "array([2, 3, 3, 3, 2, 2, 4, 3, 2, 2, 4, 4, 2, 2, 2, 2, 3, 2, 4, 3])"
       ]
      }
     ],
     "prompt_number": 19
    },
    {
     "cell_type": "code",
     "collapsed": false,
     "input": [
      "pl.show()"
     ],
     "language": "python",
     "metadata": {},
     "outputs": [],
     "prompt_number": 21
    },
    {
     "cell_type": "code",
     "collapsed": false,
     "input": [],
     "language": "python",
     "metadata": {},
     "outputs": [],
     "prompt_number": 20
    },
    {
     "cell_type": "code",
     "collapsed": false,
     "input": [],
     "language": "python",
     "metadata": {},
     "outputs": []
    }
   ],
   "metadata": {}
  }
 ]
}