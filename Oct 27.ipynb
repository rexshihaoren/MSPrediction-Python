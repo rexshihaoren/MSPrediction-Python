{
 "metadata": {
  "name": "",
  "signature": "sha256:d5c113bd8f4214958e643d2e290a765461ecec3a2fdb1432b1ca4ce338f9ef07"
 },
 "nbformat": 3,
 "nbformat_minor": 0,
 "worksheets": [
  {
   "cells": [
    {
     "cell_type": "code",
     "collapsed": false,
     "input": [
      "import MSPred as MSP\n",
      "MSP.main()"
     ],
     "language": "python",
     "metadata": {},
     "outputs": [
      {
       "name": "stdout",
       "output_type": "stream",
       "stream": "stdout",
       "text": [
        "Which h5 file? do you want to use (PredData or PredData_Impr0-4)PredData\n"
       ]
      },
      {
       "name": "stdout",
       "output_type": "stream",
       "stream": "stdout",
       "text": [
        "Launch Computation (a) or display result (b)? (a/b) a\n"
       ]
      },
      {
       "output_type": "stream",
       "stream": "stdout",
       "text": [
        "Choose datasets from the following in a list format. e.g. ['Core', 'Core_Imp']\n",
        "Core(related output has already been generated)\n",
        "Core_Imp\n",
        "CorewFam_Cut\n",
        "CorewStatic_Cut\n",
        "CorewStatic_Imp\n",
        "CorewStaticwExam_Cut\n",
        "CorewStaticwExam_Imp\n",
        "CorewStaticwExamwMRI_Imp\n",
        "CorewStaticwExamwMRIwoT2L_CutVDL_Imp\n",
        "CorewStaticwExamwMRIwoT2L_Imp\n",
        "CorewStaticwExamwMRIwoT2LwoVDL_Imp\n",
        "CorewStaticwExamwMRIwoVDL_CutT2L_Imp\n",
        "CorewStaticwExamwMRIwoVDL_Imp\n",
        "CorewStaticwExamwoVDL\n",
        "CorewStaticwExamwoVDL_Cut\n",
        "CorewStaticwFam_Cut\n",
        "CorewStaticwGenetics_Cut\n",
        "CorewStaticwGenetics_Imp\n",
        "CorewStaticwMRI_Imp\n",
        "CorewStaticwTreatment\n",
        "CorewStaticwoOW\n",
        "CorewmodFam_Cut\n",
        "CorewoRate\n",
        "EDSS\n",
        "EDSSwEDSSRate\n"
       ]
      },
      {
       "name": "stdout",
       "output_type": "stream",
       "stream": "stdout",
       "text": [
        "--->['Core', 'Core_Imp']\n"
       ]
      },
      {
       "name": "stdout",
       "output_type": "stream",
       "stream": "stdout",
       "text": [
        "Do you want to answer a lot of - useless ? - different questions for each dataset that forces you to stare at your terminal the whole time or would you prefer just to go on with the fitting of all the models for the sected datasets? \n",
        " (Answer 'Complicated' for the first option or just press return for the simple option)\n",
        " -->\n"
       ]
      },
      {
       "output_type": "stream",
       "stream": "stdout",
       "text": [
        "Last couple of questions:\n"
       ]
      },
      {
       "name": "stdout",
       "output_type": "stream",
       "stream": "stdout",
       "text": [
        "Do you want optimisation on all of the model fittings? (return or 'Y' for Yes) \n",
        " -->Y\n"
       ]
      },
      {
       "name": "stdout",
       "output_type": "stream",
       "stream": "stdout",
       "text": [
        "How many Cross-Validations should be done for the validation of the algorithms? (return for default = 10) \n",
        " -->2\n"
       ]
      },
      {
       "name": "stdout",
       "output_type": "stream",
       "stream": "stdout",
       "text": [
        "Do you want to scale the imput data? (return or 'Y' for Yes) \n",
        " -->N\n"
       ]
      },
      {
       "output_type": "stream",
       "stream": "stdout",
       "text": [
        "Saving output for Core\n",
        "\n",
        "###### \\CV of testAlgo number 1 for LogisticRegression\n",
        "###\n",
        "Using N_iter = 14\n",
        "Simulation with num_features= 6\n",
        "max_features= {'penalty': ['l1', 'l2'], 'C': array([ 0.1 ,  0.19,  0.28,  0.37,  0.46,  0.55,  0.64,  0.73,  0.82,\n",
        "        0.91,  1.  ]), 'intercept_scaling': array([ 0.1 ,  0.19,  0.28,  0.37,  0.46,  0.55,  0.64,  0.73,  0.82,\n",
        "        0.91,  1.  ]), 'tol': [0.0001, 1e-05], 'fit_intercept': [True]}\n",
        "Fitting 3 folds for each of 14 candidates, totalling 42 fits\n"
       ]
      },
      {
       "output_type": "stream",
       "stream": "stderr",
       "text": [
        "[Parallel(n_jobs=-1)]: Done   1 jobs       | elapsed:    0.0s\n",
        "[Parallel(n_jobs=-1)]: Done  42 out of  42 | elapsed:    0.1s finished\n"
       ]
      },
      {
       "output_type": "stream",
       "stream": "stdout",
       "text": [
        "\n",
        "### Optimal parameters: ###\n",
        "{'C': 0.45999999999999996,\n",
        " 'fit_intercept': True,\n",
        " 'intercept_scaling': 0.10000000000000001,\n",
        " 'penalty': 'l1',\n",
        " 'tol': 1e-05}\n",
        "####################### \n",
        "\n",
        "Using N_iter = 14\n",
        "Simulation with num_features= 6\n",
        "max_features= {'penalty': ['l1', 'l2'], 'C': array([ 0.1 ,  0.19,  0.28,  0.37,  0.46,  0.55,  0.64,  0.73,  0.82,\n",
        "        0.91,  1.  ]), 'intercept_scaling': array([ 0.1 ,  0.19,  0.28,  0.37,  0.46,  0.55,  0.64,  0.73,  0.82,\n",
        "        0.91,  1.  ]), 'tol': [0.0001, 1e-05], 'fit_intercept': [True]}\n",
        "Fitting 3 folds for each of 14 candidates, totalling 42 fits\n"
       ]
      },
      {
       "output_type": "stream",
       "stream": "stderr",
       "text": [
        "[Parallel(n_jobs=-1)]: Done   1 jobs       | elapsed:    0.0s\n",
        "[Parallel(n_jobs=-1)]: Done  42 out of  42 | elapsed:    0.1s finished\n"
       ]
      },
      {
       "output_type": "stream",
       "stream": "stdout",
       "text": [
        "\n",
        "### Optimal parameters: ###\n",
        "{'C': 0.45999999999999996,\n",
        " 'fit_intercept': True,\n",
        " 'intercept_scaling': 0.19,\n",
        " 'penalty': 'l1',\n",
        " 'tol': 0.0001}\n",
        "####################### \n",
        "\n",
        "Using N_iter = 14\n",
        "Simulation with num_features= 6\n",
        "max_features= {'penalty': ['l1', 'l2'], 'C': array([ 0.1 ,  0.19,  0.28,  0.37,  0.46,  0.55,  0.64,  0.73,  0.82,\n",
        "        0.91,  1.  ]), 'intercept_scaling': array([ 0.1 ,  0.19,  0.28,  0.37,  0.46,  0.55,  0.64,  0.73,  0.82,\n",
        "        0.91,  1.  ]), 'tol': [0.0001, 1e-05], 'fit_intercept': [True]}\n",
        "Fitting 3 folds for each of 14 candidates, totalling 42 fits\n"
       ]
      },
      {
       "output_type": "stream",
       "stream": "stderr",
       "text": [
        "[Parallel(n_jobs=-1)]: Done   1 jobs       | elapsed:    0.0s\n",
        "[Parallel(n_jobs=-1)]: Done  36 out of  42 | elapsed:    0.1s remaining:    0.0s\n",
        "[Parallel(n_jobs=-1)]: Done  42 out of  42 | elapsed:    0.1s finished\n"
       ]
      },
      {
       "output_type": "stream",
       "stream": "stdout",
       "text": [
        "\n",
        "### Optimal parameters: ###\n",
        "{'C': 0.54999999999999993,\n",
        " 'fit_intercept': True,\n",
        " 'intercept_scaling': 0.10000000000000001,\n",
        " 'penalty': 'l1',\n",
        " 'tol': 0.0001}\n",
        "####################### \n",
        "\n",
        "Using N_iter = 14\n",
        "Simulation with num_features= 6\n",
        "max_features= {'penalty': ['l1', 'l2'], 'C': array([ 0.1 ,  0.19,  0.28,  0.37,  0.46,  0.55,  0.64,  0.73,  0.82,\n",
        "        0.91,  1.  ]), 'intercept_scaling': array([ 0.1 ,  0.19,  0.28,  0.37,  0.46,  0.55,  0.64,  0.73,  0.82,\n",
        "        0.91,  1.  ]), 'tol': [0.0001, 1e-05], 'fit_intercept': [True]}\n",
        "Fitting 3 folds for each of 14 candidates, totalling 42 fits\n"
       ]
      },
      {
       "output_type": "stream",
       "stream": "stderr",
       "text": [
        "[Parallel(n_jobs=-1)]: Done   1 jobs       | elapsed:    0.0s\n",
        "[Parallel(n_jobs=-1)]: Done  42 out of  42 | elapsed:    0.1s finished\n"
       ]
      },
      {
       "output_type": "stream",
       "stream": "stdout",
       "text": [
        "\n",
        "### Optimal parameters: ###\n",
        "{'C': 0.37,\n",
        " 'fit_intercept': True,\n",
        " 'intercept_scaling': 0.19,\n",
        " 'penalty': 'l1',\n",
        " 'tol': 1e-05}\n",
        "####################### \n",
        "\n",
        "Using N_iter = 14\n",
        "Simulation with num_features= 6\n",
        "max_features= {'penalty': ['l1', 'l2'], 'C': array([ 0.1 ,  0.19,  0.28,  0.37,  0.46,  0.55,  0.64,  0.73,  0.82,\n",
        "        0.91,  1.  ]), 'intercept_scaling': array([ 0.1 ,  0.19,  0.28,  0.37,  0.46,  0.55,  0.64,  0.73,  0.82,\n",
        "        0.91,  1.  ]), 'tol': [0.0001, 1e-05], 'fit_intercept': [True]}\n",
        "Fitting 3 folds for each of 14 candidates, totalling 42 fits\n"
       ]
      },
      {
       "output_type": "stream",
       "stream": "stderr",
       "text": [
        "[Parallel(n_jobs=-1)]: Done   1 jobs       | elapsed:    0.0s\n",
        "[Parallel(n_jobs=-1)]: Done  42 out of  42 | elapsed:    0.1s finished\n"
       ]
      },
      {
       "output_type": "stream",
       "stream": "stdout",
       "text": [
        "\n",
        "### Optimal parameters: ###\n",
        "{'C': 0.37,\n",
        " 'fit_intercept': True,\n",
        " 'intercept_scaling': 0.19,\n",
        " 'penalty': 'l1',\n",
        " 'tol': 0.0001}\n",
        "####################### \n",
        "\n",
        "Using N_iter = 14\n",
        "Simulation with num_features= 6\n",
        "max_features= {'penalty': ['l1', 'l2'], 'C': array([ 0.1 ,  0.19,  0.28,  0.37,  0.46,  0.55,  0.64,  0.73,  0.82,\n",
        "        0.91,  1.  ]), 'intercept_scaling': array([ 0.1 ,  0.19,  0.28,  0.37,  0.46,  0.55,  0.64,  0.73,  0.82,\n",
        "        0.91,  1.  ]), 'tol': [0.0001, 1e-05], 'fit_intercept': [True]}\n",
        "Fitting 3 folds for each of 14 candidates, totalling 42 fits\n"
       ]
      },
      {
       "output_type": "stream",
       "stream": "stderr",
       "text": [
        "[Parallel(n_jobs=-1)]: Done   1 jobs       | elapsed:    0.0s\n",
        "[Parallel(n_jobs=-1)]: Done  42 out of  42 | elapsed:    0.1s finished\n"
       ]
      },
      {
       "output_type": "stream",
       "stream": "stdout",
       "text": [
        "\n",
        "### Optimal parameters: ###\n",
        "{'C': 0.19,\n",
        " 'fit_intercept': True,\n",
        " 'intercept_scaling': 0.10000000000000001,\n",
        " 'penalty': 'l1',\n",
        " 'tol': 0.0001}\n",
        "####################### \n",
        "\n",
        "Using N_iter = 14\n",
        "Simulation with num_features= 6\n",
        "max_features= {'penalty': ['l1', 'l2'], 'C': array([ 0.1 ,  0.19,  0.28,  0.37,  0.46,  0.55,  0.64,  0.73,  0.82,\n",
        "        0.91,  1.  ]), 'intercept_scaling': array([ 0.1 ,  0.19,  0.28,  0.37,  0.46,  0.55,  0.64,  0.73,  0.82,\n",
        "        0.91,  1.  ]), 'tol': [0.0001, 1e-05], 'fit_intercept': [True]}\n",
        "Fitting 3 folds for each of 14 candidates, totalling 42 fits\n"
       ]
      },
      {
       "output_type": "stream",
       "stream": "stderr",
       "text": [
        "[Parallel(n_jobs=-1)]: Done   1 jobs       | elapsed:    0.0s\n",
        "[Parallel(n_jobs=-1)]: Done  42 out of  42 | elapsed:    0.1s finished\n"
       ]
      },
      {
       "output_type": "stream",
       "stream": "stdout",
       "text": [
        "\n",
        "### Optimal parameters: ###\n",
        "{'C': 0.10000000000000001,\n",
        " 'fit_intercept': True,\n",
        " 'intercept_scaling': 0.19,\n",
        " 'penalty': 'l2',\n",
        " 'tol': 0.0001}\n",
        "####################### \n",
        "\n",
        "Using N_iter = 14\n",
        "Simulation with num_features= 6\n",
        "max_features= {'penalty': ['l1', 'l2'], 'C': array([ 0.1 ,  0.19,  0.28,  0.37,  0.46,  0.55,  0.64,  0.73,  0.82,\n",
        "        0.91,  1.  ]), 'intercept_scaling': array([ 0.1 ,  0.19,  0.28,  0.37,  0.46,  0.55,  0.64,  0.73,  0.82,\n",
        "        0.91,  1.  ]), 'tol': [0.0001, 1e-05], 'fit_intercept': [True]}\n",
        "Fitting 3 folds for each of 14 candidates, totalling 42 fits\n"
       ]
      },
      {
       "output_type": "stream",
       "stream": "stderr",
       "text": [
        "[Parallel(n_jobs=-1)]: Done   1 jobs       | elapsed:    0.0s\n",
        "[Parallel(n_jobs=-1)]: Done  36 out of  42 | elapsed:    0.1s remaining:    0.0s\n",
        "[Parallel(n_jobs=-1)]: Done  42 out of  42 | elapsed:    0.1s finished\n"
       ]
      },
      {
       "output_type": "stream",
       "stream": "stdout",
       "text": [
        "\n",
        "### Optimal parameters: ###\n",
        "{'C': 0.10000000000000001,\n",
        " 'fit_intercept': True,\n",
        " 'intercept_scaling': 0.81999999999999995,\n",
        " 'penalty': 'l1',\n",
        " 'tol': 1e-05}\n",
        "####################### \n",
        "\n",
        "Using N_iter = 14\n",
        "Simulation with num_features= 6\n",
        "max_features= {'penalty': ['l1', 'l2'], 'C': array([ 0.1 ,  0.19,  0.28,  0.37,  0.46,  0.55,  0.64,  0.73,  0.82,\n",
        "        0.91,  1.  ]), 'intercept_scaling': array([ 0.1 ,  0.19,  0.28,  0.37,  0.46,  0.55,  0.64,  0.73,  0.82,\n",
        "        0.91,  1.  ]), 'tol': [0.0001, 1e-05], 'fit_intercept': [True]}\n",
        "Fitting 3 folds for each of 14 candidates, totalling 42 fits\n"
       ]
      },
      {
       "output_type": "stream",
       "stream": "stderr",
       "text": [
        "[Parallel(n_jobs=-1)]: Done   1 jobs       | elapsed:    0.0s\n",
        "[Parallel(n_jobs=-1)]: Done  36 out of  42 | elapsed:    0.1s remaining:    0.0s\n",
        "[Parallel(n_jobs=-1)]: Done  42 out of  42 | elapsed:    0.1s finished\n"
       ]
      },
      {
       "output_type": "stream",
       "stream": "stdout",
       "text": [
        "\n",
        "### Optimal parameters: ###\n",
        "{'C': 0.28000000000000003,\n",
        " 'fit_intercept': True,\n",
        " 'intercept_scaling': 1.0,\n",
        " 'penalty': 'l1',\n",
        " 'tol': 0.0001}\n",
        "####################### \n",
        "\n",
        "Using N_iter = 14\n",
        "Simulation with num_features= 6\n",
        "max_features= {'penalty': ['l1', 'l2'], 'C': array([ 0.1 ,  0.19,  0.28,  0.37,  0.46,  0.55,  0.64,  0.73,  0.82,\n",
        "        0.91,  1.  ]), 'intercept_scaling': array([ 0.1 ,  0.19,  0.28,  0.37,  0.46,  0.55,  0.64,  0.73,  0.82,\n",
        "        0.91,  1.  ]), 'tol': [0.0001, 1e-05], 'fit_intercept': [True]}\n",
        "Fitting 3 folds for each of 14 candidates, totalling 42 fits\n"
       ]
      },
      {
       "output_type": "stream",
       "stream": "stderr",
       "text": [
        "[Parallel(n_jobs=-1)]: Done   1 jobs       | elapsed:    0.0s\n",
        "[Parallel(n_jobs=-1)]: Done  36 out of  42 | elapsed:    0.1s remaining:    0.0s\n",
        "[Parallel(n_jobs=-1)]: Done  42 out of  42 | elapsed:    0.1s finished\n"
       ]
      },
      {
       "output_type": "stream",
       "stream": "stdout",
       "text": [
        "\n",
        "### Optimal parameters: ###\n",
        "{'C': 0.28000000000000003,\n",
        " 'fit_intercept': True,\n",
        " 'intercept_scaling': 0.10000000000000001,\n",
        " 'penalty': 'l2',\n",
        " 'tol': 1e-05}\n",
        "####################### \n",
        "\n",
        "\n",
        "###### \\CV of testAlgo number 2 for LogisticRegression\n",
        "###\n",
        "Using N_iter = 14\n",
        "Simulation with num_features= 6\n",
        "max_features= {'penalty': ['l1', 'l2'], 'C': array([ 0.1 ,  0.19,  0.28,  0.37,  0.46,  0.55,  0.64,  0.73,  0.82,\n",
        "        0.91,  1.  ]), 'intercept_scaling': array([ 0.1 ,  0.19,  0.28,  0.37,  0.46,  0.55,  0.64,  0.73,  0.82,\n",
        "        0.91,  1.  ]), 'tol': [0.0001, 1e-05], 'fit_intercept': [True]}\n",
        "Fitting 3 folds for each of 14 candidates, totalling 42 fits\n"
       ]
      },
      {
       "output_type": "stream",
       "stream": "stderr",
       "text": [
        "[Parallel(n_jobs=-1)]: Done   1 jobs       | elapsed:    0.0s\n",
        "[Parallel(n_jobs=-1)]: Done  36 out of  42 | elapsed:    0.1s remaining:    0.0s\n",
        "[Parallel(n_jobs=-1)]: Done  42 out of  42 | elapsed:    0.1s finished\n"
       ]
      },
      {
       "output_type": "stream",
       "stream": "stdout",
       "text": [
        "\n",
        "### Optimal parameters: ###\n",
        "{'C': 0.72999999999999998,\n",
        " 'fit_intercept': True,\n",
        " 'intercept_scaling': 0.19,\n",
        " 'penalty': 'l1',\n",
        " 'tol': 0.0001}\n",
        "####################### \n",
        "\n",
        "Using N_iter = 14\n",
        "Simulation with num_features= 6\n",
        "max_features= {'penalty': ['l1', 'l2'], 'C': array([ 0.1 ,  0.19,  0.28,  0.37,  0.46,  0.55,  0.64,  0.73,  0.82,\n",
        "        0.91,  1.  ]), 'intercept_scaling': array([ 0.1 ,  0.19,  0.28,  0.37,  0.46,  0.55,  0.64,  0.73,  0.82,\n",
        "        0.91,  1.  ]), 'tol': [0.0001, 1e-05], 'fit_intercept': [True]}\n",
        "Fitting 3 folds for each of 14 candidates, totalling 42 fits\n"
       ]
      },
      {
       "output_type": "stream",
       "stream": "stderr",
       "text": [
        "[Parallel(n_jobs=-1)]: Done   1 jobs       | elapsed:    0.0s\n",
        "[Parallel(n_jobs=-1)]: Done  42 out of  42 | elapsed:    0.1s finished\n"
       ]
      },
      {
       "output_type": "stream",
       "stream": "stdout",
       "text": [
        "\n",
        "### Optimal parameters: ###\n",
        "{'C': 0.19,\n",
        " 'fit_intercept': True,\n",
        " 'intercept_scaling': 0.54999999999999993,\n",
        " 'penalty': 'l1',\n",
        " 'tol': 0.0001}\n",
        "####################### \n",
        "\n",
        "Using N_iter = 14\n",
        "Simulation with num_features= 6\n",
        "max_features= {'penalty': ['l1', 'l2'], 'C': array([ 0.1 ,  0.19,  0.28,  0.37,  0.46,  0.55,  0.64,  0.73,  0.82,\n",
        "        0.91,  1.  ]), 'intercept_scaling': array([ 0.1 ,  0.19,  0.28,  0.37,  0.46,  0.55,  0.64,  0.73,  0.82,\n",
        "        0.91,  1.  ]), 'tol': [0.0001, 1e-05], 'fit_intercept': [True]}\n",
        "Fitting 3 folds for each of 14 candidates, totalling 42 fits\n"
       ]
      },
      {
       "output_type": "stream",
       "stream": "stderr",
       "text": [
        "[Parallel(n_jobs=-1)]: Done   1 jobs       | elapsed:    0.0s\n",
        "[Parallel(n_jobs=-1)]: Done  36 out of  42 | elapsed:    0.1s remaining:    0.0s\n",
        "[Parallel(n_jobs=-1)]: Done  42 out of  42 | elapsed:    0.1s finished\n"
       ]
      },
      {
       "output_type": "stream",
       "stream": "stdout",
       "text": [
        "\n",
        "### Optimal parameters: ###\n",
        "{'C': 0.19,\n",
        " 'fit_intercept': True,\n",
        " 'intercept_scaling': 1.0,\n",
        " 'penalty': 'l1',\n",
        " 'tol': 0.0001}\n",
        "####################### \n",
        "\n",
        "Using N_iter = 14\n",
        "Simulation with num_features= 6\n",
        "max_features= {'penalty': ['l1', 'l2'], 'C': array([ 0.1 ,  0.19,  0.28,  0.37,  0.46,  0.55,  0.64,  0.73,  0.82,\n",
        "        0.91,  1.  ]), 'intercept_scaling': array([ 0.1 ,  0.19,  0.28,  0.37,  0.46,  0.55,  0.64,  0.73,  0.82,\n",
        "        0.91,  1.  ]), 'tol': [0.0001, 1e-05], 'fit_intercept': [True]}\n",
        "Fitting 3 folds for each of 14 candidates, totalling 42 fits\n"
       ]
      },
      {
       "output_type": "stream",
       "stream": "stderr",
       "text": [
        "[Parallel(n_jobs=-1)]: Done   1 jobs       | elapsed:    0.0s\n",
        "[Parallel(n_jobs=-1)]: Done  36 out of  42 | elapsed:    0.1s remaining:    0.0s\n",
        "[Parallel(n_jobs=-1)]: Done  42 out of  42 | elapsed:    0.1s finished\n"
       ]
      },
      {
       "output_type": "stream",
       "stream": "stdout",
       "text": [
        "\n",
        "### Optimal parameters: ###\n",
        "{'C': 0.45999999999999996,\n",
        " 'fit_intercept': True,\n",
        " 'intercept_scaling': 0.10000000000000001,\n",
        " 'penalty': 'l1',\n",
        " 'tol': 0.0001}\n",
        "####################### \n",
        "\n",
        "Using N_iter = 14\n",
        "Simulation with num_features= 6\n",
        "max_features= {'penalty': ['l1', 'l2'], 'C': array([ 0.1 ,  0.19,  0.28,  0.37,  0.46,  0.55,  0.64,  0.73,  0.82,\n",
        "        0.91,  1.  ]), 'intercept_scaling': array([ 0.1 ,  0.19,  0.28,  0.37,  0.46,  0.55,  0.64,  0.73,  0.82,\n",
        "        0.91,  1.  ]), 'tol': [0.0001, 1e-05], 'fit_intercept': [True]}\n",
        "Fitting 3 folds for each of 14 candidates, totalling 42 fits\n"
       ]
      },
      {
       "output_type": "stream",
       "stream": "stderr",
       "text": [
        "[Parallel(n_jobs=-1)]: Done   1 jobs       | elapsed:    0.0s\n",
        "[Parallel(n_jobs=-1)]: Done  42 out of  42 | elapsed:    0.1s finished\n"
       ]
      },
      {
       "output_type": "stream",
       "stream": "stdout",
       "text": [
        "\n",
        "### Optimal parameters: ###\n",
        "{'C': 0.45999999999999996,\n",
        " 'fit_intercept': True,\n",
        " 'intercept_scaling': 0.37,\n",
        " 'penalty': 'l1',\n",
        " 'tol': 1e-05}\n",
        "####################### \n",
        "\n",
        "Using N_iter = 14\n",
        "Simulation with num_features= 6\n",
        "max_features= {'penalty': ['l1', 'l2'], 'C': array([ 0.1 ,  0.19,  0.28,  0.37,  0.46,  0.55,  0.64,  0.73,  0.82,\n",
        "        0.91,  1.  ]), 'intercept_scaling': array([ 0.1 ,  0.19,  0.28,  0.37,  0.46,  0.55,  0.64,  0.73,  0.82,\n",
        "        0.91,  1.  ]), 'tol': [0.0001, 1e-05], 'fit_intercept': [True]}\n",
        "Fitting 3 folds for each of 14 candidates, totalling 42 fits\n"
       ]
      },
      {
       "output_type": "stream",
       "stream": "stderr",
       "text": [
        "[Parallel(n_jobs=-1)]: Done   1 jobs       | elapsed:    0.0s\n",
        "[Parallel(n_jobs=-1)]: Done  42 out of  42 | elapsed:    0.1s finished\n"
       ]
      },
      {
       "output_type": "stream",
       "stream": "stdout",
       "text": [
        "\n",
        "### Optimal parameters: ###\n",
        "{'C': 0.54999999999999993,\n",
        " 'fit_intercept': True,\n",
        " 'intercept_scaling': 0.10000000000000001,\n",
        " 'penalty': 'l1',\n",
        " 'tol': 0.0001}\n",
        "####################### \n",
        "\n",
        "Using N_iter = 14\n",
        "Simulation with num_features= 6\n",
        "max_features= {'penalty': ['l1', 'l2'], 'C': array([ 0.1 ,  0.19,  0.28,  0.37,  0.46,  0.55,  0.64,  0.73,  0.82,\n",
        "        0.91,  1.  ]), 'intercept_scaling': array([ 0.1 ,  0.19,  0.28,  0.37,  0.46,  0.55,  0.64,  0.73,  0.82,\n",
        "        0.91,  1.  ]), 'tol': [0.0001, 1e-05], 'fit_intercept': [True]}\n",
        "Fitting 3 folds for each of 14 candidates, totalling 42 fits\n"
       ]
      },
      {
       "output_type": "stream",
       "stream": "stderr",
       "text": [
        "[Parallel(n_jobs=-1)]: Done   1 jobs       | elapsed:    0.0s\n",
        "[Parallel(n_jobs=-1)]: Done  36 out of  42 | elapsed:    0.1s remaining:    0.0s\n",
        "[Parallel(n_jobs=-1)]: Done  42 out of  42 | elapsed:    0.1s finished\n"
       ]
      },
      {
       "output_type": "stream",
       "stream": "stdout",
       "text": [
        "\n",
        "### Optimal parameters: ###\n",
        "{'C': 0.28000000000000003,\n",
        " 'fit_intercept': True,\n",
        " 'intercept_scaling': 0.10000000000000001,\n",
        " 'penalty': 'l2',\n",
        " 'tol': 0.0001}\n",
        "####################### \n",
        "\n",
        "Using N_iter = 14\n",
        "Simulation with num_features= 6\n",
        "max_features= {'penalty': ['l1', 'l2'], 'C': array([ 0.1 ,  0.19,  0.28,  0.37,  0.46,  0.55,  0.64,  0.73,  0.82,\n",
        "        0.91,  1.  ]), 'intercept_scaling': array([ 0.1 ,  0.19,  0.28,  0.37,  0.46,  0.55,  0.64,  0.73,  0.82,\n",
        "        0.91,  1.  ]), 'tol': [0.0001, 1e-05], 'fit_intercept': [True]}\n",
        "Fitting 3 folds for each of 14 candidates, totalling 42 fits\n"
       ]
      },
      {
       "output_type": "stream",
       "stream": "stderr",
       "text": [
        "[Parallel(n_jobs=-1)]: Done   1 jobs       | elapsed:    0.0s\n",
        "[Parallel(n_jobs=-1)]: Done  36 out of  42 | elapsed:    0.1s remaining:    0.0s\n",
        "[Parallel(n_jobs=-1)]: Done  42 out of  42 | elapsed:    0.1s finished\n"
       ]
      },
      {
       "output_type": "stream",
       "stream": "stdout",
       "text": [
        "\n",
        "### Optimal parameters: ###\n",
        "{'C': 0.19,\n",
        " 'fit_intercept': True,\n",
        " 'intercept_scaling': 0.19,\n",
        " 'penalty': 'l2',\n",
        " 'tol': 0.0001}\n",
        "####################### \n",
        "\n",
        "Using N_iter = 14\n",
        "Simulation with num_features= 6\n",
        "max_features= {'penalty': ['l1', 'l2'], 'C': array([ 0.1 ,  0.19,  0.28,  0.37,  0.46,  0.55,  0.64,  0.73,  0.82,\n",
        "        0.91,  1.  ]), 'intercept_scaling': array([ 0.1 ,  0.19,  0.28,  0.37,  0.46,  0.55,  0.64,  0.73,  0.82,\n",
        "        0.91,  1.  ]), 'tol': [0.0001, 1e-05], 'fit_intercept': [True]}\n",
        "Fitting 3 folds for each of 14 candidates, totalling 42 fits\n"
       ]
      },
      {
       "output_type": "stream",
       "stream": "stderr",
       "text": [
        "[Parallel(n_jobs=-1)]: Done   1 jobs       | elapsed:    0.0s\n",
        "[Parallel(n_jobs=-1)]: Done  36 out of  42 | elapsed:    0.1s remaining:    0.0s\n",
        "[Parallel(n_jobs=-1)]: Done  42 out of  42 | elapsed:    0.1s finished\n"
       ]
      },
      {
       "output_type": "stream",
       "stream": "stdout",
       "text": [
        "\n",
        "### Optimal parameters: ###\n",
        "{'C': 0.45999999999999996,\n",
        " 'fit_intercept': True,\n",
        " 'intercept_scaling': 0.54999999999999993,\n",
        " 'penalty': 'l1',\n",
        " 'tol': 0.0001}\n",
        "####################### \n",
        "\n",
        "Using N_iter = 14\n",
        "Simulation with num_features= 6\n",
        "max_features= {'penalty': ['l1', 'l2'], 'C': array([ 0.1 ,  0.19,  0.28,  0.37,  0.46,  0.55,  0.64,  0.73,  0.82,\n",
        "        0.91,  1.  ]), 'intercept_scaling': array([ 0.1 ,  0.19,  0.28,  0.37,  0.46,  0.55,  0.64,  0.73,  0.82,\n",
        "        0.91,  1.  ]), 'tol': [0.0001, 1e-05], 'fit_intercept': [True]}\n",
        "Fitting 3 folds for each of 14 candidates, totalling 42 fits\n"
       ]
      },
      {
       "output_type": "stream",
       "stream": "stderr",
       "text": [
        "[Parallel(n_jobs=-1)]: Done   1 jobs       | elapsed:    0.0s\n",
        "[Parallel(n_jobs=-1)]: Done  36 out of  42 | elapsed:    0.1s remaining:    0.0s\n",
        "[Parallel(n_jobs=-1)]: Done  42 out of  42 | elapsed:    0.1s finished\n"
       ]
      },
      {
       "output_type": "stream",
       "stream": "stdout",
       "text": [
        "\n",
        "### Optimal parameters: ###\n",
        "{'C': 0.28000000000000003,\n",
        " 'fit_intercept': True,\n",
        " 'intercept_scaling': 0.28000000000000003,\n",
        " 'penalty': 'l1',\n",
        " 'tol': 1e-05}\n",
        "####################### \n",
        "\n",
        "True\n",
        "[[0, 0, [mean: 0.75528, std: 0.03725, params: {'penalty': 'l1', 'C': 0.72999999999999998, 'intercept_scaling': 0.19, 'tol': 0.0001, 'fit_intercept': True}, mean: 0.75589, std: 0.03705, params: {'penalty': 'l1', 'C': 0.45999999999999996, 'intercept_scaling': 0.10000000000000001, 'tol': 1e-05, 'fit_intercept': True}, mean: 0.75542, std: 0.03772, params: {'penalty': 'l1', 'C': 0.37, 'intercept_scaling': 0.37, 'tol': 1e-05, 'fit_intercept': True}, mean: 0.75501, std: 0.03767, params: {'penalty': 'l1', 'C': 0.72999999999999998, 'intercept_scaling': 0.81999999999999995, 'tol': 1e-05, 'fit_intercept': True}, mean: 0.75549, std: 0.03664, params: {'penalty': 'l2', 'C': 0.45999999999999996, 'intercept_scaling': 0.10000000000000001, 'tol': 1e-05, 'fit_intercept': True}, mean: 0.75489, std: 0.03741, params: {'penalty': 'l2', 'C': 0.81999999999999995, 'intercept_scaling': 0.64000000000000001, 'tol': 0.0001, 'fit_intercept': True}, mean: 0.75554, std: 0.03744, params: {'penalty': 'l1', 'C': 0.54999999999999993, 'intercept_scaling': 0.19, 'tol': 1e-05, 'fit_intercept': True}, mean: 0.75527, std: 0.03792, params: {'penalty': 'l1', 'C': 0.45999999999999996, 'intercept_scaling': 0.81999999999999995, 'tol': 0.0001, 'fit_intercept': True}, mean: 0.75488, std: 0.03746, params: {'penalty': 'l2', 'C': 0.81999999999999995, 'intercept_scaling': 0.81999999999999995, 'tol': 0.0001, 'fit_intercept': True}, mean: 0.75517, std: 0.03703, params: {'penalty': 'l1', 'C': 1.0, 'intercept_scaling': 0.19, 'tol': 0.0001, 'fit_intercept': True}, mean: 0.75511, std: 0.03724, params: {'penalty': 'l1', 'C': 0.90999999999999992, 'intercept_scaling': 0.28000000000000003, 'tol': 1e-05, 'fit_intercept': True}, mean: 0.75513, std: 0.03770, params: {'penalty': 'l1', 'C': 0.64000000000000001, 'intercept_scaling': 0.72999999999999998, 'tol': 1e-05, 'fit_intercept': True}, mean: 0.75491, std: 0.03754, params: {'penalty': 'l1', 'C': 1.0, 'intercept_scaling': 0.81999999999999995, 'tol': 0.0001, 'fit_intercept': True}, mean: 0.75506, std: 0.03738, params: {'penalty': 'l2', 'C': 0.37, 'intercept_scaling': 0.45999999999999996, 'tol': 1e-05, 'fit_intercept': True}]], [0, 1, [mean: 0.75110, std: 0.02854, params: {'penalty': 'l2', 'C': 0.81999999999999995, 'intercept_scaling': 0.81999999999999995, 'tol': 0.0001, 'fit_intercept': True}, mean: 0.75118, std: 0.02855, params: {'penalty': 'l2', 'C': 0.45999999999999996, 'intercept_scaling': 0.45999999999999996, 'tol': 1e-05, 'fit_intercept': True}, mean: 0.75208, std: 0.02757, params: {'penalty': 'l1', 'C': 0.45999999999999996, 'intercept_scaling': 0.19, 'tol': 0.0001, 'fit_intercept': True}, mean: 0.75111, std: 0.02844, params: {'penalty': 'l1', 'C': 0.54999999999999993, 'intercept_scaling': 0.90999999999999992, 'tol': 0.0001, 'fit_intercept': True}, mean: 0.75100, std: 0.02865, params: {'penalty': 'l2', 'C': 0.28000000000000003, 'intercept_scaling': 0.54999999999999993, 'tol': 0.0001, 'fit_intercept': True}, mean: 0.75116, std: 0.02852, params: {'penalty': 'l1', 'C': 0.64000000000000001, 'intercept_scaling': 0.90999999999999992, 'tol': 1e-05, 'fit_intercept': True}, mean: 0.75151, std: 0.02831, params: {'penalty': 'l1', 'C': 0.45999999999999996, 'intercept_scaling': 0.45999999999999996, 'tol': 1e-05, 'fit_intercept': True}, mean: 0.75104, std: 0.02903, params: {'penalty': 'l1', 'C': 0.10000000000000001, 'intercept_scaling': 0.28000000000000003, 'tol': 0.0001, 'fit_intercept': True}, mean: 0.75163, std: 0.02813, params: {'penalty': 'l1', 'C': 0.90999999999999992, 'intercept_scaling': 0.28000000000000003, 'tol': 1e-05, 'fit_intercept': True}, mean: 0.75146, std: 0.02830, params: {'penalty': 'l1', 'C': 0.72999999999999998, 'intercept_scaling': 0.37, 'tol': 1e-05, 'fit_intercept': True}, mean: 0.75141, std: 0.02825, params: {'penalty': 'l2', 'C': 0.28000000000000003, 'intercept_scaling': 0.28000000000000003, 'tol': 1e-05, 'fit_intercept': True}, mean: 0.75084, std: 0.02896, params: {'penalty': 'l2', 'C': 0.19, 'intercept_scaling': 1.0, 'tol': 1e-05, 'fit_intercept': True}, mean: 0.75108, std: 0.02898, params: {'penalty': 'l2', 'C': 0.10000000000000001, 'intercept_scaling': 0.54999999999999993, 'tol': 1e-05, 'fit_intercept': True}, mean: 0.75111, std: 0.02852, params: {'penalty': 'l1', 'C': 0.45999999999999996, 'intercept_scaling': 1.0, 'tol': 1e-05, 'fit_intercept': True}]], [0, 2, [mean: 0.75121, std: 0.02816, params: {'penalty': 'l2', 'C': 0.19, 'intercept_scaling': 0.45999999999999996, 'tol': 0.0001, 'fit_intercept': True}, mean: 0.75068, std: 0.02771, params: {'penalty': 'l2', 'C': 1.0, 'intercept_scaling': 0.64000000000000001, 'tol': 1e-05, 'fit_intercept': True}, mean: 0.75068, std: 0.02767, params: {'penalty': 'l2', 'C': 0.90999999999999992, 'intercept_scaling': 0.64000000000000001, 'tol': 0.0001, 'fit_intercept': True}, mean: 0.75114, std: 0.02858, params: {'penalty': 'l1', 'C': 0.28000000000000003, 'intercept_scaling': 0.72999999999999998, 'tol': 1e-05, 'fit_intercept': True}, mean: 0.75244, std: 0.02701, params: {'penalty': 'l1', 'C': 0.54999999999999993, 'intercept_scaling': 0.10000000000000001, 'tol': 0.0001, 'fit_intercept': True}, mean: 0.75093, std: 0.02819, params: {'penalty': 'l2', 'C': 0.37, 'intercept_scaling': 0.72999999999999998, 'tol': 0.0001, 'fit_intercept': True}, mean: 0.75090, std: 0.02753, params: {'penalty': 'l2', 'C': 0.90999999999999992, 'intercept_scaling': 0.28000000000000003, 'tol': 0.0001, 'fit_intercept': True}, mean: 0.75125, std: 0.02945, params: {'penalty': 'l1', 'C': 0.10000000000000001, 'intercept_scaling': 0.54999999999999993, 'tol': 1e-05, 'fit_intercept': True}, mean: 0.75151, std: 0.02747, params: {'penalty': 'l2', 'C': 0.64000000000000001, 'intercept_scaling': 0.19, 'tol': 0.0001, 'fit_intercept': True}, mean: 0.75163, std: 0.02745, params: {'penalty': 'l1', 'C': 0.90999999999999992, 'intercept_scaling': 0.19, 'tol': 1e-05, 'fit_intercept': True}, mean: 0.75092, std: 0.02786, params: {'penalty': 'l1', 'C': 0.72999999999999998, 'intercept_scaling': 0.90999999999999992, 'tol': 0.0001, 'fit_intercept': True}, mean: 0.75089, std: 0.02772, params: {'penalty': 'l2', 'C': 0.72999999999999998, 'intercept_scaling': 0.37, 'tol': 1e-05, 'fit_intercept': True}, mean: 0.75081, std: 0.02773, params: {'penalty': 'l1', 'C': 1.0, 'intercept_scaling': 0.90999999999999992, 'tol': 0.0001, 'fit_intercept': True}, mean: 0.75152, std: 0.02787, params: {'penalty': 'l1', 'C': 0.45999999999999996, 'intercept_scaling': 0.37, 'tol': 1e-05, 'fit_intercept': True}]], [0, 3, [mean: 0.75477, std: 0.03022, params: {'penalty': 'l1', 'C': 1.0, 'intercept_scaling': 0.81999999999999995, 'tol': 0.0001, 'fit_intercept': True}, mean: 0.75460, std: 0.03022, params: {'penalty': 'l2', 'C': 0.90999999999999992, 'intercept_scaling': 1.0, 'tol': 1e-05, 'fit_intercept': True}, mean: 0.75516, std: 0.03068, params: {'penalty': 'l1', 'C': 0.28000000000000003, 'intercept_scaling': 1.0, 'tol': 1e-05, 'fit_intercept': True}, mean: 0.75563, std: 0.03006, params: {'penalty': 'l1', 'C': 0.37, 'intercept_scaling': 0.19, 'tol': 1e-05, 'fit_intercept': True}, mean: 0.75485, std: 0.03022, params: {'penalty': 'l1', 'C': 0.90999999999999992, 'intercept_scaling': 0.90999999999999992, 'tol': 0.0001, 'fit_intercept': True}, mean: 0.75498, std: 0.03043, params: {'penalty': 'l1', 'C': 0.10000000000000001, 'intercept_scaling': 0.45999999999999996, 'tol': 0.0001, 'fit_intercept': True}, mean: 0.75481, std: 0.03014, params: {'penalty': 'l2', 'C': 0.54999999999999993, 'intercept_scaling': 0.45999999999999996, 'tol': 1e-05, 'fit_intercept': True}, mean: 0.75481, std: 0.03042, params: {'penalty': 'l2', 'C': 0.28000000000000003, 'intercept_scaling': 0.81999999999999995, 'tol': 1e-05, 'fit_intercept': True}, mean: 0.75544, std: 0.03032, params: {'penalty': 'l1', 'C': 0.37, 'intercept_scaling': 0.28000000000000003, 'tol': 0.0001, 'fit_intercept': True}, mean: 0.75490, std: 0.03027, params: {'penalty': 'l1', 'C': 0.81999999999999995, 'intercept_scaling': 1.0, 'tol': 1e-05, 'fit_intercept': True}, mean: 0.75460, std: 0.03022, params: {'penalty': 'l2', 'C': 0.90999999999999992, 'intercept_scaling': 1.0, 'tol': 1e-05, 'fit_intercept': True}, mean: 0.75463, std: 0.03019, params: {'penalty': 'l2', 'C': 0.90999999999999992, 'intercept_scaling': 0.90999999999999992, 'tol': 1e-05, 'fit_intercept': True}, mean: 0.75509, std: 0.03034, params: {'penalty': 'l1', 'C': 0.45999999999999996, 'intercept_scaling': 0.64000000000000001, 'tol': 0.0001, 'fit_intercept': True}, mean: 0.75498, std: 0.03024, params: {'penalty': 'l2', 'C': 0.28000000000000003, 'intercept_scaling': 0.45999999999999996, 'tol': 1e-05, 'fit_intercept': True}]], [0, 4, [mean: 0.74860, std: 0.03576, params: {'penalty': 'l1', 'C': 0.37, 'intercept_scaling': 0.19, 'tol': 0.0001, 'fit_intercept': True}, mean: 0.74736, std: 0.03723, params: {'penalty': 'l2', 'C': 1.0, 'intercept_scaling': 0.45999999999999996, 'tol': 0.0001, 'fit_intercept': True}, mean: 0.74770, std: 0.03705, params: {'penalty': 'l1', 'C': 0.45999999999999996, 'intercept_scaling': 0.45999999999999996, 'tol': 0.0001, 'fit_intercept': True}, mean: 0.74727, std: 0.03745, params: {'penalty': 'l2', 'C': 0.28000000000000003, 'intercept_scaling': 0.90999999999999992, 'tol': 0.0001, 'fit_intercept': True}, mean: 0.74758, std: 0.03757, params: {'penalty': 'l1', 'C': 0.10000000000000001, 'intercept_scaling': 1.0, 'tol': 0.0001, 'fit_intercept': True}, mean: 0.74828, std: 0.03622, params: {'penalty': 'l1', 'C': 0.19, 'intercept_scaling': 0.37, 'tol': 1e-05, 'fit_intercept': True}, mean: 0.74742, std: 0.03720, params: {'penalty': 'l1', 'C': 0.90999999999999992, 'intercept_scaling': 0.64000000000000001, 'tol': 0.0001, 'fit_intercept': True}, mean: 0.74759, std: 0.03700, params: {'penalty': 'l1', 'C': 1.0, 'intercept_scaling': 0.28000000000000003, 'tol': 1e-05, 'fit_intercept': True}, mean: 0.74744, std: 0.03716, params: {'penalty': 'l1', 'C': 0.81999999999999995, 'intercept_scaling': 0.54999999999999993, 'tol': 1e-05, 'fit_intercept': True}, mean: 0.74744, std: 0.03716, params: {'penalty': 'l1', 'C': 0.81999999999999995, 'intercept_scaling': 0.54999999999999993, 'tol': 1e-05, 'fit_intercept': True}, mean: 0.74792, std: 0.03678, params: {'penalty': 'l1', 'C': 0.54999999999999993, 'intercept_scaling': 0.28000000000000003, 'tol': 0.0001, 'fit_intercept': True}, mean: 0.74783, std: 0.03680, params: {'penalty': 'l2', 'C': 0.72999999999999998, 'intercept_scaling': 0.19, 'tol': 0.0001, 'fit_intercept': True}, mean: 0.74803, std: 0.03645, params: {'penalty': 'l2', 'C': 0.28000000000000003, 'intercept_scaling': 0.19, 'tol': 1e-05, 'fit_intercept': True}, mean: 0.74738, std: 0.03724, params: {'penalty': 'l1', 'C': 0.90999999999999992, 'intercept_scaling': 0.81999999999999995, 'tol': 0.0001, 'fit_intercept': True}]], [0, 5, [mean: 0.75847, std: 0.03851, params: {'penalty': 'l1', 'C': 0.28000000000000003, 'intercept_scaling': 0.90999999999999992, 'tol': 0.0001, 'fit_intercept': True}, mean: 0.75800, std: 0.03775, params: {'penalty': 'l2', 'C': 0.28000000000000003, 'intercept_scaling': 0.28000000000000003, 'tol': 0.0001, 'fit_intercept': True}, mean: 0.75840, std: 0.03825, params: {'penalty': 'l1', 'C': 0.37, 'intercept_scaling': 0.72999999999999998, 'tol': 0.0001, 'fit_intercept': True}, mean: 0.75760, std: 0.03791, params: {'penalty': 'l2', 'C': 0.45999999999999996, 'intercept_scaling': 0.54999999999999993, 'tol': 0.0001, 'fit_intercept': True}, mean: 0.75777, std: 0.03786, params: {'penalty': 'l1', 'C': 0.90999999999999992, 'intercept_scaling': 0.37, 'tol': 1e-05, 'fit_intercept': True}, mean: 0.75771, std: 0.03760, params: {'penalty': 'l2', 'C': 1.0, 'intercept_scaling': 0.28000000000000003, 'tol': 1e-05, 'fit_intercept': True}, mean: 0.75828, std: 0.03787, params: {'penalty': 'l1', 'C': 0.45999999999999996, 'intercept_scaling': 0.37, 'tol': 0.0001, 'fit_intercept': True}, mean: 0.75813, std: 0.03836, params: {'penalty': 'l1', 'C': 0.10000000000000001, 'intercept_scaling': 0.28000000000000003, 'tol': 1e-05, 'fit_intercept': True}, mean: 0.75778, std: 0.03804, params: {'penalty': 'l1', 'C': 0.72999999999999998, 'intercept_scaling': 0.45999999999999996, 'tol': 0.0001, 'fit_intercept': True}, mean: 0.75778, std: 0.03827, params: {'penalty': 'l2', 'C': 0.19, 'intercept_scaling': 0.90999999999999992, 'tol': 1e-05, 'fit_intercept': True}, mean: 0.75784, std: 0.03821, params: {'penalty': 'l2', 'C': 0.19, 'intercept_scaling': 0.64000000000000001, 'tol': 0.0001, 'fit_intercept': True}, mean: 0.75754, std: 0.03811, params: {'penalty': 'l2', 'C': 0.45999999999999996, 'intercept_scaling': 0.81999999999999995, 'tol': 0.0001, 'fit_intercept': True}, mean: 0.75928, std: 0.03768, params: {'penalty': 'l1', 'C': 0.19, 'intercept_scaling': 0.10000000000000001, 'tol': 0.0001, 'fit_intercept': True}, mean: 0.75761, std: 0.03786, params: {'penalty': 'l2', 'C': 0.64000000000000001, 'intercept_scaling': 0.64000000000000001, 'tol': 0.0001, 'fit_intercept': True}]], [0, 6, [mean: 0.75863, std: 0.03029, params: {'penalty': 'l2', 'C': 0.19, 'intercept_scaling': 0.37, 'tol': 1e-05, 'fit_intercept': True}, mean: 0.75845, std: 0.03028, params: {'penalty': 'l2', 'C': 0.45999999999999996, 'intercept_scaling': 0.37, 'tol': 1e-05, 'fit_intercept': True}, mean: 0.75845, std: 0.03069, params: {'penalty': 'l1', 'C': 0.45999999999999996, 'intercept_scaling': 1.0, 'tol': 1e-05, 'fit_intercept': True}, mean: 0.75837, std: 0.03049, params: {'penalty': 'l1', 'C': 0.90999999999999992, 'intercept_scaling': 0.72999999999999998, 'tol': 1e-05, 'fit_intercept': True}, mean: 0.75821, std: 0.03061, params: {'penalty': 'l2', 'C': 0.45999999999999996, 'intercept_scaling': 0.72999999999999998, 'tol': 0.0001, 'fit_intercept': True}, mean: 0.75836, std: 0.03044, params: {'penalty': 'l1', 'C': 0.81999999999999995, 'intercept_scaling': 1.0, 'tol': 1e-05, 'fit_intercept': True}, mean: 0.75838, std: 0.03034, params: {'penalty': 'l1', 'C': 0.72999999999999998, 'intercept_scaling': 0.72999999999999998, 'tol': 0.0001, 'fit_intercept': True}, mean: 0.75843, std: 0.03026, params: {'penalty': 'l2', 'C': 0.72999999999999998, 'intercept_scaling': 0.37, 'tol': 0.0001, 'fit_intercept': True}, mean: 0.75852, std: 0.03031, params: {'penalty': 'l1', 'C': 0.81999999999999995, 'intercept_scaling': 0.45999999999999996, 'tol': 0.0001, 'fit_intercept': True}, mean: 0.75840, std: 0.03053, params: {'penalty': 'l1', 'C': 0.54999999999999993, 'intercept_scaling': 0.81999999999999995, 'tol': 0.0001, 'fit_intercept': True}, mean: 0.75853, std: 0.03018, params: {'penalty': 'l2', 'C': 1.0, 'intercept_scaling': 0.28000000000000003, 'tol': 0.0001, 'fit_intercept': True}, mean: 0.75949, std: 0.02992, params: {'penalty': 'l2', 'C': 0.10000000000000001, 'intercept_scaling': 0.19, 'tol': 0.0001, 'fit_intercept': True}, mean: 0.75899, std: 0.03032, params: {'penalty': 'l2', 'C': 0.10000000000000001, 'intercept_scaling': 0.28000000000000003, 'tol': 1e-05, 'fit_intercept': True}, mean: 0.75913, std: 0.03032, params: {'penalty': 'l1', 'C': 0.37, 'intercept_scaling': 0.37, 'tol': 1e-05, 'fit_intercept': True}]], [0, 7, [mean: 0.75807, std: 0.03322, params: {'penalty': 'l1', 'C': 0.90999999999999992, 'intercept_scaling': 0.37, 'tol': 0.0001, 'fit_intercept': True}, mean: 0.75795, std: 0.03354, params: {'penalty': 'l2', 'C': 0.81999999999999995, 'intercept_scaling': 0.45999999999999996, 'tol': 0.0001, 'fit_intercept': True}, mean: 0.75877, std: 0.03491, params: {'penalty': 'l1', 'C': 0.19, 'intercept_scaling': 1.0, 'tol': 0.0001, 'fit_intercept': True}, mean: 0.75796, std: 0.03349, params: {'penalty': 'l1', 'C': 1.0, 'intercept_scaling': 0.54999999999999993, 'tol': 1e-05, 'fit_intercept': True}, mean: 0.75834, std: 0.03295, params: {'penalty': 'l1', 'C': 0.81999999999999995, 'intercept_scaling': 0.19, 'tol': 1e-05, 'fit_intercept': True}, mean: 0.75782, std: 0.03354, params: {'penalty': 'l1', 'C': 0.90999999999999992, 'intercept_scaling': 0.90999999999999992, 'tol': 1e-05, 'fit_intercept': True}, mean: 0.75836, std: 0.03333, params: {'penalty': 'l1', 'C': 0.72999999999999998, 'intercept_scaling': 0.28000000000000003, 'tol': 1e-05, 'fit_intercept': True}, mean: 0.75804, std: 0.03350, params: {'penalty': 'l2', 'C': 0.90999999999999992, 'intercept_scaling': 0.37, 'tol': 0.0001, 'fit_intercept': True}, mean: 0.75856, std: 0.03323, params: {'penalty': 'l2', 'C': 0.37, 'intercept_scaling': 0.28000000000000003, 'tol': 0.0001, 'fit_intercept': True}, mean: 0.75797, std: 0.03354, params: {'penalty': 'l2', 'C': 1.0, 'intercept_scaling': 0.37, 'tol': 1e-05, 'fit_intercept': True}, mean: 0.75810, std: 0.03403, params: {'penalty': 'l2', 'C': 0.28000000000000003, 'intercept_scaling': 0.72999999999999998, 'tol': 1e-05, 'fit_intercept': True}, mean: 0.75883, std: 0.03494, params: {'penalty': 'l1', 'C': 0.10000000000000001, 'intercept_scaling': 0.81999999999999995, 'tol': 1e-05, 'fit_intercept': True}, mean: 0.75779, std: 0.03370, params: {'penalty': 'l2', 'C': 0.81999999999999995, 'intercept_scaling': 0.90999999999999992, 'tol': 0.0001, 'fit_intercept': True}, mean: 0.75821, std: 0.03364, params: {'penalty': 'l1', 'C': 0.64000000000000001, 'intercept_scaling': 0.45999999999999996, 'tol': 1e-05, 'fit_intercept': True}]], [0, 8, [mean: 0.75252, std: 0.02920, params: {'penalty': 'l2', 'C': 0.10000000000000001, 'intercept_scaling': 0.54999999999999993, 'tol': 1e-05, 'fit_intercept': True}, mean: 0.77382, std: 0.00181, params: {'penalty': 'l1', 'C': 0.28000000000000003, 'intercept_scaling': 1.0, 'tol': 0.0001, 'fit_intercept': True}, mean: 0.75374, std: 0.02859, params: {'penalty': 'l2', 'C': 0.81999999999999995, 'intercept_scaling': 0.72999999999999998, 'tol': 1e-05, 'fit_intercept': True}, mean: 0.73076, std: 0.02749, params: {'penalty': 'l2', 'C': 0.81999999999999995, 'intercept_scaling': 0.72999999999999998, 'tol': 1e-05, 'fit_intercept': True}, mean: 0.75282, std: 0.02948, params: {'penalty': 'l1', 'C': 0.90999999999999992, 'intercept_scaling': 0.81999999999999995, 'tol': 1e-05, 'fit_intercept': True}, mean: 0.75243, std: 0.02962, params: {'penalty': 'l2', 'C': 0.72999999999999998, 'intercept_scaling': 0.90999999999999992, 'tol': 0.0001, 'fit_intercept': True}, mean: 0.75293, std: 0.02911, params: {'penalty': 'l1', 'C': 0.64000000000000001, 'intercept_scaling': 0.45999999999999996, 'tol': 1e-05, 'fit_intercept': True}, mean: 0.75293, std: 0.02931, params: {'penalty': 'l2', 'C': 0.64000000000000001, 'intercept_scaling': 0.28000000000000003, 'tol': 1e-05, 'fit_intercept': True}, mean: 0.75309, std: 0.02924, params: {'penalty': 'l1', 'C': 0.90999999999999992, 'intercept_scaling': 0.37, 'tol': 0.0001, 'fit_intercept': True}, mean: 0.75278, std: 0.02953, params: {'penalty': 'l1', 'C': 1.0, 'intercept_scaling': 0.72999999999999998, 'tol': 1e-05, 'fit_intercept': True}, mean: 0.75244, std: 0.02958, params: {'penalty': 'l2', 'C': 0.19, 'intercept_scaling': 0.72999999999999998, 'tol': 0.0001, 'fit_intercept': True}, mean: 0.75265, std: 0.02901, params: {'penalty': 'l1', 'C': 0.10000000000000001, 'intercept_scaling': 0.45999999999999996, 'tol': 0.0001, 'fit_intercept': True}, mean: 0.75266, std: 0.02960, params: {'penalty': 'l2', 'C': 0.64000000000000001, 'intercept_scaling': 0.45999999999999996, 'tol': 1e-05, 'fit_intercept': True}, mean: 0.75244, std: 0.02958, params: {'penalty': 'l2', 'C': 0.19, 'intercept_scaling': 0.72999999999999998, 'tol': 0.0001, 'fit_intercept': True}]], [0, 9, [mean: 0.75134, std: 0.04434, params: {'penalty': 'l2', 'C': 0.28000000000000003, 'intercept_scaling': 0.37, 'tol': 0.0001, 'fit_intercept': True}, mean: 0.75079, std: 0.04451, params: {'penalty': 'l2', 'C': 1.0, 'intercept_scaling': 0.54999999999999993, 'tol': 1e-05, 'fit_intercept': True}, mean: 0.75073, std: 0.04442, params: {'penalty': 'l1', 'C': 0.90999999999999992, 'intercept_scaling': 0.72999999999999998, 'tol': 1e-05, 'fit_intercept': True}, mean: 0.75067, std: 0.04446, params: {'penalty': 'l2', 'C': 0.37, 'intercept_scaling': 0.90999999999999992, 'tol': 1e-05, 'fit_intercept': True}, mean: 0.75085, std: 0.04435, params: {'penalty': 'l1', 'C': 0.81999999999999995, 'intercept_scaling': 0.72999999999999998, 'tol': 1e-05, 'fit_intercept': True}, mean: 0.75170, std: 0.04420, params: {'penalty': 'l1', 'C': 0.45999999999999996, 'intercept_scaling': 0.28000000000000003, 'tol': 0.0001, 'fit_intercept': True}, mean: 0.75092, std: 0.04441, params: {'penalty': 'l2', 'C': 1.0, 'intercept_scaling': 0.37, 'tol': 0.0001, 'fit_intercept': True}, mean: 0.75094, std: 0.04439, params: {'penalty': 'l2', 'C': 0.54999999999999993, 'intercept_scaling': 0.45999999999999996, 'tol': 0.0001, 'fit_intercept': True}, mean: 0.75162, std: 0.04431, params: {'penalty': 'l1', 'C': 0.64000000000000001, 'intercept_scaling': 0.28000000000000003, 'tol': 0.0001, 'fit_intercept': True}, mean: 0.75164, std: 0.04401, params: {'penalty': 'l2', 'C': 0.54999999999999993, 'intercept_scaling': 0.19, 'tol': 1e-05, 'fit_intercept': True}, mean: 0.75269, std: 0.04339, params: {'penalty': 'l2', 'C': 0.28000000000000003, 'intercept_scaling': 0.10000000000000001, 'tol': 1e-05, 'fit_intercept': True}, mean: 0.75094, std: 0.04424, params: {'penalty': 'l1', 'C': 0.72999999999999998, 'intercept_scaling': 0.54999999999999993, 'tol': 1e-05, 'fit_intercept': True}, mean: 0.75092, std: 0.04437, params: {'penalty': 'l1', 'C': 0.45999999999999996, 'intercept_scaling': 1.0, 'tol': 0.0001, 'fit_intercept': True}, mean: 0.75145, std: 0.04439, params: {'penalty': 'l1', 'C': 0.81999999999999995, 'intercept_scaling': 0.28000000000000003, 'tol': 1e-05, 'fit_intercept': True}]], [1, 0, [mean: 0.74939, std: 0.03642, params: {'penalty': 'l2', 'C': 0.45999999999999996, 'intercept_scaling': 0.28000000000000003, 'tol': 0.0001, 'fit_intercept': True}, mean: 0.74896, std: 0.03687, params: {'penalty': 'l2', 'C': 0.45999999999999996, 'intercept_scaling': 0.81999999999999995, 'tol': 0.0001, 'fit_intercept': True}, mean: 0.74918, std: 0.03662, params: {'penalty': 'l2', 'C': 0.37, 'intercept_scaling': 0.72999999999999998, 'tol': 0.0001, 'fit_intercept': True}, mean: 0.74908, std: 0.03682, params: {'penalty': 'l2', 'C': 0.37, 'intercept_scaling': 0.72999999999999998, 'tol': 0.0001, 'fit_intercept': True}, mean: 0.74872, std: 0.03681, params: {'penalty': 'l2', 'C': 0.54999999999999993, 'intercept_scaling': 1.0, 'tol': 0.0001, 'fit_intercept': True}, mean: 0.74922, std: 0.03664, params: {'penalty': 'l1', 'C': 0.81999999999999995, 'intercept_scaling': 0.45999999999999996, 'tol': 1e-05, 'fit_intercept': True}, mean: 0.74912, std: 0.03666, params: {'penalty': 'l1', 'C': 0.90999999999999992, 'intercept_scaling': 0.45999999999999996, 'tol': 1e-05, 'fit_intercept': True}, mean: 0.74904, std: 0.03670, params: {'penalty': 'l1', 'C': 0.64000000000000001, 'intercept_scaling': 0.90999999999999992, 'tol': 0.0001, 'fit_intercept': True}, mean: 0.74974, std: 0.03726, params: {'penalty': 'l2', 'C': 0.10000000000000001, 'intercept_scaling': 0.64000000000000001, 'tol': 1e-05, 'fit_intercept': True}, mean: 0.74874, std: 0.03678, params: {'penalty': 'l2', 'C': 0.64000000000000001, 'intercept_scaling': 1.0, 'tol': 1e-05, 'fit_intercept': True}, mean: 0.74965, std: 0.03668, params: {'penalty': 'l2', 'C': 0.28000000000000003, 'intercept_scaling': 0.37, 'tol': 1e-05, 'fit_intercept': True}, mean: 0.74992, std: 0.03668, params: {'penalty': 'l1', 'C': 0.10000000000000001, 'intercept_scaling': 0.10000000000000001, 'tol': 0.0001, 'fit_intercept': True}, mean: 0.74876, std: 0.03659, params: {'penalty': 'l2', 'C': 1.0, 'intercept_scaling': 0.45999999999999996, 'tol': 0.0001, 'fit_intercept': True}, mean: 0.75021, std: 0.03617, params: {'penalty': 'l1', 'C': 0.72999999999999998, 'intercept_scaling': 0.19, 'tol': 0.0001, 'fit_intercept': True}]], [1, 1, [mean: 0.75883, std: 0.03603, params: {'penalty': 'l2', 'C': 1.0, 'intercept_scaling': 1.0, 'tol': 0.0001, 'fit_intercept': True}, mean: 0.76077, std: 0.03720, params: {'penalty': 'l1', 'C': 0.19, 'intercept_scaling': 0.54999999999999993, 'tol': 0.0001, 'fit_intercept': True}, mean: 0.75953, std: 0.03534, params: {'penalty': 'l2', 'C': 0.64000000000000001, 'intercept_scaling': 0.19, 'tol': 1e-05, 'fit_intercept': True}, mean: 0.76007, std: 0.03557, params: {'penalty': 'l2', 'C': 0.37, 'intercept_scaling': 0.19, 'tol': 0.0001, 'fit_intercept': True}, mean: 0.75895, std: 0.03604, params: {'penalty': 'l2', 'C': 0.72999999999999998, 'intercept_scaling': 0.72999999999999998, 'tol': 0.0001, 'fit_intercept': True}, mean: 0.75895, std: 0.03604, params: {'penalty': 'l2', 'C': 0.72999999999999998, 'intercept_scaling': 0.72999999999999998, 'tol': 1e-05, 'fit_intercept': True}, mean: 0.75890, std: 0.03607, params: {'penalty': 'l2', 'C': 0.90999999999999992, 'intercept_scaling': 0.90999999999999992, 'tol': 0.0001, 'fit_intercept': True}, mean: 0.75900, std: 0.03564, params: {'penalty': 'l2', 'C': 1.0, 'intercept_scaling': 0.28000000000000003, 'tol': 1e-05, 'fit_intercept': True}, mean: 0.75964, std: 0.03614, params: {'penalty': 'l1', 'C': 0.54999999999999993, 'intercept_scaling': 0.45999999999999996, 'tol': 0.0001, 'fit_intercept': True}, mean: 0.75961, std: 0.03691, params: {'penalty': 'l2', 'C': 0.19, 'intercept_scaling': 1.0, 'tol': 1e-05, 'fit_intercept': True}, mean: 0.75912, std: 0.03610, params: {'penalty': 'l1', 'C': 0.90999999999999992, 'intercept_scaling': 0.81999999999999995, 'tol': 1e-05, 'fit_intercept': True}, mean: 0.75881, std: 0.03602, params: {'penalty': 'l2', 'C': 1.0, 'intercept_scaling': 0.90999999999999992, 'tol': 0.0001, 'fit_intercept': True}, mean: 0.75948, std: 0.03594, params: {'penalty': 'l1', 'C': 0.72999999999999998, 'intercept_scaling': 0.28000000000000003, 'tol': 0.0001, 'fit_intercept': True}, mean: 0.76062, std: 0.03667, params: {'penalty': 'l2', 'C': 0.10000000000000001, 'intercept_scaling': 0.28000000000000003, 'tol': 1e-05, 'fit_intercept': True}]], [1, 2, [mean: 0.74901, std: 0.03441, params: {'penalty': 'l2', 'C': 0.90999999999999992, 'intercept_scaling': 0.54999999999999993, 'tol': 1e-05, 'fit_intercept': True}, mean: 0.77182, std: 0.00426, params: {'penalty': 'l1', 'C': 0.19, 'intercept_scaling': 1.0, 'tol': 0.0001, 'fit_intercept': True}, mean: 0.72732, std: 0.03746, params: {'penalty': 'l1', 'C': 0.19, 'intercept_scaling': 1.0, 'tol': 0.0001, 'fit_intercept': True}, mean: 0.74898, std: 0.03447, params: {'penalty': 'l2', 'C': 0.64000000000000001, 'intercept_scaling': 0.81999999999999995, 'tol': 1e-05, 'fit_intercept': True}, mean: 0.74889, std: 0.03447, params: {'penalty': 'l2', 'C': 1.0, 'intercept_scaling': 0.90999999999999992, 'tol': 0.0001, 'fit_intercept': True}, mean: 0.75121, std: 0.03332, params: {'penalty': 'l1', 'C': 0.45999999999999996, 'intercept_scaling': 0.10000000000000001, 'tol': 0.0001, 'fit_intercept': True}, mean: 0.75008, std: 0.03396, params: {'penalty': 'l2', 'C': 0.37, 'intercept_scaling': 0.19, 'tol': 1e-05, 'fit_intercept': True}, mean: 0.74999, std: 0.03524, params: {'penalty': 'l1', 'C': 0.10000000000000001, 'intercept_scaling': 0.37, 'tol': 0.0001, 'fit_intercept': True}, mean: 0.74939, std: 0.03455, params: {'penalty': 'l1', 'C': 0.72999999999999998, 'intercept_scaling': 0.72999999999999998, 'tol': 1e-05, 'fit_intercept': True}, mean: 0.75053, std: 0.03416, params: {'penalty': 'l1', 'C': 0.19, 'intercept_scaling': 0.45999999999999996, 'tol': 0.0001, 'fit_intercept': True}, mean: 0.75088, std: 0.03325, params: {'penalty': 'l2', 'C': 0.19, 'intercept_scaling': 0.10000000000000001, 'tol': 1e-05, 'fit_intercept': True}, mean: 0.75062, std: 0.03371, params: {'penalty': 'l1', 'C': 1.0, 'intercept_scaling': 0.10000000000000001, 'tol': 0.0001, 'fit_intercept': True}, mean: 0.74906, std: 0.03448, params: {'penalty': 'l2', 'C': 0.81999999999999995, 'intercept_scaling': 0.54999999999999993, 'tol': 0.0001, 'fit_intercept': True}, mean: 0.74953, std: 0.03461, params: {'penalty': 'l1', 'C': 0.64000000000000001, 'intercept_scaling': 0.64000000000000001, 'tol': 1e-05, 'fit_intercept': True}]], [1, 3, [mean: 0.75283, std: 0.03133, params: {'penalty': 'l2', 'C': 0.81999999999999995, 'intercept_scaling': 0.10000000000000001, 'tol': 0.0001, 'fit_intercept': True}, mean: 0.75262, std: 0.03223, params: {'penalty': 'l1', 'C': 0.45999999999999996, 'intercept_scaling': 0.37, 'tol': 0.0001, 'fit_intercept': True}, mean: 0.75202, std: 0.03225, params: {'penalty': 'l2', 'C': 0.10000000000000001, 'intercept_scaling': 0.90999999999999992, 'tol': 1e-05, 'fit_intercept': True}, mean: 0.75298, std: 0.03171, params: {'penalty': 'l1', 'C': 0.45999999999999996, 'intercept_scaling': 0.10000000000000001, 'tol': 0.0001, 'fit_intercept': True}, mean: 0.75290, std: 0.03160, params: {'penalty': 'l1', 'C': 0.28000000000000003, 'intercept_scaling': 0.28000000000000003, 'tol': 0.0001, 'fit_intercept': True}, mean: 0.75238, std: 0.03187, params: {'penalty': 'l1', 'C': 0.72999999999999998, 'intercept_scaling': 0.72999999999999998, 'tol': 0.0001, 'fit_intercept': True}, mean: 0.75276, std: 0.03141, params: {'penalty': 'l2', 'C': 1.0, 'intercept_scaling': 0.10000000000000001, 'tol': 1e-05, 'fit_intercept': True}, mean: 0.75256, std: 0.03194, params: {'penalty': 'l1', 'C': 0.64000000000000001, 'intercept_scaling': 0.45999999999999996, 'tol': 0.0001, 'fit_intercept': True}, mean: 0.75279, std: 0.03151, params: {'penalty': 'l1', 'C': 0.64000000000000001, 'intercept_scaling': 0.19, 'tol': 1e-05, 'fit_intercept': True}, mean: 0.75214, std: 0.03232, params: {'penalty': 'l1', 'C': 0.10000000000000001, 'intercept_scaling': 0.45999999999999996, 'tol': 1e-05, 'fit_intercept': True}, mean: 0.75280, std: 0.03153, params: {'penalty': 'l1', 'C': 0.64000000000000001, 'intercept_scaling': 0.19, 'tol': 0.0001, 'fit_intercept': True}, mean: 0.75235, std: 0.03187, params: {'penalty': 'l2', 'C': 1.0, 'intercept_scaling': 0.54999999999999993, 'tol': 0.0001, 'fit_intercept': True}, mean: 0.75255, std: 0.03194, params: {'penalty': 'l1', 'C': 0.64000000000000001, 'intercept_scaling': 0.45999999999999996, 'tol': 1e-05, 'fit_intercept': True}, mean: 0.75252, std: 0.03190, params: {'penalty': 'l1', 'C': 0.64000000000000001, 'intercept_scaling': 0.54999999999999993, 'tol': 1e-05, 'fit_intercept': True}]], [1, 4, [mean: 0.75028, std: 0.03034, params: {'penalty': 'l2', 'C': 0.45999999999999996, 'intercept_scaling': 0.19, 'tol': 0.0001, 'fit_intercept': True}, mean: 0.75018, std: 0.03074, params: {'penalty': 'l2', 'C': 0.28000000000000003, 'intercept_scaling': 0.28000000000000003, 'tol': 0.0001, 'fit_intercept': True}, mean: 0.75012, std: 0.03112, params: {'penalty': 'l1', 'C': 0.45999999999999996, 'intercept_scaling': 0.81999999999999995, 'tol': 1e-05, 'fit_intercept': True}, mean: 0.74986, std: 0.03098, params: {'penalty': 'l2', 'C': 0.28000000000000003, 'intercept_scaling': 0.81999999999999995, 'tol': 0.0001, 'fit_intercept': True}, mean: 0.75091, std: 0.03089, params: {'penalty': 'l1', 'C': 0.45999999999999996, 'intercept_scaling': 0.37, 'tol': 1e-05, 'fit_intercept': True}, mean: 0.75020, std: 0.03192, params: {'penalty': 'l1', 'C': 0.10000000000000001, 'intercept_scaling': 0.37, 'tol': 0.0001, 'fit_intercept': True}, mean: 0.74962, std: 0.03087, params: {'penalty': 'l2', 'C': 0.90999999999999992, 'intercept_scaling': 0.81999999999999995, 'tol': 1e-05, 'fit_intercept': True}, mean: 0.75017, std: 0.03028, params: {'penalty': 'l2', 'C': 0.64000000000000001, 'intercept_scaling': 0.19, 'tol': 0.0001, 'fit_intercept': True}, mean: 0.74987, std: 0.03075, params: {'penalty': 'l1', 'C': 0.72999999999999998, 'intercept_scaling': 1.0, 'tol': 1e-05, 'fit_intercept': True}, mean: 0.74973, std: 0.03077, params: {'penalty': 'l2', 'C': 0.81999999999999995, 'intercept_scaling': 0.37, 'tol': 1e-05, 'fit_intercept': True}, mean: 0.74962, std: 0.03089, params: {'penalty': 'l2', 'C': 0.54999999999999993, 'intercept_scaling': 1.0, 'tol': 1e-05, 'fit_intercept': True}, mean: 0.74996, std: 0.03050, params: {'penalty': 'l2', 'C': 0.64000000000000001, 'intercept_scaling': 0.28000000000000003, 'tol': 1e-05, 'fit_intercept': True}, mean: 0.74992, std: 0.03081, params: {'penalty': 'l1', 'C': 0.72999999999999998, 'intercept_scaling': 0.72999999999999998, 'tol': 1e-05, 'fit_intercept': True}, mean: 0.75010, std: 0.03061, params: {'penalty': 'l2', 'C': 0.37, 'intercept_scaling': 0.28000000000000003, 'tol': 1e-05, 'fit_intercept': True}]], [1, 5, [mean: 0.75139, std: 0.02980, params: {'penalty': 'l2', 'C': 0.90999999999999992, 'intercept_scaling': 0.64000000000000001, 'tol': 0.0001, 'fit_intercept': True}, mean: 0.75310, std: 0.02834, params: {'penalty': 'l1', 'C': 0.54999999999999993, 'intercept_scaling': 0.10000000000000001, 'tol': 0.0001, 'fit_intercept': True}, mean: 0.75145, std: 0.02974, params: {'penalty': 'l2', 'C': 0.90999999999999992, 'intercept_scaling': 0.45999999999999996, 'tol': 1e-05, 'fit_intercept': True}, mean: 0.75255, std: 0.02898, params: {'penalty': 'l1', 'C': 0.19, 'intercept_scaling': 0.45999999999999996, 'tol': 0.0001, 'fit_intercept': True}, mean: 0.75160, std: 0.02985, params: {'penalty': 'l1', 'C': 0.64000000000000001, 'intercept_scaling': 0.72999999999999998, 'tol': 1e-05, 'fit_intercept': True}, mean: 0.75132, std: 0.02986, params: {'penalty': 'l2', 'C': 0.45999999999999996, 'intercept_scaling': 0.81999999999999995, 'tol': 1e-05, 'fit_intercept': True}, mean: 0.75261, std: 0.02885, params: {'penalty': 'l2', 'C': 0.19, 'intercept_scaling': 0.19, 'tol': 1e-05, 'fit_intercept': True}, mean: 0.75150, std: 0.02965, params: {'penalty': 'l2', 'C': 0.45999999999999996, 'intercept_scaling': 0.45999999999999996, 'tol': 0.0001, 'fit_intercept': True}, mean: 0.75142, std: 0.02974, params: {'penalty': 'l2', 'C': 0.90999999999999992, 'intercept_scaling': 0.81999999999999995, 'tol': 1e-05, 'fit_intercept': True}, mean: 0.75262, std: 0.02877, params: {'penalty': 'l1', 'C': 0.37, 'intercept_scaling': 0.19, 'tol': 1e-05, 'fit_intercept': True}, mean: 0.75174, std: 0.02982, params: {'penalty': 'l1', 'C': 0.10000000000000001, 'intercept_scaling': 0.10000000000000001, 'tol': 0.0001, 'fit_intercept': True}, mean: 0.75145, std: 0.02964, params: {'penalty': 'l2', 'C': 0.81999999999999995, 'intercept_scaling': 0.37, 'tol': 1e-05, 'fit_intercept': True}, mean: 0.75128, std: 0.02977, params: {'penalty': 'l2', 'C': 0.64000000000000001, 'intercept_scaling': 0.90999999999999992, 'tol': 1e-05, 'fit_intercept': True}, mean: 0.75173, std: 0.02981, params: {'penalty': 'l1', 'C': 0.10000000000000001, 'intercept_scaling': 0.37, 'tol': 1e-05, 'fit_intercept': True}]], [1, 6, [mean: 0.76288, std: 0.03861, params: {'penalty': 'l2', 'C': 0.45999999999999996, 'intercept_scaling': 0.37, 'tol': 1e-05, 'fit_intercept': True}, mean: 0.76313, std: 0.03774, params: {'penalty': 'l1', 'C': 0.54999999999999993, 'intercept_scaling': 0.19, 'tol': 1e-05, 'fit_intercept': True}, mean: 0.76378, std: 0.03720, params: {'penalty': 'l2', 'C': 0.28000000000000003, 'intercept_scaling': 0.10000000000000001, 'tol': 0.0001, 'fit_intercept': True}, mean: 0.76322, std: 0.03751, params: {'penalty': 'l1', 'C': 0.10000000000000001, 'intercept_scaling': 0.54999999999999993, 'tol': 1e-05, 'fit_intercept': True}, mean: 0.76270, std: 0.03858, params: {'penalty': 'l1', 'C': 0.72999999999999998, 'intercept_scaling': 0.37, 'tol': 1e-05, 'fit_intercept': True}, mean: 0.76239, std: 0.03842, params: {'penalty': 'l1', 'C': 0.45999999999999996, 'intercept_scaling': 0.72999999999999998, 'tol': 0.0001, 'fit_intercept': True}, mean: 0.76247, std: 0.03880, params: {'penalty': 'l1', 'C': 0.90999999999999992, 'intercept_scaling': 0.81999999999999995, 'tol': 0.0001, 'fit_intercept': True}, mean: 0.76247, std: 0.03901, params: {'penalty': 'l2', 'C': 0.54999999999999993, 'intercept_scaling': 0.90999999999999992, 'tol': 1e-05, 'fit_intercept': True}, mean: 0.76270, std: 0.03861, params: {'penalty': 'l2', 'C': 0.37, 'intercept_scaling': 0.45999999999999996, 'tol': 0.0001, 'fit_intercept': True}, mean: 0.76256, std: 0.03856, params: {'penalty': 'l1', 'C': 0.64000000000000001, 'intercept_scaling': 0.54999999999999993, 'tol': 0.0001, 'fit_intercept': True}, mean: 0.76366, std: 0.03778, params: {'penalty': 'l2', 'C': 0.90999999999999992, 'intercept_scaling': 0.10000000000000001, 'tol': 1e-05, 'fit_intercept': True}, mean: 0.76295, std: 0.03825, params: {'penalty': 'l1', 'C': 0.64000000000000001, 'intercept_scaling': 0.28000000000000003, 'tol': 1e-05, 'fit_intercept': True}, mean: 0.76277, std: 0.03823, params: {'penalty': 'l1', 'C': 0.54999999999999993, 'intercept_scaling': 0.37, 'tol': 0.0001, 'fit_intercept': True}, mean: 0.76253, std: 0.03913, params: {'penalty': 'l2', 'C': 0.72999999999999998, 'intercept_scaling': 0.81999999999999995, 'tol': 1e-05, 'fit_intercept': True}]], [1, 7, [mean: 0.75472, std: 0.03742, params: {'penalty': 'l1', 'C': 0.37, 'intercept_scaling': 0.37, 'tol': 1e-05, 'fit_intercept': True}, mean: 0.75473, std: 0.03742, params: {'penalty': 'l1', 'C': 0.37, 'intercept_scaling': 0.37, 'tol': 1e-05, 'fit_intercept': True}, mean: 0.75435, std: 0.03767, params: {'penalty': 'l1', 'C': 0.45999999999999996, 'intercept_scaling': 0.81999999999999995, 'tol': 1e-05, 'fit_intercept': True}, mean: 0.75508, std: 0.03710, params: {'penalty': 'l2', 'C': 0.19, 'intercept_scaling': 0.19, 'tol': 0.0001, 'fit_intercept': True}, mean: 0.75426, std: 0.03803, params: {'penalty': 'l2', 'C': 0.45999999999999996, 'intercept_scaling': 0.54999999999999993, 'tol': 0.0001, 'fit_intercept': True}, mean: 0.75430, std: 0.03808, params: {'penalty': 'l2', 'C': 0.28000000000000003, 'intercept_scaling': 0.72999999999999998, 'tol': 0.0001, 'fit_intercept': True}, mean: 0.75504, std: 0.03703, params: {'penalty': 'l1', 'C': 0.19, 'intercept_scaling': 0.28000000000000003, 'tol': 0.0001, 'fit_intercept': True}, mean: 0.75431, std: 0.03772, params: {'penalty': 'l1', 'C': 0.45999999999999996, 'intercept_scaling': 1.0, 'tol': 0.0001, 'fit_intercept': True}, mean: 0.75438, std: 0.03792, params: {'penalty': 'l2', 'C': 0.45999999999999996, 'intercept_scaling': 0.37, 'tol': 1e-05, 'fit_intercept': True}, mean: 0.75426, std: 0.03805, params: {'penalty': 'l2', 'C': 0.45999999999999996, 'intercept_scaling': 0.64000000000000001, 'tol': 0.0001, 'fit_intercept': True}, mean: 0.75447, std: 0.03791, params: {'penalty': 'l1', 'C': 0.90999999999999992, 'intercept_scaling': 0.37, 'tol': 1e-05, 'fit_intercept': True}, mean: 0.75425, std: 0.03819, params: {'penalty': 'l2', 'C': 0.28000000000000003, 'intercept_scaling': 1.0, 'tol': 1e-05, 'fit_intercept': True}, mean: 0.75435, std: 0.03789, params: {'penalty': 'l1', 'C': 0.64000000000000001, 'intercept_scaling': 0.81999999999999995, 'tol': 0.0001, 'fit_intercept': True}, mean: 0.75417, std: 0.03812, params: {'penalty': 'l2', 'C': 0.54999999999999993, 'intercept_scaling': 0.64000000000000001, 'tol': 1e-05, 'fit_intercept': True}]], [1, 8, [mean: 0.75959, std: 0.03238, params: {'penalty': 'l2', 'C': 0.64000000000000001, 'intercept_scaling': 0.72999999999999998, 'tol': 0.0001, 'fit_intercept': True}, mean: 0.75949, std: 0.03218, params: {'penalty': 'l2', 'C': 0.10000000000000001, 'intercept_scaling': 0.64000000000000001, 'tol': 1e-05, 'fit_intercept': True}, mean: 0.75403, std: 0.02772, params: {'penalty': 'l1', 'C': 0.45999999999999996, 'intercept_scaling': 0.54999999999999993, 'tol': 0.0001, 'fit_intercept': True}, mean: 0.76551, std: 0.03510, params: {'penalty': 'l1', 'C': 0.45999999999999996, 'intercept_scaling': 0.54999999999999993, 'tol': 0.0001, 'fit_intercept': True}, mean: 0.75966, std: 0.03209, params: {'penalty': 'l1', 'C': 0.28000000000000003, 'intercept_scaling': 0.72999999999999998, 'tol': 1e-05, 'fit_intercept': True}, mean: 0.76001, std: 0.03189, params: {'penalty': 'l1', 'C': 0.45999999999999996, 'intercept_scaling': 0.37, 'tol': 1e-05, 'fit_intercept': True}, mean: 0.75960, std: 0.03238, params: {'penalty': 'l2', 'C': 0.64000000000000001, 'intercept_scaling': 0.64000000000000001, 'tol': 0.0001, 'fit_intercept': True}, mean: 0.75937, std: 0.03189, params: {'penalty': 'l1', 'C': 0.10000000000000001, 'intercept_scaling': 0.28000000000000003, 'tol': 1e-05, 'fit_intercept': True}, mean: 0.76001, std: 0.03189, params: {'penalty': 'l1', 'C': 0.45999999999999996, 'intercept_scaling': 0.37, 'tol': 1e-05, 'fit_intercept': True}, mean: 0.75958, std: 0.03228, params: {'penalty': 'l1', 'C': 1.0, 'intercept_scaling': 0.28000000000000003, 'tol': 1e-05, 'fit_intercept': True}, mean: 0.75957, std: 0.03230, params: {'penalty': 'l1', 'C': 1.0, 'intercept_scaling': 0.45999999999999996, 'tol': 0.0001, 'fit_intercept': True}, mean: 0.75968, std: 0.03220, params: {'penalty': 'l2', 'C': 0.54999999999999993, 'intercept_scaling': 0.28000000000000003, 'tol': 0.0001, 'fit_intercept': True}, mean: 0.75955, std: 0.03233, params: {'penalty': 'l2', 'C': 0.81999999999999995, 'intercept_scaling': 0.72999999999999998, 'tol': 1e-05, 'fit_intercept': True}, mean: 0.75967, std: 0.03222, params: {'penalty': 'l1', 'C': 0.72999999999999998, 'intercept_scaling': 0.64000000000000001, 'tol': 0.0001, 'fit_intercept': True}]], [1, 9, [mean: 0.74675, std: 0.03120, params: {'penalty': 'l1', 'C': 0.81999999999999995, 'intercept_scaling': 0.72999999999999998, 'tol': 1e-05, 'fit_intercept': True}, mean: 0.74665, std: 0.03114, params: {'penalty': 'l2', 'C': 0.54999999999999993, 'intercept_scaling': 0.37, 'tol': 0.0001, 'fit_intercept': True}, mean: 0.74770, std: 0.03219, params: {'penalty': 'l1', 'C': 0.28000000000000003, 'intercept_scaling': 0.64000000000000001, 'tol': 0.0001, 'fit_intercept': True}, mean: 0.74638, std: 0.03122, params: {'penalty': 'l2', 'C': 0.45999999999999996, 'intercept_scaling': 1.0, 'tol': 0.0001, 'fit_intercept': True}, mean: 0.74711, std: 0.03217, params: {'penalty': 'l2', 'C': 0.10000000000000001, 'intercept_scaling': 0.81999999999999995, 'tol': 0.0001, 'fit_intercept': True}, mean: 0.74688, std: 0.03163, params: {'penalty': 'l2', 'C': 0.19, 'intercept_scaling': 0.54999999999999993, 'tol': 0.0001, 'fit_intercept': True}, mean: 0.74894, std: 0.03171, params: {'penalty': 'l1', 'C': 0.28000000000000003, 'intercept_scaling': 0.28000000000000003, 'tol': 1e-05, 'fit_intercept': True}, mean: 0.74763, std: 0.03326, params: {'penalty': 'l1', 'C': 0.10000000000000001, 'intercept_scaling': 0.81999999999999995, 'tol': 0.0001, 'fit_intercept': True}, mean: 0.74688, std: 0.03140, params: {'penalty': 'l1', 'C': 0.54999999999999993, 'intercept_scaling': 0.72999999999999998, 'tol': 0.0001, 'fit_intercept': True}, mean: 0.74754, std: 0.03334, params: {'penalty': 'l1', 'C': 0.10000000000000001, 'intercept_scaling': 0.90999999999999992, 'tol': 1e-05, 'fit_intercept': True}, mean: 0.74687, std: 0.03141, params: {'penalty': 'l1', 'C': 0.54999999999999993, 'intercept_scaling': 0.72999999999999998, 'tol': 1e-05, 'fit_intercept': True}, mean: 0.74656, std: 0.03115, params: {'penalty': 'l2', 'C': 0.54999999999999993, 'intercept_scaling': 0.45999999999999996, 'tol': 1e-05, 'fit_intercept': True}, mean: 0.74652, std: 0.03120, params: {'penalty': 'l2', 'C': 0.45999999999999996, 'intercept_scaling': 0.54999999999999993, 'tol': 1e-05, 'fit_intercept': True}, mean: 0.74715, std: 0.03109, params: {'penalty': 'l2', 'C': 0.37, 'intercept_scaling': 0.28000000000000003, 'tol': 1e-05, 'fit_intercept': True}]]]\n",
        "Saving output to file for LogisticRegression\n",
        "\n",
        "###### \\CV of testAlgo number 1 for LinearRegression\n",
        "###\n",
        "Using N_iter = 1\n",
        "Simulation with num_features= 6\n",
        "max_features= {'normalize': [True, False]}\n",
        "Fitting 3 folds for each of 1 candidates, totalling 3 fits\n"
       ]
      },
      {
       "output_type": "stream",
       "stream": "stdout",
       "text": [
        "\n",
        "### Optimal parameters: ###\n",
        "{'normalize': False}\n",
        "####################### \n",
        "\n",
        "Using N_iter = 1\n",
        "Simulation with num_features= 6\n",
        "max_features= {'normalize': [True, False]}\n",
        "Fitting 3 folds for each of 1 candidates, totalling 3 fits\n"
       ]
      },
      {
       "output_type": "stream",
       "stream": "stderr",
       "text": [
        "[Parallel(n_jobs=-1)]: Done   1 jobs       | elapsed:    0.0s\n",
        "[Parallel(n_jobs=-1)]: Done   3 out of   3 | elapsed:    0.0s finished\n"
       ]
      },
      {
       "output_type": "stream",
       "stream": "stdout",
       "text": [
        "\n",
        "### Optimal parameters: ###\n",
        "{'normalize': True}\n",
        "####################### \n",
        "\n",
        "Using N_iter = 1\n",
        "Simulation with num_features= 6\n",
        "max_features= {'normalize': [True, False]}\n",
        "Fitting 3 folds for each of 1 candidates, totalling 3 fits\n"
       ]
      },
      {
       "output_type": "stream",
       "stream": "stderr",
       "text": [
        "[Parallel(n_jobs=-1)]: Done   1 jobs       | elapsed:    0.0s\n",
        "[Parallel(n_jobs=-1)]: Done   3 out of   3 | elapsed:    0.0s finished\n"
       ]
      },
      {
       "output_type": "stream",
       "stream": "stdout",
       "text": [
        "\n",
        "### Optimal parameters: ###\n",
        "{'normalize': False}\n",
        "####################### \n",
        "\n",
        "Using N_iter = 1\n",
        "Simulation with num_features= 6\n",
        "max_features= {'normalize': [True, False]}\n",
        "Fitting 3 folds for each of 1 candidates, totalling 3 fits\n"
       ]
      },
      {
       "output_type": "stream",
       "stream": "stderr",
       "text": [
        "[Parallel(n_jobs=-1)]: Done   1 jobs       | elapsed:    0.0s\n",
        "[Parallel(n_jobs=-1)]: Done   3 out of   3 | elapsed:    0.0s finished\n"
       ]
      },
      {
       "output_type": "stream",
       "stream": "stdout",
       "text": [
        "\n",
        "### Optimal parameters: ###\n",
        "{'normalize': False}\n",
        "####################### \n",
        "\n",
        "Using N_iter = 1\n",
        "Simulation with num_features= 6\n",
        "max_features= {'normalize': [True, False]}\n",
        "Fitting 3 folds for each of 1 candidates, totalling 3 fits\n"
       ]
      },
      {
       "output_type": "stream",
       "stream": "stderr",
       "text": [
        "[Parallel(n_jobs=-1)]: Done   1 jobs       | elapsed:    0.0s\n",
        "[Parallel(n_jobs=-1)]: Done   3 out of   3 | elapsed:    0.0s finished\n"
       ]
      },
      {
       "output_type": "stream",
       "stream": "stdout",
       "text": [
        "\n",
        "### Optimal parameters: ###\n",
        "{'normalize': False}\n",
        "####################### \n",
        "\n",
        "Using N_iter = 1\n",
        "Simulation with num_features= 6\n",
        "max_features= {'normalize': [True, False]}\n",
        "Fitting 3 folds for each of 1 candidates, totalling 3 fits\n"
       ]
      },
      {
       "output_type": "stream",
       "stream": "stderr",
       "text": [
        "[Parallel(n_jobs=-1)]: Done   1 jobs       | elapsed:    0.0s\n",
        "[Parallel(n_jobs=-1)]: Done   3 out of   3 | elapsed:    0.0s finished\n"
       ]
      },
      {
       "output_type": "stream",
       "stream": "stdout",
       "text": [
        "\n",
        "### Optimal parameters: ###\n",
        "{'normalize': False}\n",
        "####################### \n",
        "\n",
        "Using N_iter = 1\n",
        "Simulation with num_features= 6\n",
        "max_features= {'normalize': [True, False]}\n",
        "Fitting 3 folds for each of 1 candidates, totalling 3 fits\n"
       ]
      },
      {
       "output_type": "stream",
       "stream": "stderr",
       "text": [
        "[Parallel(n_jobs=-1)]: Done   1 jobs       | elapsed:    0.0s\n",
        "[Parallel(n_jobs=-1)]: Done   3 out of   3 | elapsed:    0.0s finished\n"
       ]
      },
      {
       "output_type": "stream",
       "stream": "stdout",
       "text": [
        "\n",
        "### Optimal parameters: ###\n",
        "{'normalize': True}\n",
        "####################### \n",
        "\n",
        "Using N_iter = 1\n",
        "Simulation with num_features= 6\n",
        "max_features= {'normalize': [True, False]}\n",
        "Fitting 3 folds for each of 1 candidates, totalling 3 fits\n"
       ]
      },
      {
       "output_type": "stream",
       "stream": "stderr",
       "text": [
        "[Parallel(n_jobs=-1)]: Done   1 jobs       | elapsed:    0.0s\n",
        "[Parallel(n_jobs=-1)]: Done   3 out of   3 | elapsed:    0.0s finished\n"
       ]
      },
      {
       "output_type": "stream",
       "stream": "stdout",
       "text": [
        "\n",
        "### Optimal parameters: ###\n",
        "{'normalize': False}\n",
        "####################### \n",
        "\n",
        "Using N_iter = 1\n",
        "Simulation with num_features= 6\n",
        "max_features= {'normalize': [True, False]}\n",
        "Fitting 3 folds for each of 1 candidates, totalling 3 fits\n"
       ]
      },
      {
       "output_type": "stream",
       "stream": "stderr",
       "text": [
        "[Parallel(n_jobs=-1)]: Done   1 jobs       | elapsed:    0.0s\n",
        "[Parallel(n_jobs=-1)]: Done   3 out of   3 | elapsed:    0.0s finished\n"
       ]
      },
      {
       "output_type": "stream",
       "stream": "stdout",
       "text": [
        "\n",
        "### Optimal parameters: ###\n",
        "{'normalize': True}\n",
        "####################### \n",
        "\n",
        "Using N_iter = 1\n",
        "Simulation with num_features= 6\n",
        "max_features= {'normalize': [True, False]}\n",
        "Fitting 3 folds for each of 1 candidates, totalling 3 fits\n"
       ]
      },
      {
       "output_type": "stream",
       "stream": "stderr",
       "text": [
        "[Parallel(n_jobs=-1)]: Done   1 jobs       | elapsed:    0.0s\n",
        "[Parallel(n_jobs=-1)]: Done   3 out of   3 | elapsed:    0.0s finished\n"
       ]
      },
      {
       "output_type": "stream",
       "stream": "stdout",
       "text": [
        "\n",
        "### Optimal parameters: ###\n",
        "{'normalize': False}\n",
        "####################### \n",
        "\n",
        "\n",
        "###### \\CV of testAlgo number 2 for LinearRegression\n",
        "###\n",
        "Using N_iter = 1\n",
        "Simulation with num_features= 6\n",
        "max_features= {'normalize': [True, False]}\n",
        "Fitting 3 folds for each of 1 candidates, totalling 3 fits\n"
       ]
      },
      {
       "output_type": "stream",
       "stream": "stderr",
       "text": [
        "[Parallel(n_jobs=-1)]: Done   1 jobs       | elapsed:    0.0s\n",
        "[Parallel(n_jobs=-1)]: Done   3 out of   3 | elapsed:    0.0s finished\n"
       ]
      },
      {
       "output_type": "stream",
       "stream": "stdout",
       "text": [
        "\n",
        "### Optimal parameters: ###\n",
        "{'normalize': True}\n",
        "####################### \n",
        "\n",
        "Using N_iter = 1\n",
        "Simulation with num_features= 6\n",
        "max_features= {'normalize': [True, False]}\n",
        "Fitting 3 folds for each of 1 candidates, totalling 3 fits\n"
       ]
      },
      {
       "output_type": "stream",
       "stream": "stderr",
       "text": [
        "[Parallel(n_jobs=-1)]: Done   1 jobs       | elapsed:    0.0s\n",
        "[Parallel(n_jobs=-1)]: Done   3 out of   3 | elapsed:    0.0s finished\n"
       ]
      },
      {
       "output_type": "stream",
       "stream": "stdout",
       "text": [
        "\n",
        "### Optimal parameters: ###\n",
        "{'normalize': True}\n",
        "####################### \n",
        "\n",
        "Using N_iter = 1\n",
        "Simulation with num_features= 6\n",
        "max_features= {'normalize': [True, False]}\n",
        "Fitting 3 folds for each of 1 candidates, totalling 3 fits\n"
       ]
      },
      {
       "output_type": "stream",
       "stream": "stderr",
       "text": [
        "[Parallel(n_jobs=-1)]: Done   1 jobs       | elapsed:    0.0s\n",
        "[Parallel(n_jobs=-1)]: Done   3 out of   3 | elapsed:    0.0s finished\n"
       ]
      },
      {
       "output_type": "stream",
       "stream": "stdout",
       "text": [
        "\n",
        "### Optimal parameters: ###\n",
        "{'normalize': False}\n",
        "####################### \n",
        "\n",
        "Using N_iter = 1\n",
        "Simulation with num_features= 6\n",
        "max_features= {'normalize': [True, False]}\n",
        "Fitting 3 folds for each of 1 candidates, totalling 3 fits\n"
       ]
      },
      {
       "output_type": "stream",
       "stream": "stderr",
       "text": [
        "[Parallel(n_jobs=-1)]: Done   1 jobs       | elapsed:    0.0s\n",
        "[Parallel(n_jobs=-1)]: Done   3 out of   3 | elapsed:    0.0s finished\n"
       ]
      },
      {
       "output_type": "stream",
       "stream": "stdout",
       "text": [
        "\n",
        "### Optimal parameters: ###\n",
        "{'normalize': False}\n",
        "####################### \n",
        "\n",
        "Using N_iter = 1\n",
        "Simulation with num_features= 6\n",
        "max_features= {'normalize': [True, False]}\n",
        "Fitting 3 folds for each of 1 candidates, totalling 3 fits\n"
       ]
      },
      {
       "output_type": "stream",
       "stream": "stderr",
       "text": [
        "[Parallel(n_jobs=-1)]: Done   1 jobs       | elapsed:    0.0s\n",
        "[Parallel(n_jobs=-1)]: Done   3 out of   3 | elapsed:    0.0s finished\n"
       ]
      },
      {
       "output_type": "stream",
       "stream": "stdout",
       "text": [
        "\n",
        "### Optimal parameters: ###\n",
        "{'normalize': True}\n",
        "####################### \n",
        "\n",
        "Using N_iter = 1\n",
        "Simulation with num_features= 6\n",
        "max_features= {'normalize': [True, False]}\n",
        "Fitting 3 folds for each of 1 candidates, totalling 3 fits\n"
       ]
      },
      {
       "output_type": "stream",
       "stream": "stderr",
       "text": [
        "[Parallel(n_jobs=-1)]: Done   1 jobs       | elapsed:    0.0s\n",
        "[Parallel(n_jobs=-1)]: Done   3 out of   3 | elapsed:    0.0s finished\n"
       ]
      },
      {
       "output_type": "stream",
       "stream": "stdout",
       "text": [
        "\n",
        "### Optimal parameters: ###\n",
        "{'normalize': True}\n",
        "####################### \n",
        "\n",
        "Using N_iter = 1\n",
        "Simulation with num_features= 6\n",
        "max_features= {'normalize': [True, False]}\n",
        "Fitting 3 folds for each of 1 candidates, totalling 3 fits\n"
       ]
      },
      {
       "output_type": "stream",
       "stream": "stderr",
       "text": [
        "[Parallel(n_jobs=-1)]: Done   1 jobs       | elapsed:    0.0s\n",
        "[Parallel(n_jobs=-1)]: Done   3 out of   3 | elapsed:    0.0s finished\n"
       ]
      },
      {
       "output_type": "stream",
       "stream": "stdout",
       "text": [
        "\n",
        "### Optimal parameters: ###\n",
        "{'normalize': False}\n",
        "####################### \n",
        "\n",
        "Using N_iter = 1\n",
        "Simulation with num_features= 6\n",
        "max_features= {'normalize': [True, False]}\n",
        "Fitting 3 folds for each of 1 candidates, totalling 3 fits\n"
       ]
      },
      {
       "output_type": "stream",
       "stream": "stderr",
       "text": [
        "[Parallel(n_jobs=-1)]: Done   1 jobs       | elapsed:    0.0s\n",
        "[Parallel(n_jobs=-1)]: Done   3 out of   3 | elapsed:    0.0s finished\n"
       ]
      },
      {
       "output_type": "stream",
       "stream": "stdout",
       "text": [
        "\n",
        "### Optimal parameters: ###\n",
        "{'normalize': False}\n",
        "####################### \n",
        "\n",
        "Using N_iter = 1\n",
        "Simulation with num_features= 6\n",
        "max_features= {'normalize': [True, False]}\n",
        "Fitting 3 folds for each of 1 candidates, totalling 3 fits\n"
       ]
      },
      {
       "output_type": "stream",
       "stream": "stderr",
       "text": [
        "[Parallel(n_jobs=-1)]: Done   1 jobs       | elapsed:    0.0s\n",
        "[Parallel(n_jobs=-1)]: Done   3 out of   3 | elapsed:    0.0s finished\n"
       ]
      },
      {
       "output_type": "stream",
       "stream": "stdout",
       "text": [
        "\n",
        "### Optimal parameters: ###\n",
        "{'normalize': True}\n",
        "####################### \n",
        "\n",
        "Using N_iter = 1\n",
        "Simulation with num_features= 6\n",
        "max_features= {'normalize': [True, False]}\n",
        "Fitting 3 folds for each of 1 candidates, totalling 3 fits\n"
       ]
      },
      {
       "output_type": "stream",
       "stream": "stderr",
       "text": [
        "[Parallel(n_jobs=-1)]: Done   1 jobs       | elapsed:    0.0s\n",
        "[Parallel(n_jobs=-1)]: Done   3 out of   3 | elapsed:    0.0s finished\n"
       ]
      },
      {
       "output_type": "stream",
       "stream": "stdout",
       "text": [
        "\n",
        "### Optimal parameters: ###\n",
        "{'normalize': False}\n",
        "####################### \n",
        "\n",
        "True\n",
        "[[0, 0, [mean: 0.75050, std: 0.03353, params: {'normalize': False}]], [0, 1, [mean: 0.74993, std: 0.02734, params: {'normalize': True}]], [0, 2, [mean: 0.74863, std: 0.03259, params: {'normalize': False}]], [0, 3, [mean: 0.75059, std: 0.03379, params: {'normalize': False}]], [0, 4, [mean: 0.74196, std: 0.03509, params: {'normalize': False}]], [0, 5, [mean: 0.75425, std: 0.03663, params: {'normalize': False}]], [0, 6, [mean: 0.75587, std: 0.03401, params: {'normalize': True}]], [0, 7, [mean: 0.75376, std: 0.03723, params: {'normalize': False}]], [0, 8, [mean: 0.75073, std: 0.03250, params: {'normalize': True}]], [0, 9, [mean: 0.74963, std: 0.04001, params: {'normalize': False}]], [1, 0, [mean: 0.74714, std: 0.03522, params: {'normalize': True}]], [1, 1, [mean: 0.75776, std: 0.03671, params: {'normalize': True}]], [1, 2, [mean: 0.74780, std: 0.03564, params: {'normalize': False}]], [1, 3, [mean: 0.74826, std: 0.03566, params: {'normalize': False}]], [1, 4, [mean: 0.74532, std: 0.03156, params: {'normalize': True}]], [1, 5, [mean: 0.74928, std: 0.03030, params: {'normalize': True}]], [1, 6, [mean: 0.76008, std: 0.03559, params: {'normalize': False}]], [1, 7, [mean: 0.75097, std: 0.03704, params: {'normalize': False}]], [1, 8, [mean: 0.75413, std: 0.03773, params: {'normalize': True}]], [1, 9, [mean: 0.74585, std: 0.02756, params: {'normalize': False}]]]\n",
        "Saving output to file for LinearRegression\n",
        "\n",
        "###### \\CV of testAlgo number 1 for BayesMixed2\n",
        "###\n",
        "\n",
        "###### \\CV of testAlgo number 2 for BayesMixed2\n",
        "###"
       ]
      },
      {
       "output_type": "stream",
       "stream": "stdout",
       "text": [
        "\n",
        "True"
       ]
      },
      {
       "output_type": "stream",
       "stream": "stdout",
       "text": [
        "\n",
        "[[0, 0, []], [0, 1, []], [0, 2, []], [0, 3, []], [0, 4, []], [0, 5, []], [0, 6, []], [0, 7, []], [0, 8, []], [0, 9, []], [1, 0, []], [1, 1, []], [1, 2, []], [1, 3, []], [1, 4, []], [1, 5, []], [1, 6, []], [1, 7, []], [1, 8, []], [1, 9, []]]\n",
        "Saving output to file for BayesMixed2\n",
        "\n",
        "###### \\CV of testAlgo number 1 for BayesGaussian2\n",
        "###\n",
        "\n",
        "###### \\CV of testAlgo number 2 for BayesGaussian2\n",
        "###"
       ]
      },
      {
       "output_type": "stream",
       "stream": "stdout",
       "text": [
        "\n",
        "True"
       ]
      },
      {
       "output_type": "stream",
       "stream": "stdout",
       "text": [
        "\n",
        "[[0, 0, []], [0, 1, []], [0, 2, []], [0, 3, []], [0, 4, []], [0, 5, []], [0, 6, []], [0, 7, []], [0, 8, []], [0, 9, []], [1, 0, []], [1, 1, []], [1, 2, []], [1, 3, []], [1, 4, []], [1, 5, []], [1, 6, []], [1, 7, []], [1, 8, []], [1, 9, []]]\n",
        "Saving output to file for BayesGaussian2\n",
        "\n",
        "###### \\CV of testAlgo number 1 for BayesGaussian\n",
        "###\n",
        "\n",
        "###### \\CV of testAlgo number 2 for BayesGaussian\n",
        "###\n",
        "True\n",
        "[[0, 0, []], [0, 1, []], [0, 2, []], [0, 3, []], [0, 4, []], [0, 5, []], [0, 6, []], [0, 7, []], [0, 8, []], [0, 9, []], [1, 0, []], [1, 1, []], [1, 2, []], [1, 3, []], [1, 4, []], [1, 5, []], [1, 6, []], [1, 7, []], [1, 8, []], [1, 9, []]]\n",
        "Saving output to file for BayesGaussian\n",
        "\n",
        "###### \\CV of testAlgo number 1 for RandomForest\n",
        "###\n",
        "Using N_iter = 5\n",
        "Simulation with num_features= 6\n",
        "max_features= {'n_estimators': [50, 100, 200, 300], 'max_features': [2, 3, 4], 'bootstrap': [True, False], 'criterion': ['gini', 'entropy']}\n",
        "Fitting 3 folds for each of 5 candidates, totalling 15 fits\n"
       ]
      },
      {
       "output_type": "stream",
       "stream": "stderr",
       "text": [
        "[Parallel(n_jobs=-1)]: Done   1 jobs       | elapsed:    0.0s\n",
        "[Parallel(n_jobs=-1)]: Done   3 out of   3 | elapsed:    0.0s finished\n"
       ]
      },
      {
       "output_type": "stream",
       "stream": "stderr",
       "text": [
        "[Parallel(n_jobs=-1)]: Done   1 jobs       | elapsed:    2.0s\n",
        "[Parallel(n_jobs=-1)]: Done   9 out of  15 | elapsed:    3.8s remaining:    2.6s\n",
        "[Parallel(n_jobs=-1)]: Done  15 out of  15 | elapsed:    4.3s finished\n"
       ]
      },
      {
       "output_type": "stream",
       "stream": "stdout",
       "text": [
        "\n",
        "### Optimal parameters: ###\n",
        "{'bootstrap': True,\n",
        " 'criterion': 'gini',\n",
        " 'max_features': 2,\n",
        " 'n_estimators': 300}\n",
        "####################### \n",
        "\n",
        "Using N_iter = 5\n",
        "Simulation with num_features= 6\n",
        "max_features= {'n_estimators': [50, 100, 200, 300], 'max_features': [2, 3, 4], 'bootstrap': [True, False], 'criterion': ['gini', 'entropy']}\n",
        "Fitting 3 folds for each of 5 candidates, totalling 15 fits\n"
       ]
      },
      {
       "output_type": "stream",
       "stream": "stderr",
       "text": [
        "[Parallel(n_jobs=-1)]: Done   1 jobs       | elapsed:    0.4s\n",
        "[Parallel(n_jobs=-1)]: Done   9 out of  15 | elapsed:    3.5s remaining:    2.3s\n",
        "[Parallel(n_jobs=-1)]: Done  15 out of  15 | elapsed:    6.0s finished\n"
       ]
      },
      {
       "output_type": "stream",
       "stream": "stdout",
       "text": [
        "\n",
        "### Optimal parameters: ###\n",
        "{'bootstrap': True,\n",
        " 'criterion': 'entropy',\n",
        " 'max_features': 4,\n",
        " 'n_estimators': 50}\n",
        "####################### \n",
        "\n",
        "Using N_iter = 5\n",
        "Simulation with num_features= 6\n",
        "max_features= {'n_estimators': [50, 100, 200, 300], 'max_features': [2, 3, 4], 'bootstrap': [True, False], 'criterion': ['gini', 'entropy']}\n",
        "Fitting 3 folds for each of 5 candidates, totalling 15 fits\n"
       ]
      },
      {
       "output_type": "stream",
       "stream": "stderr",
       "text": [
        "[Parallel(n_jobs=-1)]: Done   1 jobs       | elapsed:    0.3s\n",
        "[Parallel(n_jobs=-1)]: Done   9 out of  15 | elapsed:    1.1s remaining:    0.7s\n",
        "[Parallel(n_jobs=-1)]: Done  15 out of  15 | elapsed:    3.6s finished\n"
       ]
      },
      {
       "output_type": "stream",
       "stream": "stdout",
       "text": [
        "\n",
        "### Optimal parameters: ###\n",
        "{'bootstrap': True,\n",
        " 'criterion': 'entropy',\n",
        " 'max_features': 4,\n",
        " 'n_estimators': 300}\n",
        "####################### \n",
        "\n",
        "Using N_iter = 5\n",
        "Simulation with num_features= 6\n",
        "max_features= {'n_estimators': [50, 100, 200, 300], 'max_features': [2, 3, 4], 'bootstrap': [True, False], 'criterion': ['gini', 'entropy']}\n",
        "Fitting 3 folds for each of 5 candidates, totalling 15 fits\n"
       ]
      },
      {
       "output_type": "stream",
       "stream": "stderr",
       "text": [
        "[Parallel(n_jobs=-1)]: Done   1 jobs       | elapsed:    0.5s\n",
        "[Parallel(n_jobs=-1)]: Done  15 out of  15 | elapsed:    3.3s finished\n"
       ]
      },
      {
       "output_type": "stream",
       "stream": "stdout",
       "text": [
        "\n",
        "### Optimal parameters: ###\n",
        "{'bootstrap': True,\n",
        " 'criterion': 'entropy',\n",
        " 'max_features': 2,\n",
        " 'n_estimators': 300}\n",
        "####################### \n",
        "\n",
        "Using N_iter = 5\n",
        "Simulation with num_features= 6\n",
        "max_features= {'n_estimators': [50, 100, 200, 300], 'max_features': [2, 3, 4], 'bootstrap': [True, False], 'criterion': ['gini', 'entropy']}\n",
        "Fitting 3 folds for each of 5 candidates, totalling 15 fits\n"
       ]
      },
      {
       "output_type": "stream",
       "stream": "stderr",
       "text": [
        "[Parallel(n_jobs=-1)]: Done   1 out of  15 | elapsed:    2.3s remaining:   32.3s\n",
        "[Parallel(n_jobs=-1)]: Done  15 out of  15 | elapsed:    4.1s finished\n"
       ]
      },
      {
       "output_type": "stream",
       "stream": "stdout",
       "text": [
        "\n",
        "### Optimal parameters: ###\n",
        "{'bootstrap': True,\n",
        " 'criterion': 'entropy',\n",
        " 'max_features': 3,\n",
        " 'n_estimators': 300}\n",
        "####################### \n",
        "\n",
        "Using N_iter = 5\n",
        "Simulation with num_features= 6\n",
        "max_features= {'n_estimators': [50, 100, 200, 300], 'max_features': [2, 3, 4], 'bootstrap': [True, False], 'criterion': ['gini', 'entropy']}\n",
        "Fitting 3 folds for each of 5 candidates, totalling 15 fits\n"
       ]
      },
      {
       "output_type": "stream",
       "stream": "stderr",
       "text": [
        "[Parallel(n_jobs=-1)]: Done   1 out of  15 | elapsed:    2.8s remaining:   39.0s\n",
        "[Parallel(n_jobs=-1)]: Done  15 out of  15 | elapsed:    5.4s finished\n"
       ]
      },
      {
       "output_type": "stream",
       "stream": "stdout",
       "text": [
        "\n",
        "### Optimal parameters: ###\n",
        "{'bootstrap': True,\n",
        " 'criterion': 'entropy',\n",
        " 'max_features': 4,\n",
        " 'n_estimators': 300}\n",
        "####################### \n",
        "\n",
        "Using N_iter = 5\n",
        "Simulation with num_features= 6\n",
        "max_features= {'n_estimators': [50, 100, 200, 300], 'max_features': [2, 3, 4], 'bootstrap': [True, False], 'criterion': ['gini', 'entropy']}\n",
        "Fitting 3 folds for each of 5 candidates, totalling 15 fits\n"
       ]
      },
      {
       "output_type": "stream",
       "stream": "stderr",
       "text": [
        "[Parallel(n_jobs=-1)]: Done   1 jobs       | elapsed:    3.6s\n",
        "[Parallel(n_jobs=-1)]: Done   9 out of  15 | elapsed:    4.0s remaining:    2.7s\n",
        "[Parallel(n_jobs=-1)]: Done  15 out of  15 | elapsed:    5.1s finished\n"
       ]
      },
      {
       "output_type": "stream",
       "stream": "stdout",
       "text": [
        "\n",
        "### Optimal parameters: ###\n",
        "{'bootstrap': True,\n",
        " 'criterion': 'gini',\n",
        " 'max_features': 4,\n",
        " 'n_estimators': 200}\n",
        "####################### \n",
        "\n",
        "Using N_iter = 5\n",
        "Simulation with num_features= 6\n",
        "max_features= {'n_estimators': [50, 100, 200, 300], 'max_features': [2, 3, 4], 'bootstrap': [True, False], 'criterion': ['gini', 'entropy']}\n",
        "Fitting 3 folds for each of 5 candidates, totalling 15 fits\n"
       ]
      },
      {
       "output_type": "stream",
       "stream": "stderr",
       "text": [
        "[Parallel(n_jobs=-1)]: Done   1 jobs       | elapsed:    1.0s\n",
        "[Parallel(n_jobs=-1)]: Done   9 out of  15 | elapsed:    2.6s remaining:    1.7s\n",
        "[Parallel(n_jobs=-1)]: Done  15 out of  15 | elapsed:    4.9s finished\n"
       ]
      },
      {
       "output_type": "stream",
       "stream": "stdout",
       "text": [
        "\n",
        "### Optimal parameters: ###\n",
        "{'bootstrap': True,\n",
        " 'criterion': 'gini',\n",
        " 'max_features': 2,\n",
        " 'n_estimators': 300}\n",
        "####################### \n",
        "\n",
        "Using N_iter = 5\n",
        "Simulation with num_features= 6\n",
        "max_features= {'n_estimators': [50, 100, 200, 300], 'max_features': [2, 3, 4], 'bootstrap': [True, False], 'criterion': ['gini', 'entropy']}\n",
        "Fitting 3 folds for each of 5 candidates, totalling 15 fits\n"
       ]
      },
      {
       "output_type": "stream",
       "stream": "stderr",
       "text": [
        "[Parallel(n_jobs=-1)]: Done   1 jobs       | elapsed:    1.8s\n",
        "[Parallel(n_jobs=-1)]: Done  15 out of  15 | elapsed:    6.2s finished\n"
       ]
      },
      {
       "output_type": "stream",
       "stream": "stdout",
       "text": [
        "\n",
        "### Optimal parameters: ###\n",
        "{'bootstrap': True,\n",
        " 'criterion': 'entropy',\n",
        " 'max_features': 3,\n",
        " 'n_estimators': 300}\n",
        "####################### \n",
        "\n",
        "Using N_iter = 5\n",
        "Simulation with num_features= 6\n",
        "max_features= {'n_estimators': [50, 100, 200, 300], 'max_features': [2, 3, 4], 'bootstrap': [True, False], 'criterion': ['gini', 'entropy']}\n",
        "Fitting 3 folds for each of 5 candidates, totalling 15 fits\n"
       ]
      },
      {
       "output_type": "stream",
       "stream": "stderr",
       "text": [
        "[Parallel(n_jobs=-1)]: Done   1 jobs       | elapsed:    2.5s\n",
        "[Parallel(n_jobs=-1)]: Done  15 out of  15 | elapsed:    4.9s finished\n"
       ]
      },
      {
       "output_type": "stream",
       "stream": "stdout",
       "text": [
        "\n",
        "### Optimal parameters: ###\n",
        "{'bootstrap': True,\n",
        " 'criterion': 'gini',\n",
        " 'max_features': 4,\n",
        " 'n_estimators': 300}\n",
        "####################### \n",
        "\n",
        "\n",
        "###### \\CV of testAlgo number 2 for RandomForest\n",
        "###\n",
        "Using N_iter = 5\n",
        "Simulation with num_features= 6\n",
        "max_features= {'n_estimators': [50, 100, 200, 300], 'max_features': [2, 3, 4], 'bootstrap': [True, False], 'criterion': ['gini', 'entropy']}\n",
        "Fitting 3 folds for each of 5 candidates, totalling 15 fits\n"
       ]
      },
      {
       "output_type": "stream",
       "stream": "stderr",
       "text": [
        "[Parallel(n_jobs=-1)]: Done   1 jobs       | elapsed:    0.6s\n",
        "[Parallel(n_jobs=-1)]: Done  15 out of  15 | elapsed:    4.0s finished\n"
       ]
      },
      {
       "output_type": "stream",
       "stream": "stdout",
       "text": [
        "\n",
        "### Optimal parameters: ###\n",
        "{'bootstrap': True, 'criterion': 'gini', 'max_features': 2, 'n_estimators': 50}\n",
        "####################### \n",
        "\n",
        "Using N_iter = 5\n",
        "Simulation with num_features= 6\n",
        "max_features= {'n_estimators': [50, 100, 200, 300], 'max_features': [2, 3, 4], 'bootstrap': [True, False], 'criterion': ['gini', 'entropy']}\n",
        "Fitting 3 folds for each of 5 candidates, totalling 15 fits\n"
       ]
      },
      {
       "output_type": "stream",
       "stream": "stderr",
       "text": [
        "[Parallel(n_jobs=-1)]: Done   1 jobs       | elapsed:    0.6s\n",
        "[Parallel(n_jobs=-1)]: Done   9 out of  15 | elapsed:    2.1s remaining:    1.4s\n",
        "[Parallel(n_jobs=-1)]: Done  15 out of  15 | elapsed:    6.0s finished\n"
       ]
      },
      {
       "output_type": "stream",
       "stream": "stdout",
       "text": [
        "\n",
        "### Optimal parameters: ###\n",
        "{'bootstrap': True,\n",
        " 'criterion': 'entropy',\n",
        " 'max_features': 2,\n",
        " 'n_estimators': 100}\n",
        "####################### \n",
        "\n",
        "Using N_iter = 5\n",
        "Simulation with num_features= 6\n",
        "max_features= {'n_estimators': [50, 100, 200, 300], 'max_features': [2, 3, 4], 'bootstrap': [True, False], 'criterion': ['gini', 'entropy']}\n",
        "Fitting 3 folds for each of 5 candidates, totalling 15 fits\n"
       ]
      },
      {
       "output_type": "stream",
       "stream": "stderr",
       "text": [
        "[Parallel(n_jobs=-1)]: Done   1 jobs       | elapsed:    0.7s\n",
        "[Parallel(n_jobs=-1)]: Done  15 out of  15 | elapsed:    5.5s finished\n"
       ]
      },
      {
       "output_type": "stream",
       "stream": "stdout",
       "text": [
        "\n",
        "### Optimal parameters: ###\n",
        "{'bootstrap': True,\n",
        " 'criterion': 'entropy',\n",
        " 'max_features': 4,\n",
        " 'n_estimators': 300}\n",
        "####################### \n",
        "\n",
        "Using N_iter = 5"
       ]
      },
      {
       "output_type": "stream",
       "stream": "stdout",
       "text": [
        "\n",
        "Simulation with num_features= 6\n",
        "max_features= {'n_estimators': [50, 100, 200, 300], 'max_features': [2, 3, 4], 'bootstrap': [True, False], 'criterion': ['gini', 'entropy']}\n",
        "Fitting 3 folds for each of 5 candidates, totalling 15 fits\n"
       ]
      },
      {
       "output_type": "stream",
       "stream": "stderr",
       "text": [
        "[Parallel(n_jobs=-1)]: Done   1 out of  15 | elapsed:    4.4s remaining:  1.0min\n",
        "[Parallel(n_jobs=-1)]: Done  15 out of  15 | elapsed:    5.2s finished\n"
       ]
      }
     ]
    },
    {
     "cell_type": "code",
     "collapsed": false,
     "input": [],
     "language": "python",
     "metadata": {},
     "outputs": [
      {
       "metadata": {},
       "output_type": "pyout",
       "prompt_number": 10,
       "text": [
        "True"
       ]
      }
     ],
     "prompt_number": 10
    },
    {
     "cell_type": "code",
     "collapsed": false,
     "input": [],
     "language": "python",
     "metadata": {},
     "outputs": []
    }
   ],
   "metadata": {}
  }
 ]
}