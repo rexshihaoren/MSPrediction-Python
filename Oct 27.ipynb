{
 "metadata": {
  "name": "",
  "signature": "sha256:7adb84f838ad31271fc6fd957c1f77a7f9805fa8efa4b1122cf724d405751bf6"
 },
 "nbformat": 3,
 "nbformat_minor": 0,
 "worksheets": [
  {
   "cells": [
    {
     "cell_type": "code",
     "collapsed": false,
     "input": [
      "import MSPred as MSP\n",
      "MSP.main()"
     ],
     "language": "python",
     "metadata": {},
     "outputs": [
      {
       "name": "stdout",
       "output_type": "stream",
       "stream": "stdout",
       "text": [
        "Which h5 file? do you want to use (PredData or PredData_Impr0-4)PredData\n"
       ]
      },
      {
       "name": "stdout",
       "output_type": "stream",
       "stream": "stdout",
       "text": [
        "Launch Computation (a) or display result (b)? (a/b) a\n"
       ]
      },
      {
       "output_type": "stream",
       "stream": "stdout",
       "text": [
        "Choose datasets from the following in a list format. e.g. ['Core', 'Core_Imp']\n",
        "Core(related output has already been generated)\n",
        "Core_Imp(related output has already been generated)\n",
        "CorewFam_Cut(related output has already been generated)\n",
        "CorewStatic_Cut(related output has already been generated)\n",
        "CorewStatic_Imp(related output has already been generated)\n",
        "CorewStaticwExam_Cut(related output has already been generated)\n",
        "CorewStaticwExam_Imp(related output has already been generated)\n",
        "CorewStaticwExamwMRI_Imp(related output has already been generated)\n",
        "CorewStaticwExamwMRIwoT2L_CutVDL_Imp\n",
        "CorewStaticwExamwMRIwoT2L_Imp\n",
        "CorewStaticwExamwMRIwoT2LwoVDL_Imp\n",
        "CorewStaticwExamwMRIwoVDL_CutT2L_Imp\n",
        "CorewStaticwExamwMRIwoVDL_Imp\n",
        "CorewStaticwExamwoVDL\n",
        "CorewStaticwExamwoVDL_Cut\n",
        "CorewStaticwFam_Cut\n",
        "CorewStaticwGenetics_Cut\n",
        "CorewStaticwGenetics_Imp\n",
        "CorewStaticwMRI_Imp\n",
        "CorewStaticwTreatment\n",
        "CorewStaticwoOW\n",
        "CorewmodFam_Cut\n",
        "CorewoRate\n",
        "EDSS\n",
        "EDSSwEDSSRate\n"
       ]
      },
      {
       "name": "stdout",
       "output_type": "stream",
       "stream": "stdout",
       "text": [
        "--->['Core', 'Core_Imp']\n"
       ]
      },
      {
       "name": "stdout",
       "output_type": "stream",
       "stream": "stdout",
       "text": [
        "Do you want to answer a lot of - useless ? - different questions for each dataset that forces you to stare at your terminal the whole time or would you prefer just to go on with the fitting of all the models for the sected datasets? \n",
        " (Answer 'Complicated' for the first option or just press return for the simple option)\n",
        " -->\n"
       ]
      },
      {
       "output_type": "stream",
       "stream": "stdout",
       "text": [
        "Last couple of questions:\n"
       ]
      },
      {
       "name": "stdout",
       "output_type": "stream",
       "stream": "stdout",
       "text": [
        "Do you want optimisation on all of the model fittings? (return or 'Y' for Yes) \n",
        " -->Y\n"
       ]
      },
      {
       "name": "stdout",
       "output_type": "stream",
       "stream": "stdout",
       "text": [
        "How many Cross-Validations should be done for the validation of the algorithms? (return for default = 10) \n",
        " -->2\n"
       ]
      },
      {
       "name": "stdout",
       "output_type": "stream",
       "stream": "stdout",
       "text": [
        "Do you want to scale the imput data? (return or 'Y' for Yes) \n",
        " -->N\n"
       ]
      },
      {
       "output_type": "stream",
       "stream": "stdout",
       "text": [
        "Saving output for Core\n",
        "\n",
        "###### \\CV of testAlgo number 1 for RandomForest\n",
        "###\n",
        "Using N_iter = 5\n",
        "Simulation with num_features= 6\n",
        "max_features= {'n_estimators': [50, 100, 200, 300], 'max_features': [2, 3, 4], 'bootstrap': [True, False], 'criterion': ['gini', 'entropy']}\n",
        "Fitting 3 folds for each of 5 candidates, totalling 15 fits\n"
       ]
      },
      {
       "output_type": "stream",
       "stream": "stderr",
       "text": [
        "[Parallel(n_jobs=-1)]: Done   1 jobs       | elapsed:    0.9s\n",
        "[Parallel(n_jobs=-1)]: Done  15 out of  15 | elapsed:    2.5s finished\n"
       ]
      },
      {
       "output_type": "stream",
       "stream": "stdout",
       "text": [
        "\n",
        "### Optimal parameters: ###\n",
        "{'bootstrap': True, 'criterion': 'gini', 'max_features': 2, 'n_estimators': 50}\n",
        "####################### \n",
        "\n",
        "Using N_iter = 5\n",
        "Simulation with num_features= 6\n",
        "max_features= {'n_estimators': [50, 100, 200, 300], 'max_features': [2, 3, 4], 'bootstrap': [True, False], 'criterion': ['gini', 'entropy']}\n",
        "Fitting 3 folds for each of 5 candidates, totalling 15 fits\n"
       ]
      },
      {
       "output_type": "stream",
       "stream": "stderr",
       "text": [
        "[Parallel(n_jobs=-1)]: Done   1 jobs       | elapsed:    0.4s\n",
        "[Parallel(n_jobs=-1)]: Done  15 out of  15 | elapsed:    6.5s finished\n"
       ]
      },
      {
       "output_type": "stream",
       "stream": "stdout",
       "text": [
        "\n",
        "### Optimal parameters: ###\n",
        "{'bootstrap': True,\n",
        " 'criterion': 'gini',\n",
        " 'max_features': 3,\n",
        " 'n_estimators': 100}\n",
        "####################### \n",
        "\n",
        "Using N_iter = 5\n",
        "Simulation with num_features= 6\n",
        "max_features= {'n_estimators': [50, 100, 200, 300], 'max_features': [2, 3, 4], 'bootstrap': [True, False], 'criterion': ['gini', 'entropy']}\n",
        "Fitting 3 folds for each of 5 candidates, totalling 15 fits\n"
       ]
      },
      {
       "output_type": "stream",
       "stream": "stderr",
       "text": [
        "[Parallel(n_jobs=-1)]: Done   1 jobs       | elapsed:    2.6s\n",
        "[Parallel(n_jobs=-1)]: Done   9 out of  15 | elapsed:    5.1s remaining:    3.4s\n",
        "[Parallel(n_jobs=-1)]: Done  15 out of  15 | elapsed:    6.4s finished\n"
       ]
      },
      {
       "output_type": "stream",
       "stream": "stdout",
       "text": [
        "\n",
        "### Optimal parameters: ###\n",
        "{'bootstrap': True,\n",
        " 'criterion': 'entropy',\n",
        " 'max_features': 3,\n",
        " 'n_estimators': 200}\n",
        "####################### \n",
        "\n",
        "Using N_iter = 5\n",
        "Simulation with num_features= 6\n",
        "max_features= {'n_estimators': [50, 100, 200, 300], 'max_features': [2, 3, 4], 'bootstrap': [True, False], 'criterion': ['gini', 'entropy']}\n",
        "Fitting 3 folds for each of 5 candidates, totalling 15 fits\n"
       ]
      },
      {
       "output_type": "stream",
       "stream": "stderr",
       "text": [
        "[Parallel(n_jobs=-1)]: Done   1 jobs       | elapsed:    0.4s\n",
        "[Parallel(n_jobs=-1)]: Done   9 out of  15 | elapsed:    3.1s remaining:    2.0s\n",
        "[Parallel(n_jobs=-1)]: Done  15 out of  15 | elapsed:    3.6s finished\n"
       ]
      },
      {
       "output_type": "stream",
       "stream": "stdout",
       "text": [
        "\n",
        "### Optimal parameters: ###\n",
        "{'bootstrap': True,\n",
        " 'criterion': 'entropy',\n",
        " 'max_features': 3,\n",
        " 'n_estimators': 300}\n",
        "####################### \n",
        "\n",
        "Using N_iter = 5\n",
        "Simulation with num_features= 6\n",
        "max_features= {'n_estimators': [50, 100, 200, 300], 'max_features': [2, 3, 4], 'bootstrap': [True, False], 'criterion': ['gini', 'entropy']}\n",
        "Fitting 3 folds for each of 5 candidates, totalling 15 fits\n"
       ]
      },
      {
       "output_type": "stream",
       "stream": "stderr",
       "text": [
        "[Parallel(n_jobs=-1)]: Done   1 jobs       | elapsed:    3.1s\n",
        "[Parallel(n_jobs=-1)]: Done   9 out of  15 | elapsed:    4.8s remaining:    3.2s\n",
        "[Parallel(n_jobs=-1)]: Done  15 out of  15 | elapsed:    5.1s finished\n"
       ]
      },
      {
       "output_type": "stream",
       "stream": "stdout",
       "text": [
        "\n",
        "### Optimal parameters: ###\n",
        "{'bootstrap': True, 'criterion': 'gini', 'max_features': 2, 'n_estimators': 50}\n",
        "####################### \n",
        "\n",
        "Using N_iter = 5\n",
        "Simulation with num_features= 6\n",
        "max_features= {'n_estimators': [50, 100, 200, 300], 'max_features': [2, 3, 4], 'bootstrap': [True, False], 'criterion': ['gini', 'entropy']}\n",
        "Fitting 3 folds for each of 5 candidates, totalling 15 fits\n"
       ]
      },
      {
       "output_type": "stream",
       "stream": "stderr",
       "text": [
        "[Parallel(n_jobs=-1)]: Done   1 jobs       | elapsed:    0.6s\n",
        "[Parallel(n_jobs=-1)]: Done  15 out of  15 | elapsed:    5.7s finished\n"
       ]
      },
      {
       "output_type": "stream",
       "stream": "stdout",
       "text": [
        "\n",
        "### Optimal parameters: ###\n",
        "{'bootstrap': True,\n",
        " 'criterion': 'entropy',\n",
        " 'max_features': 2,\n",
        " 'n_estimators': 100}\n",
        "####################### \n",
        "\n",
        "Using N_iter = 5\n",
        "Simulation with num_features= 6\n",
        "max_features= {'n_estimators': [50, 100, 200, 300], 'max_features': [2, 3, 4], 'bootstrap': [True, False], 'criterion': ['gini', 'entropy']}\n",
        "Fitting 3 folds for each of 5 candidates, totalling 15 fits\n"
       ]
      },
      {
       "output_type": "stream",
       "stream": "stderr",
       "text": [
        "[Parallel(n_jobs=-1)]: Done   1 jobs       | elapsed:    0.6s\n",
        "[Parallel(n_jobs=-1)]: Done   9 out of  15 | elapsed:    1.8s remaining:    1.2s\n",
        "[Parallel(n_jobs=-1)]: Done  15 out of  15 | elapsed:    1.9s finished\n"
       ]
      },
      {
       "output_type": "stream",
       "stream": "stdout",
       "text": [
        "\n",
        "### Optimal parameters: ###\n",
        "{'bootstrap': True,\n",
        " 'criterion': 'entropy',\n",
        " 'max_features': 4,\n",
        " 'n_estimators': 50}\n",
        "####################### \n",
        "\n",
        "Using N_iter = 5\n",
        "Simulation with num_features= 6\n",
        "max_features= {'n_estimators': [50, 100, 200, 300], 'max_features': [2, 3, 4], 'bootstrap': [True, False], 'criterion': ['gini', 'entropy']}\n",
        "Fitting 3 folds for each of 5 candidates, totalling 15 fits\n"
       ]
      },
      {
       "output_type": "stream",
       "stream": "stderr",
       "text": [
        "[Parallel(n_jobs=-1)]: Done   1 jobs       | elapsed:    2.7s\n",
        "[Parallel(n_jobs=-1)]: Done   9 out of  15 | elapsed:    7.6s remaining:    5.1s\n",
        "[Parallel(n_jobs=-1)]: Done  15 out of  15 | elapsed:    7.6s finished\n"
       ]
      },
      {
       "output_type": "stream",
       "stream": "stdout",
       "text": [
        "\n",
        "### Optimal parameters: ###\n",
        "{'bootstrap': True,\n",
        " 'criterion': 'entropy',\n",
        " 'max_features': 3,\n",
        " 'n_estimators': 50}\n",
        "####################### \n",
        "\n",
        "Using N_iter = 5\n",
        "Simulation with num_features= 6\n",
        "max_features= {'n_estimators': [50, 100, 200, 300], 'max_features': [2, 3, 4], 'bootstrap': [True, False], 'criterion': ['gini', 'entropy']}\n",
        "Fitting 3 folds for each of 5 candidates, totalling 15 fits\n"
       ]
      },
      {
       "output_type": "stream",
       "stream": "stderr",
       "text": [
        "[Parallel(n_jobs=-1)]: Done   1 jobs       | elapsed:    0.4s\n",
        "[Parallel(n_jobs=-1)]: Done   9 out of  15 | elapsed:    1.9s remaining:    1.2s\n",
        "[Parallel(n_jobs=-1)]: Done  15 out of  15 | elapsed:    3.3s finished\n"
       ]
      },
      {
       "output_type": "stream",
       "stream": "stdout",
       "text": [
        "\n",
        "### Optimal parameters: ###\n",
        "{'bootstrap': True,\n",
        " 'criterion': 'entropy',\n",
        " 'max_features': 2,\n",
        " 'n_estimators': 100}\n",
        "####################### \n",
        "\n",
        "Using N_iter = 5\n",
        "Simulation with num_features= 6\n",
        "max_features= {'n_estimators': [50, 100, 200, 300], 'max_features': [2, 3, 4], 'bootstrap': [True, False], 'criterion': ['gini', 'entropy']}\n",
        "Fitting 3 folds for each of 5 candidates, totalling 15 fits\n"
       ]
      },
      {
       "output_type": "stream",
       "stream": "stderr",
       "text": [
        "[Parallel(n_jobs=-1)]: Done   1 jobs       | elapsed:    2.2s\n",
        "[Parallel(n_jobs=-1)]: Done  15 out of  15 | elapsed:    3.1s finished\n"
       ]
      },
      {
       "output_type": "stream",
       "stream": "stdout",
       "text": [
        "\n",
        "### Optimal parameters: ###\n",
        "{'bootstrap': True,\n",
        " 'criterion': 'entropy',\n",
        " 'max_features': 2,\n",
        " 'n_estimators': 100}\n",
        "####################### \n",
        "\n",
        "\n",
        "###### \\CV of testAlgo number 2 for RandomForest\n",
        "###\n",
        "Using N_iter = 5\n",
        "Simulation with num_features= 6\n",
        "max_features= {'n_estimators': [50, 100, 200, 300], 'max_features': [2, 3, 4], 'bootstrap': [True, False], 'criterion': ['gini', 'entropy']}\n",
        "Fitting 3 folds for each of 5 candidates, totalling 15 fits\n"
       ]
      },
      {
       "output_type": "stream",
       "stream": "stderr",
       "text": [
        "[Parallel(n_jobs=-1)]: Done   1 jobs       | elapsed:    0.4s\n",
        "[Parallel(n_jobs=-1)]: Done   9 out of  15 | elapsed:    5.8s remaining:    3.8s\n",
        "[Parallel(n_jobs=-1)]: Done  15 out of  15 | elapsed:    7.4s finished\n"
       ]
      },
      {
       "output_type": "stream",
       "stream": "stdout",
       "text": [
        "\n",
        "### Optimal parameters: ###\n",
        "{'bootstrap': True,\n",
        " 'criterion': 'entropy',\n",
        " 'max_features': 4,\n",
        " 'n_estimators': 100}\n",
        "####################### \n",
        "\n",
        "Using N_iter = 5\n",
        "Simulation with num_features= 6\n",
        "max_features= {'n_estimators': [50, 100, 200, 300], 'max_features': [2, 3, 4], 'bootstrap': [True, False], 'criterion': ['gini', 'entropy']}\n",
        "Fitting 3 folds for each of 5 candidates, totalling 15 fits\n"
       ]
      },
      {
       "output_type": "stream",
       "stream": "stderr",
       "text": [
        "[Parallel(n_jobs=-1)]: Done   1 jobs       | elapsed:    1.0s\n",
        "[Parallel(n_jobs=-1)]: Done   9 out of  15 | elapsed:    2.8s remaining:    1.8s\n",
        "[Parallel(n_jobs=-1)]: Done  15 out of  15 | elapsed:    3.5s finished\n"
       ]
      },
      {
       "output_type": "stream",
       "stream": "stdout",
       "text": [
        "\n",
        "### Optimal parameters: ###\n",
        "{'bootstrap': True,\n",
        " 'criterion': 'entropy',\n",
        " 'max_features': 4,\n",
        " 'n_estimators': 100}\n",
        "####################### \n",
        "\n",
        "Using N_iter = 5\n",
        "Simulation with num_features= 6\n",
        "max_features= {'n_estimators': [50, 100, 200, 300], 'max_features': [2, 3, 4], 'bootstrap': [True, False], 'criterion': ['gini', 'entropy']}\n",
        "Fitting 3 folds for each of 5 candidates, totalling 15 fits\n"
       ]
      },
      {
       "output_type": "stream",
       "stream": "stderr",
       "text": [
        "[Parallel(n_jobs=-1)]: Done   1 jobs       | elapsed:    1.2s\n",
        "[Parallel(n_jobs=-1)]: Done   9 out of  15 | elapsed:    1.3s remaining:    0.9s\n",
        "[Parallel(n_jobs=-1)]: Done  15 out of  15 | elapsed:    3.3s finished\n"
       ]
      },
      {
       "output_type": "stream",
       "stream": "stdout",
       "text": [
        "\n",
        "### Optimal parameters: ###\n",
        "{'bootstrap': True,\n",
        " 'criterion': 'entropy',\n",
        " 'max_features': 2,\n",
        " 'n_estimators': 50}\n",
        "####################### \n",
        "\n",
        "Using N_iter = 5\n",
        "Simulation with num_features= 6\n",
        "max_features= {'n_estimators': [50, 100, 200, 300], 'max_features': [2, 3, 4], 'bootstrap': [True, False], 'criterion': ['gini', 'entropy']}\n",
        "Fitting 3 folds for each of 5 candidates, totalling 15 fits\n"
       ]
      },
      {
       "output_type": "stream",
       "stream": "stderr",
       "text": [
        "[Parallel(n_jobs=-1)]: Done   1 jobs       | elapsed:    1.0s\n",
        "[Parallel(n_jobs=-1)]: Done   9 out of  15 | elapsed:    2.8s remaining:    1.9s\n",
        "[Parallel(n_jobs=-1)]: Done  15 out of  15 | elapsed:    3.9s finished\n"
       ]
      },
      {
       "output_type": "stream",
       "stream": "stdout",
       "text": [
        "\n",
        "### Optimal parameters: ###\n",
        "{'bootstrap': True,\n",
        " 'criterion': 'entropy',\n",
        " 'max_features': 2,\n",
        " 'n_estimators': 300}\n",
        "####################### \n",
        "\n",
        "Using N_iter = 5\n",
        "Simulation with num_features= 6\n",
        "max_features= {'n_estimators': [50, 100, 200, 300], 'max_features': [2, 3, 4], 'bootstrap': [True, False], 'criterion': ['gini', 'entropy']}\n",
        "Fitting 3 folds for each of 5 candidates, totalling 15 fits\n"
       ]
      },
      {
       "output_type": "stream",
       "stream": "stderr",
       "text": [
        "[Parallel(n_jobs=-1)]: Done   1 jobs       | elapsed:    0.3s\n",
        "[Parallel(n_jobs=-1)]: Done   9 out of  15 | elapsed:    5.1s remaining:    3.4s\n",
        "[Parallel(n_jobs=-1)]: Done  15 out of  15 | elapsed:    5.9s finished\n"
       ]
      },
      {
       "output_type": "stream",
       "stream": "stdout",
       "text": [
        "\n",
        "### Optimal parameters: ###\n",
        "{'bootstrap': True,\n",
        " 'criterion': 'gini',\n",
        " 'max_features': 2,\n",
        " 'n_estimators': 300}\n",
        "####################### \n",
        "\n",
        "Using N_iter = 5\n",
        "Simulation with num_features= 6\n",
        "max_features= {'n_estimators': [50, 100, 200, 300], 'max_features': [2, 3, 4], 'bootstrap': [True, False], 'criterion': ['gini', 'entropy']}\n",
        "Fitting 3 folds for each of 5 candidates, totalling 15 fits\n"
       ]
      },
      {
       "output_type": "stream",
       "stream": "stderr",
       "text": [
        "[Parallel(n_jobs=-1)]: Done   1 jobs       | elapsed:    1.9s\n",
        "[Parallel(n_jobs=-1)]: Done  15 out of  15 | elapsed:    6.6s finished\n"
       ]
      },
      {
       "output_type": "stream",
       "stream": "stdout",
       "text": [
        "\n",
        "### Optimal parameters: ###\n",
        "{'bootstrap': True,\n",
        " 'criterion': 'gini',\n",
        " 'max_features': 2,\n",
        " 'n_estimators': 100}\n",
        "####################### \n",
        "\n",
        "Using N_iter = 5\n",
        "Simulation with num_features= 6\n",
        "max_features= {'n_estimators': [50, 100, 200, 300], 'max_features': [2, 3, 4], 'bootstrap': [True, False], 'criterion': ['gini', 'entropy']}\n",
        "Fitting 3 folds for each of 5 candidates, totalling 15 fits\n"
       ]
      },
      {
       "output_type": "stream",
       "stream": "stderr",
       "text": [
        "[Parallel(n_jobs=-1)]: Done   1 jobs       | elapsed:    4.4s\n",
        "[Parallel(n_jobs=-1)]: Done  15 out of  15 | elapsed:    7.9s finished\n"
       ]
      },
      {
       "output_type": "stream",
       "stream": "stdout",
       "text": [
        "\n",
        "### Optimal parameters: ###\n",
        "{'bootstrap': True,\n",
        " 'criterion': 'entropy',\n",
        " 'max_features': 3,\n",
        " 'n_estimators': 300}\n",
        "####################### \n",
        "\n",
        "Using N_iter = 5\n",
        "Simulation with num_features= 6\n",
        "max_features= {'n_estimators': [50, 100, 200, 300], 'max_features': [2, 3, 4], 'bootstrap': [True, False], 'criterion': ['gini', 'entropy']}\n",
        "Fitting 3 folds for each of 5 candidates, totalling 15 fits"
       ]
      },
      {
       "output_type": "stream",
       "stream": "stdout",
       "text": [
        "\n"
       ]
      },
      {
       "output_type": "stream",
       "stream": "stderr",
       "text": [
        "[Parallel(n_jobs=-1)]: Done   1 jobs       | elapsed:    2.0s\n",
        "[Parallel(n_jobs=-1)]: Done   9 out of  15 | elapsed:    3.1s remaining:    2.1s\n",
        "[Parallel(n_jobs=-1)]: Done  15 out of  15 | elapsed:    6.7s finished\n"
       ]
      },
      {
       "output_type": "stream",
       "stream": "stdout",
       "text": [
        "\n",
        "### Optimal parameters: ###\n",
        "{'bootstrap': True,\n",
        " 'criterion': 'entropy',\n",
        " 'max_features': 2,\n",
        " 'n_estimators': 300}\n",
        "####################### \n",
        "\n",
        "Using N_iter = 5\n",
        "Simulation with num_features= 6\n",
        "max_features= {'n_estimators': [50, 100, 200, 300], 'max_features': [2, 3, 4], 'bootstrap': [True, False], 'criterion': ['gini', 'entropy']}\n",
        "Fitting 3 folds for each of 5 candidates, totalling 15 fits\n"
       ]
      },
      {
       "output_type": "stream",
       "stream": "stderr",
       "text": [
        "[Parallel(n_jobs=-1)]: Done   1 jobs       | elapsed:    0.7s\n",
        "[Parallel(n_jobs=-1)]: Done   9 out of  15 | elapsed:    2.6s remaining:    1.7s\n",
        "[Parallel(n_jobs=-1)]: Done  15 out of  15 | elapsed:    4.3s finished\n"
       ]
      },
      {
       "output_type": "stream",
       "stream": "stdout",
       "text": [
        "\n",
        "### Optimal parameters: ###\n",
        "{'bootstrap': True,\n",
        " 'criterion': 'entropy',\n",
        " 'max_features': 4,\n",
        " 'n_estimators': 200}\n",
        "####################### \n",
        "\n",
        "Using N_iter = 5\n",
        "Simulation with num_features= 6\n",
        "max_features= {'n_estimators': [50, 100, 200, 300], 'max_features': [2, 3, 4], 'bootstrap': [True, False], 'criterion': ['gini', 'entropy']}\n",
        "Fitting 3 folds for each of 5 candidates, totalling 15 fits\n"
       ]
      },
      {
       "output_type": "stream",
       "stream": "stderr",
       "text": [
        "[Parallel(n_jobs=-1)]: Done   1 jobs       | elapsed:    0.3s\n",
        "[Parallel(n_jobs=-1)]: Done   9 out of  15 | elapsed:    1.8s remaining:    1.2s\n",
        "[Parallel(n_jobs=-1)]: Done  15 out of  15 | elapsed:    3.6s finished\n"
       ]
      },
      {
       "output_type": "stream",
       "stream": "stdout",
       "text": [
        "\n",
        "### Optimal parameters: ###\n",
        "{'bootstrap': True,\n",
        " 'criterion': 'entropy',\n",
        " 'max_features': 3,\n",
        " 'n_estimators': 200}\n",
        "####################### \n",
        "\n",
        "Saving output to file for RandomForest\n",
        "\n",
        "###### \\CV of testAlgo number 1 for LogisticRegression\n",
        "###\n",
        "Using N_iter = 14\n",
        "Simulation with num_features= 6\n",
        "max_features= {'penalty': ['l1', 'l2'], 'C': array([ 0.1 ,  0.19,  0.28,  0.37,  0.46,  0.55,  0.64,  0.73,  0.82,\n",
        "        0.91,  1.  ]), 'intercept_scaling': array([ 0.1 ,  0.19,  0.28,  0.37,  0.46,  0.55,  0.64,  0.73,  0.82,\n",
        "        0.91,  1.  ]), 'tol': [0.0001, 1e-05], 'fit_intercept': [True]}\n",
        "Fitting 3 folds for each of 14 candidates, totalling 42 fits\n"
       ]
      },
      {
       "output_type": "stream",
       "stream": "stderr",
       "text": [
        "[Parallel(n_jobs=-1)]: Done   1 jobs       | elapsed:    0.0s\n",
        "[Parallel(n_jobs=-1)]: Done  36 out of  42 | elapsed:    0.1s remaining:    0.0s\n",
        "[Parallel(n_jobs=-1)]: Done  42 out of  42 | elapsed:    0.1s finished\n"
       ]
      },
      {
       "output_type": "stream",
       "stream": "stdout",
       "text": [
        "\n",
        "### Optimal parameters: ###\n",
        "{'C': 0.19,\n",
        " 'fit_intercept': True,\n",
        " 'intercept_scaling': 0.19,\n",
        " 'penalty': 'l1',\n",
        " 'tol': 0.0001}\n",
        "####################### \n",
        "\n",
        "Using N_iter = 14\n",
        "Simulation with num_features= 6\n",
        "max_features= {'penalty': ['l1', 'l2'], 'C': array([ 0.1 ,  0.19,  0.28,  0.37,  0.46,  0.55,  0.64,  0.73,  0.82,\n",
        "        0.91,  1.  ]), 'intercept_scaling': array([ 0.1 ,  0.19,  0.28,  0.37,  0.46,  0.55,  0.64,  0.73,  0.82,\n",
        "        0.91,  1.  ]), 'tol': [0.0001, 1e-05], 'fit_intercept': [True]}\n",
        "Fitting 3 folds for each of 14 candidates, totalling 42 fits\n"
       ]
      },
      {
       "output_type": "stream",
       "stream": "stderr",
       "text": [
        "[Parallel(n_jobs=-1)]: Done   1 jobs       | elapsed:    0.0s\n",
        "[Parallel(n_jobs=-1)]: Done  36 out of  42 | elapsed:    0.1s remaining:    0.0s\n",
        "[Parallel(n_jobs=-1)]: Done  42 out of  42 | elapsed:    0.1s finished\n"
       ]
      },
      {
       "output_type": "stream",
       "stream": "stdout",
       "text": [
        "\n",
        "### Optimal parameters: ###\n",
        "{'C': 0.28000000000000003,\n",
        " 'fit_intercept': True,\n",
        " 'intercept_scaling': 0.10000000000000001,\n",
        " 'penalty': 'l1',\n",
        " 'tol': 0.0001}\n",
        "####################### \n",
        "\n",
        "Using N_iter = 14\n",
        "Simulation with num_features= 6\n",
        "max_features= {'penalty': ['l1', 'l2'], 'C': array([ 0.1 ,  0.19,  0.28,  0.37,  0.46,  0.55,  0.64,  0.73,  0.82,\n",
        "        0.91,  1.  ]), 'intercept_scaling': array([ 0.1 ,  0.19,  0.28,  0.37,  0.46,  0.55,  0.64,  0.73,  0.82,\n",
        "        0.91,  1.  ]), 'tol': [0.0001, 1e-05], 'fit_intercept': [True]}\n",
        "Fitting 3 folds for each of 14 candidates, totalling 42 fits\n"
       ]
      },
      {
       "output_type": "stream",
       "stream": "stderr",
       "text": [
        "[Parallel(n_jobs=-1)]: Done   1 jobs       | elapsed:    0.0s\n",
        "[Parallel(n_jobs=-1)]: Done  36 out of  42 | elapsed:    0.1s remaining:    0.0s\n",
        "[Parallel(n_jobs=-1)]: Done  42 out of  42 | elapsed:    0.1s finished\n"
       ]
      },
      {
       "output_type": "stream",
       "stream": "stdout",
       "text": [
        "\n",
        "### Optimal parameters: ###\n",
        "{'C': 0.81999999999999995,\n",
        " 'fit_intercept': True,\n",
        " 'intercept_scaling': 0.81999999999999995,\n",
        " 'penalty': 'l1',\n",
        " 'tol': 1e-05}\n",
        "####################### \n",
        "\n",
        "Using N_iter = 14\n",
        "Simulation with num_features= 6\n",
        "max_features= {'penalty': ['l1', 'l2'], 'C': array([ 0.1 ,  0.19,  0.28,  0.37,  0.46,  0.55,  0.64,  0.73,  0.82,\n",
        "        0.91,  1.  ]), 'intercept_scaling': array([ 0.1 ,  0.19,  0.28,  0.37,  0.46,  0.55,  0.64,  0.73,  0.82,\n",
        "        0.91,  1.  ]), 'tol': [0.0001, 1e-05], 'fit_intercept': [True]}\n",
        "Fitting 3 folds for each of 14 candidates, totalling 42 fits\n"
       ]
      },
      {
       "output_type": "stream",
       "stream": "stderr",
       "text": [
        "[Parallel(n_jobs=-1)]: Done   1 jobs       | elapsed:    0.0s\n",
        "[Parallel(n_jobs=-1)]: Done  36 out of  42 | elapsed:    0.1s remaining:    0.0s\n",
        "[Parallel(n_jobs=-1)]: Done  42 out of  42 | elapsed:    0.1s finished\n"
       ]
      },
      {
       "output_type": "stream",
       "stream": "stdout",
       "text": [
        "\n",
        "### Optimal parameters: ###\n",
        "{'C': 1.0,\n",
        " 'fit_intercept': True,\n",
        " 'intercept_scaling': 0.10000000000000001,\n",
        " 'penalty': 'l2',\n",
        " 'tol': 0.0001}\n",
        "####################### \n",
        "\n",
        "Using N_iter = 14\n",
        "Simulation with num_features= 6\n",
        "max_features= {'penalty': ['l1', 'l2'], 'C': array([ 0.1 ,  0.19,  0.28,  0.37,  0.46,  0.55,  0.64,  0.73,  0.82,\n",
        "        0.91,  1.  ]), 'intercept_scaling': array([ 0.1 ,  0.19,  0.28,  0.37,  0.46,  0.55,  0.64,  0.73,  0.82,\n",
        "        0.91,  1.  ]), 'tol': [0.0001, 1e-05], 'fit_intercept': [True]}\n",
        "Fitting 3 folds for each of 14 candidates, totalling 42 fits\n"
       ]
      },
      {
       "output_type": "stream",
       "stream": "stderr",
       "text": [
        "[Parallel(n_jobs=-1)]: Done   1 jobs       | elapsed:    0.0s\n",
        "[Parallel(n_jobs=-1)]: Done  36 out of  42 | elapsed:    0.1s remaining:    0.0s\n",
        "[Parallel(n_jobs=-1)]: Done  42 out of  42 | elapsed:    0.1s finished\n"
       ]
      },
      {
       "output_type": "stream",
       "stream": "stdout",
       "text": [
        "\n",
        "### Optimal parameters: ###\n",
        "{'C': 0.64000000000000001,\n",
        " 'fit_intercept': True,\n",
        " 'intercept_scaling': 0.28000000000000003,\n",
        " 'penalty': 'l1',\n",
        " 'tol': 1e-05}\n",
        "####################### \n",
        "\n",
        "Using N_iter = 14\n",
        "Simulation with num_features= 6\n",
        "max_features= {'penalty': ['l1', 'l2'], 'C': array([ 0.1 ,  0.19,  0.28,  0.37,  0.46,  0.55,  0.64,  0.73,  0.82,\n",
        "        0.91,  1.  ]), 'intercept_scaling': array([ 0.1 ,  0.19,  0.28,  0.37,  0.46,  0.55,  0.64,  0.73,  0.82,\n",
        "        0.91,  1.  ]), 'tol': [0.0001, 1e-05], 'fit_intercept': [True]}\n",
        "Fitting 3 folds for each of 14 candidates, totalling 42 fits\n"
       ]
      },
      {
       "output_type": "stream",
       "stream": "stderr",
       "text": [
        "[Parallel(n_jobs=-1)]: Done   1 jobs       | elapsed:    0.0s\n",
        "[Parallel(n_jobs=-1)]: Done  36 out of  42 | elapsed:    0.1s remaining:    0.0s\n",
        "[Parallel(n_jobs=-1)]: Done  42 out of  42 | elapsed:    0.1s finished\n"
       ]
      },
      {
       "output_type": "stream",
       "stream": "stdout",
       "text": [
        "\n",
        "### Optimal parameters: ###\n",
        "{'C': 0.81999999999999995,\n",
        " 'fit_intercept': True,\n",
        " 'intercept_scaling': 0.90999999999999992,\n",
        " 'penalty': 'l2',\n",
        " 'tol': 0.0001}\n",
        "####################### \n",
        "\n",
        "Using N_iter = 14\n",
        "Simulation with num_features= 6\n",
        "max_features= {'penalty': ['l1', 'l2'], 'C': array([ 0.1 ,  0.19,  0.28,  0.37,  0.46,  0.55,  0.64,  0.73,  0.82,\n",
        "        0.91,  1.  ]), 'intercept_scaling': array([ 0.1 ,  0.19,  0.28,  0.37,  0.46,  0.55,  0.64,  0.73,  0.82,\n",
        "        0.91,  1.  ]), 'tol': [0.0001, 1e-05], 'fit_intercept': [True]}\n",
        "Fitting 3 folds for each of 14 candidates, totalling 42 fits\n"
       ]
      },
      {
       "output_type": "stream",
       "stream": "stderr",
       "text": [
        "[Parallel(n_jobs=-1)]: Done   1 jobs       | elapsed:    0.0s\n",
        "[Parallel(n_jobs=-1)]: Done  36 out of  42 | elapsed:    0.1s remaining:    0.0s\n",
        "[Parallel(n_jobs=-1)]: Done  42 out of  42 | elapsed:    0.1s finished\n"
       ]
      },
      {
       "output_type": "stream",
       "stream": "stdout",
       "text": [
        "\n",
        "### Optimal parameters: ###\n",
        "{'C': 0.45999999999999996,\n",
        " 'fit_intercept': True,\n",
        " 'intercept_scaling': 1.0,\n",
        " 'penalty': 'l1',\n",
        " 'tol': 0.0001}\n",
        "####################### \n",
        "\n",
        "Using N_iter = 14\n",
        "Simulation with num_features= 6\n",
        "max_features= {'penalty': ['l1', 'l2'], 'C': array([ 0.1 ,  0.19,  0.28,  0.37,  0.46,  0.55,  0.64,  0.73,  0.82,\n",
        "        0.91,  1.  ]), 'intercept_scaling': array([ 0.1 ,  0.19,  0.28,  0.37,  0.46,  0.55,  0.64,  0.73,  0.82,\n",
        "        0.91,  1.  ]), 'tol': [0.0001, 1e-05], 'fit_intercept': [True]}\n",
        "Fitting 3 folds for each of 14 candidates, totalling 42 fits\n"
       ]
      },
      {
       "output_type": "stream",
       "stream": "stderr",
       "text": [
        "[Parallel(n_jobs=-1)]: Done   1 jobs       | elapsed:    0.0s\n",
        "[Parallel(n_jobs=-1)]: Done  36 out of  42 | elapsed:    0.1s remaining:    0.0s\n",
        "[Parallel(n_jobs=-1)]: Done  42 out of  42 | elapsed:    0.1s finished\n"
       ]
      },
      {
       "output_type": "stream",
       "stream": "stdout",
       "text": [
        "\n",
        "### Optimal parameters: ###\n",
        "{'C': 0.72999999999999998,\n",
        " 'fit_intercept': True,\n",
        " 'intercept_scaling': 0.10000000000000001,\n",
        " 'penalty': 'l1',\n",
        " 'tol': 1e-05}\n",
        "####################### \n",
        "\n",
        "Using N_iter = 14\n",
        "Simulation with num_features= 6\n",
        "max_features= {'penalty': ['l1', 'l2'], 'C': array([ 0.1 ,  0.19,  0.28,  0.37,  0.46,  0.55,  0.64,  0.73,  0.82,\n",
        "        0.91,  1.  ]), 'intercept_scaling': array([ 0.1 ,  0.19,  0.28,  0.37,  0.46,  0.55,  0.64,  0.73,  0.82,\n",
        "        0.91,  1.  ]), 'tol': [0.0001, 1e-05], 'fit_intercept': [True]}\n",
        "Fitting 3 folds for each of 14 candidates, totalling 42 fits\n"
       ]
      },
      {
       "output_type": "stream",
       "stream": "stderr",
       "text": [
        "[Parallel(n_jobs=-1)]: Done   1 jobs       | elapsed:    0.0s\n",
        "[Parallel(n_jobs=-1)]: Done  36 out of  42 | elapsed:    0.1s remaining:    0.0s\n",
        "[Parallel(n_jobs=-1)]: Done  42 out of  42 | elapsed:    0.1s finished\n"
       ]
      },
      {
       "output_type": "stream",
       "stream": "stdout",
       "text": [
        "\n",
        "### Optimal parameters: ###\n",
        "{'C': 0.54999999999999993,\n",
        " 'fit_intercept': True,\n",
        " 'intercept_scaling': 0.10000000000000001,\n",
        " 'penalty': 'l1',\n",
        " 'tol': 1e-05}\n",
        "####################### \n",
        "\n",
        "Using N_iter = 14\n",
        "Simulation with num_features= 6\n",
        "max_features= {'penalty': ['l1', 'l2'], 'C': array([ 0.1 ,  0.19,  0.28,  0.37,  0.46,  0.55,  0.64,  0.73,  0.82,\n",
        "        0.91,  1.  ]), 'intercept_scaling': array([ 0.1 ,  0.19,  0.28,  0.37,  0.46,  0.55,  0.64,  0.73,  0.82,\n",
        "        0.91,  1.  ]), 'tol': [0.0001, 1e-05], 'fit_intercept': [True]}\n",
        "Fitting 3 folds for each of 14 candidates, totalling 42 fits\n"
       ]
      },
      {
       "output_type": "stream",
       "stream": "stderr",
       "text": [
        "[Parallel(n_jobs=-1)]: Done   1 jobs       | elapsed:    0.0s\n",
        "[Parallel(n_jobs=-1)]: Done  36 out of  42 | elapsed:    0.1s remaining:    0.0s\n",
        "[Parallel(n_jobs=-1)]: Done  42 out of  42 | elapsed:    0.1s finished\n"
       ]
      },
      {
       "output_type": "stream",
       "stream": "stdout",
       "text": [
        "\n",
        "### Optimal parameters: ###\n",
        "{'C': 1.0,\n",
        " 'fit_intercept': True,\n",
        " 'intercept_scaling': 0.72999999999999998,\n",
        " 'penalty': 'l1',\n",
        " 'tol': 0.0001}\n",
        "####################### \n",
        "\n",
        "\n",
        "###### \\CV of testAlgo number 2 for LogisticRegression\n",
        "###\n",
        "Using N_iter = 14\n",
        "Simulation with num_features= 6\n",
        "max_features= {'penalty': ['l1', 'l2'], 'C': array([ 0.1 ,  0.19,  0.28,  0.37,  0.46,  0.55,  0.64,  0.73,  0.82,\n",
        "        0.91,  1.  ]), 'intercept_scaling': array([ 0.1 ,  0.19,  0.28,  0.37,  0.46,  0.55,  0.64,  0.73,  0.82,\n",
        "        0.91,  1.  ]), 'tol': [0.0001, 1e-05], 'fit_intercept': [True]}\n",
        "Fitting 3 folds for each of 14 candidates, totalling 42 fits\n"
       ]
      },
      {
       "output_type": "stream",
       "stream": "stderr",
       "text": [
        "[Parallel(n_jobs=-1)]: Done   1 jobs       | elapsed:    0.0s\n",
        "[Parallel(n_jobs=-1)]: Done  42 out of  42 | elapsed:    0.1s finished\n"
       ]
      },
      {
       "output_type": "stream",
       "stream": "stdout",
       "text": [
        "\n",
        "### Optimal parameters: ###\n",
        "{'C': 0.37,\n",
        " 'fit_intercept': True,\n",
        " 'intercept_scaling': 0.28000000000000003,\n",
        " 'penalty': 'l1',\n",
        " 'tol': 0.0001}\n",
        "####################### \n",
        "\n",
        "Using N_iter = 14\n",
        "Simulation with num_features= 6\n",
        "max_features= {'penalty': ['l1', 'l2'], 'C': array([ 0.1 ,  0.19,  0.28,  0.37,  0.46,  0.55,  0.64,  0.73,  0.82,\n",
        "        0.91,  1.  ]), 'intercept_scaling': array([ 0.1 ,  0.19,  0.28,  0.37,  0.46,  0.55,  0.64,  0.73,  0.82,\n",
        "        0.91,  1.  ]), 'tol': [0.0001, 1e-05], 'fit_intercept': [True]}\n",
        "Fitting 3 folds for each of 14 candidates, totalling 42 fits\n"
       ]
      },
      {
       "output_type": "stream",
       "stream": "stderr",
       "text": [
        "[Parallel(n_jobs=-1)]: Done   1 jobs       | elapsed:    0.0s\n",
        "[Parallel(n_jobs=-1)]: Done  36 out of  42 | elapsed:    0.1s remaining:    0.0s\n",
        "[Parallel(n_jobs=-1)]: Done  42 out of  42 | elapsed:    0.1s finished\n"
       ]
      },
      {
       "output_type": "stream",
       "stream": "stdout",
       "text": [
        "\n",
        "### Optimal parameters: ###\n",
        "{'C': 0.72999999999999998,\n",
        " 'fit_intercept': True,\n",
        " 'intercept_scaling': 0.10000000000000001,\n",
        " 'penalty': 'l1',\n",
        " 'tol': 0.0001}\n",
        "####################### \n",
        "\n",
        "Using N_iter = 14\n",
        "Simulation with num_features= 6\n",
        "max_features= {'penalty': ['l1', 'l2'], 'C': array([ 0.1 ,  0.19,  0.28,  0.37,  0.46,  0.55,  0.64,  0.73,  0.82,\n",
        "        0.91,  1.  ]), 'intercept_scaling': array([ 0.1 ,  0.19,  0.28,  0.37,  0.46,  0.55,  0.64,  0.73,  0.82,\n",
        "        0.91,  1.  ]), 'tol': [0.0001, 1e-05], 'fit_intercept': [True]}\n",
        "Fitting 3 folds for each of 14 candidates, totalling 42 fits\n"
       ]
      },
      {
       "output_type": "stream",
       "stream": "stderr",
       "text": [
        "[Parallel(n_jobs=-1)]: Done   1 jobs       | elapsed:    0.0s\n",
        "[Parallel(n_jobs=-1)]: Done  36 out of  42 | elapsed:    0.1s remaining:    0.0s\n",
        "[Parallel(n_jobs=-1)]: Done  42 out of  42 | elapsed:    0.1s finished\n"
       ]
      },
      {
       "output_type": "stream",
       "stream": "stdout",
       "text": [
        "\n",
        "### Optimal parameters: ###\n",
        "{'C': 0.37,\n",
        " 'fit_intercept': True,\n",
        " 'intercept_scaling': 0.10000000000000001,\n",
        " 'penalty': 'l1',\n",
        " 'tol': 1e-05}\n",
        "####################### \n",
        "\n",
        "Using N_iter = 14\n",
        "Simulation with num_features= 6\n",
        "max_features= {'penalty': ['l1', 'l2'], 'C': array([ 0.1 ,  0.19,  0.28,  0.37,  0.46,  0.55,  0.64,  0.73,  0.82,\n",
        "        0.91,  1.  ]), 'intercept_scaling': array([ 0.1 ,  0.19,  0.28,  0.37,  0.46,  0.55,  0.64,  0.73,  0.82,\n",
        "        0.91,  1.  ]), 'tol': [0.0001, 1e-05], 'fit_intercept': [True]}\n",
        "Fitting 3 folds for each of 14 candidates, totalling 42 fits\n"
       ]
      },
      {
       "output_type": "stream",
       "stream": "stderr",
       "text": [
        "[Parallel(n_jobs=-1)]: Done   1 jobs       | elapsed:    0.0s\n",
        "[Parallel(n_jobs=-1)]: Done  42 out of  42 | elapsed:    0.1s finished\n"
       ]
      },
      {
       "output_type": "stream",
       "stream": "stdout",
       "text": [
        "\n",
        "### Optimal parameters: ###\n",
        "{'C': 0.10000000000000001,\n",
        " 'fit_intercept': True,\n",
        " 'intercept_scaling': 0.19,\n",
        " 'penalty': 'l2',\n",
        " 'tol': 1e-05}\n",
        "####################### \n",
        "\n",
        "Using N_iter = 14\n",
        "Simulation with num_features= 6\n",
        "max_features= {'penalty': ['l1', 'l2'], 'C': array([ 0.1 ,  0.19,  0.28,  0.37,  0.46,  0.55,  0.64,  0.73,  0.82,\n",
        "        0.91,  1.  ]), 'intercept_scaling': array([ 0.1 ,  0.19,  0.28,  0.37,  0.46,  0.55,  0.64,  0.73,  0.82,\n",
        "        0.91,  1.  ]), 'tol': [0.0001, 1e-05], 'fit_intercept': [True]}\n",
        "Fitting 3 folds for each of 14 candidates, totalling 42 fits\n"
       ]
      },
      {
       "output_type": "stream",
       "stream": "stderr",
       "text": [
        "[Parallel(n_jobs=-1)]: Done   1 jobs       | elapsed:    0.0s\n",
        "[Parallel(n_jobs=-1)]: Done  36 out of  42 | elapsed:    0.1s remaining:    0.0s\n",
        "[Parallel(n_jobs=-1)]: Done  42 out of  42 | elapsed:    0.1s finished\n"
       ]
      },
      {
       "output_type": "stream",
       "stream": "stdout",
       "text": [
        "\n",
        "### Optimal parameters: ###\n",
        "{'C': 0.10000000000000001,\n",
        " 'fit_intercept': True,\n",
        " 'intercept_scaling': 0.19,\n",
        " 'penalty': 'l2',\n",
        " 'tol': 0.0001}\n",
        "####################### \n",
        "\n",
        "Using N_iter = 14\n",
        "Simulation with num_features= 6\n",
        "max_features= {'penalty': ['l1', 'l2'], 'C': array([ 0.1 ,  0.19,  0.28,  0.37,  0.46,  0.55,  0.64,  0.73,  0.82,\n",
        "        0.91,  1.  ]), 'intercept_scaling': array([ 0.1 ,  0.19,  0.28,  0.37,  0.46,  0.55,  0.64,  0.73,  0.82,\n",
        "        0.91,  1.  ]), 'tol': [0.0001, 1e-05], 'fit_intercept': [True]}\n",
        "Fitting 3 folds for each of 14 candidates, totalling 42 fits\n"
       ]
      },
      {
       "output_type": "stream",
       "stream": "stderr",
       "text": [
        "[Parallel(n_jobs=-1)]: Done   1 jobs       | elapsed:    0.0s\n",
        "[Parallel(n_jobs=-1)]: Done  36 out of  42 | elapsed:    0.1s remaining:    0.0s\n",
        "[Parallel(n_jobs=-1)]: Done  42 out of  42 | elapsed:    0.1s finished\n"
       ]
      },
      {
       "output_type": "stream",
       "stream": "stdout",
       "text": [
        "\n",
        "### Optimal parameters: ###\n",
        "{'C': 0.28000000000000003,\n",
        " 'fit_intercept': True,\n",
        " 'intercept_scaling': 0.37,\n",
        " 'penalty': 'l1',\n",
        " 'tol': 0.0001}\n",
        "####################### \n",
        "\n",
        "Using N_iter = 14\n",
        "Simulation with num_features= 6\n",
        "max_features= {'penalty': ['l1', 'l2'], 'C': array([ 0.1 ,  0.19,  0.28,  0.37,  0.46,  0.55,  0.64,  0.73,  0.82,\n",
        "        0.91,  1.  ]), 'intercept_scaling': array([ 0.1 ,  0.19,  0.28,  0.37,  0.46,  0.55,  0.64,  0.73,  0.82,\n",
        "        0.91,  1.  ]), 'tol': [0.0001, 1e-05], 'fit_intercept': [True]}\n",
        "Fitting 3 folds for each of 14 candidates, totalling 42 fits\n"
       ]
      },
      {
       "output_type": "stream",
       "stream": "stderr",
       "text": [
        "[Parallel(n_jobs=-1)]: Done   1 jobs       | elapsed:    0.0s\n",
        "[Parallel(n_jobs=-1)]: Done  36 out of  42 | elapsed:    0.1s remaining:    0.0s\n",
        "[Parallel(n_jobs=-1)]: Done  42 out of  42 | elapsed:    0.1s finished\n"
       ]
      },
      {
       "output_type": "stream",
       "stream": "stdout",
       "text": [
        "\n",
        "### Optimal parameters: ###\n",
        "{'C': 0.19,\n",
        " 'fit_intercept': True,\n",
        " 'intercept_scaling': 0.10000000000000001,\n",
        " 'penalty': 'l2',\n",
        " 'tol': 0.0001}\n",
        "####################### \n",
        "\n",
        "Using N_iter = 14\n",
        "Simulation with num_features= 6\n",
        "max_features= {'penalty': ['l1', 'l2'], 'C': array([ 0.1 ,  0.19,  0.28,  0.37,  0.46,  0.55,  0.64,  0.73,  0.82,\n",
        "        0.91,  1.  ]), 'intercept_scaling': array([ 0.1 ,  0.19,  0.28,  0.37,  0.46,  0.55,  0.64,  0.73,  0.82,\n",
        "        0.91,  1.  ]), 'tol': [0.0001, 1e-05], 'fit_intercept': [True]}\n",
        "Fitting 3 folds for each of 14 candidates, totalling 42 fits\n"
       ]
      },
      {
       "output_type": "stream",
       "stream": "stderr",
       "text": [
        "[Parallel(n_jobs=-1)]: Done   1 jobs       | elapsed:    0.0s\n",
        "[Parallel(n_jobs=-1)]: Done  42 out of  42 | elapsed:    0.1s finished\n"
       ]
      },
      {
       "output_type": "stream",
       "stream": "stdout",
       "text": [
        "\n",
        "### Optimal parameters: ###\n",
        "{'C': 0.90999999999999992,\n",
        " 'fit_intercept': True,\n",
        " 'intercept_scaling': 0.37,\n",
        " 'penalty': 'l1',\n",
        " 'tol': 1e-05}\n",
        "####################### \n",
        "\n",
        "Using N_iter = 14\n",
        "Simulation with num_features= 6\n",
        "max_features= {'penalty': ['l1', 'l2'], 'C': array([ 0.1 ,  0.19,  0.28,  0.37,  0.46,  0.55,  0.64,  0.73,  0.82,\n",
        "        0.91,  1.  ]), 'intercept_scaling': array([ 0.1 ,  0.19,  0.28,  0.37,  0.46,  0.55,  0.64,  0.73,  0.82,\n",
        "        0.91,  1.  ]), 'tol': [0.0001, 1e-05], 'fit_intercept': [True]}\n",
        "Fitting 3 folds for each of 14 candidates, totalling 42 fits\n"
       ]
      },
      {
       "output_type": "stream",
       "stream": "stderr",
       "text": [
        "[Parallel(n_jobs=-1)]: Done   1 jobs       | elapsed:    0.0s\n",
        "[Parallel(n_jobs=-1)]: Done  36 out of  42 | elapsed:    0.1s remaining:    0.0s\n",
        "[Parallel(n_jobs=-1)]: Done  42 out of  42 | elapsed:    0.1s finished\n"
       ]
      },
      {
       "output_type": "stream",
       "stream": "stdout",
       "text": [
        "\n",
        "### Optimal parameters: ###\n",
        "{'C': 0.81999999999999995,\n",
        " 'fit_intercept': True,\n",
        " 'intercept_scaling': 0.10000000000000001,\n",
        " 'penalty': 'l2',\n",
        " 'tol': 0.0001}\n",
        "####################### \n",
        "\n",
        "Using N_iter = 14\n",
        "Simulation with num_features= 6\n",
        "max_features= {'penalty': ['l1', 'l2'], 'C': array([ 0.1 ,  0.19,  0.28,  0.37,  0.46,  0.55,  0.64,  0.73,  0.82,\n",
        "        0.91,  1.  ]), 'intercept_scaling': array([ 0.1 ,  0.19,  0.28,  0.37,  0.46,  0.55,  0.64,  0.73,  0.82,\n",
        "        0.91,  1.  ]), 'tol': [0.0001, 1e-05], 'fit_intercept': [True]}\n",
        "Fitting 3 folds for each of 14 candidates, totalling 42 fits\n"
       ]
      },
      {
       "output_type": "stream",
       "stream": "stderr",
       "text": [
        "[Parallel(n_jobs=-1)]: Done   1 jobs       | elapsed:    0.0s\n",
        "[Parallel(n_jobs=-1)]: Done  36 out of  42 | elapsed:    0.1s remaining:    0.0s\n",
        "[Parallel(n_jobs=-1)]: Done  42 out of  42 | elapsed:    0.1s finished\n"
       ]
      },
      {
       "output_type": "stream",
       "stream": "stdout",
       "text": [
        "\n",
        "### Optimal parameters: ###\n",
        "{'C': 0.54999999999999993,\n",
        " 'fit_intercept': True,\n",
        " 'intercept_scaling': 0.10000000000000001,\n",
        " 'penalty': 'l2',\n",
        " 'tol': 0.0001}\n",
        "####################### \n",
        "\n",
        "Saving output to file for LogisticRegression\n",
        "\n",
        "###### \\CV of testAlgo number 1 for BayesMixed2\n",
        "###\n",
        "\n",
        "###### \\CV of testAlgo number 2 for BayesMixed2\n",
        "###"
       ]
      },
      {
       "output_type": "stream",
       "stream": "stdout",
       "text": [
        "\n",
        "Saving output to file for BayesMixed2"
       ]
      },
      {
       "output_type": "stream",
       "stream": "stdout",
       "text": [
        "\n",
        "Saving output for Core_Imp\n",
        "\n",
        "###### \\CV of testAlgo number 1 for RandomForest\n",
        "###\n",
        "Using N_iter = 5\n",
        "Simulation with num_features= 6\n",
        "max_features= {'n_estimators': [50, 100, 200, 300], 'max_features': [2, 3, 4], 'bootstrap': [True, False], 'criterion': ['gini', 'entropy']}\n",
        "Fitting 3 folds for each of 5 candidates, totalling 15 fits\n"
       ]
      },
      {
       "output_type": "stream",
       "stream": "stderr",
       "text": [
        "[Parallel(n_jobs=-1)]: Done   1 jobs       | elapsed:    0.6s\n",
        "[Parallel(n_jobs=-1)]: Done   9 out of  15 | elapsed:    3.0s remaining:    2.0s\n",
        "[Parallel(n_jobs=-1)]: Done  15 out of  15 | elapsed:    5.4s finished\n"
       ]
      },
      {
       "output_type": "stream",
       "stream": "stdout",
       "text": [
        "\n",
        "### Optimal parameters: ###\n",
        "{'bootstrap': True,\n",
        " 'criterion': 'gini',\n",
        " 'max_features': 2,\n",
        " 'n_estimators': 200}\n",
        "####################### \n",
        "\n",
        "Using N_iter = 5\n",
        "Simulation with num_features= 6\n",
        "max_features= {'n_estimators': [50, 100, 200, 300], 'max_features': [2, 3, 4], 'bootstrap': [True, False], 'criterion': ['gini', 'entropy']}\n",
        "Fitting 3 folds for each of 5 candidates, totalling 15 fits\n"
       ]
      },
      {
       "output_type": "stream",
       "stream": "stderr",
       "text": [
        "[Parallel(n_jobs=-1)]: Done   1 jobs       | elapsed:    1.8s\n",
        "[Parallel(n_jobs=-1)]: Done   9 out of  15 | elapsed:    3.8s remaining:    2.6s\n",
        "[Parallel(n_jobs=-1)]: Done  15 out of  15 | elapsed:    6.4s finished\n"
       ]
      },
      {
       "output_type": "stream",
       "stream": "stdout",
       "text": [
        "\n",
        "### Optimal parameters: ###\n",
        "{'bootstrap': True,\n",
        " 'criterion': 'gini',\n",
        " 'max_features': 3,\n",
        " 'n_estimators': 300}\n",
        "####################### \n",
        "\n",
        "Using N_iter = 5\n",
        "Simulation with num_features= 6\n",
        "max_features= {'n_estimators': [50, 100, 200, 300], 'max_features': [2, 3, 4], 'bootstrap': [True, False], 'criterion': ['gini', 'entropy']}\n",
        "Fitting 3 folds for each of 5 candidates, totalling 15 fits\n"
       ]
      },
      {
       "output_type": "stream",
       "stream": "stderr",
       "text": [
        "[Parallel(n_jobs=-1)]: Done   1 jobs       | elapsed:    0.6s\n",
        "[Parallel(n_jobs=-1)]: Done   9 out of  15 | elapsed:    4.8s remaining:    3.2s\n",
        "[Parallel(n_jobs=-1)]: Done  15 out of  15 | elapsed:    5.3s finished\n"
       ]
      },
      {
       "output_type": "stream",
       "stream": "stdout",
       "text": [
        "\n",
        "### Optimal parameters: ###\n",
        "{'bootstrap': True, 'criterion': 'gini', 'max_features': 2, 'n_estimators': 50}\n",
        "####################### \n",
        "\n",
        "Using N_iter = 5\n",
        "Simulation with num_features= 6\n",
        "max_features= {'n_estimators': [50, 100, 200, 300], 'max_features': [2, 3, 4], 'bootstrap': [True, False], 'criterion': ['gini', 'entropy']}\n",
        "Fitting 3 folds for each of 5 candidates, totalling 15 fits\n"
       ]
      },
      {
       "output_type": "stream",
       "stream": "stderr",
       "text": [
        "[Parallel(n_jobs=-1)]: Done   1 jobs       | elapsed:    0.7s\n",
        "[Parallel(n_jobs=-1)]: Done   9 out of  15 | elapsed:    3.9s remaining:    2.6s\n",
        "[Parallel(n_jobs=-1)]: Done  15 out of  15 | elapsed:    4.5s finished\n"
       ]
      },
      {
       "output_type": "stream",
       "stream": "stdout",
       "text": [
        "\n",
        "### Optimal parameters: ###\n",
        "{'bootstrap': True,\n",
        " 'criterion': 'entropy',\n",
        " 'max_features': 4,\n",
        " 'n_estimators': 100}\n",
        "####################### \n",
        "\n",
        "Using N_iter = 5\n",
        "Simulation with num_features= 6\n",
        "max_features= {'n_estimators': [50, 100, 200, 300], 'max_features': [2, 3, 4], 'bootstrap': [True, False], 'criterion': ['gini', 'entropy']}\n",
        "Fitting 3 folds for each of 5 candidates, totalling 15 fits\n"
       ]
      },
      {
       "output_type": "stream",
       "stream": "stderr",
       "text": [
        "[Parallel(n_jobs=-1)]: Done   1 jobs       | elapsed:    0.7s\n",
        "[Parallel(n_jobs=-1)]: Done  15 out of  15 | elapsed:    4.1s finished\n"
       ]
      },
      {
       "output_type": "stream",
       "stream": "stdout",
       "text": [
        "\n",
        "### Optimal parameters: ###\n",
        "{'bootstrap': True,\n",
        " 'criterion': 'entropy',\n",
        " 'max_features': 3,\n",
        " 'n_estimators': 50}\n",
        "####################### \n",
        "\n",
        "Using N_iter = 5\n",
        "Simulation with num_features= 6\n",
        "max_features= {'n_estimators': [50, 100, 200, 300], 'max_features': [2, 3, 4], 'bootstrap': [True, False], 'criterion': ['gini', 'entropy']}\n",
        "Fitting 3 folds for each of 5 candidates, totalling 15 fits\n"
       ]
      },
      {
       "output_type": "stream",
       "stream": "stderr",
       "text": [
        "[Parallel(n_jobs=-1)]: Done   1 jobs       | elapsed:    1.6s\n",
        "[Parallel(n_jobs=-1)]: Done   9 out of  15 | elapsed:    4.3s remaining:    2.9s\n",
        "[Parallel(n_jobs=-1)]: Done  15 out of  15 | elapsed:    5.5s finished\n"
       ]
      },
      {
       "output_type": "stream",
       "stream": "stdout",
       "text": [
        "\n",
        "### Optimal parameters: ###\n",
        "{'bootstrap': True,\n",
        " 'criterion': 'entropy',\n",
        " 'max_features': 3,\n",
        " 'n_estimators': 200}\n",
        "####################### \n",
        "\n",
        "Using N_iter = 5\n",
        "Simulation with num_features= 6\n",
        "max_features= {'n_estimators': [50, 100, 200, 300], 'max_features': [2, 3, 4], 'bootstrap': [True, False], 'criterion': ['gini', 'entropy']}\n",
        "Fitting 3 folds for each of 5 candidates, totalling 15 fits\n"
       ]
      },
      {
       "output_type": "stream",
       "stream": "stderr",
       "text": [
        "[Parallel(n_jobs=-1)]: Done   1 jobs       | elapsed:    1.4s\n",
        "[Parallel(n_jobs=-1)]: Done   9 out of  15 | elapsed:    5.3s remaining:    3.5s\n",
        "[Parallel(n_jobs=-1)]: Done  15 out of  15 | elapsed:    5.9s finished\n"
       ]
      },
      {
       "output_type": "stream",
       "stream": "stdout",
       "text": [
        "\n",
        "### Optimal parameters: ###\n",
        "{'bootstrap': True,\n",
        " 'criterion': 'entropy',\n",
        " 'max_features': 3,\n",
        " 'n_estimators': 50}\n",
        "####################### \n",
        "\n",
        "Using N_iter = 5\n",
        "Simulation with num_features= 6\n",
        "max_features= {'n_estimators': [50, 100, 200, 300], 'max_features': [2, 3, 4], 'bootstrap': [True, False], 'criterion': ['gini', 'entropy']}\n",
        "Fitting 3 folds for each of 5 candidates, totalling 15 fits\n"
       ]
      },
      {
       "output_type": "stream",
       "stream": "stderr",
       "text": [
        "[Parallel(n_jobs=-1)]: Done   1 jobs       | elapsed:    2.2s\n",
        "[Parallel(n_jobs=-1)]: Done   9 out of  15 | elapsed:    4.8s remaining:    3.2s\n",
        "[Parallel(n_jobs=-1)]: Done  15 out of  15 | elapsed:    6.7s finished\n"
       ]
      },
      {
       "output_type": "stream",
       "stream": "stdout",
       "text": [
        "\n",
        "### Optimal parameters: ###\n",
        "{'bootstrap': True,\n",
        " 'criterion': 'gini',\n",
        " 'max_features': 4,\n",
        " 'n_estimators': 300}\n",
        "####################### \n",
        "\n",
        "Using N_iter = 5\n",
        "Simulation with num_features= 6\n",
        "max_features= {'n_estimators': [50, 100, 200, 300], 'max_features': [2, 3, 4], 'bootstrap': [True, False], 'criterion': ['gini', 'entropy']}\n",
        "Fitting 3 folds for each of 5 candidates, totalling 15 fits\n"
       ]
      },
      {
       "output_type": "stream",
       "stream": "stderr",
       "text": [
        "[Parallel(n_jobs=-1)]: Done   1 jobs       | elapsed:    0.5s\n",
        "[Parallel(n_jobs=-1)]: Done   9 out of  15 | elapsed:    4.7s remaining:    3.1s\n",
        "[Parallel(n_jobs=-1)]: Done  15 out of  15 | elapsed:    5.2s finished\n"
       ]
      },
      {
       "output_type": "stream",
       "stream": "stdout",
       "text": [
        "\n",
        "### Optimal parameters: ###\n",
        "{'bootstrap': False,\n",
        " 'criterion': 'entropy',\n",
        " 'max_features': 2,\n",
        " 'n_estimators': 50}\n",
        "####################### \n",
        "\n",
        "Using N_iter = 5\n",
        "Simulation with num_features= 6\n",
        "max_features= {'n_estimators': [50, 100, 200, 300], 'max_features': [2, 3, 4], 'bootstrap': [True, False], 'criterion': ['gini', 'entropy']}\n",
        "Fitting 3 folds for each of 5 candidates, totalling 15 fits\n"
       ]
      },
      {
       "output_type": "stream",
       "stream": "stderr",
       "text": [
        "[Parallel(n_jobs=-1)]: Done   1 jobs       | elapsed:    0.6s\n",
        "[Parallel(n_jobs=-1)]: Done   9 out of  15 | elapsed:    3.5s remaining:    2.4s\n",
        "[Parallel(n_jobs=-1)]: Done  15 out of  15 | elapsed:    4.1s finished\n"
       ]
      },
      {
       "output_type": "stream",
       "stream": "stdout",
       "text": [
        "\n",
        "### Optimal parameters: ###\n",
        "{'bootstrap': True,\n",
        " 'criterion': 'gini',\n",
        " 'max_features': 2,\n",
        " 'n_estimators': 300}\n",
        "####################### \n",
        "\n",
        "\n",
        "###### \\CV of testAlgo number 2 for RandomForest\n",
        "###\n",
        "Using N_iter = 5\n",
        "Simulation with num_features= 6\n",
        "max_features= {'n_estimators': [50, 100, 200, 300], 'max_features': [2, 3, 4], 'bootstrap': [True, False], 'criterion': ['gini', 'entropy']}\n",
        "Fitting 3 folds for each of 5 candidates, totalling 15 fits\n"
       ]
      },
      {
       "output_type": "stream",
       "stream": "stderr",
       "text": [
        "[Parallel(n_jobs=-1)]: Done   1 jobs       | elapsed:    2.5s\n",
        "[Parallel(n_jobs=-1)]: Done  15 out of  15 | elapsed:    4.1s finished\n"
       ]
      },
      {
       "output_type": "stream",
       "stream": "stdout",
       "text": [
        "\n",
        "### Optimal parameters: ###\n",
        "{'bootstrap': True, 'criterion': 'gini', 'max_features': 4, 'n_estimators': 50}\n",
        "####################### \n",
        "\n",
        "Using N_iter = 5\n",
        "Simulation with num_features= 6\n",
        "max_features= {'n_estimators': [50, 100, 200, 300], 'max_features': [2, 3, 4], 'bootstrap': [True, False], 'criterion': ['gini', 'entropy']}\n",
        "Fitting 3 folds for each of 5 candidates, totalling 15 fits\n"
       ]
      },
      {
       "output_type": "stream",
       "stream": "stderr",
       "text": [
        "[Parallel(n_jobs=-1)]: Done   1 jobs       | elapsed:    1.4s\n",
        "[Parallel(n_jobs=-1)]: Done   9 out of  15 | elapsed:    2.1s remaining:    1.4s\n",
        "[Parallel(n_jobs=-1)]: Done  15 out of  15 | elapsed:    5.8s finished\n"
       ]
      },
      {
       "output_type": "stream",
       "stream": "stdout",
       "text": [
        "\n",
        "### Optimal parameters: ###\n",
        "{'bootstrap': True,\n",
        " 'criterion': 'gini',\n",
        " 'max_features': 3,\n",
        " 'n_estimators': 100}\n",
        "####################### \n",
        "\n",
        "Using N_iter = 5\n",
        "Simulation with num_features= 6\n",
        "max_features= {'n_estimators': [50, 100, 200, 300], 'max_features': [2, 3, 4], 'bootstrap': [True, False], 'criterion': ['gini', 'entropy']}\n",
        "Fitting 3 folds for each of 5 candidates, totalling 15 fits\n"
       ]
      },
      {
       "output_type": "stream",
       "stream": "stderr",
       "text": [
        "[Parallel(n_jobs=-1)]: Done   1 jobs       | elapsed:    1.2s\n",
        "[Parallel(n_jobs=-1)]: Done   9 out of  15 | elapsed:   10.6s remaining:    7.1s\n",
        "[Parallel(n_jobs=-1)]: Done  15 out of  15 | elapsed:   11.5s finished\n"
       ]
      },
      {
       "output_type": "stream",
       "stream": "stdout",
       "text": [
        "\n",
        "### Optimal parameters: ###\n",
        "{'bootstrap': True,\n",
        " 'criterion': 'gini',\n",
        " 'max_features': 3,\n",
        " 'n_estimators': 200}\n",
        "####################### \n",
        "\n",
        "Using N_iter = 5\n",
        "Simulation with num_features= 6\n",
        "max_features= {'n_estimators': [50, 100, 200, 300], 'max_features': [2, 3, 4], 'bootstrap': [True, False], 'criterion': ['gini', 'entropy']}\n",
        "Fitting 3 folds for each of 5 candidates, totalling 15 fits\n"
       ]
      },
      {
       "output_type": "stream",
       "stream": "stderr",
       "text": [
        "[Parallel(n_jobs=-1)]: Done   1 jobs       | elapsed:    3.1s\n",
        "[Parallel(n_jobs=-1)]: Done  15 out of  15 | elapsed:    6.8s finished\n"
       ]
      },
      {
       "output_type": "stream",
       "stream": "stdout",
       "text": [
        "\n",
        "### Optimal parameters: ###\n",
        "{'bootstrap': True,\n",
        " 'criterion': 'entropy',\n",
        " 'max_features': 2,\n",
        " 'n_estimators': 300}\n",
        "####################### \n",
        "\n",
        "Using N_iter = 5\n",
        "Simulation with num_features= 6\n",
        "max_features= {'n_estimators': [50, 100, 200, 300], 'max_features': [2, 3, 4], 'bootstrap': [True, False], 'criterion': ['gini', 'entropy']}\n",
        "Fitting 3 folds for each of 5 candidates, totalling 15 fits\n"
       ]
      },
      {
       "output_type": "stream",
       "stream": "stderr",
       "text": [
        "[Parallel(n_jobs=-1)]: Done   1 jobs       | elapsed:    0.7s\n",
        "[Parallel(n_jobs=-1)]: Done   9 out of  15 | elapsed:    1.8s remaining:    1.2s\n",
        "[Parallel(n_jobs=-1)]: Done  15 out of  15 | elapsed:    4.4s finished\n"
       ]
      },
      {
       "output_type": "stream",
       "stream": "stdout",
       "text": [
        "\n",
        "### Optimal parameters: ###\n",
        "{'bootstrap': True,\n",
        " 'criterion': 'entropy',\n",
        " 'max_features': 2,\n",
        " 'n_estimators': 100}\n",
        "####################### \n",
        "\n",
        "Using N_iter = 5\n",
        "Simulation with num_features= 6\n",
        "max_features= {'n_estimators': [50, 100, 200, 300], 'max_features': [2, 3, 4], 'bootstrap': [True, False], 'criterion': ['gini', 'entropy']}\n",
        "Fitting 3 folds for each of 5 candidates, totalling 15 fits\n"
       ]
      },
      {
       "output_type": "stream",
       "stream": "stderr",
       "text": [
        "[Parallel(n_jobs=-1)]: Done   1 jobs       | elapsed:    0.3s\n",
        "[Parallel(n_jobs=-1)]: Done   9 out of  15 | elapsed:    2.6s remaining:    1.8s\n",
        "[Parallel(n_jobs=-1)]: Done  15 out of  15 | elapsed:    4.0s finished\n"
       ]
      },
      {
       "output_type": "stream",
       "stream": "stdout",
       "text": [
        "\n",
        "### Optimal parameters: ###\n",
        "{'bootstrap': True,\n",
        " 'criterion': 'entropy',\n",
        " 'max_features': 2,\n",
        " 'n_estimators': 100}\n",
        "####################### \n",
        "\n",
        "Using N_iter = 5\n",
        "Simulation with num_features= 6\n",
        "max_features= {'n_estimators': [50, 100, 200, 300], 'max_features': [2, 3, 4], 'bootstrap': [True, False], 'criterion': ['gini', 'entropy']}\n",
        "Fitting 3 folds for each of 5 candidates, totalling 15 fits\n"
       ]
      },
      {
       "output_type": "stream",
       "stream": "stderr",
       "text": [
        "[Parallel(n_jobs=-1)]: Done   1 jobs       | elapsed:    0.9s\n",
        "[Parallel(n_jobs=-1)]: Done  15 out of  15 | elapsed:    2.5s finished\n"
       ]
      },
      {
       "output_type": "stream",
       "stream": "stdout",
       "text": [
        "\n",
        "### Optimal parameters: ###\n",
        "{'bootstrap': True,\n",
        " 'criterion': 'gini',\n",
        " 'max_features': 2,\n",
        " 'n_estimators': 100}\n",
        "####################### \n",
        "\n",
        "Using N_iter = 5\n",
        "Simulation with num_features= 6\n",
        "max_features= {'n_estimators': [50, 100, 200, 300], 'max_features': [2, 3, 4], 'bootstrap': [True, False], 'criterion': ['gini', 'entropy']}\n",
        "Fitting 3 folds for each of 5 candidates, totalling 15 fits\n"
       ]
      },
      {
       "output_type": "stream",
       "stream": "stderr",
       "text": [
        "[Parallel(n_jobs=-1)]: Done   1 jobs       | elapsed:    3.3s\n",
        "[Parallel(n_jobs=-1)]: Done  15 out of  15 | elapsed:    6.5s finished\n"
       ]
      },
      {
       "output_type": "stream",
       "stream": "stdout",
       "text": [
        "\n",
        "### Optimal parameters: ###\n",
        "{'bootstrap': True,\n",
        " 'criterion': 'gini',\n",
        " 'max_features': 2,\n",
        " 'n_estimators': 300}\n",
        "####################### \n",
        "\n",
        "Using N_iter = 5\n",
        "Simulation with num_features= 6\n",
        "max_features= {'n_estimators': [50, 100, 200, 300], 'max_features': [2, 3, 4], 'bootstrap': [True, False], 'criterion': ['gini', 'entropy']}\n",
        "Fitting 3 folds for each of 5 candidates, totalling 15 fits\n"
       ]
      },
      {
       "output_type": "stream",
       "stream": "stderr",
       "text": [
        "[Parallel(n_jobs=-1)]: Done   1 jobs       | elapsed:    0.4s\n",
        "[Parallel(n_jobs=-1)]: Done   9 out of  15 | elapsed:    1.6s remaining:    1.1s\n",
        "[Parallel(n_jobs=-1)]: Done  15 out of  15 | elapsed:    3.2s finished\n"
       ]
      },
      {
       "output_type": "stream",
       "stream": "stdout",
       "text": [
        "\n",
        "### Optimal parameters: ###\n",
        "{'bootstrap': True,\n",
        " 'criterion': 'entropy',\n",
        " 'max_features': 2,\n",
        " 'n_estimators': 300}\n",
        "####################### \n",
        "\n",
        "Using N_iter = 5\n",
        "Simulation with num_features= 6\n",
        "max_features= {'n_estimators': [50, 100, 200, 300], 'max_features': [2, 3, 4], 'bootstrap': [True, False], 'criterion': ['gini', 'entropy']}\n",
        "Fitting 3 folds for each of 5 candidates, totalling 15 fits\n"
       ]
      },
      {
       "output_type": "stream",
       "stream": "stderr",
       "text": [
        "[Parallel(n_jobs=-1)]: Done   1 jobs       | elapsed:    4.5s\n",
        "[Parallel(n_jobs=-1)]: Done   9 out of  15 | elapsed:    5.4s remaining:    3.6s\n",
        "[Parallel(n_jobs=-1)]: Done  15 out of  15 | elapsed:    8.7s finished\n"
       ]
      },
      {
       "output_type": "stream",
       "stream": "stdout",
       "text": [
        "\n",
        "### Optimal parameters: ###\n",
        "{'bootstrap': True,\n",
        " 'criterion': 'gini',\n",
        " 'max_features': 2,\n",
        " 'n_estimators': 100}\n",
        "####################### \n",
        "\n",
        "Saving output to file for RandomForest\n",
        "\n",
        "###### \\CV of testAlgo number 1 for LogisticRegression\n",
        "###\n",
        "Using N_iter = 14\n",
        "Simulation with num_features= 6\n",
        "max_features= {'penalty': ['l1', 'l2'], 'C': array([ 0.1 ,  0.19,  0.28,  0.37,  0.46,  0.55,  0.64,  0.73,  0.82,\n",
        "        0.91,  1.  ]), 'intercept_scaling': array([ 0.1 ,  0.19,  0.28,  0.37,  0.46,  0.55,  0.64,  0.73,  0.82,\n",
        "        0.91,  1.  ]), 'tol': [0.0001, 1e-05], 'fit_intercept': [True]}\n",
        "Fitting 3 folds for each of 14 candidates, totalling 42 fits\n"
       ]
      },
      {
       "output_type": "stream",
       "stream": "stderr",
       "text": [
        "[Parallel(n_jobs=-1)]: Done   1 jobs       | elapsed:    0.0s\n",
        "[Parallel(n_jobs=-1)]: Done  42 out of  42 | elapsed:    0.2s finished\n"
       ]
      },
      {
       "output_type": "stream",
       "stream": "stdout",
       "text": [
        "\n",
        "### Optimal parameters: ###\n",
        "{'C': 0.19,\n",
        " 'fit_intercept': True,\n",
        " 'intercept_scaling': 0.10000000000000001,\n",
        " 'penalty': 'l1',\n",
        " 'tol': 1e-05}\n",
        "####################### \n",
        "\n",
        "Using N_iter = 14\n",
        "Simulation with num_features= 6\n",
        "max_features= {'penalty': ['l1', 'l2'], 'C': array([ 0.1 ,  0.19,  0.28,  0.37,  0.46,  0.55,  0.64,  0.73,  0.82,\n",
        "        0.91,  1.  ]), 'intercept_scaling': array([ 0.1 ,  0.19,  0.28,  0.37,  0.46,  0.55,  0.64,  0.73,  0.82,\n",
        "        0.91,  1.  ]), 'tol': [0.0001, 1e-05], 'fit_intercept': [True]}\n",
        "Fitting 3 folds for each of 14 candidates, totalling 42 fits\n"
       ]
      },
      {
       "output_type": "stream",
       "stream": "stderr",
       "text": [
        "[Parallel(n_jobs=-1)]: Done   1 jobs       | elapsed:    0.0s\n",
        "[Parallel(n_jobs=-1)]: Done  36 out of  42 | elapsed:    0.1s remaining:    0.0s\n",
        "[Parallel(n_jobs=-1)]: Done  42 out of  42 | elapsed:    0.1s finished\n"
       ]
      },
      {
       "output_type": "stream",
       "stream": "stdout",
       "text": [
        "\n",
        "### Optimal parameters: ###\n",
        "{'C': 0.72999999999999998,\n",
        " 'fit_intercept': True,\n",
        " 'intercept_scaling': 0.19,\n",
        " 'penalty': 'l1',\n",
        " 'tol': 1e-05}\n",
        "####################### \n",
        "\n",
        "Using N_iter = 14\n",
        "Simulation with num_features= 6\n",
        "max_features= {'penalty': ['l1', 'l2'], 'C': array([ 0.1 ,  0.19,  0.28,  0.37,  0.46,  0.55,  0.64,  0.73,  0.82,\n",
        "        0.91,  1.  ]), 'intercept_scaling': array([ 0.1 ,  0.19,  0.28,  0.37,  0.46,  0.55,  0.64,  0.73,  0.82,\n",
        "        0.91,  1.  ]), 'tol': [0.0001, 1e-05], 'fit_intercept': [True]}\n",
        "Fitting 3 folds for each of 14 candidates, totalling 42 fits\n"
       ]
      },
      {
       "output_type": "stream",
       "stream": "stderr",
       "text": [
        "[Parallel(n_jobs=-1)]: Done   1 jobs       | elapsed:    0.0s\n",
        "[Parallel(n_jobs=-1)]: Done  42 out of  42 | elapsed:    0.2s finished\n"
       ]
      },
      {
       "output_type": "stream",
       "stream": "stdout",
       "text": [
        "\n",
        "### Optimal parameters: ###\n",
        "{'C': 0.54999999999999993,\n",
        " 'fit_intercept': True,\n",
        " 'intercept_scaling': 0.45999999999999996,\n",
        " 'penalty': 'l2',\n",
        " 'tol': 1e-05}\n",
        "####################### \n",
        "\n",
        "Using N_iter = 14\n",
        "Simulation with num_features= 6\n",
        "max_features= {'penalty': ['l1', 'l2'], 'C': array([ 0.1 ,  0.19,  0.28,  0.37,  0.46,  0.55,  0.64,  0.73,  0.82,\n",
        "        0.91,  1.  ]), 'intercept_scaling': array([ 0.1 ,  0.19,  0.28,  0.37,  0.46,  0.55,  0.64,  0.73,  0.82,\n",
        "        0.91,  1.  ]), 'tol': [0.0001, 1e-05], 'fit_intercept': [True]}\n",
        "Fitting 3 folds for each of 14 candidates, totalling 42 fits\n"
       ]
      },
      {
       "output_type": "stream",
       "stream": "stderr",
       "text": [
        "[Parallel(n_jobs=-1)]: Done   1 jobs       | elapsed:    0.0s\n",
        "[Parallel(n_jobs=-1)]: Done  36 out of  42 | elapsed:    0.1s remaining:    0.0s\n",
        "[Parallel(n_jobs=-1)]: Done  42 out of  42 | elapsed:    0.1s finished\n"
       ]
      },
      {
       "output_type": "stream",
       "stream": "stdout",
       "text": [
        "\n",
        "### Optimal parameters: ###\n",
        "{'C': 0.10000000000000001,\n",
        " 'fit_intercept': True,\n",
        " 'intercept_scaling': 0.45999999999999996,\n",
        " 'penalty': 'l2',\n",
        " 'tol': 1e-05}\n",
        "####################### \n",
        "\n",
        "Using N_iter = 14\n",
        "Simulation with num_features= 6\n",
        "max_features= {'penalty': ['l1', 'l2'], 'C': array([ 0.1 ,  0.19,  0.28,  0.37,  0.46,  0.55,  0.64,  0.73,  0.82,\n",
        "        0.91,  1.  ]), 'intercept_scaling': array([ 0.1 ,  0.19,  0.28,  0.37,  0.46,  0.55,  0.64,  0.73,  0.82,\n",
        "        0.91,  1.  ]), 'tol': [0.0001, 1e-05], 'fit_intercept': [True]}\n",
        "Fitting 3 folds for each of 14 candidates, totalling 42 fits\n"
       ]
      },
      {
       "output_type": "stream",
       "stream": "stderr",
       "text": [
        "[Parallel(n_jobs=-1)]: Done   1 jobs       | elapsed:    0.1s\n",
        "[Parallel(n_jobs=-1)]: Done  42 out of  42 | elapsed:    0.2s finished\n"
       ]
      },
      {
       "output_type": "stream",
       "stream": "stdout",
       "text": [
        "\n",
        "### Optimal parameters: ###\n",
        "{'C': 0.28000000000000003,\n",
        " 'fit_intercept': True,\n",
        " 'intercept_scaling': 0.10000000000000001,\n",
        " 'penalty': 'l1',\n",
        " 'tol': 1e-05}\n",
        "####################### \n",
        "\n",
        "Using N_iter = 14\n",
        "Simulation with num_features= 6\n",
        "max_features= {'penalty': ['l1', 'l2'], 'C': array([ 0.1 ,  0.19,  0.28,  0.37,  0.46,  0.55,  0.64,  0.73,  0.82,\n",
        "        0.91,  1.  ]), 'intercept_scaling': array([ 0.1 ,  0.19,  0.28,  0.37,  0.46,  0.55,  0.64,  0.73,  0.82,\n",
        "        0.91,  1.  ]), 'tol': [0.0001, 1e-05], 'fit_intercept': [True]}\n",
        "Fitting 3 folds for each of 14 candidates, totalling 42 fits\n"
       ]
      },
      {
       "output_type": "stream",
       "stream": "stderr",
       "text": [
        "[Parallel(n_jobs=-1)]: Done   1 jobs       | elapsed:    0.0s\n",
        "[Parallel(n_jobs=-1)]: Done  36 out of  42 | elapsed:    0.2s remaining:    0.0s\n",
        "[Parallel(n_jobs=-1)]: Done  42 out of  42 | elapsed:    0.2s finished\n"
       ]
      },
      {
       "output_type": "stream",
       "stream": "stdout",
       "text": [
        "\n",
        "### Optimal parameters: ###\n",
        "{'C': 0.19,\n",
        " 'fit_intercept': True,\n",
        " 'intercept_scaling': 0.10000000000000001,\n",
        " 'penalty': 'l2',\n",
        " 'tol': 1e-05}\n",
        "####################### \n",
        "\n",
        "Using N_iter = 14\n",
        "Simulation with num_features= 6\n",
        "max_features= {'penalty': ['l1', 'l2'], 'C': array([ 0.1 ,  0.19,  0.28,  0.37,  0.46,  0.55,  0.64,  0.73,  0.82,\n",
        "        0.91,  1.  ]), 'intercept_scaling': array([ 0.1 ,  0.19,  0.28,  0.37,  0.46,  0.55,  0.64,  0.73,  0.82,\n",
        "        0.91,  1.  ]), 'tol': [0.0001, 1e-05], 'fit_intercept': [True]}\n",
        "Fitting 3 folds for each of 14 candidates, totalling 42 fits\n"
       ]
      },
      {
       "output_type": "stream",
       "stream": "stderr",
       "text": [
        "[Parallel(n_jobs=-1)]: Done   1 jobs       | elapsed:    0.0s\n",
        "[Parallel(n_jobs=-1)]: Done  42 out of  42 | elapsed:    0.1s finished\n"
       ]
      },
      {
       "output_type": "stream",
       "stream": "stdout",
       "text": [
        "\n",
        "### Optimal parameters: ###\n",
        "{'C': 0.28000000000000003,\n",
        " 'fit_intercept': True,\n",
        " 'intercept_scaling': 0.10000000000000001,\n",
        " 'penalty': 'l1',\n",
        " 'tol': 0.0001}\n",
        "####################### \n",
        "\n",
        "Using N_iter = 14\n",
        "Simulation with num_features= 6\n",
        "max_features= {'penalty': ['l1', 'l2'], 'C': array([ 0.1 ,  0.19,  0.28,  0.37,  0.46,  0.55,  0.64,  0.73,  0.82,\n",
        "        0.91,  1.  ]), 'intercept_scaling': array([ 0.1 ,  0.19,  0.28,  0.37,  0.46,  0.55,  0.64,  0.73,  0.82,\n",
        "        0.91,  1.  ]), 'tol': [0.0001, 1e-05], 'fit_intercept': [True]}\n",
        "Fitting 3 folds for each of 14 candidates, totalling 42 fits\n"
       ]
      },
      {
       "output_type": "stream",
       "stream": "stderr",
       "text": [
        "[Parallel(n_jobs=-1)]: Done   1 jobs       | elapsed:    0.0s\n",
        "[Parallel(n_jobs=-1)]: Done  36 out of  42 | elapsed:    0.1s remaining:    0.0s\n",
        "[Parallel(n_jobs=-1)]: Done  42 out of  42 | elapsed:    0.1s finished\n"
       ]
      },
      {
       "output_type": "stream",
       "stream": "stdout",
       "text": [
        "\n",
        "### Optimal parameters: ###\n",
        "{'C': 0.28000000000000003,\n",
        " 'fit_intercept': True,\n",
        " 'intercept_scaling': 0.19,\n",
        " 'penalty': 'l1',\n",
        " 'tol': 0.0001}\n",
        "####################### \n",
        "\n",
        "Using N_iter = 14\n",
        "Simulation with num_features= 6\n",
        "max_features= {'penalty': ['l1', 'l2'], 'C': array([ 0.1 ,  0.19,  0.28,  0.37,  0.46,  0.55,  0.64,  0.73,  0.82,\n",
        "        0.91,  1.  ]), 'intercept_scaling': array([ 0.1 ,  0.19,  0.28,  0.37,  0.46,  0.55,  0.64,  0.73,  0.82,\n",
        "        0.91,  1.  ]), 'tol': [0.0001, 1e-05], 'fit_intercept': [True]}\n",
        "Fitting 3 folds for each of 14 candidates, totalling 42 fits\n"
       ]
      },
      {
       "output_type": "stream",
       "stream": "stderr",
       "text": [
        "[Parallel(n_jobs=-1)]: Done   1 jobs       | elapsed:    0.0s\n",
        "[Parallel(n_jobs=-1)]: Done  42 out of  42 | elapsed:    0.2s finished\n"
       ]
      },
      {
       "output_type": "stream",
       "stream": "stdout",
       "text": [
        "\n",
        "### Optimal parameters: ###\n",
        "{'C': 0.45999999999999996,\n",
        " 'fit_intercept': True,\n",
        " 'intercept_scaling': 0.19,\n",
        " 'penalty': 'l2',\n",
        " 'tol': 1e-05}\n",
        "####################### \n",
        "\n",
        "Using N_iter = 14\n",
        "Simulation with num_features= 6\n",
        "max_features= {'penalty': ['l1', 'l2'], 'C': array([ 0.1 ,  0.19,  0.28,  0.37,  0.46,  0.55,  0.64,  0.73,  0.82,\n",
        "        0.91,  1.  ]), 'intercept_scaling': array([ 0.1 ,  0.19,  0.28,  0.37,  0.46,  0.55,  0.64,  0.73,  0.82,\n",
        "        0.91,  1.  ]), 'tol': [0.0001, 1e-05], 'fit_intercept': [True]}\n",
        "Fitting 3 folds for each of 14 candidates, totalling 42 fits\n"
       ]
      },
      {
       "output_type": "stream",
       "stream": "stderr",
       "text": [
        "[Parallel(n_jobs=-1)]: Done   1 jobs       | elapsed:    0.0s\n",
        "[Parallel(n_jobs=-1)]: Done  42 out of  42 | elapsed:    0.2s finished\n"
       ]
      },
      {
       "output_type": "stream",
       "stream": "stdout",
       "text": [
        "\n",
        "### Optimal parameters: ###\n",
        "{'C': 0.19,\n",
        " 'fit_intercept': True,\n",
        " 'intercept_scaling': 0.10000000000000001,\n",
        " 'penalty': 'l1',\n",
        " 'tol': 1e-05}\n",
        "####################### \n",
        "\n",
        "\n",
        "###### \\CV of testAlgo number 2 for LogisticRegression\n",
        "###\n",
        "Using N_iter = 14\n",
        "Simulation with num_features= 6\n",
        "max_features= {'penalty': ['l1', 'l2'], 'C': array([ 0.1 ,  0.19,  0.28,  0.37,  0.46,  0.55,  0.64,  0.73,  0.82,\n",
        "        0.91,  1.  ]), 'intercept_scaling': array([ 0.1 ,  0.19,  0.28,  0.37,  0.46,  0.55,  0.64,  0.73,  0.82,\n",
        "        0.91,  1.  ]), 'tol': [0.0001, 1e-05], 'fit_intercept': [True]}\n",
        "Fitting 3 folds for each of 14 candidates, totalling 42 fits\n"
       ]
      },
      {
       "output_type": "stream",
       "stream": "stderr",
       "text": [
        "[Parallel(n_jobs=-1)]: Done   1 jobs       | elapsed:    0.0s\n",
        "[Parallel(n_jobs=-1)]: Done  42 out of  42 | elapsed:    0.2s finished\n"
       ]
      },
      {
       "output_type": "stream",
       "stream": "stdout",
       "text": [
        "\n",
        "### Optimal parameters: ###\n",
        "{'C': 0.64000000000000001,\n",
        " 'fit_intercept': True,\n",
        " 'intercept_scaling': 0.19,\n",
        " 'penalty': 'l1',\n",
        " 'tol': 0.0001}\n",
        "####################### \n",
        "\n",
        "Using N_iter = 14\n",
        "Simulation with num_features= 6\n",
        "max_features= {'penalty': ['l1', 'l2'], 'C': array([ 0.1 ,  0.19,  0.28,  0.37,  0.46,  0.55,  0.64,  0.73,  0.82,\n",
        "        0.91,  1.  ]), 'intercept_scaling': array([ 0.1 ,  0.19,  0.28,  0.37,  0.46,  0.55,  0.64,  0.73,  0.82,\n",
        "        0.91,  1.  ]), 'tol': [0.0001, 1e-05], 'fit_intercept': [True]}\n",
        "Fitting 3 folds for each of 14 candidates, totalling 42 fits\n"
       ]
      },
      {
       "output_type": "stream",
       "stream": "stderr",
       "text": [
        "[Parallel(n_jobs=-1)]: Done   1 jobs       | elapsed:    0.0s\n",
        "[Parallel(n_jobs=-1)]: Done  36 out of  42 | elapsed:    0.2s remaining:    0.0s\n",
        "[Parallel(n_jobs=-1)]: Done  42 out of  42 | elapsed:    0.2s finished\n"
       ]
      },
      {
       "output_type": "stream",
       "stream": "stdout",
       "text": [
        "\n",
        "### Optimal parameters: ###\n",
        "{'C': 0.90999999999999992,\n",
        " 'fit_intercept': True,\n",
        " 'intercept_scaling': 0.37,\n",
        " 'penalty': 'l1',\n",
        " 'tol': 1e-05}\n",
        "####################### \n",
        "\n",
        "Using N_iter = 14\n",
        "Simulation with num_features= 6\n",
        "max_features= {'penalty': ['l1', 'l2'], 'C': array([ 0.1 ,  0.19,  0.28,  0.37,  0.46,  0.55,  0.64,  0.73,  0.82,\n",
        "        0.91,  1.  ]), 'intercept_scaling': array([ 0.1 ,  0.19,  0.28,  0.37,  0.46,  0.55,  0.64,  0.73,  0.82,\n",
        "        0.91,  1.  ]), 'tol': [0.0001, 1e-05], 'fit_intercept': [True]}\n",
        "Fitting 3 folds for each of 14 candidates, totalling 42 fits\n"
       ]
      },
      {
       "output_type": "stream",
       "stream": "stderr",
       "text": [
        "[Parallel(n_jobs=-1)]: Done   1 jobs       | elapsed:    0.0s\n",
        "[Parallel(n_jobs=-1)]: Done  36 out of  42 | elapsed:    0.1s remaining:    0.0s\n",
        "[Parallel(n_jobs=-1)]: Done  42 out of  42 | elapsed:    0.1s finished\n"
       ]
      },
      {
       "output_type": "stream",
       "stream": "stdout",
       "text": [
        "\n",
        "### Optimal parameters: ###\n",
        "{'C': 0.72999999999999998,\n",
        " 'fit_intercept': True,\n",
        " 'intercept_scaling': 0.54999999999999993,\n",
        " 'penalty': 'l2',\n",
        " 'tol': 1e-05}\n",
        "####################### \n",
        "\n",
        "Using N_iter = 14\n",
        "Simulation with num_features= 6\n",
        "max_features= {'penalty': ['l1', 'l2'], 'C': array([ 0.1 ,  0.19,  0.28,  0.37,  0.46,  0.55,  0.64,  0.73,  0.82,\n",
        "        0.91,  1.  ]), 'intercept_scaling': array([ 0.1 ,  0.19,  0.28,  0.37,  0.46,  0.55,  0.64,  0.73,  0.82,\n",
        "        0.91,  1.  ]), 'tol': [0.0001, 1e-05], 'fit_intercept': [True]}\n",
        "Fitting 3 folds for each of 14 candidates, totalling 42 fits\n"
       ]
      },
      {
       "output_type": "stream",
       "stream": "stderr",
       "text": [
        "[Parallel(n_jobs=-1)]: Done   1 jobs       | elapsed:    0.0s\n",
        "[Parallel(n_jobs=-1)]: Done  42 out of  42 | elapsed:    0.1s finished\n"
       ]
      },
      {
       "output_type": "stream",
       "stream": "stdout",
       "text": [
        "\n",
        "### Optimal parameters: ###\n",
        "{'C': 0.54999999999999993,\n",
        " 'fit_intercept': True,\n",
        " 'intercept_scaling': 0.19,\n",
        " 'penalty': 'l1',\n",
        " 'tol': 1e-05}\n",
        "####################### \n",
        "\n",
        "Using N_iter = 14\n",
        "Simulation with num_features= 6\n",
        "max_features= {'penalty': ['l1', 'l2'], 'C': array([ 0.1 ,  0.19,  0.28,  0.37,  0.46,  0.55,  0.64,  0.73,  0.82,\n",
        "        0.91,  1.  ]), 'intercept_scaling': array([ 0.1 ,  0.19,  0.28,  0.37,  0.46,  0.55,  0.64,  0.73,  0.82,\n",
        "        0.91,  1.  ]), 'tol': [0.0001, 1e-05], 'fit_intercept': [True]}\n",
        "Fitting 3 folds for each of 14 candidates, totalling 42 fits\n"
       ]
      },
      {
       "output_type": "stream",
       "stream": "stderr",
       "text": [
        "[Parallel(n_jobs=-1)]: Done   1 jobs       | elapsed:    0.0s\n",
        "[Parallel(n_jobs=-1)]: Done  36 out of  42 | elapsed:    0.1s remaining:    0.0s\n",
        "[Parallel(n_jobs=-1)]: Done  42 out of  42 | elapsed:    0.1s finished\n"
       ]
      },
      {
       "output_type": "stream",
       "stream": "stdout",
       "text": [
        "\n",
        "### Optimal parameters: ###\n",
        "{'C': 0.19,\n",
        " 'fit_intercept': True,\n",
        " 'intercept_scaling': 1.0,\n",
        " 'penalty': 'l1',\n",
        " 'tol': 0.0001}\n",
        "####################### \n",
        "\n",
        "Using N_iter = 14\n",
        "Simulation with num_features= 6\n",
        "max_features= {'penalty': ['l1', 'l2'], 'C': array([ 0.1 ,  0.19,  0.28,  0.37,  0.46,  0.55,  0.64,  0.73,  0.82,\n",
        "        0.91,  1.  ]), 'intercept_scaling': array([ 0.1 ,  0.19,  0.28,  0.37,  0.46,  0.55,  0.64,  0.73,  0.82,\n",
        "        0.91,  1.  ]), 'tol': [0.0001, 1e-05], 'fit_intercept': [True]}\n",
        "Fitting 3 folds for each of 14 candidates, totalling 42 fits\n"
       ]
      },
      {
       "output_type": "stream",
       "stream": "stderr",
       "text": [
        "[Parallel(n_jobs=-1)]: Done   1 jobs       | elapsed:    0.0s\n",
        "[Parallel(n_jobs=-1)]: Done  42 out of  42 | elapsed:    0.2s finished\n"
       ]
      },
      {
       "output_type": "stream",
       "stream": "stdout",
       "text": [
        "\n",
        "### Optimal parameters: ###\n",
        "{'C': 0.37,\n",
        " 'fit_intercept': True,\n",
        " 'intercept_scaling': 0.10000000000000001,\n",
        " 'penalty': 'l1',\n",
        " 'tol': 1e-05}\n",
        "####################### \n",
        "\n",
        "Using N_iter = 14\n",
        "Simulation with num_features= 6\n",
        "max_features= {'penalty': ['l1', 'l2'], 'C': array([ 0.1 ,  0.19,  0.28,  0.37,  0.46,  0.55,  0.64,  0.73,  0.82,\n",
        "        0.91,  1.  ]), 'intercept_scaling': array([ 0.1 ,  0.19,  0.28,  0.37,  0.46,  0.55,  0.64,  0.73,  0.82,\n",
        "        0.91,  1.  ]), 'tol': [0.0001, 1e-05], 'fit_intercept': [True]}\n",
        "Fitting 3 folds for each of 14 candidates, totalling 42 fits\n"
       ]
      },
      {
       "output_type": "stream",
       "stream": "stderr",
       "text": [
        "[Parallel(n_jobs=-1)]: Done   1 jobs       | elapsed:    0.0s\n",
        "[Parallel(n_jobs=-1)]: Done  36 out of  42 | elapsed:    0.1s remaining:    0.0s\n",
        "[Parallel(n_jobs=-1)]: Done  42 out of  42 | elapsed:    0.1s finished\n"
       ]
      },
      {
       "output_type": "stream",
       "stream": "stdout",
       "text": [
        "\n",
        "### Optimal parameters: ###\n",
        "{'C': 0.72999999999999998,\n",
        " 'fit_intercept': True,\n",
        " 'intercept_scaling': 0.10000000000000001,\n",
        " 'penalty': 'l1',\n",
        " 'tol': 1e-05}\n",
        "####################### \n",
        "\n",
        "Using N_iter = 14\n",
        "Simulation with num_features= 6\n",
        "max_features= {'penalty': ['l1', 'l2'], 'C': array([ 0.1 ,  0.19,  0.28,  0.37,  0.46,  0.55,  0.64,  0.73,  0.82,\n",
        "        0.91,  1.  ]), 'intercept_scaling': array([ 0.1 ,  0.19,  0.28,  0.37,  0.46,  0.55,  0.64,  0.73,  0.82,\n",
        "        0.91,  1.  ]), 'tol': [0.0001, 1e-05], 'fit_intercept': [True]}\n",
        "Fitting 3 folds for each of 14 candidates, totalling 42 fits\n"
       ]
      },
      {
       "output_type": "stream",
       "stream": "stderr",
       "text": [
        "[Parallel(n_jobs=-1)]: Done   1 jobs       | elapsed:    0.0s\n",
        "[Parallel(n_jobs=-1)]: Done  42 out of  42 | elapsed:    0.1s finished\n"
       ]
      },
      {
       "output_type": "stream",
       "stream": "stdout",
       "text": [
        "\n",
        "### Optimal parameters: ###\n",
        "{'C': 0.28000000000000003,\n",
        " 'fit_intercept': True,\n",
        " 'intercept_scaling': 0.19,\n",
        " 'penalty': 'l1',\n",
        " 'tol': 1e-05}\n",
        "####################### \n",
        "\n",
        "Using N_iter = 14\n",
        "Simulation with num_features= 6\n",
        "max_features= {'penalty': ['l1', 'l2'], 'C': array([ 0.1 ,  0.19,  0.28,  0.37,  0.46,  0.55,  0.64,  0.73,  0.82,\n",
        "        0.91,  1.  ]), 'intercept_scaling': array([ 0.1 ,  0.19,  0.28,  0.37,  0.46,  0.55,  0.64,  0.73,  0.82,\n",
        "        0.91,  1.  ]), 'tol': [0.0001, 1e-05], 'fit_intercept': [True]}\n",
        "Fitting 3 folds for each of 14 candidates, totalling 42 fits\n"
       ]
      },
      {
       "output_type": "stream",
       "stream": "stderr",
       "text": [
        "[Parallel(n_jobs=-1)]: Done   1 jobs       | elapsed:    0.0s\n",
        "[Parallel(n_jobs=-1)]: Done  42 out of  42 | elapsed:    0.1s finished\n"
       ]
      },
      {
       "output_type": "stream",
       "stream": "stdout",
       "text": [
        "\n",
        "### Optimal parameters: ###\n",
        "{'C': 0.37,\n",
        " 'fit_intercept': True,\n",
        " 'intercept_scaling': 0.10000000000000001,\n",
        " 'penalty': 'l1',\n",
        " 'tol': 1e-05}\n",
        "####################### \n",
        "\n",
        "Using N_iter = 14\n",
        "Simulation with num_features= 6\n",
        "max_features= {'penalty': ['l1', 'l2'], 'C': array([ 0.1 ,  0.19,  0.28,  0.37,  0.46,  0.55,  0.64,  0.73,  0.82,\n",
        "        0.91,  1.  ]), 'intercept_scaling': array([ 0.1 ,  0.19,  0.28,  0.37,  0.46,  0.55,  0.64,  0.73,  0.82,\n",
        "        0.91,  1.  ]), 'tol': [0.0001, 1e-05], 'fit_intercept': [True]}\n",
        "Fitting 3 folds for each of 14 candidates, totalling 42 fits\n"
       ]
      },
      {
       "output_type": "stream",
       "stream": "stderr",
       "text": [
        "[Parallel(n_jobs=-1)]: Done   1 jobs       | elapsed:    0.0s\n",
        "[Parallel(n_jobs=-1)]: Done  36 out of  42 | elapsed:    0.1s remaining:    0.0s\n",
        "[Parallel(n_jobs=-1)]: Done  42 out of  42 | elapsed:    0.2s finished\n"
       ]
      },
      {
       "output_type": "stream",
       "stream": "stdout",
       "text": [
        "\n",
        "### Optimal parameters: ###\n",
        "{'C': 0.19,\n",
        " 'fit_intercept': True,\n",
        " 'intercept_scaling': 0.37,\n",
        " 'penalty': 'l1',\n",
        " 'tol': 1e-05}\n",
        "####################### \n",
        "\n",
        "Saving output to file for LogisticRegression\n",
        "\n",
        "###### \\CV of testAlgo number 1 for BayesMixed2\n",
        "###\n",
        "\n",
        "###### \\CV of testAlgo number 2 for BayesMixed2\n",
        "###"
       ]
      },
      {
       "output_type": "stream",
       "stream": "stdout",
       "text": [
        "\n",
        "Saving output to file for BayesMixed2"
       ]
      },
      {
       "output_type": "stream",
       "stream": "stdout",
       "text": [
        "\n"
       ]
      }
     ],
     "prompt_number": 2
    },
    {
     "cell_type": "code",
     "collapsed": false,
     "input": [
      "import MSPred as MSP"
     ],
     "language": "python",
     "metadata": {},
     "outputs": [],
     "prompt_number": 1
    },
    {
     "cell_type": "code",
     "collapsed": false,
     "input": [
      "MSP.main()"
     ],
     "language": "python",
     "metadata": {},
     "outputs": [
      {
       "name": "stdout",
       "output_type": "stream",
       "stream": "stdout",
       "text": [
        "Which h5 file? do you want to use (PredData or PredData_Impr0-4)PredData\n"
       ]
      },
      {
       "name": "stdout",
       "output_type": "stream",
       "stream": "stdout",
       "text": [
        "Launch Computation (a) or display result (b)? (a/b) b\n"
       ]
      },
      {
       "name": "stdout",
       "output_type": "stream",
       "stream": "stdout",
       "text": [
        "Do you want to compare different datasets? (Y/N)Y\n"
       ]
      },
      {
       "output_type": "stream",
       "stream": "stdout",
       "text": [
        "Which following datasets do you wanna use?\n",
        "Core\n",
        "Core_Imp\n",
        "CorewFam_Cut\n",
        "CorewStatic_Cut\n",
        "CorewStatic_Imp\n",
        "CorewStaticwExam_Cut\n",
        "CorewStaticwExam_Imp\n",
        "CorewStaticwExamwMRI_Imp\n",
        "CorewStaticwExamwMRIwoT2L_CutVDL_Imp\n",
        "CorewStaticwExamwMRIwoT2L_Imp\n",
        "CorewStaticwExamwMRIwoT2LwoVDL_Imp\n",
        "CorewStaticwExamwMRIwoVDL_CutT2L_Imp\n",
        "CorewStaticwExamwMRIwoVDL_Imp\n",
        "CorewStaticwExamwoVDL\n",
        "CorewStaticwExamwoVDL_Cut\n",
        "CorewStaticwFam_Cut\n",
        "CorewStaticwGenetics_Cut\n",
        "CorewStaticwGenetics_Imp\n",
        "CorewStaticwMRI_Imp\n",
        "CorewStaticwTreatment\n",
        "CorewStaticwoOW\n",
        "CorewmodFam_Cut\n",
        "CorewoRate\n",
        "EDSS\n",
        "EDSSwEDSSRate\n"
       ]
      },
      {
       "name": "stdout",
       "output_type": "stream",
       "stream": "stdout",
       "text": [
        "Please input in a list format, e.g. [\"Core\", \"Core_Imp\"][\"Core\", \"Core_Imp\"]\n"
       ]
      },
      {
       "output_type": "stream",
       "stream": "stdout",
       "text": [
        "Which following classifiers do you wanna use?\n",
        "RandomForest\n",
        "LogisticRegression\n",
        "BayesMixed2\n"
       ]
      },
      {
       "name": "stdout",
       "output_type": "stream",
       "stream": "stdout",
       "text": [
        "Please input in a list format, e.g. [\"RandomForest\", \"LogisticRegression\"][\"RandomForest\", \"LogisticRegression\"]\n"
       ]
      }
     ]
    },
    {
     "cell_type": "code",
     "collapsed": false,
     "input": [
      "clfName = 'RandomForest'\n",
      "obj = 'Core'\n",
      "opt = True\n",
      "y_pred, y_true, grids_score, imp = MSP.open_output(clfName, obj, opt)\n"
     ],
     "language": "python",
     "metadata": {},
     "outputs": [
      {
       "output_type": "stream",
       "stream": "stdout",
       "text": [
        "Open output for RandomForest\n"
       ]
      }
     ],
     "prompt_number": 6
    },
    {
     "cell_type": "code",
     "collapsed": false,
     "input": [
      "len(y_true[0])"
     ],
     "language": "python",
     "metadata": {},
     "outputs": [
      {
       "metadata": {},
       "output_type": "pyout",
       "prompt_number": 16,
       "text": [
        "243"
       ]
      }
     ],
     "prompt_number": 16
    },
    {
     "cell_type": "code",
     "collapsed": false,
     "input": [
      "len(y_pred[0])"
     ],
     "language": "python",
     "metadata": {},
     "outputs": [
      {
       "metadata": {},
       "output_type": "pyout",
       "prompt_number": 17,
       "text": [
        "243"
       ]
      }
     ],
     "prompt_number": 17
    },
    {
     "cell_type": "code",
     "collapsed": false,
     "input": [],
     "language": "python",
     "metadata": {},
     "outputs": []
    }
   ],
   "metadata": {}
  }
 ]
}