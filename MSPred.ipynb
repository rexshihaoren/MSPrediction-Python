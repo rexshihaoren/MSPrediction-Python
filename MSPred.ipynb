{
 "metadata": {
  "name": "",
  "signature": "sha256:13fd204a45b469415bba2d45b36333ab93866b3e7d34453d095375374faa2a0f"
 },
 "nbformat": 3,
 "nbformat_minor": 0,
 "worksheets": [
  {
   "cells": [
    {
     "cell_type": "code",
     "collapsed": false,
     "input": [
      "MSPred Notebook"
     ],
     "language": "python",
     "metadata": {},
     "outputs": []
    },
    {
     "cell_type": "code",
     "collapsed": false,
     "input": [
      "import MSPred as ms\n",
      "import sklearn as sk\n",
      "import numpy as np\n",
      "import sys\n",
      "import os\n",
      "import matplotlib.pyplot as plt\n",
      "import pylab as pl\n",
      "import h5py as hp\n",
      "from pprint import pprint\n",
      "import inspect\n",
      "reload(ms)\n",
      "# %load_ext autoreload\n",
      "# %autoreload 2"
     ],
     "language": "python",
     "metadata": {},
     "outputs": [
      {
       "metadata": {},
       "output_type": "pyout",
       "prompt_number": 3,
       "text": [
        "<module 'MSPred' from 'MSPred.pyc'>"
       ]
      }
     ],
     "prompt_number": 3
    },
    {
     "cell_type": "heading",
     "level": 2,
     "metadata": {},
     "source": [
      "Preparing the data"
     ]
    },
    {
     "cell_type": "code",
     "collapsed": false,
     "input": [
      "data_path = './data/predData.h5'\n",
      "f = hp.File(data_path, 'r')\n",
      "objs = [str(i) for i in f.keys()]\n",
      "f.close()\n",
      "print objs"
     ],
     "language": "python",
     "metadata": {},
     "outputs": [
      {
       "output_type": "stream",
       "stream": "stdout",
       "text": [
        "['Core', 'Core_Imp', 'CorewFam', 'CorewStatic_Cut', 'CorewStatic_Imp', 'CorewStaticwExam_Cut', 'CorewStaticwExam_Imp', 'CorewStaticwExamwMRI_Imp', 'CorewStaticwExamwMRIwoT2L_CutVDL_Imp', 'CorewStaticwExamwMRIwoT2L_Imp', 'CorewStaticwExamwMRIwoT2LwoVDL_Imp', 'CorewStaticwExamwMRIwoVDL_CutT2L_Imp', 'CorewStaticwExamwMRIwoVDL_Imp', 'CorewStaticwExamwoVDL', 'CorewStaticwExamwoVDL_Cut', 'CorewStaticwFam', 'CorewStaticwGenetics_Cut', 'CorewStaticwGenetics_Imp', 'CorewStaticwMRI_Imp', 'CorewStaticwTreatment', 'CorewStaticwoOW', 'CorewmodFam', 'CorewoRate', 'EDSS', 'EDSSwEDSSRate']\n"
       ]
      }
     ],
     "prompt_number": 4
    },
    {
     "cell_type": "code",
     "collapsed": false,
     "input": [
      "obj = \"CorewStaticwExamwMRI_Imp\"\n",
      "target = 'ModEDSS'"
     ],
     "language": "python",
     "metadata": {},
     "outputs": [],
     "prompt_number": 5
    },
    {
     "cell_type": "code",
     "collapsed": false,
     "input": [
      "global featureNames\n",
      "X, y, featureNames = ms.pred_prep(data_path, obj, target)\n",
      "global num_features\n",
      "try:\n",
      "    num_features = X.shape[1]\n",
      "except IndexError:\n",
      "    X = X.reshape(X.shape[0], 1)\n",
      "    num_features = 1"
     ],
     "language": "python",
     "metadata": {},
     "outputs": [],
     "prompt_number": 6
    },
    {
     "cell_type": "heading",
     "level": 2,
     "metadata": {},
     "source": [
      "Preparing the classifier and parameters"
     ]
    },
    {
     "cell_type": "code",
     "collapsed": false,
     "input": [
      "clf = sk.ensemble.GradientBoostingClassifier()\n",
      "gbm_params = {\n",
      "\"learning_rate\" : [0.03, 0.05, 0.1, 0.15],\n",
      "\"n_estimators\" : range(100, 300, 100)\n",
      "}\n",
      "clfName = \"GBD\"\n",
      "opt = True"
     ],
     "language": "python",
     "metadata": {},
     "outputs": [],
     "prompt_number": 7
    },
    {
     "cell_type": "heading",
     "level": 2,
     "metadata": {},
     "source": [
      "Running the computations"
     ]
    },
    {
     "cell_type": "code",
     "collapsed": false,
     "input": [
      "# Some one shot tests\n",
      "impr_clf, grids_score0, imp0 = ms.fitAlgo(clf, X, y, opt, gbm_params, n_iter = 40)\n",
      "pprint(impr_clf.get_params())\n",
      "\n",
      "# Some badass CV with no optimazation\n",
      "y_pred, y_true, grids, imp = ms.testAlgo(clf, X, y, clfName, featureNames, opt=False)#, n_iter = 10, param_dict=gbm_params)\n",
      "mean_fpr, mean_tpr, mean_auc = ms.plot_roc(y_pred, y_true, clfName, obj, opt=False)"
     ],
     "language": "python",
     "metadata": {},
     "outputs": [
      {
       "output_type": "stream",
       "stream": "stdout",
       "text": [
        "Using N_iter = 23\n",
        "('Simulation with num_features=', 6)\n",
        "('max_features=', {'n_estimators': [100, 200], 'learning_rate': [0.05, 0.1, 0.15, 0.2]})\n",
        "Fitting 3 folds for each of 23 candidates, totalling 69 fits\n"
       ]
      },
      {
       "output_type": "stream",
       "stream": "stderr",
       "text": [
        "[Parallel(n_jobs=-1)]: Done   1 jobs       | elapsed:    0.5s\n",
        "[Parallel(n_jobs=-1)]: Done  47 out of  69 | elapsed:    3.6s remaining:    1.7s\n",
        "[Parallel(n_jobs=-1)]: Done  69 out of  69 | elapsed:    4.4s finished\n"
       ]
      },
      {
       "output_type": "stream",
       "stream": "stdout",
       "text": [
        "\n",
        "### Optimal parameters: ###\n",
        "{'learning_rate': 0.05, 'n_estimators': 100}\n",
        "####################### \n",
        "\n",
        "{'init': None,\n",
        " 'learning_rate': 0.05,\n",
        " 'loss': 'deviance',\n",
        " 'max_depth': 3,\n",
        " 'max_features': None,\n",
        " 'max_leaf_nodes': None,\n",
        " 'min_samples_leaf': 1,\n",
        " 'min_samples_split': 2,\n",
        " 'n_estimators': 100,\n",
        " 'random_state': None,\n",
        " 'subsample': 1.0,\n",
        " 'verbose': 0,\n",
        " 'warm_start': False}\n",
        "\n",
        "###### \n",
        "iteration of testAlgo number 1 for GBD\n",
        "###\n",
        "\n",
        "###### \n",
        "iteration of testAlgo number 2 for GBD\n",
        "###"
       ]
      },
      {
       "output_type": "stream",
       "stream": "stdout",
       "text": [
        "\n",
        "\n",
        "###### \n",
        "iteration of testAlgo number 3 for GBD\n",
        "###"
       ]
      },
      {
       "output_type": "stream",
       "stream": "stdout",
       "text": [
        "\n",
        "\n",
        "###### \n",
        "iteration of testAlgo number 4 for GBD\n",
        "###"
       ]
      },
      {
       "output_type": "stream",
       "stream": "stdout",
       "text": [
        "\n",
        "\n",
        "###### \n",
        "iteration of testAlgo number 5 for GBD\n",
        "###"
       ]
      },
      {
       "output_type": "stream",
       "stream": "stdout",
       "text": [
        "\n",
        "\n",
        "###### \n",
        "iteration of testAlgo number 6 for GBD\n",
        "###"
       ]
      },
      {
       "output_type": "stream",
       "stream": "stdout",
       "text": [
        "\n",
        "\n",
        "###### \n",
        "iteration of testAlgo number 7 for GBD\n",
        "###"
       ]
      },
      {
       "output_type": "stream",
       "stream": "stdout",
       "text": [
        "\n",
        "\n",
        "###### \n",
        "iteration of testAlgo number 8 for GBD\n",
        "###"
       ]
      },
      {
       "output_type": "stream",
       "stream": "stdout",
       "text": [
        "\n",
        "\n",
        "###### \n",
        "iteration of testAlgo number 9 for GBD\n",
        "###"
       ]
      },
      {
       "output_type": "stream",
       "stream": "stdout",
       "text": [
        "\n",
        "\n",
        "###### \n",
        "iteration of testAlgo number 10 for GBD\n",
        "###"
       ]
      },
      {
       "output_type": "stream",
       "stream": "stdout",
       "text": [
        "\n",
        "ROC AUC: 0.76"
       ]
      },
      {
       "output_type": "stream",
       "stream": "stdout",
       "text": [
        "\n",
        "GBD\n"
       ]
      }
     ],
     "prompt_number": 141
    },
    {
     "cell_type": "code",
     "collapsed": false,
     "input": [
      "pprint(datatype)\n",
      "np.dtype([('name', np.str_, 16), ('grades', np.float64, (2,))])\n",
      "np.dtype(datatype)\n",
      "np.array(grids2, np.dtype(datatype))"
     ],
     "language": "python",
     "metadata": {},
     "outputs": [
      {
       "output_type": "stream",
       "stream": "stdout",
       "text": [
        "[('n_estimators', dtype('int64')),\n",
        " ('learning_rate', dtype('float64')),\n",
        " ('mean_validation_score', dtype('float64')),\n",
        " ('std', dtype('float64'))]\n"
       ]
      },
      {
       "ename": "TypeError",
       "evalue": "expected a readable buffer object",
       "output_type": "pyerr",
       "traceback": [
        "\u001b[0;31m---------------------------------------------------------------------------\u001b[0m\n\u001b[0;31mTypeError\u001b[0m                                 Traceback (most recent call last)",
        "\u001b[0;32m<ipython-input-169-8e3492910631>\u001b[0m in \u001b[0;36m<module>\u001b[0;34m()\u001b[0m\n\u001b[1;32m      2\u001b[0m \u001b[0mnp\u001b[0m\u001b[0;34m.\u001b[0m\u001b[0mdtype\u001b[0m\u001b[0;34m(\u001b[0m\u001b[0;34m[\u001b[0m\u001b[0;34m(\u001b[0m\u001b[0;34m'name'\u001b[0m\u001b[0;34m,\u001b[0m \u001b[0mnp\u001b[0m\u001b[0;34m.\u001b[0m\u001b[0mstr_\u001b[0m\u001b[0;34m,\u001b[0m \u001b[0;36m16\u001b[0m\u001b[0;34m)\u001b[0m\u001b[0;34m,\u001b[0m \u001b[0;34m(\u001b[0m\u001b[0;34m'grades'\u001b[0m\u001b[0;34m,\u001b[0m \u001b[0mnp\u001b[0m\u001b[0;34m.\u001b[0m\u001b[0mfloat64\u001b[0m\u001b[0;34m,\u001b[0m \u001b[0;34m(\u001b[0m\u001b[0;36m2\u001b[0m\u001b[0;34m,\u001b[0m\u001b[0;34m)\u001b[0m\u001b[0;34m)\u001b[0m\u001b[0;34m]\u001b[0m\u001b[0;34m)\u001b[0m\u001b[0;34m\u001b[0m\u001b[0m\n\u001b[1;32m      3\u001b[0m \u001b[0mnp\u001b[0m\u001b[0;34m.\u001b[0m\u001b[0mdtype\u001b[0m\u001b[0;34m(\u001b[0m\u001b[0mdatatype\u001b[0m\u001b[0;34m)\u001b[0m\u001b[0;34m\u001b[0m\u001b[0m\n\u001b[0;32m----> 4\u001b[0;31m \u001b[0mnp\u001b[0m\u001b[0;34m.\u001b[0m\u001b[0marray\u001b[0m\u001b[0;34m(\u001b[0m\u001b[0mgrids2\u001b[0m\u001b[0;34m,\u001b[0m \u001b[0mnp\u001b[0m\u001b[0;34m.\u001b[0m\u001b[0mdtype\u001b[0m\u001b[0;34m(\u001b[0m\u001b[0mdatatype\u001b[0m\u001b[0;34m)\u001b[0m\u001b[0;34m)\u001b[0m\u001b[0;34m\u001b[0m\u001b[0m\n\u001b[0m",
        "\u001b[0;31mTypeError\u001b[0m: expected a readable buffer object"
       ]
      }
     ],
     "prompt_number": 169
    },
    {
     "cell_type": "code",
     "collapsed": false,
     "input": [
      "dir(grids2[0])"
     ],
     "language": "python",
     "metadata": {},
     "outputs": [
      {
       "metadata": {},
       "output_type": "pyout",
       "prompt_number": 93,
       "text": [
        "['__add__',\n",
        " '__class__',\n",
        " '__contains__',\n",
        " '__delattr__',\n",
        " '__dict__',\n",
        " '__doc__',\n",
        " '__eq__',\n",
        " '__format__',\n",
        " '__ge__',\n",
        " '__getattribute__',\n",
        " '__getitem__',\n",
        " '__getnewargs__',\n",
        " '__getslice__',\n",
        " '__getstate__',\n",
        " '__gt__',\n",
        " '__hash__',\n",
        " '__init__',\n",
        " '__iter__',\n",
        " '__le__',\n",
        " '__len__',\n",
        " '__lt__',\n",
        " '__module__',\n",
        " '__mul__',\n",
        " '__ne__',\n",
        " '__new__',\n",
        " '__reduce__',\n",
        " '__reduce_ex__',\n",
        " '__repr__',\n",
        " '__rmul__',\n",
        " '__setattr__',\n",
        " '__sizeof__',\n",
        " '__slots__',\n",
        " '__str__',\n",
        " '__subclasshook__',\n",
        " '_asdict',\n",
        " '_fields',\n",
        " '_make',\n",
        " '_replace',\n",
        " 'count',\n",
        " 'cv_validation_scores',\n",
        " 'index',\n",
        " 'mean_validation_score',\n",
        " 'parameters']"
       ]
      }
     ],
     "prompt_number": 93
    },
    {
     "cell_type": "code",
     "collapsed": false,
     "input": [
      "print(grids2[0].cv_validation_scores)\n",
      "print(grids2[0])\n",
      "print(grids2[0].__class__)\n",
      "grids2[0].mean_validation_score"
     ],
     "language": "python",
     "metadata": {},
     "outputs": [
      {
       "output_type": "stream",
       "stream": "stdout",
       "text": [
        "[ 0.75011753  0.76935833  0.7227168 ]\n",
        "mean: 0.74741, std: 0.01914, params: {'n_estimators': 100, 'learning_rate': 0.15}\n",
        "<class 'sklearn.grid_search._CVScoreTuple'>\n"
       ]
      },
      {
       "metadata": {},
       "output_type": "pyout",
       "prompt_number": 103,
       "text": [
        "0.74740773997835108"
       ]
      }
     ],
     "prompt_number": 103
    },
    {
     "cell_type": "code",
     "collapsed": false,
     "input": [
      "gg = grids2[0]\n",
      "type(gg)"
     ],
     "language": "python",
     "metadata": {},
     "outputs": [
      {
       "metadata": {},
       "output_type": "pyout",
       "prompt_number": 106,
       "text": [
        "sklearn.grid_search._CVScoreTuple"
       ]
      }
     ],
     "prompt_number": 106
    },
    {
     "cell_type": "code",
     "collapsed": false,
     "input": [
      "grids_score = grids_score0\n",
      "fields = grids_score[0].parameters.keys() + list(['mean_validation_score'])\n",
      "fields.append('std')\n",
      "grids2 = map(lambda x: tuple(x.parameters.values()+[x.mean_validation_score,x.cv_validation_scores.std()]),grids_score)\n",
      "datatype = [(fields[i], np.result_type(grids2[0][i]) if not isinstance(grids2[0][i], str) else '|S14') for i in range(0, len(fields))]\n",
      "grids_score = np.array(grids2, dtype = datatype)"
     ],
     "language": "python",
     "metadata": {},
     "outputs": [
      {
       "metadata": {},
       "output_type": "pyout",
       "prompt_number": 172,
       "text": [
        "array([(100, 0.05, 0.7645853365253278, 0.022296739824092998),\n",
        "       (100, 0.05, 0.7645853365253278, 0.022296739824092998),\n",
        "       (100, 0.05, 0.7645853365253278, 0.022296739824092998),\n",
        "       (200, 0.05, 0.7573178510247076, 0.021850572253740076),\n",
        "       (100, 0.15, 0.7453486956915159, 0.01882969800163739),\n",
        "       (200, 0.15, 0.7274820625070573, 0.015856155483444895),\n",
        "       (200, 0.05, 0.7572406812069721, 0.021845305131585713),\n",
        "       (100, 0.1, 0.7561564253493038, 0.01959062588647138),\n",
        "       (100, 0.1, 0.7561564253493038, 0.01959062588647138),\n",
        "       (200, 0.2, 0.7212436566367602, 0.017012192210627802),\n",
        "       (200, 0.05, 0.7573912528432091, 0.022398621406816963),\n",
        "       (100, 0.2, 0.7387763215813375, 0.01352785222229536),\n",
        "       (200, 0.05, 0.7573912528432091, 0.022398621406816963),\n",
        "       (100, 0.1, 0.7574095701550907, 0.020984382219756483),\n",
        "       (100, 0.15, 0.7461157547291553, 0.01916665484969302),\n",
        "       (200, 0.05, 0.7571444065138188, 0.021325637962342842),\n",
        "       (100, 0.2, 0.7396091046546808, 0.011286598637004486),\n",
        "       (200, 0.1, 0.743187220652123, 0.01979692866003742),\n",
        "       (100, 0.05, 0.7644997084354636, 0.022153234260297996),\n",
        "       (200, 0.2, 0.7200210101543181, 0.016038580896943967),\n",
        "       (100, 0.15, 0.7460108126901579, 0.01878446377382563),\n",
        "       (200, 0.15, 0.7278617694220375, 0.015882050793819998),\n",
        "       (100, 0.1, 0.7564154398740247, 0.02000491543515631)], \n",
        "      dtype=[('n_estimators', '<i8'), ('learning_rate', '<f8'), ('mean_validation_score', '<f8'), ('std', '<f8')])"
       ]
      }
     ],
     "prompt_number": 172
    },
    {
     "cell_type": "code",
     "collapsed": false,
     "input": [
      "reload(ms)"
     ],
     "language": "python",
     "metadata": {},
     "outputs": [
      {
       "metadata": {},
       "output_type": "pyout",
       "prompt_number": 173,
       "text": [
        "<module 'MSPred' from 'MSPred.py'>"
       ]
      }
     ],
     "prompt_number": 173
    },
    {
     "cell_type": "code",
     "collapsed": false,
     "input": [
      "# The real deal\n",
      "y_pred, y_true, grids, imp = ms.testAlgo(clf, X, y, clfName, featureNames, opt, n_iter = 5, param_dict=gbm_params)"
     ],
     "language": "python",
     "metadata": {},
     "outputs": [
      {
       "output_type": "stream",
       "stream": "stdout",
       "text": [
        "\n",
        "###### \\CV of testAlgo number 1 for GBD\n",
        "###\n",
        "Using N_iter = 3\n",
        "('Simulation with num_features=', 6)\n",
        "('max_features=', {'n_estimators': [100, 200], 'learning_rate': [0.05, 0.1, 0.15, 0.2]})\n",
        "Fitting 3 folds for each of 3 candidates, totalling 9 fits\n"
       ]
      },
      {
       "output_type": "stream",
       "stream": "stderr",
       "text": [
        "[Parallel(n_jobs=-1)]: Done   1 jobs       | elapsed:    0.3s\n",
        "[Parallel(n_jobs=-1)]: Done   7 out of   9 | elapsed:    0.8s remaining:    0.2s\n",
        "[Parallel(n_jobs=-1)]: Done   9 out of   9 | elapsed:    0.8s finished\n"
       ]
      },
      {
       "output_type": "stream",
       "stream": "stdout",
       "text": [
        "\n",
        "### Optimal parameters: ###\n",
        "{'learning_rate': 0.1, 'n_estimators': 100}\n",
        "####################### \n",
        "\n",
        "Using N_iter = 3\n",
        "('Simulation with num_features=', 6)\n",
        "('max_features=', {'n_estimators': [100, 200], 'learning_rate': [0.05, 0.1, 0.15, 0.2]})\n",
        "Fitting 3 folds for each of 3 candidates, totalling 9 fits\n"
       ]
      },
      {
       "output_type": "stream",
       "stream": "stderr",
       "text": [
        "[Parallel(n_jobs=-1)]: Done   7 out of   9 | elapsed:    0.4s remaining:    0.1s\n",
        "[Parallel(n_jobs=-1)]: Done   1 out of   9 | elapsed:    0.6s remaining:    5.2s\n",
        "[Parallel(n_jobs=-1)]: Done   9 out of   9 | elapsed:    0.7s finished\n"
       ]
      },
      {
       "output_type": "stream",
       "stream": "stdout",
       "text": [
        "\n",
        "### Optimal parameters: ###\n",
        "{'learning_rate': 0.05, 'n_estimators': 100}\n",
        "####################### \n",
        "\n",
        "Using N_iter = 3\n",
        "('Simulation with num_features=', 6)\n",
        "('max_features=', {'n_estimators': [100, 200], 'learning_rate': [0.05, 0.1, 0.15, 0.2]})\n",
        "Fitting 3 folds for each of 3 candidates, totalling 9 fits\n"
       ]
      },
      {
       "output_type": "stream",
       "stream": "stderr",
       "text": [
        "[Parallel(n_jobs=-1)]: Done   1 out of   9 | elapsed:    0.6s remaining:    5.0s\n",
        "[Parallel(n_jobs=-1)]: Done   7 out of   9 | elapsed:    0.8s remaining:    0.2s\n",
        "[Parallel(n_jobs=-1)]: Done   9 out of   9 | elapsed:    0.8s finished\n"
       ]
      },
      {
       "output_type": "stream",
       "stream": "stdout",
       "text": [
        "\n",
        "### Optimal parameters: ###\n",
        "{'learning_rate': 0.05, 'n_estimators': 100}\n",
        "####################### \n",
        "\n",
        "Using N_iter = 3\n",
        "('Simulation with num_features=', 6)\n",
        "('max_features=', {'n_estimators': [100, 200], 'learning_rate': [0.05, 0.1, 0.15, 0.2]})\n",
        "Fitting 3 folds for each of 3 candidates, totalling 9 fits\n"
       ]
      },
      {
       "output_type": "stream",
       "stream": "stderr",
       "text": [
        "[Parallel(n_jobs=-1)]: Done   1 out of   9 | elapsed:    0.4s remaining:    3.2s\n",
        "[Parallel(n_jobs=-1)]: Done   7 out of   9 | elapsed:    0.7s remaining:    0.2s\n",
        "[Parallel(n_jobs=-1)]: Done   9 out of   9 | elapsed:    0.7s finished\n"
       ]
      },
      {
       "output_type": "stream",
       "stream": "stdout",
       "text": [
        "\n",
        "### Optimal parameters: ###\n",
        "{'learning_rate': 0.15, 'n_estimators': 100}\n",
        "####################### \n",
        "\n",
        "Using N_iter = 3\n",
        "('Simulation with num_features=', 6)\n",
        "('max_features=', {'n_estimators': [100, 200], 'learning_rate': [0.05, 0.1, 0.15, 0.2]})\n",
        "Fitting 3 folds for each of 3 candidates, totalling 9 fits\n"
       ]
      },
      {
       "output_type": "stream",
       "stream": "stderr",
       "text": [
        "[Parallel(n_jobs=-1)]: Done   1 out of   9 | elapsed:    0.6s remaining:    5.1s\n",
        "[Parallel(n_jobs=-1)]: Done   9 out of   9 | elapsed:    0.8s finished\n"
       ]
      },
      {
       "output_type": "stream",
       "stream": "stdout",
       "text": [
        "\n",
        "### Optimal parameters: ###\n",
        "{'learning_rate': 0.05, 'n_estimators': 100}\n",
        "####################### \n",
        "\n",
        "Using N_iter = 3\n",
        "('Simulation with num_features=', 6)\n",
        "('max_features=', {'n_estimators': [100, 200], 'learning_rate': [0.05, 0.1, 0.15, 0.2]})\n",
        "Fitting 3 folds for each of 3 candidates, totalling 9 fits\n"
       ]
      },
      {
       "output_type": "stream",
       "stream": "stderr",
       "text": [
        "[Parallel(n_jobs=-1)]: Done   7 out of   9 | elapsed:    0.5s remaining:    0.1s\n",
        "[Parallel(n_jobs=-1)]: Done   1 out of   9 | elapsed:    0.7s remaining:    5.8s\n",
        "[Parallel(n_jobs=-1)]: Done   9 out of   9 | elapsed:    0.7s finished\n"
       ]
      },
      {
       "output_type": "stream",
       "stream": "stdout",
       "text": [
        "\n",
        "### Optimal parameters: ###\n",
        "{'learning_rate': 0.1, 'n_estimators': 100}\n",
        "####################### \n",
        "\n",
        "Using N_iter = 3\n",
        "('Simulation with num_features=', 6)\n",
        "('max_features=', {'n_estimators': [100, 200], 'learning_rate': [0.05, 0.1, 0.15, 0.2]})\n",
        "Fitting 3 folds for each of 3 candidates, totalling 9 fits\n"
       ]
      },
      {
       "output_type": "stream",
       "stream": "stderr",
       "text": [
        "[Parallel(n_jobs=-1)]: Done   7 out of   9 | elapsed:    0.4s remaining:    0.1s\n",
        "[Parallel(n_jobs=-1)]: Done   1 out of   9 | elapsed:    0.7s remaining:    5.2s\n",
        "[Parallel(n_jobs=-1)]: Done   9 out of   9 | elapsed:    0.7s finished\n"
       ]
      },
      {
       "output_type": "stream",
       "stream": "stdout",
       "text": [
        "\n",
        "### Optimal parameters: ###\n",
        "{'learning_rate': 0.05, 'n_estimators': 100}\n",
        "####################### \n",
        "\n",
        "Using N_iter = 3\n",
        "('Simulation with num_features=', 6)\n",
        "('max_features=', {'n_estimators': [100, 200], 'learning_rate': [0.05, 0.1, 0.15, 0.2]})\n",
        "Fitting 3 folds for each of 3 candidates, totalling 9 fits\n"
       ]
      },
      {
       "output_type": "stream",
       "stream": "stderr",
       "text": [
        "[Parallel(n_jobs=-1)]: Done   7 out of   9 | elapsed:    0.3s remaining:    0.1s\n",
        "[Parallel(n_jobs=-1)]: Done   1 out of   9 | elapsed:    0.7s remaining:    5.3s\n",
        "[Parallel(n_jobs=-1)]: Done   9 out of   9 | elapsed:    0.7s finished\n"
       ]
      },
      {
       "output_type": "stream",
       "stream": "stdout",
       "text": [
        "\n",
        "### Optimal parameters: ###\n",
        "{'learning_rate': 0.15, 'n_estimators': 100}\n",
        "####################### \n",
        "\n",
        "Using N_iter = 3\n",
        "('Simulation with num_features=', 6)\n",
        "('max_features=', {'n_estimators': [100, 200], 'learning_rate': [0.05, 0.1, 0.15, 0.2]})\n",
        "Fitting 3 folds for each of 3 candidates, totalling 9 fits\n"
       ]
      },
      {
       "output_type": "stream",
       "stream": "stderr",
       "text": [
        "[Parallel(n_jobs=-1)]: Done   1 out of   9 | elapsed:    0.7s remaining:    5.7s\n",
        "[Parallel(n_jobs=-1)]: Done   7 out of   9 | elapsed:    0.9s remaining:    0.2s\n",
        "[Parallel(n_jobs=-1)]: Done   9 out of   9 | elapsed:    0.9s finished\n"
       ]
      },
      {
       "output_type": "stream",
       "stream": "stdout",
       "text": [
        "\n",
        "### Optimal parameters: ###\n",
        "{'learning_rate': 0.05, 'n_estimators': 200}\n",
        "####################### \n",
        "\n",
        "Using N_iter = 3\n",
        "('Simulation with num_features=', 6)\n",
        "('max_features=', {'n_estimators': [100, 200], 'learning_rate': [0.05, 0.1, 0.15, 0.2]})\n",
        "Fitting 3 folds for each of 3 candidates, totalling 9 fits\n"
       ]
      },
      {
       "output_type": "stream",
       "stream": "stdout",
       "text": [
        "\n",
        "### Optimal parameters: ###\n",
        "{'learning_rate': 0.05, 'n_estimators': 200}\n",
        "####################### \n",
        "\n",
        "\n",
        "###### \\CV of testAlgo number 2 for GBD\n",
        "###\n",
        "Using N_iter = 3\n",
        "('Simulation with num_features=', 6)\n",
        "('max_features=', {'n_estimators': [100, 200], 'learning_rate': [0.05, 0.1, 0.15, 0.2]})\n",
        "Fitting 3 folds for each of 3 candidates, totalling 9 fits\n"
       ]
      },
      {
       "output_type": "stream",
       "stream": "stderr",
       "text": [
        "[Parallel(n_jobs=-1)]: Done   1 out of   9 | elapsed:    0.8s remaining:    6.8s\n",
        "[Parallel(n_jobs=-1)]: Done   7 out of   9 | elapsed:    0.9s remaining:    0.3s\n",
        "[Parallel(n_jobs=-1)]: Done   9 out of   9 | elapsed:    0.9s finished\n"
       ]
      },
      {
       "output_type": "stream",
       "stream": "stderr",
       "text": [
        "[Parallel(n_jobs=-1)]: Done   1 out of   9 | elapsed:    0.4s remaining:    3.4s\n",
        "[Parallel(n_jobs=-1)]: Done   7 out of   9 | elapsed:    0.5s remaining:    0.1s\n",
        "[Parallel(n_jobs=-1)]: Done   9 out of   9 | elapsed:    0.8s finished\n"
       ]
      },
      {
       "output_type": "stream",
       "stream": "stdout",
       "text": [
        "\n",
        "### Optimal parameters: ###\n",
        "{'learning_rate': 0.1, 'n_estimators': 200}\n",
        "####################### \n",
        "\n",
        "Using N_iter = 3\n",
        "('Simulation with num_features=', 6)\n",
        "('max_features=', {'n_estimators': [100, 200], 'learning_rate': [0.05, 0.1, 0.15, 0.2]})\n",
        "Fitting 3 folds for each of 3 candidates, totalling 9 fits\n"
       ]
      },
      {
       "output_type": "stream",
       "stream": "stderr",
       "text": [
        "[Parallel(n_jobs=-1)]: Done   7 out of   9 | elapsed:    0.5s remaining:    0.1s\n",
        "[Parallel(n_jobs=-1)]: Done   1 out of   9 | elapsed:    0.8s remaining:    6.2s\n",
        "[Parallel(n_jobs=-1)]: Done   9 out of   9 | elapsed:    0.8s finished\n"
       ]
      },
      {
       "output_type": "stream",
       "stream": "stdout",
       "text": [
        "\n",
        "### Optimal parameters: ###\n",
        "{'learning_rate': 0.2, 'n_estimators': 100}\n",
        "####################### \n",
        "\n",
        "Using N_iter = 3\n",
        "('Simulation with num_features=', 6)\n",
        "('max_features=', {'n_estimators': [100, 200], 'learning_rate': [0.05, 0.1, 0.15, 0.2]})\n",
        "Fitting 3 folds for each of 3 candidates, totalling 9 fits\n"
       ]
      },
      {
       "output_type": "stream",
       "stream": "stderr",
       "text": [
        "[Parallel(n_jobs=-1)]: Done   1 out of   9 | elapsed:    0.4s remaining:    3.6s\n",
        "[Parallel(n_jobs=-1)]: Done   7 out of   9 | elapsed:    0.7s remaining:    0.2s\n",
        "[Parallel(n_jobs=-1)]: Done   9 out of   9 | elapsed:    0.7s finished\n"
       ]
      },
      {
       "output_type": "stream",
       "stream": "stdout",
       "text": [
        "\n",
        "### Optimal parameters: ###\n",
        "{'learning_rate': 0.1, 'n_estimators': 100}\n",
        "####################### \n",
        "\n",
        "Using N_iter = 3\n",
        "('Simulation with num_features=', 6)\n",
        "('max_features=', {'n_estimators': [100, 200], 'learning_rate': [0.05, 0.1, 0.15, 0.2]})\n",
        "Fitting 3 folds for each of 3 candidates, totalling 9 fits\n"
       ]
      },
      {
       "output_type": "stream",
       "stream": "stderr",
       "text": [
        "[Parallel(n_jobs=-1)]: Done   1 out of   9 | elapsed:    0.6s remaining:    5.1s\n",
        "[Parallel(n_jobs=-1)]: Done   7 out of   9 | elapsed:    0.8s remaining:    0.2s\n",
        "[Parallel(n_jobs=-1)]: Done   9 out of   9 | elapsed:    0.9s finished\n"
       ]
      },
      {
       "output_type": "stream",
       "stream": "stdout",
       "text": [
        "\n",
        "### Optimal parameters: ###\n",
        "{'learning_rate': 0.05, 'n_estimators': 200}\n",
        "####################### \n",
        "\n",
        "Using N_iter = 3\n",
        "('Simulation with num_features=', 6)\n",
        "('max_features=', {'n_estimators': [100, 200], 'learning_rate': [0.05, 0.1, 0.15, 0.2]})\n",
        "Fitting 3 folds for each of 3 candidates, totalling 9 fits\n"
       ]
      },
      {
       "output_type": "stream",
       "stream": "stderr",
       "text": [
        "[Parallel(n_jobs=-1)]: Done   1 out of   9 | elapsed:    0.8s remaining:    6.3s\n",
        "[Parallel(n_jobs=-1)]: Done   7 out of   9 | elapsed:    0.8s remaining:    0.2s\n",
        "[Parallel(n_jobs=-1)]: Done   9 out of   9 | elapsed:    0.9s finished\n"
       ]
      },
      {
       "output_type": "stream",
       "stream": "stdout",
       "text": [
        "\n",
        "### Optimal parameters: ###\n",
        "{'learning_rate': 0.1, 'n_estimators': 200}\n",
        "####################### \n",
        "\n",
        "Using N_iter = 3\n",
        "('Simulation with num_features=', 6)\n",
        "('max_features=', {'n_estimators': [100, 200], 'learning_rate': [0.05, 0.1, 0.15, 0.2]})\n",
        "Fitting 3 folds for each of 3 candidates, totalling 9 fits\n"
       ]
      },
      {
       "output_type": "stream",
       "stream": "stderr",
       "text": [
        "[Parallel(n_jobs=-1)]: Done   1 out of   9 | elapsed:    0.6s remaining:    5.1s\n",
        "[Parallel(n_jobs=-1)]: Done   7 out of   9 | elapsed:    0.7s remaining:    0.2s\n",
        "[Parallel(n_jobs=-1)]: Done   9 out of   9 | elapsed:    0.8s finished\n"
       ]
      },
      {
       "output_type": "stream",
       "stream": "stdout",
       "text": [
        "\n",
        "### Optimal parameters: ###\n",
        "{'learning_rate': 0.15, 'n_estimators': 100}\n",
        "####################### \n",
        "\n",
        "Using N_iter = 3\n",
        "('Simulation with num_features=', 6)\n",
        "('max_features=', {'n_estimators': [100, 200], 'learning_rate': [0.05, 0.1, 0.15, 0.2]})\n",
        "Fitting 3 folds for each of 3 candidates, totalling 9 fits\n"
       ]
      },
      {
       "output_type": "stream",
       "stream": "stderr",
       "text": [
        "[Parallel(n_jobs=-1)]: Done   1 out of   9 | elapsed:    0.3s remaining:    2.7s\n",
        "[Parallel(n_jobs=-1)]: Done   7 out of   9 | elapsed:    0.4s remaining:    0.1s\n",
        "[Parallel(n_jobs=-1)]: Done   9 out of   9 | elapsed:    0.4s finished\n"
       ]
      },
      {
       "output_type": "stream",
       "stream": "stdout",
       "text": [
        "\n",
        "### Optimal parameters: ###\n",
        "{'learning_rate': 0.05, 'n_estimators': 100}\n",
        "####################### \n",
        "\n",
        "Using N_iter = 3\n",
        "('Simulation with num_features=', 6)\n",
        "('max_features=', {'n_estimators': [100, 200], 'learning_rate': [0.05, 0.1, 0.15, 0.2]})\n",
        "Fitting 3 folds for each of 3 candidates, totalling 9 fits\n"
       ]
      },
      {
       "output_type": "stream",
       "stream": "stderr",
       "text": [
        "[Parallel(n_jobs=-1)]: Done   7 out of   9 | elapsed:    0.7s remaining:    0.2s\n",
        "[Parallel(n_jobs=-1)]: Done   1 out of   9 | elapsed:    0.7s remaining:    5.8s\n",
        "[Parallel(n_jobs=-1)]: Done   9 out of   9 | elapsed:    0.8s finished\n"
       ]
      },
      {
       "output_type": "stream",
       "stream": "stdout",
       "text": [
        "\n",
        "### Optimal parameters: ###\n",
        "{'learning_rate': 0.1, 'n_estimators': 100}\n",
        "####################### \n",
        "\n",
        "Using N_iter = 3\n",
        "('Simulation with num_features=', 6)\n",
        "('max_features=', {'n_estimators': [100, 200], 'learning_rate': [0.05, 0.1, 0.15, 0.2]})\n",
        "Fitting 3 folds for each of 3 candidates, totalling 9 fits\n"
       ]
      },
      {
       "output_type": "stream",
       "stream": "stderr",
       "text": [
        "[Parallel(n_jobs=-1)]: Done   1 out of   9 | elapsed:    0.5s remaining:    3.7s\n",
        "[Parallel(n_jobs=-1)]: Done   7 out of   9 | elapsed:    0.8s remaining:    0.2s\n",
        "[Parallel(n_jobs=-1)]: Done   9 out of   9 | elapsed:    0.8s finished\n"
       ]
      },
      {
       "output_type": "stream",
       "stream": "stdout",
       "text": [
        "\n",
        "### Optimal parameters: ###\n",
        "{'learning_rate': 0.05, 'n_estimators': 100}\n",
        "####################### \n",
        "\n",
        "Using N_iter = 3\n",
        "('Simulation with num_features=', 6)\n",
        "('max_features=', {'n_estimators': [100, 200], 'learning_rate': [0.05, 0.1, 0.15, 0.2]})\n",
        "Fitting 3 folds for each of 3 candidates, totalling 9 fits\n"
       ]
      },
      {
       "output_type": "stream",
       "stream": "stderr",
       "text": [
        "[Parallel(n_jobs=-1)]: Done   7 out of   9 | elapsed:    0.4s remaining:    0.1s\n",
        "[Parallel(n_jobs=-1)]: Done   1 out of   9 | elapsed:    0.7s remaining:    5.7s\n",
        "[Parallel(n_jobs=-1)]: Done   9 out of   9 | elapsed:    0.7s finished\n"
       ]
      },
      {
       "output_type": "stream",
       "stream": "stdout",
       "text": [
        "\n",
        "### Optimal parameters: ###\n",
        "{'learning_rate': 0.15, 'n_estimators': 100}\n",
        "####################### \n",
        "\n",
        "\n",
        "###### \\CV of testAlgo number 3 for GBD\n",
        "###\n",
        "Using N_iter = 3\n",
        "('Simulation with num_features=', 6)\n",
        "('max_features=', {'n_estimators': [100, 200], 'learning_rate': [0.05, 0.1, 0.15, 0.2]})\n",
        "Fitting 3 folds for each of 3 candidates, totalling 9 fits\n"
       ]
      },
      {
       "output_type": "stream",
       "stream": "stdout",
       "text": [
        "\n",
        "### Optimal parameters: ###\n",
        "{'learning_rate': 0.1, 'n_estimators': 100}\n",
        "####################### \n",
        "\n",
        "Using N_iter = 3\n",
        "('Simulation with num_features=', 6)\n",
        "('max_features=', {'n_estimators': [100, 200], 'learning_rate': [0.05, 0.1, 0.15, 0.2]})\n",
        "Fitting 3 folds for each of 3 candidates, totalling 9 fits\n"
       ]
      },
      {
       "output_type": "stream",
       "stream": "stderr",
       "text": [
        "[Parallel(n_jobs=-1)]: Done   1 out of   9 | elapsed:    0.4s remaining:    3.3s\n",
        "[Parallel(n_jobs=-1)]: Done   7 out of   9 | elapsed:    0.4s remaining:    0.1s\n",
        "[Parallel(n_jobs=-1)]: Done   9 out of   9 | elapsed:    0.4s finished\n"
       ]
      },
      {
       "output_type": "stream",
       "stream": "stderr",
       "text": [
        "[Parallel(n_jobs=-1)]: Done   1 out of   9 | elapsed:    0.4s remaining:    3.3s\n",
        "[Parallel(n_jobs=-1)]: Done   7 out of   9 | elapsed:    0.8s remaining:    0.2s\n",
        "[Parallel(n_jobs=-1)]: Done   9 out of   9 | elapsed:    0.8s finished\n"
       ]
      },
      {
       "output_type": "stream",
       "stream": "stdout",
       "text": [
        "\n",
        "### Optimal parameters: ###\n",
        "{'learning_rate': 0.05, 'n_estimators': 100}\n",
        "####################### \n",
        "\n",
        "Using N_iter = 3\n",
        "('Simulation with num_features=', 6)\n",
        "('max_features=', {'n_estimators': [100, 200], 'learning_rate': [0.05, 0.1, 0.15, 0.2]})\n",
        "Fitting 3 folds for each of 3 candidates, totalling 9 fits\n"
       ]
      },
      {
       "output_type": "stream",
       "stream": "stdout",
       "text": [
        "\n",
        "### Optimal parameters: ###\n",
        "{'learning_rate': 0.1, 'n_estimators': 100}\n",
        "####################### \n",
        "\n",
        "Using N_iter = 3\n",
        "('Simulation with num_features=', 6)\n",
        "('max_features=', {'n_estimators': [100, 200], 'learning_rate': [0.05, 0.1, 0.15, 0.2]})\n",
        "Fitting 3 folds for each of 3 candidates, totalling 9 fits\n"
       ]
      },
      {
       "output_type": "stream",
       "stream": "stderr",
       "text": [
        "[Parallel(n_jobs=-1)]: Done   7 out of   9 | elapsed:    0.8s remaining:    0.2s\n",
        "[Parallel(n_jobs=-1)]: Done   1 out of   9 | elapsed:    0.8s remaining:    6.2s\n",
        "[Parallel(n_jobs=-1)]: Done   9 out of   9 | elapsed:    0.8s finished\n"
       ]
      },
      {
       "output_type": "stream",
       "stream": "stdout",
       "text": [
        "\n",
        "### Optimal parameters: ###\n",
        "{'learning_rate': 0.2, 'n_estimators': 200}\n",
        "####################### \n",
        "\n",
        "Using N_iter = 3\n",
        "('Simulation with num_features=', 6)\n",
        "('max_features=', {'n_estimators': [100, 200], 'learning_rate': [0.05, 0.1, 0.15, 0.2]})\n",
        "Fitting 3 folds for each of 3 candidates, totalling 9 fits\n"
       ]
      },
      {
       "output_type": "stream",
       "stream": "stderr",
       "text": [
        "[Parallel(n_jobs=-1)]: Done   1 out of   9 | elapsed:    0.8s remaining:    6.6s\n",
        "[Parallel(n_jobs=-1)]: Done   7 out of   9 | elapsed:    0.8s remaining:    0.2s\n",
        "[Parallel(n_jobs=-1)]: Done   9 out of   9 | elapsed:    0.8s finished\n"
       ]
      },
      {
       "output_type": "stream",
       "stream": "stderr",
       "text": [
        "[Parallel(n_jobs=-1)]: Done   1 out of   9 | elapsed:    0.3s remaining:    2.6s\n",
        "[Parallel(n_jobs=-1)]: Done   7 out of   9 | elapsed:    0.8s remaining:    0.2s\n",
        "[Parallel(n_jobs=-1)]: Done   9 out of   9 | elapsed:    0.8s finished\n"
       ]
      },
      {
       "output_type": "stream",
       "stream": "stdout",
       "text": [
        "\n",
        "### Optimal parameters: ###\n",
        "{'learning_rate': 0.1, 'n_estimators': 100}\n",
        "####################### \n",
        "\n",
        "Using N_iter = 3\n",
        "('Simulation with num_features=', 6)\n",
        "('max_features=', {'n_estimators': [100, 200], 'learning_rate': [0.05, 0.1, 0.15, 0.2]})\n",
        "Fitting 3 folds for each of 3 candidates, totalling 9 fits\n"
       ]
      },
      {
       "output_type": "stream",
       "stream": "stderr",
       "text": [
        "[Parallel(n_jobs=-1)]: Done   7 out of   9 | elapsed:    0.5s remaining:    0.1s\n",
        "[Parallel(n_jobs=-1)]: Done   1 out of   9 | elapsed:    0.7s remaining:    5.2s\n",
        "[Parallel(n_jobs=-1)]: Done   9 out of   9 | elapsed:    0.8s finished\n"
       ]
      },
      {
       "output_type": "stream",
       "stream": "stdout",
       "text": [
        "\n",
        "### Optimal parameters: ###\n",
        "{'learning_rate': 0.1, 'n_estimators': 100}\n",
        "####################### \n",
        "\n",
        "Using N_iter = 3\n",
        "('Simulation with num_features=', 6)\n",
        "('max_features=', {'n_estimators': [100, 200], 'learning_rate': [0.05, 0.1, 0.15, 0.2]})\n",
        "Fitting 3 folds for each of 3 candidates, totalling 9 fits\n"
       ]
      },
      {
       "output_type": "stream",
       "stream": "stderr",
       "text": [
        "[Parallel(n_jobs=-1)]: Done   7 out of   9 | elapsed:    0.4s remaining:    0.1s\n",
        "[Parallel(n_jobs=-1)]: Done   1 out of   9 | elapsed:    0.5s remaining:    3.7s\n",
        "[Parallel(n_jobs=-1)]: Done   9 out of   9 | elapsed:    0.7s finished\n"
       ]
      },
      {
       "output_type": "stream",
       "stream": "stdout",
       "text": [
        "\n",
        "### Optimal parameters: ###\n",
        "{'learning_rate': 0.05, 'n_estimators': 100}\n",
        "####################### \n",
        "\n",
        "Using N_iter = 3\n",
        "('Simulation with num_features=', 6)\n",
        "('max_features=', {'n_estimators': [100, 200], 'learning_rate': [0.05, 0.1, 0.15, 0.2]})\n",
        "Fitting 3 folds for each of 3 candidates, totalling 9 fits\n"
       ]
      },
      {
       "output_type": "stream",
       "stream": "stdout",
       "text": [
        "\n",
        "### Optimal parameters: ###\n",
        "{'learning_rate': 0.05, 'n_estimators': 200}\n",
        "####################### \n",
        "\n",
        "Using N_iter = 3\n",
        "('Simulation with num_features=', 6)\n",
        "('max_features=', {'n_estimators': [100, 200], 'learning_rate': [0.05, 0.1, 0.15, 0.2]})\n",
        "Fitting 3 folds for each of 3 candidates, totalling 9 fits\n"
       ]
      },
      {
       "output_type": "stream",
       "stream": "stderr",
       "text": [
        "[Parallel(n_jobs=-1)]: Done   1 out of   9 | elapsed:    0.8s remaining:    6.2s\n",
        "[Parallel(n_jobs=-1)]: Done   7 out of   9 | elapsed:    0.8s remaining:    0.2s\n",
        "[Parallel(n_jobs=-1)]: Done   9 out of   9 | elapsed:    0.8s finished\n"
       ]
      },
      {
       "output_type": "stream",
       "stream": "stderr",
       "text": [
        "[Parallel(n_jobs=-1)]: Done   7 out of   9 | elapsed:    0.7s remaining:    0.2s\n",
        "[Parallel(n_jobs=-1)]: Done   1 out of   9 | elapsed:    0.8s remaining:    6.0s\n",
        "[Parallel(n_jobs=-1)]: Done   9 out of   9 | elapsed:    0.8s finished\n"
       ]
      },
      {
       "output_type": "stream",
       "stream": "stdout",
       "text": [
        "\n",
        "### Optimal parameters: ###\n",
        "{'learning_rate': 0.1, 'n_estimators': 200}\n",
        "####################### \n",
        "\n",
        "Using N_iter = 3\n",
        "('Simulation with num_features=', 6)\n",
        "('max_features=', {'n_estimators': [100, 200], 'learning_rate': [0.05, 0.1, 0.15, 0.2]})\n",
        "Fitting 3 folds for each of 3 candidates, totalling 9 fits\n"
       ]
      },
      {
       "output_type": "stream",
       "stream": "stdout",
       "text": [
        "\n",
        "### Optimal parameters: ###\n",
        "{'learning_rate': 0.05, 'n_estimators': 100}\n",
        "####################### \n",
        "\n",
        "\n",
        "###### \\CV of testAlgo number 4 for GBD\n",
        "###\n",
        "Using N_iter = 3\n",
        "('Simulation with num_features=', 6)\n",
        "('max_features=', {'n_estimators': [100, 200], 'learning_rate': [0.05, 0.1, 0.15, 0.2]})\n",
        "Fitting 3 folds for each of 3 candidates, totalling 9 fits\n"
       ]
      },
      {
       "output_type": "stream",
       "stream": "stderr",
       "text": [
        "[Parallel(n_jobs=-1)]: Done   1 out of   9 | elapsed:    0.4s remaining:    3.3s\n",
        "[Parallel(n_jobs=-1)]: Done   7 out of   9 | elapsed:    0.4s remaining:    0.1s\n",
        "[Parallel(n_jobs=-1)]: Done   9 out of   9 | elapsed:    0.4s finished\n"
       ]
      },
      {
       "output_type": "stream",
       "stream": "stderr",
       "text": [
        "[Parallel(n_jobs=-1)]: Done   1 jobs       | elapsed:    0.3s\n",
        "[Parallel(n_jobs=-1)]: Done   7 out of   9 | elapsed:    0.4s remaining:    0.1s\n",
        "[Parallel(n_jobs=-1)]: Done   9 out of   9 | elapsed:    0.4s finished\n"
       ]
      },
      {
       "output_type": "stream",
       "stream": "stdout",
       "text": [
        "\n",
        "### Optimal parameters: ###\n",
        "{'learning_rate': 0.05, 'n_estimators': 100}\n",
        "####################### \n",
        "\n",
        "Using N_iter = 3\n",
        "('Simulation with num_features=', 6)\n",
        "('max_features=', {'n_estimators': [100, 200], 'learning_rate': [0.05, 0.1, 0.15, 0.2]})\n",
        "Fitting 3 folds for each of 3 candidates, totalling 9 fits\n"
       ]
      },
      {
       "output_type": "stream",
       "stream": "stderr",
       "text": [
        "[Parallel(n_jobs=-1)]: Done   7 out of   9 | elapsed:    0.3s remaining:    0.1s\n",
        "[Parallel(n_jobs=-1)]: Done   1 out of   9 | elapsed:    0.7s remaining:    5.7s\n",
        "[Parallel(n_jobs=-1)]: Done   9 out of   9 | elapsed:    0.7s finished\n"
       ]
      },
      {
       "output_type": "stream",
       "stream": "stdout",
       "text": [
        "\n",
        "### Optimal parameters: ###\n",
        "{'learning_rate': 0.1, 'n_estimators': 100}\n",
        "####################### \n",
        "\n",
        "Using N_iter = 3\n",
        "('Simulation with num_features=', 6)\n",
        "('max_features=', {'n_estimators': [100, 200], 'learning_rate': [0.05, 0.1, 0.15, 0.2]})\n",
        "Fitting 3 folds for each of 3 candidates, totalling 9 fits\n"
       ]
      },
      {
       "output_type": "stream",
       "stream": "stderr",
       "text": [
        "[Parallel(n_jobs=-1)]: Done   1 out of   9 | elapsed:    0.6s remaining:    5.0s\n",
        "[Parallel(n_jobs=-1)]: Done   7 out of   9 | elapsed:    0.8s remaining:    0.2s\n",
        "[Parallel(n_jobs=-1)]: Done   9 out of   9 | elapsed:    0.8s finished\n"
       ]
      },
      {
       "output_type": "stream",
       "stream": "stdout",
       "text": [
        "\n",
        "### Optimal parameters: ###\n",
        "{'learning_rate': 0.05, 'n_estimators': 100}\n",
        "####################### \n",
        "\n",
        "Using N_iter = 3\n",
        "('Simulation with num_features=', 6)\n",
        "('max_features=', {'n_estimators': [100, 200], 'learning_rate': [0.05, 0.1, 0.15, 0.2]})\n",
        "Fitting 3 folds for each of 3 candidates, totalling 9 fits\n"
       ]
      },
      {
       "output_type": "stream",
       "stream": "stderr",
       "text": [
        "[Parallel(n_jobs=-1)]: Done   7 out of   9 | elapsed:    0.4s remaining:    0.1s\n",
        "[Parallel(n_jobs=-1)]: Done   1 out of   9 | elapsed:    0.7s remaining:    5.8s\n",
        "[Parallel(n_jobs=-1)]: Done   9 out of   9 | elapsed:    0.7s finished\n"
       ]
      },
      {
       "output_type": "stream",
       "stream": "stdout",
       "text": [
        "\n",
        "### Optimal parameters: ###\n",
        "{'learning_rate': 0.1, 'n_estimators': 100}\n",
        "####################### \n",
        "\n",
        "Using N_iter = 3\n",
        "('Simulation with num_features=', 6)\n",
        "('max_features=', {'n_estimators': [100, 200], 'learning_rate': [0.05, 0.1, 0.15, 0.2]})\n",
        "Fitting 3 folds for each of 3 candidates, totalling 9 fits\n"
       ]
      },
      {
       "output_type": "stream",
       "stream": "stdout",
       "text": [
        "\n",
        "### Optimal parameters: ###\n",
        "{'learning_rate': 0.15, 'n_estimators': 100}\n",
        "####################### \n",
        "\n",
        "Using N_iter = 3\n",
        "('Simulation with num_features=', 6)\n",
        "('max_features=', {'n_estimators': [100, 200], 'learning_rate': [0.05, 0.1, 0.15, 0.2]})\n",
        "Fitting 3 folds for each of 3 candidates, totalling 9 fits\n"
       ]
      },
      {
       "output_type": "stream",
       "stream": "stderr",
       "text": [
        "[Parallel(n_jobs=-1)]: Done   1 out of   9 | elapsed:    0.8s remaining:    6.1s\n",
        "[Parallel(n_jobs=-1)]: Done   9 out of   9 | elapsed:    0.8s finished\n"
       ]
      },
      {
       "output_type": "stream",
       "stream": "stderr",
       "text": [
        "[Parallel(n_jobs=-1)]: Done   7 out of   9 | elapsed:    0.5s remaining:    0.1s\n",
        "[Parallel(n_jobs=-1)]: Done   1 out of   9 | elapsed:    0.6s remaining:    5.1s\n",
        "[Parallel(n_jobs=-1)]: Done   9 out of   9 | elapsed:    0.8s finished\n"
       ]
      },
      {
       "output_type": "stream",
       "stream": "stdout",
       "text": [
        "\n",
        "### Optimal parameters: ###\n",
        "{'learning_rate': 0.1, 'n_estimators': 100}\n",
        "####################### \n",
        "\n",
        "Using N_iter = 3\n",
        "('Simulation with num_features=', 6)\n",
        "('max_features=', {'n_estimators': [100, 200], 'learning_rate': [0.05, 0.1, 0.15, 0.2]})\n",
        "Fitting 3 folds for each of 3 candidates, totalling 9 fits\n"
       ]
      },
      {
       "output_type": "stream",
       "stream": "stderr",
       "text": [
        "[Parallel(n_jobs=-1)]: Done   1 out of   9 | elapsed:    0.5s remaining:    3.8s\n",
        "[Parallel(n_jobs=-1)]: Done   7 out of   9 | elapsed:    0.8s remaining:    0.2s\n",
        "[Parallel(n_jobs=-1)]: Done   9 out of   9 | elapsed:    0.8s finished\n"
       ]
      },
      {
       "output_type": "stream",
       "stream": "stdout",
       "text": [
        "\n",
        "### Optimal parameters: ###\n",
        "{'learning_rate': 0.1, 'n_estimators': 100}\n",
        "####################### \n",
        "\n",
        "Using N_iter = 3\n",
        "('Simulation with num_features=', 6)\n",
        "('max_features=', {'n_estimators': [100, 200], 'learning_rate': [0.05, 0.1, 0.15, 0.2]})\n",
        "Fitting 3 folds for each of 3 candidates, totalling 9 fits\n"
       ]
      },
      {
       "output_type": "stream",
       "stream": "stdout",
       "text": [
        "\n",
        "### Optimal parameters: ###\n",
        "{'learning_rate': 0.1, 'n_estimators': 100}\n",
        "####################### \n",
        "\n",
        "Using N_iter = 3\n",
        "('Simulation with num_features=', 6)\n",
        "('max_features=', {'n_estimators': [100, 200], 'learning_rate': [0.05, 0.1, 0.15, 0.2]})\n",
        "Fitting 3 folds for each of 3 candidates, totalling 9 fits\n"
       ]
      },
      {
       "output_type": "stream",
       "stream": "stderr",
       "text": [
        "[Parallel(n_jobs=-1)]: Done   1 out of   9 | elapsed:    0.4s remaining:    3.4s\n",
        "[Parallel(n_jobs=-1)]: Done   7 out of   9 | elapsed:    0.4s remaining:    0.1s\n",
        "[Parallel(n_jobs=-1)]: Done   9 out of   9 | elapsed:    0.4s finished\n"
       ]
      },
      {
       "output_type": "stream",
       "stream": "stderr",
       "text": [
        "[Parallel(n_jobs=-1)]: Done   1 out of   9 | elapsed:    0.4s remaining:    3.4s\n",
        "[Parallel(n_jobs=-1)]: Done   7 out of   9 | elapsed:    0.7s remaining:    0.2s\n",
        "[Parallel(n_jobs=-1)]: Done   9 out of   9 | elapsed:    0.8s finished\n"
       ]
      },
      {
       "output_type": "stream",
       "stream": "stdout",
       "text": [
        "\n",
        "### Optimal parameters: ###\n",
        "{'learning_rate': 0.1, 'n_estimators': 200}\n",
        "####################### \n",
        "\n",
        "Using N_iter = 3\n",
        "('Simulation with num_features=', 6)\n",
        "('max_features=', {'n_estimators': [100, 200], 'learning_rate': [0.05, 0.1, 0.15, 0.2]})\n",
        "Fitting 3 folds for each of 3 candidates, totalling 9 fits\n"
       ]
      },
      {
       "output_type": "stream",
       "stream": "stderr",
       "text": [
        "[Parallel(n_jobs=-1)]: Done   7 out of   9 | elapsed:    0.4s remaining:    0.1s\n",
        "[Parallel(n_jobs=-1)]: Done   1 out of   9 | elapsed:    0.5s remaining:    3.6s\n",
        "[Parallel(n_jobs=-1)]: Done   9 out of   9 | elapsed:    0.7s finished\n"
       ]
      },
      {
       "output_type": "stream",
       "stream": "stdout",
       "text": [
        "\n",
        "### Optimal parameters: ###\n",
        "{'learning_rate': 0.1, 'n_estimators': 100}\n",
        "####################### \n",
        "\n",
        "\n",
        "###### \\CV of testAlgo number 5 for GBD\n",
        "###\n",
        "Using N_iter = 3\n",
        "('Simulation with num_features=', 6)\n",
        "('max_features=', {'n_estimators': [100, 200], 'learning_rate': [0.05, 0.1, 0.15, 0.2]})\n",
        "Fitting 3 folds for each of 3 candidates, totalling 9 fits\n"
       ]
      },
      {
       "output_type": "stream",
       "stream": "stderr",
       "text": [
        "[Parallel(n_jobs=-1)]: Done   1 out of   9 | elapsed:    0.3s remaining:    2.6s\n",
        "[Parallel(n_jobs=-1)]: Done   7 out of   9 | elapsed:    0.4s remaining:    0.1s\n",
        "[Parallel(n_jobs=-1)]: Done   9 out of   9 | elapsed:    0.7s finished\n"
       ]
      },
      {
       "output_type": "stream",
       "stream": "stdout",
       "text": [
        "\n",
        "### Optimal parameters: ###\n",
        "{'learning_rate': 0.1, 'n_estimators': 100}\n",
        "####################### \n",
        "\n",
        "Using N_iter = 3\n",
        "('Simulation with num_features=', 6)\n",
        "('max_features=', {'n_estimators': [100, 200], 'learning_rate': [0.05, 0.1, 0.15, 0.2]})\n",
        "Fitting 3 folds for each of 3 candidates, totalling 9 fits\n"
       ]
      },
      {
       "output_type": "stream",
       "stream": "stderr",
       "text": [
        "[Parallel(n_jobs=-1)]: Done   1 out of   9 | elapsed:    0.7s remaining:    5.2s\n",
        "[Parallel(n_jobs=-1)]: Done   7 out of   9 | elapsed:    0.9s remaining:    0.2s\n",
        "[Parallel(n_jobs=-1)]: Done   9 out of   9 | elapsed:    0.9s finished\n"
       ]
      },
      {
       "output_type": "stream",
       "stream": "stdout",
       "text": [
        "\n",
        "### Optimal parameters: ###\n",
        "{'learning_rate': 0.05, 'n_estimators': 200}\n",
        "####################### \n",
        "\n",
        "Using N_iter = 3\n",
        "('Simulation with num_features=', 6)\n",
        "('max_features=', {'n_estimators': [100, 200], 'learning_rate': [0.05, 0.1, 0.15, 0.2]})\n",
        "Fitting 3 folds for each of 3 candidates, totalling 9 fits\n"
       ]
      },
      {
       "output_type": "stream",
       "stream": "stderr",
       "text": [
        "[Parallel(n_jobs=-1)]: Done   7 out of   9 | elapsed:    0.4s remaining:    0.1s\n",
        "[Parallel(n_jobs=-1)]: Done   1 out of   9 | elapsed:    0.4s remaining:    3.5s\n",
        "[Parallel(n_jobs=-1)]: Done   9 out of   9 | elapsed:    0.7s finished\n"
       ]
      },
      {
       "output_type": "stream",
       "stream": "stdout",
       "text": [
        "\n",
        "### Optimal parameters: ###\n",
        "{'learning_rate': 0.1, 'n_estimators': 100}\n",
        "####################### \n",
        "\n",
        "Using N_iter = 3\n",
        "('Simulation with num_features=', 6)\n",
        "('max_features=', {'n_estimators': [100, 200], 'learning_rate': [0.05, 0.1, 0.15, 0.2]})\n",
        "Fitting 3 folds for each of 3 candidates, totalling 9 fits\n"
       ]
      },
      {
       "output_type": "stream",
       "stream": "stderr",
       "text": [
        "[Parallel(n_jobs=-1)]: Done   1 out of   9 | elapsed:    0.4s remaining:    3.1s\n",
        "[Parallel(n_jobs=-1)]: Done   7 out of   9 | elapsed:    0.4s remaining:    0.1s\n",
        "[Parallel(n_jobs=-1)]: Done   9 out of   9 | elapsed:    0.4s finished\n"
       ]
      },
      {
       "output_type": "stream",
       "stream": "stdout",
       "text": [
        "\n",
        "### Optimal parameters: ###\n",
        "{'learning_rate': 0.05, 'n_estimators': 100}\n",
        "####################### \n",
        "\n",
        "Using N_iter = 3\n",
        "('Simulation with num_features=', 6)\n",
        "('max_features=', {'n_estimators': [100, 200], 'learning_rate': [0.05, 0.1, 0.15, 0.2]})\n",
        "Fitting 3 folds for each of 3 candidates, totalling 9 fits\n"
       ]
      },
      {
       "output_type": "stream",
       "stream": "stderr",
       "text": [
        "[Parallel(n_jobs=-1)]: Done   1 out of   9 | elapsed:    0.4s remaining:    3.4s\n",
        "[Parallel(n_jobs=-1)]: Done   7 out of   9 | elapsed:    0.7s remaining:    0.2s\n",
        "[Parallel(n_jobs=-1)]: Done   9 out of   9 | elapsed:    0.7s finished\n"
       ]
      },
      {
       "output_type": "stream",
       "stream": "stdout",
       "text": [
        "\n",
        "### Optimal parameters: ###\n",
        "{'learning_rate': 0.1, 'n_estimators': 200}\n",
        "####################### \n",
        "\n",
        "Using N_iter = 3\n",
        "('Simulation with num_features=', 6)\n",
        "('max_features=', {'n_estimators': [100, 200], 'learning_rate': [0.05, 0.1, 0.15, 0.2]})\n",
        "Fitting 3 folds for each of 3 candidates, totalling 9 fits\n"
       ]
      },
      {
       "output_type": "stream",
       "stream": "stderr",
       "text": [
        "[Parallel(n_jobs=-1)]: Done   7 out of   9 | elapsed:    0.4s remaining:    0.1s\n",
        "[Parallel(n_jobs=-1)]: Done   1 out of   9 | elapsed:    0.4s remaining:    3.6s\n",
        "[Parallel(n_jobs=-1)]: Done   9 out of   9 | elapsed:    0.7s finished\n"
       ]
      },
      {
       "output_type": "stream",
       "stream": "stdout",
       "text": [
        "\n",
        "### Optimal parameters: ###\n",
        "{'learning_rate': 0.05, 'n_estimators': 200}\n",
        "####################### \n",
        "\n",
        "Using N_iter = 3\n",
        "('Simulation with num_features=', 6)\n",
        "('max_features=', {'n_estimators': [100, 200], 'learning_rate': [0.05, 0.1, 0.15, 0.2]})\n",
        "Fitting 3 folds for each of 3 candidates, totalling 9 fits\n"
       ]
      },
      {
       "output_type": "stream",
       "stream": "stderr",
       "text": [
        "[Parallel(n_jobs=-1)]: Done   7 out of   9 | elapsed:    0.5s remaining:    0.1s\n",
        "[Parallel(n_jobs=-1)]: Done   1 out of   9 | elapsed:    0.8s remaining:    6.3s\n",
        "[Parallel(n_jobs=-1)]: Done   9 out of   9 | elapsed:    0.8s finished\n"
       ]
      },
      {
       "output_type": "stream",
       "stream": "stdout",
       "text": [
        "\n",
        "### Optimal parameters: ###\n",
        "{'learning_rate': 0.05, 'n_estimators': 200}\n",
        "####################### \n",
        "\n",
        "Using N_iter = 3\n",
        "('Simulation with num_features=', 6)\n",
        "('max_features=', {'n_estimators': [100, 200], 'learning_rate': [0.05, 0.1, 0.15, 0.2]})\n",
        "Fitting 3 folds for each of 3 candidates, totalling 9 fits\n"
       ]
      },
      {
       "output_type": "stream",
       "stream": "stdout",
       "text": [
        "\n",
        "### Optimal parameters: ###\n",
        "{'learning_rate': 0.1, 'n_estimators': 100}\n",
        "####################### \n",
        "\n",
        "Using N_iter = 3\n",
        "('Simulation with num_features=', 6)\n",
        "('max_features=', {'n_estimators': [100, 200], 'learning_rate': [0.05, 0.1, 0.15, 0.2]})\n",
        "Fitting 3 folds for each of 3 candidates, totalling 9 fits\n"
       ]
      },
      {
       "output_type": "stream",
       "stream": "stderr",
       "text": [
        "[Parallel(n_jobs=-1)]: Done   1 out of   9 | elapsed:    0.7s remaining:    5.8s\n",
        "[Parallel(n_jobs=-1)]: Done   7 out of   9 | elapsed:    0.8s remaining:    0.2s\n",
        "[Parallel(n_jobs=-1)]: Done   9 out of   9 | elapsed:    0.8s finished\n"
       ]
      },
      {
       "output_type": "stream",
       "stream": "stderr",
       "text": [
        "[Parallel(n_jobs=-1)]: Done   1 out of   9 | elapsed:    0.4s remaining:    3.2s\n",
        "[Parallel(n_jobs=-1)]: Done   7 out of   9 | elapsed:    0.4s remaining:    0.1s\n",
        "[Parallel(n_jobs=-1)]: Done   9 out of   9 | elapsed:    0.7s finished\n"
       ]
      },
      {
       "output_type": "stream",
       "stream": "stdout",
       "text": [
        "\n",
        "### Optimal parameters: ###\n",
        "{'learning_rate': 0.1, 'n_estimators': 100}\n",
        "####################### \n",
        "\n",
        "Using N_iter = 3\n",
        "('Simulation with num_features=', 6)\n",
        "('max_features=', {'n_estimators': [100, 200], 'learning_rate': [0.05, 0.1, 0.15, 0.2]})\n",
        "Fitting 3 folds for each of 3 candidates, totalling 9 fits\n"
       ]
      },
      {
       "output_type": "stream",
       "stream": "stdout",
       "text": [
        "\n",
        "### Optimal parameters: ###\n",
        "{'learning_rate': 0.05, 'n_estimators': 100}\n",
        "####################### \n",
        "\n",
        "\n",
        "###### \\CV of testAlgo number 6 for GBD\n",
        "###\n",
        "Using N_iter = 3\n",
        "('Simulation with num_features=', 6)\n",
        "('max_features=', {'n_estimators': [100, 200], 'learning_rate': [0.05, 0.1, 0.15, 0.2]})\n",
        "Fitting 3 folds for each of 3 candidates, totalling 9 fits\n"
       ]
      },
      {
       "output_type": "stream",
       "stream": "stderr",
       "text": [
        "[Parallel(n_jobs=-1)]: Done   7 out of   9 | elapsed:    0.7s remaining:    0.2s\n",
        "[Parallel(n_jobs=-1)]: Done   1 out of   9 | elapsed:    0.8s remaining:    6.2s\n",
        "[Parallel(n_jobs=-1)]: Done   9 out of   9 | elapsed:    0.8s finished\n"
       ]
      },
      {
       "output_type": "stream",
       "stream": "stderr",
       "text": [
        "[Parallel(n_jobs=-1)]: Done   1 out of   9 | elapsed:    0.4s remaining:    3.3s\n",
        "[Parallel(n_jobs=-1)]: Done   7 out of   9 | elapsed:    0.4s remaining:    0.1s\n",
        "[Parallel(n_jobs=-1)]: Done   9 out of   9 | elapsed:    0.7s finished\n"
       ]
      },
      {
       "output_type": "stream",
       "stream": "stdout",
       "text": [
        "\n",
        "### Optimal parameters: ###\n",
        "{'learning_rate': 0.05, 'n_estimators': 200}\n",
        "####################### \n",
        "\n",
        "Using N_iter = 3\n",
        "('Simulation with num_features=', 6)\n",
        "('max_features=', {'n_estimators': [100, 200], 'learning_rate': [0.05, 0.1, 0.15, 0.2]})\n",
        "Fitting 3 folds for each of 3 candidates, totalling 9 fits\n"
       ]
      },
      {
       "output_type": "stream",
       "stream": "stderr",
       "text": [
        "[Parallel(n_jobs=-1)]: Done   1 out of   9 | elapsed:    0.5s remaining:    3.8s\n",
        "[Parallel(n_jobs=-1)]: Done   7 out of   9 | elapsed:    0.7s remaining:    0.2s\n",
        "[Parallel(n_jobs=-1)]: Done   9 out of   9 | elapsed:    0.8s finished\n"
       ]
      },
      {
       "output_type": "stream",
       "stream": "stdout",
       "text": [
        "\n",
        "### Optimal parameters: ###\n",
        "{'learning_rate': 0.1, 'n_estimators': 100}\n",
        "####################### \n",
        "\n",
        "Using N_iter = 3\n",
        "('Simulation with num_features=', 6)\n",
        "('max_features=', {'n_estimators': [100, 200], 'learning_rate': [0.05, 0.1, 0.15, 0.2]})\n",
        "Fitting 3 folds for each of 3 candidates, totalling 9 fits\n"
       ]
      },
      {
       "output_type": "stream",
       "stream": "stdout",
       "text": [
        "\n",
        "### Optimal parameters: ###\n",
        "{'learning_rate': 0.05, 'n_estimators': 100}\n",
        "####################### \n",
        "\n",
        "Using N_iter = 3\n",
        "('Simulation with num_features=', 6)\n",
        "('max_features=', {'n_estimators': [100, 200], 'learning_rate': [0.05, 0.1, 0.15, 0.2]})\n",
        "Fitting 3 folds for each of 3 candidates, totalling 9 fits\n"
       ]
      },
      {
       "output_type": "stream",
       "stream": "stderr",
       "text": [
        "[Parallel(n_jobs=-1)]: Done   7 out of   9 | elapsed:    0.8s remaining:    0.2s\n",
        "[Parallel(n_jobs=-1)]: Done   1 out of   9 | elapsed:    0.8s remaining:    6.2s\n",
        "[Parallel(n_jobs=-1)]: Done   9 out of   9 | elapsed:    0.8s finished\n"
       ]
      },
      {
       "output_type": "stream",
       "stream": "stderr",
       "text": [
        "[Parallel(n_jobs=-1)]: Done   1 out of   9 | elapsed:    0.3s remaining:    2.6s\n",
        "[Parallel(n_jobs=-1)]: Done   7 out of   9 | elapsed:    0.7s remaining:    0.2s\n",
        "[Parallel(n_jobs=-1)]: Done   9 out of   9 | elapsed:    0.8s finished\n"
       ]
      },
      {
       "output_type": "stream",
       "stream": "stdout",
       "text": [
        "\n",
        "### Optimal parameters: ###\n",
        "{'learning_rate': 0.1, 'n_estimators': 200}\n",
        "####################### \n",
        "\n",
        "Using N_iter = 3\n",
        "('Simulation with num_features=', 6)\n",
        "('max_features=', {'n_estimators': [100, 200], 'learning_rate': [0.05, 0.1, 0.15, 0.2]})\n",
        "Fitting 3 folds for each of 3 candidates, totalling 9 fits\n"
       ]
      },
      {
       "output_type": "stream",
       "stream": "stderr",
       "text": [
        "[Parallel(n_jobs=-1)]: Done   1 out of   9 | elapsed:    0.4s remaining:    3.2s\n",
        "[Parallel(n_jobs=-1)]: Done   7 out of   9 | elapsed:    0.7s remaining:    0.2s\n",
        "[Parallel(n_jobs=-1)]: Done   9 out of   9 | elapsed:    0.7s finished\n"
       ]
      },
      {
       "output_type": "stream",
       "stream": "stdout",
       "text": [
        "\n",
        "### Optimal parameters: ###\n",
        "{'learning_rate': 0.05, 'n_estimators': 100}\n",
        "####################### \n",
        "\n",
        "Using N_iter = 3\n",
        "('Simulation with num_features=', 6)\n",
        "('max_features=', {'n_estimators': [100, 200], 'learning_rate': [0.05, 0.1, 0.15, 0.2]})\n",
        "Fitting 3 folds for each of 3 candidates, totalling 9 fits\n"
       ]
      },
      {
       "output_type": "stream",
       "stream": "stdout",
       "text": [
        "\n",
        "### Optimal parameters: ###\n",
        "{'learning_rate': 0.05, 'n_estimators': 100}\n",
        "####################### \n",
        "\n",
        "Using N_iter = 3\n",
        "('Simulation with num_features=', 6)\n",
        "('max_features=', {'n_estimators': [100, 200], 'learning_rate': [0.05, 0.1, 0.15, 0.2]})\n",
        "Fitting 3 folds for each of 3 candidates, totalling 9 fits\n"
       ]
      },
      {
       "output_type": "stream",
       "stream": "stderr",
       "text": [
        "[Parallel(n_jobs=-1)]: Done   7 out of   9 | elapsed:    0.7s remaining:    0.2s\n",
        "[Parallel(n_jobs=-1)]: Done   1 out of   9 | elapsed:    0.8s remaining:    6.2s\n",
        "[Parallel(n_jobs=-1)]: Done   9 out of   9 | elapsed:    0.8s finished\n"
       ]
      },
      {
       "output_type": "stream",
       "stream": "stderr",
       "text": [
        "[Parallel(n_jobs=-1)]: Done   1 out of   9 | elapsed:    0.8s remaining:    6.2s\n",
        "[Parallel(n_jobs=-1)]: Done   7 out of   9 | elapsed:    0.9s remaining:    0.2s\n",
        "[Parallel(n_jobs=-1)]: Done   9 out of   9 | elapsed:    0.9s finished\n"
       ]
      },
      {
       "output_type": "stream",
       "stream": "stdout",
       "text": [
        "\n",
        "### Optimal parameters: ###\n",
        "{'learning_rate': 0.1, 'n_estimators': 200}\n",
        "####################### \n",
        "\n",
        "Using N_iter = 3\n",
        "('Simulation with num_features=', 6)\n",
        "('max_features=', {'n_estimators': [100, 200], 'learning_rate': [0.05, 0.1, 0.15, 0.2]})\n",
        "Fitting 3 folds for each of 3 candidates, totalling 9 fits\n"
       ]
      },
      {
       "output_type": "stream",
       "stream": "stderr",
       "text": [
        "[Parallel(n_jobs=-1)]: Done   7 out of   9 | elapsed:    0.4s remaining:    0.1s\n",
        "[Parallel(n_jobs=-1)]: Done   1 out of   9 | elapsed:    0.8s remaining:    6.0s\n",
        "[Parallel(n_jobs=-1)]: Done   9 out of   9 | elapsed:    0.8s finished\n"
       ]
      },
      {
       "output_type": "stream",
       "stream": "stdout",
       "text": [
        "\n",
        "### Optimal parameters: ###\n",
        "{'learning_rate': 0.05, 'n_estimators': 100}\n",
        "####################### \n",
        "\n",
        "Using N_iter = 3\n",
        "('Simulation with num_features=', 6)\n",
        "('max_features=', {'n_estimators': [100, 200], 'learning_rate': [0.05, 0.1, 0.15, 0.2]})\n",
        "Fitting 3 folds for each of 3 candidates, totalling 9 fits\n"
       ]
      },
      {
       "output_type": "stream",
       "stream": "stderr",
       "text": [
        "[Parallel(n_jobs=-1)]: Done   7 out of   9 | elapsed:    0.7s remaining:    0.2s\n",
        "[Parallel(n_jobs=-1)]: Done   1 out of   9 | elapsed:    0.7s remaining:    5.4s\n",
        "[Parallel(n_jobs=-1)]: Done   9 out of   9 | elapsed:    0.8s finished\n"
       ]
      },
      {
       "output_type": "stream",
       "stream": "stdout",
       "text": [
        "\n",
        "### Optimal parameters: ###\n",
        "{'learning_rate': 0.05, 'n_estimators': 100}\n",
        "####################### \n",
        "\n",
        "Using N_iter = 3\n",
        "('Simulation with num_features=', 6)\n",
        "('max_features=', {'n_estimators': [100, 200], 'learning_rate': [0.05, 0.1, 0.15, 0.2]})\n",
        "Fitting 3 folds for each of 3 candidates, totalling 9 fits\n"
       ]
      },
      {
       "output_type": "stream",
       "stream": "stdout",
       "text": [
        "\n",
        "### Optimal parameters: ###\n",
        "{'learning_rate': 0.05, 'n_estimators': 200}\n",
        "####################### \n",
        "\n",
        "\n",
        "###### \\CV of testAlgo number 7 for GBD\n",
        "###\n",
        "Using N_iter = 3\n",
        "('Simulation with num_features=', 6)\n",
        "('max_features=', {'n_estimators': [100, 200], 'learning_rate': [0.05, 0.1, 0.15, 0.2]})\n",
        "Fitting 3 folds for each of 3 candidates, totalling 9 fits\n"
       ]
      },
      {
       "output_type": "stream",
       "stream": "stderr",
       "text": [
        "[Parallel(n_jobs=-1)]: Done   1 out of   9 | elapsed:    0.8s remaining:    6.4s\n",
        "[Parallel(n_jobs=-1)]: Done   7 out of   9 | elapsed:    0.8s remaining:    0.2s\n",
        "[Parallel(n_jobs=-1)]: Done   9 out of   9 | elapsed:    0.8s finished\n"
       ]
      },
      {
       "output_type": "stream",
       "stream": "stderr",
       "text": [
        "[Parallel(n_jobs=-1)]: Done   1 out of   9 | elapsed:    0.4s remaining:    2.8s\n",
        "[Parallel(n_jobs=-1)]: Done   7 out of   9 | elapsed:    0.7s remaining:    0.2s\n",
        "[Parallel(n_jobs=-1)]: Done   9 out of   9 | elapsed:    0.7s finished\n"
       ]
      },
      {
       "output_type": "stream",
       "stream": "stdout",
       "text": [
        "\n",
        "### Optimal parameters: ###\n",
        "{'learning_rate': 0.1, 'n_estimators': 100}\n",
        "####################### \n",
        "\n",
        "Using N_iter = 3\n",
        "('Simulation with num_features=', 6)\n",
        "('max_features=', {'n_estimators': [100, 200], 'learning_rate': [0.05, 0.1, 0.15, 0.2]})\n",
        "Fitting 3 folds for each of 3 candidates, totalling 9 fits\n"
       ]
      },
      {
       "output_type": "stream",
       "stream": "stderr",
       "text": [
        "[Parallel(n_jobs=-1)]: Done   1 out of   9 | elapsed:    0.3s remaining:    2.8s\n",
        "[Parallel(n_jobs=-1)]: Done   7 out of   9 | elapsed:    0.4s remaining:    0.1s\n",
        "[Parallel(n_jobs=-1)]: Done   9 out of   9 | elapsed:    0.5s finished\n"
       ]
      },
      {
       "output_type": "stream",
       "stream": "stdout",
       "text": [
        "\n",
        "### Optimal parameters: ###\n",
        "{'learning_rate': 0.1, 'n_estimators': 100}\n",
        "####################### \n",
        "\n",
        "Using N_iter = 3\n",
        "('Simulation with num_features=', 6)\n",
        "('max_features=', {'n_estimators': [100, 200], 'learning_rate': [0.05, 0.1, 0.15, 0.2]})\n",
        "Fitting 3 folds for each of 3 candidates, totalling 9 fits\n"
       ]
      },
      {
       "output_type": "stream",
       "stream": "stderr",
       "text": [
        "[Parallel(n_jobs=-1)]: Done   1 out of   9 | elapsed:    0.5s remaining:    3.7s\n",
        "[Parallel(n_jobs=-1)]: Done   7 out of   9 | elapsed:    0.8s remaining:    0.2s\n",
        "[Parallel(n_jobs=-1)]: Done   9 out of   9 | elapsed:    0.8s finished\n"
       ]
      },
      {
       "output_type": "stream",
       "stream": "stdout",
       "text": [
        "\n",
        "### Optimal parameters: ###\n",
        "{'learning_rate': 0.1, 'n_estimators': 100}\n",
        "####################### \n",
        "\n",
        "Using N_iter = 3\n",
        "('Simulation with num_features=', 6)\n",
        "('max_features=', {'n_estimators': [100, 200], 'learning_rate': [0.05, 0.1, 0.15, 0.2]})\n",
        "Fitting 3 folds for each of 3 candidates, totalling 9 fits\n"
       ]
      },
      {
       "output_type": "stream",
       "stream": "stderr",
       "text": [
        "[Parallel(n_jobs=-1)]: Done   1 out of   9 | elapsed:    0.5s remaining:    3.7s\n",
        "[Parallel(n_jobs=-1)]: Done   7 out of   9 | elapsed:    0.8s remaining:    0.2s\n",
        "[Parallel(n_jobs=-1)]: Done   9 out of   9 | elapsed:    0.8s finished\n"
       ]
      },
      {
       "output_type": "stream",
       "stream": "stdout",
       "text": [
        "\n",
        "### Optimal parameters: ###\n",
        "{'learning_rate': 0.2, 'n_estimators': 100}\n",
        "####################### \n",
        "\n",
        "Using N_iter = 3\n",
        "('Simulation with num_features=', 6)\n",
        "('max_features=', {'n_estimators': [100, 200], 'learning_rate': [0.05, 0.1, 0.15, 0.2]})\n",
        "Fitting 3 folds for each of 3 candidates, totalling 9 fits\n"
       ]
      },
      {
       "output_type": "stream",
       "stream": "stderr",
       "text": [
        "[Parallel(n_jobs=-1)]: Done   1 out of   9 | elapsed:    0.5s remaining:    3.7s\n",
        "[Parallel(n_jobs=-1)]: Done   7 out of   9 | elapsed:    0.5s remaining:    0.1s\n",
        "[Parallel(n_jobs=-1)]: Done   9 out of   9 | elapsed:    0.7s finished\n"
       ]
      },
      {
       "output_type": "stream",
       "stream": "stdout",
       "text": [
        "\n",
        "### Optimal parameters: ###\n",
        "{'learning_rate': 0.05, 'n_estimators': 100}\n",
        "####################### \n",
        "\n",
        "Using N_iter = 3\n",
        "('Simulation with num_features=', 6)\n",
        "('max_features=', {'n_estimators': [100, 200], 'learning_rate': [0.05, 0.1, 0.15, 0.2]})\n",
        "Fitting 3 folds for each of 3 candidates, totalling 9 fits\n"
       ]
      },
      {
       "output_type": "stream",
       "stream": "stdout",
       "text": [
        "\n",
        "### Optimal parameters: ###\n",
        "{'learning_rate': 0.05, 'n_estimators': 200}\n",
        "####################### \n",
        "\n",
        "Using N_iter = 3\n",
        "('Simulation with num_features=', 6)\n",
        "('max_features=', {'n_estimators': [100, 200], 'learning_rate': [0.05, 0.1, 0.15, 0.2]})\n",
        "Fitting 3 folds for each of 3 candidates, totalling 9 fits\n"
       ]
      },
      {
       "output_type": "stream",
       "stream": "stderr",
       "text": [
        "[Parallel(n_jobs=-1)]: Done   1 out of   9 | elapsed:    0.7s remaining:    5.8s\n",
        "[Parallel(n_jobs=-1)]: Done   9 out of   9 | elapsed:    0.7s finished\n"
       ]
      },
      {
       "output_type": "stream",
       "stream": "stderr",
       "text": [
        "[Parallel(n_jobs=-1)]: Done   1 out of   9 | elapsed:    0.6s remaining:    5.0s\n",
        "[Parallel(n_jobs=-1)]: Done   7 out of   9 | elapsed:    0.7s remaining:    0.2s\n",
        "[Parallel(n_jobs=-1)]: Done   9 out of   9 | elapsed:    0.8s finished\n"
       ]
      },
      {
       "output_type": "stream",
       "stream": "stdout",
       "text": [
        "\n",
        "### Optimal parameters: ###\n",
        "{'learning_rate': 0.15, 'n_estimators': 200}\n",
        "####################### \n",
        "\n",
        "Using N_iter = 3\n",
        "('Simulation with num_features=', 6)\n",
        "('max_features=', {'n_estimators': [100, 200], 'learning_rate': [0.05, 0.1, 0.15, 0.2]})\n",
        "Fitting 3 folds for each of 3 candidates, totalling 9 fits\n"
       ]
      },
      {
       "output_type": "stream",
       "stream": "stderr",
       "text": [
        "[Parallel(n_jobs=-1)]: Done   1 out of   9 | elapsed:    0.4s remaining:    3.4s\n",
        "[Parallel(n_jobs=-1)]: Done   7 out of   9 | elapsed:    0.5s remaining:    0.1s\n",
        "[Parallel(n_jobs=-1)]: Done   9 out of   9 | elapsed:    0.7s finished\n"
       ]
      },
      {
       "output_type": "stream",
       "stream": "stdout",
       "text": [
        "\n",
        "### Optimal parameters: ###\n",
        "{'learning_rate': 0.05, 'n_estimators': 200}\n",
        "####################### \n",
        "\n",
        "Using N_iter = 3\n",
        "('Simulation with num_features=', 6)\n",
        "('max_features=', {'n_estimators': [100, 200], 'learning_rate': [0.05, 0.1, 0.15, 0.2]})\n",
        "Fitting 3 folds for each of 3 candidates, totalling 9 fits\n"
       ]
      },
      {
       "output_type": "stream",
       "stream": "stderr",
       "text": [
        "[Parallel(n_jobs=-1)]: Done   1 out of   9 | elapsed:    0.3s remaining:    2.6s\n",
        "[Parallel(n_jobs=-1)]: Done   7 out of   9 | elapsed:    0.7s remaining:    0.2s\n",
        "[Parallel(n_jobs=-1)]: Done   9 out of   9 | elapsed:    0.7s finished\n"
       ]
      },
      {
       "output_type": "stream",
       "stream": "stdout",
       "text": [
        "\n",
        "### Optimal parameters: ###\n",
        "{'learning_rate': 0.15, 'n_estimators': 100}\n",
        "####################### \n",
        "\n",
        "Using N_iter = 3\n",
        "('Simulation with num_features=', 6)\n",
        "('max_features=', {'n_estimators': [100, 200], 'learning_rate': [0.05, 0.1, 0.15, 0.2]})\n",
        "Fitting 3 folds for each of 3 candidates, totalling 9 fits\n"
       ]
      },
      {
       "output_type": "stream",
       "stream": "stderr",
       "text": [
        "[Parallel(n_jobs=-1)]: Done   1 out of   9 | elapsed:    0.4s remaining:    3.4s\n",
        "[Parallel(n_jobs=-1)]: Done   7 out of   9 | elapsed:    0.7s remaining:    0.2s\n",
        "[Parallel(n_jobs=-1)]: Done   9 out of   9 | elapsed:    0.8s finished\n"
       ]
      },
      {
       "output_type": "stream",
       "stream": "stdout",
       "text": [
        "\n",
        "### Optimal parameters: ###\n",
        "{'learning_rate': 0.05, 'n_estimators': 100}\n",
        "####################### \n",
        "\n",
        "\n",
        "###### \\CV of testAlgo number 8 for GBD\n",
        "###\n",
        "Using N_iter = 3\n",
        "('Simulation with num_features=', 6)\n",
        "('max_features=', {'n_estimators': [100, 200], 'learning_rate': [0.05, 0.1, 0.15, 0.2]})\n",
        "Fitting 3 folds for each of 3 candidates, totalling 9 fits\n"
       ]
      },
      {
       "output_type": "stream",
       "stream": "stdout",
       "text": [
        "\n",
        "### Optimal parameters: ###\n",
        "{'learning_rate': 0.05, 'n_estimators': 200}\n",
        "####################### \n",
        "\n",
        "Using N_iter = 3\n",
        "('Simulation with num_features=', 6)\n",
        "('max_features=', {'n_estimators': [100, 200], 'learning_rate': [0.05, 0.1, 0.15, 0.2]})\n",
        "Fitting 3 folds for each of 3 candidates, totalling 9 fits\n"
       ]
      },
      {
       "output_type": "stream",
       "stream": "stderr",
       "text": [
        "[Parallel(n_jobs=-1)]: Done   1 out of   9 | elapsed:    0.8s remaining:    6.5s\n",
        "[Parallel(n_jobs=-1)]: Done   7 out of   9 | elapsed:    0.8s remaining:    0.2s\n",
        "[Parallel(n_jobs=-1)]: Done   9 out of   9 | elapsed:    0.8s finished\n"
       ]
      },
      {
       "output_type": "stream",
       "stream": "stdout",
       "text": [
        "\n",
        "### Optimal parameters: ###\n",
        "{'learning_rate': 0.05, 'n_estimators': 200}\n",
        "####################### \n",
        "\n",
        "Using N_iter = 3\n",
        "('Simulation with num_features=', 6)\n",
        "('max_features=', {'n_estimators': [100, 200], 'learning_rate': [0.05, 0.1, 0.15, 0.2]})\n",
        "Fitting 3 folds for each of 3 candidates, totalling 9 fits\n"
       ]
      },
      {
       "output_type": "stream",
       "stream": "stderr",
       "text": [
        "[Parallel(n_jobs=-1)]: Done   1 out of   9 | elapsed:    0.7s remaining:    5.9s\n",
        "[Parallel(n_jobs=-1)]: Done   7 out of   9 | elapsed:    0.8s remaining:    0.2s\n",
        "[Parallel(n_jobs=-1)]: Done   9 out of   9 | elapsed:    0.8s finished\n"
       ]
      },
      {
       "output_type": "stream",
       "stream": "stderr",
       "text": [
        "[Parallel(n_jobs=-1)]: Done   1 out of   9 | elapsed:    0.4s remaining:    2.9s\n",
        "[Parallel(n_jobs=-1)]: Done   7 out of   9 | elapsed:    0.8s remaining:    0.2s\n",
        "[Parallel(n_jobs=-1)]: Done   9 out of   9 | elapsed:    0.8s finished\n"
       ]
      },
      {
       "output_type": "stream",
       "stream": "stdout",
       "text": [
        "\n",
        "### Optimal parameters: ###\n",
        "{'learning_rate': 0.1, 'n_estimators': 100}\n",
        "####################### \n",
        "\n",
        "Using N_iter = 3\n",
        "('Simulation with num_features=', 6)\n",
        "('max_features=', {'n_estimators': [100, 200], 'learning_rate': [0.05, 0.1, 0.15, 0.2]})\n",
        "Fitting 3 folds for each of 3 candidates, totalling 9 fits\n"
       ]
      },
      {
       "output_type": "stream",
       "stream": "stderr",
       "text": [
        "[Parallel(n_jobs=-1)]: Done   7 out of   9 | elapsed:    0.5s remaining:    0.1s\n",
        "[Parallel(n_jobs=-1)]: Done   1 out of   9 | elapsed:    0.7s remaining:    5.8s\n",
        "[Parallel(n_jobs=-1)]: Done   9 out of   9 | elapsed:    0.8s finished\n"
       ]
      },
      {
       "output_type": "stream",
       "stream": "stdout",
       "text": [
        "\n",
        "### Optimal parameters: ###\n",
        "{'learning_rate': 0.05, 'n_estimators': 200}\n",
        "####################### \n",
        "\n",
        "Using N_iter = 3\n",
        "('Simulation with num_features=', 6)\n",
        "('max_features=', {'n_estimators': [100, 200], 'learning_rate': [0.05, 0.1, 0.15, 0.2]})\n",
        "Fitting 3 folds for each of 3 candidates, totalling 9 fits\n"
       ]
      },
      {
       "output_type": "stream",
       "stream": "stderr",
       "text": [
        "[Parallel(n_jobs=-1)]: Done   1 out of   9 | elapsed:    0.4s remaining:    2.9s\n",
        "[Parallel(n_jobs=-1)]: Done   7 out of   9 | elapsed:    0.7s remaining:    0.2s\n",
        "[Parallel(n_jobs=-1)]: Done   9 out of   9 | elapsed:    0.7s finished\n"
       ]
      },
      {
       "output_type": "stream",
       "stream": "stdout",
       "text": [
        "\n",
        "### Optimal parameters: ###\n",
        "{'learning_rate': 0.05, 'n_estimators': 100}\n",
        "####################### \n",
        "\n",
        "Using N_iter = 3\n",
        "('Simulation with num_features=', 6)\n",
        "('max_features=', {'n_estimators': [100, 200], 'learning_rate': [0.05, 0.1, 0.15, 0.2]})\n",
        "Fitting 3 folds for each of 3 candidates, totalling 9 fits\n"
       ]
      },
      {
       "output_type": "stream",
       "stream": "stderr",
       "text": [
        "[Parallel(n_jobs=-1)]: Done   1 out of   9 | elapsed:    0.3s remaining:    2.8s\n",
        "[Parallel(n_jobs=-1)]: Done   7 out of   9 | elapsed:    0.7s remaining:    0.2s\n",
        "[Parallel(n_jobs=-1)]: Done   9 out of   9 | elapsed:    0.7s finished\n"
       ]
      },
      {
       "output_type": "stream",
       "stream": "stdout",
       "text": [
        "\n",
        "### Optimal parameters: ###\n",
        "{'learning_rate': 0.05, 'n_estimators': 200}\n",
        "####################### \n",
        "\n",
        "Using N_iter = 3\n",
        "('Simulation with num_features=', 6)\n",
        "('max_features=', {'n_estimators': [100, 200], 'learning_rate': [0.05, 0.1, 0.15, 0.2]})\n",
        "Fitting 3 folds for each of 3 candidates, totalling 9 fits\n"
       ]
      },
      {
       "output_type": "stream",
       "stream": "stderr",
       "text": [
        "[Parallel(n_jobs=-1)]: Done   7 out of   9 | elapsed:    0.7s remaining:    0.2s\n",
        "[Parallel(n_jobs=-1)]: Done   1 out of   9 | elapsed:    0.8s remaining:    6.2s\n",
        "[Parallel(n_jobs=-1)]: Done   9 out of   9 | elapsed:    0.8s finished\n"
       ]
      },
      {
       "output_type": "stream",
       "stream": "stdout",
       "text": [
        "\n",
        "### Optimal parameters: ###\n",
        "{'learning_rate': 0.15, 'n_estimators': 100}\n",
        "####################### \n",
        "\n",
        "Using N_iter = 3\n",
        "('Simulation with num_features=', 6)\n",
        "('max_features=', {'n_estimators': [100, 200], 'learning_rate': [0.05, 0.1, 0.15, 0.2]})\n",
        "Fitting 3 folds for each of 3 candidates, totalling 9 fits\n"
       ]
      },
      {
       "output_type": "stream",
       "stream": "stderr",
       "text": [
        "[Parallel(n_jobs=-1)]: Done   7 out of   9 | elapsed:    0.4s remaining:    0.1s\n",
        "[Parallel(n_jobs=-1)]: Done   1 out of   9 | elapsed:    0.4s remaining:    3.6s\n",
        "[Parallel(n_jobs=-1)]: Done   9 out of   9 | elapsed:    0.7s finished\n"
       ]
      },
      {
       "output_type": "stream",
       "stream": "stdout",
       "text": [
        "\n",
        "### Optimal parameters: ###\n",
        "{'learning_rate': 0.05, 'n_estimators': 100}\n",
        "####################### \n",
        "\n",
        "Using N_iter = 3\n",
        "('Simulation with num_features=', 6)\n",
        "('max_features=', {'n_estimators': [100, 200], 'learning_rate': [0.05, 0.1, 0.15, 0.2]})\n",
        "Fitting 3 folds for each of 3 candidates, totalling 9 fits\n"
       ]
      },
      {
       "output_type": "stream",
       "stream": "stderr",
       "text": [
        "[Parallel(n_jobs=-1)]: Done   1 out of   9 | elapsed:    0.7s remaining:    5.3s\n",
        "[Parallel(n_jobs=-1)]: Done   7 out of   9 | elapsed:    0.7s remaining:    0.2s\n",
        "[Parallel(n_jobs=-1)]: Done   9 out of   9 | elapsed:    0.7s finished\n"
       ]
      },
      {
       "output_type": "stream",
       "stream": "stdout",
       "text": [
        "\n",
        "### Optimal parameters: ###\n",
        "{'learning_rate': 0.1, 'n_estimators': 200}\n",
        "####################### \n",
        "\n",
        "Using N_iter = 3\n",
        "('Simulation with num_features=', 6)\n",
        "('max_features=', {'n_estimators': [100, 200], 'learning_rate': [0.05, 0.1, 0.15, 0.2]})\n",
        "Fitting 3 folds for each of 3 candidates, totalling 9 fits\n"
       ]
      },
      {
       "output_type": "stream",
       "stream": "stderr",
       "text": [
        "[Parallel(n_jobs=-1)]: Done   1 out of   9 | elapsed:    0.3s remaining:    2.6s\n",
        "[Parallel(n_jobs=-1)]: Done   7 out of   9 | elapsed:    0.4s remaining:    0.1s\n",
        "[Parallel(n_jobs=-1)]: Done   9 out of   9 | elapsed:    0.8s finished\n"
       ]
      },
      {
       "output_type": "stream",
       "stream": "stdout",
       "text": [
        "\n",
        "### Optimal parameters: ###\n",
        "{'learning_rate': 0.05, 'n_estimators': 100}\n",
        "####################### \n",
        "\n",
        "\n",
        "###### \\CV of testAlgo number 9 for GBD\n",
        "###\n",
        "Using N_iter = 3\n",
        "('Simulation with num_features=', 6)\n",
        "('max_features=', {'n_estimators': [100, 200], 'learning_rate': [0.05, 0.1, 0.15, 0.2]})\n",
        "Fitting 3 folds for each of 3 candidates, totalling 9 fits\n"
       ]
      },
      {
       "output_type": "stream",
       "stream": "stderr",
       "text": [
        "[Parallel(n_jobs=-1)]: Done   1 out of   9 | elapsed:    0.4s remaining:    3.2s\n",
        "[Parallel(n_jobs=-1)]: Done   7 out of   9 | elapsed:    0.7s remaining:    0.2s\n",
        "[Parallel(n_jobs=-1)]: Done   9 out of   9 | elapsed:    0.7s finished\n"
       ]
      },
      {
       "output_type": "stream",
       "stream": "stdout",
       "text": [
        "\n",
        "### Optimal parameters: ###\n",
        "{'learning_rate': 0.1, 'n_estimators': 100}\n",
        "####################### \n",
        "\n",
        "Using N_iter = 3\n",
        "('Simulation with num_features=', 6)\n",
        "('max_features=', {'n_estimators': [100, 200], 'learning_rate': [0.05, 0.1, 0.15, 0.2]})\n",
        "Fitting 3 folds for each of 3 candidates, totalling 9 fits\n"
       ]
      },
      {
       "output_type": "stream",
       "stream": "stderr",
       "text": [
        "[Parallel(n_jobs=-1)]: Done   7 out of   9 | elapsed:    0.5s remaining:    0.1s\n",
        "[Parallel(n_jobs=-1)]: Done   1 out of   9 | elapsed:    0.6s remaining:    5.2s\n",
        "[Parallel(n_jobs=-1)]: Done   9 out of   9 | elapsed:    0.8s finished\n"
       ]
      },
      {
       "output_type": "stream",
       "stream": "stdout",
       "text": [
        "\n",
        "### Optimal parameters: ###\n",
        "{'learning_rate': 0.05, 'n_estimators': 200}\n",
        "####################### \n",
        "\n",
        "Using N_iter = 3\n",
        "('Simulation with num_features=', 6)\n",
        "('max_features=', {'n_estimators': [100, 200], 'learning_rate': [0.05, 0.1, 0.15, 0.2]})\n",
        "Fitting 3 folds for each of 3 candidates, totalling 9 fits\n"
       ]
      },
      {
       "output_type": "stream",
       "stream": "stderr",
       "text": [
        "[Parallel(n_jobs=-1)]: Done   7 out of   9 | elapsed:    0.5s remaining:    0.1s\n",
        "[Parallel(n_jobs=-1)]: Done   1 out of   9 | elapsed:    0.7s remaining:    5.7s\n",
        "[Parallel(n_jobs=-1)]: Done   9 out of   9 | elapsed:    0.7s finished\n"
       ]
      },
      {
       "output_type": "stream",
       "stream": "stdout",
       "text": [
        "\n",
        "### Optimal parameters: ###\n",
        "{'learning_rate': 0.05, 'n_estimators': 100}\n",
        "####################### \n",
        "\n",
        "Using N_iter = 3\n",
        "('Simulation with num_features=', 6)\n",
        "('max_features=', {'n_estimators': [100, 200], 'learning_rate': [0.05, 0.1, 0.15, 0.2]})\n",
        "Fitting 3 folds for each of 3 candidates, totalling 9 fits\n"
       ]
      },
      {
       "output_type": "stream",
       "stream": "stderr",
       "text": [
        "[Parallel(n_jobs=-1)]: Done   7 out of   9 | elapsed:    0.4s remaining:    0.1s\n",
        "[Parallel(n_jobs=-1)]: Done   1 out of   9 | elapsed:    0.6s remaining:    5.1s\n",
        "[Parallel(n_jobs=-1)]: Done   9 out of   9 | elapsed:    0.7s finished\n"
       ]
      },
      {
       "output_type": "stream",
       "stream": "stdout",
       "text": [
        "\n",
        "### Optimal parameters: ###\n",
        "{'learning_rate': 0.1, 'n_estimators': 100}\n",
        "####################### \n",
        "\n",
        "Using N_iter = 3\n",
        "('Simulation with num_features=', 6)\n",
        "('max_features=', {'n_estimators': [100, 200], 'learning_rate': [0.05, 0.1, 0.15, 0.2]})\n",
        "Fitting 3 folds for each of 3 candidates, totalling 9 fits\n"
       ]
      },
      {
       "output_type": "stream",
       "stream": "stderr",
       "text": [
        "[Parallel(n_jobs=-1)]: Done   1 out of   9 | elapsed:    0.4s remaining:    3.5s\n",
        "[Parallel(n_jobs=-1)]: Done   7 out of   9 | elapsed:    0.8s remaining:    0.2s\n",
        "[Parallel(n_jobs=-1)]: Done   9 out of   9 | elapsed:    0.8s finished\n"
       ]
      },
      {
       "output_type": "stream",
       "stream": "stdout",
       "text": [
        "\n",
        "### Optimal parameters: ###\n",
        "{'learning_rate': 0.1, 'n_estimators': 100}\n",
        "####################### \n",
        "\n",
        "Using N_iter = 3\n",
        "('Simulation with num_features=', 6)\n",
        "('max_features=', {'n_estimators': [100, 200], 'learning_rate': [0.05, 0.1, 0.15, 0.2]})\n",
        "Fitting 3 folds for each of 3 candidates, totalling 9 fits\n"
       ]
      },
      {
       "output_type": "stream",
       "stream": "stderr",
       "text": [
        "[Parallel(n_jobs=-1)]: Done   7 out of   9 | elapsed:    0.4s remaining:    0.1s\n",
        "[Parallel(n_jobs=-1)]: Done   1 out of   9 | elapsed:    0.4s remaining:    3.5s\n",
        "[Parallel(n_jobs=-1)]: Done   9 out of   9 | elapsed:    0.5s finished\n"
       ]
      },
      {
       "output_type": "stream",
       "stream": "stdout",
       "text": [
        "\n",
        "### Optimal parameters: ###\n",
        "{'learning_rate': 0.1, 'n_estimators': 100}\n",
        "####################### \n",
        "\n",
        "Using N_iter = 3\n",
        "('Simulation with num_features=', 6)\n",
        "('max_features=', {'n_estimators': [100, 200], 'learning_rate': [0.05, 0.1, 0.15, 0.2]})\n",
        "Fitting 3 folds for each of 3 candidates, totalling 9 fits\n"
       ]
      },
      {
       "output_type": "stream",
       "stream": "stderr",
       "text": [
        "[Parallel(n_jobs=-1)]: Done   1 out of   9 | elapsed:    0.4s remaining:    3.0s\n",
        "[Parallel(n_jobs=-1)]: Done   7 out of   9 | elapsed:    0.7s remaining:    0.2s\n",
        "[Parallel(n_jobs=-1)]: Done   9 out of   9 | elapsed:    0.7s finished\n"
       ]
      },
      {
       "output_type": "stream",
       "stream": "stdout",
       "text": [
        "\n",
        "### Optimal parameters: ###\n",
        "{'learning_rate': 0.05, 'n_estimators': 100}\n",
        "####################### \n",
        "\n",
        "Using N_iter = 3\n",
        "('Simulation with num_features=', 6)\n",
        "('max_features=', {'n_estimators': [100, 200], 'learning_rate': [0.05, 0.1, 0.15, 0.2]})\n",
        "Fitting 3 folds for each of 3 candidates, totalling 9 fits\n"
       ]
      },
      {
       "output_type": "stream",
       "stream": "stderr",
       "text": [
        "[Parallel(n_jobs=-1)]: Done   7 out of   9 | elapsed:    0.4s remaining:    0.1s\n",
        "[Parallel(n_jobs=-1)]: Done   1 out of   9 | elapsed:    0.4s remaining:    3.5s\n",
        "[Parallel(n_jobs=-1)]: Done   9 out of   9 | elapsed:    0.7s finished\n"
       ]
      },
      {
       "output_type": "stream",
       "stream": "stdout",
       "text": [
        "\n",
        "### Optimal parameters: ###\n",
        "{'learning_rate': 0.05, 'n_estimators': 200}\n",
        "####################### \n",
        "\n",
        "Using N_iter = 3\n",
        "('Simulation with num_features=', 6)\n",
        "('max_features=', {'n_estimators': [100, 200], 'learning_rate': [0.05, 0.1, 0.15, 0.2]})\n",
        "Fitting 3 folds for each of 3 candidates, totalling 9 fits\n"
       ]
      },
      {
       "output_type": "stream",
       "stream": "stdout",
       "text": [
        "\n",
        "### Optimal parameters: ###\n",
        "{'learning_rate': 0.2, 'n_estimators': 100}\n",
        "####################### \n",
        "\n",
        "Using N_iter = 3\n",
        "('Simulation with num_features=', 6)\n",
        "('max_features=', {'n_estimators': [100, 200], 'learning_rate': [0.05, 0.1, 0.15, 0.2]})\n",
        "Fitting 3 folds for each of 3 candidates, totalling 9 fits\n"
       ]
      },
      {
       "output_type": "stream",
       "stream": "stderr",
       "text": [
        "[Parallel(n_jobs=-1)]: Done   1 out of   9 | elapsed:    0.8s remaining:    6.1s\n",
        "[Parallel(n_jobs=-1)]: Done   7 out of   9 | elapsed:    0.8s remaining:    0.2s\n",
        "[Parallel(n_jobs=-1)]: Done   9 out of   9 | elapsed:    0.8s finished\n"
       ]
      },
      {
       "output_type": "stream",
       "stream": "stderr",
       "text": [
        "[Parallel(n_jobs=-1)]: Done   1 out of   9 | elapsed:    0.3s remaining:    2.7s\n",
        "[Parallel(n_jobs=-1)]: Done   7 out of   9 | elapsed:    0.4s remaining:    0.1s\n",
        "[Parallel(n_jobs=-1)]: Done   9 out of   9 | elapsed:    0.4s finished\n"
       ]
      },
      {
       "output_type": "stream",
       "stream": "stdout",
       "text": [
        "\n",
        "### Optimal parameters: ###\n",
        "{'learning_rate': 0.05, 'n_estimators': 100}\n",
        "####################### \n",
        "\n",
        "\n",
        "###### \\CV of testAlgo number 10 for GBD\n",
        "###\n",
        "Using N_iter = 3\n",
        "('Simulation with num_features=', 6)\n",
        "('max_features=', {'n_estimators': [100, 200], 'learning_rate': [0.05, 0.1, 0.15, 0.2]})\n",
        "Fitting 3 folds for each of 3 candidates, totalling 9 fits\n"
       ]
      },
      {
       "output_type": "stream",
       "stream": "stdout",
       "text": [
        "\n",
        "### Optimal parameters: ###\n",
        "{'learning_rate': 0.05, 'n_estimators': 100}\n",
        "####################### \n",
        "\n",
        "Using N_iter = 3\n",
        "('Simulation with num_features=', 6)\n",
        "('max_features=', {'n_estimators': [100, 200], 'learning_rate': [0.05, 0.1, 0.15, 0.2]})\n",
        "Fitting 3 folds for each of 3 candidates, totalling 9 fits\n"
       ]
      },
      {
       "output_type": "stream",
       "stream": "stderr",
       "text": [
        "[Parallel(n_jobs=-1)]: Done   1 out of   9 | elapsed:    0.8s remaining:    6.2s\n",
        "[Parallel(n_jobs=-1)]: Done   7 out of   9 | elapsed:    0.8s remaining:    0.2s\n",
        "[Parallel(n_jobs=-1)]: Done   9 out of   9 | elapsed:    0.8s finished\n"
       ]
      },
      {
       "output_type": "stream",
       "stream": "stdout",
       "text": [
        "\n",
        "### Optimal parameters: ###\n",
        "{'learning_rate': 0.05, 'n_estimators': 100}\n",
        "####################### \n",
        "\n",
        "Using N_iter = 3\n",
        "('Simulation with num_features=', 6)\n",
        "('max_features=', {'n_estimators': [100, 200], 'learning_rate': [0.05, 0.1, 0.15, 0.2]})\n",
        "Fitting 3 folds for each of 3 candidates, totalling 9 fits\n"
       ]
      },
      {
       "output_type": "stream",
       "stream": "stderr",
       "text": [
        "[Parallel(n_jobs=-1)]: Done   7 out of   9 | elapsed:    0.4s remaining:    0.1s\n",
        "[Parallel(n_jobs=-1)]: Done   1 out of   9 | elapsed:    0.4s remaining:    3.5s\n",
        "[Parallel(n_jobs=-1)]: Done   9 out of   9 | elapsed:    0.4s finished\n"
       ]
      },
      {
       "output_type": "stream",
       "stream": "stderr",
       "text": [
        "[Parallel(n_jobs=-1)]: Done   1 out of   9 | elapsed:    0.7s remaining:    5.5s\n",
        "[Parallel(n_jobs=-1)]: Done   7 out of   9 | elapsed:    0.8s remaining:    0.2s\n",
        "[Parallel(n_jobs=-1)]: Done   9 out of   9 | elapsed:    0.8s finished\n"
       ]
      },
      {
       "output_type": "stream",
       "stream": "stdout",
       "text": [
        "\n",
        "### Optimal parameters: ###\n",
        "{'learning_rate': 0.05, 'n_estimators': 200}\n",
        "####################### \n",
        "\n",
        "Using N_iter = 3\n",
        "('Simulation with num_features=', 6)\n",
        "('max_features=', {'n_estimators': [100, 200], 'learning_rate': [0.05, 0.1, 0.15, 0.2]})\n",
        "Fitting 3 folds for each of 3 candidates, totalling 9 fits\n"
       ]
      },
      {
       "output_type": "stream",
       "stream": "stderr",
       "text": [
        "[Parallel(n_jobs=-1)]: Done   1 out of   9 | elapsed:    0.3s remaining:    2.8s\n",
        "[Parallel(n_jobs=-1)]: Done   7 out of   9 | elapsed:    0.4s remaining:    0.1s\n",
        "[Parallel(n_jobs=-1)]: Done   9 out of   9 | elapsed:    0.4s finished\n"
       ]
      },
      {
       "output_type": "stream",
       "stream": "stdout",
       "text": [
        "\n",
        "### Optimal parameters: ###\n",
        "{'learning_rate': 0.1, 'n_estimators': 100}\n",
        "####################### \n",
        "\n",
        "Using N_iter = 3\n",
        "('Simulation with num_features=', 6)\n",
        "('max_features=', {'n_estimators': [100, 200], 'learning_rate': [0.05, 0.1, 0.15, 0.2]})\n",
        "Fitting 3 folds for each of 3 candidates, totalling 9 fits\n"
       ]
      },
      {
       "output_type": "stream",
       "stream": "stdout",
       "text": [
        "\n",
        "### Optimal parameters: ###\n",
        "{'learning_rate': 0.1, 'n_estimators': 100}\n",
        "####################### \n",
        "\n",
        "Using N_iter = 3\n",
        "('Simulation with num_features=', 6)\n",
        "('max_features=', {'n_estimators': [100, 200], 'learning_rate': [0.05, 0.1, 0.15, 0.2]})\n",
        "Fitting 3 folds for each of 3 candidates, totalling 9 fits\n"
       ]
      },
      {
       "output_type": "stream",
       "stream": "stderr",
       "text": [
        "[Parallel(n_jobs=-1)]: Done   1 out of   9 | elapsed:    0.4s remaining:    3.5s\n",
        "[Parallel(n_jobs=-1)]: Done   7 out of   9 | elapsed:    0.4s remaining:    0.1s\n",
        "[Parallel(n_jobs=-1)]: Done   9 out of   9 | elapsed:    0.4s finished\n"
       ]
      },
      {
       "output_type": "stream",
       "stream": "stderr",
       "text": [
        "[Parallel(n_jobs=-1)]: Done   1 out of   9 | elapsed:    0.4s remaining:    3.1s\n",
        "[Parallel(n_jobs=-1)]: Done   7 out of   9 | elapsed:    0.5s remaining:    0.1s\n",
        "[Parallel(n_jobs=-1)]: Done   9 out of   9 | elapsed:    0.5s finished\n"
       ]
      },
      {
       "output_type": "stream",
       "stream": "stdout",
       "text": [
        "\n",
        "### Optimal parameters: ###\n",
        "{'learning_rate': 0.1, 'n_estimators': 100}\n",
        "####################### \n",
        "\n",
        "Using N_iter = 3\n",
        "('Simulation with num_features=', 6)\n",
        "('max_features=', {'n_estimators': [100, 200], 'learning_rate': [0.05, 0.1, 0.15, 0.2]})\n",
        "Fitting 3 folds for each of 3 candidates, totalling 9 fits\n"
       ]
      },
      {
       "output_type": "stream",
       "stream": "stderr",
       "text": [
        "[Parallel(n_jobs=-1)]: Done   7 out of   9 | elapsed:    0.3s remaining:    0.1s\n",
        "[Parallel(n_jobs=-1)]: Done   1 out of   9 | elapsed:    0.4s remaining:    3.2s\n",
        "[Parallel(n_jobs=-1)]: Done   9 out of   9 | elapsed:    0.7s finished\n"
       ]
      },
      {
       "output_type": "stream",
       "stream": "stdout",
       "text": [
        "\n",
        "### Optimal parameters: ###\n",
        "{'learning_rate': 0.15, 'n_estimators': 100}\n",
        "####################### \n",
        "\n",
        "Using N_iter = 3\n",
        "('Simulation with num_features=', 6)\n",
        "('max_features=', {'n_estimators': [100, 200], 'learning_rate': [0.05, 0.1, 0.15, 0.2]})\n",
        "Fitting 3 folds for each of 3 candidates, totalling 9 fits\n"
       ]
      },
      {
       "output_type": "stream",
       "stream": "stderr",
       "text": [
        "[Parallel(n_jobs=-1)]: Done   1 out of   9 | elapsed:    0.4s remaining:    3.5s\n",
        "[Parallel(n_jobs=-1)]: Done   7 out of   9 | elapsed:    0.7s remaining:    0.2s\n",
        "[Parallel(n_jobs=-1)]: Done   9 out of   9 | elapsed:    0.7s finished\n"
       ]
      },
      {
       "output_type": "stream",
       "stream": "stdout",
       "text": [
        "\n",
        "### Optimal parameters: ###\n",
        "{'learning_rate': 0.05, 'n_estimators': 100}\n",
        "####################### \n",
        "\n",
        "Using N_iter = 3\n",
        "('Simulation with num_features=', 6)\n",
        "('max_features=', {'n_estimators': [100, 200], 'learning_rate': [0.05, 0.1, 0.15, 0.2]})\n",
        "Fitting 3 folds for each of 3 candidates, totalling 9 fits\n"
       ]
      },
      {
       "output_type": "stream",
       "stream": "stderr",
       "text": [
        "[Parallel(n_jobs=-1)]: Done   1 out of   9 | elapsed:    0.4s remaining:    3.4s\n",
        "[Parallel(n_jobs=-1)]: Done   7 out of   9 | elapsed:    0.7s remaining:    0.2s\n",
        "[Parallel(n_jobs=-1)]: Done   9 out of   9 | elapsed:    0.7s finished\n"
       ]
      },
      {
       "output_type": "stream",
       "stream": "stdout",
       "text": [
        "\n",
        "### Optimal parameters: ###\n",
        "{'learning_rate': 0.1, 'n_estimators': 100}\n",
        "####################### \n",
        "\n",
        "Using N_iter = 3\n",
        "('Simulation with num_features=', 6)\n",
        "('max_features=', {'n_estimators': [100, 200], 'learning_rate': [0.05, 0.1, 0.15, 0.2]})\n",
        "Fitting 3 folds for each of 3 candidates, totalling 9 fits\n"
       ]
      },
      {
       "output_type": "stream",
       "stream": "stderr",
       "text": [
        "[Parallel(n_jobs=-1)]: Done   1 out of   9 | elapsed:    0.4s remaining:    3.4s\n",
        "[Parallel(n_jobs=-1)]: Done   7 out of   9 | elapsed:    0.8s remaining:    0.2s\n",
        "[Parallel(n_jobs=-1)]: Done   9 out of   9 | elapsed:    0.8s finished\n"
       ]
      },
      {
       "output_type": "stream",
       "stream": "stdout",
       "text": [
        "\n",
        "### Optimal parameters: ###\n",
        "{'learning_rate': 0.05, 'n_estimators': 100}\n",
        "####################### \n",
        "\n"
       ]
      }
     ],
     "prompt_number": 174
    },
    {
     "cell_type": "code",
     "collapsed": false,
     "input": [
      "mean_fpr, mean_tpr, mean_auc = ms.plot_roc(y_pred, y_true, clfName, obj, opt)"
     ],
     "language": "python",
     "metadata": {},
     "outputs": [
      {
       "output_type": "stream",
       "stream": "stdout",
       "text": [
        "ROC AUC: 0.76\n",
        "GBD\n"
       ]
      }
     ],
     "prompt_number": 175
    },
    {
     "cell_type": "heading",
     "level": 2,
     "metadata": {},
     "source": [
      "Have a look..."
     ]
    },
    {
     "cell_type": "code",
     "collapsed": false,
     "input": [
      "grids"
     ],
     "language": "python",
     "metadata": {},
     "outputs": [
      {
       "metadata": {},
       "output_type": "pyout",
       "prompt_number": 57,
       "text": [
        "array([(100, 0.2, 0.7533359757145967, 0.024472103949955717),\n",
        "       (100, 0.15, 0.747904902046069, 0.016070506778400693),\n",
        "       (200, 0.05, 0.7582835691668821, 0.02356121941887444),\n",
        "       (200, 0.05, 0.7582835691668821, 0.02356121941887444),\n",
        "       (100, 0.05, 0.7640634820867379, 0.025728845192584192),\n",
        "       (200, 0.1, 0.7461576427508699, 0.012322215414580834),\n",
        "       (200, 0.2, 0.7120444601553969, 0.024308827809220123),\n",
        "       (200, 0.05, 0.742426943847445, 0.019372365779014418),\n",
        "       (200, 0.2, 0.7120444601553969, 0.024308827809220123),\n",
        "       (100, 0.2, 0.7248102903377669, 0.025810502969468747),\n",
        "       (200, 0.05, 0.7413706055602569, 0.020376401600865884),\n",
        "       (100, 0.2, 0.7253295411921608, 0.026948660569311743),\n",
        "       (200, 0.15, 0.7227270422032651, 0.02406992326498342),\n",
        "       (200, 0.1, 0.7344751935683643, 0.02312873155808622),\n",
        "       (100, 0.05, 0.7610420287918277, 0.02798272401831662),\n",
        "       (100, 0.15, 0.7389495632822762, 0.02553045792540154),\n",
        "       (100, 0.15, 0.7379275422328401, 0.026326120562362377),\n",
        "       (200, 0.05, 0.7515615191630233, 0.02633911627578643),\n",
        "       (100, 0.05, 0.7563837705111887, 0.027133446756891676),\n",
        "       (100, 0.05, 0.7563837705111887, 0.027133446756891676),\n",
        "       (200, 0.2, 0.7147492748481876, 0.020790933425235476),\n",
        "       (200, 0.15, 0.7279376473779763, 0.02262986075546489),\n",
        "       (200, 0.15, 0.7292731787733979, 0.02235115523269691),\n",
        "       (200, 0.1, 0.7373907055361949, 0.027028051251683068),\n",
        "       (100, 0.15, 0.7422710690050268, 0.020269178973244845),\n",
        "       (200, 0.15, 0.7298321694892328, 0.018745715384335417),\n",
        "       (100, 0.1, 0.7524280800841185, 0.021854724648231863),\n",
        "       (100, 0.1, 0.7524280800841185, 0.021854724648231863),\n",
        "       (200, 0.15, 0.7292094293394316, 0.019547043834420533),\n",
        "       (200, 0.1, 0.7389834432939258, 0.021341449986886894),\n",
        "       (200, 0.1, 0.7386723933235562, 0.020369107712124364),\n",
        "       (200, 0.1, 0.7386723933235562, 0.020369107712124364),\n",
        "       (200, 0.1, 0.7386723933235562, 0.020369107712124364),\n",
        "       (200, 0.1, 0.7386723933235562, 0.020369107712124364),\n",
        "       (100, 0.05, 0.7580644598086459, 0.0275833693668955),\n",
        "       (100, 0.05, 0.7580644598086459, 0.0275833693668955),\n",
        "       (200, 0.2, 0.7241135487658101, 0.01127272439135258),\n",
        "       (200, 0.1, 0.7418971890528944, 0.009915962357265546),\n",
        "       (200, 0.05, 0.7564753453909269, 0.013542748359687313),\n",
        "       (200, 0.1, 0.7418971890528944, 0.009915962357265546),\n",
        "       (200, 0.1, 0.7397107395859858, 0.010148931899319653),\n",
        "       (200, 0.1, 0.7397107395859858, 0.010148931899319653),\n",
        "       (200, 0.2, 0.7246171718238461, 0.011233083326361422),\n",
        "       (100, 0.1, 0.7610448128982292, 0.026687518567967215),\n",
        "       (200, 0.05, 0.7601401063118245, 0.020119727255112824),\n",
        "       (200, 0.1, 0.7468335269475834, 0.022941664887901135),\n",
        "       (200, 0.2, 0.7235047699510684, 0.010201005069078227),\n",
        "       (200, 0.1, 0.7483120357658324, 0.02273364296925042),\n",
        "       (200, 0.2, 0.7331608406378708, 0.02633525424778373),\n",
        "       (100, 0.2, 0.7436001689724364, 0.021192459838877666),\n",
        "       (100, 0.1, 0.7493135494772415, 0.016785378489614915),\n",
        "       (200, 0.15, 0.7377829408244447, 0.03210961949717778),\n",
        "       (100, 0.1, 0.7496127714999824, 0.01670002768844973),\n",
        "       (200, 0.05, 0.753845883056993, 0.017619977412583202),\n",
        "       (100, 0.05, 0.7664267257290515, 0.023375546706059635),\n",
        "       (200, 0.1, 0.7518066558764233, 0.013751210869433695),\n",
        "       (100, 0.05, 0.7664267257290515, 0.023375546706059635),\n",
        "       (200, 0.15, 0.741481386830224, 0.008091426105126451),\n",
        "       (100, 0.15, 0.7514676860607095, 0.013807249213889376),\n",
        "       (200, 0.15, 0.7414849362523781, 0.009249253396068986),\n",
        "       (100, 0.2, 0.7303135053197568, 0.021926924868706697),\n",
        "       (100, 0.1, 0.747028758359716, 0.028544371949727244),\n",
        "       (200, 0.15, 0.724817740352874, 0.02325611137276038),\n",
        "       (100, 0.2, 0.7303135053197568, 0.021926924868706697),\n",
        "       (100, 0.05, 0.7552248893521711, 0.03472309142152626),\n",
        "       (200, 0.2, 0.7200999031300356, 0.029306248708634925),\n",
        "       (200, 0.2, 0.7161533500589835, 0.013382470215147392),\n",
        "       (100, 0.2, 0.7315968747691525, 0.019427253360311446),\n",
        "       (100, 0.1, 0.7473099222133728, 0.025675944959776074),\n",
        "       (200, 0.05, 0.747252867425397, 0.02368585055630797),\n",
        "       (200, 0.1, 0.7301267370132285, 0.01972714819350171),\n",
        "       (200, 0.1, 0.7301267370132285, 0.01972714819350171),\n",
        "       (200, 0.1, 0.7312480327973775, 0.013931570816389642),\n",
        "       (100, 0.05, 0.7630164811030188, 0.020205495033795203),\n",
        "       (100, 0.2, 0.7363629568841791, 0.01666160440955478),\n",
        "       (100, 0.1, 0.7467713328055313, 0.0160876381853829),\n",
        "       (200, 0.1, 0.7316175381100299, 0.013251080695994023),\n",
        "       (100, 0.05, 0.7633436833397774, 0.020431806408116496),\n",
        "       (100, 0.2, 0.7325632608876088, 0.015504409191856328),\n",
        "       (100, 0.15, 0.741531813896676, 0.014814249560446559),\n",
        "       (200, 0.15, 0.7278686731899192, 0.01773285338854029),\n",
        "       (200, 0.05, 0.7552291462120696, 0.017514544323636496),\n",
        "       (100, 0.1, 0.7542614979731749, 0.019429281363780505),\n",
        "       (200, 0.1, 0.7380191984410934, 0.021391700970800617),\n",
        "       (200, 0.15, 0.72557831513647, 0.020402530616820586),\n",
        "       (200, 0.15, 0.72557831513647, 0.020402530616820586),\n",
        "       (200, 0.1, 0.743038220979639, 0.02006669098309713),\n",
        "       (100, 0.15, 0.7384488463631499, 0.016926325459450733),\n",
        "       (100, 0.2, 0.7370547960684833, 0.02000210966661252),\n",
        "       (100, 0.1, 0.7575440210697776, 0.02027168576573587),\n",
        "       (100, 0.05, 0.7703421057904684, 0.026099720832269163),\n",
        "       (100, 0.05, 0.7703421057904684, 0.026099720832269163),\n",
        "       (100, 0.2, 0.745335555727675, 0.024877728682686107),\n",
        "       (200, 0.05, 0.7626278381387125, 0.0236242649212304),\n",
        "       (100, 0.2, 0.7434228588877807, 0.024236581077869513),\n",
        "       (200, 0.1, 0.7471501196059748, 0.025875535148065714),\n",
        "       (200, 0.2, 0.7266758114005679, 0.019443035023130162),\n",
        "       (200, 0.1, 0.745620714875225, 0.018769992824099618),\n",
        "       (100, 0.05, 0.7629291182584622, 0.021428452893704774),\n",
        "       (100, 0.05, 0.7629291182584622, 0.021428452893704774),\n",
        "       (200, 0.05, 0.7556170588479022, 0.021579722211843025),\n",
        "       (200, 0.15, 0.7370391864510997, 0.01922483594408521),\n",
        "       (200, 0.1, 0.7541175603006004, 0.020237034701541787),\n",
        "       (100, 0.15, 0.7552453801695229, 0.013089438591520178),\n",
        "       (200, 0.05, 0.7665232540811697, 0.01528360345110721),\n",
        "       (200, 0.15, 0.7469569573903364, 0.014612094872547199),\n",
        "       (100, 0.2, 0.749503671567361, 0.015856341317721668),\n",
        "       (200, 0.15, 0.7473795180667137, 0.014873854483901076),\n",
        "       (100, 0.05, 0.7654975762760193, 0.022152922476462746),\n",
        "       (100, 0.2, 0.7428321927573425, 0.020817049186229876),\n",
        "       (200, 0.15, 0.7316295979469633, 0.014080988873919406),\n",
        "       (100, 0.15, 0.7494404049044768, 0.018502536920150237),\n",
        "       (100, 0.1, 0.7554337753065298, 0.0249929757313523),\n",
        "       (100, 0.05, 0.7652908468776732, 0.021880273563493972),\n",
        "       (200, 0.15, 0.7179002942342606, 0.013819122510468863),\n",
        "       (200, 0.15, 0.7179002942342606, 0.013819122510468863),\n",
        "       (200, 0.2, 0.7101340400520301, 0.014686809422380102),\n",
        "       (200, 0.1, 0.723840626586813, 0.010110443256739331),\n",
        "       (200, 0.05, 0.73749156598012, 0.012951529422555449),\n",
        "       (200, 0.15, 0.7157439675020694, 0.010680315105840128),\n",
        "       (100, 0.15, 0.7535324635676258, 0.00953779051645473),\n",
        "       (100, 0.2, 0.7394849739570182, 0.009908286239234327),\n",
        "       (200, 0.15, 0.7398922637729907, 0.010113750852729406),\n",
        "       (100, 0.15, 0.7535324635676258, 0.00953779051645473),\n",
        "       (200, 0.05, 0.7581377240408016, 0.01259573359034692),\n",
        "       (200, 0.1, 0.7413268849472026, 0.009158557615619789),\n",
        "       (100, 0.1, 0.7551909341607795, 0.019630931839269873),\n",
        "       (200, 0.05, 0.7554605578886214, 0.020519028056592434),\n",
        "       (200, 0.2, 0.7253330164226878, 0.01521249078154589),\n",
        "       (100, 0.2, 0.7361135163809793, 0.01887695587537976),\n",
        "       (200, 0.2, 0.7213772480538325, 0.01217479945436792),\n",
        "       (100, 0.2, 0.7331708409549945, 0.015910386011560557),\n",
        "       (100, 0.15, 0.7434371242205452, 0.008893473113944788),\n",
        "       (200, 0.05, 0.7556968689546735, 0.011783623071642678),\n",
        "       (200, 0.1, 0.7408936593816103, 0.003826635949384302),\n",
        "       (100, 0.05, 0.7629272078561481, 0.01609100354585005),\n",
        "       (100, 0.05, 0.7628739558275326, 0.01597658251214437),\n",
        "       (100, 0.2, 0.7390588264642676, 0.00591572238149019),\n",
        "       (100, 0.2, 0.7368677979431482, 0.015790739566827448),\n",
        "       (100, 0.2, 0.7368677979431482, 0.015790739566827448),\n",
        "       (100, 0.05, 0.7609848962889735, 0.0256742467191015),\n",
        "       (200, 0.2, 0.7226979394464227, 0.02081940814098675),\n",
        "       (100, 0.05, 0.7612009037176511, 0.025567315435104813),\n",
        "       (200, 0.2, 0.7215251434775283, 0.020074403220991844),\n",
        "       (200, 0.1, 0.7461877590980688, 0.02283564786707176),\n",
        "       (100, 0.2, 0.7442052059462885, 0.02203384126006295),\n",
        "       (200, 0.05, 0.7613334526329417, 0.02518868655728917),\n",
        "       (100, 0.05, 0.7696284845952718, 0.026616844528450558),\n",
        "       (100, 0.1, 0.7596893154783183, 0.02285040706038178),\n",
        "       (100, 0.05, 0.7697118216038165, 0.02684560915140714),\n",
        "       (200, 0.2, 0.7255979017765618, 0.014476473345606715),\n",
        "       (200, 0.2, 0.7255979017765618, 0.014476473345606715),\n",
        "       (200, 0.15, 0.7293270556297852, 0.02084829710510104),\n",
        "       (200, 0.05, 0.7564968576134831, 0.026418330590608517),\n",
        "       (200, 0.1, 0.742730801043456, 0.02859050771533832),\n",
        "       (200, 0.05, 0.7567089421928131, 0.02667278261706683),\n",
        "       (100, 0.05, 0.7540148554933642, 0.02372046351529851),\n",
        "       (200, 0.1, 0.731946351251452, 0.02489714385265591),\n",
        "       (200, 0.15, 0.7259900728693632, 0.01915861417096869),\n",
        "       (100, 0.1, 0.7406730735382124, 0.02249230587247009),\n",
        "       (200, 0.05, 0.74795824972718, 0.02236638922984634),\n",
        "       (100, 0.15, 0.7430334072587743, 0.019876075052688482),\n",
        "       (200, 0.1, 0.7296273730088411, 0.028737547021673204),\n",
        "       (200, 0.15, 0.7146502226720424, 0.02505583452431612),\n",
        "       (200, 0.15, 0.7146502226720424, 0.02505583452431612),\n",
        "       (200, 0.2, 0.7216953930525646, 0.03491952641819321),\n",
        "       (100, 0.15, 0.7279241719714283, 0.028680790840185443),\n",
        "       (200, 0.15, 0.7126546490291902, 0.02540382194967895),\n",
        "       (200, 0.1, 0.7403649366396801, 0.02052714183364708),\n",
        "       (100, 0.1, 0.7505065057933805, 0.01860372430846361),\n",
        "       (200, 0.05, 0.7512342800924104, 0.020680022209521746),\n",
        "       (100, 0.05, 0.7571970404625094, 0.025293192239769332),\n",
        "       (200, 0.05, 0.751239887142339, 0.0210404925518055),\n",
        "       (200, 0.05, 0.751239887142339, 0.0210404925518055),\n",
        "       (200, 0.1, 0.7331869949735954, 0.015059978982788956),\n",
        "       (100, 0.1, 0.745837840130644, 0.014303190641185118),\n",
        "       (200, 0.15, 0.7193555456582752, 0.013934996084309453),\n",
        "       (100, 0.2, 0.7281287777565693, 0.007241847345931776),\n",
        "       (100, 0.05, 0.7583861777410164, 0.011839573228909833),\n",
        "       (100, 0.05, 0.7583861777410164, 0.011839573228909833),\n",
        "       (100, 0.1, 0.7463339422843571, 0.01904988151490434),\n",
        "       (100, 0.15, 0.7344590467402455, 0.016641071664121473),\n",
        "       (100, 0.15, 0.7344590467402455, 0.016641071664121473),\n",
        "       (200, 0.1, 0.7310491987404037, 0.018385609588582274),\n",
        "       (100, 0.1, 0.7468043142336603, 0.018166639540530126),\n",
        "       (100, 0.05, 0.7594462862731605, 0.018041236780048486),\n",
        "       (100, 0.2, 0.7555581932321237, 0.01710009736008593),\n",
        "       (100, 0.05, 0.773209777008152, 0.0219457243259618),\n",
        "       (200, 0.05, 0.7685062745141581, 0.02075825353281536),\n",
        "       (200, 0.15, 0.7439960354661134, 0.02028317776249153),\n",
        "       (200, 0.1, 0.7495743774385364, 0.02398710364542884),\n",
        "       (200, 0.15, 0.7445873713844149, 0.020195617557845963),\n",
        "       (200, 0.1, 0.7445522036092757, 0.0193640497103868),\n",
        "       (200, 0.15, 0.7346327258961668, 0.01407697276023801),\n",
        "       (200, 0.15, 0.7346327258961668, 0.01407697276023801),\n",
        "       (200, 0.1, 0.7445522036092757, 0.0193640497103868),\n",
        "       (200, 0.15, 0.7368746155967001, 0.016186445610986054),\n",
        "       (200, 0.15, 0.7368746155967001, 0.016186445610986054),\n",
        "       (100, 0.15, 0.7369621086842916, 0.012278762142178084),\n",
        "       (100, 0.15, 0.7369621086842916, 0.012278762142178084),\n",
        "       (200, 0.1, 0.7266642326883291, 0.011055439688124726),\n",
        "       (200, 0.2, 0.7158974579243891, 0.010548885012484688),\n",
        "       (100, 0.15, 0.7400475341651812, 0.01378237712151242),\n",
        "       (100, 0.2, 0.7249139159132071, 0.013124204372993895),\n",
        "       (200, 0.05, 0.755293209798172, 0.02601834278362611),\n",
        "       (100, 0.15, 0.7522984818915623, 0.025971727933531124),\n",
        "       (200, 0.15, 0.7395955663132802, 0.024554987207342577),\n",
        "       (200, 0.05, 0.755293209798172, 0.02601834278362611),\n",
        "       (100, 0.15, 0.7523005740679286, 0.026905748924010146),\n",
        "       (100, 0.15, 0.7515419288723928, 0.027184574599248997),\n",
        "       (100, 0.1, 0.7508496847671805, 0.023297114874172763),\n",
        "       (200, 0.05, 0.7491660862555273, 0.021096828397754334),\n",
        "       (100, 0.05, 0.757208776430014, 0.023099088441392288),\n",
        "       (100, 0.1, 0.7508496847671805, 0.023297114874172763),\n",
        "       (200, 0.15, 0.7300147905937652, 0.01554771027658206),\n",
        "       (100, 0.2, 0.7307386919056885, 0.022466560855096063),\n",
        "       (200, 0.15, 0.7336664077422145, 0.031628790205627935),\n",
        "       (200, 0.1, 0.73713237987833, 0.02679375778141355),\n",
        "       (100, 0.2, 0.7356964603461774, 0.02681828877937963),\n",
        "       (100, 0.2, 0.7356964603461774, 0.02681828877937963),\n",
        "       (100, 0.1, 0.74714470231718, 0.0266153552095621),\n",
        "       (100, 0.2, 0.7342896185989888, 0.026379985467212735),\n",
        "       (200, 0.2, 0.7218708294289691, 0.015779146111411183),\n",
        "       (100, 0.05, 0.7536310588636169, 0.018681576045022536),\n",
        "       (100, 0.15, 0.7359194423147911, 0.011032687785934085),\n",
        "       (100, 0.05, 0.7536310588636169, 0.018681576045022536),\n",
        "       (100, 0.15, 0.737030411449016, 0.0123487697179194),\n",
        "       (100, 0.2, 0.7325013487804185, 0.0108130488047985),\n",
        "       (100, 0.2, 0.7292268573368529, 0.02015814187955631),\n",
        "       (200, 0.05, 0.7471229725703754, 0.015567069864474236),\n",
        "       (200, 0.2, 0.7202441576077542, 0.019260847478927992),\n",
        "       (100, 0.1, 0.7480427206529345, 0.015357948850503933),\n",
        "       (100, 0.05, 0.7574064836177451, 0.01583918372286583),\n",
        "       (200, 0.05, 0.7470814020355704, 0.015070633616961326),\n",
        "       (200, 0.15, 0.7345001192028833, 0.03046123039924717),\n",
        "       (200, 0.05, 0.7573870727979021, 0.027356631501187542),\n",
        "       (100, 0.15, 0.7440714095390355, 0.03145727892762939),\n",
        "       (200, 0.05, 0.7573870727979021, 0.027356631501187542),\n",
        "       (200, 0.05, 0.7574747219768044, 0.027521639409146505),\n",
        "       (100, 0.1, 0.7533236568639824, 0.03340784317057055),\n",
        "       (100, 0.15, 0.7468675962176715, 0.014349844938851943),\n",
        "       (200, 0.15, 0.7396615245558332, 0.018558247494677018),\n",
        "       (200, 0.15, 0.7396615245558332, 0.018558247494677018),\n",
        "       (100, 0.15, 0.7468675962176715, 0.014349844938851943),\n",
        "       (100, 0.05, 0.7591180345405796, 0.02562852543511364),\n",
        "       (200, 0.1, 0.7487835732048008, 0.02053917996704783),\n",
        "       (100, 0.2, 0.7342399280151682, 0.023630421468988055),\n",
        "       (100, 0.2, 0.7342399280151682, 0.023630421468988055),\n",
        "       (200, 0.2, 0.7220939754361284, 0.022656645092346203),\n",
        "       (100, 0.15, 0.7433478940406945, 0.01513050790310502),\n",
        "       (100, 0.05, 0.757982629170486, 0.018249903001543055),\n",
        "       (200, 0.15, 0.7263380003771314, 0.014399766640875259),\n",
        "       (200, 0.05, 0.7630228585762286, 0.016872814274696217),\n",
        "       (100, 0.15, 0.7524192351305566, 0.017090686464180327),\n",
        "       (200, 0.05, 0.7630228585762286, 0.016872814274696217),\n",
        "       (200, 0.05, 0.7630228585762286, 0.016872814274696217),\n",
        "       (100, 0.05, 0.7692473314296527, 0.02181045281694818),\n",
        "       (200, 0.1, 0.7461675549998904, 0.012035226371639266),\n",
        "       (100, 0.05, 0.7576241587869496, 0.020202622611906428),\n",
        "       (100, 0.05, 0.7576241587869496, 0.020202622611906428),\n",
        "       (100, 0.05, 0.7576241587869496, 0.020202622611906428),\n",
        "       (200, 0.05, 0.750873157849902, 0.02178745128903446),\n",
        "       (200, 0.1, 0.7378006360564501, 0.018316044592050346),\n",
        "       (200, 0.1, 0.7378006360564501, 0.018316044592050346),\n",
        "       (100, 0.2, 0.7321000319058907, 0.011790815517500258),\n",
        "       (100, 0.2, 0.7321000319058907, 0.011790815517500258),\n",
        "       (200, 0.15, 0.7362472374762422, 0.015472282002764504),\n",
        "       (100, 0.15, 0.7446418590287878, 0.01502619510696821),\n",
        "       (200, 0.05, 0.7554340470543474, 0.015125725637155037),\n",
        "       (200, 0.1, 0.7434914855707467, 0.015312068602400829),\n",
        "       (100, 0.1, 0.7464606501283146, 0.028034590806564976),\n",
        "       (100, 0.2, 0.7332513544339893, 0.026873584651351017),\n",
        "       (100, 0.1, 0.7464606501283146, 0.028034590806564976),\n",
        "       (100, 0.1, 0.7464606501283146, 0.028034590806564976),\n",
        "       (200, 0.05, 0.7489930852580553, 0.030830865826456826),\n",
        "       (100, 0.2, 0.7362025948103792, 0.024570944381580907),\n",
        "       (100, 0.1, 0.7572349011605247, 0.022656094856040424),\n",
        "       (200, 0.15, 0.7298056330315426, 0.023268926865671873),\n",
        "       (200, 0.2, 0.7345033195966214, 0.02842597104926061),\n",
        "       (100, 0.05, 0.7633105559840693, 0.02393271555564191),\n",
        "       (100, 0.2, 0.7482168771377725, 0.020483291022736768),\n",
        "       (100, 0.1, 0.7565314040619215, 0.022565553842609568),\n",
        "       (100, 0.2, 0.7535252499754582, 0.024460130961168964),\n",
        "       (100, 0.2, 0.7535252499754582, 0.024460130961168964),\n",
        "       (200, 0.05, 0.7611454695892409, 0.02600792320141193),\n",
        "       (200, 0.15, 0.7359480836383524, 0.026027532753007763),\n",
        "       (200, 0.2, 0.7374486375811632, 0.02283951964053513),\n",
        "       (100, 0.05, 0.7691881582453335, 0.030287390272980767),\n",
        "       (200, 0.2, 0.7200016628213923, 0.013070801813059859),\n",
        "       (100, 0.1, 0.745816964935254, 0.01501912905396353),\n",
        "       (200, 0.2, 0.7200016628213923, 0.013070801813059859),\n",
        "       (200, 0.05, 0.7495600451733145, 0.013864912250177823),\n",
        "       (200, 0.2, 0.720368869212169, 0.01309554691537706),\n",
        "       (100, 0.15, 0.731596377820734, 0.0109282462430803),\n",
        "       (200, 0.15, 0.7177854658680428, 0.025163820712311453),\n",
        "       (200, 0.15, 0.7177854658680428, 0.025163820712311453),\n",
        "       (100, 0.15, 0.7344805453879152, 0.030532330612075446),\n",
        "       (200, 0.2, 0.7118856333633455, 0.034683713896971745),\n",
        "       (200, 0.15, 0.7181902243265862, 0.0250260231449085),\n",
        "       (200, 0.05, 0.7422258383886075, 0.030025606857033628),\n",
        "       (100, 0.05, 0.7626485739836696, 0.025222056528017),\n",
        "       (200, 0.05, 0.756021982304664, 0.025742878693421695),\n",
        "       (100, 0.15, 0.7490665295467807, 0.018637952009509726),\n",
        "       (100, 0.05, 0.7626485739836696, 0.025222056528017),\n",
        "       (100, 0.1, 0.7565744018136679, 0.023870468734576614),\n",
        "       (100, 0.15, 0.7503384904425691, 0.019324255338208533),\n",
        "       (100, 0.05, 0.7666490132963727, 0.025422758297005372),\n",
        "       (100, 0.05, 0.7666490132963727, 0.025422758297005372),\n",
        "       (100, 0.2, 0.7404984561893341, 0.01754731413069477),\n",
        "       (100, 0.2, 0.7404984561893341, 0.01754731413069477),\n",
        "       (200, 0.15, 0.7334450234472168, 0.017592810812909497),\n",
        "       (200, 0.15, 0.7334450234472168, 0.017592810812909497),\n",
        "       (100, 0.05, 0.7537238792880094, 0.023186887648178497),\n",
        "       (200, 0.1, 0.7291708675849612, 0.01638646503253971),\n",
        "       (200, 0.15, 0.7162431817975166, 0.020564668501373357),\n",
        "       (200, 0.2, 0.714300312982771, 0.024612569653172604),\n",
        "       (200, 0.15, 0.7170804257104543, 0.021306745437007845),\n",
        "       (200, 0.2, 0.7151277608533059, 0.02268471365609873),\n",
        "       (100, 0.15, 0.751298947946378, 0.01693695606717956),\n",
        "       (200, 0.15, 0.7376717704899246, 0.012325073518903695),\n",
        "       (100, 0.15, 0.751298947946378, 0.01693695606717956),\n",
        "       (100, 0.2, 0.7428543044693371, 0.014264581522953748),\n",
        "       (200, 0.15, 0.735385111879259, 0.007462110590434927),\n",
        "       (100, 0.15, 0.7464126334615137, 0.010872870378628765),\n",
        "       (100, 0.2, 0.7387510692899916, 0.018612897993065224),\n",
        "       (100, 0.1, 0.7492443684060449, 0.02007643397789182),\n",
        "       (200, 0.15, 0.7309559452523523, 0.02240524802394308),\n",
        "       (200, 0.2, 0.7269140290846877, 0.023649065578518435),\n",
        "       (200, 0.2, 0.7273167949814656, 0.02487218526044094),\n",
        "       (100, 0.05, 0.7575670088394638, 0.02135858705493377),\n",
        "       (200, 0.2, 0.7269159387029132, 0.014691389833605769),\n",
        "       (100, 0.15, 0.750008027166467, 0.027172436491872013),\n",
        "       (200, 0.05, 0.7563323208057299, 0.025505642498126736),\n",
        "       (100, 0.1, 0.753096889046002, 0.02418247079445693),\n",
        "       (200, 0.2, 0.7270167937546734, 0.015109184259692517),\n",
        "       (200, 0.05, 0.7558551552023244, 0.02496651593517703),\n",
        "       (200, 0.05, 0.7525046685739244, 0.005840147205227491),\n",
        "       (200, 0.2, 0.725587953887334, 0.005321595526684285),\n",
        "       (100, 0.15, 0.7406324997158572, 0.0024691827119717306),\n",
        "       (200, 0.1, 0.7405782349761681, 0.009557141062959256),\n",
        "       (100, 0.1, 0.7518015946427011, 0.010438004651124579),\n",
        "       (200, 0.2, 0.7242791458277577, 0.007549105869696632),\n",
        "       (200, 0.2, 0.7260770916110202, 0.01624885371022728),\n",
        "       (200, 0.05, 0.758181435723445, 0.013789086436660701),\n",
        "       (200, 0.1, 0.7441632454032919, 0.008975598260694261),\n",
        "       (200, 0.1, 0.7441632454032919, 0.008975598260694261),\n",
        "       (200, 0.1, 0.748643178603173, 0.011243177985873432),\n",
        "       (200, 0.2, 0.7254188935408176, 0.016837313156921826),\n",
        "       (200, 0.2, 0.7188215646720678, 0.012307780681012822),\n",
        "       (200, 0.2, 0.7188215646720678, 0.012307780681012822),\n",
        "       (100, 0.1, 0.7443236716040859, 0.023531873916495027),\n",
        "       (200, 0.2, 0.7188215646720678, 0.012307780681012822),\n",
        "       (100, 0.05, 0.7616986800059836, 0.025169958668626966),\n",
        "       (200, 0.15, 0.7210840437499185, 0.023709228249373108),\n",
        "       (100, 0.15, 0.7388549209462796, 0.018630254500333343),\n",
        "       (100, 0.2, 0.7430667139667367, 0.020214815678586615),\n",
        "       (200, 0.2, 0.7289879871733339, 0.01840668264339166),\n",
        "       (200, 0.05, 0.7516885429491594, 0.020921697734877714),\n",
        "       (200, 0.05, 0.7515007338466783, 0.021176559261623814),\n",
        "       (100, 0.05, 0.7591070024971655, 0.02051580394267522),\n",
        "       (100, 0.2, 0.7373469723565046, 0.013659208073067136),\n",
        "       (200, 0.05, 0.7534116997204666, 0.01973012278989161),\n",
        "       (100, 0.05, 0.7614147326964406, 0.023686086575369084),\n",
        "       (200, 0.05, 0.7534116997204666, 0.01973012278989161),\n",
        "       (100, 0.15, 0.7465264713771416, 0.02031356038960366),\n",
        "       (200, 0.05, 0.7531362730194363, 0.01907770566473704),\n",
        "       (100, 0.15, 0.7562922857554213, 0.023437451707478685),\n",
        "       (100, 0.05, 0.7680793837654484, 0.022068622279250813),\n",
        "       (100, 0.05, 0.7680793837654484, 0.022068622279250813),\n",
        "       (100, 0.2, 0.7543839983316927, 0.023365319407800657),\n",
        "       (200, 0.15, 0.7489138226989973, 0.01783712562088292),\n",
        "       (200, 0.2, 0.7490244184349226, 0.01733704972888459),\n",
        "       (100, 0.05, 0.7667886567326664, 0.028129401180323303),\n",
        "       (200, 0.15, 0.7301930931435757, 0.03323705733582304),\n",
        "       (200, 0.15, 0.7301930931435757, 0.03323705733582304),\n",
        "       (100, 0.1, 0.75536481659402, 0.02426022408692693),\n",
        "       (200, 0.05, 0.758097646026359, 0.026859558967349106),\n",
        "       (200, 0.1, 0.736156389184476, 0.02391460755463212),\n",
        "       (100, 0.15, 0.7405693960914812, 0.023990261935227672),\n",
        "       (100, 0.2, 0.7348569383023497, 0.02020276568931491),\n",
        "       (200, 0.15, 0.7265106623159824, 0.013042655001649061),\n",
        "       (200, 0.2, 0.7213131375816886, 0.012124804293902357),\n",
        "       (100, 0.05, 0.7667896738793765, 0.02143452139650607),\n",
        "       (100, 0.15, 0.7405437436322085, 0.02421175755100686),\n",
        "       (200, 0.2, 0.723204880773119, 0.024479707855113556),\n",
        "       (200, 0.2, 0.723204880773119, 0.024479707855113556),\n",
        "       (200, 0.2, 0.723204880773119, 0.024479707855113556),\n",
        "       (100, 0.2, 0.732227312252126, 0.018610453558253692),\n",
        "       (100, 0.05, 0.7595508755558383, 0.028741457133054725),\n",
        "       (200, 0.1, 0.7339345931157345, 0.023976448957827003),\n",
        "       (200, 0.15, 0.7211644944203085, 0.01497747475564269),\n",
        "       (200, 0.05, 0.7438364284294519, 0.015814234218264597),\n",
        "       (200, 0.15, 0.7211644944203085, 0.01497747475564269),\n",
        "       (200, 0.05, 0.7438364284294519, 0.015814234218264597),\n",
        "       (100, 0.15, 0.7328065990856688, 0.02299229646446849),\n",
        "       (100, 0.2, 0.7253776585171933, 0.018539928155424372),\n",
        "       (100, 0.05, 0.7593194503627778, 0.021240842647906624),\n",
        "       (200, 0.1, 0.734465114773314, 0.024089948052808795),\n",
        "       (100, 0.2, 0.7314499250625154, 0.018113238600026886),\n",
        "       (100, 0.05, 0.7593194503627778, 0.021240842647906624),\n",
        "       (200, 0.2, 0.7205111543046326, 0.02079630319695912),\n",
        "       (100, 0.2, 0.7306580273591079, 0.0177479933746826),\n",
        "       (200, 0.2, 0.7274776669892157, 0.012032137054879776),\n",
        "       (200, 0.15, 0.7270920106020445, 0.01304206493254904),\n",
        "       (200, 0.1, 0.7341319926514928, 0.015155451332370647),\n",
        "       (200, 0.1, 0.7341319926514928, 0.015155451332370647),\n",
        "       (200, 0.05, 0.751514577811435, 0.016050623203660516),\n",
        "       (100, 0.2, 0.7388966020166322, 0.015500416476802439),\n",
        "       (100, 0.05, 0.7599781743936354, 0.024586522387131004),\n",
        "       (200, 0.2, 0.71610166508255, 0.02304023317251643),\n",
        "       (100, 0.2, 0.7296617031013483, 0.02535073810154055),\n",
        "       (200, 0.05, 0.7523761748864718, 0.02660956942863363),\n",
        "       (200, 0.2, 0.714827331291583, 0.023619399714749773),\n",
        "       (100, 0.2, 0.7292287112331467, 0.02526873117262747),\n",
        "       (200, 0.1, 0.7412315761425946, 0.01688797776620971),\n",
        "       (100, 0.1, 0.7536023812528924, 0.01696200733198949),\n",
        "       (100, 0.2, 0.7425673496290687, 0.008652086240390917),\n",
        "       (100, 0.2, 0.7425673496290687, 0.008652086240390917),\n",
        "       (200, 0.05, 0.7591277854909055, 0.01787630958772612),\n",
        "       (200, 0.1, 0.7416768339714194, 0.016626040756518565),\n",
        "       (200, 0.1, 0.7338929726275976, 0.026444907948569733),\n",
        "       (200, 0.15, 0.7247302841967631, 0.02072564240444769),\n",
        "       (200, 0.05, 0.7512548052038676, 0.030211583252496198),\n",
        "       (200, 0.15, 0.7247302841967631, 0.02072564240444769),\n",
        "       (200, 0.05, 0.7507033599134583, 0.029720538750533737),\n",
        "       (200, 0.2, 0.7204048058746438, 0.02101384139879783),\n",
        "       (100, 0.15, 0.7521900832297571, 0.0222817582250402),\n",
        "       (200, 0.15, 0.7418004773515167, 0.01990349688938652),\n",
        "       (200, 0.1, 0.7434817708805759, 0.022838584500906787),\n",
        "       (100, 0.15, 0.7521900832297571, 0.0222817582250402),\n",
        "       (200, 0.05, 0.7520139281148817, 0.025338331376199542),\n",
        "       (200, 0.2, 0.7251642265883181, 0.021950232551666414),\n",
        "       (200, 0.2, 0.7179630058455028, 0.004959652493049234),\n",
        "       (100, 0.1, 0.7495866939971387, 0.018553061947365116),\n",
        "       (200, 0.1, 0.7324305741890401, 0.011596938986391416),\n",
        "       (100, 0.1, 0.7495866939971387, 0.018553061947365116),\n",
        "       (200, 0.1, 0.7308204777605022, 0.009474866789331274),\n",
        "       (200, 0.05, 0.7512466158528991, 0.01818696204866499),\n",
        "       (200, 0.2, 0.7255246021177334, 0.019572230677332984),\n",
        "       (100, 0.2, 0.7331158457748351, 0.01968994877266942),\n",
        "       (200, 0.2, 0.7255246021177334, 0.019572230677332984),\n",
        "       (200, 0.1, 0.73621988440301, 0.004765512181661971),\n",
        "       (200, 0.05, 0.7496362407251743, 0.01199522196175048),\n",
        "       (200, 0.15, 0.7325554627326447, 0.005004821346527142),\n",
        "       (100, 0.1, 0.7483424720402695, 0.024753497126640087),\n",
        "       (100, 0.15, 0.7428760160137419, 0.025471263703714976),\n",
        "       (100, 0.05, 0.7593453146552719, 0.028652445597681698),\n",
        "       (200, 0.1, 0.7401999340387411, 0.025017637576389428),\n",
        "       (200, 0.1, 0.7401691381332597, 0.025114364868724454),\n",
        "       (100, 0.05, 0.7589487011155303, 0.027900796697044636),\n",
        "       (100, 0.15, 0.7443274567702929, 0.011733413164830188),\n",
        "       (200, 0.2, 0.7172918211474221, 0.017200286452114712),\n",
        "       (200, 0.15, 0.7329709641667272, 0.009801038219597253),\n",
        "       (100, 0.2, 0.731656707154066, 0.016573642006964213),\n",
        "       (200, 0.05, 0.754963657727915, 0.018587183320834578),\n",
        "       (200, 0.15, 0.7325903041516771, 0.00885273240810865),\n",
        "       (100, 0.2, 0.7273770549512445, 0.02079841762964328),\n",
        "       (100, 0.15, 0.7427500264019432, 0.022921491757296707),\n",
        "       (200, 0.2, 0.7181046925053683, 0.017668321005519353),\n",
        "       (200, 0.1, 0.7336536769106207, 0.023785681354065606),\n",
        "       (100, 0.2, 0.7278628507058119, 0.020751753268938185),\n",
        "       (100, 0.2, 0.7278628507058119, 0.020751753268938185),\n",
        "       (200, 0.15, 0.7553951216741915, 0.012552101751183141),\n",
        "       (100, 0.1, 0.766795865633075, 0.01414335213128706),\n",
        "       (100, 0.05, 0.7756836187068745, 0.016705299277905747),\n",
        "       (100, 0.1, 0.766795865633075, 0.01414335213128706),\n",
        "       (100, 0.1, 0.7668633046540023, 0.01431048398409204),\n",
        "       (100, 0.15, 0.7633955192094728, 0.014986465700450816),\n",
        "       (200, 0.1, 0.7452388495793291, 0.023743900445264973),\n",
        "       (200, 0.15, 0.7330376315696835, 0.01782429857709497),\n",
        "       (200, 0.05, 0.7645316295279333, 0.018979171725014374),\n",
        "       (200, 0.05, 0.7645316295279333, 0.018979171725014374),\n",
        "       (100, 0.2, 0.7436476924701658, 0.023660748411021986),\n",
        "       (100, 0.05, 0.7709015383532227, 0.018537255032023508),\n",
        "       (100, 0.05, 0.7664541641451555, 0.0211166815233033),\n",
        "       (200, 0.2, 0.7311582256908941, 0.020416749536013353),\n",
        "       (200, 0.15, 0.7277254926510993, 0.02284051066217404),\n",
        "       (100, 0.05, 0.7664541641451555, 0.0211166815233033),\n",
        "       (100, 0.05, 0.7666245835159256, 0.021219016333537066),\n",
        "       (200, 0.05, 0.7578931992237224, 0.019191692390226972),\n",
        "       (200, 0.15, 0.732418534232577, 0.01903916883139029),\n",
        "       (100, 0.15, 0.7489531988732331, 0.025014851267100666),\n",
        "       (100, 0.05, 0.7611268251696192, 0.029709237630566886),\n",
        "       (200, 0.15, 0.732418534232577, 0.01903916883139029),\n",
        "       (100, 0.2, 0.7379602116383258, 0.023115952497442575),\n",
        "       (200, 0.1, 0.7363558190836548, 0.021124103700604906),\n",
        "       (200, 0.05, 0.7510442628984143, 0.027656011399746484),\n",
        "       (200, 0.2, 0.7292150505074101, 0.01975335523755812),\n",
        "       (100, 0.15, 0.7456059604051962, 0.024638805483842723),\n",
        "       (200, 0.05, 0.7510442628984143, 0.027656011399746484),\n",
        "       (100, 0.2, 0.7420512412210473, 0.020443889258998024),\n",
        "       (100, 0.2, 0.7399494841446299, 0.013912803330655707),\n",
        "       (200, 0.15, 0.7210620013863235, 0.006943368033742631),\n",
        "       (200, 0.15, 0.7210620013863235, 0.006943368033742631),\n",
        "       (100, 0.2, 0.729128586453891, 0.014230293109316363),\n",
        "       (200, 0.2, 0.714084778222411, 0.013943232620658497),\n",
        "       (100, 0.15, 0.7323703778554935, 0.012899412014800665),\n",
        "       (100, 0.2, 0.728853936599374, 0.014607720264753463),\n",
        "       (200, 0.15, 0.727476268860313, 0.010314464640808416),\n",
        "       (100, 0.2, 0.7310009300895072, 0.017997761160921485),\n",
        "       (200, 0.1, 0.7308884147209933, 0.018877907124765843),\n",
        "       (100, 0.15, 0.7391627664975831, 0.015701310589937924),\n",
        "       (100, 0.05, 0.7530643633233326, 0.022411361060443596),\n",
        "       (200, 0.15, 0.7279808896480112, 0.01097604740781307),\n",
        "       (100, 0.05, 0.7532963358794014, 0.029658420589268146),\n",
        "       (100, 0.15, 0.7316660896540185, 0.0345017987978588),\n",
        "       (200, 0.2, 0.7159235246248853, 0.01999896964587821),\n",
        "       (100, 0.1, 0.7414652724055603, 0.02797293724583873),\n",
        "       (100, 0.2, 0.7302608963705497, 0.024744504157884473),\n",
        "       (100, 0.15, 0.7316934579147266, 0.036580261982616005),\n",
        "       (200, 0.15, 0.7432764700910844, 0.014088341652695301),\n",
        "       (200, 0.2, 0.7407192051872031, 0.01647495564413923),\n",
        "       (100, 0.15, 0.7546700675385701, 0.016532720743071962),\n",
        "       (100, 0.1, 0.7647559946514914, 0.01851122289637743),\n",
        "       (200, 0.15, 0.7382711061913582, 0.019506243344807245),\n",
        "       (100, 0.05, 0.7726905360040539, 0.018509946140047612),\n",
        "       (100, 0.05, 0.7539928612279789, 0.026212901346263487),\n",
        "       (200, 0.2, 0.7204075106677994, 0.03425272277460728),\n",
        "       (100, 0.2, 0.7313109152244331, 0.030982012432067167),\n",
        "       (200, 0.05, 0.7464549810488115, 0.02362311554582992),\n",
        "       (200, 0.2, 0.7227964406586991, 0.03122817136748103),\n",
        "       (200, 0.15, 0.7302948221476556, 0.022121613956797844),\n",
        "       (100, 0.2, 0.7350106410023884, 0.025486111699397178),\n",
        "       (100, 0.15, 0.747730654722492, 0.02391522805581877),\n",
        "       (100, 0.15, 0.747730654722492, 0.02391522805581877),\n",
        "       (100, 0.15, 0.747730654722492, 0.02391522805581877),\n",
        "       (100, 0.1, 0.7556521116014455, 0.019227055615267972),\n",
        "       (100, 0.2, 0.7359565366583567, 0.024450730630498005),\n",
        "       (100, 0.05, 0.7602270697780146, 0.022768844893878756),\n",
        "       (100, 0.15, 0.7428202376421539, 0.016161633766648146),\n",
        "       (100, 0.2, 0.7385281593445782, 0.017522651447887724),\n",
        "       (100, 0.05, 0.7602270697780146, 0.022768844893878756),\n",
        "       (100, 0.1, 0.751680638044475, 0.021066927484795685),\n",
        "       (200, 0.2, 0.7257932935918175, 0.018086240754358055),\n",
        "       (200, 0.1, 0.7490298851951164, 0.015320048220530184),\n",
        "       (100, 0.1, 0.7641166673015212, 0.018774057243218293),\n",
        "       (100, 0.1, 0.7641166673015212, 0.018774057243218293),\n",
        "       (100, 0.1, 0.7641166673015212, 0.018774057243218293),\n",
        "       (100, 0.1, 0.7634019559789972, 0.019265104564125293),\n",
        "       (100, 0.1, 0.7634019559789972, 0.019265104564125293),\n",
        "       (200, 0.1, 0.7355471663906844, 0.022635223689894634),\n",
        "       (100, 0.2, 0.7391184732126602, 0.026833185679066347),\n",
        "       (100, 0.15, 0.7457694638214347, 0.021062845806859975),\n",
        "       (200, 0.2, 0.7327988733180124, 0.02638808464244657),\n",
        "       (200, 0.1, 0.7351838258588206, 0.02215972705856457),\n",
        "       (100, 0.15, 0.7429331597010416, 0.01928411614400151),\n",
        "       (200, 0.15, 0.7327690804190476, 0.012133950746907629),\n",
        "       (100, 0.15, 0.741848402489663, 0.005313319508545013),\n",
        "       (200, 0.15, 0.7327690804190476, 0.012133950746907629),\n",
        "       (200, 0.05, 0.7472289942556177, 0.014820355217942942),\n",
        "       (100, 0.15, 0.7462493134674864, 0.005302101623376721),\n",
        "       (100, 0.1, 0.7496071075881524, 0.015575587263359779),\n",
        "       (100, 0.15, 0.7317932285478567, 0.02028498321151736),\n",
        "       (100, 0.1, 0.7490510064922873, 0.02133957435838522),\n",
        "       (100, 0.05, 0.7548343780197282, 0.024544221962606777),\n",
        "       (200, 0.2, 0.7200049155672174, 0.008045530798294917),\n",
        "       (200, 0.15, 0.7165815674490008, 0.017433564829325107),\n",
        "       (200, 0.1, 0.7331443365455691, 0.022283949635106107),\n",
        "       (200, 0.1, 0.7509835396152326, 0.019931926686464832),\n",
        "       (200, 0.05, 0.7623528085266108, 0.014943486200785375),\n",
        "       (100, 0.05, 0.764584710009081, 0.018351914694083985),\n",
        "       (100, 0.15, 0.7465859760761718, 0.012800175891922163),\n",
        "       (200, 0.05, 0.7624489885162286, 0.014926523413280015),\n",
        "       (100, 0.2, 0.7440312579669143, 0.01418242673069456),\n",
        "       (200, 0.15, 0.7344596521243227, 0.02870886027990451),\n",
        "       (200, 0.1, 0.7390362132877103, 0.023033893593779595),\n",
        "       (100, 0.2, 0.7384587966923295, 0.03246023737048928),\n",
        "       (100, 0.15, 0.7479612204163102, 0.021711791016882503),\n",
        "       (200, 0.05, 0.7512029512403764, 0.023986138924264027),\n",
        "       (200, 0.1, 0.7388330481893356, 0.023539591754086327),\n",
        "       (100, 0.1, 0.7480489292776306, 0.01304841589586872),\n",
        "       (200, 0.15, 0.7256124924621705, 0.010163748596503562),\n",
        "       (200, 0.2, 0.7207672458524409, 0.01068823514369742),\n",
        "       (200, 0.05, 0.7478438301989986, 0.014672627739909416),\n",
        "       (100, 0.2, 0.7313096890908325, 0.010821688852616442),\n",
        "       (200, 0.2, 0.7203921073667382, 0.012072947440503697),\n",
        "       (200, 0.1, 0.7408290561733676, 0.01829970685421319),\n",
        "       (100, 0.1, 0.7494582264043341, 0.021625055883254814),\n",
        "       (100, 0.15, 0.7458850156829199, 0.02049684176592534),\n",
        "       (200, 0.1, 0.7408290561733676, 0.01829970685421319),\n",
        "       (100, 0.2, 0.7349729113202167, 0.019378196540489424),\n",
        "       (200, 0.2, 0.7278977758768178, 0.017446994597894283),\n",
        "       (100, 0.2, 0.736638671502195, 0.019233093181428535),\n",
        "       (100, 0.05, 0.7648194099807003, 0.019075443344593452),\n",
        "       (100, 0.2, 0.736638671502195, 0.019233093181428535),\n",
        "       (100, 0.15, 0.7431408312301612, 0.015511821605535736),\n",
        "       (100, 0.05, 0.765066841989919, 0.019130460280227943),\n",
        "       (200, 0.1, 0.7449576891264237, 0.022747498992687368),\n",
        "       (100, 0.15, 0.7348319913140395, 0.030526528813740603),\n",
        "       (100, 0.05, 0.7537789495597057, 0.027842158249936348),\n",
        "       (100, 0.1, 0.746934899454371, 0.024235789637981286),\n",
        "       (200, 0.2, 0.7144905802837963, 0.0149578605372068),\n",
        "       (100, 0.1, 0.746940886152216, 0.02429547255742783),\n",
        "       (200, 0.15, 0.7248570514060816, 0.02300787660244756),\n",
        "       (200, 0.1, 0.7515635675416211, 0.018552422188071484),\n",
        "       (200, 0.2, 0.7315611512032415, 0.011917131877210654),\n",
        "       (200, 0.05, 0.7565034225403907, 0.019814422874268916),\n",
        "       (200, 0.2, 0.7315611512032415, 0.011917131877210654),\n",
        "       (100, 0.05, 0.7649385186126434, 0.023729570118974128),\n",
        "       (100, 0.05, 0.7649385186126434, 0.023729570118974128)], \n",
        "      dtype=[('n_estimators', '<i8'), ('learning_rate', '<f8'), ('mean_validation_score', '<f8'), ('std', '<f8')])"
       ]
      }
     ],
     "prompt_number": 57
    },
    {
     "cell_type": "code",
     "collapsed": false,
     "input": [
      "reload(ms)"
     ],
     "language": "python",
     "metadata": {},
     "outputs": [
      {
       "metadata": {},
       "output_type": "pyout",
       "prompt_number": 72,
       "text": [
        "<module 'MSPred' from 'MSPred.py'>"
       ]
      }
     ],
     "prompt_number": 72
    },
    {
     "cell_type": "code",
     "collapsed": false,
     "input": [
      "def testAlgo(clf, X, y, clfName, featureNames, opt = False, param_dict = None, opt_metric = 'roc_auc', n_iter = 5, folds = 10, times = 10,  rs = 0):\n",
      "    '''An algorithm that output the perdicted y and real y'''\n",
      "    y_true = []\n",
      "    y_pred = []\n",
      "    grids_score = []\n",
      "    imp = []\n",
      "    rs = [np.random.randint(1,1000) for i in xrange(times)] if rs == 0 else rs\n",
      "    for i in range(0, times):\n",
      "        print \"\\n###### \\niteration of testAlgo number \" + str(i+1) + \" for \" + clfName+ \"\\n###\"\n",
      "        cv = StratifiedKFold(ly, n_folds = folds, shuffle = True, random_state = rs[i])\n",
      "        for train_index, test_index in cv:\n",
      "            impr_clf, grids_score0, imp0 = fitAlgo(clf, X[train_index], y[train_index], opt, param_dict, opt_metric, n_iter)\n",
      "            grids_score += grids_score0\n",
      "            imp.append(imp0)\n",
      "            if (clfName != \"LinearRegression\"):\n",
      "                proba = impr_clf.predict_proba(X[test_index])\n",
      "                y_pred0 = proba[:,1]\n",
      "            else:\n",
      "                proba = impr_clf.predict(X[test_index])\n",
      "                y_pred0 = proba\n",
      "            y_true0 = y[test_index]\n",
      "            y_pred.append(y_pred0)\n",
      "            y_true.append(y_true0)\n",
      "    # Only rearange format if grids is not []\n",
      "    if grids_score !=[]:\n",
      "        grids2 = grids_score\n",
      "\t\t# stds = map(lambda x: x.__repr__().split(',')[1], grids)\n",
      "        fields = grids2[0][0].keys()+list(grids2[0]._fields)\n",
      "        fields.remove('parameters')\n",
      "        fields.remove('cv_validation_scores')\n",
      "        fields.append('std')\n",
      "        grids2 = map(lambda x: [x[0].values()+[x[2].mean(),x[2].std()]],grids2)\n",
      "        datatype = [(fields[i], np.result_type(grids2[0][i]) if not isinstance(grids2[0][i], str) else '|S14') for i in range(0, len(fields))]\n",
      "        grids_score = np.array(grids2, datatype)\n",
      "    else:\n",
      "        grids_score = np.array([])\n",
      "    if (clfName == 'RandomForest') & opt:\n",
      "    \timp = np.vstack(imp)\n",
      "    \timp = imp.view(dtype=[(i, 'float64') for i in featureNames]).reshape(len(imp),)\n",
      "    return y_pred, y_true, grids_score, imp"
     ],
     "language": "python",
     "metadata": {},
     "outputs": [],
     "prompt_number": 65
    },
    {
     "cell_type": "code",
     "collapsed": false,
     "input": [
      "ms.plotGridPref(grids, clfName, obj)"
     ],
     "language": "python",
     "metadata": {},
     "outputs": [
      {
       "ename": "NameError",
       "evalue": "name 'ms' is not defined",
       "output_type": "pyerr",
       "traceback": [
        "\u001b[0;31m---------------------------------------------------------------------------\u001b[0m\n\u001b[0;31mNameError\u001b[0m                                 Traceback (most recent call last)",
        "\u001b[0;32m<ipython-input-1-12eeeccb71b1>\u001b[0m in \u001b[0;36m<module>\u001b[0;34m()\u001b[0m\n\u001b[0;32m----> 1\u001b[0;31m \u001b[0mms\u001b[0m\u001b[0;34m.\u001b[0m\u001b[0mplotGridPref\u001b[0m\u001b[0;34m(\u001b[0m\u001b[0mgrids\u001b[0m\u001b[0;34m,\u001b[0m \u001b[0mclfName\u001b[0m\u001b[0;34m,\u001b[0m \u001b[0mobj\u001b[0m\u001b[0;34m)\u001b[0m\u001b[0;34m\u001b[0m\u001b[0m\n\u001b[0m",
        "\u001b[0;31mNameError\u001b[0m: name 'ms' is not defined"
       ]
      }
     ],
     "prompt_number": 1
    },
    {
     "cell_type": "code",
     "collapsed": false,
     "input": [
      "mean_fpr, mean_tpr, mean_auc = ms.plot_roc(y_pred, y_true, clfName, obj, opt)"
     ],
     "language": "python",
     "metadata": {},
     "outputs": [
      {
       "output_type": "stream",
       "stream": "stdout",
       "text": [
        "ROC AUC: 0.77\n",
        "GBD\n"
       ]
      }
     ],
     "prompt_number": 53
    },
    {
     "cell_type": "code",
     "collapsed": false,
     "input": [
      "print(inspect.g)"
     ],
     "language": "python",
     "metadata": {},
     "outputs": [],
     "prompt_number": 28
    },
    {
     "cell_type": "heading",
     "level": 2,
     "metadata": {},
     "source": [
      "Random checks"
     ]
    },
    {
     "cell_type": "code",
     "collapsed": false,
     "input": [
      "a = np.array([[1,2,4],[4,5,6]])\n",
      "b = np.array([[5,6], [7,8], [9,10]])\n",
      "np.concatenate((a,np.transpose(b)), axis = 1)\n"
     ],
     "language": "python",
     "metadata": {},
     "outputs": [
      {
       "metadata": {},
       "output_type": "pyout",
       "prompt_number": 22,
       "text": [
        "array([[ 1,  2,  4,  5,  7,  9],\n",
        "       [ 4,  5,  6,  6,  8, 10]])"
       ]
      }
     ],
     "prompt_number": 22
    },
    {
     "cell_type": "code",
     "collapsed": false,
     "input": [
      "[[ch for ch in word] for word in (\"apple\", \"banana\", \"pear\", \"the\", \"hello\")]"
     ],
     "language": "python",
     "metadata": {},
     "outputs": [
      {
       "metadata": {},
       "output_type": "pyout",
       "prompt_number": 23,
       "text": [
        "[['a', 'p', 'p', 'l', 'e'],\n",
        " ['b', 'a', 'n', 'a', 'n', 'a'],\n",
        " ['p', 'e', 'a', 'r'],\n",
        " ['t', 'h', 'e'],\n",
        " ['h', 'e', 'l', 'l', 'o']]"
       ]
      }
     ],
     "prompt_number": 23
    },
    {
     "cell_type": "code",
     "collapsed": false,
     "input": [
      "n_CV = 10; n_folds = 10\n",
      "table = [np.column_stack((y_pred[i_CV*n_folds + i_fold], [i_CV]*len(y_pred[i_CV*n_folds + i_fold]), [i_fold]*len(y_pred[i_CV*n_folds + i_fold]))) for i_CV in range(n_CV) for i_fold in range(n_folds)]\n",
      "table[0:2]\n",
      "np.vstack(table)"
     ],
     "language": "python",
     "metadata": {},
     "outputs": [
      {
       "metadata": {},
       "output_type": "pyout",
       "prompt_number": 34,
       "text": [
        "array([[ 0.28760015,  0.        ,  0.        ],\n",
        "       [ 0.13243668,  0.        ,  0.        ],\n",
        "       [ 0.06721619,  0.        ,  0.        ],\n",
        "       ..., \n",
        "       [ 0.10713303,  9.        ,  9.        ],\n",
        "       [ 0.22207295,  9.        ,  9.        ],\n",
        "       [ 0.10089316,  9.        ,  9.        ]])"
       ]
      }
     ],
     "prompt_number": 34
    },
    {
     "cell_type": "code",
     "collapsed": false,
     "input": [
      "def getTableOneLinerForFun(y_pred, y_true, n_CV, n_folds = 10):\n",
      "    return np.vstack([np.column_stack((y_pred[i_CV*n_folds + i_fold], y_true[i_CV*n_folds + i_fold], [i_CV]*len(y_pred[i_CV*n_folds + i_fold]), [i_fold]*len(y_pred[i_CV*n_folds + i_fold]))) for i_CV in range(n_CV) for i_fold in range(n_folds)])\n",
      "\n",
      "def getTable(y_pred, y_true, n_CV, n_folds = 10): #Cleaner\n",
      "    res = []\n",
      "    j = 0\n",
      "    for i_CV in range(n_CV) :\n",
      "        for i_fold in range(n_folds):\n",
      "            index_i = i_CV*n_folds + i_fold\n",
      "            y_pred_i = y_pred[index_i]\n",
      "            y_true_i = y_true[index_i]\n",
      "            l_i = len(y_pred_i)\n",
      "            res.append(np.column_stack((y_pred_i, y_true_i, [i_CV]*l_i, [i_fold]*l_i)))\n",
      "            j += 1\n",
      "\n",
      "    return np.vstack(res)\n",
      "\n",
      "table = getTable(y_pred, y_true, 10, 10)\n",
      "table2 = getTableOneLinerForFun(y_pred, y_true, 10, 10)\n",
      "\n",
      "np.array_equal(table,table2)\n",
      "\n"
     ],
     "language": "python",
     "metadata": {},
     "outputs": [
      {
       "metadata": {},
       "output_type": "pyout",
       "prompt_number": 48,
       "text": [
        "True"
       ]
      }
     ],
     "prompt_number": 48
    },
    {
     "cell_type": "code",
     "collapsed": false,
     "input": [
      "table2[1:10,]"
     ],
     "language": "python",
     "metadata": {},
     "outputs": [
      {
       "metadata": {},
       "output_type": "pyout",
       "prompt_number": 47,
       "text": [
        "array([[ 0.13243668,  0.        ,  0.        ],\n",
        "       [ 0.06721619,  0.        ,  0.        ],\n",
        "       [ 0.30431776,  0.        ,  0.        ],\n",
        "       [ 0.1292305 ,  0.        ,  0.        ],\n",
        "       [ 0.55932939,  0.        ,  0.        ],\n",
        "       [ 0.13129594,  0.        ,  0.        ],\n",
        "       [ 0.57964151,  0.        ,  0.        ],\n",
        "       [ 0.0323985 ,  0.        ,  0.        ],\n",
        "       [ 0.7286636 ,  0.        ,  0.        ]])"
       ]
      }
     ],
     "prompt_number": 47
    },
    {
     "cell_type": "code",
     "collapsed": false,
     "input": [
      "grids_score0"
     ],
     "language": "python",
     "metadata": {},
     "outputs": [
      {
       "metadata": {},
       "output_type": "pyout",
       "prompt_number": 53,
       "text": [
        "[mean: 0.74741, std: 0.01914, params: {'n_estimators': 100, 'learning_rate': 0.15},\n",
        " mean: 0.75703, std: 0.02049, params: {'n_estimators': 100, 'learning_rate': 0.1},\n",
        " mean: 0.73617, std: 0.01348, params: {'n_estimators': 100, 'learning_rate': 0.2},\n",
        " mean: 0.76433, std: 0.02188, params: {'n_estimators': 100, 'learning_rate': 0.05},\n",
        " mean: 0.76475, std: 0.02221, params: {'n_estimators': 100, 'learning_rate': 0.05},\n",
        " mean: 0.75719, std: 0.02212, params: {'n_estimators': 200, 'learning_rate': 0.05},\n",
        " mean: 0.76475, std: 0.02221, params: {'n_estimators': 100, 'learning_rate': 0.05},\n",
        " mean: 0.76475, std: 0.02221, params: {'n_estimators': 100, 'learning_rate': 0.05},\n",
        " mean: 0.76368, std: 0.02153, params: {'n_estimators': 100, 'learning_rate': 0.05},\n",
        " mean: 0.74711, std: 0.01954, params: {'n_estimators': 100, 'learning_rate': 0.15},\n",
        " mean: 0.75645, std: 0.01970, params: {'n_estimators': 100, 'learning_rate': 0.1},\n",
        " mean: 0.73814, std: 0.01257, params: {'n_estimators': 100, 'learning_rate': 0.2},\n",
        " mean: 0.74055, std: 0.01693, params: {'n_estimators': 200, 'learning_rate': 0.1},\n",
        " mean: 0.73814, std: 0.01257, params: {'n_estimators': 100, 'learning_rate': 0.2},\n",
        " mean: 0.74621, std: 0.01901, params: {'n_estimators': 100, 'learning_rate': 0.15},\n",
        " mean: 0.75699, std: 0.02258, params: {'n_estimators': 200, 'learning_rate': 0.05},\n",
        " mean: 0.75699, std: 0.02258, params: {'n_estimators': 200, 'learning_rate': 0.05},\n",
        " mean: 0.72821, std: 0.01606, params: {'n_estimators': 200, 'learning_rate': 0.15},\n",
        " mean: 0.76407, std: 0.02177, params: {'n_estimators': 100, 'learning_rate': 0.05},\n",
        " mean: 0.75631, std: 0.01976, params: {'n_estimators': 100, 'learning_rate': 0.1},\n",
        " mean: 0.74288, std: 0.02034, params: {'n_estimators': 200, 'learning_rate': 0.1},\n",
        " mean: 0.75631, std: 0.01976, params: {'n_estimators': 100, 'learning_rate': 0.1},\n",
        " mean: 0.75631, std: 0.01976, params: {'n_estimators': 100, 'learning_rate': 0.1}]"
       ]
      }
     ],
     "prompt_number": 53
    },
    {
     "cell_type": "code",
     "collapsed": false,
     "input": [
      "\n",
      "\n",
      "\n"
     ],
     "language": "python",
     "metadata": {},
     "outputs": [
      {
       "metadata": {},
       "output_type": "pyout",
       "prompt_number": 15,
       "text": [
        "[(243,),\n",
        " (243,),\n",
        " (243,),\n",
        " (242,),\n",
        " (242,),\n",
        " (242,),\n",
        " (242,),\n",
        " (242,),\n",
        " (242,),\n",
        " (242,),\n",
        " (243,),\n",
        " (243,),\n",
        " (243,),\n",
        " (242,),\n",
        " (242,),\n",
        " (242,),\n",
        " (242,),\n",
        " (242,),\n",
        " (242,),\n",
        " (242,),\n",
        " (243,),\n",
        " (243,),\n",
        " (243,),\n",
        " (242,),\n",
        " (242,),\n",
        " (242,),\n",
        " (242,),\n",
        " (242,),\n",
        " (242,),\n",
        " (242,),\n",
        " (243,),\n",
        " (243,),\n",
        " (243,),\n",
        " (242,),\n",
        " (242,),\n",
        " (242,),\n",
        " (242,),\n",
        " (242,),\n",
        " (242,),\n",
        " (242,),\n",
        " (243,),\n",
        " (243,),\n",
        " (243,),\n",
        " (242,),\n",
        " (242,),\n",
        " (242,),\n",
        " (242,),\n",
        " (242,),\n",
        " (242,),\n",
        " (242,),\n",
        " (243,),\n",
        " (243,),\n",
        " (243,),\n",
        " (242,),\n",
        " (242,),\n",
        " (242,),\n",
        " (242,),\n",
        " (242,),\n",
        " (242,),\n",
        " (242,),\n",
        " (243,),\n",
        " (243,),\n",
        " (243,),\n",
        " (242,),\n",
        " (242,),\n",
        " (242,),\n",
        " (242,),\n",
        " (242,),\n",
        " (242,),\n",
        " (242,),\n",
        " (243,),\n",
        " (243,),\n",
        " (243,),\n",
        " (242,),\n",
        " (242,),\n",
        " (242,),\n",
        " (242,),\n",
        " (242,),\n",
        " (242,),\n",
        " (242,),\n",
        " (243,),\n",
        " (243,),\n",
        " (243,),\n",
        " (242,),\n",
        " (242,),\n",
        " (242,),\n",
        " (242,),\n",
        " (242,),\n",
        " (242,),\n",
        " (242,),\n",
        " (243,),\n",
        " (243,),\n",
        " (243,),\n",
        " (242,),\n",
        " (242,),\n",
        " (242,),\n",
        " (242,),\n",
        " (242,),\n",
        " (242,),\n",
        " (242,)]"
       ]
      }
     ],
     "prompt_number": 15
    },
    {
     "cell_type": "code",
     "collapsed": false,
     "input": [],
     "language": "python",
     "metadata": {},
     "outputs": [],
     "prompt_number": 54
    },
    {
     "cell_type": "code",
     "collapsed": false,
     "input": [],
     "language": "python",
     "metadata": {},
     "outputs": [],
     "prompt_number": 54
    },
    {
     "cell_type": "code",
     "collapsed": false,
     "input": [
      "print(inspect.getsource(ms.testAlgo))"
     ],
     "language": "python",
     "metadata": {},
     "outputs": [
      {
       "output_type": "stream",
       "stream": "stdout",
       "text": [
        "def testAlgo(clf, X, y, clfName, opt = False, param_dict = None, opt_metric = 'roc_auc', n_iter = 5, folds = 10, times = 10):\n",
        "    '''An algorithm that output the perdicted y and real y'''\n",
        "    y_true = []\n",
        "    y_pred = []\n",
        "    grids_score = []\n",
        "    imp = []\n",
        "    for i in range(0, times):\n",
        "    \tprint str(i) +\" iteration of testAlgo\"\n",
        "        rs = np.random.randint(1,1000)\n",
        "        cv = KFold(len(y), n_folds = folds, shuffle = True, random_state = rs)\n",
        "        for train_index, test_index in cv:\n",
        "            impr_clf, grids_score0, imp0 = fitAlgo(clf, X[train_index], y[train_index], opt, param_dict, opt_metric, n_iter)\n",
        "            grids_score += grids_score0\n",
        "            imp.append(imp0)\n",
        "            if (clfName != \"LinearRegression\"):\n",
        "                proba = impr_clf.predict_proba(X[test_index])\n",
        "                y_pred0 = proba[:,1]\n",
        "            else:\n",
        "                proba = impr_clf.predict(X[test_index])\n",
        "                y_pred0 = proba\n",
        "            y_true0 = y[test_index]\n",
        "            y_pred.append(y_pred0)\n",
        "            y_true.append(y_true0)\n",
        "    # Only rearange format if grids is not []\n",
        "\tif grids_score !=[]:\n",
        "\t\tgrids2 = grids_score\n",
        "\t\t# stds = map(lambda x: x.__repr__().split(',')[1], grids)\n",
        "\t\tfields = grids[0][0].keys()+list(grids[0]._fields)\n",
        "\t\tfields.remove('parameters')\n",
        "\t\tfields.remove('cv_validation_scores')\n",
        "\t\tfields.append('std')\n",
        "\t\tgrids2 = map(lambda x: tuple(x[0].values()+[x[2].mean(),x[2].std()]),grids2)\n",
        "\t\tdatatype = [(fields[i], np.result_type(grids2[0][i]) if not isinstance(grids2[0][i], str) else '|S14') for i in range(0, len(fields))]\n",
        "\t\tgrids_score = np.array(grids2, datatype)\n",
        "\telse:\n",
        "\t\tgrids_score = np.array([])\n",
        "    return y_pred, y_true, grids_score, imp\n",
        "\n"
       ]
      }
     ],
     "prompt_number": 88
    },
    {
     "cell_type": "code",
     "collapsed": false,
     "input": [],
     "language": "python",
     "metadata": {},
     "outputs": []
    }
   ],
   "metadata": {}
  }
 ]
}