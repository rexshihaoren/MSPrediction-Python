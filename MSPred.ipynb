{
 "metadata": {
  "name": "",
  "signature": "sha256:0e4efc924a7df8dd17ed73684c324eb9892f27274a3b13d09ccf785806be8712"
 },
 "nbformat": 3,
 "nbformat_minor": 0,
 "worksheets": [
  {
   "cells": [
    {
     "cell_type": "heading",
     "level": 1,
     "metadata": {},
     "source": [
      "MSPred Notebook"
     ]
    },
    {
     "cell_type": "code",
     "collapsed": false,
     "input": [
      "import MSPred as ms\n",
      "import sklearn as sk\n",
      "import numpy as np\n",
      "import sys\n",
      "import os\n",
      "import matplotlib.pyplot as plt\n",
      "import pylab as pl\n",
      "import h5py as hp\n"
     ],
     "language": "python",
     "metadata": {},
     "outputs": [],
     "prompt_number": 1
    },
    {
     "cell_type": "heading",
     "level": 2,
     "metadata": {},
     "source": [
      "Preparing the data"
     ]
    },
    {
     "cell_type": "code",
     "collapsed": false,
     "input": [
      "data_path = './data/predData.h5'\n",
      "f = hp.File(data_path, 'r')\n",
      "objs = [str(i) for i in f.keys()]\n",
      "f.close()\n",
      "print objs"
     ],
     "language": "python",
     "metadata": {},
     "outputs": [
      {
       "output_type": "stream",
       "stream": "stdout",
       "text": [
        "['Core', 'Core_Imp', 'CorewFam', 'CorewStatic_Cut', 'CorewStatic_Imp', 'CorewStaticwExam_Cut', 'CorewStaticwExam_Imp', 'CorewStaticwExamwMRI_Imp', 'CorewStaticwExamwMRIwoT2L_CutVDL_Imp', 'CorewStaticwExamwMRIwoT2L_Imp', 'CorewStaticwExamwMRIwoT2LwoVDL_Imp', 'CorewStaticwExamwMRIwoVDL_CutT2L_Imp', 'CorewStaticwExamwMRIwoVDL_Imp', 'CorewStaticwExamwoVDL', 'CorewStaticwExamwoVDL_Cut', 'CorewStaticwFam', 'CorewStaticwGenetics_Cut', 'CorewStaticwGenetics_Imp', 'CorewStaticwMRI_Imp', 'CorewStaticwTreatment', 'CorewStaticwoOW', 'CorewmodFam', 'CorewoRate', 'EDSS', 'EDSSwEDSSRate']\n"
       ]
      }
     ],
     "prompt_number": 2
    },
    {
     "cell_type": "code",
     "collapsed": false,
     "input": [
      "obj = \"Core\"\n",
      "target = 'ModEDSS'"
     ],
     "language": "python",
     "metadata": {},
     "outputs": [],
     "prompt_number": 3
    },
    {
     "cell_type": "code",
     "collapsed": false,
     "input": [
      "global featureNames\n",
      "X, y, featureNames = ms.pred_prep(data_path, obj, target)\n",
      "global num_features\n",
      "try:\n",
      "    num_features = X.shape[1]\n",
      "except IndexError:\n",
      "    X = X.reshape(X.shape[0], 1)\n",
      "    num_features = 1"
     ],
     "language": "python",
     "metadata": {},
     "outputs": [],
     "prompt_number": 4
    },
    {
     "cell_type": "heading",
     "level": 2,
     "metadata": {},
     "source": [
      "Preparing the classifier and parameters"
     ]
    },
    {
     "cell_type": "code",
     "collapsed": false,
     "input": [
      "clf = sk.ensemble.GradientBoostingClassifier()\n",
      "gbm_params = {\n",
      "\"learning_rate\" : [0.05, 0.1, 0.15, 0.2],\n",
      "\"n_estimators\" : range(100, 300, 100)\n",
      "}\n",
      "clfName = \"GBD\"\n",
      "opt = True"
     ],
     "language": "python",
     "metadata": {},
     "outputs": [],
     "prompt_number": 5
    },
    {
     "cell_type": "heading",
     "level": 2,
     "metadata": {},
     "source": [
      "Running the computations"
     ]
    },
    {
     "cell_type": "code",
     "collapsed": false,
     "input": [
      "y_pred, y_true, grids, imp = ms.testAlgo(clf, X, y, clfName, opt=opt, n_iter = 40, param_dict=gbm_params)"
     ],
     "language": "python",
     "metadata": {},
     "outputs": [
      {
       "ename": "KeyError",
       "evalue": "'GBD'",
       "output_type": "pyerr",
       "traceback": [
        "\u001b[0;31m---------------------------------------------------------------------------\u001b[0m\n\u001b[0;31mKeyError\u001b[0m                                  Traceback (most recent call last)",
        "\u001b[0;32m<ipython-input-62-9982921ac85a>\u001b[0m in \u001b[0;36m<module>\u001b[0;34m()\u001b[0m\n\u001b[0;32m----> 1\u001b[0;31m \u001b[0my_pred\u001b[0m\u001b[0;34m,\u001b[0m \u001b[0my_true\u001b[0m\u001b[0;34m,\u001b[0m \u001b[0mgrids\u001b[0m\u001b[0;34m,\u001b[0m \u001b[0mimp\u001b[0m \u001b[0;34m=\u001b[0m \u001b[0mms\u001b[0m\u001b[0;34m.\u001b[0m\u001b[0mtestAlgo\u001b[0m\u001b[0;34m(\u001b[0m\u001b[0mclf\u001b[0m\u001b[0;34m,\u001b[0m \u001b[0mX\u001b[0m\u001b[0;34m,\u001b[0m \u001b[0my\u001b[0m\u001b[0;34m,\u001b[0m \u001b[0mclfName\u001b[0m\u001b[0;34m,\u001b[0m \u001b[0mopt\u001b[0m\u001b[0;34m=\u001b[0m\u001b[0mopt\u001b[0m\u001b[0;34m,\u001b[0m \u001b[0mn_iter\u001b[0m \u001b[0;34m=\u001b[0m \u001b[0;36m40\u001b[0m\u001b[0;34m,\u001b[0m \u001b[0mparam_dict\u001b[0m\u001b[0;34m=\u001b[0m\u001b[0mgbm_params\u001b[0m\u001b[0;34m)\u001b[0m\u001b[0;34m\u001b[0m\u001b[0m\n\u001b[0m",
        "\u001b[0;32m/media/FD/BIOSCREEN/REX/MSPrediction-Python/MSPred.py\u001b[0m in \u001b[0;36mtestAlgo\u001b[0;34m(clf, X, y, clfName, opt, param_dict, opt_metric, n_iter, folds, times)\u001b[0m\n\u001b[1;32m     30\u001b[0m     \u001b[0my_pred\u001b[0m \u001b[0;34m=\u001b[0m \u001b[0;34m[\u001b[0m\u001b[0;34m]\u001b[0m\u001b[0;34m\u001b[0m\u001b[0m\n\u001b[1;32m     31\u001b[0m     \u001b[0mgrids_score\u001b[0m \u001b[0;34m=\u001b[0m \u001b[0;34m[\u001b[0m\u001b[0;34m]\u001b[0m\u001b[0;34m\u001b[0m\u001b[0m\n\u001b[0;32m---> 32\u001b[0;31m     \u001b[0mimp\u001b[0m \u001b[0;34m=\u001b[0m \u001b[0;34m[\u001b[0m\u001b[0;34m]\u001b[0m\u001b[0;34m\u001b[0m\u001b[0m\n\u001b[0m\u001b[1;32m     33\u001b[0m     \u001b[0;32mfor\u001b[0m \u001b[0mi\u001b[0m \u001b[0;32min\u001b[0m \u001b[0mrange\u001b[0m\u001b[0;34m(\u001b[0m\u001b[0;36m0\u001b[0m\u001b[0;34m,\u001b[0m \u001b[0mtimes\u001b[0m\u001b[0;34m)\u001b[0m\u001b[0;34m:\u001b[0m\u001b[0;34m\u001b[0m\u001b[0m\n\u001b[1;32m     34\u001b[0m         \u001b[0;32mprint\u001b[0m \u001b[0mstr\u001b[0m\u001b[0;34m(\u001b[0m\u001b[0mi\u001b[0m\u001b[0;34m)\u001b[0m \u001b[0;34m+\u001b[0m\u001b[0;34m\" iteration of testAlgo\"\u001b[0m\u001b[0;34m\u001b[0m\u001b[0m\n",
        "\u001b[0;31mKeyError\u001b[0m: 'GBD'"
       ]
      }
     ],
     "prompt_number": 62
    },
    {
     "cell_type": "code",
     "collapsed": false,
     "input": [
      "mean_fpr, mean_tpr, mean_auc = ms.plot_roc(y_pred, y_true, clfName, obj, opt)"
     ],
     "language": "python",
     "metadata": {},
     "outputs": [
      {
       "output_type": "stream",
       "stream": "stdout",
       "text": [
        "ROC AUC: 0.77\n",
        "GBD\n"
       ]
      }
     ],
     "prompt_number": 53
    },
    {
     "cell_type": "heading",
     "level": 2,
     "metadata": {},
     "source": []
    }
   ],
   "metadata": {}
  }
 ]
}